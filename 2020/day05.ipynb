{
 "cells": [
  {
   "cell_type": "code",
   "execution_count": null,
   "metadata": {},
   "outputs": [],
   "source": [
    "with open(\"day05.input\") as file:\n",
    "    seat_strings = [line.strip() for line in file]"
   ]
  },
  {
   "cell_type": "code",
   "execution_count": null,
   "metadata": {},
   "outputs": [],
   "source": [
    "def find_row_col(seat_string: str):\n",
    "    min_row, max_row = 0, 127\n",
    "    min_col, max_col = 0, 7\n",
    "\n",
    "    for char in seat_string:\n",
    "        row_mean = (min_row + max_row) // 2\n",
    "        col_mean = (min_col + max_col) // 2\n",
    "        if char == \"F\":\n",
    "            max_row = row_mean\n",
    "        elif char == \"B\":\n",
    "            min_row = row_mean + 1\n",
    "        elif char == \"L\":\n",
    "            max_col = col_mean\n",
    "        elif char == \"R\":\n",
    "            min_col = col_mean + 1\n",
    "\n",
    "    return min_row, min_col\n",
    "\n",
    "def seat_id(row, col):\n",
    "    return row * 8 + col"
   ]
  },
  {
   "cell_type": "markdown",
   "metadata": {},
   "source": [
    "# Part 1"
   ]
  },
  {
   "cell_type": "code",
   "execution_count": null,
   "metadata": {},
   "outputs": [],
   "source": [
    "seat_ids = [seat_id(*find_row_col(seat)) for seat in seat_strings]\n",
    "max(seat_ids)"
   ]
  },
  {
   "cell_type": "markdown",
   "metadata": {},
   "source": [
    "# Part 2"
   ]
  },
  {
   "cell_type": "code",
   "execution_count": null,
   "metadata": {},
   "outputs": [],
   "source": [
    "seat_ids.sort()\n",
    "for id1, id2 in zip(seat_ids, seat_ids[1:]):\n",
    "    if id2 - id1 == 2:\n",
    "        break\n",
    "\n",
    "print(\"My seat ID is\", id1 + 1)"
   ]
  },
  {
   "cell_type": "code",
   "execution_count": null,
   "metadata": {},
   "outputs": [],
   "source": []
  }
 ],
 "metadata": {
  "kernelspec": {
   "display_name": "Advent_of_Code",
   "language": "python",
   "name": "advent_of_code"
  },
  "language_info": {
   "codemirror_mode": {
    "name": "ipython",
    "version": 3
   },
   "file_extension": ".py",
   "mimetype": "text/x-python",
   "name": "python",
   "nbconvert_exporter": "python",
   "pygments_lexer": "ipython3",
   "version": "3.9.0"
  },
  "toc": {
   "base_numbering": 1,
   "nav_menu": {},
   "number_sections": true,
   "sideBar": true,
   "skip_h1_title": false,
   "title_cell": "Table of Contents",
   "title_sidebar": "Contents",
   "toc_cell": false,
   "toc_position": {},
   "toc_section_display": true,
   "toc_window_display": false
  }
 },
 "nbformat": 4,
 "nbformat_minor": 4
}
