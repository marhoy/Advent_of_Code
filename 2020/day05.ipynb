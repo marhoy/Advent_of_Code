{
 "cells": [
  {
   "cell_type": "code",
   "execution_count": 1,
   "metadata": {
    "ExecuteTime": {
     "end_time": "2020-12-05T07:55:26.786335Z",
     "start_time": "2020-12-05T07:55:26.779340Z"
    }
   },
   "outputs": [],
   "source": [
    "with open(\"day05.input\") as file:\n",
    "    seat_strings = [line.strip() for line in file]"
   ]
  },
  {
   "cell_type": "code",
   "execution_count": 2,
   "metadata": {
    "ExecuteTime": {
     "end_time": "2020-12-05T07:55:26.812514Z",
     "start_time": "2020-12-05T07:55:26.792428Z"
    }
   },
   "outputs": [],
   "source": [
    "def find_row_col(seat_string: str):\n",
    "    min_row, max_row = 0, 127\n",
    "    min_col, max_col = 0, 7\n",
    "\n",
    "    for char in seat_string:\n",
    "        if char == \"F\":\n",
    "            max_row = (min_row + max_row) // 2\n",
    "        elif char == \"B\":\n",
    "            min_row = (min_row + max_row) // 2 + 1\n",
    "        elif char == \"L\":\n",
    "            max_col = (min_col + max_col) // 2\n",
    "        elif char == \"R\":\n",
    "            min_col = (min_col + max_col) // 2 + 1\n",
    "\n",
    "    return min_row, min_col\n",
    "\n",
    "def seat_id(row, col):\n",
    "    return row * 8 + col"
   ]
  },
  {
   "cell_type": "markdown",
   "metadata": {
    "ExecuteTime": {
     "end_time": "2020-12-05T07:41:26.641848Z",
     "start_time": "2020-12-05T07:41:26.637467Z"
    }
   },
   "source": [
    "# Part 1"
   ]
  },
  {
   "cell_type": "code",
   "execution_count": 3,
   "metadata": {
    "ExecuteTime": {
     "end_time": "2020-12-05T07:55:26.849661Z",
     "start_time": "2020-12-05T07:55:26.825525Z"
    }
   },
   "outputs": [
    {
     "data": {
      "text/plain": [
       "922"
      ]
     },
     "execution_count": 3,
     "metadata": {},
     "output_type": "execute_result"
    }
   ],
   "source": [
    "seat_ids = [seat_id(*find_row_col(seat)) for seat in seat_strings]\n",
    "max(seat_ids)"
   ]
  },
  {
   "cell_type": "markdown",
   "metadata": {},
   "source": [
    "# Part 2"
   ]
  },
  {
   "cell_type": "code",
   "execution_count": 4,
   "metadata": {
    "ExecuteTime": {
     "end_time": "2020-12-05T07:55:26.866053Z",
     "start_time": "2020-12-05T07:55:26.852720Z"
    }
   },
   "outputs": [
    {
     "name": "stdout",
     "output_type": "stream",
     "text": [
      "My seat ID is 747\n"
     ]
    }
   ],
   "source": [
    "seat_ids.sort()\n",
    "for id1, id2 in zip(seat_ids, seat_ids[1:]):\n",
    "    if id2 - id1 == 2:\n",
    "        print(\"My seat ID is\", id1 + 1)"
   ]
  }
 ],
 "metadata": {
  "kernelspec": {
   "display_name": "Advent_of_Code",
   "language": "python",
   "name": "advent_of_code"
  },
  "language_info": {
   "codemirror_mode": {
    "name": "ipython",
    "version": 3
   },
   "file_extension": ".py",
   "mimetype": "text/x-python",
   "name": "python",
   "nbconvert_exporter": "python",
   "pygments_lexer": "ipython3",
   "version": "3.9.0"
  },
  "toc": {
   "base_numbering": 1,
   "nav_menu": {},
   "number_sections": true,
   "sideBar": true,
   "skip_h1_title": false,
   "title_cell": "Table of Contents",
   "title_sidebar": "Contents",
   "toc_cell": false,
   "toc_position": {},
   "toc_section_display": true,
   "toc_window_display": false
  }
 },
 "nbformat": 4,
 "nbformat_minor": 4
}
