{
 "cells": [
  {
   "cell_type": "code",
   "execution_count": null,
   "metadata": {
    "ExecuteTime": {
     "end_time": "2020-12-01T08:44:34.053012Z",
     "start_time": "2020-12-01T08:44:34.038402Z"
    }
   },
   "outputs": [],
   "source": [
    "import math\n",
    "\n",
    "numbers = set()\n",
    "with open(\"day01.input\") as file:\n",
    "    for line in file:\n",
    "        numbers.add(int(line))"
   ]
  },
  {
   "cell_type": "code",
   "execution_count": null,
   "metadata": {
    "ExecuteTime": {
     "end_time": "2020-12-01T08:44:34.063918Z",
     "start_time": "2020-12-01T08:44:34.057901Z"
    }
   },
   "outputs": [],
   "source": [
    "def pair(numbers, total=2020):\n",
    "    for number in numbers:\n",
    "        pal = total - number\n",
    "        if pal in numbers:\n",
    "            return [number, pal]"
   ]
  },
  {
   "cell_type": "markdown",
   "metadata": {},
   "source": [
    "# Part 1"
   ]
  },
  {
   "cell_type": "code",
   "execution_count": null,
   "metadata": {
    "ExecuteTime": {
     "end_time": "2020-12-01T08:44:34.080735Z",
     "start_time": "2020-12-01T08:44:34.067297Z"
    }
   },
   "outputs": [],
   "source": [
    "math.prod(pair(numbers))"
   ]
  },
  {
   "cell_type": "markdown",
   "metadata": {},
   "source": [
    "# Part 2"
   ]
  },
  {
   "cell_type": "code",
   "execution_count": null,
   "metadata": {
    "ExecuteTime": {
     "end_time": "2020-12-01T08:44:34.088555Z",
     "start_time": "2020-12-01T08:44:34.082716Z"
    }
   },
   "outputs": [],
   "source": [
    "for number in numbers:\n",
    "    others = pair(numbers, total = 2020 - number)\n",
    "    if others:\n",
    "        triplet = others + [number]\n",
    "        break\n",
    "        \n",
    "math.prod(triplet)"
   ]
  }
 ],
 "metadata": {
  "kernelspec": {
   "display_name": "Python 3",
   "language": "python",
   "name": "python3"
  },
  "language_info": {
   "codemirror_mode": {
    "name": "ipython",
    "version": 3
   },
   "file_extension": ".py",
   "mimetype": "text/x-python",
   "name": "python",
   "nbconvert_exporter": "python",
   "pygments_lexer": "ipython3",
   "version": "3.8.6"
  },
  "toc": {
   "base_numbering": 1,
   "nav_menu": {},
   "number_sections": true,
   "sideBar": true,
   "skip_h1_title": false,
   "title_cell": "Table of Contents",
   "title_sidebar": "Contents",
   "toc_cell": false,
   "toc_position": {},
   "toc_section_display": true,
   "toc_window_display": false
  }
 },
 "nbformat": 4,
 "nbformat_minor": 4
}
