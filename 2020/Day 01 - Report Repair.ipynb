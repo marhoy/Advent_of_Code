{
 "cells": [
  {
   "cell_type": "code",
   "execution_count": null,
   "metadata": {},
   "outputs": [],
   "source": [
    "from collections import Counter\n",
    "import math\n",
    "\n",
    "with open(\"day01.input\") as file:\n",
    "    numbers = Counter([int(line) for line in file])"
   ]
  },
  {
   "cell_type": "code",
   "execution_count": null,
   "metadata": {},
   "outputs": [],
   "source": [
    "# There is a corner case that we must handle: The input could contain 1010 one time\n",
    "# (which would not be sufficient), or two (or more) times, which would be sufficient.\n",
    "# So we must keep track of not only the numbers, but how many times we have seen them.  \n",
    "\n",
    "def find_pair(numbers, total=2020):\n",
    "    for number in numbers:\n",
    "        pal = total - number\n",
    "        numbers.subtract([number])  # Remove one instance\n",
    "        if numbers[pal] > 0:\n",
    "            return [number, pal]\n",
    "        numbers.update([number])  # Put it back"
   ]
  },
  {
   "cell_type": "markdown",
   "metadata": {},
   "source": [
    "# Part 1"
   ]
  },
  {
   "cell_type": "code",
   "execution_count": null,
   "metadata": {},
   "outputs": [],
   "source": [
    "pair = find_pair(numbers)\n",
    "print(\" + \".join(map(str, pair)), \"=\", sum(pair))\n",
    "print(\" * \".join(map(str, pair)), \"=\", math.prod(pair))"
   ]
  },
  {
   "cell_type": "markdown",
   "metadata": {},
   "source": [
    "# Part 2"
   ]
  },
  {
   "cell_type": "code",
   "execution_count": null,
   "metadata": {},
   "outputs": [],
   "source": [
    "for number in numbers:\n",
    "    others = find_pair(numbers, total = 2020 - number)\n",
    "    if others:\n",
    "        triplet = others + [number]\n",
    "        break\n",
    "\n",
    "print(\" + \".join(map(str, triplet)), \"=\", sum(triplet))\n",
    "print(\" * \".join(map(str, triplet)), \"=\", math.prod(triplet))"
   ]
  }
 ],
 "metadata": {
  "kernelspec": {
   "display_name": "Python 3",
   "language": "python",
   "name": "python3"
  },
  "language_info": {
   "codemirror_mode": {
    "name": "ipython",
    "version": 3
   },
   "file_extension": ".py",
   "mimetype": "text/x-python",
   "name": "python",
   "nbconvert_exporter": "python",
   "pygments_lexer": "ipython3",
   "version": "3.8.6"
  },
  "toc": {
   "base_numbering": 1,
   "nav_menu": {},
   "number_sections": true,
   "sideBar": true,
   "skip_h1_title": false,
   "title_cell": "Table of Contents",
   "title_sidebar": "Contents",
   "toc_cell": false,
   "toc_position": {},
   "toc_section_display": true,
   "toc_window_display": false
  }
 },
 "nbformat": 4,
 "nbformat_minor": 4
}
