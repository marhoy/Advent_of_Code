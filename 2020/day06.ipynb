{
 "cells": [
  {
   "cell_type": "code",
   "execution_count": 1,
   "metadata": {
    "ExecuteTime": {
     "end_time": "2020-12-06T09:11:56.464345Z",
     "start_time": "2020-12-06T09:11:56.456371Z"
    }
   },
   "outputs": [],
   "source": [
    "with open(\"day06.input\") as file:\n",
    "    groups = [group.strip().split(\"\\n\") for group in file.read().split(\"\\n\\n\")]"
   ]
  },
  {
   "cell_type": "code",
   "execution_count": 2,
   "metadata": {
    "ExecuteTime": {
     "end_time": "2020-12-06T09:11:56.498616Z",
     "start_time": "2020-12-06T09:11:56.469873Z"
    }
   },
   "outputs": [
    {
     "data": {
      "text/plain": [
       "[['ymw', 'w', 'wm', 'vsw', 'wm'],\n",
       " ['vs', 'lqn', 'ti', 'uvl'],\n",
       " ['fryuv', 'pngtvuhfr', 'fcbrulv'],\n",
       " ['xhzrepycnwsm', 'iaxfykeblwp'],\n",
       " ['eaqkisdgcojhzw', 'ckhbasd', 'ckdhpasb', 'hcpydabks', 'sckdha'],\n",
       " ['kn', 'nk', 'nuk']]"
      ]
     },
     "execution_count": 2,
     "metadata": {},
     "output_type": "execute_result"
    }
   ],
   "source": [
    "groups[:3] + groups[-3:]"
   ]
  },
  {
   "cell_type": "markdown",
   "metadata": {},
   "source": [
    "# Part 1"
   ]
  },
  {
   "cell_type": "code",
   "execution_count": 3,
   "metadata": {
    "ExecuteTime": {
     "end_time": "2020-12-06T09:11:56.518528Z",
     "start_time": "2020-12-06T09:11:56.509059Z"
    }
   },
   "outputs": [
    {
     "data": {
      "text/plain": [
       "6735"
      ]
     },
     "execution_count": 3,
     "metadata": {},
     "output_type": "execute_result"
    }
   ],
   "source": [
    "import itertools\n",
    "\n",
    "n_yes_per_group = [len(set(itertools.chain.from_iterable(group))) for group in groups]\n",
    "\n",
    "sum(n_yes_per_group)"
   ]
  },
  {
   "cell_type": "markdown",
   "metadata": {},
   "source": [
    "# Part 2"
   ]
  },
  {
   "cell_type": "code",
   "execution_count": 4,
   "metadata": {
    "ExecuteTime": {
     "end_time": "2020-12-06T09:11:56.547161Z",
     "start_time": "2020-12-06T09:11:56.534208Z"
    }
   },
   "outputs": [
    {
     "data": {
      "text/plain": [
       "3221"
      ]
     },
     "execution_count": 4,
     "metadata": {},
     "output_type": "execute_result"
    }
   ],
   "source": [
    "all_yes_per_group = [\n",
    "    len(set.intersection(*[set(person) for person in group]))\n",
    "    for group in groups\n",
    "]\n",
    "\n",
    "sum(all_yes_per_group)"
   ]
  }
 ],
 "metadata": {
  "kernelspec": {
   "display_name": "Python 3",
   "language": "python",
   "name": "python3"
  },
  "language_info": {
   "codemirror_mode": {
    "name": "ipython",
    "version": 3
   },
   "file_extension": ".py",
   "mimetype": "text/x-python",
   "name": "python",
   "nbconvert_exporter": "python",
   "pygments_lexer": "ipython3",
   "version": "3.9.0"
  },
  "toc": {
   "base_numbering": 1,
   "nav_menu": {},
   "number_sections": true,
   "sideBar": true,
   "skip_h1_title": false,
   "title_cell": "Table of Contents",
   "title_sidebar": "Contents",
   "toc_cell": false,
   "toc_position": {},
   "toc_section_display": true,
   "toc_window_display": false
  }
 },
 "nbformat": 4,
 "nbformat_minor": 4
}
