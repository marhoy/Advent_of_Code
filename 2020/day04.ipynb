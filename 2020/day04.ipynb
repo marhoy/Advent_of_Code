{
 "cells": [
  {
   "cell_type": "code",
   "execution_count": 7,
   "metadata": {
    "ExecuteTime": {
     "end_time": "2020-12-04T07:51:03.040226Z",
     "start_time": "2020-12-04T07:51:03.036253Z"
    }
   },
   "outputs": [],
   "source": [
    "import re"
   ]
  },
  {
   "cell_type": "code",
   "execution_count": 8,
   "metadata": {
    "ExecuteTime": {
     "end_time": "2020-12-04T07:51:03.396941Z",
     "start_time": "2020-12-04T07:51:03.386515Z"
    }
   },
   "outputs": [],
   "source": [
    "with open(\"day04.input\") as file:\n",
    "    data = file.read()\n",
    "\n",
    "passports = [dict(re.findall(r\"(\\w+):([\\w#]+)\", item)) for item in re.split(\"\\n\\n\", data)]\n",
    "required_fields = (\"byr\", \"iyr\", \"eyr\", \"hgt\", \"hcl\", \"ecl\", \"pid\")"
   ]
  },
  {
   "cell_type": "code",
   "execution_count": 9,
   "metadata": {
    "ExecuteTime": {
     "end_time": "2020-12-04T07:51:04.319499Z",
     "start_time": "2020-12-04T07:51:04.304105Z"
    }
   },
   "outputs": [
    {
     "data": {
      "text/plain": [
       "[{'hgt': '176cm',\n",
       "  'iyr': '2013',\n",
       "  'hcl': '#fffffd',\n",
       "  'ecl': 'amb',\n",
       "  'byr': '2000',\n",
       "  'eyr': '2034',\n",
       "  'cid': '89',\n",
       "  'pid': '934693255'},\n",
       " {'hcl': '#b5c3db',\n",
       "  'ecl': 'grn',\n",
       "  'hgt': '155cm',\n",
       "  'pid': '#baec97',\n",
       "  'iyr': '2017',\n",
       "  'byr': '1939',\n",
       "  'eyr': '2020'}]"
      ]
     },
     "execution_count": 9,
     "metadata": {},
     "output_type": "execute_result"
    }
   ],
   "source": [
    "passports[:2]"
   ]
  },
  {
   "cell_type": "markdown",
   "metadata": {},
   "source": [
    "# Part 1"
   ]
  },
  {
   "cell_type": "code",
   "execution_count": 10,
   "metadata": {
    "ExecuteTime": {
     "end_time": "2020-12-04T07:51:05.618577Z",
     "start_time": "2020-12-04T07:51:05.605745Z"
    }
   },
   "outputs": [
    {
     "data": {
      "text/plain": [
       "230"
      ]
     },
     "execution_count": 10,
     "metadata": {},
     "output_type": "execute_result"
    }
   ],
   "source": [
    "valid_passports = 0\n",
    "\n",
    "for passport in passports:\n",
    "    for field in required_fields:\n",
    "        if field not in passport.keys():\n",
    "            break\n",
    "    else:\n",
    "        valid_passports += 1\n",
    "\n",
    "valid_passports"
   ]
  },
  {
   "cell_type": "markdown",
   "metadata": {},
   "source": [
    "# Part 2"
   ]
  },
  {
   "cell_type": "code",
   "execution_count": 31,
   "metadata": {
    "ExecuteTime": {
     "end_time": "2020-12-04T08:08:58.361932Z",
     "start_time": "2020-12-04T08:08:58.345210Z"
    }
   },
   "outputs": [],
   "source": [
    "from typing import Literal\n",
    "\n",
    "from pydantic import BaseModel, conint, validator\n",
    "from pydantic.color import Color"
   ]
  },
  {
   "cell_type": "code",
   "execution_count": 29,
   "metadata": {
    "ExecuteTime": {
     "end_time": "2020-12-04T08:08:27.373488Z",
     "start_time": "2020-12-04T08:08:27.368184Z"
    }
   },
   "outputs": [],
   "source": [
    "class Passport(BaseModel):\n",
    "    byr: conint(ge=1920, le=2002)\n",
    "    iyr: conint(ge=2010, le=2020)\n",
    "        \n",
    "    hcl: Color\n",
    "    ecl: Literal[\"amb\", \"blu\", \"brn\", \"gry\", \"grn\", \"hzl\", \"oth\"]\n",
    "    pid: int\n",
    "    \n",
    "    @validator(\"pid\")\n",
    "    def nine_digits_leading_zeros(cls, v)\n",
    "    \n",
    "    "
   ]
  },
  {
   "cell_type": "code",
   "execution_count": 30,
   "metadata": {
    "ExecuteTime": {
     "end_time": "2020-12-04T08:08:27.894724Z",
     "start_time": "2020-12-04T08:08:27.886177Z"
    }
   },
   "outputs": [
    {
     "data": {
      "text/plain": [
       "Passport(byr=2000, iyr=2013, hcl=Color('#fffffd', rgb=(255, 255, 253)), ecl='amb', pid=934693255)"
      ]
     },
     "execution_count": 30,
     "metadata": {},
     "output_type": "execute_result"
    }
   ],
   "source": [
    "Passport(**passports[0])"
   ]
  },
  {
   "cell_type": "code",
   "execution_count": null,
   "metadata": {},
   "outputs": [],
   "source": []
  },
  {
   "cell_type": "code",
   "execution_count": null,
   "metadata": {},
   "outputs": [],
   "source": []
  }
 ],
 "metadata": {
  "kernelspec": {
   "display_name": "Advent_of_Code",
   "language": "python",
   "name": "advent_of_code"
  },
  "language_info": {
   "codemirror_mode": {
    "name": "ipython",
    "version": 3
   },
   "file_extension": ".py",
   "mimetype": "text/x-python",
   "name": "python",
   "nbconvert_exporter": "python",
   "pygments_lexer": "ipython3",
   "version": "3.9.0"
  },
  "toc": {
   "base_numbering": 1,
   "nav_menu": {},
   "number_sections": true,
   "sideBar": true,
   "skip_h1_title": false,
   "title_cell": "Table of Contents",
   "title_sidebar": "Contents",
   "toc_cell": false,
   "toc_position": {},
   "toc_section_display": true,
   "toc_window_display": false
  }
 },
 "nbformat": 4,
 "nbformat_minor": 4
}
