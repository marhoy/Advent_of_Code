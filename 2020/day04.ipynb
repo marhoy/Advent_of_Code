{
 "cells": [
  {
   "cell_type": "code",
   "execution_count": 1,
   "metadata": {
    "ExecuteTime": {
     "end_time": "2020-12-05T15:56:38.808453Z",
     "start_time": "2020-12-05T15:56:38.786323Z"
    }
   },
   "outputs": [
    {
     "data": {
      "text/plain": [
       "255"
      ]
     },
     "execution_count": 1,
     "metadata": {},
     "output_type": "execute_result"
    }
   ],
   "source": [
    "import re\n",
    "\n",
    "with open(\"day04.input\") as file:\n",
    "    data = file.read()\n",
    "\n",
    "passports = [dict(re.findall(r\"(\\w+):([\\w#]+)\", item)) for item in re.split(\"\\n\\n\", data)]\n",
    "\n",
    "len(passports)"
   ]
  },
  {
   "cell_type": "code",
   "execution_count": 2,
   "metadata": {
    "ExecuteTime": {
     "end_time": "2020-12-05T15:56:38.853332Z",
     "start_time": "2020-12-05T15:56:38.833376Z"
    }
   },
   "outputs": [
    {
     "data": {
      "text/plain": [
       "[{'hgt': '176cm',\n",
       "  'iyr': '2013',\n",
       "  'hcl': '#fffffd',\n",
       "  'ecl': 'amb',\n",
       "  'byr': '2000',\n",
       "  'eyr': '2034',\n",
       "  'cid': '89',\n",
       "  'pid': '934693255'},\n",
       " {'hcl': '#b5c3db',\n",
       "  'ecl': 'grn',\n",
       "  'hgt': '155cm',\n",
       "  'pid': '#baec97',\n",
       "  'iyr': '2017',\n",
       "  'byr': '1939',\n",
       "  'eyr': '2020'}]"
      ]
     },
     "execution_count": 2,
     "metadata": {},
     "output_type": "execute_result"
    }
   ],
   "source": [
    "passports[:2]"
   ]
  },
  {
   "cell_type": "markdown",
   "metadata": {},
   "source": [
    "# Part 1"
   ]
  },
  {
   "cell_type": "code",
   "execution_count": 3,
   "metadata": {
    "ExecuteTime": {
     "end_time": "2020-12-05T15:56:38.873160Z",
     "start_time": "2020-12-05T15:56:38.865820Z"
    }
   },
   "outputs": [
    {
     "data": {
      "text/plain": [
       "230"
      ]
     },
     "execution_count": 3,
     "metadata": {},
     "output_type": "execute_result"
    }
   ],
   "source": [
    "required_fields = (\"byr\", \"iyr\", \"eyr\", \"hgt\", \"hcl\", \"ecl\", \"pid\")\n",
    "\n",
    "valid_passports = 0\n",
    "for passport in passports:\n",
    "    for field in required_fields:\n",
    "        if field not in passport.keys():\n",
    "            break\n",
    "    else:\n",
    "        valid_passports += 1\n",
    "\n",
    "valid_passports"
   ]
  },
  {
   "cell_type": "markdown",
   "metadata": {},
   "source": [
    "# Part 2"
   ]
  },
  {
   "cell_type": "code",
   "execution_count": 4,
   "metadata": {
    "ExecuteTime": {
     "end_time": "2020-12-05T15:56:38.951130Z",
     "start_time": "2020-12-05T15:56:38.882718Z"
    }
   },
   "outputs": [],
   "source": [
    "from typing import Literal\n",
    "\n",
    "from pydantic import BaseModel, conint, constr, validator"
   ]
  },
  {
   "cell_type": "code",
   "execution_count": 5,
   "metadata": {
    "ExecuteTime": {
     "end_time": "2020-12-05T15:56:38.963945Z",
     "start_time": "2020-12-05T15:56:38.953322Z"
    }
   },
   "outputs": [],
   "source": [
    "class Passport(BaseModel):\n",
    "    byr: conint(ge=1920, le=2002)\n",
    "    iyr: conint(ge=2010, le=2020)\n",
    "    eyr: conint(ge=2020, le=2030)\n",
    "    hgt: str\n",
    "    hcl: constr(regex=r\"^#[0-9a-f]{6}$\")\n",
    "    ecl: Literal[\"amb\", \"blu\", \"brn\", \"gry\", \"grn\", \"hzl\", \"oth\"]\n",
    "    pid: constr(regex=r\"^\\d{9}$\")\n",
    "\n",
    "    @validator(\"hgt\", pre=True)\n",
    "    def valid_height(cls, value: str):\n",
    "        if match := re.match(\"^(\\d+)(cm|in)\", value):\n",
    "            height, unit = match.groups()\n",
    "            if unit == \"cm\":\n",
    "                assert 150 <= int(height) <= 193\n",
    "            elif unit == \"in\":\n",
    "                assert 59 <= int(height) <= 76\n",
    "            return value\n",
    "        return ValueError"
   ]
  },
  {
   "cell_type": "code",
   "execution_count": 6,
   "metadata": {
    "ExecuteTime": {
     "end_time": "2020-12-05T15:56:38.984105Z",
     "start_time": "2020-12-05T15:56:38.967920Z"
    }
   },
   "outputs": [
    {
     "data": {
      "text/plain": [
       "156"
      ]
     },
     "execution_count": 6,
     "metadata": {},
     "output_type": "execute_result"
    }
   ],
   "source": [
    "valid_passports = 0\n",
    "for passport in passports:\n",
    "    try:\n",
    "        Passport(**passport)\n",
    "        valid_passports += 1\n",
    "    except ValueError as e:\n",
    "        pass\n",
    "\n",
    "valid_passports"
   ]
  }
 ],
 "metadata": {
  "kernelspec": {
   "display_name": "Advent_of_Code",
   "language": "python",
   "name": "advent_of_code"
  },
  "language_info": {
   "codemirror_mode": {
    "name": "ipython",
    "version": 3
   },
   "file_extension": ".py",
   "mimetype": "text/x-python",
   "name": "python",
   "nbconvert_exporter": "python",
   "pygments_lexer": "ipython3",
   "version": "3.9.0"
  },
  "toc": {
   "base_numbering": 1,
   "nav_menu": {},
   "number_sections": true,
   "sideBar": true,
   "skip_h1_title": false,
   "title_cell": "Table of Contents",
   "title_sidebar": "Contents",
   "toc_cell": false,
   "toc_position": {},
   "toc_section_display": true,
   "toc_window_display": false
  }
 },
 "nbformat": 4,
 "nbformat_minor": 4
}
