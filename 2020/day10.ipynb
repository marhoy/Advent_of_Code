{
 "cells": [
  {
   "cell_type": "code",
   "execution_count": null,
   "metadata": {},
   "outputs": [],
   "source": [
    "from collections import Counter\n",
    "from itertools import combinations\n",
    "import re"
   ]
  },
  {
   "cell_type": "code",
   "execution_count": null,
   "metadata": {},
   "outputs": [],
   "source": [
    "# filename = \"day10.example1.input\"\n",
    "# filename = \"day10.example2.input\"\n",
    "filename = \"day10.input\"\n",
    "\n",
    "with open(filename) as file:\n",
    "    adapters = [int(line) for line in file]"
   ]
  },
  {
   "cell_type": "markdown",
   "metadata": {},
   "source": [
    "# Part 1"
   ]
  },
  {
   "cell_type": "code",
   "execution_count": null,
   "metadata": {},
   "outputs": [],
   "source": [
    "numbers = [0] + sorted(adapters) + [max(adapters) + 3]\n",
    "diffs = [ad2 - ad1 for ad1, ad2 in zip(numbers, numbers[1:])]\n",
    "counter = Counter(diffs)\n",
    "\n",
    "counter[1] * counter[3]"
   ]
  },
  {
   "cell_type": "markdown",
   "metadata": {},
   "source": [
    "# Part 2"
   ]
  },
  {
   "cell_type": "code",
   "execution_count": null,
   "metadata": {},
   "outputs": [],
   "source": [
    "# - In a 11, the first 1 can be removed. This gives 2 options (including no removal).\n",
    "# - In a 111, number 1, 2 or 1+2 can be removed (4 options).\n",
    "# - In a 1111, number 1, 2, 3, 1+2, 1+3 or 2+3 can be removed (7 options).\n",
    "# In general:\n",
    "# A series of p 1's, gives itertools.combinations(\"1\"*p, 2) + 1 options.\n",
    "# The options in each serie can be combined with the others, so we must multiply them."
   ]
  },
  {
   "cell_type": "code",
   "execution_count": null,
   "metadata": {},
   "outputs": [],
   "source": [
    "# Count the number of different length 1-series (length 2 or more)\n",
    "diff_str = \"\".join(map(str, diffs))\n",
    "counter = Counter([len(group) for group in re.findall(\"1{2,}\", diff_str)])\n",
    "counter"
   ]
  },
  {
   "cell_type": "code",
   "execution_count": null,
   "metadata": {},
   "outputs": [],
   "source": [
    "# Multiply together the possible combinations for each length\n",
    "total_combinations = 1\n",
    "for length in counter:\n",
    "    n_combinations = len(list(combinations(\"1\" * length, 2))) + 1\n",
    "    total_combinations *= n_combinations ** counter[length]\n",
    "\n",
    "total_combinations"
   ]
  },
  {
   "cell_type": "code",
   "execution_count": null,
   "metadata": {},
   "outputs": [],
   "source": []
  }
 ],
 "metadata": {
  "kernelspec": {
   "display_name": "Python 3",
   "language": "python",
   "name": "python3"
  },
  "language_info": {
   "codemirror_mode": {
    "name": "ipython",
    "version": 3
   },
   "file_extension": ".py",
   "mimetype": "text/x-python",
   "name": "python",
   "nbconvert_exporter": "python",
   "pygments_lexer": "ipython3",
   "version": "3.8.6"
  },
  "toc": {
   "base_numbering": 1,
   "nav_menu": {},
   "number_sections": true,
   "sideBar": true,
   "skip_h1_title": false,
   "title_cell": "Table of Contents",
   "title_sidebar": "Contents",
   "toc_cell": false,
   "toc_position": {},
   "toc_section_display": true,
   "toc_window_display": false
  }
 },
 "nbformat": 4,
 "nbformat_minor": 4
}
