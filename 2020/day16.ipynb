{
 "cells": [
  {
   "cell_type": "code",
   "execution_count": null,
   "metadata": {},
   "outputs": [],
   "source": [
    "from collections import defaultdict\n",
    "import re"
   ]
  },
  {
   "cell_type": "code",
   "execution_count": null,
   "metadata": {},
   "outputs": [],
   "source": [
    "filename = \"day16.example.input\"\n",
    "filename = \"day16.example2.input\"\n",
    "filename = \"day16.input\"\n",
    "\n",
    "with open(filename) as file:\n",
    "    file_parts = file.read().split(\"\\n\\n\")"
   ]
  },
  {
   "cell_type": "code",
   "execution_count": null,
   "metadata": {},
   "outputs": [],
   "source": [
    "rules = defaultdict(list)\n",
    "for name, *intervals in re.findall(\"([\\w ]+): (\\d+-\\d+) or (\\d+-\\d+)\", file_parts[0]):\n",
    "    for interval in intervals:\n",
    "        low, high = interval.split(\"-\")\n",
    "        rules[name].append((int(low), int(high)))\n",
    "\n",
    "rules"
   ]
  },
  {
   "cell_type": "code",
   "execution_count": null,
   "metadata": {},
   "outputs": [],
   "source": [
    "tickets = []\n",
    "for ticket in re.findall(\"([\\d,]+)\", file_parts[2]):\n",
    "    tickets.append(tuple(map(int, ticket.split(\",\"))))"
   ]
  },
  {
   "cell_type": "markdown",
   "metadata": {},
   "source": [
    "# Part 1"
   ]
  },
  {
   "cell_type": "code",
   "execution_count": null,
   "metadata": {},
   "outputs": [],
   "source": [
    "def number_fulfills_rule(number, intervals):\n",
    "    for (low, high) in intervals:\n",
    "        if low <= number <= high:\n",
    "            return True\n",
    "    # We got here because none of the intervals matched\n",
    "    return False"
   ]
  },
  {
   "cell_type": "code",
   "execution_count": null,
   "metadata": {},
   "outputs": [],
   "source": [
    "def number_fulfills_at_least_one_rules(number, rules):\n",
    "    for name, intervals in rules.items():\n",
    "        if number_fulfills_rule(number, intervals):\n",
    "            return True\n",
    "    # We got here because none of the rules were fulfilled\n",
    "    return False"
   ]
  },
  {
   "cell_type": "code",
   "execution_count": null,
   "metadata": {},
   "outputs": [],
   "source": [
    "invalid_values = []\n",
    "for ticket in tickets:\n",
    "    for number in ticket:\n",
    "        if not number_fulfills_at_least_one_rules(number, rules):\n",
    "            invalid_values.append(number)\n",
    "\n",
    "sum(invalid_values)"
   ]
  },
  {
   "cell_type": "markdown",
   "metadata": {},
   "source": [
    "# Part 2"
   ]
  },
  {
   "cell_type": "markdown",
   "metadata": {},
   "source": [
    "## Sort out which rule matches which field"
   ]
  },
  {
   "cell_type": "code",
   "execution_count": null,
   "metadata": {},
   "outputs": [],
   "source": [
    "valid_tickets = []\n",
    "for ticket in tickets:\n",
    "    for number in ticket:\n",
    "        if not number_fulfills_at_least_one_rules(number, rules):\n",
    "            break\n",
    "    else:\n",
    "        # All numbers on this ticket fulfills at least one rule\n",
    "        valid_tickets.append(ticket)"
   ]
  },
  {
   "cell_type": "code",
   "execution_count": null,
   "metadata": {},
   "outputs": [],
   "source": [
    "# For each rule, there might be multiple fields where all the tickets fulfills the rule\n",
    "\n",
    "possible_fields = defaultdict(set)\n",
    "for name, intervals in rules.items():\n",
    "    for field in range(len(rules)):\n",
    "        if all(number_fulfills_rule(ticket[field], intervals) for ticket in valid_tickets):\n",
    "            # This field on all tickets is valid for the rule \"name\"\n",
    "            possible_fields[name].add(field)"
   ]
  },
  {
   "cell_type": "code",
   "execution_count": null,
   "metadata": {},
   "outputs": [],
   "source": [
    "# Figure out which rule field belongs to which rule,\n",
    "# by starting with a rule with only one possible field.\n",
    "\n",
    "assigned_fields = dict()\n",
    "while possible_fields:\n",
    "\n",
    "    # Get a rule-name with only one possible field\n",
    "    name = min(possible_fields, key=lambda x: len(possible_fields[x]))\n",
    "    if len(possible_fields[name]) == 1:\n",
    "        field = possible_fields[name].pop()\n",
    "    else:\n",
    "        raise ValueError(\"Impossible to solve\")\n",
    "        \n",
    "    # Assign this field to the rule-name, and mark it as resolved\n",
    "    assigned_fields[name] = field\n",
    "    del possible_fields[name]\n",
    "    \n",
    "    # Update remaining possibilites by removing the newly assigned field\n",
    "    for name in possible_fields:\n",
    "        possible_fields[name].discard(field)\n",
    "\n",
    "assigned_fields"
   ]
  },
  {
   "cell_type": "markdown",
   "metadata": {},
   "source": [
    "## Find solution to puzzle"
   ]
  },
  {
   "cell_type": "code",
   "execution_count": null,
   "metadata": {},
   "outputs": [],
   "source": [
    "# Get my ticket\n",
    "for ticket in re.findall(\"([\\d,]+)\", file_parts[1]):\n",
    "    my_ticket = tuple(map(int, ticket.split(\",\")))"
   ]
  },
  {
   "cell_type": "code",
   "execution_count": null,
   "metadata": {},
   "outputs": [],
   "source": [
    "import math\n",
    "\n",
    "math.prod(my_ticket[assigned_fields[name]] for name in rules if name.startswith(\"departure\"))"
   ]
  },
  {
   "cell_type": "code",
   "execution_count": null,
   "metadata": {},
   "outputs": [],
   "source": []
  }
 ],
 "metadata": {
  "kernelspec": {
   "display_name": "Python 3",
   "language": "python",
   "name": "python3"
  },
  "language_info": {
   "codemirror_mode": {
    "name": "ipython",
    "version": 3
   },
   "file_extension": ".py",
   "mimetype": "text/x-python",
   "name": "python",
   "nbconvert_exporter": "python",
   "pygments_lexer": "ipython3",
   "version": "3.8.6"
  },
  "toc": {
   "base_numbering": 1,
   "nav_menu": {},
   "number_sections": true,
   "sideBar": true,
   "skip_h1_title": false,
   "title_cell": "Table of Contents",
   "title_sidebar": "Contents",
   "toc_cell": false,
   "toc_position": {},
   "toc_section_display": true,
   "toc_window_display": false
  }
 },
 "nbformat": 4,
 "nbformat_minor": 4
}
