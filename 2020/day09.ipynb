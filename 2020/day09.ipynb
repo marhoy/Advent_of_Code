{
 "cells": [
  {
   "cell_type": "code",
   "execution_count": null,
   "metadata": {},
   "outputs": [],
   "source": [
    "PREAMBLE_LENGTH, filename = 5, \"day09.example.input\"\n",
    "PREAMBLE_LENGTH, filename = 25, \"day09.input\"\n",
    "\n",
    "with open(filename) as file:\n",
    "    numbers = [int(line.strip()) for line in file]\n",
    "\n",
    "numbers[:3] + [\"...\"] + numbers[-3:]"
   ]
  },
  {
   "cell_type": "markdown",
   "metadata": {},
   "source": [
    "# Part 1"
   ]
  },
  {
   "cell_type": "code",
   "execution_count": null,
   "metadata": {},
   "outputs": [],
   "source": [
    "def sum_pair_exists(number, collection):\n",
    "    for p1 in collection:\n",
    "        if number - p1 in collection:\n",
    "            return True"
   ]
  },
  {
   "cell_type": "code",
   "execution_count": null,
   "metadata": {},
   "outputs": [],
   "source": [
    "for i, number in enumerate(numbers[PREAMBLE_LENGTH:], start=PREAMBLE_LENGTH):\n",
    "    preamble = set(numbers[i - PREAMBLE_LENGTH: i])\n",
    "    if not sum_pair_exists(number, preamble):\n",
    "        invalid_number = number\n",
    "        break\n",
    "        \n",
    "invalid_number"
   ]
  },
  {
   "cell_type": "markdown",
   "metadata": {},
   "source": [
    "# Part 2"
   ]
  },
  {
   "cell_type": "code",
   "execution_count": null,
   "metadata": {},
   "outputs": [],
   "source": [
    "def find_weakness(numbers):\n",
    "    for start in range(len(numbers) - 2):\n",
    "        for end in range(start + 2, len(numbers)):\n",
    "            selection = numbers[start:end]\n",
    "            contiguous_sum = sum(selection)\n",
    "            if contiguous_sum == invalid_number:\n",
    "                return max(selection) + min(selection)\n",
    "            if contiguous_sum > invalid_number:\n",
    "                break"
   ]
  },
  {
   "cell_type": "code",
   "execution_count": null,
   "metadata": {},
   "outputs": [],
   "source": [
    "find_weakness(numbers)"
   ]
  },
  {
   "cell_type": "code",
   "execution_count": null,
   "metadata": {},
   "outputs": [],
   "source": []
  }
 ],
 "metadata": {
  "kernelspec": {
   "display_name": "Python 3",
   "language": "python",
   "name": "python3"
  },
  "language_info": {
   "codemirror_mode": {
    "name": "ipython",
    "version": 3
   },
   "file_extension": ".py",
   "mimetype": "text/x-python",
   "name": "python",
   "nbconvert_exporter": "python",
   "pygments_lexer": "ipython3",
   "version": "3.8.6"
  },
  "toc": {
   "base_numbering": 1,
   "nav_menu": {},
   "number_sections": true,
   "sideBar": true,
   "skip_h1_title": false,
   "title_cell": "Table of Contents",
   "title_sidebar": "Contents",
   "toc_cell": false,
   "toc_position": {},
   "toc_section_display": true,
   "toc_window_display": false
  }
 },
 "nbformat": 4,
 "nbformat_minor": 4
}
