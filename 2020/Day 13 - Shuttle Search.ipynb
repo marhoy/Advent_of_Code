{
 "cells": [
  {
   "cell_type": "code",
   "execution_count": null,
   "metadata": {},
   "outputs": [],
   "source": [
    "filename = \"day13.example.input\"\n",
    "filename = \"day13.input\"\n",
    "\n",
    "with open(filename) as file:\n",
    "    timestamp = int(file.readline())\n",
    "    bus_ids = [int(bus_id) for bus_id in file.readline().split(\",\") if bus_id != \"x\"]"
   ]
  },
  {
   "cell_type": "markdown",
   "metadata": {},
   "source": [
    "# Part 1"
   ]
  },
  {
   "cell_type": "code",
   "execution_count": null,
   "metadata": {},
   "outputs": [],
   "source": [
    "next_departure = {bus_id: timestamp + bus_id - timestamp % bus_id for bus_id in bus_ids}\n",
    "first_bus_id = min(next_departure, key=next_departure.get)\n",
    "waiting_time = next_departure[first_bus_id] - timestamp\n",
    "\n",
    "first_bus_id*waiting_time"
   ]
  },
  {
   "cell_type": "markdown",
   "metadata": {},
   "source": [
    "# Part 2"
   ]
  },
  {
   "cell_type": "code",
   "execution_count": null,
   "metadata": {},
   "outputs": [],
   "source": [
    "with open(filename) as file:\n",
    "    timestamp = int(file.readline())        \n",
    "    bus_id_order = {\n",
    "        int(bus_id): bus_order\n",
    "        for bus_order, bus_id in enumerate(file.readline().split(\",\"))\n",
    "        if bus_id != \"x\"\n",
    "    }\n",
    "\n",
    "bus_id_order"
   ]
  },
  {
   "cell_type": "markdown",
   "metadata": {},
   "source": [
    "## Idea for solving:\n",
    "\n",
    "We want to find a timestamp when the waiting time for `bus_id` is `bus_id_order[bus_id]`, and we want this to be true for all busses at the same time. The waiting time until a given `bus_id` arrives is:\n",
    "```\n",
    "waiting_time = bus_id - (timestamp % bus_id or bus_id)\n",
    "```\n",
    "\n",
    "* The trick with ...`or bus_id` is needed because: At departure time, `timestamp % bus_id == 0`, and subtracting 0 leaves us with a `waiting_time` of `bus_id`. In those cases, we instead want to subtract `bus_id` which gives a `waiting_time` of 0.\n",
    "\n",
    "* In the full input, the required waiting time is sometimes higher than the `bus_id`, e.g. bus 13 has a required waiting time of 47. But since bus 13 leaves every 13 minutes, this is the same as requiring `47 % 13 = 8` minutes waiting time.\n",
    "\n",
    "We solve the problem one bus at the time:\n",
    "\n",
    "1. Increase timestamp with 1 until the required waiting time is fulfilled for the first bus.\n",
    "1. When searching for a valid timestamp for the next bus, we need to move in step size of `bus_id` of the first bus. That ensures that the first requirement will still be fulfilled.\n",
    "1. After having found a valid timestamp for the two first buses, we now move with a step size of `bus_id_0 * bus_id_1`. That ensures that the two first requirements are still fulfilled.\n",
    "1. And so on...\n",
    "\n",
    "To speed things up even more, we start with the largest `bus_id`, to ensure that we move with the largest step size possible."
   ]
  },
  {
   "cell_type": "code",
   "execution_count": null,
   "metadata": {},
   "outputs": [],
   "source": [
    "sorted_bus_ids = sorted(bus_id_order.keys(), reverse=True)\n",
    "\n",
    "step_size = 1\n",
    "for bus_id in sorted_bus_ids:\n",
    "    target = bus_id_order[bus_id] % bus_id\n",
    "    while bus_id - (timestamp % bus_id or bus_id) != target:\n",
    "        timestamp += step_size\n",
    "    step_size *= bus_id\n",
    "    print(f\"Solved for bus {bus_id} at timestamp {timestamp:,}. Next step size is {step_size:,}\")\n",
    "\n",
    "timestamp"
   ]
  },
  {
   "cell_type": "code",
   "execution_count": null,
   "metadata": {},
   "outputs": [],
   "source": []
  }
 ],
 "metadata": {
  "kernelspec": {
   "display_name": "Python 3",
   "language": "python",
   "name": "python3"
  },
  "language_info": {
   "codemirror_mode": {
    "name": "ipython",
    "version": 3
   },
   "file_extension": ".py",
   "mimetype": "text/x-python",
   "name": "python",
   "nbconvert_exporter": "python",
   "pygments_lexer": "ipython3",
   "version": "3.8.6"
  },
  "toc": {
   "base_numbering": 1,
   "nav_menu": {},
   "number_sections": true,
   "sideBar": true,
   "skip_h1_title": false,
   "title_cell": "Table of Contents",
   "title_sidebar": "Contents",
   "toc_cell": false,
   "toc_position": {
    "height": "calc(100% - 180px)",
    "left": "10px",
    "top": "150px",
    "width": "204.15px"
   },
   "toc_section_display": true,
   "toc_window_display": true
  }
 },
 "nbformat": 4,
 "nbformat_minor": 4
}
