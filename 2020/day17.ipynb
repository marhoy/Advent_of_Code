{
 "cells": [
  {
   "cell_type": "code",
   "execution_count": null,
   "metadata": {},
   "outputs": [],
   "source": [
    "filename = \"day17.example.input\"\n",
    "filename = \"day17.input\"\n",
    "\n",
    "grid, z = dict(), 0\n",
    "with open(filename) as file:\n",
    "    for row, line in enumerate(file):\n",
    "        for col, char in enumerate(line.strip()):\n",
    "            grid[(row, col, z)] = char"
   ]
  },
  {
   "cell_type": "code",
   "execution_count": null,
   "metadata": {},
   "outputs": [],
   "source": [
    "def find_dimensions(grid):\n",
    "    coordinates = list(grid.keys())\n",
    "    dims = len(coordinates[0])\n",
    "    dims_min_max = []\n",
    "    for dim in range(dims):\n",
    "        dims_min_max.append(min(c[dim] for c in coordinates))\n",
    "        dims_min_max.append(max(c[dim] for c in coordinates))\n",
    "    return tuple(dims_min_max)"
   ]
  },
  {
   "cell_type": "markdown",
   "metadata": {},
   "source": [
    "# Part 1"
   ]
  },
  {
   "cell_type": "code",
   "execution_count": null,
   "metadata": {},
   "outputs": [],
   "source": [
    "def print_grid_3d(grid):\n",
    "    min_row, max_row, min_col, max_col, min_z, max_z = find_dimensions(grid)\n",
    "    for z in range(min_z, max_z + 1):\n",
    "        print(f\"\\nz={z}\")\n",
    "        for row in range(min_row, max_row + 1):\n",
    "            print(\"\".join(grid.get((row, col, z), \".\") for col in range(min_col, max_col + 1)))"
   ]
  },
  {
   "cell_type": "code",
   "execution_count": null,
   "metadata": {},
   "outputs": [],
   "source": [
    "print_grid_3d(grid)"
   ]
  },
  {
   "cell_type": "code",
   "execution_count": null,
   "metadata": {},
   "outputs": [],
   "source": [
    "def active_neighbours(point, grid):\n",
    "    dims = len(point)\n",
    "    deltas = [delta for delta in product(*[[-1, 0, 1]] * dims) if delta != tuple([0] * dims)]\n",
    "\n",
    "    active_neighbours = 0\n",
    "    for delta in deltas:\n",
    "        neighbour = tuple(p + d for p, d in zip(point, delta))\n",
    "        if grid.get(neighbour, \".\") == \"#\":\n",
    "            active_neighbours += 1\n",
    "\n",
    "    return active_neighbours"
   ]
  },
  {
   "cell_type": "code",
   "execution_count": null,
   "metadata": {},
   "outputs": [],
   "source": [
    "from itertools import product\n",
    "\n",
    "def simulate_one_cycle(grid):\n",
    "    new_grid = grid.copy()\n",
    "    min_row, max_row, min_col, max_col, min_z, max_z = find_dimensions(grid)\n",
    "\n",
    "    for z in range(min_z - 1, max_z + 2):\n",
    "        for row in range(min_row - 1, max_row + 2):\n",
    "            for col in range(min_col - 1, max_col + 2):\n",
    "                point = (row, col, z)\n",
    "                n_active = active_neighbours(point, grid)\n",
    "                state = grid.get(point, \".\")\n",
    "                if (state == \"#\") and not (2 <= n_active <= 3):\n",
    "                    new_grid[point] = \".\"\n",
    "                elif (state == \".\") and (n_active == 3):\n",
    "                    new_grid[point] = \"#\"\n",
    "\n",
    "    return new_grid"
   ]
  },
  {
   "cell_type": "code",
   "execution_count": null,
   "metadata": {},
   "outputs": [],
   "source": [
    "for cycle in range(6):\n",
    "    grid = simulate_one_cycle(grid)"
   ]
  },
  {
   "cell_type": "code",
   "execution_count": null,
   "metadata": {},
   "outputs": [],
   "source": [
    "sum([1 for state in grid.values() if state == \"#\"])"
   ]
  },
  {
   "cell_type": "markdown",
   "metadata": {},
   "source": [
    "# Part 2"
   ]
  },
  {
   "cell_type": "code",
   "execution_count": null,
   "metadata": {},
   "outputs": [],
   "source": [
    "filename = \"day17.example.input\"\n",
    "filename = \"day17.input\"\n",
    "\n",
    "grid, z, w = dict(), 0, 0\n",
    "with open(filename) as file:\n",
    "    for row, line in enumerate(file):\n",
    "        for col, char in enumerate(line.strip()):\n",
    "            grid[(row, col, z, w)] = char"
   ]
  },
  {
   "cell_type": "code",
   "execution_count": null,
   "metadata": {},
   "outputs": [],
   "source": [
    "def print_grid_4d(grid):\n",
    "    min_row, max_row, min_col, max_col, min_z, max_z, min_w, max_w = find_dimensions(grid)\n",
    "    for w in range(min_w, max_w + 1):\n",
    "        for z in range(min_z, max_z + 1):\n",
    "            print(f\"\\nz={z}, w={w}\")\n",
    "            for row in range(min_row, max_row + 1):\n",
    "                print(\"\".join(grid.get((row, col, z, w), \".\") for col in range(min_col, max_col + 1)))"
   ]
  },
  {
   "cell_type": "code",
   "execution_count": null,
   "metadata": {},
   "outputs": [],
   "source": [
    "print_grid_4d(grid)"
   ]
  },
  {
   "cell_type": "code",
   "execution_count": null,
   "metadata": {},
   "outputs": [],
   "source": [
    "from itertools import product\n",
    "\n",
    "def simulate_one_cycle_4d(grid):\n",
    "    new_grid = grid.copy()\n",
    "    min_row, max_row, min_col, max_col, min_z, max_z, min_w, max_w = find_dimensions(grid)\n",
    "\n",
    "    for w in range(min_w - 1, max_w + 2):\n",
    "        for z in range(min_z - 1, max_z + 2):\n",
    "            for row in range(min_row - 1, max_row + 2):\n",
    "                for col in range(min_col - 1, max_col + 2):\n",
    "                    point = (row, col, z, w)\n",
    "                    n_active = active_neighbours(point, grid)\n",
    "                    state = grid.get(point, \".\")\n",
    "                    if (state == \"#\") and not (2 <= n_active <= 3):\n",
    "                        new_grid[point] = \".\"\n",
    "                    elif (state == \".\") and (n_active == 3):\n",
    "                        new_grid[point] = \"#\"\n",
    "\n",
    "    return new_grid"
   ]
  },
  {
   "cell_type": "code",
   "execution_count": null,
   "metadata": {},
   "outputs": [],
   "source": [
    "for cycle in range(6):\n",
    "    grid = simulate_one_cycle_4d(grid)"
   ]
  },
  {
   "cell_type": "code",
   "execution_count": null,
   "metadata": {},
   "outputs": [],
   "source": [
    "sum([1 for state in grid.values() if state == \"#\"])"
   ]
  },
  {
   "cell_type": "code",
   "execution_count": null,
   "metadata": {},
   "outputs": [],
   "source": []
  }
 ],
 "metadata": {
  "kernelspec": {
   "display_name": "Python 3",
   "language": "python",
   "name": "python3"
  },
  "language_info": {
   "codemirror_mode": {
    "name": "ipython",
    "version": 3
   },
   "file_extension": ".py",
   "mimetype": "text/x-python",
   "name": "python",
   "nbconvert_exporter": "python",
   "pygments_lexer": "ipython3",
   "version": "3.9.0"
  },
  "toc": {
   "base_numbering": 1,
   "nav_menu": {},
   "number_sections": false,
   "sideBar": true,
   "skip_h1_title": false,
   "title_cell": "Table of Contents",
   "title_sidebar": "Contents",
   "toc_cell": false,
   "toc_position": {},
   "toc_section_display": true,
   "toc_window_display": false
  }
 },
 "nbformat": 4,
 "nbformat_minor": 4
}
