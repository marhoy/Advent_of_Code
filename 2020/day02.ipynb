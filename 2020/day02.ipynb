{
 "cells": [
  {
   "cell_type": "code",
   "execution_count": null,
   "metadata": {
    "ExecuteTime": {
     "end_time": "2020-12-03T15:17:00.620272Z",
     "start_time": "2020-12-03T15:17:00.605683Z"
    }
   },
   "outputs": [],
   "source": [
    "import re"
   ]
  },
  {
   "cell_type": "markdown",
   "metadata": {},
   "source": [
    "# Part 1 "
   ]
  },
  {
   "cell_type": "code",
   "execution_count": null,
   "metadata": {
    "ExecuteTime": {
     "end_time": "2020-12-03T15:17:00.664645Z",
     "start_time": "2020-12-03T15:17:00.637533Z"
    }
   },
   "outputs": [],
   "source": [
    "valid_passwords = 0\n",
    "\n",
    "with open(\"day02.input\") as file:\n",
    "    for line in file:\n",
    "        groups = re.match(r\"(\\d+)-(\\d+) (\\w): (\\w+)\", line).groups()\n",
    "        min_count, max_count = int(groups[0]), int(groups[1])\n",
    "        char, passwd = groups[2], groups[3]\n",
    "        if min_count <= len(re.findall(char, passwd)) <= max_count:\n",
    "            valid_passwords += 1\n",
    "\n",
    "valid_passwords"
   ]
  },
  {
   "cell_type": "markdown",
   "metadata": {},
   "source": [
    "# Part 2"
   ]
  },
  {
   "cell_type": "code",
   "execution_count": null,
   "metadata": {
    "ExecuteTime": {
     "end_time": "2020-12-03T15:17:00.693989Z",
     "start_time": "2020-12-03T15:17:00.675786Z"
    }
   },
   "outputs": [],
   "source": [
    "valid_passwords = 0\n",
    "\n",
    "with open(\"day02.input\") as file:\n",
    "    for line in file:\n",
    "        groups = re.match(r\"(\\d+)-(\\d+) (\\w): (\\w+)\", line).groups()\n",
    "        first_pos, second_pos = int(groups[0]) - 1, int(groups[1]) - 1\n",
    "        char, passwd = groups[2], groups[3]\n",
    "        if (passwd[first_pos] == char) ^ (passwd[second_pos] == char):\n",
    "            valid_passwords += 1\n",
    "\n",
    "valid_passwords"
   ]
  },
  {
   "cell_type": "code",
   "execution_count": null,
   "metadata": {},
   "outputs": [],
   "source": []
  }
 ],
 "metadata": {
  "kernelspec": {
   "display_name": "Python 3",
   "language": "python",
   "name": "python3"
  },
  "language_info": {
   "codemirror_mode": {
    "name": "ipython",
    "version": 3
   },
   "file_extension": ".py",
   "mimetype": "text/x-python",
   "name": "python",
   "nbconvert_exporter": "python",
   "pygments_lexer": "ipython3",
   "version": "3.8.6"
  },
  "toc": {
   "base_numbering": 1,
   "nav_menu": {},
   "number_sections": true,
   "sideBar": true,
   "skip_h1_title": false,
   "title_cell": "Table of Contents",
   "title_sidebar": "Contents",
   "toc_cell": false,
   "toc_position": {},
   "toc_section_display": true,
   "toc_window_display": false
  }
 },
 "nbformat": 4,
 "nbformat_minor": 4
}
