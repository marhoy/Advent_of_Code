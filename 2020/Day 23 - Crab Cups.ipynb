{
 "cells": [
  {
   "cell_type": "markdown",
   "metadata": {},
   "source": [
    "# Part 1 using list insertion/deletion"
   ]
  },
  {
   "cell_type": "code",
   "execution_count": null,
   "metadata": {},
   "outputs": [],
   "source": [
    "my_input = \"389125467\"\n",
    "my_input = \"459672813\"\n",
    "\n",
    "cups = list(map(int, my_input))\n",
    "MAX_VALUE = max(cups)"
   ]
  },
  {
   "cell_type": "code",
   "execution_count": null,
   "metadata": {},
   "outputs": [],
   "source": [
    "current_index = 0\n",
    "moves = 0\n",
    "\n",
    "for _ in range(100):\n",
    "    moves += 1\n",
    "    current_value = cups[current_index]\n",
    "\n",
    "#     print(f\"-- move {moves} --\")\n",
    "#     print(\"cups:\", \" \".join(str(cup) if cup != current_value else f\"({cup})\" for cup in cups))\n",
    "\n",
    "    # Remove 3 next cups\n",
    "    pick_up = cups[current_index + 1: current_index + 4]\n",
    "    del cups[current_index + 1: current_index + 4]\n",
    "\n",
    "    if len(pick_up) < 3:\n",
    "        left = 3 - len(pick_up)\n",
    "        pick_up += cups[:left]\n",
    "        del cups[:left]\n",
    "        current_index = current_index - left\n",
    "\n",
    "#     print(\"pick up:\", \", \".join(str(cup) for cup in pick_up))\n",
    "\n",
    "    # Find target value and -index\n",
    "    target_value = (current_value - 2) % MAX_VALUE + 1\n",
    "    while target_value in pick_up:\n",
    "        target_value = (target_value - 2) % MAX_VALUE + 1\n",
    "    target_index = cups.index(target_value)\n",
    "\n",
    "#     print(\"destination:\", target_value, \"\\n\")\n",
    "\n",
    "    # Insert cups after target index\n",
    "    cups[target_index + 1: target_index + 1] = pick_up\n",
    "\n",
    "    # If the current value shifted right, update index\n",
    "    if target_index < current_index:\n",
    "        current_index += 3\n",
    "\n",
    "    # Next current is to the right\n",
    "    current_index = (current_index + 1)  % len(cups)"
   ]
  },
  {
   "cell_type": "code",
   "execution_count": null,
   "metadata": {},
   "outputs": [],
   "source": [
    "cups"
   ]
  },
  {
   "cell_type": "code",
   "execution_count": null,
   "metadata": {},
   "outputs": [],
   "source": [
    "index = cups.index(1)\n",
    "solution = []\n",
    "for _ in range(len(cups) - 1):\n",
    "    index = (index + 1) % len(cups)\n",
    "    solution.append(cups[index])\n",
    "\n",
    "\"\".join(map(str, solution))"
   ]
  },
  {
   "cell_type": "markdown",
   "metadata": {},
   "source": [
    "# Part 2 - Using dictionary / linked list"
   ]
  },
  {
   "cell_type": "code",
   "execution_count": null,
   "metadata": {},
   "outputs": [],
   "source": [
    "from dataclasses import dataclass\n",
    "\n",
    "@dataclass\n",
    "class Cup:\n",
    "    value: int\n",
    "    next = None\n",
    "\n",
    "    def __repr__(self):\n",
    "        if self.next is None:\n",
    "            next_value = \"None\"\n",
    "        else:\n",
    "            next_value = self.next.value\n",
    "        return f\"{self.value} -> {next_value}\""
   ]
  },
  {
   "cell_type": "code",
   "execution_count": null,
   "metadata": {},
   "outputs": [],
   "source": [
    "def create_linked_lookup(cup_values):\n",
    "\n",
    "    # Initialize variables\n",
    "    lookup = dict()\n",
    "    previous_value = None\n",
    "    max_value = 0\n",
    "\n",
    "    # Create a linked list and lookup dictionary of the cups \n",
    "    for value in cup_values:\n",
    "        # Store the highest observed value\n",
    "        max_value = max(max_value, value)\n",
    "\n",
    "        # Create a cup and link the previous cup to this one\n",
    "        lookup[value] = Cup(value)\n",
    "        if previous_value is None:\n",
    "            first_value = value\n",
    "        else:\n",
    "            lookup[previous_value].next = lookup[value]\n",
    "        previous_value = value\n",
    "\n",
    "    # Finally, connect the last cup with the first\n",
    "    lookup[value].next = lookup[first_value]\n",
    "    \n",
    "    return lookup, first_value, max_value\n",
    "\n",
    "def remove_next_3_after(lookup, value):\n",
    "    pick_up = lookup[value].next\n",
    "    lookup[value].next = pick_up.next.next.next\n",
    "    pick_up.next.next.next = None\n",
    "    return pick_up\n",
    "\n",
    "def insert_pick_up_after(lookup, pick_up, value):\n",
    "    next_cup = lookup[value].next\n",
    "    lookup[value].next = pick_up\n",
    "    pick_up.next.next.next = next_cup\n",
    "\n",
    "def perform_moves(num, lookup, current_value, MAX_VALUE):\n",
    "    for i in range(num):\n",
    "\n",
    "        # Remove 3 cups\n",
    "        pick_up = remove_next_3_after(lookup, current_value)\n",
    "\n",
    "        # Find insert-destination\n",
    "        pick_up_values = {pick_up.value, pick_up.next.value, pick_up.next.next.value}\n",
    "        destination = (current_value - 2) % MAX_VALUE + 1\n",
    "        while destination in pick_up_values:\n",
    "            destination = (destination - 2) % MAX_VALUE + 1\n",
    "\n",
    "        # Insert removed cups\n",
    "        insert_pick_up_after(lookup, pick_up, destination)\n",
    "\n",
    "        # Set new current value\n",
    "        current_value = lookup[current_value].next.value\n",
    "    \n",
    "    return lookup"
   ]
  },
  {
   "cell_type": "markdown",
   "metadata": {},
   "source": [
    "## Use this solution to solve part 1"
   ]
  },
  {
   "cell_type": "code",
   "execution_count": null,
   "metadata": {},
   "outputs": [],
   "source": [
    "def part1(puzzle_input: str):\n",
    "    lookup = perform_moves(100, *create_linked_lookup(map(int, puzzle_input)))\n",
    "    value = 1\n",
    "    numbers = []\n",
    "    while lookup[value].next.value != 1:\n",
    "        value = lookup[value].next.value\n",
    "        numbers.append(value)\n",
    "    \n",
    "    return \"\".join(map(str, numbers))"
   ]
  },
  {
   "cell_type": "code",
   "execution_count": null,
   "metadata": {},
   "outputs": [],
   "source": [
    "assert \"67384529\" == part1(\"389125467\")\n",
    "assert \"68245739\" == part1(\"459672813\")  # My puzzle input"
   ]
  },
  {
   "cell_type": "markdown",
   "metadata": {},
   "source": [
    "## Find solution for part 2"
   ]
  },
  {
   "cell_type": "code",
   "execution_count": null,
   "metadata": {},
   "outputs": [],
   "source": [
    "from itertools import chain\n",
    "\n",
    "def part2(puzzle_input: str):\n",
    "    lookup = perform_moves(\n",
    "        10_000_000,\n",
    "        *create_linked_lookup(chain(map(int, puzzle_input), range(10, 1_000_001)))\n",
    "    )\n",
    "    return lookup[1].next.value * lookup[1].next.next.value"
   ]
  },
  {
   "cell_type": "code",
   "execution_count": null,
   "metadata": {},
   "outputs": [],
   "source": [
    "assert 149245887792 == part2(\"389125467\")\n",
    "assert 219634632000 == part2(\"459672813\")  # My puzzle input"
   ]
  },
  {
   "cell_type": "code",
   "execution_count": null,
   "metadata": {},
   "outputs": [],
   "source": []
  }
 ],
 "metadata": {
  "kernelspec": {
   "display_name": "Advent_of_Code",
   "language": "python",
   "name": "advent_of_code"
  },
  "language_info": {
   "codemirror_mode": {
    "name": "ipython",
    "version": 3
   },
   "file_extension": ".py",
   "mimetype": "text/x-python",
   "name": "python",
   "nbconvert_exporter": "python",
   "pygments_lexer": "ipython3",
   "version": "3.9.1"
  },
  "toc": {
   "base_numbering": 1,
   "nav_menu": {},
   "number_sections": true,
   "sideBar": true,
   "skip_h1_title": false,
   "title_cell": "Table of Contents",
   "title_sidebar": "Contents",
   "toc_cell": false,
   "toc_position": {},
   "toc_section_display": true,
   "toc_window_display": false
  }
 },
 "nbformat": 4,
 "nbformat_minor": 4
}
