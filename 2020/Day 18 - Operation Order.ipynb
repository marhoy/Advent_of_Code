{
 "cells": [
  {
   "cell_type": "code",
   "execution_count": null,
   "metadata": {},
   "outputs": [],
   "source": [
    "import re"
   ]
  },
  {
   "cell_type": "code",
   "execution_count": null,
   "metadata": {},
   "outputs": [],
   "source": [
    "expr = \"2 * 3 + (4 * 5)\"\n",
    "expr = \"5 + (8 * 3 + 9 + 3 * 4 * 3)\"\n",
    "expr = \"5 * 9 * (7 * 3 * 3 + 9 * 3 + (8 + 6 * 4))\"\n",
    "expr = \"((2 + 4 * 9) * (6 + 9 * 8 + 6) + 6) + 2 + 4 * 2\""
   ]
  },
  {
   "cell_type": "code",
   "execution_count": null,
   "metadata": {},
   "outputs": [],
   "source": [
    "filename = \"day18.input\"\n",
    "with open(filename) as file:\n",
    "    expressions = [line.strip() for line in file]"
   ]
  },
  {
   "cell_type": "code",
   "execution_count": null,
   "metadata": {},
   "outputs": [],
   "source": [
    "def eval_match(match):\n",
    "    return str(eval(match.group(0)))"
   ]
  },
  {
   "cell_type": "markdown",
   "metadata": {},
   "source": [
    "# Part 1"
   ]
  },
  {
   "cell_type": "code",
   "execution_count": null,
   "metadata": {},
   "outputs": [],
   "source": [
    "def compute(expr):\n",
    "\n",
    "    # While there are operators left\n",
    "    while re.search(r\"[+*]\", expr):\n",
    "        \n",
    "        # Replace the leftmost simple expression with its result\n",
    "        expr = re.sub(r\"\\d+ [+*] \\d+\", eval_match, expr, count=1)\n",
    "\n",
    "        # Replace a number inside () with just the number\n",
    "        expr = re.sub(r\"\\((\\d+)\\)\", r\"\\1\", expr)\n",
    "    \n",
    "    return int(expr)"
   ]
  },
  {
   "cell_type": "code",
   "execution_count": null,
   "metadata": {},
   "outputs": [],
   "source": [
    "sum(compute(expression) for expression in expressions)"
   ]
  },
  {
   "cell_type": "markdown",
   "metadata": {},
   "source": [
    "# Part 2"
   ]
  },
  {
   "cell_type": "code",
   "execution_count": null,
   "metadata": {},
   "outputs": [],
   "source": [
    "def compute2(expr):\n",
    "    \n",
    "    # While there are + operators left\n",
    "    while re.search(r\"\\+\", expr):\n",
    "        # Replace simple additions with the evaluated result\n",
    "        expr = re.sub(r\"\\d+ \\+ \\d+\", eval_match, expr)\n",
    "        \n",
    "        # A () with only * in it, can be replaced with the result\n",
    "        expr = re.sub(r\"\\((\\d+( \\* \\d+)*)\\)\", eval_match, expr)\n",
    "        \n",
    "    # While there are * operators left\n",
    "    while re.search(r\"\\*\", expr):\n",
    "        # Replace simple multiplication with the evaluated result\n",
    "        expr = re.sub(r\"\\d+ \\* \\d+\", eval_match, expr)\n",
    "\n",
    "        # A () with just a number in it can be replaced by the number\n",
    "        expr = re.sub(r\"\\((\\d+)\\)\", r\"\\1\", expr)\n",
    "\n",
    "    return int(expr)"
   ]
  },
  {
   "cell_type": "code",
   "execution_count": null,
   "metadata": {},
   "outputs": [],
   "source": [
    "sum(compute2(expression) for expression in expressions)"
   ]
  },
  {
   "cell_type": "markdown",
   "metadata": {},
   "source": [
    "# Alternative solution - Shunting-yard algorithm"
   ]
  },
  {
   "cell_type": "code",
   "execution_count": null,
   "metadata": {},
   "outputs": [],
   "source": [
    "import operator\n",
    "import re"
   ]
  },
  {
   "cell_type": "code",
   "execution_count": null,
   "metadata": {},
   "outputs": [],
   "source": [
    "filename = \"day18.input\"\n",
    "with open(filename) as file:\n",
    "    expressions = [line.strip() for line in file]"
   ]
  },
  {
   "cell_type": "code",
   "execution_count": null,
   "metadata": {},
   "outputs": [],
   "source": [
    "def shunting_yard(expression):\n",
    "    \"\"\"Convert infix expression into RPN.\n",
    "    \n",
    "    Uses the Shunting-yard algorithm by Dijkstra:\n",
    "    https://en.wikipedia.org/wiki/Shunting-yard_algorithm\n",
    "    \"\"\"    \n",
    "    # Make the expression easier to tokenize by adding spaces\n",
    "    expression = re.sub(\"([\\(\\)])\", r\" \\1 \", expression)\n",
    "    \n",
    "    output, stack = [], []\n",
    "    for token in expression.split():\n",
    "        if re.match(\"\\d+\", token):\n",
    "            output.append(token)\n",
    "        elif token in operators:\n",
    "            while stack \\\n",
    "                and (stack[-1] != \"(\") \\\n",
    "                and (precedence[stack[-1]] >= precedence[token]):\n",
    "                    output.append(stack.pop())\n",
    "            stack.append(token)\n",
    "        elif token == \"(\":\n",
    "            stack.append(token)\n",
    "        elif token == \")\":\n",
    "            while stack:\n",
    "                oper = stack.pop()\n",
    "                if oper != \"(\":\n",
    "                    output.append(oper)\n",
    "                else:\n",
    "                    break\n",
    "    while stack:\n",
    "        output.append(stack.pop())\n",
    "        \n",
    "    return output"
   ]
  },
  {
   "cell_type": "code",
   "execution_count": null,
   "metadata": {},
   "outputs": [],
   "source": [
    "def rpn_eval(rpn):\n",
    "    \"\"\"Evaluate an RPN expression\"\"\"\n",
    "    stack = []\n",
    "    for token in rpn:\n",
    "        if token in operators:\n",
    "            arg1 = stack.pop()\n",
    "            arg2 = stack.pop()\n",
    "            stack.append(operators[token](arg1, arg2))\n",
    "        else:\n",
    "            stack.append(int(token))\n",
    "    \n",
    "    return stack.pop()\n",
    "\n",
    "def compute(expression):\n",
    "    return rpn_eval(shunting_yard(expression))"
   ]
  },
  {
   "cell_type": "markdown",
   "metadata": {},
   "source": [
    "# Part 1"
   ]
  },
  {
   "cell_type": "code",
   "execution_count": null,
   "metadata": {},
   "outputs": [],
   "source": [
    "precedence = {\"+\": 2, \"*\": 2}\n",
    "operators = {\"+\": operator.add, \"*\": operator.mul}"
   ]
  },
  {
   "cell_type": "code",
   "execution_count": null,
   "metadata": {},
   "outputs": [],
   "source": [
    "assert 26 == compute(\"2 * 3 + (4 * 5)\")\n",
    "assert 437 == compute(\"5 + (8 * 3 + 9 + 3 * 4 * 3)\")\n",
    "assert 12240 == compute(\"5 * 9 * (7 * 3 * 3 + 9 * 3 + (8 + 6 * 4))\")\n",
    "assert 13632 == compute(\"((2 + 4 * 9) * (6 + 9 * 8 + 6) + 6) + 2 + 4 * 2\")"
   ]
  },
  {
   "cell_type": "code",
   "execution_count": null,
   "metadata": {},
   "outputs": [],
   "source": [
    "sum(compute(expression) for expression in expressions)"
   ]
  },
  {
   "cell_type": "markdown",
   "metadata": {},
   "source": [
    "# Part 2"
   ]
  },
  {
   "cell_type": "code",
   "execution_count": null,
   "metadata": {},
   "outputs": [],
   "source": [
    "precedence = {\"+\": 3, \"*\": 2}\n",
    "operators = {\"+\": operator.add, \"*\": operator.mul}"
   ]
  },
  {
   "cell_type": "code",
   "execution_count": null,
   "metadata": {},
   "outputs": [],
   "source": [
    "assert 51 == compute(\"1 + (2 * 3) + (4 * (5 + 6))\")\n",
    "assert 46 == compute(\"2 * 3 + (4 * 5)\")\n",
    "assert 1445 == compute(\"5 + (8 * 3 + 9 + 3 * 4 * 3)\")\n",
    "assert 669060 == compute(\"5 * 9 * (7 * 3 * 3 + 9 * 3 + (8 + 6 * 4))\")\n",
    "assert 23340 == compute(\"((2 + 4 * 9) * (6 + 9 * 8 + 6) + 6) + 2 + 4 * 2\")"
   ]
  },
  {
   "cell_type": "code",
   "execution_count": null,
   "metadata": {},
   "outputs": [],
   "source": [
    "sum(compute(expression) for expression in expressions)"
   ]
  },
  {
   "cell_type": "code",
   "execution_count": null,
   "metadata": {},
   "outputs": [],
   "source": []
  }
 ],
 "metadata": {
  "kernelspec": {
   "display_name": "Python 3",
   "language": "python",
   "name": "python3"
  },
  "language_info": {
   "codemirror_mode": {
    "name": "ipython",
    "version": 3
   },
   "file_extension": ".py",
   "mimetype": "text/x-python",
   "name": "python",
   "nbconvert_exporter": "python",
   "pygments_lexer": "ipython3",
   "version": "3.8.6"
  },
  "toc": {
   "base_numbering": 1,
   "nav_menu": {},
   "number_sections": true,
   "sideBar": true,
   "skip_h1_title": false,
   "title_cell": "Table of Contents",
   "title_sidebar": "Contents",
   "toc_cell": false,
   "toc_position": {},
   "toc_section_display": true,
   "toc_window_display": false
  }
 },
 "nbformat": 4,
 "nbformat_minor": 4
}
