{
 "cells": [
  {
   "cell_type": "code",
   "execution_count": null,
   "metadata": {},
   "outputs": [],
   "source": [
    "import re"
   ]
  },
  {
   "cell_type": "code",
   "execution_count": null,
   "metadata": {},
   "outputs": [],
   "source": [
    "expr = \"2 * 3 + (4 * 5)\"\n",
    "expr = \"5 + (8 * 3 + 9 + 3 * 4 * 3)\"\n",
    "expr = \"5 * 9 * (7 * 3 * 3 + 9 * 3 + (8 + 6 * 4))\"\n",
    "expr = \"((2 + 4 * 9) * (6 + 9 * 8 + 6) + 6) + 2 + 4 * 2\""
   ]
  },
  {
   "cell_type": "code",
   "execution_count": null,
   "metadata": {},
   "outputs": [],
   "source": [
    "filename = \"day18.input\"\n",
    "with open(filename) as file:\n",
    "    expressions = [line.strip() for line in file]"
   ]
  },
  {
   "cell_type": "code",
   "execution_count": null,
   "metadata": {},
   "outputs": [],
   "source": [
    "def eval_match(match):\n",
    "    return str(eval(match.group(0)))"
   ]
  },
  {
   "cell_type": "markdown",
   "metadata": {},
   "source": [
    "# Part 1"
   ]
  },
  {
   "cell_type": "code",
   "execution_count": null,
   "metadata": {},
   "outputs": [],
   "source": [
    "def compute(expr):\n",
    "\n",
    "    # While there are operators left\n",
    "    while re.search(r\"[+*]\", expr):\n",
    "        \n",
    "        # Replace the leftmost simple expression with its result\n",
    "        expr = re.sub(r\"\\d+ [+*] \\d+\", eval_match, expr, count=1)\n",
    "\n",
    "        # Replace a number inside () with just the number\n",
    "        expr = re.sub(r\"\\((\\d+)\\)\", r\"\\1\", expr)\n",
    "    \n",
    "    return int(expr)"
   ]
  },
  {
   "cell_type": "code",
   "execution_count": null,
   "metadata": {},
   "outputs": [],
   "source": [
    "sum(compute(expression) for expression in expressions)"
   ]
  },
  {
   "cell_type": "markdown",
   "metadata": {},
   "source": [
    "# Part 2"
   ]
  },
  {
   "cell_type": "code",
   "execution_count": null,
   "metadata": {},
   "outputs": [],
   "source": [
    "def compute2(expr):\n",
    "    \n",
    "    # While there are + operators left\n",
    "    while re.search(r\"\\+\", expr):\n",
    "        # Replace simple additions with the evaluated result\n",
    "        expr = re.sub(r\"\\d+ \\+ \\d+\", eval_match, expr)\n",
    "        \n",
    "        # A () with only * in it, can be replaced with the result\n",
    "        expr = re.sub(r\"\\((\\d+( \\* \\d+)*)\\)\", eval_match, expr)\n",
    "        \n",
    "    # While there are * operators left\n",
    "    while re.search(r\"\\*\", expr):\n",
    "        # Replace simple multiplication with the evaluated result\n",
    "        expr = re.sub(r\"\\d+ \\* \\d+\", eval_match, expr)\n",
    "\n",
    "        # A () with just a number in it can be replaced by the number\n",
    "        expr = re.sub(r\"\\((\\d+)\\)\", r\"\\1\", expr)\n",
    "\n",
    "    return int(expr)"
   ]
  },
  {
   "cell_type": "code",
   "execution_count": null,
   "metadata": {},
   "outputs": [],
   "source": [
    "sum(compute2(expression) for expression in expressions)"
   ]
  },
  {
   "cell_type": "code",
   "execution_count": null,
   "metadata": {},
   "outputs": [],
   "source": []
  }
 ],
 "metadata": {
  "kernelspec": {
   "display_name": "Python 3",
   "language": "python",
   "name": "python3"
  },
  "language_info": {
   "codemirror_mode": {
    "name": "ipython",
    "version": 3
   },
   "file_extension": ".py",
   "mimetype": "text/x-python",
   "name": "python",
   "nbconvert_exporter": "python",
   "pygments_lexer": "ipython3",
   "version": "3.8.6"
  },
  "toc": {
   "base_numbering": 1,
   "nav_menu": {},
   "number_sections": true,
   "sideBar": true,
   "skip_h1_title": false,
   "title_cell": "Table of Contents",
   "title_sidebar": "Contents",
   "toc_cell": false,
   "toc_position": {},
   "toc_section_display": true,
   "toc_window_display": false
  }
 },
 "nbformat": 4,
 "nbformat_minor": 4
}
