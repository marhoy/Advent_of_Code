{
 "cells": [
  {
   "cell_type": "code",
   "execution_count": 1,
   "metadata": {
    "ExecuteTime": {
     "end_time": "2020-12-08T12:52:07.059076Z",
     "start_time": "2020-12-08T12:52:07.051674Z"
    }
   },
   "outputs": [],
   "source": [
    "filename = \"day08.example.input\"\n",
    "filename = \"day08.input\"\n",
    "\n",
    "program = []\n",
    "with open(filename) as file:\n",
    "    for line in file:\n",
    "        operation, argument = line.split()\n",
    "        program.append((operation, int(argument)))"
   ]
  },
  {
   "cell_type": "markdown",
   "metadata": {},
   "source": [
    "# Part 1"
   ]
  },
  {
   "cell_type": "code",
   "execution_count": 2,
   "metadata": {
    "ExecuteTime": {
     "end_time": "2020-12-08T12:52:07.801920Z",
     "start_time": "2020-12-08T12:52:07.794799Z"
    }
   },
   "outputs": [],
   "source": [
    "def run(program):\n",
    "    pointer, accumulator = 0, 0\n",
    "    execute_counts = [0] * len(program)\n",
    "\n",
    "    while pointer != len(program):\n",
    "        if execute_counts[pointer] > 0:\n",
    "            raise StopIteration(\n",
    "                f\"Infinite loop detected: Pointer {pointer} {program[pointer]}. \"\n",
    "                f\"Accumulator: {accumulator}\"\n",
    "            )\n",
    "        execute_counts[pointer] += 1\n",
    "        operation, argument = program[pointer]\n",
    "        if operation  == \"acc\":\n",
    "            accumulator += argument\n",
    "            pointer += 1\n",
    "        elif operation  == \"jmp\":\n",
    "            pointer += argument\n",
    "        elif operation  == \"nop\":\n",
    "            pointer += 1\n",
    "        else:\n",
    "            raise ValueError(f\"Unkown operation : {operation}\")\n",
    "        \n",
    "    return pointer, accumulator"
   ]
  },
  {
   "cell_type": "code",
   "execution_count": 3,
   "metadata": {
    "ExecuteTime": {
     "end_time": "2020-12-08T12:52:08.236781Z",
     "start_time": "2020-12-08T12:52:08.176758Z"
    }
   },
   "outputs": [
    {
     "ename": "StopIteration",
     "evalue": "Infinite loop detected: Pointer 464 ('acc', 28). Accumulator: 2051",
     "output_type": "error",
     "traceback": [
      "\u001b[0;31m---------------------------------------------------------------------------\u001b[0m",
      "\u001b[0;31mStopIteration\u001b[0m                             Traceback (most recent call last)",
      "\u001b[0;32m<ipython-input-3-01b18e4738ee>\u001b[0m in \u001b[0;36m<module>\u001b[0;34m\u001b[0m\n\u001b[0;32m----> 1\u001b[0;31m \u001b[0mrun\u001b[0m\u001b[0;34m(\u001b[0m\u001b[0mprogram\u001b[0m\u001b[0;34m)\u001b[0m\u001b[0;34m\u001b[0m\u001b[0;34m\u001b[0m\u001b[0m\n\u001b[0m",
      "\u001b[0;32m<ipython-input-2-518f66d72612>\u001b[0m in \u001b[0;36mrun\u001b[0;34m(program)\u001b[0m\n\u001b[1;32m      5\u001b[0m     \u001b[0;32mwhile\u001b[0m \u001b[0mpointer\u001b[0m \u001b[0;34m!=\u001b[0m \u001b[0mlen\u001b[0m\u001b[0;34m(\u001b[0m\u001b[0mprogram\u001b[0m\u001b[0;34m)\u001b[0m\u001b[0;34m:\u001b[0m\u001b[0;34m\u001b[0m\u001b[0;34m\u001b[0m\u001b[0m\n\u001b[1;32m      6\u001b[0m         \u001b[0;32mif\u001b[0m \u001b[0mexecute_counts\u001b[0m\u001b[0;34m[\u001b[0m\u001b[0mpointer\u001b[0m\u001b[0;34m]\u001b[0m \u001b[0;34m>\u001b[0m \u001b[0;36m0\u001b[0m\u001b[0;34m:\u001b[0m\u001b[0;34m\u001b[0m\u001b[0;34m\u001b[0m\u001b[0m\n\u001b[0;32m----> 7\u001b[0;31m             raise StopIteration(\n\u001b[0m\u001b[1;32m      8\u001b[0m                 \u001b[0;34mf\"Infinite loop detected: Pointer {pointer} {program[pointer]}. \"\u001b[0m\u001b[0;34m\u001b[0m\u001b[0;34m\u001b[0m\u001b[0m\n\u001b[1;32m      9\u001b[0m                 \u001b[0;34mf\"Accumulator: {accumulator}\"\u001b[0m\u001b[0;34m\u001b[0m\u001b[0;34m\u001b[0m\u001b[0m\n",
      "\u001b[0;31mStopIteration\u001b[0m: Infinite loop detected: Pointer 464 ('acc', 28). Accumulator: 2051"
     ]
    }
   ],
   "source": [
    "run(program)"
   ]
  },
  {
   "cell_type": "markdown",
   "metadata": {},
   "source": [
    "# Part 2"
   ]
  },
  {
   "cell_type": "code",
   "execution_count": 5,
   "metadata": {
    "ExecuteTime": {
     "end_time": "2020-12-08T12:52:14.709862Z",
     "start_time": "2020-12-08T12:52:14.679636Z"
    }
   },
   "outputs": [
    {
     "name": "stdout",
     "output_type": "stream",
     "text": [
      "Problem solved by replacing 'jmp' at position 321.\n",
      "Final accumulator result after bugfix: 2304\n"
     ]
    }
   ],
   "source": [
    "for row, (operation, argument) in enumerate(program):\n",
    "\n",
    "    # Create a new, modified program\n",
    "    new_program = program.copy()\n",
    "    if operation == \"nop\":\n",
    "        new_program[row] = (\"jmp\", argument)\n",
    "    elif operation == \"jmp\":\n",
    "        new_program[row] = (\"nop\", argument)\n",
    "    else:\n",
    "        continue  # No need to run the original program\n",
    "\n",
    "    # Try running the modified program\n",
    "    try:\n",
    "        pointer, accumulator = run(new_program)\n",
    "    except Exception:\n",
    "        pass  # Program still not working, try another fix\n",
    "    else:\n",
    "        print(\n",
    "            f\"Problem solved by replacing '{operation}' at position {row}.\\n\"\n",
    "            f\"Final accumulator result after bugfix: {accumulator}\"\n",
    "        )"
   ]
  },
  {
   "cell_type": "code",
   "execution_count": null,
   "metadata": {},
   "outputs": [],
   "source": []
  }
 ],
 "metadata": {
  "kernelspec": {
   "display_name": "Python 3",
   "language": "python",
   "name": "python3"
  },
  "language_info": {
   "codemirror_mode": {
    "name": "ipython",
    "version": 3
   },
   "file_extension": ".py",
   "mimetype": "text/x-python",
   "name": "python",
   "nbconvert_exporter": "python",
   "pygments_lexer": "ipython3",
   "version": "3.8.6"
  },
  "toc": {
   "base_numbering": 1,
   "nav_menu": {},
   "number_sections": true,
   "sideBar": true,
   "skip_h1_title": false,
   "title_cell": "Table of Contents",
   "title_sidebar": "Contents",
   "toc_cell": false,
   "toc_position": {},
   "toc_section_display": true,
   "toc_window_display": false
  }
 },
 "nbformat": 4,
 "nbformat_minor": 4
}
