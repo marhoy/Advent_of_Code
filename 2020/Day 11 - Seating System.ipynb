{
 "cells": [
  {
   "cell_type": "code",
   "execution_count": null,
   "metadata": {},
   "outputs": [],
   "source": [
    "from collections import Counter"
   ]
  },
  {
   "cell_type": "code",
   "execution_count": null,
   "metadata": {},
   "outputs": [],
   "source": [
    "filename = \"day11.example.input\"\n",
    "filename = \"day11.input\"\n",
    "\n",
    "def read_seats():\n",
    "    seats = dict()\n",
    "    with open(filename) as file:\n",
    "        for row, line in enumerate(file):\n",
    "            for col, char in enumerate(line.strip()):\n",
    "                seats[row, col] = char\n",
    "    \n",
    "    N_ROWS, N_COLS = row, col\n",
    "\n",
    "    return seats, N_ROWS, N_COLS"
   ]
  },
  {
   "cell_type": "code",
   "execution_count": null,
   "metadata": {},
   "outputs": [],
   "source": [
    "def print_seats(seats):\n",
    "    for row in range(N_ROWS + 1):\n",
    "        print(\"\".join(seats[row, col] for col in range(N_COLS + 1)))"
   ]
  },
  {
   "cell_type": "markdown",
   "metadata": {},
   "source": [
    "# Part 1"
   ]
  },
  {
   "cell_type": "code",
   "execution_count": null,
   "metadata": {},
   "outputs": [],
   "source": [
    "def adjacent_occupied(pos, seats):\n",
    "    row, col = pos\n",
    "    count = 0\n",
    "    for drow, dcol in zip((0, 0, -1, -1, -1, 1, 1, 1), (1, -1, -1, 0, 1, -1, 0, 1)):\n",
    "        if seats.get((row + drow, col + dcol)) == '#':\n",
    "            count += 1\n",
    "    return count"
   ]
  },
  {
   "cell_type": "code",
   "execution_count": null,
   "metadata": {},
   "outputs": [],
   "source": [
    "def fill_seats(seats):\n",
    "    new_seats = seats.copy()\n",
    "    for pos in seats:\n",
    "        if (seats[pos] == \"L\") and (adjacent_occupied(pos, seats) == 0):\n",
    "            new_seats[pos] = \"#\"\n",
    "        elif (seats[pos] == \"#\") and (adjacent_occupied(pos, seats) >= 4):\n",
    "            new_seats[pos] = \"L\"\n",
    "    \n",
    "    return new_seats"
   ]
  },
  {
   "cell_type": "code",
   "execution_count": null,
   "metadata": {},
   "outputs": [],
   "source": [
    "seats, N_ROWS, N_COLS = read_seats()\n",
    "# print_seats(seats)"
   ]
  },
  {
   "cell_type": "code",
   "execution_count": null,
   "metadata": {},
   "outputs": [],
   "source": [
    "n_occupied_last = 0\n",
    "while True:\n",
    "    seats = fill_seats(seats)\n",
    "    n_occupied_now = Counter(seats.values())[\"#\"] \n",
    "    if n_occupied_now == n_occupied_last:\n",
    "        break\n",
    "    n_occupied_last = n_occupied_now\n",
    "\n",
    "print(\"No change:\", n_occupied_now)"
   ]
  },
  {
   "cell_type": "markdown",
   "metadata": {},
   "source": [
    "# Part 2"
   ]
  },
  {
   "cell_type": "code",
   "execution_count": null,
   "metadata": {},
   "outputs": [],
   "source": [
    "from itertools import product"
   ]
  },
  {
   "cell_type": "code",
   "execution_count": null,
   "metadata": {},
   "outputs": [],
   "source": [
    "def directions_occupied(pos, seats):\n",
    "    row, col = pos\n",
    "    directions = [direction for direction in product(*[[-1, 0, 1]] * 2) if direction != (0, 0)]\n",
    "    count = 0\n",
    "    for direction in directions:\n",
    "        multiplier = 1\n",
    "        while True:\n",
    "            drow, dcol = [d * multiplier for d in direction]\n",
    "            value = seats.get((row + drow, col + dcol))\n",
    "            if value == '#':\n",
    "                count += 1\n",
    "                break\n",
    "            if (value == \"L\") or (value is None):\n",
    "                # Found a vacant seat, or we're outside the grid\n",
    "                break\n",
    "            multiplier += 1\n",
    "\n",
    "    return count"
   ]
  },
  {
   "cell_type": "code",
   "execution_count": null,
   "metadata": {},
   "outputs": [],
   "source": [
    "def fill_seats_2(seats):\n",
    "    new_seats = seats.copy()\n",
    "    for pos in seats:\n",
    "        occupied_seats = directions_occupied(pos, seats)\n",
    "        if (seats[pos] == \"L\") and (occupied_seats == 0):\n",
    "            new_seats[pos] = \"#\"\n",
    "        elif (seats[pos] == \"#\") and (occupied_seats >= 5):\n",
    "            new_seats[pos] = \"L\"\n",
    "    \n",
    "    return new_seats"
   ]
  },
  {
   "cell_type": "code",
   "execution_count": null,
   "metadata": {},
   "outputs": [],
   "source": [
    "seats, N_ROWS, N_COLS = read_seats()"
   ]
  },
  {
   "cell_type": "code",
   "execution_count": null,
   "metadata": {},
   "outputs": [],
   "source": [
    "n_occupied_last = 0\n",
    "while True:\n",
    "    seats = fill_seats_2(seats)\n",
    "    n_occupied_now = Counter(seats.values())[\"#\"] \n",
    "    if n_occupied_now == n_occupied_last:\n",
    "        break\n",
    "    n_occupied_last = n_occupied_now\n",
    "\n",
    "print(\"No change:\", n_occupied_now)"
   ]
  },
  {
   "cell_type": "code",
   "execution_count": null,
   "metadata": {},
   "outputs": [],
   "source": []
  }
 ],
 "metadata": {
  "kernelspec": {
   "display_name": "Python 3",
   "language": "python",
   "name": "python3"
  },
  "language_info": {
   "codemirror_mode": {
    "name": "ipython",
    "version": 3
   },
   "file_extension": ".py",
   "mimetype": "text/x-python",
   "name": "python",
   "nbconvert_exporter": "python",
   "pygments_lexer": "ipython3",
   "version": "3.8.6"
  },
  "toc": {
   "base_numbering": 1,
   "nav_menu": {},
   "number_sections": true,
   "sideBar": true,
   "skip_h1_title": false,
   "title_cell": "Table of Contents",
   "title_sidebar": "Contents",
   "toc_cell": false,
   "toc_position": {},
   "toc_section_display": true,
   "toc_window_display": false
  }
 },
 "nbformat": 4,
 "nbformat_minor": 4
}
