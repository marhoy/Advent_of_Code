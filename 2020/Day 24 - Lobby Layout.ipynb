{
 "cells": [
  {
   "cell_type": "code",
   "execution_count": null,
   "metadata": {},
   "outputs": [],
   "source": [
    "import re"
   ]
  },
  {
   "cell_type": "code",
   "execution_count": null,
   "metadata": {},
   "outputs": [],
   "source": [
    "filename = \"day24.example.input\"\n",
    "filename = \"day24.input\"\n",
    "\n",
    "directions = []\n",
    "with open(filename) as file:\n",
    "    for line in file:\n",
    "        directions.append(re.findall(\"(e|w|ne|se|sw|nw)\", line.strip()))"
   ]
  },
  {
   "cell_type": "code",
   "execution_count": null,
   "metadata": {},
   "outputs": [],
   "source": [
    "from dataclasses import dataclass\n",
    "\n",
    "@dataclass(frozen=True)\n",
    "class Tile:\n",
    "    x: int = 0\n",
    "    y: int = 0\n",
    "    z: int = 0\n",
    "        \n",
    "    def neighbour(self, direction: str):\n",
    "        if direction == \"e\":\n",
    "            # (1 -1 0)\n",
    "            return Tile(self.x + 1, self.y - 1, self.z)\n",
    "        if direction == \"w\":\n",
    "            # (-1 1 0)\n",
    "            return Tile(self.x - 1, self.y + 1, self.z)\n",
    "        if direction == \"ne\":\n",
    "            # (1 0 -1)\n",
    "            return Tile(self.x + 1, self.y, self.z - 1)\n",
    "        if direction == \"sw\":\n",
    "            # (-1 0 1)\n",
    "            return Tile(self.x - 1, self.y, self.z + 1)\n",
    "        if direction == \"nw\":\n",
    "            # (0 1 -1)\n",
    "            return Tile(self.x, self.y + 1, self.z - 1)\n",
    "        if direction == \"se\":\n",
    "            # (0 -1 1)\n",
    "            return Tile(self.x, self.y - 1, self.z + 1)\n",
    "        raise ValueError(f\"Unknown direction: {direction}\")\n",
    "    \n",
    "    @property\n",
    "    def neighbours(self):\n",
    "        directions = (\"ne\", \"e\", \"se\", \"sw\", \"w\", \"nw\")\n",
    "        return [self.neighbour(direction) for direction in directions]\n",
    "    \n",
    "    @property\n",
    "    def radius(self) -> int:\n",
    "        \"\"\"This tile's distance from the center.\"\"\"\n",
    "        return max(abs(self.x), abs(self.y), abs(self.z))"
   ]
  },
  {
   "cell_type": "markdown",
   "metadata": {},
   "source": [
    "# Part 1"
   ]
  },
  {
   "cell_type": "code",
   "execution_count": null,
   "metadata": {},
   "outputs": [],
   "source": [
    "grid = dict()\n",
    "for direction in directions:\n",
    "    tile = Tile()\n",
    "    for d in direction:\n",
    "        tile = tile.neighbour(d)\n",
    "\n",
    "    value = grid.get(tile, 0)\n",
    "    grid[tile] = (value + 1) % 2\n",
    "\n",
    "sum(grid.values())"
   ]
  },
  {
   "cell_type": "markdown",
   "metadata": {},
   "source": [
    "# Part 2"
   ]
  },
  {
   "cell_type": "code",
   "execution_count": null,
   "metadata": {},
   "outputs": [],
   "source": [
    "for _ in range(100):\n",
    "    old_grid = grid.copy()\n",
    "    seen = set()\n",
    "    for tile, value in old_grid.items():\n",
    "        if (value == 0):\n",
    "            continue  # Check only black tiles\n",
    "        num_black = sum(old_grid.get(n, 0) for n in tile.neighbours)\n",
    "        if (num_black == 0) or (num_black > 2):\n",
    "            grid[tile] = 0\n",
    "\n",
    "        # Check white neighbours of each black tile\n",
    "        for neighbour in tile.neighbours:\n",
    "            if (neighbour in seen) or (old_grid.get(neighbour, 0) == 1):\n",
    "                continue  # Skip black neighbours\n",
    "            seen.add(neighbour)\n",
    "            num_black = sum(old_grid.get(n, 0) for n in neighbour.neighbours)\n",
    "            if num_black == 2:\n",
    "                grid[neighbour] = 1\n",
    "            \n",
    "sum(grid.values())"
   ]
  },
  {
   "cell_type": "markdown",
   "metadata": {},
   "source": [
    "## Alternative solution, looping over all tiles within a radius"
   ]
  },
  {
   "cell_type": "code",
   "execution_count": null,
   "metadata": {},
   "outputs": [],
   "source": [
    "for _ in range(100):\n",
    "    old_grid = grid.copy()\n",
    "\n",
    "    radius = max(grid.keys(), key=lambda t: t.radius).radius + 1\n",
    "    for x in range(-radius, radius + 1):\n",
    "        for y in range(-radius, radius + 1):\n",
    "            z = -x - y\n",
    "            tile = Tile(x, y, z)\n",
    "            neighbours = tile.neighbours\n",
    "            num_black = sum(old_grid.get(n, 0) for n in neighbours)\n",
    "            if (old_grid.get(tile, 0) == 1) and ((num_black == 0) or (num_black > 2)):\n",
    "                grid[tile] = 0\n",
    "            elif (old_grid.get(tile, 0) == 0) and (num_black == 2):\n",
    "                grid[tile] = 1\n",
    "\n",
    "sum(grid.values())"
   ]
  },
  {
   "cell_type": "code",
   "execution_count": null,
   "metadata": {},
   "outputs": [],
   "source": []
  }
 ],
 "metadata": {
  "kernelspec": {
   "display_name": "Python 3",
   "language": "python",
   "name": "python3"
  },
  "language_info": {
   "codemirror_mode": {
    "name": "ipython",
    "version": 3
   },
   "file_extension": ".py",
   "mimetype": "text/x-python",
   "name": "python",
   "nbconvert_exporter": "python",
   "pygments_lexer": "ipython3",
   "version": "3.8.6"
  },
  "toc": {
   "base_numbering": 1,
   "nav_menu": {},
   "number_sections": true,
   "sideBar": true,
   "skip_h1_title": false,
   "title_cell": "Table of Contents",
   "title_sidebar": "Contents",
   "toc_cell": false,
   "toc_position": {},
   "toc_section_display": true,
   "toc_window_display": false
  }
 },
 "nbformat": 4,
 "nbformat_minor": 4
}
