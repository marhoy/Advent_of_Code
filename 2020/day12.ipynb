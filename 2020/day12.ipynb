{
 "cells": [
  {
   "cell_type": "code",
   "execution_count": null,
   "metadata": {},
   "outputs": [],
   "source": [
    "import re\n",
    "from math import cos, sin, radians"
   ]
  },
  {
   "cell_type": "code",
   "execution_count": null,
   "metadata": {},
   "outputs": [],
   "source": [
    "filename = \"day12.example.input\"\n",
    "filename = \"day12.input\"\n",
    "\n",
    "instructions = []\n",
    "with open(filename) as file:\n",
    "    for line in file:\n",
    "        groups = re.match(\"^(\\w)(-?\\d+)\", line).groups()\n",
    "        instructions.append((groups[0], int(groups[1])))"
   ]
  },
  {
   "cell_type": "markdown",
   "metadata": {},
   "source": [
    "# Part 1"
   ]
  },
  {
   "cell_type": "code",
   "execution_count": null,
   "metadata": {},
   "outputs": [],
   "source": [
    "position = [0, 0]  # Coordinates: [N, E]\n",
    "heading = 90\n",
    "\n",
    "for action, value in instructions:\n",
    "    if action == \"N\":\n",
    "        position[0] += value\n",
    "    elif action == \"S\":\n",
    "        position[0] -= value\n",
    "    elif action == \"E\":\n",
    "        position[1] += value\n",
    "    elif action == \"W\":\n",
    "        position[1] -= value\n",
    "    elif action == \"R\":\n",
    "        heading = (heading + value) % 360\n",
    "    elif action == \"L\":\n",
    "        heading = (heading - value) % 360\n",
    "    elif action == \"F\":\n",
    "        for i, func in enumerate([cos, sin]):\n",
    "            position[i] += value * round(func(radians(heading)))\n",
    "            "
   ]
  },
  {
   "cell_type": "code",
   "execution_count": null,
   "metadata": {},
   "outputs": [],
   "source": [
    "distance = sum([abs(ne) for ne in position])\n",
    "distance"
   ]
  },
  {
   "cell_type": "markdown",
   "metadata": {},
   "source": [
    "# Part 2"
   ]
  },
  {
   "cell_type": "code",
   "execution_count": null,
   "metadata": {},
   "outputs": [],
   "source": [
    "def rotate(point, angle):\n",
    "    angle = radians(angle)\n",
    "    n, e = point\n",
    "    new_n = n*cos(angle) - e*sin(angle)\n",
    "    new_e = n*sin(angle) + e*cos(angle)\n",
    "    return [round(new_n), round(new_e)]"
   ]
  },
  {
   "cell_type": "code",
   "execution_count": null,
   "metadata": {},
   "outputs": [],
   "source": [
    "position = [0, 0]  # Coordinates: [N, E]\n",
    "waypoint = [1, 10] # Coordinates relative to ship: [N, E]\n",
    "\n",
    "for action, value in instructions:\n",
    "    if action == \"N\":\n",
    "        waypoint[0] += value\n",
    "    elif action == \"S\":\n",
    "        waypoint[0] -= value\n",
    "    elif action == \"E\":\n",
    "        waypoint[1] += value\n",
    "    elif action == \"W\":\n",
    "        waypoint[1] -= value\n",
    "    elif action == \"R\":\n",
    "        waypoint = rotate(waypoint, value)\n",
    "    elif action == \"L\":\n",
    "        waypoint = rotate(waypoint, -value)\n",
    "    elif action == \"F\":\n",
    "        for i, wp in enumerate(waypoint):\n",
    "            position[i] += value*wp\n",
    "            \n",
    "position"
   ]
  },
  {
   "cell_type": "code",
   "execution_count": null,
   "metadata": {},
   "outputs": [],
   "source": [
    "distance = sum([abs(ne) for ne in position])\n",
    "distance"
   ]
  },
  {
   "cell_type": "code",
   "execution_count": null,
   "metadata": {},
   "outputs": [],
   "source": []
  }
 ],
 "metadata": {
  "kernelspec": {
   "display_name": "Python 3",
   "language": "python",
   "name": "python3"
  },
  "language_info": {
   "codemirror_mode": {
    "name": "ipython",
    "version": 3
   },
   "file_extension": ".py",
   "mimetype": "text/x-python",
   "name": "python",
   "nbconvert_exporter": "python",
   "pygments_lexer": "ipython3",
   "version": "3.9.0"
  },
  "toc": {
   "base_numbering": 1,
   "nav_menu": {},
   "number_sections": true,
   "sideBar": true,
   "skip_h1_title": false,
   "title_cell": "Table of Contents",
   "title_sidebar": "Contents",
   "toc_cell": false,
   "toc_position": {},
   "toc_section_display": true,
   "toc_window_display": false
  }
 },
 "nbformat": 4,
 "nbformat_minor": 4
}
