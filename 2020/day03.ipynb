{
 "cells": [
  {
   "cell_type": "code",
   "execution_count": null,
   "metadata": {
    "ExecuteTime": {
     "end_time": "2020-12-03T15:05:28.093673Z",
     "start_time": "2020-12-03T15:05:28.089034Z"
    }
   },
   "outputs": [],
   "source": [
    "import math"
   ]
  },
  {
   "cell_type": "code",
   "execution_count": null,
   "metadata": {
    "ExecuteTime": {
     "end_time": "2020-12-03T15:05:28.104184Z",
     "start_time": "2020-12-03T15:05:28.098456Z"
    }
   },
   "outputs": [],
   "source": [
    "with open(\"day03.input\") as file:\n",
    "    forest = [line.strip() for line in file]\n",
    "        \n",
    "N_rows, N_cols = len(forest), len(forest[0])"
   ]
  },
  {
   "cell_type": "code",
   "execution_count": null,
   "metadata": {
    "ExecuteTime": {
     "end_time": "2020-12-03T15:05:28.131304Z",
     "start_time": "2020-12-03T15:05:28.108673Z"
    }
   },
   "outputs": [],
   "source": [
    "def find_trees(slope):\n",
    "    row, col, trees = 0, 0, 0\n",
    "\n",
    "    while row < N_rows:\n",
    "        if forest[row][col] == \"#\":\n",
    "            trees += 1\n",
    "        col = (col + slope[0]) % N_cols\n",
    "        row += slope[1]\n",
    "    \n",
    "    return trees"
   ]
  },
  {
   "cell_type": "markdown",
   "metadata": {},
   "source": [
    "# Part 1"
   ]
  },
  {
   "cell_type": "code",
   "execution_count": null,
   "metadata": {
    "ExecuteTime": {
     "end_time": "2020-12-03T15:05:28.160038Z",
     "start_time": "2020-12-03T15:05:28.138055Z"
    }
   },
   "outputs": [],
   "source": [
    "find_trees(slope=(3, 1))"
   ]
  },
  {
   "cell_type": "markdown",
   "metadata": {},
   "source": [
    "# Part 2"
   ]
  },
  {
   "cell_type": "code",
   "execution_count": null,
   "metadata": {
    "ExecuteTime": {
     "end_time": "2020-12-03T15:05:28.180270Z",
     "start_time": "2020-12-03T15:05:28.166016Z"
    }
   },
   "outputs": [],
   "source": [
    "slopes = ((1, 1), (3, 1), (5, 1), (7, 1), (1, 2))\n",
    "\n",
    "trees = [find_trees(slope) for slope in slopes]\n",
    "math.prod(trees)    "
   ]
  }
 ],
 "metadata": {
  "kernelspec": {
   "display_name": "Python 3",
   "language": "python",
   "name": "python3"
  },
  "language_info": {
   "codemirror_mode": {
    "name": "ipython",
    "version": 3
   },
   "file_extension": ".py",
   "mimetype": "text/x-python",
   "name": "python",
   "nbconvert_exporter": "python",
   "pygments_lexer": "ipython3",
   "version": "3.8.6"
  },
  "toc": {
   "base_numbering": 1,
   "nav_menu": {},
   "number_sections": true,
   "sideBar": true,
   "skip_h1_title": false,
   "title_cell": "Table of Contents",
   "title_sidebar": "Contents",
   "toc_cell": false,
   "toc_position": {},
   "toc_section_display": true,
   "toc_window_display": false
  }
 },
 "nbformat": 4,
 "nbformat_minor": 4
}
