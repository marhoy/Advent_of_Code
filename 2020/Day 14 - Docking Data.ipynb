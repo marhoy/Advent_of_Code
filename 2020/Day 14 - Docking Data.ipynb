{
 "cells": [
  {
   "cell_type": "code",
   "execution_count": null,
   "metadata": {},
   "outputs": [],
   "source": [
    "import itertools\n",
    "import re"
   ]
  },
  {
   "cell_type": "code",
   "execution_count": null,
   "metadata": {},
   "outputs": [],
   "source": [
    "filename = \"day14.example.input\"\n",
    "filename = \"day14.example2.input\"\n",
    "filename = \"day14.input\"\n",
    "\n",
    "with open(filename) as file:\n",
    "    program = file.readlines()"
   ]
  },
  {
   "cell_type": "markdown",
   "metadata": {},
   "source": [
    "# Part 1"
   ]
  },
  {
   "cell_type": "code",
   "execution_count": null,
   "metadata": {},
   "outputs": [],
   "source": [
    "def masked_value(value, mask):\n",
    "    result = []\n",
    "    for v, m in zip(f\"{value:036b}\", mask):\n",
    "        if m == \"X\":\n",
    "            result.append(v)\n",
    "        else:\n",
    "            result.append(m)\n",
    "\n",
    "    return int(\"\".join(result), 2)"
   ]
  },
  {
   "cell_type": "code",
   "execution_count": null,
   "metadata": {},
   "outputs": [],
   "source": [
    "memory = dict()\n",
    "for line in program:\n",
    "    if match := re.match(\"mask = (\\w+)\", line):\n",
    "        mask = match.group(1)\n",
    "    elif match := re.match(\"mem\\[(\\d+)\\] = (\\d+)\", line):\n",
    "        address, value = match.groups()\n",
    "        memory[address] = masked_value(int(value), mask)\n",
    "        \n",
    "sum(memory.values())"
   ]
  },
  {
   "cell_type": "markdown",
   "metadata": {},
   "source": [
    "# Part 2"
   ]
  },
  {
   "cell_type": "code",
   "execution_count": null,
   "metadata": {},
   "outputs": [],
   "source": [
    "def memory_address_decoder(address, mask):\n",
    "    floating = []\n",
    "    for a, m in zip(f\"{address:036b}\", mask):\n",
    "        if m == \"0\":\n",
    "            floating.append(a)\n",
    "        else:\n",
    "            floating.append(m)\n",
    "\n",
    "    floating = \"\".join(floating)\n",
    "\n",
    "    num_X = len(re.findall(\"X\", floating))\n",
    "    replacements = [iter(\"\".join(p)) for p in itertools.product(*[\"01\"] * num_X)]\n",
    "\n",
    "    addresses = []\n",
    "    for replacement in replacements:\n",
    "        s = \"\".join(b if b != \"X\" else next(replacement) for b in floating)\n",
    "        addresses.append(int(s, 2))\n",
    "\n",
    "    return addresses"
   ]
  },
  {
   "cell_type": "code",
   "execution_count": null,
   "metadata": {},
   "outputs": [],
   "source": [
    "memory = dict()\n",
    "for line in program:\n",
    "    if match := re.match(\"mask = (\\w+)\", line):\n",
    "        mask = match.group(1)\n",
    "    elif match := re.match(\"mem\\[(\\d+)\\] = (\\d+)\", line):\n",
    "        address, value = match.groups()\n",
    "        for new_address in memory_address_decoder(int(address), mask):\n",
    "            memory[new_address] = int(value)\n",
    "\n",
    "sum(memory.values())"
   ]
  },
  {
   "cell_type": "code",
   "execution_count": null,
   "metadata": {},
   "outputs": [],
   "source": []
  }
 ],
 "metadata": {
  "kernelspec": {
   "display_name": "Python 3",
   "language": "python",
   "name": "python3"
  },
  "language_info": {
   "codemirror_mode": {
    "name": "ipython",
    "version": 3
   },
   "file_extension": ".py",
   "mimetype": "text/x-python",
   "name": "python",
   "nbconvert_exporter": "python",
   "pygments_lexer": "ipython3",
   "version": "3.8.6"
  },
  "toc": {
   "base_numbering": 1,
   "nav_menu": {},
   "number_sections": true,
   "sideBar": true,
   "skip_h1_title": false,
   "title_cell": "Table of Contents",
   "title_sidebar": "Contents",
   "toc_cell": false,
   "toc_position": {},
   "toc_section_display": true,
   "toc_window_display": false
  }
 },
 "nbformat": 4,
 "nbformat_minor": 4
}
