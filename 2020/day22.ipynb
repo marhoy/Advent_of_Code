{
 "cells": [
  {
   "cell_type": "code",
   "execution_count": null,
   "metadata": {},
   "outputs": [],
   "source": [
    "from collections import deque\n",
    "from itertools import islice\n",
    "import re"
   ]
  },
  {
   "cell_type": "code",
   "execution_count": null,
   "metadata": {},
   "outputs": [],
   "source": [
    "filename = \"day22.example.input\"\n",
    "filename = \"day22.input\"\n",
    "\n",
    "def get_decks():\n",
    "    players = []\n",
    "    with open(filename) as file:\n",
    "        for player_str in file.read().split(\"\\n\\n\"):\n",
    "            cards = deque([int(d) for d in re.findall(r\"^\\d+\", player_str, flags=re.MULTILINE)])\n",
    "            players.append(cards)\n",
    "    return players"
   ]
  },
  {
   "cell_type": "markdown",
   "metadata": {},
   "source": [
    "# Part 1"
   ]
  },
  {
   "cell_type": "code",
   "execution_count": null,
   "metadata": {},
   "outputs": [],
   "source": [
    "players = get_decks()\n",
    "\n",
    "while players[0] and players[1]:\n",
    "    c0 = players[0].popleft()\n",
    "    c1 = players[1].popleft()\n",
    "    if c0 > c1:\n",
    "        players[0].extend([c0, c1])\n",
    "    else:\n",
    "        players[1].extend([c1, c0])"
   ]
  },
  {
   "cell_type": "code",
   "execution_count": null,
   "metadata": {},
   "outputs": [],
   "source": [
    "for cards in players:\n",
    "    if not cards:\n",
    "        continue\n",
    "    score = sum([card*value for card, value in zip(cards, range(len(cards), 0, -1))])\n",
    "\n",
    "score"
   ]
  },
  {
   "cell_type": "markdown",
   "metadata": {},
   "source": [
    "# Part 2"
   ]
  },
  {
   "cell_type": "code",
   "execution_count": null,
   "metadata": {},
   "outputs": [],
   "source": [
    "def play_game(players):\n",
    "\n",
    "    configurations = set()\n",
    "    \n",
    "    while players[0] and players[1]:\n",
    "       \n",
    "        order = tuple(tuple(card for card in player) for player in players)\n",
    "        if order in configurations:\n",
    "            return 0  # Player 1 wins this game\n",
    "        configurations.add(order)\n",
    "        \n",
    "        # Draw one card each\n",
    "        card0 = players[0].popleft()\n",
    "        card1 = players[1].popleft()\n",
    "\n",
    "        if (len(players[0]) >= card0) and (len(players[1]) >= card1):\n",
    "            # Play a sub-game to determine this rounds winner\n",
    "            sub_players = [\n",
    "                deque(islice(players[0], card0)),\n",
    "                deque(islice(players[1], card1))\n",
    "            ]\n",
    "            round_winner = play_game(sub_players)\n",
    "        else:\n",
    "            round_winner = int(card0 < card1)\n",
    "                    \n",
    "        # Give the two cards to this rounds' winner\n",
    "        if round_winner == 0:\n",
    "            players[0].extend([card0, card1])\n",
    "        else:\n",
    "            players[1].extend([card1, card0])\n",
    "\n",
    "    # Someone is out of cards, announce game winner\n",
    "    if not players[1]:\n",
    "        return 0  # Player 1 wins this game\n",
    "    return 1  # Player 2 wins this game"
   ]
  },
  {
   "cell_type": "code",
   "execution_count": null,
   "metadata": {},
   "outputs": [],
   "source": [
    "players = get_decks()\n",
    "winner = play_game(players)"
   ]
  },
  {
   "cell_type": "code",
   "execution_count": null,
   "metadata": {},
   "outputs": [],
   "source": [
    "cards = players[winner]\n",
    "score = sum([card * value for card, value in zip(cards, range(len(cards), 0, -1))])\n",
    "\n",
    "score"
   ]
  },
  {
   "cell_type": "code",
   "execution_count": null,
   "metadata": {},
   "outputs": [],
   "source": []
  }
 ],
 "metadata": {
  "kernelspec": {
   "display_name": "Python 3",
   "language": "python",
   "name": "python3"
  },
  "language_info": {
   "codemirror_mode": {
    "name": "ipython",
    "version": 3
   },
   "file_extension": ".py",
   "mimetype": "text/x-python",
   "name": "python",
   "nbconvert_exporter": "python",
   "pygments_lexer": "ipython3",
   "version": "3.8.6"
  },
  "toc": {
   "base_numbering": 1,
   "nav_menu": {},
   "number_sections": true,
   "sideBar": true,
   "skip_h1_title": false,
   "title_cell": "Table of Contents",
   "title_sidebar": "Contents",
   "toc_cell": false,
   "toc_position": {},
   "toc_section_display": true,
   "toc_window_display": false
  }
 },
 "nbformat": 4,
 "nbformat_minor": 4
}
