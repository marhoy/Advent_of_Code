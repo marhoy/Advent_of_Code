{
 "cells": [
  {
   "cell_type": "code",
   "execution_count": null,
   "metadata": {},
   "outputs": [],
   "source": [
    "import re"
   ]
  },
  {
   "cell_type": "code",
   "execution_count": null,
   "metadata": {},
   "outputs": [],
   "source": [
    "filename = \"day19.example.input\"\n",
    "filename = \"day19.example2.input\"\n",
    "filename = \"day19.input\"\n",
    "\n",
    "with open(filename) as file:\n",
    "    rule_part, received_part = file.read().split(\"\\n\\n\")\n",
    "\n",
    "rule_specs = dict()\n",
    "for rule in rule_part.split(\"\\n\"):\n",
    "    k, v = rule.split(\": \")\n",
    "    rule_specs[k] = v"
   ]
  },
  {
   "cell_type": "markdown",
   "metadata": {},
   "source": [
    "# Part 1"
   ]
  },
  {
   "cell_type": "code",
   "execution_count": null,
   "metadata": {},
   "outputs": [],
   "source": [
    "def get_rule(number):\n",
    "    if not number in rules:\n",
    "        rules[number] = create_rule(number)\n",
    "    return rules[number]\n",
    "\n",
    "def join_spec(spec):\n",
    "    return \"\".join(get_rule(num) for num in spec.split())\n",
    "\n",
    "def create_rule(number):\n",
    "    spec = rule_specs[number]\n",
    "    if match := re.match('\"([a-z])\"', spec):\n",
    "        return match.group(1)\n",
    "    if not \"|\" in spec:\n",
    "        return join_spec(spec)\n",
    "    rule = \"|\".join(join_spec(part) for part in spec.split(\"|\"))\n",
    "    return f\"(?:{rule})\""
   ]
  },
  {
   "cell_type": "code",
   "execution_count": null,
   "metadata": {},
   "outputs": [],
   "source": [
    "rules = dict()\n",
    "pattern = re.compile(f\"^{get_rule('0')}$\")\n",
    "\n",
    "sum([bool(re.match(pattern, message)) for message in received_part.split(\"\\n\")])"
   ]
  },
  {
   "cell_type": "markdown",
   "metadata": {},
   "source": [
    "# Part 2"
   ]
  },
  {
   "cell_type": "code",
   "execution_count": null,
   "metadata": {},
   "outputs": [],
   "source": [
    "rule_specs[\"8\"] = \"42 | 42 8\"\n",
    "rule_specs[\"11\"] = \"42 31 | 42 11 31\""
   ]
  },
  {
   "cell_type": "code",
   "execution_count": null,
   "metadata": {},
   "outputs": [],
   "source": [
    "recursion_depth = dict()\n",
    "\n",
    "def create_rule(number):\n",
    "    # Limit the depth of recursion, since the messages have a limited length\n",
    "    recursion_depth[number] = recursion_depth.get(number, 0) + 1\n",
    "    if recursion_depth[number] > 5:\n",
    "        return \"\"\n",
    "\n",
    "    # The rest is the same as in Part 1\n",
    "    spec = rule_specs[number]\n",
    "    if match := re.match('\"([a-z])\"', spec):\n",
    "        return match.group(1)\n",
    "    if not \"|\" in spec:\n",
    "        return join_spec(spec)\n",
    "    rule = \"|\".join(join_spec(part) for part in spec.split(\"|\"))\n",
    "    return f\"(?:{rule})\""
   ]
  },
  {
   "cell_type": "code",
   "execution_count": null,
   "metadata": {},
   "outputs": [],
   "source": [
    "rules = dict()\n",
    "pattern = re.compile(f\"^{get_rule('0')}$\")\n",
    "\n",
    "sum([bool(re.match(pattern, message)) for message in received_part.split(\"\\n\")])"
   ]
  },
  {
   "cell_type": "code",
   "execution_count": null,
   "metadata": {},
   "outputs": [],
   "source": []
  }
 ],
 "metadata": {
  "kernelspec": {
   "display_name": "Python 3",
   "language": "python",
   "name": "python3"
  },
  "language_info": {
   "codemirror_mode": {
    "name": "ipython",
    "version": 3
   },
   "file_extension": ".py",
   "mimetype": "text/x-python",
   "name": "python",
   "nbconvert_exporter": "python",
   "pygments_lexer": "ipython3",
   "version": "3.9.0"
  },
  "toc": {
   "base_numbering": 1,
   "nav_menu": {},
   "number_sections": false,
   "sideBar": true,
   "skip_h1_title": false,
   "title_cell": "Table of Contents",
   "title_sidebar": "Contents",
   "toc_cell": false,
   "toc_position": {},
   "toc_section_display": true,
   "toc_window_display": false
  }
 },
 "nbformat": 4,
 "nbformat_minor": 4
}
