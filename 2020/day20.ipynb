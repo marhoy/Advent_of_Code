{
 "cells": [
  {
   "cell_type": "code",
   "execution_count": null,
   "metadata": {},
   "outputs": [],
   "source": [
    "from collections import Counter, defaultdict\n",
    "import itertools\n",
    "import math\n",
    "import re"
   ]
  },
  {
   "cell_type": "code",
   "execution_count": null,
   "metadata": {},
   "outputs": [],
   "source": [
    "filename = \"day20.example.input\"\n",
    "filename = \"day20.input\"\n",
    "\n",
    "with open(filename) as file:\n",
    "    tile_parts = file.read().strip().split(\"\\n\\n\")"
   ]
  },
  {
   "cell_type": "code",
   "execution_count": null,
   "metadata": {},
   "outputs": [],
   "source": [
    "def rotate_data(data, times=1):\n",
    "    \"\"\"Rotate data 90 degrees clockwise.\"\"\"\n",
    "    for _ in range(times):\n",
    "        data = [\"\".join(line) for line in zip(*data[::-1])]\n",
    "    return data\n",
    "\n",
    "def flip_data(data, axis=0):\n",
    "    \"\"\"Flip data along axis.\"\"\"\n",
    "    if axis == 0:\n",
    "        return data[::-1]\n",
    "    if axis == 1:\n",
    "        return [row[::-1] for row in data]"
   ]
  },
  {
   "cell_type": "code",
   "execution_count": null,
   "metadata": {},
   "outputs": [],
   "source": [
    "class Tile:\n",
    "    def __init__(self, input_string):\n",
    "        lines = input_string.strip().split(\"\\n\")\n",
    "        self.id = int(re.search(\"(\\d+)\", lines[0]).group(1))\n",
    "        self.data = lines[1:]\n",
    "    \n",
    "    @property\n",
    "    def normal_edges(self):\n",
    "        return (\n",
    "            self.data[0], self.data[-1],\n",
    "            \"\".join(line[0] for line in self.data),\n",
    "            \"\".join(line[-1] for line in self.data),\n",
    "        )\n",
    "        \n",
    "    @property\n",
    "    def edges(self):\n",
    "        return self.normal_edges + tuple(edge[::-1] for edge in self.normal_edges)\n",
    "    \n",
    "    @property\n",
    "    def image(self):\n",
    "        return [row[1:-1] for row in self.data[1:-1]]\n",
    "    \n",
    "    def rotate(self, times=1):\n",
    "        self.data = rotate_data(self.data, times=times)\n",
    "        \n",
    "    def flip(self, axis=0):\n",
    "        self.data = flip_data(self.data, axis)"
   ]
  },
  {
   "cell_type": "code",
   "execution_count": null,
   "metadata": {},
   "outputs": [],
   "source": [
    "tiles = dict()\n",
    "for part in tile_parts:\n",
    "    tile = Tile(part)\n",
    "    tiles[tile.id] = tile"
   ]
  },
  {
   "cell_type": "code",
   "execution_count": null,
   "metadata": {},
   "outputs": [],
   "source": [
    "edge_counts = Counter(\n",
    "    itertools.chain.from_iterable(tile.edges for tile in tiles.values())\n",
    ")"
   ]
  },
  {
   "cell_type": "code",
   "execution_count": null,
   "metadata": {},
   "outputs": [],
   "source": [
    "# All edges within a tile are unique\n",
    "for tile in tiles.values():\n",
    "    assert len(tile.edges) == 8\n",
    "\n",
    "# Every edge occurs either 1 or 2 times\n",
    "assert set(edge_counts.values()) == {1, 2}\n",
    "\n",
    "# Number of pairs equals number of joints\n",
    "square_dim = int(math.sqrt(len(tiles)))\n",
    "assert Counter(edge_counts.values())[2] == 2*2*square_dim*(square_dim - 1)"
   ]
  },
  {
   "cell_type": "markdown",
   "metadata": {},
   "source": [
    "# Part 1"
   ]
  },
  {
   "cell_type": "code",
   "execution_count": null,
   "metadata": {},
   "outputs": [],
   "source": [
    "# A corner tile is a tile where 4 edges are unique (not shared with another tile)\n",
    "corner_tiles = []\n",
    "for tile in tiles.values():\n",
    "    if Counter(edge_counts[edge] for edge in tile.edges)[1] == 4:\n",
    "        corner_tiles.append(tile.id)\n",
    "\n",
    "math.prod(corner_tiles)"
   ]
  },
  {
   "cell_type": "markdown",
   "metadata": {},
   "source": [
    "# Part 2"
   ]
  },
  {
   "cell_type": "code",
   "execution_count": null,
   "metadata": {},
   "outputs": [],
   "source": [
    "def rotate_and_flip(tile):\n",
    "    for _ in range(2):\n",
    "        yield\n",
    "        for _ in range(3):\n",
    "            tile.rotate()\n",
    "            yield\n",
    "        tile.flip()\n",
    "\n",
    "def edge_neighbours(tile):\n",
    "    return tuple(edge_counts[edge] for edge in tile.normal_edges)\n",
    "\n",
    "def align_ul_corner(tile):\n",
    "    for _ in rotate_and_flip(tile):\n",
    "        if edge_neighbours(tile) == (1, 2, 1, 2):\n",
    "            break\n",
    "    else:\n",
    "        raise ValueError(\"Unable to align corner\")"
   ]
  },
  {
   "cell_type": "code",
   "execution_count": null,
   "metadata": {},
   "outputs": [],
   "source": [
    "# Dictionary that can find which tile has which edge\n",
    "has_edge = defaultdict(set)\n",
    "for tile in tiles.values():\n",
    "    for edge in tile.edges:\n",
    "        has_edge[edge].add(tile.id)"
   ]
  },
  {
   "cell_type": "code",
   "execution_count": null,
   "metadata": {},
   "outputs": [],
   "source": [
    "corner_tiles"
   ]
  },
  {
   "cell_type": "code",
   "execution_count": null,
   "metadata": {},
   "outputs": [],
   "source": [
    "grid = [[None]*square_dim for _ in range(square_dim)]\n",
    "\n",
    "# Select a corner tile for the upper left corner\n",
    "tile = tiles[corner_tiles[1]]\n",
    "align_ul_corner(tile)\n",
    "grid[0][0] = tile.id\n",
    "\n",
    "for row in range(square_dim):\n",
    "    for col in range(square_dim):\n",
    "        \n",
    "        if not grid[row][col] is None:\n",
    "            # Just skip past the UL corner\n",
    "            continue\n",
    "        \n",
    "        if row == 0:\n",
    "            # Left edge must match previous, upper edge has no neighbours\n",
    "            left_tile = tiles[grid[row][col - 1]]\n",
    "            left_edge = left_tile.normal_edges[3]  # Right edge of left tile\n",
    "            tile = tiles[(has_edge[left_edge] - {left_tile.id}).pop()]\n",
    "            for _ in rotate_and_flip(tile):\n",
    "                if (tile.normal_edges[2] == left_edge) and (edge_neighbours(tile)[0] == 1):\n",
    "                    break            \n",
    "        else:\n",
    "            \n",
    "            if col == 0:\n",
    "                # Left edge has no neighbours, upper edge must match above\n",
    "                tile_above = tiles[grid[row - 1][col]]\n",
    "                upper_edge = tile_above.normal_edges[1]  # lower edge of tile above\n",
    "                tile = tiles[(has_edge[upper_edge] - {tile_above.id}).pop()]\n",
    "                for _ in rotate_and_flip(tile):\n",
    "                    if (tile.normal_edges[0] == upper_edge) and (edge_neighbours(tile)[2] == 1):\n",
    "                        break\n",
    "            else:\n",
    "                # Left edge must match previous, upper edge must match above\n",
    "                left_tile = tiles[grid[row][col - 1]]\n",
    "                left_edge = left_tile.normal_edges[3]  # Right edge of left tile\n",
    "                tile_above = tiles[grid[row - 1][col]]\n",
    "                upper_edge = tile_above.normal_edges[1]  # lower edge of tile above\n",
    "                tile = tiles[(has_edge[left_edge] - {left_tile.id}).pop()]\n",
    "                for _ in rotate_and_flip(tile):\n",
    "                    if (tile.normal_edges[0] == upper_edge) and (tile.normal_edges[2] == left_edge):\n",
    "                        break\n",
    "        \n",
    "        grid[row][col] = tile.id\n",
    "\n",
    "grid"
   ]
  },
  {
   "cell_type": "code",
   "execution_count": null,
   "metadata": {},
   "outputs": [],
   "source": [
    "image = []\n",
    "for row in grid:\n",
    "    image.extend([\"\".join(line) for line in zip(*[tiles[col].image for col in row])])\n",
    "\n",
    "print(\"\\n\".join(image))"
   ]
  },
  {
   "cell_type": "code",
   "execution_count": null,
   "metadata": {},
   "outputs": [],
   "source": [
    "MONSTER = [\n",
    "    \"                  # \",\n",
    "    \"#    ##    ##    ###\",\n",
    "    \" #  #  #  #  #  #   \"\n",
    "]"
   ]
  },
  {
   "cell_type": "code",
   "execution_count": null,
   "metadata": {},
   "outputs": [],
   "source": [
    "def find_monsters(image):\n",
    "    monsters = 0\n",
    "    for startrow in range(0, len(image) - len(MONSTER) + 1):\n",
    "        for startcol in range(0, len(image[0]) - len(MONSTER[0]) + 1):\n",
    "            window = [row[startcol:startcol + len(MONSTER[0])] for row in image[startrow:startrow + len(MONSTER)]]\n",
    "            for img, mon in zip(\"\".join(window), \"\".join(MONSTER)):\n",
    "                if (mon == \"#\") and (img != \"#\"):\n",
    "                    break\n",
    "            else:\n",
    "                monsters += 1\n",
    "    return monsters"
   ]
  },
  {
   "cell_type": "code",
   "execution_count": null,
   "metadata": {},
   "outputs": [],
   "source": [
    "def rotate_and_flip_image(image):\n",
    "    for _ in range(2):\n",
    "        yield image\n",
    "        for _ in range(3):\n",
    "            image = rotate_data(image)\n",
    "            yield image\n",
    "        image = flip_data(image)"
   ]
  },
  {
   "cell_type": "code",
   "execution_count": null,
   "metadata": {},
   "outputs": [],
   "source": [
    "for image in rotate_and_flip_image(image):\n",
    "    if find_monsters(image) > 0:\n",
    "        break"
   ]
  },
  {
   "cell_type": "code",
   "execution_count": null,
   "metadata": {},
   "outputs": [],
   "source": [
    "\"\".join(image).count(\"#\") - find_monsters(image) * \"\".join(MONSTER).count(\"#\")"
   ]
  },
  {
   "cell_type": "code",
   "execution_count": null,
   "metadata": {},
   "outputs": [],
   "source": []
  }
 ],
 "metadata": {
  "kernelspec": {
   "display_name": "Python 3",
   "language": "python",
   "name": "python3"
  },
  "language_info": {
   "codemirror_mode": {
    "name": "ipython",
    "version": 3
   },
   "file_extension": ".py",
   "mimetype": "text/x-python",
   "name": "python",
   "nbconvert_exporter": "python",
   "pygments_lexer": "ipython3",
   "version": "3.9.0"
  },
  "toc": {
   "base_numbering": 1,
   "nav_menu": {},
   "number_sections": false,
   "sideBar": true,
   "skip_h1_title": false,
   "title_cell": "Table of Contents",
   "title_sidebar": "Contents",
   "toc_cell": false,
   "toc_position": {},
   "toc_section_display": true,
   "toc_window_display": false
  }
 },
 "nbformat": 4,
 "nbformat_minor": 4
}
