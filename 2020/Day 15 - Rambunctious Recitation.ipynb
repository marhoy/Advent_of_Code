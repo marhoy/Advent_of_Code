{
 "cells": [
  {
   "cell_type": "code",
   "execution_count": null,
   "metadata": {},
   "outputs": [],
   "source": [
    "from collections import defaultdict, deque\n",
    "from functools import partial"
   ]
  },
  {
   "cell_type": "code",
   "execution_count": null,
   "metadata": {},
   "outputs": [],
   "source": [
    "class MemoryGame:\n",
    "    def __init__(self, starting_numbers):\n",
    "        self.spoken = defaultdict(partial(deque, maxlen=2))\n",
    "        self.turn = 0\n",
    "        for number in starting_numbers:\n",
    "            self._digest(number)\n",
    "\n",
    "    def _digest(self, number):\n",
    "        self.turn += 1\n",
    "        self.spoken[number].append(self.turn)\n",
    "        self.last_spoken = number\n",
    "        \n",
    "    def play(self, endturn=10):\n",
    "        while self.turn < endturn:\n",
    "            if len(self.spoken[self.last_spoken]) == 1:\n",
    "                self._digest(0)\n",
    "            else:\n",
    "                last_turns = self.spoken[self.last_spoken]\n",
    "                self._digest(last_turns[-1] - last_turns[-2])"
   ]
  },
  {
   "cell_type": "code",
   "execution_count": null,
   "metadata": {},
   "outputs": [],
   "source": [
    "game = MemoryGame([0,3,6])\n",
    "game.play(endturn=10)\n",
    "game.last_spoken"
   ]
  },
  {
   "cell_type": "markdown",
   "metadata": {},
   "source": [
    "# Part 1"
   ]
  },
  {
   "cell_type": "code",
   "execution_count": null,
   "metadata": {},
   "outputs": [],
   "source": [
    "game = MemoryGame([0,20,7,16,1,18,15])\n",
    "game.play(endturn=2020)\n",
    "game.last_spoken"
   ]
  },
  {
   "cell_type": "markdown",
   "metadata": {},
   "source": [
    "# Part 2"
   ]
  },
  {
   "cell_type": "markdown",
   "metadata": {},
   "source": [
    "Maybe there is some pattern in the numbers, but brute-force takes approx. 1 minute... :)"
   ]
  },
  {
   "cell_type": "code",
   "execution_count": null,
   "metadata": {},
   "outputs": [],
   "source": [
    "game = MemoryGame([0,20,7,16,1,18,15])\n",
    "game.play(endturn=30_000_000)\n",
    "game.last_spoken"
   ]
  },
  {
   "cell_type": "code",
   "execution_count": null,
   "metadata": {},
   "outputs": [],
   "source": []
  }
 ],
 "metadata": {
  "kernelspec": {
   "display_name": "Python 3",
   "language": "python",
   "name": "python3"
  },
  "language_info": {
   "codemirror_mode": {
    "name": "ipython",
    "version": 3
   },
   "file_extension": ".py",
   "mimetype": "text/x-python",
   "name": "python",
   "nbconvert_exporter": "python",
   "pygments_lexer": "ipython3",
   "version": "3.8.6"
  },
  "toc": {
   "base_numbering": 1,
   "nav_menu": {},
   "number_sections": false,
   "sideBar": true,
   "skip_h1_title": false,
   "title_cell": "Table of Contents",
   "title_sidebar": "Contents",
   "toc_cell": false,
   "toc_position": {},
   "toc_section_display": true,
   "toc_window_display": false
  }
 },
 "nbformat": 4,
 "nbformat_minor": 4
}
