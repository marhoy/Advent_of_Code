{
 "cells": [
  {
   "cell_type": "code",
   "execution_count": null,
   "metadata": {},
   "outputs": [],
   "source": [
    "def transform(loop_size, subject_number=7):\n",
    "    value = 1\n",
    "    for _ in range(loop_size):\n",
    "        value *= subject_number\n",
    "        value %= 20_201_227\n",
    "    return value"
   ]
  },
  {
   "cell_type": "code",
   "execution_count": null,
   "metadata": {},
   "outputs": [],
   "source": [
    "def find_loop_size(value):\n",
    "    loop_size = 0\n",
    "    while value > 1:\n",
    "        while value % 7 != 0:\n",
    "            value += 20_201_227\n",
    "        value /= 7\n",
    "        loop_size += 1\n",
    "\n",
    "    return loop_size"
   ]
  },
  {
   "cell_type": "code",
   "execution_count": null,
   "metadata": {},
   "outputs": [],
   "source": [
    "public_key_1 = 5764801\n",
    "public_key_2 = 17807724\n",
    "\n",
    "public_key_1 = 11404017\n",
    "public_key_2 = 13768789\n",
    "\n",
    "loop_size_1 = find_loop_size(public_key_1)\n",
    "loop_size_2 = find_loop_size(public_key_2)\n",
    "\n",
    "assert transform(loop_size_1, public_key_2) == transform(loop_size_2, public_key_1)\n",
    "\n",
    "transform(loop_size_1, public_key_2)"
   ]
  },
  {
   "cell_type": "code",
   "execution_count": null,
   "metadata": {},
   "outputs": [],
   "source": []
  }
 ],
 "metadata": {
  "kernelspec": {
   "display_name": "Python 3",
   "language": "python",
   "name": "python3"
  },
  "language_info": {
   "codemirror_mode": {
    "name": "ipython",
    "version": 3
   },
   "file_extension": ".py",
   "mimetype": "text/x-python",
   "name": "python",
   "nbconvert_exporter": "python",
   "pygments_lexer": "ipython3",
   "version": "3.8.6"
  },
  "toc": {
   "base_numbering": 1,
   "nav_menu": {},
   "number_sections": true,
   "sideBar": true,
   "skip_h1_title": false,
   "title_cell": "Table of Contents",
   "title_sidebar": "Contents",
   "toc_cell": false,
   "toc_position": {},
   "toc_section_display": true,
   "toc_window_display": false
  }
 },
 "nbformat": 4,
 "nbformat_minor": 4
}
