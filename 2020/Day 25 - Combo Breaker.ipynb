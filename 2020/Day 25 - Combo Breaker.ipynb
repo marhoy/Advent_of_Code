{
 "cells": [
  {
   "cell_type": "markdown",
   "metadata": {},
   "source": [
    "# Brute force solution"
   ]
  },
  {
   "cell_type": "code",
   "execution_count": null,
   "metadata": {},
   "outputs": [],
   "source": [
    "def transform(loop_size, subject_number=7):\n",
    "    value = 1\n",
    "    for _ in range(loop_size):\n",
    "        value *= subject_number\n",
    "        value %= 20_201_227\n",
    "\n",
    "    return value"
   ]
  },
  {
   "cell_type": "code",
   "execution_count": null,
   "metadata": {},
   "outputs": [],
   "source": [
    "def find_loop_size(value):\n",
    "    loop_size = 0\n",
    "    while value > 1:\n",
    "        while value % 7 != 0:\n",
    "            value += 20_201_227\n",
    "        value /= 7\n",
    "        loop_size += 1\n",
    "\n",
    "    return loop_size"
   ]
  },
  {
   "cell_type": "code",
   "execution_count": null,
   "metadata": {},
   "outputs": [],
   "source": [
    "public_key_1, public_key_2 = 5764801, 17807724\n",
    "public_key_1, public_key_2 = 11404017, 13768789\n",
    "\n",
    "loop_size_1 = find_loop_size(public_key_1)\n",
    "loop_size_2 = find_loop_size(public_key_2)\n",
    "\n",
    "assert transform(loop_size_1, public_key_2) == transform(loop_size_2, public_key_1)\n",
    "\n",
    "transform(loop_size_1, public_key_2)"
   ]
  },
  {
   "cell_type": "markdown",
   "metadata": {},
   "source": [
    "# Speedup"
   ]
  },
  {
   "cell_type": "markdown",
   "metadata": {},
   "source": [
    "A distributive property of the modulo operator is:\n",
    "\n",
    "```\n",
    "ab mod n = [(a mod n)(b mod n)] mod n\n",
    "```\n",
    "\n",
    "This means that the transform-function can be rewritten as\n",
    "\n",
    "```\n",
    "result = (subject_number ** loop_size) % mod_number\n",
    "```\n",
    "\n",
    "...which happens to be the built-in function `pow(base=subject_number, exp=loop_size, mod=mod_number)`.\n",
    "\n",
    "So the `transform()`-function calculates the [modular exponential](https://en.wikipedia.org/wiki/Modular_exponentiation):\n",
    "```\n",
    "c = b**e mod m\n",
    "```\n",
    "We know `c` (public key), `b` (7) and `m` (20201227) and need to find `e`. The inverse of the modular exponential is the [discrete logarithm](https://en.wikipedia.org/wiki/Discrete_logarithm), and can be found using the [baby-step, giant-step algorithm](https://en.wikipedia.org/wiki/Baby-step_giant-step). The sympy-library implements an algorithm for `discrete_log`:"
   ]
  },
  {
   "cell_type": "code",
   "execution_count": null,
   "metadata": {},
   "outputs": [],
   "source": [
    "from sympy.ntheory.residue_ntheory import discrete_log"
   ]
  },
  {
   "cell_type": "code",
   "execution_count": null,
   "metadata": {},
   "outputs": [],
   "source": [
    "public_key_1, public_key_2 = 5764801, 17807724\n",
    "public_key_1, public_key_2 = 11404017, 13768789\n",
    "base, mod = 7, 20_201_227\n",
    "\n",
    "loop_size_1 = discrete_log(mod, public_key_1, base)\n",
    "loop_size_2 = discrete_log(mod, public_key_2, base)\n",
    "\n",
    "assert pow(public_key_2, loop_size_1, mod) == pow(public_key_1, loop_size_2, mod)\n",
    "\n",
    "pow(public_key_2, loop_size_1, mod)"
   ]
  },
  {
   "cell_type": "code",
   "execution_count": null,
   "metadata": {},
   "outputs": [],
   "source": []
  }
 ],
 "metadata": {
  "kernelspec": {
   "display_name": "Advent_of_Code",
   "language": "python",
   "name": "advent_of_code"
  },
  "language_info": {
   "codemirror_mode": {
    "name": "ipython",
    "version": 3
   },
   "file_extension": ".py",
   "mimetype": "text/x-python",
   "name": "python",
   "nbconvert_exporter": "python",
   "pygments_lexer": "ipython3",
   "version": "3.9.1"
  },
  "toc": {
   "base_numbering": 1,
   "nav_menu": {},
   "number_sections": true,
   "sideBar": true,
   "skip_h1_title": false,
   "title_cell": "Table of Contents",
   "title_sidebar": "Contents",
   "toc_cell": false,
   "toc_position": {},
   "toc_section_display": true,
   "toc_window_display": false
  }
 },
 "nbformat": 4,
 "nbformat_minor": 4
}
