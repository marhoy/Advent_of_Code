{
 "cells": [
  {
   "cell_type": "code",
   "execution_count": null,
   "metadata": {},
   "outputs": [],
   "source": [
    "from collections import defaultdict\n",
    "import re"
   ]
  },
  {
   "cell_type": "code",
   "execution_count": null,
   "metadata": {},
   "outputs": [],
   "source": [
    "filename = \"day21.example.input\"\n",
    "filename = \"day21.input\"\n",
    "\n",
    "foods = []\n",
    "with open(filename) as file:\n",
    "    for line in file:\n",
    "        ingredients = re.match(r\"([\\w ]+)\", line).group(1).split()\n",
    "        allergens = re.findall(\"(\\w+)\", line.split(\"(contains\")[1])\n",
    "        foods.append([ingredients, allergens])"
   ]
  },
  {
   "cell_type": "markdown",
   "metadata": {},
   "source": [
    "# Part 1"
   ]
  },
  {
   "cell_type": "code",
   "execution_count": null,
   "metadata": {},
   "outputs": [],
   "source": [
    "allergen_candidates = dict()\n",
    "for ingrs, allrs in foods:\n",
    "    for allr in allrs:\n",
    "        if allergen_candidates.get(allr, None) is None:\n",
    "            allergen_candidates[allr] = set(ingrs)\n",
    "        else:\n",
    "            allergen_candidates[allr] &= set(ingrs)\n",
    "\n",
    "allergen_candidates"
   ]
  },
  {
   "cell_type": "code",
   "execution_count": null,
   "metadata": {},
   "outputs": [],
   "source": [
    "allergens = dict()\n",
    "while allergen_candidates:\n",
    "\n",
    "    # Get an allergen with only one candidate\n",
    "    allergen = min(allergen_candidates, key=lambda x: len(allergen_candidates[x]))\n",
    "    if len(allergen_candidates[allergen]) == 1:\n",
    "        ingredient = allergen_candidates[allergen].pop()\n",
    "    else:\n",
    "        raise ValueError(\"Impossible to determine\")\n",
    "        \n",
    "    # Assign the ingredient\n",
    "    allergens[allergen] = ingredient\n",
    "    del allergen_candidates[allergen]\n",
    "\n",
    "    # Remove that ingredient for the remaining candidates\n",
    "    for allergen in allergen_candidates:\n",
    "        allergen_candidates[allergen].discard(ingredient)"
   ]
  },
  {
   "cell_type": "code",
   "execution_count": null,
   "metadata": {},
   "outputs": [],
   "source": [
    "allergens"
   ]
  },
  {
   "cell_type": "code",
   "execution_count": null,
   "metadata": {},
   "outputs": [],
   "source": [
    "count = 0\n",
    "for line in foods:\n",
    "    count += len(set(line[0]) - set(allergens.values()))\n",
    "\n",
    "count"
   ]
  },
  {
   "cell_type": "markdown",
   "metadata": {},
   "source": [
    "# Part 2"
   ]
  },
  {
   "cell_type": "code",
   "execution_count": null,
   "metadata": {},
   "outputs": [],
   "source": [
    "\",\".join(allergens[aller] for aller in sorted(allergens))"
   ]
  },
  {
   "cell_type": "code",
   "execution_count": null,
   "metadata": {},
   "outputs": [],
   "source": []
  }
 ],
 "metadata": {
  "kernelspec": {
   "display_name": "Python 3",
   "language": "python",
   "name": "python3"
  },
  "language_info": {
   "codemirror_mode": {
    "name": "ipython",
    "version": 3
   },
   "file_extension": ".py",
   "mimetype": "text/x-python",
   "name": "python",
   "nbconvert_exporter": "python",
   "pygments_lexer": "ipython3",
   "version": "3.8.6"
  },
  "toc": {
   "base_numbering": 1,
   "nav_menu": {},
   "number_sections": true,
   "sideBar": true,
   "skip_h1_title": false,
   "title_cell": "Table of Contents",
   "title_sidebar": "Contents",
   "toc_cell": false,
   "toc_position": {},
   "toc_section_display": true,
   "toc_window_display": false
  }
 },
 "nbformat": 4,
 "nbformat_minor": 4
}
