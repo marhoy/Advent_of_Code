{
 "cells": [
  {
   "cell_type": "code",
   "execution_count": null,
   "metadata": {},
   "outputs": [],
   "source": [
    "import re\n",
    "\n",
    "# filename = \"day07.example.input\"\n",
    "# filename = \"day07.example2.input\"\n",
    "filename = \"day07.input\"\n",
    "\n",
    "rules = dict()\n",
    "with open(filename) as file:\n",
    "    for line in file:\n",
    "        container, remainder = line.split(\" bags contain \")\n",
    "        contents = re.findall(r\"(\\d+) (\\w+ \\w+)\", remainder)\n",
    "        rules[container] = dict()\n",
    "        for count, sub_container in contents:\n",
    "            rules[container][sub_container] = int(count) \n",
    "\n",
    "rules"
   ]
  },
  {
   "cell_type": "markdown",
   "metadata": {},
   "source": [
    "# Part 1"
   ]
  },
  {
   "cell_type": "code",
   "execution_count": null,
   "metadata": {},
   "outputs": [],
   "source": [
    "from collections import deque\n",
    "\n",
    "wanted_contents = \"shiny gold\"\n",
    "possible_containers = set()\n",
    "\n",
    "# Perform a DFS starting from each toplevel container.\n",
    "for container in rules:\n",
    "    candidates = deque([container])\n",
    "    while candidates:\n",
    "        candidate = candidates.pop()\n",
    "        if wanted_contents in rules[candidate]:\n",
    "            possible_containers.add(container)\n",
    "            break  # Stop searching this branch\n",
    "        # Add more sub-branches to be searched\n",
    "        candidates.extend(rules[candidate])"
   ]
  },
  {
   "cell_type": "code",
   "execution_count": null,
   "metadata": {},
   "outputs": [],
   "source": [
    "len(possible_containers)"
   ]
  },
  {
   "cell_type": "markdown",
   "metadata": {},
   "source": [
    "# Part 2"
   ]
  },
  {
   "cell_type": "code",
   "execution_count": null,
   "metadata": {},
   "outputs": [],
   "source": [
    "# Count bags within bags recursively\n",
    "def n_bags(name: str):\n",
    "    n_total = 0\n",
    "    for sub_bag in rules[name]:\n",
    "        count = rules[name][sub_bag]\n",
    "        n_total += count * (n_bags(sub_bag) + 1)\n",
    "    return n_total"
   ]
  },
  {
   "cell_type": "code",
   "execution_count": null,
   "metadata": {},
   "outputs": [],
   "source": [
    "n_bags(\"shiny gold\")"
   ]
  },
  {
   "cell_type": "code",
   "execution_count": null,
   "metadata": {},
   "outputs": [],
   "source": []
  }
 ],
 "metadata": {
  "kernelspec": {
   "display_name": "Python 3",
   "language": "python",
   "name": "python3"
  },
  "language_info": {
   "codemirror_mode": {
    "name": "ipython",
    "version": 3
   },
   "file_extension": ".py",
   "mimetype": "text/x-python",
   "name": "python",
   "nbconvert_exporter": "python",
   "pygments_lexer": "ipython3",
   "version": "3.9.0"
  },
  "toc": {
   "base_numbering": 1,
   "nav_menu": {},
   "number_sections": true,
   "sideBar": true,
   "skip_h1_title": false,
   "title_cell": "Table of Contents",
   "title_sidebar": "Contents",
   "toc_cell": false,
   "toc_position": {},
   "toc_section_display": true,
   "toc_window_display": false
  }
 },
 "nbformat": 4,
 "nbformat_minor": 4
}
