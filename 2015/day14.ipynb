{
 "cells": [
  {
   "cell_type": "code",
   "execution_count": null,
   "id": "16db274f",
   "metadata": {},
   "outputs": [],
   "source": [
    "import dataclasses\n",
    "import re"
   ]
  },
  {
   "cell_type": "code",
   "execution_count": null,
   "id": "47b3ec04",
   "metadata": {},
   "outputs": [],
   "source": [
    "@dataclasses.dataclass\n",
    "class Reindeer:\n",
    "    name: str\n",
    "    speed: int\n",
    "    flying: int\n",
    "    resting: int\n",
    "    points: int = 0\n",
    "            \n",
    "    def __post_init__(self):\n",
    "        \"\"\"Field type conversion.\"\"\"\n",
    "        for field in dataclasses.fields(self):\n",
    "            value = getattr(self, field.name)\n",
    "            if not isinstance(value, field.type):\n",
    "                setattr(self, field.name, field.type(value))\n",
    "    \n",
    "    def distance(self, time):\n",
    "        periods, extra = divmod(time, self.flying + self.resting)\n",
    "        distance = (periods*self.flying + min(extra, self.flying))*self.speed\n",
    "        return distance"
   ]
  },
  {
   "cell_type": "code",
   "execution_count": null,
   "id": "18b433f9",
   "metadata": {},
   "outputs": [],
   "source": [
    "deers = []\n",
    "with open(\"day14.txt\") as file:\n",
    "    for line in file:\n",
    "        match = re.match(\"^(\\w+) .+ fly (\\d+) km/s for (\\d+) seconds, .+ rest for (\\d+) seconds.$\", line)\n",
    "        deers.append(Reindeer(*match.groups()))\n",
    "deers"
   ]
  },
  {
   "cell_type": "markdown",
   "id": "cabd48c1",
   "metadata": {},
   "source": [
    "## Part 1"
   ]
  },
  {
   "cell_type": "code",
   "execution_count": null,
   "id": "82c8707e",
   "metadata": {},
   "outputs": [],
   "source": [
    "t = 2503"
   ]
  },
  {
   "cell_type": "code",
   "execution_count": null,
   "id": "15704d38",
   "metadata": {},
   "outputs": [],
   "source": [
    "winner = max(deers, key=lambda x: x.distance(t))"
   ]
  },
  {
   "cell_type": "code",
   "execution_count": null,
   "id": "86f0658b",
   "metadata": {},
   "outputs": [],
   "source": [
    "winner.distance(t)"
   ]
  },
  {
   "cell_type": "markdown",
   "id": "1f854422",
   "metadata": {},
   "source": [
    "## Part 2"
   ]
  },
  {
   "cell_type": "code",
   "execution_count": null,
   "id": "d44795e6",
   "metadata": {},
   "outputs": [],
   "source": [
    "for t in range(1, 2504):\n",
    "    distances = [deer.distance(t) for deer in deers]\n",
    "    furthest = max(distances)\n",
    "    for i, deer in enumerate(deers):\n",
    "        if distances[i] == furthest:\n",
    "            deer.points += 1"
   ]
  },
  {
   "cell_type": "code",
   "execution_count": null,
   "id": "7608cfc1",
   "metadata": {},
   "outputs": [],
   "source": [
    "winner = max(deers, key=lambda x: x.points)\n",
    "winner"
   ]
  },
  {
   "cell_type": "code",
   "execution_count": null,
   "id": "30b1c036",
   "metadata": {},
   "outputs": [],
   "source": []
  }
 ],
 "metadata": {
  "kernelspec": {
   "display_name": "Advent_of_Code",
   "language": "python",
   "name": "advent_of_code"
  },
  "language_info": {
   "codemirror_mode": {
    "name": "ipython",
    "version": 3
   },
   "file_extension": ".py",
   "mimetype": "text/x-python",
   "name": "python",
   "nbconvert_exporter": "python",
   "pygments_lexer": "ipython3",
   "version": "3.9.1"
  },
  "toc": {
   "base_numbering": 1,
   "nav_menu": {},
   "number_sections": true,
   "sideBar": true,
   "skip_h1_title": false,
   "title_cell": "Table of Contents",
   "title_sidebar": "Contents",
   "toc_cell": false,
   "toc_position": {},
   "toc_section_display": true,
   "toc_window_display": false
  }
 },
 "nbformat": 4,
 "nbformat_minor": 5
}
