{
 "cells": [
  {
   "cell_type": "code",
   "execution_count": null,
   "id": "1c4475d1",
   "metadata": {},
   "outputs": [],
   "source": [
    "import itertools\n",
    "from operator import mul"
   ]
  },
  {
   "cell_type": "code",
   "execution_count": null,
   "id": "7ce6df69",
   "metadata": {},
   "outputs": [],
   "source": [
    "b = (-1, -2, 6, 3)\n",
    "c = (2, 3, -2, -1)"
   ]
  },
  {
   "cell_type": "markdown",
   "id": "f45c4852",
   "metadata": {},
   "source": [
    "```\n",
    "Sugar: capacity 3, durability 0, flavor 0, texture -3, calories 2\n",
    "Sprinkles: capacity -3, durability 3, flavor 0, texture 0, calories 9\n",
    "Candy: capacity -1, durability 0, flavor 4, texture 0, calories 1\n",
    "Chocolate: capacity 0, durability 0, flavor -2, texture 2, calories 8\n",
    "```"
   ]
  },
  {
   "cell_type": "code",
   "execution_count": null,
   "id": "e2564c0f",
   "metadata": {},
   "outputs": [],
   "source": [
    "import dataclasses"
   ]
  },
  {
   "cell_type": "code",
   "execution_count": null,
   "id": "1ab5e439",
   "metadata": {},
   "outputs": [],
   "source": [
    "@dataclasses.dataclass\n",
    "class Ingredient:\n",
    "    capacity: int\n",
    "    durability: int\n",
    "    flavor: int\n",
    "    texture: int\n",
    "    calories: int"
   ]
  },
  {
   "cell_type": "code",
   "execution_count": null,
   "id": "9c222c84",
   "metadata": {},
   "outputs": [],
   "source": [
    "b = Ingredient(-1, -2, 6, 3, 0)\n",
    "c = Ingredient(2, 3, -2, -1, 0)"
   ]
  },
  {
   "cell_type": "code",
   "execution_count": null,
   "id": "9a15efac",
   "metadata": {},
   "outputs": [],
   "source": [
    "list(b.__dict__.values())"
   ]
  },
  {
   "cell_type": "code",
   "execution_count": null,
   "id": "a9f7bfee",
   "metadata": {},
   "outputs": [],
   "source": [
    "spoons = (44,56)"
   ]
  },
  {
   "cell_type": "code",
   "execution_count": null,
   "id": "75de286c",
   "metadata": {},
   "outputs": [],
   "source": [
    "numbers = []\n",
    "for values in zip(b,c):\n",
    "    numbers.append(sum(itertools.starmap(mul, zip(values, spoons))))\n",
    "\n",
    "score = 1\n",
    "score = [score * max(0, number) for number in numbers]\n",
    "list(itertools.accumulate(score, func=mul))[-1]"
   ]
  },
  {
   "cell_type": "code",
   "execution_count": null,
   "id": "35201959",
   "metadata": {},
   "outputs": [],
   "source": [
    "tests = 0\n",
    "total_sum = 100\n",
    "for a in range(total_sum + 1):\n",
    "    for b in range(total_sum + 1 - a):\n",
    "        for c in range(total_sum + 1 - a - b):\n",
    "            d = total_sum - a - b - c\n",
    "            # print(a, b, c, d)\n",
    "            tests += 1\n",
    "tests"
   ]
  },
  {
   "cell_type": "code",
   "execution_count": null,
   "id": "3d1f0079",
   "metadata": {},
   "outputs": [],
   "source": []
  },
  {
   "cell_type": "code",
   "execution_count": null,
   "id": "25ccd3bd",
   "metadata": {},
   "outputs": [],
   "source": [
    "list(zip(values, spoons))"
   ]
  },
  {
   "cell_type": "code",
   "execution_count": null,
   "id": "3e6b7e53",
   "metadata": {},
   "outputs": [],
   "source": [
    "spoons"
   ]
  },
  {
   "cell_type": "code",
   "execution_count": null,
   "id": "2fcfabe9",
   "metadata": {},
   "outputs": [],
   "source": [
    "itertools.starmap(sum, itertools.chain(values, spoons))"
   ]
  },
  {
   "cell_type": "code",
   "execution_count": null,
   "id": "f8e6a97b",
   "metadata": {},
   "outputs": [],
   "source": [
    "list(itertools.starmap(sum, [(1,2), (3,4)]))"
   ]
  },
  {
   "cell_type": "code",
   "execution_count": null,
   "id": "f8887686",
   "metadata": {},
   "outputs": [],
   "source": [
    "list(itertools.starmap(pow, [(2,5), (3,2), (10,3)]))"
   ]
  },
  {
   "cell_type": "code",
   "execution_count": null,
   "id": "151f8634",
   "metadata": {},
   "outputs": [],
   "source": [
    "list(itertools.starmap(mul, [(1,2), (3,4)]))"
   ]
  },
  {
   "cell_type": "code",
   "execution_count": null,
   "id": "f5d8398f",
   "metadata": {},
   "outputs": [],
   "source": []
  },
  {
   "cell_type": "code",
   "execution_count": null,
   "id": "e199ae9b",
   "metadata": {},
   "outputs": [],
   "source": [
    "mul(1,2)"
   ]
  },
  {
   "cell_type": "code",
   "execution_count": null,
   "id": "868defa3",
   "metadata": {},
   "outputs": [],
   "source": []
  }
 ],
 "metadata": {
  "kernelspec": {
   "display_name": "Advent_of_Code",
   "language": "python",
   "name": "advent_of_code"
  },
  "language_info": {
   "codemirror_mode": {
    "name": "ipython",
    "version": 3
   },
   "file_extension": ".py",
   "mimetype": "text/x-python",
   "name": "python",
   "nbconvert_exporter": "python",
   "pygments_lexer": "ipython3",
   "version": "3.9.1"
  },
  "toc": {
   "base_numbering": 1,
   "nav_menu": {},
   "number_sections": true,
   "sideBar": true,
   "skip_h1_title": false,
   "title_cell": "Table of Contents",
   "title_sidebar": "Contents",
   "toc_cell": false,
   "toc_position": {},
   "toc_section_display": true,
   "toc_window_display": false
  }
 },
 "nbformat": 4,
 "nbformat_minor": 5
}
