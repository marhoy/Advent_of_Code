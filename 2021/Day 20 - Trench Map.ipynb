{
 "cells": [
  {
   "cell_type": "code",
   "execution_count": null,
   "id": "3653ea02",
   "metadata": {},
   "outputs": [],
   "source": [
    "import itertools"
   ]
  },
  {
   "cell_type": "code",
   "execution_count": null,
   "id": "cfd89803",
   "metadata": {},
   "outputs": [],
   "source": [
    "def get_input(filename):\n",
    "    image = dict()\n",
    "    with open(filename) as file:\n",
    "        line = file.readline()\n",
    "        algorithm = line.strip()\n",
    "        file.readline()\n",
    "        for row, line in enumerate(file):\n",
    "            for col, char in enumerate(line.strip()):\n",
    "                image[(row, col)] = char\n",
    "    return algorithm, image"
   ]
  },
  {
   "cell_type": "code",
   "execution_count": null,
   "id": "f5afc85b",
   "metadata": {},
   "outputs": [],
   "source": [
    "def print_image(image):\n",
    "    min_row = min(row for row, col in image)\n",
    "    max_row = max(row for row, col in image)\n",
    "    min_col = min(col for row, col in image)\n",
    "    max_col = max(col for row, col in image)\n",
    "    for row in range(min_row, max_row + 1):\n",
    "        for col in range(min_col, max_col + 1):\n",
    "            print(image[(row, col)], end=\"\")\n",
    "        print()"
   ]
  },
  {
   "cell_type": "code",
   "execution_count": null,
   "id": "b7b19d75",
   "metadata": {},
   "outputs": [],
   "source": [
    "def get_neighbours(pos):\n",
    "    deltas = (delta for delta in itertools.product([-1, 0, 1], repeat=2))\n",
    "    for delta in deltas:\n",
    "        yield tuple(p + d for p, d in zip(pos, delta))"
   ]
  },
  {
   "cell_type": "markdown",
   "id": "d023f222",
   "metadata": {},
   "source": [
    "__NOTE__:\n",
    "\n",
    "My algorithm starts with `#` and ends with `.`. This means that on every second iteration, the infinite area changes to `#` (because a neighborhood of `.`s translates to the index number 0, which is `#`. On the next iteration, the infinite area changes back to `.`s, because a neighborhood of `#` translates to algortihm index 512, which is `.`.\n",
    "\n",
    "We cannot keep track of an infinite number of pixels, but we can handle this by saying that the default value for pixels that are not part of the image is either `.` or `#`, depending on which iteration we're on."
   ]
  },
  {
   "cell_type": "code",
   "execution_count": null,
   "id": "eaac5501",
   "metadata": {},
   "outputs": [],
   "source": [
    "def enhance(image, algorithm, iteration):\n",
    "    min_row = min(row for row, col in image)\n",
    "    max_row = max(row for row, col in image)\n",
    "    min_col = min(col for row, col in image)\n",
    "    max_col = max(col for row, col in image)\n",
    "\n",
    "    if algorithm[0] == \"#\":\n",
    "        default = \"#\" if (iteration % 2 == 1) else \".\"\n",
    "    else:\n",
    "        default = \".\"\n",
    "    \n",
    "    new_image = dict()\n",
    "    for row in range(min_row - 1, max_row + 2):\n",
    "        for col in range(min_col - 1, max_col + 2):\n",
    "            pos = (row, col)\n",
    "            bits = [\"1\" if (image.get(neighbour, default) == \"#\") else \"0\" for neighbour in get_neighbours(pos)]\n",
    "            alg_index = int(\"\".join(bits), 2)      \n",
    "            new_image[(row, col)] = algorithm[alg_index]\n",
    "    \n",
    "    return new_image"
   ]
  },
  {
   "cell_type": "markdown",
   "id": "4a6c98a6",
   "metadata": {},
   "source": [
    "# Part 1"
   ]
  },
  {
   "cell_type": "code",
   "execution_count": null,
   "id": "0f2ded06",
   "metadata": {},
   "outputs": [],
   "source": [
    "algorithm, image = get_input(\"day20.input\")\n",
    "\n",
    "for iteration in range(2):\n",
    "    image = enhance(image, algorithm, iteration)\n",
    "    \n",
    "sum(1 for pixel in image.values() if pixel == \"#\")"
   ]
  },
  {
   "cell_type": "markdown",
   "id": "d98900e6",
   "metadata": {},
   "source": [
    "# Part 2"
   ]
  },
  {
   "cell_type": "code",
   "execution_count": null,
   "id": "487c24c0",
   "metadata": {},
   "outputs": [],
   "source": [
    "algorithm, image = get_input(\"day20.input\")\n",
    "\n",
    "for iteration in range(50):\n",
    "    image = enhance(image, algorithm, iteration)\n",
    "\n",
    "sum(1 for pixel in image.values() if pixel == \"#\")"
   ]
  },
  {
   "cell_type": "code",
   "execution_count": null,
   "id": "e1a2842f",
   "metadata": {},
   "outputs": [],
   "source": []
  }
 ],
 "metadata": {
  "kernelspec": {
   "display_name": "Advent_of_Code",
   "language": "python",
   "name": "advent_of_code"
  },
  "language_info": {
   "codemirror_mode": {
    "name": "ipython",
    "version": 3
   },
   "file_extension": ".py",
   "mimetype": "text/x-python",
   "name": "python",
   "nbconvert_exporter": "python",
   "pygments_lexer": "ipython3",
   "version": "3.10.1"
  },
  "toc": {
   "base_numbering": 1,
   "nav_menu": {},
   "number_sections": true,
   "sideBar": true,
   "skip_h1_title": false,
   "title_cell": "Table of Contents",
   "title_sidebar": "Contents",
   "toc_cell": false,
   "toc_position": {},
   "toc_section_display": true,
   "toc_window_display": false
  }
 },
 "nbformat": 4,
 "nbformat_minor": 5
}
