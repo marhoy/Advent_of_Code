{
 "cells": [
  {
   "cell_type": "code",
   "execution_count": null,
   "id": "a1aad344",
   "metadata": {},
   "outputs": [],
   "source": [
    "import pandas as pd"
   ]
  },
  {
   "cell_type": "markdown",
   "id": "12ab0c15",
   "metadata": {},
   "source": [
    "# Part 1"
   ]
  },
  {
   "cell_type": "code",
   "execution_count": null,
   "id": "56953737",
   "metadata": {},
   "outputs": [],
   "source": [
    "previous = None\n",
    "increases = 0\n",
    "\n",
    "with open(\"day01.input\") as file:\n",
    "    for i, line in enumerate(file):\n",
    "        number = int(line)\n",
    "        if previous is not None:\n",
    "            if number > previous:\n",
    "                increases += 1\n",
    "        previous = number"
   ]
  },
  {
   "cell_type": "code",
   "execution_count": null,
   "id": "afe05cea",
   "metadata": {},
   "outputs": [],
   "source": [
    "increases"
   ]
  },
  {
   "cell_type": "code",
   "execution_count": null,
   "id": "0da74f6c",
   "metadata": {},
   "outputs": [],
   "source": [
    "numbers = pd.read_csv(\"day01.input\", header=None, squeeze=True)\n",
    "(numbers.diff() > 0).sum()"
   ]
  },
  {
   "cell_type": "markdown",
   "id": "5eb3e267",
   "metadata": {},
   "source": [
    "# Part 2"
   ]
  },
  {
   "cell_type": "code",
   "execution_count": null,
   "id": "415cb3fc",
   "metadata": {},
   "outputs": [],
   "source": [
    "numbers = pd.read_csv(\"day01.input\", header=None, squeeze=True)\n",
    "(numbers.rolling(window=3).sum().diff() > 0).sum()"
   ]
  },
  {
   "cell_type": "code",
   "execution_count": null,
   "id": "420f32a8",
   "metadata": {},
   "outputs": [],
   "source": []
  }
 ],
 "metadata": {
  "kernelspec": {
   "display_name": "Advent_of_Code",
   "language": "python",
   "name": "advent_of_code"
  },
  "language_info": {
   "codemirror_mode": {
    "name": "ipython",
    "version": 3
   },
   "file_extension": ".py",
   "mimetype": "text/x-python",
   "name": "python",
   "nbconvert_exporter": "python",
   "pygments_lexer": "ipython3",
   "version": "3.9.1"
  },
  "toc": {
   "base_numbering": 1,
   "nav_menu": {},
   "number_sections": true,
   "sideBar": true,
   "skip_h1_title": false,
   "title_cell": "Table of Contents",
   "title_sidebar": "Contents",
   "toc_cell": false,
   "toc_position": {},
   "toc_section_display": true,
   "toc_window_display": false
  }
 },
 "nbformat": 4,
 "nbformat_minor": 5
}
