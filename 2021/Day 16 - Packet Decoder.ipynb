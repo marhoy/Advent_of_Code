{
 "cells": [
  {
   "cell_type": "code",
   "execution_count": null,
   "id": "3f6fc010",
   "metadata": {},
   "outputs": [],
   "source": [
    "import io\n",
    "import math\n",
    "import operator\n",
    "import os\n",
    "\n",
    "from dataclasses import dataclass"
   ]
  },
  {
   "cell_type": "code",
   "execution_count": null,
   "id": "fe8ad06c",
   "metadata": {},
   "outputs": [],
   "source": [
    "@dataclass\n",
    "class PacketBase:\n",
    "    version: int\n",
    "    type_id: int\n",
    "\n",
    "@dataclass\n",
    "class Literal(PacketBase):\n",
    "    value: int\n",
    "        \n",
    "    def version_sum(self):\n",
    "        return self.version\n",
    "        \n",
    "@dataclass\n",
    "class Operator(PacketBase):\n",
    "    sub_packets: list\n",
    "\n",
    "    def version_sum(self):\n",
    "        return self.version + sum(packet.version_sum() for packet in self.sub_packets)"
   ]
  },
  {
   "cell_type": "code",
   "execution_count": null,
   "id": "ad2e69cb",
   "metadata": {},
   "outputs": [],
   "source": [
    "def get_bit_buffer(hex_string):\n",
    "    \"\"\"Parse the input hexadecimal and create a string-buffer of 0/1s.\"\"\"\n",
    "    bitstring = \"\".join(\"{:04b}\".format(int(char, 16)) for char in hex_string)\n",
    "    return io.StringIO(bitstring)"
   ]
  },
  {
   "cell_type": "code",
   "execution_count": null,
   "id": "21ade416",
   "metadata": {},
   "outputs": [],
   "source": [
    "def read_int(buffer, size):\n",
    "    return int(buffer.read(size), 2)"
   ]
  },
  {
   "cell_type": "code",
   "execution_count": null,
   "id": "8eb4582b",
   "metadata": {},
   "outputs": [],
   "source": [
    "def get_literal_value(buf):\n",
    "    digits = []\n",
    "    while True:\n",
    "        prefix = buf.read(1)\n",
    "        digit = buf.read(4)\n",
    "        digits.append(digit)\n",
    "        if prefix == \"0\":\n",
    "            break\n",
    "    \n",
    "    return int(\"\".join(digits), 2)"
   ]
  },
  {
   "cell_type": "code",
   "execution_count": null,
   "id": "65659708",
   "metadata": {},
   "outputs": [],
   "source": [
    "def is_empty(buffer):\n",
    "    pos = buffer.tell()\n",
    "    last = buffer.seek(0, os.SEEK_END)\n",
    "    buffer.seek(pos)\n",
    "    return pos == last"
   ]
  },
  {
   "cell_type": "code",
   "execution_count": null,
   "id": "71dfe82f",
   "metadata": {},
   "outputs": [],
   "source": [
    "def get_packet(buf):\n",
    "    version = read_int(buf, 3)\n",
    "    type_id = read_int(buf, 3)\n",
    "    \n",
    "    if type_id == 4:\n",
    "        value = get_literal_value(buf)\n",
    "        return Literal(version, type_id, value)\n",
    "    \n",
    "    length_type_id = read_int(buf, 1)\n",
    "    \n",
    "    if length_type_id == 0:\n",
    "        sub_packets_length = read_int(buf, 15)\n",
    "        sub_buffer = io.StringIO(buf.read(sub_packets_length))\n",
    "        packet = Operator(version, type_id, sub_packets=[])\n",
    "        while not is_empty(sub_buffer):\n",
    "            packet.sub_packets.append(get_packet(sub_buffer))\n",
    "        return packet\n",
    "    else:\n",
    "        num_sub_packets = read_int(buf, 11)\n",
    "        sub_packets = [get_packet(buf) for _ in range(num_sub_packets)]\n",
    "        return Operator(version, type_id, sub_packets)"
   ]
  },
  {
   "cell_type": "markdown",
   "id": "4073870e",
   "metadata": {},
   "source": [
    "# Part 1"
   ]
  },
  {
   "cell_type": "code",
   "execution_count": null,
   "id": "7951a794",
   "metadata": {},
   "outputs": [],
   "source": [
    "# Run some tests from the given examples\n",
    "assert get_packet(get_bit_buffer(\"8A004A801A8002F478\")).version_sum() == 16\n",
    "assert get_packet(get_bit_buffer(\"620080001611562C8802118E34\")).version_sum() == 12\n",
    "assert get_packet(get_bit_buffer(\"C0015000016115A2E0802F182340\")).version_sum() == 23\n",
    "assert get_packet(get_bit_buffer(\"A0016C880162017C3686B18A3D4780\")).version_sum() == 31"
   ]
  },
  {
   "cell_type": "code",
   "execution_count": null,
   "id": "e4af9782",
   "metadata": {},
   "outputs": [],
   "source": [
    "with open(\"day16.input\") as file:\n",
    "    buffer = get_bit_buffer(file.read().strip())\n",
    "\n",
    "# My answer\n",
    "get_packet(buffer).version_sum()"
   ]
  },
  {
   "cell_type": "markdown",
   "id": "6deb15b8",
   "metadata": {},
   "source": [
    "# Part 2\n",
    "\n",
    "We define a new version of the Operator package with and extra value-property"
   ]
  },
  {
   "cell_type": "code",
   "execution_count": null,
   "id": "425be43a",
   "metadata": {},
   "outputs": [],
   "source": [
    "@dataclass\n",
    "class Operator(PacketBase):\n",
    "    sub_packets: list\n",
    "\n",
    "    def version_sum(self):\n",
    "        return self.version + sum(packet.version_sum() for packet in self.sub_packets)\n",
    "    \n",
    "    @property\n",
    "    def value(self):\n",
    "        if self.type_id == 0:\n",
    "            return sum(p.value for p in self.sub_packets)\n",
    "        if self.type_id == 1:\n",
    "            return math.prod(p.value for p in self.sub_packets)\n",
    "        if self.type_id == 2:\n",
    "            return min(p.value for p in self.sub_packets)\n",
    "        if self.type_id == 3:\n",
    "            return max(p.value for p in self.sub_packets)\n",
    "        if self.type_id == 5:\n",
    "            return int(operator.gt(*(p.value for p in self.sub_packets)))\n",
    "        if self.type_id == 6:\n",
    "            return int(operator.lt(*(p.value for p in self.sub_packets)))\n",
    "        if self.type_id == 7:\n",
    "            return int(operator.eq(*(p.value for p in self.sub_packets)))\n",
    "\n",
    "        raise ValueError(f\"Unhandled type_id: {self.type_id}\")"
   ]
  },
  {
   "cell_type": "code",
   "execution_count": null,
   "id": "095a5b99",
   "metadata": {},
   "outputs": [],
   "source": [
    "# Run some tests from the given examples\n",
    "assert get_packet(get_bit_buffer(\"C200B40A82\")).value == 3\n",
    "assert get_packet(get_bit_buffer(\"04005AC33890\")).value == 54\n",
    "assert get_packet(get_bit_buffer(\"880086C3E88112\")).value == 7\n",
    "assert get_packet(get_bit_buffer(\"CE00C43D881120\")).value == 9\n",
    "assert get_packet(get_bit_buffer(\"D8005AC2A8F0\")).value == 1\n",
    "assert get_packet(get_bit_buffer(\"F600BC2D8F\")).value == 0\n",
    "assert get_packet(get_bit_buffer(\"9C005AC2F8F0\")).value == 0\n",
    "assert get_packet(get_bit_buffer(\"9C0141080250320F1802104A08\")).value == 1"
   ]
  },
  {
   "cell_type": "code",
   "execution_count": null,
   "id": "7fa63178",
   "metadata": {},
   "outputs": [],
   "source": [
    "with open(\"day16.input\") as file:\n",
    "    buffer = get_bit_buffer(file.read().strip())\n",
    "\n",
    "# My answer\n",
    "get_packet(buffer).value"
   ]
  },
  {
   "cell_type": "code",
   "execution_count": null,
   "id": "06b1edd4",
   "metadata": {},
   "outputs": [],
   "source": []
  }
 ],
 "metadata": {
  "kernelspec": {
   "display_name": "Advent_of_Code",
   "language": "python",
   "name": "advent_of_code"
  },
  "language_info": {
   "codemirror_mode": {
    "name": "ipython",
    "version": 3
   },
   "file_extension": ".py",
   "mimetype": "text/x-python",
   "name": "python",
   "nbconvert_exporter": "python",
   "pygments_lexer": "ipython3",
   "version": "3.10.1"
  },
  "toc": {
   "base_numbering": 1,
   "nav_menu": {},
   "number_sections": true,
   "sideBar": true,
   "skip_h1_title": false,
   "title_cell": "Table of Contents",
   "title_sidebar": "Contents",
   "toc_cell": false,
   "toc_position": {},
   "toc_section_display": true,
   "toc_window_display": false
  }
 },
 "nbformat": 4,
 "nbformat_minor": 5
}
