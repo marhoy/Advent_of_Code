{
 "cells": [
  {
   "cell_type": "code",
   "execution_count": null,
   "id": "b4ad6861",
   "metadata": {},
   "outputs": [],
   "source": [
    "def get_data(filename):\n",
    "    with open(filename) as file:\n",
    "        states = [int(state) for state in file.readline().split(\",\")]\n",
    "    return states"
   ]
  },
  {
   "cell_type": "markdown",
   "id": "bb0a421e",
   "metadata": {},
   "source": [
    "# Part 1"
   ]
  },
  {
   "cell_type": "code",
   "execution_count": null,
   "id": "c6809ac9",
   "metadata": {},
   "outputs": [],
   "source": [
    "def simulate1(states, generations):\n",
    "    for _ in range(generations):\n",
    "        new_fish = []\n",
    "        for i in range(len(states)):\n",
    "            if states[i] == 0:\n",
    "                states[i] = 6\n",
    "                new_fish.append(8)\n",
    "            else:\n",
    "                states[i] -= 1\n",
    "        states.extend(new_fish)\n",
    "    return states"
   ]
  },
  {
   "cell_type": "code",
   "execution_count": null,
   "id": "a24153bc",
   "metadata": {},
   "outputs": [],
   "source": [
    "initial = get_data(\"day06.input\")\n",
    "len(simulate1(initial, 80))"
   ]
  },
  {
   "cell_type": "markdown",
   "id": "36ed9489",
   "metadata": {},
   "source": [
    "# Part 2"
   ]
  },
  {
   "cell_type": "markdown",
   "id": "28682436",
   "metadata": {},
   "source": [
    "The simulation from part 1 explodes computationally, so we need to think differently:\n",
    "Create an array with 9 elements, where each element represents the number of fish in state i (from 0 to 8).\n",
    "\n",
    "For every timestep, we shift the numbers one position to the left. The number of fish that \"drops off\" the left end is both:\n",
    "\n",
    "1. Inserted at the last position (timer = 8, new fish being born)\n",
    "1. Added to the already existing fish in position 6 (timer being reset)\n",
    "\n",
    "At any point in time, the number of fish in the sea is the sum of the elements in the array.\n",
    "\n",
    "The `collections.deque` datatype is very useful here, since it makes it easy to shift and update the counts.\n"
   ]
  },
  {
   "cell_type": "code",
   "execution_count": null,
   "id": "d2ea8f65",
   "metadata": {},
   "outputs": [],
   "source": [
    "from collections import Counter, deque"
   ]
  },
  {
   "cell_type": "code",
   "execution_count": null,
   "id": "ef2ae765",
   "metadata": {},
   "outputs": [],
   "source": [
    "def simulate2(states, generations):\n",
    "    for _ in range(generations):\n",
    "        states.rotate(-1)\n",
    "        states[6] += states[-1]\n",
    "    return states"
   ]
  },
  {
   "cell_type": "code",
   "execution_count": null,
   "id": "44cbad2d",
   "metadata": {},
   "outputs": [],
   "source": [
    "counter = Counter(get_data(\"day06.input\"))\n",
    "initial = deque(counter.get(i, 0) for i in range(9))\n",
    "initial"
   ]
  },
  {
   "cell_type": "code",
   "execution_count": null,
   "id": "37efd42f",
   "metadata": {},
   "outputs": [],
   "source": [
    "sum(simulate2(initial, 256))"
   ]
  },
  {
   "cell_type": "code",
   "execution_count": null,
   "id": "8c0545be",
   "metadata": {},
   "outputs": [],
   "source": []
  }
 ],
 "metadata": {
  "kernelspec": {
   "display_name": "Advent_of_Code",
   "language": "python",
   "name": "advent_of_code"
  },
  "language_info": {
   "codemirror_mode": {
    "name": "ipython",
    "version": 3
   },
   "file_extension": ".py",
   "mimetype": "text/x-python",
   "name": "python",
   "nbconvert_exporter": "python",
   "pygments_lexer": "ipython3",
   "version": "3.10.0"
  },
  "toc": {
   "base_numbering": 1,
   "nav_menu": {},
   "number_sections": true,
   "sideBar": true,
   "skip_h1_title": false,
   "title_cell": "Table of Contents",
   "title_sidebar": "Contents",
   "toc_cell": false,
   "toc_position": {},
   "toc_section_display": true,
   "toc_window_display": false
  }
 },
 "nbformat": 4,
 "nbformat_minor": 5
}
