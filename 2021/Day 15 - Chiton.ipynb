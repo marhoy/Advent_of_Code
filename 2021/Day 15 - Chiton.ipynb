{
 "cells": [
  {
   "cell_type": "code",
   "execution_count": null,
   "id": "95821008",
   "metadata": {},
   "outputs": [],
   "source": [
    "import heapq\n",
    "import math"
   ]
  },
  {
   "cell_type": "code",
   "execution_count": null,
   "id": "4043e5dd",
   "metadata": {},
   "outputs": [],
   "source": [
    "def get_map(filename):\n",
    "    risk_level = dict()\n",
    "    with open(filename) as file:\n",
    "        for row, line in enumerate(file):\n",
    "            for col, risk in enumerate(line.strip()):\n",
    "                risk_level[(row, col)] = int(risk)\n",
    "                \n",
    "    return risk_level"
   ]
  },
  {
   "cell_type": "code",
   "execution_count": null,
   "id": "a6bf5147",
   "metadata": {},
   "outputs": [],
   "source": [
    "def find_neighbours(pos, allowed_pos):\n",
    "    \"\"\"Find valid neighbours on the map.\"\"\"\n",
    "    x, y = pos\n",
    "    candidates = [(x + dx, y + dy) for dx, dy in zip((0, 0, 1, -1), (1, -1, 0, 0))]\n",
    "    return [point for point in candidates if point in allowed_pos]"
   ]
  },
  {
   "cell_type": "markdown",
   "id": "5aebd537",
   "metadata": {},
   "source": [
    "# Part 1\n",
    "\n",
    "Use Dijkstra's algorithm to find the path with lowest risk."
   ]
  },
  {
   "cell_type": "code",
   "execution_count": null,
   "id": "af73e97e",
   "metadata": {},
   "outputs": [],
   "source": [
    "def find_lowest_risk(risk_map):\n",
    "\n",
    "    start = (0, 0)\n",
    "    risk = {start: 0}\n",
    "    queue = [(risk[start], start)]\n",
    "    visited = set(start)\n",
    "\n",
    "    while queue:\n",
    "        _, pos = heapq.heappop(queue)\n",
    " \n",
    "        for neighbour in find_neighbours(pos, risk_map):\n",
    "            risk_candidate = risk[pos] + risk_map[neighbour]\n",
    "            if risk_candidate < risk.get(neighbour, math.inf):\n",
    "                risk[neighbour] = risk_candidate\n",
    "            if neighbour not in visited:\n",
    "                heapq.heappush(queue, (risk[neighbour], neighbour))\n",
    "                visited.add(neighbour)\n",
    "\n",
    "    # Lower right corner\n",
    "    return risk[max(risk_map)]"
   ]
  },
  {
   "cell_type": "code",
   "execution_count": null,
   "id": "fbf8e1b7",
   "metadata": {},
   "outputs": [],
   "source": [
    "find_lowest_risk(get_map(\"day15.input\"))"
   ]
  },
  {
   "cell_type": "markdown",
   "id": "9b5627be",
   "metadata": {},
   "source": [
    "# Part 2"
   ]
  },
  {
   "cell_type": "code",
   "execution_count": null,
   "id": "ff3d51d1",
   "metadata": {},
   "outputs": [],
   "source": [
    "def print_map(risk_map, space_at=10):\n",
    "    max_row = max(risk_map)[0]\n",
    "    max_col = max(risk_map)[1]\n",
    "    \n",
    "    for row in range(max_row + 1):\n",
    "        if row and not row % space_at:\n",
    "            print()\n",
    "        for col in range(max_col + 1):\n",
    "            if col and not col % space_at:\n",
    "                print(\" \", end=\"\")\n",
    "            print(risk_map[row, col], end=\"\")\n",
    "        print()"
   ]
  },
  {
   "cell_type": "code",
   "execution_count": null,
   "id": "f2554b18",
   "metadata": {},
   "outputs": [],
   "source": [
    "def tile_map(small_map, repeat=5):\n",
    "    tile_rows = max(small_map)[0] + 1\n",
    "    tile_cols = max(small_map)[1] + 1\n",
    "\n",
    "    tiled_map = dict()\n",
    "    for tile_row in range(repeat):\n",
    "        for tile_col in range(repeat):\n",
    "            for row, col in small_map:\n",
    "                tiled_pos = tile_row*tile_rows + row, tile_col*tile_cols + col\n",
    "                tiled_value = (small_map[row, col] + tile_row + tile_col - 1) % 9 + 1 \n",
    "                tiled_map[tiled_pos] = tiled_value\n",
    "    \n",
    "    return tiled_map"
   ]
  },
  {
   "cell_type": "code",
   "execution_count": null,
   "id": "c8867f36",
   "metadata": {},
   "outputs": [],
   "source": [
    "print_map(tile_map(get_map(\"day15_example.input\")))"
   ]
  },
  {
   "cell_type": "code",
   "execution_count": null,
   "id": "30cacf85",
   "metadata": {},
   "outputs": [],
   "source": [
    "find_lowest_risk(tile_map(get_map(\"day15.input\")))"
   ]
  },
  {
   "cell_type": "code",
   "execution_count": null,
   "id": "384ad09f",
   "metadata": {},
   "outputs": [],
   "source": []
  }
 ],
 "metadata": {
  "kernelspec": {
   "display_name": "Advent_of_Code",
   "language": "python",
   "name": "advent_of_code"
  },
  "language_info": {
   "codemirror_mode": {
    "name": "ipython",
    "version": 3
   },
   "file_extension": ".py",
   "mimetype": "text/x-python",
   "name": "python",
   "nbconvert_exporter": "python",
   "pygments_lexer": "ipython3",
   "version": "3.10.1"
  },
  "toc": {
   "base_numbering": 1,
   "nav_menu": {},
   "number_sections": true,
   "sideBar": true,
   "skip_h1_title": false,
   "title_cell": "Table of Contents",
   "title_sidebar": "Contents",
   "toc_cell": false,
   "toc_position": {},
   "toc_section_display": true,
   "toc_window_display": false
  }
 },
 "nbformat": 4,
 "nbformat_minor": 5
}
