{
 "cells": [
  {
   "cell_type": "code",
   "execution_count": null,
   "id": "01cd3f15",
   "metadata": {},
   "outputs": [],
   "source": [
    "digits_segments = {\n",
    "    0: set(\"abcefg\"),\n",
    "    1: set(\"cf\"),\n",
    "    2: set(\"acdeg\"),\n",
    "    3: set(\"acdfg\"),\n",
    "    4: set(\"bcdf\"),\n",
    "    5: set(\"abdfg\"),\n",
    "    6: set(\"abdefg\"),\n",
    "    7: set(\"acf\"),\n",
    "    8: set(\"abcdefg\"),\n",
    "    9: set(\"abcdfg\")\n",
    "}"
   ]
  },
  {
   "cell_type": "markdown",
   "id": "1f778916",
   "metadata": {},
   "source": [
    "# Part 1\n",
    "\n",
    "Some digits are easy to detect because they have a unique number of segments."
   ]
  },
  {
   "cell_type": "code",
   "execution_count": null,
   "id": "a4fce690",
   "metadata": {},
   "outputs": [],
   "source": [
    "for digit, segments in sorted(digits_segments.items(), key=lambda item: len(item[1])):\n",
    "    print(f\"Digit {digit} has {len(segments)} segments.\")"
   ]
  },
  {
   "cell_type": "code",
   "execution_count": null,
   "id": "2ece82ec",
   "metadata": {},
   "outputs": [],
   "source": [
    "digit_counter = 0\n",
    "\n",
    "with open(\"day08.input\") as file:\n",
    "    for line in file:\n",
    "        patterns, outputs = line.split(\"|\")\n",
    "        for output in outputs.split():\n",
    "            if len(output) in set((2, 3, 4, 7)):\n",
    "                digit_counter += 1\n",
    "\n",
    "digit_counter"
   ]
  },
  {
   "cell_type": "markdown",
   "id": "5b50503e",
   "metadata": {},
   "source": [
    "# Part 2\n",
    "\n",
    "The remaining digits with same number of segments (2,3,5 have 5 segments) (0,6,9 have 6 segments) can be split up by subtracting a know and looking at the remaining segments."
   ]
  },
  {
   "cell_type": "code",
   "execution_count": null,
   "id": "66b9bffd",
   "metadata": {},
   "outputs": [],
   "source": [
    "def find_solution(patterns):\n",
    "    # First, figure out the ones we can determine just based on length\n",
    "    solution = dict()\n",
    "    solution[1] = next(pattern for pattern in patterns if len(pattern) == 2)\n",
    "    solution[4] = next(pattern for pattern in patterns if len(pattern) == 4)\n",
    "    solution[7] = next(pattern for pattern in patterns if len(pattern) == 3)\n",
    "    solution[8] = next(pattern for pattern in patterns if len(pattern) == 7)\n",
    "\n",
    "    # Then, split the ones of length 5 based on remaining length after subtracting a known\n",
    "    solution[2] = next(pattern for pattern in patterns if len(pattern) == 5 and len(pattern - solution[4]) == 3)\n",
    "    solution[3] = next(pattern for pattern in patterns if len(pattern) == 5 and len(pattern - solution[1]) == 3)\n",
    "    solution[5] = next(pattern for pattern in patterns if len(pattern) == 5 and len(pattern - solution[2]) == 2)\n",
    "    \n",
    "    # Then, split the ones of length 6 based on remaining length after subtracting a known\n",
    "    solution[0] = next(pattern for pattern in patterns if len(pattern) == 6 and len(pattern - solution[5]) == 2)\n",
    "    solution[6] = next(pattern for pattern in patterns if len(pattern) == 6 and len(pattern - solution[1]) == 5)\n",
    "    solution[9] = next(pattern for pattern in patterns if len(pattern) == 6 and len(pattern - solution[3]) == 1)\n",
    "    \n",
    "    # Make reversed solution mapping, from string of sorted characters to digit\n",
    "    mapping = {\"\".join(sorted(value)): str(key) for key, value in solution.items()}\n",
    "\n",
    "    return mapping"
   ]
  },
  {
   "cell_type": "code",
   "execution_count": null,
   "id": "cc18d6fe",
   "metadata": {},
   "outputs": [],
   "source": [
    "values = []\n",
    "with open(\"day08.input\") as file:\n",
    "    for line in file:\n",
    "        patterns, outputs = line.split(\"|\")\n",
    "        patterns = [set(pattern) for pattern in patterns.split()]\n",
    "        outputs = [set(output) for output in outputs.split()]\n",
    "        \n",
    "        mapping = find_solution(patterns)\n",
    "        value = int(\"\".join(mapping[\"\".join(sorted(output))] for output in outputs))\n",
    "        values.append(value)"
   ]
  },
  {
   "cell_type": "code",
   "execution_count": null,
   "id": "75960bbc",
   "metadata": {},
   "outputs": [],
   "source": [
    "sum(values)"
   ]
  },
  {
   "cell_type": "code",
   "execution_count": null,
   "id": "5db38a6a",
   "metadata": {},
   "outputs": [],
   "source": []
  }
 ],
 "metadata": {
  "kernelspec": {
   "display_name": "Advent_of_Code",
   "language": "python",
   "name": "advent_of_code"
  },
  "language_info": {
   "codemirror_mode": {
    "name": "ipython",
    "version": 3
   },
   "file_extension": ".py",
   "mimetype": "text/x-python",
   "name": "python",
   "nbconvert_exporter": "python",
   "pygments_lexer": "ipython3",
   "version": "3.9.1"
  },
  "toc": {
   "base_numbering": 1,
   "nav_menu": {},
   "number_sections": true,
   "sideBar": true,
   "skip_h1_title": false,
   "title_cell": "Table of Contents",
   "title_sidebar": "Contents",
   "toc_cell": false,
   "toc_position": {},
   "toc_section_display": true,
   "toc_window_display": false
  }
 },
 "nbformat": 4,
 "nbformat_minor": 5
}
