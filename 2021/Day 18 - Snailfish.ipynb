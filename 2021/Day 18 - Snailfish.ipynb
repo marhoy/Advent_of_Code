{
 "cells": [
  {
   "cell_type": "code",
   "execution_count": null,
   "id": "a4ce45f8",
   "metadata": {},
   "outputs": [],
   "source": [
    "class Number:\n",
    "    def __init__(self, value):\n",
    "        self.value = value\n",
    "\n",
    "    @property\n",
    "    def magnitude(self):\n",
    "        return self.value\n",
    "    \n",
    "    def add(self, number, end=\"not_used\"):\n",
    "        # Same signature as Pair, with end=\n",
    "        self.value += number.value\n",
    "    \n",
    "    def __ge__(self, other):\n",
    "        return self.value >= other.value\n",
    "    \n",
    "    def split(self):\n",
    "        floor, mod = divmod(self.value, 2)\n",
    "        return Number(floor), Number(floor + bool(mod))\n",
    "    \n",
    "    def __repr__(self):\n",
    "        return str(self.value)"
   ]
  },
  {
   "cell_type": "code",
   "execution_count": null,
   "id": "c74995ae",
   "metadata": {},
   "outputs": [],
   "source": [
    "class Pair:\n",
    "    def __init__(self, left, right):\n",
    "        \n",
    "        def number_or_pair(item):\n",
    "            if isinstance(item, int):\n",
    "                return Number(item)\n",
    "            if isinstance(item, Number):\n",
    "                return Number(item.value)\n",
    "            return Pair(*item)\n",
    "        \n",
    "        self.left = number_or_pair(left)\n",
    "        self.right = number_or_pair(right)\n",
    "    \n",
    "    @classmethod\n",
    "    def from_string(cls, string):\n",
    "        return cls(*eval(string))\n",
    "    \n",
    "    def __repr__(self):\n",
    "        return str([self.left, self.right])\n",
    "    \n",
    "    def __iter__(self):\n",
    "        return iter((self.left, self.right))\n",
    "    \n",
    "    def __add__(self, other):\n",
    "        return Pair(self, other)\n",
    "\n",
    "    def add(self, number, end):\n",
    "        # Add number to the far-left or far-right number, end=\"left\" or end=\"right\"\n",
    "        item = getattr(self, end)\n",
    "        while not isinstance(item, Number):\n",
    "            item = getattr(item, end)\n",
    "        item.add(number)\n",
    "\n",
    "    @property\n",
    "    def magnitude(self):\n",
    "        return 3*self.left.magnitude + 2*self.right.magnitude"
   ]
  },
  {
   "cell_type": "code",
   "execution_count": null,
   "id": "e12422f4",
   "metadata": {},
   "outputs": [],
   "source": [
    "def explode_and_split(pair):\n",
    "\n",
    "    def explode(pair, left=None, right=None, level=0):\n",
    "        nonlocal changed\n",
    "        # print(f\"    {pair=}, {left=}, {right=}, {level=}, {changed=}\")\n",
    "\n",
    "        def pair_add(pair, number, end):\n",
    "            if pair is not None:\n",
    "                pair.add(number, end=end)\n",
    "            \n",
    "        if (not changed) and isinstance(pair.left, Pair):\n",
    "            if level == 3:\n",
    "                # We're going to explode the Pair pair.left at level 4\n",
    "                # print(f\"    Exploding left: {pair=}, {left=}, {right=}\")\n",
    "                pair_add(pair.right, pair.left.right, end=\"left\")\n",
    "                pair_add(left, pair.left.left, end=\"right\")\n",
    "                pair.left = Number(0)\n",
    "                changed = True\n",
    "            else:\n",
    "                explode(pair.left, left, pair.right, level + 1)\n",
    "\n",
    "        if (not changed) and isinstance(pair.right, Pair):\n",
    "            if level == 3:\n",
    "                # We're going to explode the Pair pair.right at level 4\n",
    "                # print(f\"    Exploding right: {pair=}, {left=}, {right=}\")\n",
    "                pair_add(pair.left, pair.right.left, end=\"right\")\n",
    "                pair_add(right, pair.right.right, end=\"left\")\n",
    "                pair.right = Number(0)\n",
    "                changed = True\n",
    "            else:\n",
    "                explode(pair.right, pair.left, right, level + 1)\n",
    "\n",
    "    def split(pair):\n",
    "        nonlocal changed\n",
    "\n",
    "        def split_number(number):\n",
    "            nonlocal changed\n",
    "            if (not changed) and (number >= Number(10)):\n",
    "                changed = True\n",
    "                return Pair(*number.split())\n",
    "            else:\n",
    "                return number\n",
    "            \n",
    "        if isinstance(pair.left, Number):\n",
    "            pair.left = split_number(pair.left)\n",
    "        else:\n",
    "            split(pair.left)\n",
    "\n",
    "        if isinstance(pair.right, Number):\n",
    "            pair.right = split_number(pair.right)\n",
    "        else:\n",
    "            split(pair.right)\n",
    "\n",
    "    \n",
    "    # print(pair)\n",
    "    while True:\n",
    "        changed = False\n",
    "        explode(pair)\n",
    "        if changed:\n",
    "            # print(\"After explode:\", pair)\n",
    "            continue\n",
    "        split(pair)\n",
    "        if changed:\n",
    "            # print(\"After split:\", pair)\n",
    "            continue\n",
    "        break\n",
    "\n",
    "    return pair"
   ]
  },
  {
   "cell_type": "code",
   "execution_count": null,
   "id": "f2941e10",
   "metadata": {},
   "outputs": [],
   "source": [
    "# Test the magnitude calculation against given examples\n",
    "assert Pair.from_string(\"[[1,2],[[3,4],5]]\").magnitude == 143\n",
    "assert Pair.from_string(\"[[[[0,7],4],[[7,8],[6,0]]],[8,1]]\").magnitude == 1384\n",
    "assert Pair.from_string(\"[[[[1,1],[2,2]],[3,3]],[4,4]]\").magnitude == 445\n",
    "assert Pair.from_string(\"[[[[3,0],[5,3]],[4,4]],[5,5]]\").magnitude == 791\n",
    "assert Pair.from_string(\"[[[[5,0],[7,4]],[5,5]],[6,6]]\").magnitude == 1137\n",
    "assert Pair.from_string(\"[[[[8,7],[7,7]],[[8,6],[7,7]]],[[[0,7],[6,6]],[8,7]]]\").magnitude == 3488"
   ]
  },
  {
   "cell_type": "markdown",
   "id": "0636cfcc",
   "metadata": {},
   "source": [
    "# Part 1"
   ]
  },
  {
   "cell_type": "code",
   "execution_count": null,
   "id": "82b4c0c3",
   "metadata": {},
   "outputs": [],
   "source": [
    "def process_file(filename):\n",
    "    pair = None\n",
    "    with open(filename) as file:\n",
    "        for line in file:\n",
    "            if pair is None:\n",
    "                pair = Pair.from_string(line)\n",
    "            else:\n",
    "                pair += Pair.from_string(line)\n",
    "                pair = explode_and_split(pair)\n",
    "    return pair"
   ]
  },
  {
   "cell_type": "code",
   "execution_count": null,
   "id": "9d6c358e",
   "metadata": {},
   "outputs": [],
   "source": [
    "pair = process_file(\"day18_example.input\")\n",
    "print(pair)\n",
    "assert pair.magnitude == 4140"
   ]
  },
  {
   "cell_type": "code",
   "execution_count": null,
   "id": "2ba4992f",
   "metadata": {},
   "outputs": [],
   "source": [
    "pair = process_file(\"day18.input\")\n",
    "print(pair)\n",
    "print(pair.magnitude)"
   ]
  },
  {
   "cell_type": "markdown",
   "id": "4b97738f",
   "metadata": {},
   "source": [
    "# Part 2"
   ]
  },
  {
   "cell_type": "code",
   "execution_count": null,
   "id": "a1cc2d23",
   "metadata": {},
   "outputs": [],
   "source": [
    "snailfish_numbers = []\n",
    "with open(\"day18.input\") as file:\n",
    "    for line in file:\n",
    "        snailfish_numbers.append(Pair.from_string(line))"
   ]
  },
  {
   "cell_type": "code",
   "execution_count": null,
   "id": "8b967cca",
   "metadata": {},
   "outputs": [],
   "source": [
    "import itertools\n",
    "\n",
    "magnitudes = []\n",
    "for p1, p2 in itertools.permutations(snailfish_numbers, 2):\n",
    "    magnitudes.append(explode_and_split(p1 + p2).magnitude)\n",
    "\n",
    "max(magnitudes)"
   ]
  },
  {
   "cell_type": "code",
   "execution_count": null,
   "id": "cfed1ae4",
   "metadata": {},
   "outputs": [],
   "source": []
  }
 ],
 "metadata": {
  "kernelspec": {
   "display_name": "Advent_of_Code",
   "language": "python",
   "name": "advent_of_code"
  },
  "language_info": {
   "codemirror_mode": {
    "name": "ipython",
    "version": 3
   },
   "file_extension": ".py",
   "mimetype": "text/x-python",
   "name": "python",
   "nbconvert_exporter": "python",
   "pygments_lexer": "ipython3",
   "version": "3.10.1"
  },
  "toc": {
   "base_numbering": 1,
   "nav_menu": {},
   "number_sections": true,
   "sideBar": true,
   "skip_h1_title": false,
   "title_cell": "Table of Contents",
   "title_sidebar": "Contents",
   "toc_cell": false,
   "toc_position": {},
   "toc_section_display": true,
   "toc_window_display": false
  }
 },
 "nbformat": 4,
 "nbformat_minor": 5
}
