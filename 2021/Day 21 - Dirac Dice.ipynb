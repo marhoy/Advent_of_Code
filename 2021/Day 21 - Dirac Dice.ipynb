{
 "cells": [
  {
   "cell_type": "code",
   "execution_count": null,
   "id": "993a3fb1",
   "metadata": {},
   "outputs": [],
   "source": [
    "import itertools\n",
    "import re\n",
    "\n",
    "from dataclasses import dataclass"
   ]
  },
  {
   "cell_type": "code",
   "execution_count": null,
   "id": "0b9e70a8",
   "metadata": {},
   "outputs": [],
   "source": [
    "@dataclass\n",
    "class Player:\n",
    "    number: int\n",
    "    position: int\n",
    "    score: int = 0"
   ]
  },
  {
   "cell_type": "code",
   "execution_count": null,
   "id": "f796b104",
   "metadata": {},
   "outputs": [],
   "source": [
    "def get_players(filename):\n",
    "    players = []\n",
    "    with open(filename) as file:\n",
    "        for line in file:\n",
    "            number, position = re.findall(\"\\d+\", line)\n",
    "            players.append(Player(number=int(number), position=int(position)))\n",
    "    return players"
   ]
  },
  {
   "cell_type": "markdown",
   "id": "56a722a1",
   "metadata": {},
   "source": [
    "# Part 1"
   ]
  },
  {
   "cell_type": "code",
   "execution_count": null,
   "id": "5f389103",
   "metadata": {},
   "outputs": [],
   "source": [
    "def play_until_wins(players, target=1000):\n",
    "    dice = itertools.cycle(range(1, 101))\n",
    "    rolls = 0\n",
    "\n",
    "    while True:\n",
    "        for player in players:\n",
    "            throw = sum(next(dice) for _ in range(3))\n",
    "            player.position = (player.position + throw - 1) % 10 + 1\n",
    "            player.score += player.position\n",
    "            rolls += 3\n",
    "            if player.score >= target:\n",
    "                solution = min(p.score for p in players)*rolls\n",
    "                return player.number, solution"
   ]
  },
  {
   "cell_type": "code",
   "execution_count": null,
   "id": "05375f51",
   "metadata": {},
   "outputs": [],
   "source": [
    "players = get_players(\"day21.input\")\n",
    "\n",
    "winner, solution = play_until_wins(players)\n",
    "print(\"Solution:\", solution)"
   ]
  },
  {
   "cell_type": "markdown",
   "id": "58963902",
   "metadata": {},
   "source": [
    "# Part 2"
   ]
  },
  {
   "cell_type": "code",
   "execution_count": null,
   "id": "af6bf677",
   "metadata": {},
   "outputs": [],
   "source": [
    "import collections\n",
    "from functools import cache"
   ]
  },
  {
   "cell_type": "code",
   "execution_count": null,
   "id": "d5f4169b",
   "metadata": {},
   "outputs": [],
   "source": [
    "# At each players turn, there is 27 possible outcomes for the sum of three throws.\n",
    "# Since the sums 4-8 happens multiple times, let's compute the count of each sum\n",
    "# and just multiply the simulation-outcome with that count.\n",
    "possible_sums = collections.Counter(\n",
    "    sum(dice) for dice in itertools.product([1, 2, 3], repeat=3)\n",
    ")\n",
    "\n",
    "#\n",
    "# The positions can only be 1-10 and the scores can only be 0-21 (or slightly more).\n",
    "# So the recursive function can only be called in 10*10*21*21 = 44100 ways.\n",
    "# Thus, by caching the results we greatly speed up the calculation.\n",
    "#\n",
    "# This is acutally dynamic programming, but we're letting Python handle the storing.\n",
    "# We could have created a dictionary with the tuple (p1_pos, p2_pos, p1_score, p2_score)\n",
    "# as key, storing the result of that simulation.\n",
    "#\n",
    "@cache\n",
    "def simulate_game(p1_pos, p2_pos, p1_score=0, p2_score=0):\n",
    "\n",
    "    total_p1_wins, total_p2_wins = 0, 0\n",
    "\n",
    "    if p1_score >= 21:\n",
    "        return (1, 0)\n",
    "    if p2_score >= 21:\n",
    "        return (0, 1)\n",
    "\n",
    "    # Take care not to change the p1_pos and p1_score, as it screws up the recursion...\n",
    "    for dice_sum, sum_count in possible_sums.items():\n",
    "        new_p1_pos = (p1_pos + dice_sum - 1) % 10 + 1\n",
    "        new_p1_score = p1_score + new_p1_pos\n",
    "        \n",
    "        # Switch p1 and p2 to avoid writing the same logic twice.\n",
    "        p2_wins, p1_wins = simulate_game(p2_pos, new_p1_pos, p2_score, new_p1_score)\n",
    "        \n",
    "        total_p1_wins += p1_wins * sum_count\n",
    "        total_p2_wins += p2_wins * sum_count\n",
    "    \n",
    "    return total_p1_wins, total_p2_wins"
   ]
  },
  {
   "cell_type": "code",
   "execution_count": null,
   "id": "df1f6b8d",
   "metadata": {},
   "outputs": [],
   "source": [
    "players = get_players(\"day21.input\")\n",
    "\n",
    "print(\"Solution:\", max(simulate_game(players[0].position, players[1].position)))"
   ]
  },
  {
   "cell_type": "code",
   "execution_count": null,
   "id": "5333a0d0",
   "metadata": {},
   "outputs": [],
   "source": []
  }
 ],
 "metadata": {
  "kernelspec": {
   "display_name": "Advent_of_Code",
   "language": "python",
   "name": "advent_of_code"
  },
  "language_info": {
   "codemirror_mode": {
    "name": "ipython",
    "version": 3
   },
   "file_extension": ".py",
   "mimetype": "text/x-python",
   "name": "python",
   "nbconvert_exporter": "python",
   "pygments_lexer": "ipython3",
   "version": "3.10.1"
  },
  "toc": {
   "base_numbering": 1,
   "nav_menu": {},
   "number_sections": true,
   "sideBar": true,
   "skip_h1_title": false,
   "title_cell": "Table of Contents",
   "title_sidebar": "Contents",
   "toc_cell": false,
   "toc_position": {},
   "toc_section_display": true,
   "toc_window_display": false
  }
 },
 "nbformat": 4,
 "nbformat_minor": 5
}
