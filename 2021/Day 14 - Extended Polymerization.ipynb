{
 "cells": [
  {
   "cell_type": "code",
   "execution_count": null,
   "id": "5ec12690",
   "metadata": {},
   "outputs": [],
   "source": [
    "import itertools\n",
    "import collections"
   ]
  },
  {
   "cell_type": "code",
   "execution_count": null,
   "id": "2894c07e",
   "metadata": {},
   "outputs": [],
   "source": [
    "def get_data(filename):\n",
    "    rules = dict()\n",
    "    with open(filename) as file:\n",
    "        template = file.readline().strip()\n",
    "        file.readline()\n",
    "        for line in file:\n",
    "            pair, insert = line.strip().split(\" -> \")\n",
    "            rules[pair] = insert\n",
    "\n",
    "    return template, rules"
   ]
  },
  {
   "cell_type": "markdown",
   "id": "45aeb20d",
   "metadata": {},
   "source": [
    "# Part 1"
   ]
  },
  {
   "cell_type": "code",
   "execution_count": null,
   "id": "48569e57",
   "metadata": {},
   "outputs": [],
   "source": [
    "def insert(template, rules):\n",
    "    insertions = []\n",
    "    for pair in itertools.pairwise(template):\n",
    "        if \"\".join(pair) in rules:\n",
    "            insertions.append(rules[\"\".join(pair)])\n",
    "        else:\n",
    "            insertions.append(\"\")\n",
    "    \n",
    "    template = \"\".join([x for y in itertools.zip_longest(template, insertions, fillvalue=\"\") for x in y])\n",
    "    return template"
   ]
  },
  {
   "cell_type": "code",
   "execution_count": null,
   "id": "569ae9d4",
   "metadata": {},
   "outputs": [],
   "source": [
    "template, rules = get_data(\"day14_example.input\")\n",
    "\n",
    "for _ in range(10):\n",
    "    template = insert(template, rules)\n",
    "    print(collections.Counter(template))"
   ]
  },
  {
   "cell_type": "code",
   "execution_count": null,
   "id": "e5ab3b8e",
   "metadata": {},
   "outputs": [],
   "source": [
    "char_counts = collections.Counter(template)\n",
    "max(char_counts.values()) - min(char_counts.values())"
   ]
  },
  {
   "cell_type": "markdown",
   "id": "157aaabb",
   "metadata": {},
   "source": [
    "# Part 2"
   ]
  },
  {
   "cell_type": "markdown",
   "id": "541b2468",
   "metadata": {},
   "source": [
    "The length of the string grows too fast too keep track of... But there will be at most 27 different characters and at most 729 different character pairs.\n",
    "\n",
    "We don't have to keep track of the *order* of the character pairs. Let's instead keep count of how many we have of each character-pair, and how many characters we have of each type. \n",
    "\n",
    "For example, a rule like `CH -> N`, means that the pair `CH` will be replaced with two new pairs `CN` and `NH`.\n",
    "\n",
    "After one iteration, `NNCB` is turned into `NCNBCHB`, caused by the rules `NN -> C`, `NC -> B` and `CB -> H`. So the pairs `NN`, `NC`, `CB` have been replaced by (`NC`, `CN`), (`NB`, `BC`), (`CH`, `HB`). And in addition to the original characters, we have added three new: `C`, `B` and `H`."
   ]
  },
  {
   "cell_type": "code",
   "execution_count": null,
   "id": "3a5d3667",
   "metadata": {},
   "outputs": [],
   "source": [
    "template, rules = get_data(\"day14.input\")\n",
    "\n",
    "# Create a mapping from existing pair to the two new generated pairs\n",
    "new_pairs = {key: (key[0] + value, value + key[1]) for key, value in rules.items()}"
   ]
  },
  {
   "cell_type": "code",
   "execution_count": null,
   "id": "0a8edeb7",
   "metadata": {},
   "outputs": [],
   "source": [
    "pair_counts = collections.Counter(template[i:i+2] for i in range(len(template) - 1))\n",
    "char_counts = collections.Counter(template)\n",
    "\n",
    "for step in range(40):\n",
    "    new_pair_counts = collections.Counter()\n",
    "    for pair in pair_counts:\n",
    "        n_this_pair = pair_counts[pair]\n",
    "        new_pair_counts.update({np: n_this_pair for np in new_pairs[pair]})\n",
    "        char_counts.update({rules[pair]: n_this_pair})\n",
    "    pair_counts = new_pair_counts"
   ]
  },
  {
   "cell_type": "code",
   "execution_count": null,
   "id": "1885325b",
   "metadata": {},
   "outputs": [],
   "source": [
    "max(char_counts.values()) - min(char_counts.values())"
   ]
  },
  {
   "cell_type": "code",
   "execution_count": null,
   "id": "65aeb561",
   "metadata": {},
   "outputs": [],
   "source": [
    "print(f\"The string would have been {char_counts.total():,} characters long...\")"
   ]
  },
  {
   "cell_type": "code",
   "execution_count": null,
   "id": "91dc747c",
   "metadata": {},
   "outputs": [],
   "source": []
  }
 ],
 "metadata": {
  "kernelspec": {
   "display_name": "Advent_of_Code",
   "language": "python",
   "name": "advent_of_code"
  },
  "language_info": {
   "codemirror_mode": {
    "name": "ipython",
    "version": 3
   },
   "file_extension": ".py",
   "mimetype": "text/x-python",
   "name": "python",
   "nbconvert_exporter": "python",
   "pygments_lexer": "ipython3",
   "version": "3.10.1"
  },
  "toc": {
   "base_numbering": 1,
   "nav_menu": {},
   "number_sections": true,
   "sideBar": true,
   "skip_h1_title": false,
   "title_cell": "Table of Contents",
   "title_sidebar": "Contents",
   "toc_cell": false,
   "toc_position": {},
   "toc_section_display": true,
   "toc_window_display": false
  }
 },
 "nbformat": 4,
 "nbformat_minor": 5
}
