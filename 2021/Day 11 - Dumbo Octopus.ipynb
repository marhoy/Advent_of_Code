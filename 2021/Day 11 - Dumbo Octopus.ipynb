{
 "cells": [
  {
   "cell_type": "code",
   "execution_count": null,
   "id": "cdedf9a2",
   "metadata": {},
   "outputs": [],
   "source": [
    "import itertools\n",
    "import collections"
   ]
  },
  {
   "cell_type": "code",
   "execution_count": null,
   "id": "a9a30da2",
   "metadata": {},
   "outputs": [],
   "source": [
    "def get_energy_map(filename):\n",
    "    energy = dict()\n",
    "    with open(filename) as file:\n",
    "        for row, line in enumerate(file):\n",
    "            for col, value in enumerate(line.strip()):\n",
    "                energy[(row, col)] = int(value)\n",
    "    return energy"
   ]
  },
  {
   "cell_type": "code",
   "execution_count": null,
   "id": "262e9244",
   "metadata": {},
   "outputs": [],
   "source": [
    "def get_neighbours(point, allowed_values):\n",
    "    deltas = (delta for delta in itertools.product(*[[-1, 0, 1]] * 2) if delta != (0, 0))\n",
    "    for delta in deltas:\n",
    "        candidate = tuple(p + d for p, d in zip(point, delta))\n",
    "        if candidate in allowed_values:\n",
    "            yield candidate "
   ]
  },
  {
   "cell_type": "code",
   "execution_count": null,
   "id": "eb01c46f",
   "metadata": {},
   "outputs": [],
   "source": [
    "def simulate(energy):\n",
    "    flashed = collections.defaultdict(bool)\n",
    "    queue = list(energy)\n",
    "\n",
    "    while queue:\n",
    "        pos = queue.pop()\n",
    "        energy[pos] += 1\n",
    "        if energy[pos] == 10:\n",
    "            flashed[pos] = True\n",
    "            for neighbour in get_neighbours(pos, energy):\n",
    "                queue.append(neighbour)\n",
    "\n",
    "    for pos in flashed:\n",
    "        energy[pos] = 0\n",
    "            \n",
    "    return sum(flashed.values())"
   ]
  },
  {
   "cell_type": "markdown",
   "id": "4a68d2d0",
   "metadata": {},
   "source": [
    "# Part 1"
   ]
  },
  {
   "cell_type": "code",
   "execution_count": null,
   "id": "ef8330f7",
   "metadata": {},
   "outputs": [],
   "source": [
    "energy = get_energy_map(\"day11.input\")\n",
    "\n",
    "sum(simulate(energy) for _ in range(100))"
   ]
  },
  {
   "cell_type": "markdown",
   "id": "cff01dab",
   "metadata": {},
   "source": [
    "# Part 2"
   ]
  },
  {
   "cell_type": "code",
   "execution_count": null,
   "id": "32f2951d",
   "metadata": {},
   "outputs": [],
   "source": [
    "energy = get_energy_map(\"day11.input\")\n",
    "\n",
    "step = 1\n",
    "while simulate(energy) < 100:\n",
    "    step += 1\n",
    "\n",
    "step"
   ]
  },
  {
   "cell_type": "code",
   "execution_count": null,
   "id": "a1675b98",
   "metadata": {},
   "outputs": [],
   "source": []
  }
 ],
 "metadata": {
  "kernelspec": {
   "display_name": "Advent_of_Code",
   "language": "python",
   "name": "advent_of_code"
  },
  "language_info": {
   "codemirror_mode": {
    "name": "ipython",
    "version": 3
   },
   "file_extension": ".py",
   "mimetype": "text/x-python",
   "name": "python",
   "nbconvert_exporter": "python",
   "pygments_lexer": "ipython3",
   "version": "3.9.1"
  },
  "toc": {
   "base_numbering": 1,
   "nav_menu": {},
   "number_sections": true,
   "sideBar": true,
   "skip_h1_title": false,
   "title_cell": "Table of Contents",
   "title_sidebar": "Contents",
   "toc_cell": false,
   "toc_position": {},
   "toc_section_display": true,
   "toc_window_display": false
  }
 },
 "nbformat": 4,
 "nbformat_minor": 5
}
