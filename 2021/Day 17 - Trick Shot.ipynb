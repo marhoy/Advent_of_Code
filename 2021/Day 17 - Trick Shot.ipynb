{
 "cells": [
  {
   "cell_type": "code",
   "execution_count": null,
   "id": "b9732e92",
   "metadata": {},
   "outputs": [],
   "source": [
    "import re"
   ]
  },
  {
   "cell_type": "code",
   "execution_count": null,
   "id": "01b87b8c",
   "metadata": {},
   "outputs": [],
   "source": [
    "with open(\"day17.input\") as file:\n",
    "    line = file.read().strip()\n",
    "    print(line)\n",
    "    x_min, x_max, y_min, y_max = map(int, re.findall(\"(-?\\d+)\", line))"
   ]
  },
  {
   "cell_type": "code",
   "execution_count": null,
   "id": "5286524c",
   "metadata": {},
   "outputs": [],
   "source": [
    "def simulate(vx, vy):\n",
    "    x, y = 0, 0\n",
    "    positions = []\n",
    "    while True:\n",
    "        positions.append((x, y))\n",
    "        x += vx\n",
    "        y += vy\n",
    "        vx = max(0, vx - 1)\n",
    "        vy -= 1\n",
    "        if x > x_max or y < y_min:\n",
    "            return positions"
   ]
  },
  {
   "cell_type": "markdown",
   "id": "3193ad6c",
   "metadata": {},
   "source": [
    "Finding the lowest initial x-speed we can have: The lowest possible initial x-speed will stop (in x-direction) as early as possible in the target x-range.\n",
    "- Start from an x-value within the target range x_min..x_max with an x-speed of 0.\n",
    "- Simulate backwards and see if we hit x=0.\n",
    "- Report the x-speed when x==0"
   ]
  },
  {
   "cell_type": "code",
   "execution_count": null,
   "id": "05a4b89d",
   "metadata": {},
   "outputs": [],
   "source": [
    "def find_lowest_vx(x_min, x_max):\n",
    "    for x_end in range(x_min, x_max + 1):\n",
    "        x, vx = x_end, 0\n",
    "        while x > 0:\n",
    "            x -= vx\n",
    "            if x == 0:\n",
    "                return vx\n",
    "            vx += 1"
   ]
  },
  {
   "cell_type": "markdown",
   "id": "b77ce72a",
   "metadata": {},
   "source": [
    "# Part 1\n",
    "\n",
    "After some experimenting, it turns out that the best solution is to shoot as slow as possible in x-direction and as fast as possible in y-direction:\n",
    "- The initial x-speed should bring the x-speed to a stop as early as possible within the target x-range.\n",
    "- The highest initial y-speed we can use is - (y_min + 1): Since the y-values describe a parabolic shape, y will always come back to 0 after some steps. So we can consider only what happens after y=0 again. The best solution is the one that takes us from 0 to y_min in one single step. So we have `0 + vy - 1 = y_min`, which means `vy = (y_min + 1)`. The initial y-speed will have the opposite sign, so `vy_initial = - (y_min + 1)`"
   ]
  },
  {
   "cell_type": "code",
   "execution_count": null,
   "id": "f996e501",
   "metadata": {},
   "outputs": [],
   "source": [
    "vx_min = find_lowest_vx(x_min, x_max)"
   ]
  },
  {
   "cell_type": "code",
   "execution_count": null,
   "id": "c2b5e457",
   "metadata": {},
   "outputs": [],
   "source": [
    "# Find the highest y-position on that curve\n",
    "max(pos[1] for pos in simulate(vx_min, -(y_min + 1)))"
   ]
  },
  {
   "cell_type": "markdown",
   "id": "5547c308",
   "metadata": {},
   "source": [
    "# Part 2\n",
    "\n",
    "Brute force solution:\n",
    "- Valid vx-range is from vx_min (stops early after x_min) to x_max (jumps to x_max in one step)\n",
    "- Valid vy-range is from y_min (shoot down to y_min in one step) to the solution from part 1.\n",
    "- Loop over all possible combinations of vx and vy\n",
    "- Simulate the positions and check whether any of the resulting positions are within the target area"
   ]
  },
  {
   "cell_type": "code",
   "execution_count": null,
   "id": "59931251",
   "metadata": {},
   "outputs": [],
   "source": [
    "solutions = 0\n",
    "for vx in range(vx_min, x_max + 1):\n",
    "    for vy in range(y_min, - (y_min + 1) + 1):\n",
    "        for x, y in simulate(vx, vy):\n",
    "            if (x_min <= x <= x_max) and (y_min <= y <= y_max):\n",
    "                solutions += 1\n",
    "                break\n",
    "solutions"
   ]
  },
  {
   "cell_type": "code",
   "execution_count": null,
   "id": "c72fad29",
   "metadata": {},
   "outputs": [],
   "source": []
  }
 ],
 "metadata": {
  "kernelspec": {
   "display_name": "Advent_of_Code",
   "language": "python",
   "name": "advent_of_code"
  },
  "language_info": {
   "codemirror_mode": {
    "name": "ipython",
    "version": 3
   },
   "file_extension": ".py",
   "mimetype": "text/x-python",
   "name": "python",
   "nbconvert_exporter": "python",
   "pygments_lexer": "ipython3",
   "version": "3.10.1"
  },
  "toc": {
   "base_numbering": 1,
   "nav_menu": {},
   "number_sections": true,
   "sideBar": true,
   "skip_h1_title": false,
   "title_cell": "Table of Contents",
   "title_sidebar": "Contents",
   "toc_cell": false,
   "toc_position": {},
   "toc_section_display": true,
   "toc_window_display": false
  }
 },
 "nbformat": 4,
 "nbformat_minor": 5
}
