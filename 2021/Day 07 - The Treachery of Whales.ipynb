{
 "cells": [
  {
   "cell_type": "code",
   "execution_count": null,
   "id": "76f90afd",
   "metadata": {},
   "outputs": [],
   "source": [
    "with open(\"day07.input\") as file:\n",
    "    heights = [int(number) for number in file.readline().split(\",\")]"
   ]
  },
  {
   "cell_type": "markdown",
   "id": "7909c11e",
   "metadata": {},
   "source": [
    "# Part 1"
   ]
  },
  {
   "cell_type": "markdown",
   "id": "0cc04912",
   "metadata": {},
   "source": [
    "We are minimizing $\\sum_i |e_i|$ (absolute value of residuals), so the solution should be the median of the heights.\n",
    "\n",
    "For a proof that median minimizes MAE, see e.g. [math.stackexchange.com](https://math.stackexchange.com/questions/113270/the-median-minimizes-the-sum-of-absolute-deviations-the-ell-1-norm)."
   ]
  },
  {
   "cell_type": "code",
   "execution_count": null,
   "id": "656046a5",
   "metadata": {},
   "outputs": [],
   "source": [
    "import statistics\n",
    "\n",
    "target = int(statistics.median(heights))\n",
    "sum(abs(height - target) for height in heights)"
   ]
  },
  {
   "cell_type": "markdown",
   "id": "3f3c4fae",
   "metadata": {},
   "source": [
    "# Part 2"
   ]
  },
  {
   "cell_type": "markdown",
   "id": "0bd35f0b",
   "metadata": {},
   "source": [
    "If the height difference is $n$, the cost of moving is $c = 1 + 2 + 3 + \\dots + n = \\sum_{i=1}^n i = n(n + 1) / 2$\n",
    "\n",
    "For a proof of the above, see e.g. [math.stackexchange.com](https://math.stackexchange.com/questions/2260/proof-1234-cdotsn-fracn-timesn12).\n",
    "\n",
    "...and BTW: For a range of consecutive integers that doesn't start at 1, the above formula can be generalized to:\n",
    "\n",
    "$\\sum_{i=a}^b i = (b - a + 1)(b + a)/2$"
   ]
  },
  {
   "cell_type": "code",
   "execution_count": null,
   "id": "1793b688",
   "metadata": {},
   "outputs": [],
   "source": [
    "def cost(heights, common_height):\n",
    "    total_cost = 0\n",
    "    for height in heights:\n",
    "        diff = abs(height - common_height)\n",
    "        total_cost += diff * (diff + 1) / 2\n",
    "    return int(total_cost)"
   ]
  },
  {
   "cell_type": "markdown",
   "id": "3269cea8",
   "metadata": {},
   "source": [
    "We are basically minimizing $\\sum_i e_i^2$ (squared residuals), so the target height should be close to the mean of the heights.\n",
    "\n",
    "For a proof that the mean minimizes MSE, see e.g. [math.stackexchange.com](https://math.stackexchange.com/questions/2554243/understanding-the-mean-minimizes-the-mean-squared-error)).\n",
    "\n",
    "We check a few numbers on each side of the mean, just to be on the safe side :)."
   ]
  },
  {
   "cell_type": "code",
   "execution_count": null,
   "id": "2d59969c",
   "metadata": {},
   "outputs": [],
   "source": [
    "import statistics\n",
    "\n",
    "heights_mean = int(statistics.mean(heights))\n",
    "min(cost(heights, test) for test in range(heights_mean - 2, heights_mean + 2))"
   ]
  }
 ],
 "metadata": {
  "kernelspec": {
   "display_name": "Advent_of_Code",
   "language": "python",
   "name": "advent_of_code"
  },
  "language_info": {
   "codemirror_mode": {
    "name": "ipython",
    "version": 3
   },
   "file_extension": ".py",
   "mimetype": "text/x-python",
   "name": "python",
   "nbconvert_exporter": "python",
   "pygments_lexer": "ipython3",
   "version": "3.10.0"
  },
  "toc": {
   "base_numbering": 1,
   "nav_menu": {},
   "number_sections": true,
   "sideBar": true,
   "skip_h1_title": false,
   "title_cell": "Table of Contents",
   "title_sidebar": "Contents",
   "toc_cell": false,
   "toc_position": {},
   "toc_section_display": true,
   "toc_window_display": false
  }
 },
 "nbformat": 4,
 "nbformat_minor": 5
}
