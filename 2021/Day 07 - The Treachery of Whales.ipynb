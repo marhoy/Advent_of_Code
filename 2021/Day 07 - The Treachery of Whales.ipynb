{
 "cells": [
  {
   "cell_type": "code",
   "execution_count": null,
   "id": "76f90afd",
   "metadata": {},
   "outputs": [],
   "source": [
    "with open(\"day07.input\") as file:\n",
    "    heights = [int(number) for number in file.readline().split(\",\")]"
   ]
  },
  {
   "cell_type": "markdown",
   "id": "7909c11e",
   "metadata": {},
   "source": [
    "# Part 1"
   ]
  },
  {
   "cell_type": "code",
   "execution_count": null,
   "id": "5954f345",
   "metadata": {},
   "outputs": [],
   "source": [
    "import pandas as pd"
   ]
  },
  {
   "cell_type": "code",
   "execution_count": null,
   "id": "95a813b8",
   "metadata": {},
   "outputs": [],
   "source": [
    "heights = pd.Series(heights)\n",
    "int((heights - heights.median()).abs().sum())"
   ]
  },
  {
   "cell_type": "markdown",
   "id": "3f3c4fae",
   "metadata": {},
   "source": [
    "# Part 2"
   ]
  },
  {
   "cell_type": "markdown",
   "id": "0bd35f0b",
   "metadata": {},
   "source": [
    "If the height difference is $n$, the cost of moving is $c = 1 + 2 + 3 + \\dots + n = \\sum_{i=1}^n i = n(n + 1) / 2$"
   ]
  },
  {
   "cell_type": "code",
   "execution_count": null,
   "id": "1793b688",
   "metadata": {},
   "outputs": [],
   "source": [
    "def cost(heights, common_height):\n",
    "    total_cost = 0\n",
    "    for height in heights:\n",
    "        diff = abs(height - common_height)\n",
    "        total_cost += diff * (diff + 1) / 2\n",
    "    return int(total_cost)"
   ]
  },
  {
   "cell_type": "markdown",
   "id": "3269cea8",
   "metadata": {},
   "source": [
    "This is a brute force search for the minimum. We could use a more clever way to find the minimum of the cost-function. But since we don't have too many numbers, it still finishes in less than a second."
   ]
  },
  {
   "cell_type": "code",
   "execution_count": null,
   "id": "2d59969c",
   "metadata": {},
   "outputs": [],
   "source": [
    "min(cost(heights, test) for test in range(min(heights), max(heights) + 1))"
   ]
  }
 ],
 "metadata": {
  "kernelspec": {
   "display_name": "Advent_of_Code",
   "language": "python",
   "name": "advent_of_code"
  },
  "language_info": {
   "codemirror_mode": {
    "name": "ipython",
    "version": 3
   },
   "file_extension": ".py",
   "mimetype": "text/x-python",
   "name": "python",
   "nbconvert_exporter": "python",
   "pygments_lexer": "ipython3",
   "version": "3.9.1"
  },
  "toc": {
   "base_numbering": 1,
   "nav_menu": {},
   "number_sections": true,
   "sideBar": true,
   "skip_h1_title": false,
   "title_cell": "Table of Contents",
   "title_sidebar": "Contents",
   "toc_cell": false,
   "toc_position": {},
   "toc_section_display": true,
   "toc_window_display": false
  }
 },
 "nbformat": 4,
 "nbformat_minor": 5
}
