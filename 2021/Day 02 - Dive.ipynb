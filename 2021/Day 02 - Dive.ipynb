{
 "cells": [
  {
   "cell_type": "code",
   "execution_count": null,
   "id": "4b3bfdf1",
   "metadata": {},
   "outputs": [],
   "source": [
    "import re"
   ]
  },
  {
   "cell_type": "markdown",
   "id": "782db982",
   "metadata": {},
   "source": [
    "# Part 1"
   ]
  },
  {
   "cell_type": "code",
   "execution_count": null,
   "id": "d3b55992",
   "metadata": {},
   "outputs": [],
   "source": [
    "position, depth = 0, 0\n",
    "\n",
    "with open(\"day02.input\") as file:\n",
    "    for line in file:\n",
    "        number = int(re.search(\"\\d+\", line).group(0))\n",
    "        if line.startswith(\"forward\"):\n",
    "            position += number\n",
    "        elif line.startswith(\"down\"):\n",
    "            depth += number\n",
    "        elif line.startswith(\"up\"):\n",
    "            depth -= number"
   ]
  },
  {
   "cell_type": "code",
   "execution_count": null,
   "id": "acad5586",
   "metadata": {},
   "outputs": [],
   "source": [
    "position*depth"
   ]
  },
  {
   "cell_type": "markdown",
   "id": "723ad516",
   "metadata": {},
   "source": [
    "# Part 2"
   ]
  },
  {
   "cell_type": "code",
   "execution_count": null,
   "id": "b3fc82d9",
   "metadata": {},
   "outputs": [],
   "source": [
    "position, depth, aim = 0, 0, 0\n",
    "\n",
    "with open(\"day02.input\") as file:\n",
    "    for line in file:\n",
    "        number = int(re.search(\"\\d+\", line).group(0))\n",
    "        if line.startswith(\"forward\"):\n",
    "            position += number\n",
    "            depth += aim * number\n",
    "        elif line.startswith(\"down\"):\n",
    "            aim += number\n",
    "        elif line.startswith(\"up\"):\n",
    "            aim -= number"
   ]
  },
  {
   "cell_type": "code",
   "execution_count": null,
   "id": "217217ab",
   "metadata": {},
   "outputs": [],
   "source": [
    "position*depth"
   ]
  },
  {
   "cell_type": "code",
   "execution_count": null,
   "id": "10a4c45f",
   "metadata": {},
   "outputs": [],
   "source": []
  }
 ],
 "metadata": {
  "kernelspec": {
   "display_name": "Advent_of_Code",
   "language": "python",
   "name": "advent_of_code"
  },
  "language_info": {
   "codemirror_mode": {
    "name": "ipython",
    "version": 3
   },
   "file_extension": ".py",
   "mimetype": "text/x-python",
   "name": "python",
   "nbconvert_exporter": "python",
   "pygments_lexer": "ipython3",
   "version": "3.10.0"
  },
  "toc": {
   "base_numbering": 1,
   "nav_menu": {},
   "number_sections": true,
   "sideBar": true,
   "skip_h1_title": false,
   "title_cell": "Table of Contents",
   "title_sidebar": "Contents",
   "toc_cell": false,
   "toc_position": {},
   "toc_section_display": true,
   "toc_window_display": false
  }
 },
 "nbformat": 4,
 "nbformat_minor": 5
}
