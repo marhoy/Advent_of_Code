{
 "cells": [
  {
   "cell_type": "code",
   "execution_count": null,
   "id": "0a52a003",
   "metadata": {},
   "outputs": [],
   "source": [
    "import pandas as pd"
   ]
  },
  {
   "cell_type": "code",
   "execution_count": null,
   "id": "ed66d2c9",
   "metadata": {},
   "outputs": [],
   "source": [
    "input_strings = pd.read_csv(\"day03.input\", dtype=str, header=None, squeeze=True)\n",
    "input_strings.head()"
   ]
  },
  {
   "cell_type": "code",
   "execution_count": null,
   "id": "23a3ab36",
   "metadata": {},
   "outputs": [],
   "source": [
    "bits = input_strings.apply(lambda row: pd.Series(int(bit) for bit in row))\n",
    "bits.head()"
   ]
  },
  {
   "cell_type": "markdown",
   "id": "ad5cae20",
   "metadata": {},
   "source": [
    "# Part 1"
   ]
  },
  {
   "cell_type": "code",
   "execution_count": null,
   "id": "7a35daa6",
   "metadata": {},
   "outputs": [],
   "source": [
    "common = (bits.mean() > 0.5).tolist()\n",
    "common"
   ]
  },
  {
   "cell_type": "code",
   "execution_count": null,
   "id": "6b548299",
   "metadata": {},
   "outputs": [],
   "source": [
    "gamma = int(\"\".join(str(int(bit)) for bit in common), 2)"
   ]
  },
  {
   "cell_type": "code",
   "execution_count": null,
   "id": "354c95b8",
   "metadata": {},
   "outputs": [],
   "source": [
    "epsilon = ~gamma & int(\"1\"*len(common), 2)"
   ]
  },
  {
   "cell_type": "code",
   "execution_count": null,
   "id": "e2bbfb91",
   "metadata": {},
   "outputs": [],
   "source": [
    "# or\n",
    "epsilon = int(\"\".join(str(int(not bit)) for bit in common), 2)"
   ]
  },
  {
   "cell_type": "code",
   "execution_count": null,
   "id": "e7f2299f",
   "metadata": {},
   "outputs": [],
   "source": [
    "gamma * epsilon"
   ]
  },
  {
   "cell_type": "markdown",
   "id": "a3d5bf21",
   "metadata": {},
   "source": [
    "# Part 2"
   ]
  },
  {
   "cell_type": "code",
   "execution_count": null,
   "id": "7769c360",
   "metadata": {},
   "outputs": [],
   "source": [
    "candidates = bits.copy()\n",
    "for col in bits.columns:\n",
    "    common = int(candidates[col].mean() >= 0.5)\n",
    "    candidates = candidates[candidates[col] == common]\n",
    "    if len(candidates) == 1:\n",
    "        break"
   ]
  },
  {
   "cell_type": "code",
   "execution_count": null,
   "id": "c97b7026",
   "metadata": {},
   "outputs": [],
   "source": [
    "candidates"
   ]
  },
  {
   "cell_type": "code",
   "execution_count": null,
   "id": "e3452354",
   "metadata": {},
   "outputs": [],
   "source": [
    "oxygen = int(\"\".join(candidates.iloc[0].astype(str)), 2)\n",
    "oxygen"
   ]
  },
  {
   "cell_type": "code",
   "execution_count": null,
   "id": "53924aa1",
   "metadata": {},
   "outputs": [],
   "source": [
    "candidates = bits.copy()\n",
    "for col in bits.columns:\n",
    "    common = int(candidates[col].mean() < 0.5)\n",
    "    candidates = candidates[candidates[col] == common]\n",
    "    if len(candidates) == 1:\n",
    "        break"
   ]
  },
  {
   "cell_type": "code",
   "execution_count": null,
   "id": "35e21dab",
   "metadata": {},
   "outputs": [],
   "source": [
    "candidates"
   ]
  },
  {
   "cell_type": "code",
   "execution_count": null,
   "id": "27870df3",
   "metadata": {},
   "outputs": [],
   "source": [
    "co2 = int(\"\".join(candidates.iloc[0].astype(str)), 2)\n",
    "co2"
   ]
  },
  {
   "cell_type": "code",
   "execution_count": null,
   "id": "7b28ef5b",
   "metadata": {},
   "outputs": [],
   "source": [
    "oxygen * co2"
   ]
  },
  {
   "cell_type": "code",
   "execution_count": null,
   "id": "2e61b8f6",
   "metadata": {},
   "outputs": [],
   "source": []
  }
 ],
 "metadata": {
  "kernelspec": {
   "display_name": "Advent_of_Code",
   "language": "python",
   "name": "advent_of_code"
  },
  "language_info": {
   "codemirror_mode": {
    "name": "ipython",
    "version": 3
   },
   "file_extension": ".py",
   "mimetype": "text/x-python",
   "name": "python",
   "nbconvert_exporter": "python",
   "pygments_lexer": "ipython3",
   "version": "3.10.0"
  },
  "toc": {
   "base_numbering": 1,
   "nav_menu": {},
   "number_sections": true,
   "sideBar": true,
   "skip_h1_title": false,
   "title_cell": "Table of Contents",
   "title_sidebar": "Contents",
   "toc_cell": false,
   "toc_position": {},
   "toc_section_display": true,
   "toc_window_display": false
  }
 },
 "nbformat": 4,
 "nbformat_minor": 5
}
