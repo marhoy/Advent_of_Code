{
 "cells": [
  {
   "cell_type": "code",
   "execution_count": null,
   "id": "d20fd6b8",
   "metadata": {},
   "outputs": [],
   "source": [
    "def get_map(filename):\n",
    "    heightmap = dict()\n",
    "    with open(filename) as file:\n",
    "        for row, line in enumerate(file):\n",
    "            for col, height in enumerate(line.strip()):\n",
    "                heightmap[(row, col)] = int(height)\n",
    "    return heightmap"
   ]
  },
  {
   "cell_type": "code",
   "execution_count": null,
   "id": "8878d13a",
   "metadata": {},
   "outputs": [],
   "source": [
    "def find_neighbours(pos, heightmap):\n",
    "    \"\"\"Find valid neighbours on the map.\"\"\"\n",
    "    x, y = pos\n",
    "    candidates = [(x + dx, y + dy) for dx, dy in zip((0, 0, 1, -1), (1, -1, 0, 0))]\n",
    "    return [point for point in candidates if point in heightmap]"
   ]
  },
  {
   "cell_type": "code",
   "execution_count": null,
   "id": "e67082de",
   "metadata": {},
   "outputs": [],
   "source": [
    "heightmap = get_map(\"day09.input\")"
   ]
  },
  {
   "cell_type": "markdown",
   "id": "8547cff2",
   "metadata": {},
   "source": [
    "# Part 1"
   ]
  },
  {
   "cell_type": "code",
   "execution_count": null,
   "id": "5e3549b9",
   "metadata": {},
   "outputs": [],
   "source": [
    "def find_lowpoints(heightmap):\n",
    "    \"\"\"Find lowpoints on the map.\"\"\"\n",
    "    lowpoints = []\n",
    "    for pos in heightmap:\n",
    "        neighbour_heights = [heightmap[neighbour] for neighbour in find_neighbours(pos, heightmap)]\n",
    "        if heightmap[pos] < min(neighbour_heights):\n",
    "            lowpoints.append(pos)\n",
    "    return lowpoints"
   ]
  },
  {
   "cell_type": "code",
   "execution_count": null,
   "id": "a12b02b8",
   "metadata": {},
   "outputs": [],
   "source": [
    "lowpoints = find_lowpoints(heightmap)\n",
    "sum(heightmap[pos] + 1 for pos in lowpoints)"
   ]
  },
  {
   "cell_type": "markdown",
   "id": "cf5cbcc1",
   "metadata": {},
   "source": [
    "# Part 2\n",
    "\n",
    "Start in the positions of the low points and explore outwards in a breadth-first manner (BFS). If the neighbouring height is higher (but not 9), it is included in the basin."
   ]
  },
  {
   "cell_type": "code",
   "execution_count": null,
   "id": "9aeb1f51",
   "metadata": {},
   "outputs": [],
   "source": [
    "from collections import deque\n",
    "\n",
    "def find_basin(lowpoint, heightmap):\n",
    "    \"\"\"Find basin surrounding a lowpoint, using BFS.\"\"\"\n",
    "    queue = deque([lowpoint])\n",
    "    basin = set([lowpoint])\n",
    "    while queue:\n",
    "        pos = queue.popleft()\n",
    "        for neighbour in find_neighbours(pos, heightmap):\n",
    "            if (neighbour not in basin) and (heightmap[neighbour] > heightmap[pos]) and (heightmap[neighbour] < 9):\n",
    "                basin.add(neighbour)\n",
    "                queue.append(neighbour)\n",
    "    return basin"
   ]
  },
  {
   "cell_type": "code",
   "execution_count": null,
   "id": "469403ca",
   "metadata": {},
   "outputs": [],
   "source": [
    "import math\n",
    "\n",
    "lowpoints = find_lowpoints(heightmap)\n",
    "basin_sizes = [len(find_basin(pos, heightmap)) for pos in lowpoints]\n",
    "math.prod(sorted(basin_sizes)[-3:])"
   ]
  },
  {
   "cell_type": "code",
   "execution_count": null,
   "id": "cede1d13",
   "metadata": {},
   "outputs": [],
   "source": []
  }
 ],
 "metadata": {
  "kernelspec": {
   "display_name": "Advent_of_Code",
   "language": "python",
   "name": "advent_of_code"
  },
  "language_info": {
   "codemirror_mode": {
    "name": "ipython",
    "version": 3
   },
   "file_extension": ".py",
   "mimetype": "text/x-python",
   "name": "python",
   "nbconvert_exporter": "python",
   "pygments_lexer": "ipython3",
   "version": "3.9.1"
  },
  "toc": {
   "base_numbering": 1,
   "nav_menu": {},
   "number_sections": true,
   "sideBar": true,
   "skip_h1_title": false,
   "title_cell": "Table of Contents",
   "title_sidebar": "Contents",
   "toc_cell": false,
   "toc_position": {},
   "toc_section_display": true,
   "toc_window_display": false
  }
 },
 "nbformat": 4,
 "nbformat_minor": 5
}
