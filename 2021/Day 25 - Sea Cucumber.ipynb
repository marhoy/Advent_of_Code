{
 "cells": [
  {
   "cell_type": "code",
   "execution_count": null,
   "id": "72adccf4",
   "metadata": {},
   "outputs": [],
   "source": [
    "def get_grids(filename):\n",
    "    east, south = set(), set()\n",
    "    with open(filename) as file:\n",
    "        for row, line in enumerate(file):\n",
    "            for col, char in enumerate(line.strip()):\n",
    "                if char == \">\":\n",
    "                    east.add((row, col))\n",
    "                elif char == \"v\":\n",
    "                    south.add((row, col))\n",
    "                    \n",
    "    return east, south, (row + 1, col + 1)"
   ]
  },
  {
   "cell_type": "code",
   "execution_count": null,
   "id": "651afe53",
   "metadata": {},
   "outputs": [],
   "source": [
    "def neighbour(pos, direction):\n",
    "    row, col = pos\n",
    "    if direction == \"east\":\n",
    "        return row, (col + 1) % num_cols\n",
    "    if direction == \"south\":\n",
    "        return (row + 1) % num_rows, col\n",
    "    \n",
    "def can_move(pos, direction):\n",
    "    new_pos = neighbour(pos, direction)\n",
    "    if (new_pos not in east) and (new_pos not in south):\n",
    "        return new_pos\n",
    "        \n",
    "def print_herds():\n",
    "    for row in range(num_rows):\n",
    "        for col in range(num_cols):\n",
    "            if (row, col) in east:\n",
    "                print(\">\", end=\"\")\n",
    "            elif (row, col) in south:\n",
    "                print(\"v\", end=\"\")\n",
    "            else:\n",
    "                print(\".\", end=\"\")\n",
    "        print()"
   ]
  },
  {
   "cell_type": "code",
   "execution_count": null,
   "id": "ef281547",
   "metadata": {},
   "outputs": [],
   "source": [
    "east, south, (num_rows, num_cols) = get_grids(\"day25.input\")\n",
    "\n",
    "steps, moves = 0, None\n",
    "\n",
    "while moves != 0:\n",
    "    steps += 1\n",
    "    moves = 0\n",
    "\n",
    "    for herd, direction in ((east, \"east\"), (south, \"south\")):\n",
    "        possible_moves = []\n",
    "        for pos in herd:\n",
    "            if new_pos := can_move(pos, direction):\n",
    "                possible_moves.append((pos, new_pos))\n",
    "        for pos, new_pos in possible_moves:\n",
    "            herd.remove(pos)\n",
    "            herd.add(new_pos)\n",
    "        moves += len(possible_moves)\n",
    "\n",
    "print(steps)"
   ]
  },
  {
   "cell_type": "code",
   "execution_count": null,
   "id": "1f543df6",
   "metadata": {},
   "outputs": [],
   "source": []
  }
 ],
 "metadata": {
  "kernelspec": {
   "display_name": "Advent_of_Code",
   "language": "python",
   "name": "advent_of_code"
  },
  "language_info": {
   "codemirror_mode": {
    "name": "ipython",
    "version": 3
   },
   "file_extension": ".py",
   "mimetype": "text/x-python",
   "name": "python",
   "nbconvert_exporter": "python",
   "pygments_lexer": "ipython3",
   "version": "3.10.1"
  },
  "toc": {
   "base_numbering": 1,
   "nav_menu": {},
   "number_sections": true,
   "sideBar": true,
   "skip_h1_title": false,
   "title_cell": "Table of Contents",
   "title_sidebar": "Contents",
   "toc_cell": false,
   "toc_position": {},
   "toc_section_display": true,
   "toc_window_display": false
  }
 },
 "nbformat": 4,
 "nbformat_minor": 5
}
