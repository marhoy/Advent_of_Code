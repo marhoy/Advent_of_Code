{
 "cells": [
  {
   "cell_type": "code",
   "execution_count": null,
   "id": "1c4665a7",
   "metadata": {},
   "outputs": [],
   "source": [
    "def read_lines(filename):\n",
    "    with open(filename) as file:\n",
    "        lines = []\n",
    "        for line in file:\n",
    "            point1, point2 = line.split(\"->\")\n",
    "            x1, y1 = map(int, point1.split(\",\"))\n",
    "            x2, y2 = map(int, point2.split(\",\"))\n",
    "            lines.append((x1, y1, x2, y2))\n",
    "    return lines"
   ]
  },
  {
   "cell_type": "code",
   "execution_count": null,
   "id": "28182c3f",
   "metadata": {},
   "outputs": [],
   "source": [
    "def points_on_line(x1, y1, x2, y2):\n",
    "    x_diff = x2 - x1\n",
    "    y_diff = y2 - y1\n",
    "    line_length = abs(x_diff or y_diff)\n",
    "    x, y = x1, y1\n",
    "    yield x, y\n",
    "    for _ in range(line_length):\n",
    "        x += x_diff // line_length\n",
    "        y += y_diff // line_length\n",
    "        yield x, y"
   ]
  },
  {
   "cell_type": "markdown",
   "id": "f639c701",
   "metadata": {},
   "source": [
    "# Part 1"
   ]
  },
  {
   "cell_type": "code",
   "execution_count": null,
   "id": "5010531a",
   "metadata": {},
   "outputs": [],
   "source": [
    "lines = read_lines(\"day05.input\")"
   ]
  },
  {
   "cell_type": "code",
   "execution_count": null,
   "id": "5c156826",
   "metadata": {},
   "outputs": [],
   "source": [
    "diagram = dict()\n",
    "for line in lines:\n",
    "    x1, y1, x2, y2 = line\n",
    "    if x1 == x2 or y1 == y2:\n",
    "        for x, y in points_on_line(*line):\n",
    "            diagram[(x, y)] = diagram.get((x, y), 0) + 1\n",
    "\n",
    "sum(1 for number in diagram.values() if number >= 2)"
   ]
  },
  {
   "cell_type": "markdown",
   "id": "7c90c8e0",
   "metadata": {},
   "source": [
    "# Part 2"
   ]
  },
  {
   "cell_type": "code",
   "execution_count": null,
   "id": "63db06b8",
   "metadata": {},
   "outputs": [],
   "source": [
    "diagram = dict()\n",
    "for line in lines:\n",
    "    for x, y in points_on_line(*line):\n",
    "        diagram[(x, y)] = diagram.get((x, y), 0) + 1\n",
    "\n",
    "sum(1 for number in diagram.values() if number >= 2)"
   ]
  },
  {
   "cell_type": "code",
   "execution_count": null,
   "id": "2bd0f47a",
   "metadata": {},
   "outputs": [],
   "source": []
  }
 ],
 "metadata": {
  "kernelspec": {
   "display_name": "Advent_of_Code",
   "language": "python",
   "name": "advent_of_code"
  },
  "language_info": {
   "codemirror_mode": {
    "name": "ipython",
    "version": 3
   },
   "file_extension": ".py",
   "mimetype": "text/x-python",
   "name": "python",
   "nbconvert_exporter": "python",
   "pygments_lexer": "ipython3",
   "version": "3.9.1"
  },
  "toc": {
   "base_numbering": 1,
   "nav_menu": {},
   "number_sections": true,
   "sideBar": true,
   "skip_h1_title": false,
   "title_cell": "Table of Contents",
   "title_sidebar": "Contents",
   "toc_cell": false,
   "toc_position": {},
   "toc_section_display": true,
   "toc_window_display": false
  }
 },
 "nbformat": 4,
 "nbformat_minor": 5
}
