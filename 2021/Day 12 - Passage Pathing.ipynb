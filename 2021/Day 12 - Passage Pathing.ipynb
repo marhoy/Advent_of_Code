{
 "cells": [
  {
   "cell_type": "code",
   "execution_count": null,
   "id": "73541424",
   "metadata": {},
   "outputs": [],
   "source": [
    "import collections"
   ]
  },
  {
   "cell_type": "code",
   "execution_count": null,
   "id": "3752301b",
   "metadata": {},
   "outputs": [],
   "source": [
    "def read_map(filename):\n",
    "    \"\"\"Store the map of caves like a bi-directional graph.\"\"\"\n",
    "    \n",
    "    caves = collections.defaultdict(list)\n",
    "    with open(filename) as file:\n",
    "        for line in file:\n",
    "            start, end = line.strip().split(\"-\")\n",
    "            caves[start].append(end)\n",
    "            caves[end].append(start)\n",
    "    return caves"
   ]
  },
  {
   "cell_type": "code",
   "execution_count": null,
   "id": "6b9ccd5c",
   "metadata": {},
   "outputs": [],
   "source": [
    "caves = read_map(\"day12.input\")"
   ]
  },
  {
   "cell_type": "markdown",
   "id": "4029cde2",
   "metadata": {},
   "source": [
    "# Part 1\n",
    "\n",
    "Search recursively through all possibilites, and store the solution in a common list if/when we find the `end` node.\n",
    "\n",
    "Notes:\n",
    "\n",
    "* We need to make a `.copy()` of the visited-list, so that each branch of the recursion can keep track of it's own history.\n",
    "* It would have been better to use a `set` to store the visited caves (faster to check for `in visited`), but sets are not ordered. We could have used a dictionary, but it would have made the code less readable.\n",
    "* We could have used just a counter for the number of solutions, but it's nice to be able to see the actual paths :)"
   ]
  },
  {
   "cell_type": "code",
   "execution_count": null,
   "id": "c76b297b",
   "metadata": {},
   "outputs": [],
   "source": [
    "def find_paths(cave, visited=None, solutions=None):\n",
    "\n",
    "    # Initialization at first function-call\n",
    "    if visited is None:\n",
    "        visited = []\n",
    "    if solutions is None:\n",
    "        solutions = []\n",
    "\n",
    "    visited.append(cave)\n",
    "    if cave == \"end\":\n",
    "        solutions.append(visited)\n",
    "    else:\n",
    "        for exit in caves[cave]:\n",
    "            if (exit.islower() and (exit not in visited)) or exit.isupper():\n",
    "                find_paths(exit, visited.copy(), solutions)\n",
    "\n",
    "    return solutions"
   ]
  },
  {
   "cell_type": "code",
   "execution_count": null,
   "id": "8cbec84d",
   "metadata": {},
   "outputs": [],
   "source": [
    "solutions = find_paths(\"start\")\n",
    "len(solutions)"
   ]
  },
  {
   "cell_type": "markdown",
   "id": "75d8a20d",
   "metadata": {},
   "source": [
    "# Part 2\n",
    "\n",
    "We add a new variable that keeps track of whether we have already visited a lowercase cave twice.\n",
    "\n",
    "We can now enter a cave if:\n",
    "* It is uppercase\n",
    "* It is lowercase AND ((has not been visited before) OR (no lowercase caves has been visited twice)).\n",
    "\n",
    "In addition, we need a special check to ensure we don't visit `start` more than once (since it is lowercase)."
   ]
  },
  {
   "cell_type": "code",
   "execution_count": null,
   "id": "c31b3345",
   "metadata": {},
   "outputs": [],
   "source": [
    "def find_paths(cave, visited=None, solutions=None, lower_visited_twice=False):\n",
    "\n",
    "    # Initialization at first function-call\n",
    "    if visited is None:\n",
    "        visited = []\n",
    "    if solutions is None:\n",
    "        solutions = []\n",
    "\n",
    "    if cave.islower() and (cave in visited):\n",
    "        lower_visited_twice = True\n",
    "    visited.append(cave)\n",
    "\n",
    "    if cave == \"end\":\n",
    "        solutions.append(visited)\n",
    "    else:\n",
    "        for exit in caves[cave]:\n",
    "            if exit == \"start\":\n",
    "                continue\n",
    "            if (exit.islower() and ((exit not in visited) or not lower_visited_twice)) or exit.isupper():\n",
    "                find_paths(exit, visited.copy(), solutions, lower_visited_twice)\n",
    "\n",
    "    return solutions"
   ]
  },
  {
   "cell_type": "code",
   "execution_count": null,
   "id": "42fce2c8",
   "metadata": {},
   "outputs": [],
   "source": [
    "solutions = find_paths(\"start\")\n",
    "len(solutions)"
   ]
  },
  {
   "cell_type": "markdown",
   "id": "1e75786c",
   "metadata": {},
   "source": [
    "## Faster solution\n",
    "\n",
    "Here's an example of a faster solution that uses a `set()` to keep track of visited caves, and just calculates the *number of* possible paths. The downside is that it doesn't tell you what the actual paths are (if you're interested)."
   ]
  },
  {
   "cell_type": "code",
   "execution_count": null,
   "id": "7f39a3ef",
   "metadata": {},
   "outputs": [],
   "source": [
    "def find_paths_faster(cave, visited=None, lower_visited_twice=False):\n",
    "\n",
    "    solutions = 0\n",
    "    if visited is None:\n",
    "        visited = set()\n",
    "    \n",
    "    if cave.islower() and (cave in visited):\n",
    "        lower_visited_twice = True\n",
    "    visited.add(cave)\n",
    "    \n",
    "    if cave == \"end\":\n",
    "        return 1\n",
    "    else:\n",
    "        for exit in caves[cave]:\n",
    "            if exit == \"start\":\n",
    "                continue\n",
    "            if (exit.islower() and ((exit not in visited) or not lower_visited_twice)) or exit.isupper():\n",
    "                solutions += find_paths_faster(exit, visited.copy(), lower_visited_twice)\n",
    "    \n",
    "    return solutions"
   ]
  },
  {
   "cell_type": "code",
   "execution_count": null,
   "id": "addcecf9",
   "metadata": {},
   "outputs": [],
   "source": [
    "find_paths_faster(\"start\")"
   ]
  },
  {
   "cell_type": "code",
   "execution_count": null,
   "id": "f0198d26",
   "metadata": {},
   "outputs": [],
   "source": []
  }
 ],
 "metadata": {
  "kernelspec": {
   "display_name": "Advent_of_Code",
   "language": "python",
   "name": "advent_of_code"
  },
  "language_info": {
   "codemirror_mode": {
    "name": "ipython",
    "version": 3
   },
   "file_extension": ".py",
   "mimetype": "text/x-python",
   "name": "python",
   "nbconvert_exporter": "python",
   "pygments_lexer": "ipython3",
   "version": "3.9.1"
  },
  "toc": {
   "base_numbering": 1,
   "nav_menu": {},
   "number_sections": true,
   "sideBar": true,
   "skip_h1_title": false,
   "title_cell": "Table of Contents",
   "title_sidebar": "Contents",
   "toc_cell": false,
   "toc_position": {},
   "toc_section_display": true,
   "toc_window_display": false
  }
 },
 "nbformat": 4,
 "nbformat_minor": 5
}
