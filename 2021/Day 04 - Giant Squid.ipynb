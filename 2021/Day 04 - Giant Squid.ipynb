{
 "cells": [
  {
   "cell_type": "code",
   "execution_count": null,
   "id": "a37b2e12",
   "metadata": {},
   "outputs": [],
   "source": [
    "class Board:\n",
    "    def __init__(self, board_data):\n",
    "        self.numbers = dict()\n",
    "        self.row_counter = dict()\n",
    "        self.col_counter = dict()\n",
    "        self.bingo = False\n",
    "        self.solution = None\n",
    "        \n",
    "        for row_idx, row in enumerate(board_data):\n",
    "            for col_idx, number in enumerate(row):\n",
    "                self.numbers[number] = (row_idx, col_idx)\n",
    "    \n",
    "    def stamp(self, number):\n",
    "        if number in self.numbers.keys():\n",
    "            row_idx, col_idx = self.numbers[number]\n",
    "            self.row_counter[row_idx] = self.row_counter.get(row_idx, 0) + 1\n",
    "            self.col_counter[col_idx] = self.col_counter.get(col_idx, 0) + 1\n",
    "            del self.numbers[number]\n",
    "            \n",
    "            if self.row_counter[row_idx] == 5 or self.col_counter[col_idx] == 5:\n",
    "                self.bingo = True\n",
    "                remaining_sum = sum(self.numbers.keys())\n",
    "                self.solution = remaining_sum * number"
   ]
  },
  {
   "cell_type": "code",
   "execution_count": null,
   "id": "f30909c5",
   "metadata": {},
   "outputs": [],
   "source": [
    "def read_game(filename):\n",
    "    with open(filename) as file:\n",
    "        numbers = list(int(number) for number in file.readline().split(\",\"))\n",
    "\n",
    "        data = file.read()\n",
    "        boards = []\n",
    "        for board_str in data.split(\"\\n\\n\"):\n",
    "            board_data = [list(map(int, line.split())) for line in board_str.split(\"\\n\") if line]\n",
    "            boards.append(Board(board_data))\n",
    "\n",
    "    return numbers, boards"
   ]
  },
  {
   "cell_type": "markdown",
   "id": "30f5683e",
   "metadata": {},
   "source": [
    "# Part 1"
   ]
  },
  {
   "cell_type": "code",
   "execution_count": null,
   "id": "05c9c4b0",
   "metadata": {},
   "outputs": [],
   "source": [
    "def play_game_part1(numbers, boards):\n",
    "    for number in numbers:\n",
    "        for board in boards:\n",
    "            board.stamp(number)\n",
    "            if board.bingo:\n",
    "                print(\"Solution:\", board.solution)\n",
    "                return"
   ]
  },
  {
   "cell_type": "code",
   "execution_count": null,
   "id": "ad1bb084",
   "metadata": {},
   "outputs": [],
   "source": [
    "numbers, boards = read_game(\"day04.input\")\n",
    "play_game_part1(numbers, boards)"
   ]
  },
  {
   "cell_type": "markdown",
   "id": "0135b544",
   "metadata": {},
   "source": [
    "# Part 2"
   ]
  },
  {
   "cell_type": "code",
   "execution_count": null,
   "id": "944be57c",
   "metadata": {},
   "outputs": [],
   "source": [
    "numbers, boards = read_game(\"day04.input\")"
   ]
  },
  {
   "cell_type": "code",
   "execution_count": null,
   "id": "22191939",
   "metadata": {},
   "outputs": [],
   "source": [
    "for number in numbers:\n",
    "    for board in boards:\n",
    "        if board.bingo:\n",
    "            continue\n",
    "        board.stamp(number)\n",
    "        if board.bingo:\n",
    "            solution = board.solution\n",
    "\n",
    "print(\"Solution:\", solution)"
   ]
  },
  {
   "cell_type": "code",
   "execution_count": null,
   "id": "696a70da",
   "metadata": {},
   "outputs": [],
   "source": []
  }
 ],
 "metadata": {
  "kernelspec": {
   "display_name": "Advent_of_Code",
   "language": "python",
   "name": "advent_of_code"
  },
  "language_info": {
   "codemirror_mode": {
    "name": "ipython",
    "version": 3
   },
   "file_extension": ".py",
   "mimetype": "text/x-python",
   "name": "python",
   "nbconvert_exporter": "python",
   "pygments_lexer": "ipython3",
   "version": "3.9.1"
  },
  "toc": {
   "base_numbering": 1,
   "nav_menu": {},
   "number_sections": true,
   "sideBar": true,
   "skip_h1_title": false,
   "title_cell": "Table of Contents",
   "title_sidebar": "Contents",
   "toc_cell": false,
   "toc_position": {},
   "toc_section_display": true,
   "toc_window_display": false
  }
 },
 "nbformat": 4,
 "nbformat_minor": 5
}
