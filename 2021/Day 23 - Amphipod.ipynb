{
 "cells": [
  {
   "cell_type": "code",
   "execution_count": null,
   "id": "78d79c3d",
   "metadata": {},
   "outputs": [],
   "source": [
    "import heapq\n",
    "import itertools\n",
    "import math"
   ]
  },
  {
   "cell_type": "markdown",
   "id": "95c6961a",
   "metadata": {},
   "source": [
    "<div class=\"alert alert-block alert-info\">\n",
    "<b>Idea for solving:</b>\n",
    "\n",
    "This problem can be solved using Dijkstra's algorithm for shortest path. The \"distance\" we want to minimize is the cost of moving amphipods, and the \"path\" is the moves we have to make to get from the initial configuration to the target configuration.\n",
    "    \n",
    "There's 7 positions in the hallway and four rooms with amphipods. We can represent the current position of all the amphipods as a string: The target configuration would be `.......ABCDABCD`. These strings will be our states/nodes in the graph.\n",
    "\n",
    "The initial configuration is our start node. From this node, we have several possible moves that brings us to another configuration (node) with a certain cost (edge). Every new node we discover has zero or more new nodes attached to it.\n",
    "    \n",
    "It does *not* make sense to go back to a previously visited state, as the total cost will be higher than the first time we visited it, and the amphipod configuration will be the same.\n",
    "    \n",
    "We keep exploring this graph, using Dijkstras algorithm, and adding new nodes as we go. Eventually, we will end up at the target node, and we will have calculated the lowest possible cost of getting there.\n",
    "</div>\n",
    "\n",
    "When calculating possible moves and distances, we transform the state string into a 2D map with row- and column-coordinates."
   ]
  },
  {
   "cell_type": "code",
   "execution_count": null,
   "id": "c703bb70",
   "metadata": {},
   "outputs": [],
   "source": [
    "hallway_cols = (0, 1, 3, 5, 7, 9, 10)\n",
    "target_cols = {\"A\": 2, \"B\": 4, \"C\": 6, \"D\": 8}\n",
    "energy_cost = { \"A\": 1, \"B\": 10, \"C\": 100, \"D\": 1000 }\n",
    "\n",
    "def print_state(state):\n",
    "    print(f\"{state[:2] }.{'.'.join(state[2:5])}.{state[5:7]}\")\n",
    "    print(\" \", *state[7:11], \" \\n \", *state[11:15], \" \")\n",
    "    if len(state) > 15:\n",
    "        # For part 2\n",
    "        print(\" \", *state[15:19], \" \\n \", *state[19:], \" \")\n",
    "\n",
    "def get_rooms(state: str): \n",
    "    hallway = {(0, col): a for col, a in zip(hallway_cols, state[:7])}\n",
    "    rooms = {(row, col): a for (row, col), a in zip(itertools.product([1,2,3,4], [2,4,6,8]), state[7:])}\n",
    "    return hallway | rooms\n",
    "\n",
    "def get_state(rooms):\n",
    "    return(\"\".join(rooms.values()))\n",
    "\n",
    "def distance(pos1, pos2):\n",
    "    return abs(pos1[0] - pos2[0]) + abs(pos1[1] - pos2[1])\n",
    "\n",
    "def allowed_moves(start, rooms):\n",
    "    moving_type = rooms[start]\n",
    "    start_row, start_col = start\n",
    "    target_col = target_cols[moving_type]\n",
    "\n",
    "    def can_get_to_target_col(start_col, target_col):\n",
    "        left, right = min(start_col, target_col), max(start_col, target_col)\n",
    "        between = [col for col in hallway_cols if col > left and col < right]\n",
    "        return all(rooms[(0, col)] == \".\" for col in between)\n",
    "\n",
    "    def all_below_are_solved(row):\n",
    "        values_below = [rooms.get((below, target_col), \"*\") for below in range(row + 1, 5)]\n",
    "        return all(value in \"*\" + moving_type for value in values_below)\n",
    "    \n",
    "    # Starting from a room:\n",
    "    if start_row > 0:\n",
    "        # If we're in the correct column and all below are also solved:\n",
    "        # There is no point in moving.\n",
    "        if (start_col == target_col) and all_below_are_solved(start_row):\n",
    "            return []\n",
    "        # We can move up if the above position is open.\n",
    "        # We can then move left and right in the hallway until blocked.\n",
    "        if rooms.get((start_row - 1, start_col), \".\") == \".\":\n",
    "            left_cols = [col for col in reversed(hallway_cols) if col < start_col]\n",
    "            right_cols = [col for col in hallway_cols if col > start_col]\n",
    "            left_options = itertools.takewhile(lambda col: rooms[0, col] == \".\" , left_cols)\n",
    "            right_options = itertools.takewhile(lambda col: rooms[0, col] == \".\" , right_cols)\n",
    "            return [(0, col) for col in itertools.chain(left_options, right_options)]\n",
    "\n",
    "    # Starting from the hallway: Can we get from here to the target column?\n",
    "    if (start_row == 0) and can_get_to_target_col(start_col, target_col):\n",
    "        # Is there an open slot in the target column with all below it solved?\n",
    "        for row in range(1, 5):\n",
    "            if rooms.get((row, target_col)) != \".\":\n",
    "                break\n",
    "            if all_below_are_solved(row):\n",
    "                return [(row, target_col)]\n",
    "\n",
    "    # If we got here, we can't move anywhere\n",
    "    return []\n",
    "\n",
    "def new_possible_states(state):\n",
    "    rooms = get_rooms(state)\n",
    "    pod_positions = [pos for pos, pod in rooms.items() if pod in \"ABCD\"]\n",
    "    possible_states = []\n",
    "    for start in pod_positions:\n",
    "        for end in allowed_moves(start, rooms):\n",
    "            cost = distance(start, end) * energy_cost[rooms[start]]\n",
    "            new_rooms = rooms.copy()\n",
    "            new_rooms[end], new_rooms[start] = new_rooms[start], new_rooms[end]\n",
    "            possible_states.append((cost, get_state(new_rooms)))\n",
    "\n",
    "    return possible_states"
   ]
  },
  {
   "cell_type": "code",
   "execution_count": null,
   "id": "b7e8a73c",
   "metadata": {},
   "outputs": [],
   "source": [
    "def find_lowest_cost(initial_state, target_state):\n",
    "\n",
    "    queue = [(None, initial_state)]\n",
    "    cost = {initial_state: 0}\n",
    "    visited = set((initial_state,))\n",
    "\n",
    "    while queue:\n",
    "        _, cur_state = heapq.heappop(queue)\n",
    "        \n",
    "        if cur_state == target_state:\n",
    "            return cost[cur_state]\n",
    "        \n",
    "        for extra_cost, new_state in new_possible_states(cur_state):\n",
    "            cost_candidate = cost[cur_state] + extra_cost\n",
    "            if cost_candidate < cost.get(new_state, math.inf):\n",
    "                cost[new_state] = cost_candidate\n",
    "            if new_state not in visited:\n",
    "                heapq.heappush(queue, (cost[new_state], new_state))\n",
    "                visited.add(new_state)"
   ]
  },
  {
   "cell_type": "markdown",
   "id": "0c575349",
   "metadata": {},
   "source": [
    "# Part 1"
   ]
  },
  {
   "cell_type": "code",
   "execution_count": null,
   "id": "25ea2598",
   "metadata": {},
   "outputs": [],
   "source": [
    "initial_state = \".......BBDDCCAA\"\n",
    "target_state = \".......ABCDABCD\"\n",
    "\n",
    "assert find_lowest_cost(\".......BCBDADCA\", target_state) == 12521"
   ]
  },
  {
   "cell_type": "code",
   "execution_count": null,
   "id": "dbb50a98",
   "metadata": {},
   "outputs": [],
   "source": [
    "find_lowest_cost(initial_state, target_state)"
   ]
  },
  {
   "cell_type": "markdown",
   "id": "241d430e",
   "metadata": {},
   "source": [
    "# Part 2"
   ]
  },
  {
   "cell_type": "code",
   "execution_count": null,
   "id": "356878a4",
   "metadata": {},
   "outputs": [],
   "source": [
    "initial_state = \".......BBDDDCBADBACCCAA\"\n",
    "target_state = \".......ABCDABCDABCDABCD\"\n",
    "\n",
    "assert find_lowest_cost(\".......BCBDDCBADBACADCA\", target_state) == 44169"
   ]
  },
  {
   "cell_type": "code",
   "execution_count": null,
   "id": "e5db51fe",
   "metadata": {},
   "outputs": [],
   "source": [
    "find_lowest_cost(initial_state, target_state)"
   ]
  },
  {
   "cell_type": "code",
   "execution_count": null,
   "id": "9793f4d2",
   "metadata": {},
   "outputs": [],
   "source": []
  }
 ],
 "metadata": {
  "kernelspec": {
   "display_name": "Advent_of_Code",
   "language": "python",
   "name": "advent_of_code"
  },
  "language_info": {
   "codemirror_mode": {
    "name": "ipython",
    "version": 3
   },
   "file_extension": ".py",
   "mimetype": "text/x-python",
   "name": "python",
   "nbconvert_exporter": "python",
   "pygments_lexer": "ipython3",
   "version": "3.10.0"
  },
  "toc": {
   "base_numbering": 1,
   "nav_menu": {},
   "number_sections": true,
   "sideBar": true,
   "skip_h1_title": false,
   "title_cell": "Table of Contents",
   "title_sidebar": "Contents",
   "toc_cell": false,
   "toc_position": {},
   "toc_section_display": true,
   "toc_window_display": false
  }
 },
 "nbformat": 4,
 "nbformat_minor": 5
}
