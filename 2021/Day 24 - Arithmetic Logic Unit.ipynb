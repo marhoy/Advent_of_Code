{
 "cells": [
  {
   "cell_type": "code",
   "execution_count": null,
   "id": "d534f075",
   "metadata": {},
   "outputs": [],
   "source": [
    "#\n",
    "# Should you ever need one, this is a functional ALU.\n",
    "# Turns out it doesn't help much in finding the solution...\n",
    "#\n",
    "class Alu:\n",
    "    def __init__(self, input_values: list[str]):\n",
    "        self.w = 0\n",
    "        self.x = 0\n",
    "        self.y = 0\n",
    "        self.z = 0\n",
    "        self.input_queue = [int(value) for value in input_values]\n",
    "    \n",
    "    def inp(self, var_name):\n",
    "        setattr(self, var_name, self.input_queue.pop(0))\n",
    "    \n",
    "    def add(self, a, b):\n",
    "        setattr(self, a, getattr(self, a) + self._value_or_attr(b))\n",
    "        \n",
    "    def mul(self, a, b):\n",
    "        setattr(self, a, getattr(self, a) * self._value_or_attr(b))\n",
    "\n",
    "    def div(self, a, b):\n",
    "        setattr(self, a, getattr(self, a) // self._value_or_attr(b))\n",
    "\n",
    "    def mod(self, a, b):\n",
    "        setattr(self, a, getattr(self, a) % self._value_or_attr(b))\n",
    "\n",
    "    def eql(self, a, b):\n",
    "        setattr(self, a, int(getattr(self, a) == self._value_or_attr(b)))\n",
    "\n",
    "    def _value_or_attr(self, b):\n",
    "        try:\n",
    "            value = int(b)\n",
    "        except ValueError:\n",
    "            value = getattr(self, b)\n",
    "        return value\n",
    "    \n",
    "    def execute(self, program: list[str]):\n",
    "        for command in program:\n",
    "            if command.startswith(\"inp\"):\n",
    "                print()\n",
    "                print(\"Reading\", self.input_queue[0])\n",
    "    \n",
    "            if command.startswith(\"div z\"):\n",
    "                print(\"Popping z:\", command)\n",
    "                \n",
    "            cmd, *args = command.split()\n",
    "            func = getattr(self, cmd)\n",
    "            func(*args)\n",
    "\n",
    "            if command == \"add z y\":\n",
    "                print(\"y:\", digits(self.y, 26))\n",
    "                print(\"z:\", digits(self.z, 26))\n",
    "    \n",
    "    def __repr__(self):\n",
    "        return f\"Alu(w={self.w}, x={self.x}, y={self.y}, z={self.z})\"\n"
   ]
  },
  {
   "cell_type": "code",
   "execution_count": null,
   "id": "710e9e77",
   "metadata": {},
   "outputs": [],
   "source": [
    "def digits(number, base=10):\n",
    "    digs = []\n",
    "    while number > base:\n",
    "        number, rem = divmod(number, base)\n",
    "        digs.append(rem)\n",
    "    digs.append(number)\n",
    "    return tuple(reversed(digs))"
   ]
  },
  {
   "cell_type": "markdown",
   "id": "06621197",
   "metadata": {},
   "source": [
    "# Part 1"
   ]
  },
  {
   "cell_type": "code",
   "execution_count": null,
   "id": "377d9f47",
   "metadata": {},
   "outputs": [],
   "source": [
    "with open(\"day24.input\") as file:\n",
    "    program = [line.strip() for line in file]"
   ]
  },
  {
   "cell_type": "code",
   "execution_count": null,
   "id": "9c0cfab0",
   "metadata": {},
   "outputs": [],
   "source": [
    "alu = Alu(\"99299513899971\")\n",
    "alu.execute(program)\n",
    "print(alu.z)"
   ]
  },
  {
   "cell_type": "code",
   "execution_count": null,
   "id": "61d43555",
   "metadata": {},
   "outputs": [],
   "source": [
    "alu.z "
   ]
  },
  {
   "cell_type": "code",
   "execution_count": null,
   "id": "cc6f9159",
   "metadata": {},
   "outputs": [],
   "source": [
    "for i in range(10):\n",
    "    alu = Alu(str(i))\n",
    "    alu.execute(program[:18])\n",
    "    print(i, alu.z)"
   ]
  },
  {
   "cell_type": "code",
   "execution_count": null,
   "id": "f2a60343",
   "metadata": {},
   "outputs": [],
   "source": []
  },
  {
   "cell_type": "code",
   "execution_count": null,
   "id": "46575bd7",
   "metadata": {},
   "outputs": [],
   "source": []
  },
  {
   "cell_type": "code",
   "execution_count": null,
   "id": "601be963",
   "metadata": {},
   "outputs": [],
   "source": [
    "serial = 99299513899971\n",
    "\n",
    "for diff in range(100):\n",
    "    alu = Alu(str(serial + diff))\n",
    "    alu.execute(program)\n",
    "    print(diff, alu.z)"
   ]
  },
  {
   "cell_type": "code",
   "execution_count": null,
   "id": "65eb723a",
   "metadata": {},
   "outputs": [],
   "source": [
    "serial = int(\"9\"*14)"
   ]
  },
  {
   "cell_type": "code",
   "execution_count": null,
   "id": "ca9bbaac",
   "metadata": {},
   "outputs": [],
   "source": [
    "i = 0\n",
    "while len(str(serial)) == 14 and alu.z != 0:\n",
    "    i += 1\n",
    "    if i % 1000 == 0:\n",
    "        print(i, serial)\n",
    "        \n",
    "    alu = Alu(str(serial))\n",
    "    for line in program:\n",
    "        alu.execute(line)\n",
    "    if alu.z == 0:\n",
    "        print(\"Whohoo!\", serial)\n",
    "        break\n",
    "    serial = serial - alu.z\n",
    "#    while \"0\" in str(serial):\n",
    "#        serial = next_without_zero(serial)"
   ]
  },
  {
   "cell_type": "code",
   "execution_count": null,
   "id": "bdd5193a",
   "metadata": {},
   "outputs": [],
   "source": [
    "alu.z"
   ]
  },
  {
   "cell_type": "code",
   "execution_count": null,
   "id": "e22251af",
   "metadata": {},
   "outputs": [],
   "source": []
  },
  {
   "cell_type": "code",
   "execution_count": null,
   "id": "dc442252",
   "metadata": {},
   "outputs": [],
   "source": []
  },
  {
   "cell_type": "code",
   "execution_count": null,
   "id": "adf32d95",
   "metadata": {},
   "outputs": [],
   "source": [
    "serial = \"9\"*13 + \"8\"\n",
    "alu = Alu(serial)\n",
    "for line in program:\n",
    "    alu.execute(line)\n",
    "alu.z"
   ]
  },
  {
   "cell_type": "code",
   "execution_count": null,
   "id": "850eb7ae",
   "metadata": {},
   "outputs": [],
   "source": []
  },
  {
   "cell_type": "code",
   "execution_count": null,
   "id": "e4523773",
   "metadata": {},
   "outputs": [],
   "source": [
    "def is_valid_serial(serial: str):\n",
    "    alu = Alu(list(serial))\n",
    "    for line in program:\n",
    "        alu.execute(line)\n",
    "    return alu.z == 0"
   ]
  },
  {
   "cell_type": "code",
   "execution_count": null,
   "id": "6f75407e",
   "metadata": {},
   "outputs": [],
   "source": [
    "def next_without_zero(serial:int):\n",
    "    num = list(str(serial))\n",
    "    zero_pos = num.index(\"0\")\n",
    "    num[zero_pos] = \"9\"\n",
    "    num[zero_pos - 1] = str(int(num[zero_pos - 1]) - 1)\n",
    "    return int(\"\".join(num))"
   ]
  },
  {
   "cell_type": "code",
   "execution_count": null,
   "id": "75fd6213",
   "metadata": {},
   "outputs": [],
   "source": [
    "serial = int(\"9\"*3 + \"0\"*12)\n",
    "i = 0\n",
    "while not is_valid_serial(str(serial)):\n",
    "    serial -= 1\n",
    "    while \"0\" in str(serial):\n",
    "        serial = next_without_zero(serial)\n",
    "\n",
    "print(serial)"
   ]
  },
  {
   "cell_type": "code",
   "execution_count": null,
   "id": "964532fb",
   "metadata": {},
   "outputs": [],
   "source": []
  }
 ],
 "metadata": {
  "kernelspec": {
   "display_name": "Advent_of_Code",
   "language": "python",
   "name": "advent_of_code"
  },
  "language_info": {
   "codemirror_mode": {
    "name": "ipython",
    "version": 3
   },
   "file_extension": ".py",
   "mimetype": "text/x-python",
   "name": "python",
   "nbconvert_exporter": "python",
   "pygments_lexer": "ipython3",
   "version": "3.10.1"
  },
  "toc": {
   "base_numbering": 1,
   "nav_menu": {},
   "number_sections": true,
   "sideBar": true,
   "skip_h1_title": false,
   "title_cell": "Table of Contents",
   "title_sidebar": "Contents",
   "toc_cell": false,
   "toc_position": {},
   "toc_section_display": true,
   "toc_window_display": false
  }
 },
 "nbformat": 4,
 "nbformat_minor": 5
}
