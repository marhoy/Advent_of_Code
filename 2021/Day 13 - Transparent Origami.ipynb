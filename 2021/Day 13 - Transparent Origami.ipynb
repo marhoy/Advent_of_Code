{
 "cells": [
  {
   "cell_type": "code",
   "execution_count": null,
   "id": "152382ec",
   "metadata": {},
   "outputs": [],
   "source": [
    "import collections\n",
    "import re"
   ]
  },
  {
   "cell_type": "code",
   "execution_count": null,
   "id": "591fb21e",
   "metadata": {},
   "outputs": [],
   "source": [
    "def read_problem(filename):\n",
    "    paper = collections.defaultdict(bool)\n",
    "    foldings = []\n",
    "\n",
    "    with open(filename) as file:\n",
    "        for line in file:\n",
    "            if match := re.match(\"^(\\d+),(\\d+)\", line):\n",
    "                x, y = map(int, match.groups())\n",
    "                paper[x, y] = True\n",
    "            elif match := re.match(\"fold along (\\w)=(\\d+)\", line):\n",
    "                foldings.append((match.group(1), int(match.group(2))))\n",
    "                \n",
    "    return paper, foldings"
   ]
  },
  {
   "cell_type": "code",
   "execution_count": null,
   "id": "15df700d",
   "metadata": {},
   "outputs": [],
   "source": [
    "def print_paper(paper, false_char=\".\"):\n",
    "    max_x = max(x for x, y in paper.keys())\n",
    "    max_y = max(y for x, y in paper.keys())\n",
    "    for y in range(max_y + 1):\n",
    "        for x in range(max_x + 1):\n",
    "            if paper[x, y]:\n",
    "                print(\"#\", end=\"\")\n",
    "            else:\n",
    "                print(false_char, end=\"\")\n",
    "        print()"
   ]
  },
  {
   "cell_type": "markdown",
   "id": "f0dc960b",
   "metadata": {},
   "source": [
    "# Part 1"
   ]
  },
  {
   "cell_type": "code",
   "execution_count": null,
   "id": "9797eb09",
   "metadata": {},
   "outputs": [],
   "source": [
    "paper, foldings = read_problem(\"day13.input\")"
   ]
  },
  {
   "cell_type": "markdown",
   "id": "63fde344",
   "metadata": {},
   "source": [
    "These two functions could probably be combined, reducing duplicated code. But this is at least readable..."
   ]
  },
  {
   "cell_type": "code",
   "execution_count": null,
   "id": "4a6c0d18",
   "metadata": {},
   "outputs": [],
   "source": [
    "def fold_up(paper, fold_on):\n",
    "    \"\"\"Assuming we fold on the middle.\"\"\"\n",
    "    folded = collections.defaultdict(bool)\n",
    "    max_x = max(x for x, y in paper.keys())\n",
    "    for x in range(max_x + 1):\n",
    "        for y_upper, y_lower in zip(range(fold_on), range(2*fold_on, fold_on, -1)):\n",
    "            folded[x, y_upper] = paper[x, y_upper] or paper[x, y_lower]\n",
    "    return folded"
   ]
  },
  {
   "cell_type": "code",
   "execution_count": null,
   "id": "ed05c998",
   "metadata": {},
   "outputs": [],
   "source": [
    "def fold_left(paper, fold_on):\n",
    "    \"\"\"Assuming we fold on the middle.\"\"\"\n",
    "    folded = collections.defaultdict(bool)\n",
    "    max_y = max(y for x, y in paper.keys())\n",
    "    for y in range(max_y + 1):\n",
    "        for x_left, x_right in zip(range(fold_on), range(2*fold_on, fold_on, -1)):\n",
    "            folded[x_left, y] = paper[x_left, y] or paper[x_right, y]\n",
    "    return folded"
   ]
  },
  {
   "cell_type": "code",
   "execution_count": null,
   "id": "c0a2f46d",
   "metadata": {},
   "outputs": [],
   "source": [
    "fold_functions = {\n",
    "    \"x\": fold_left,\n",
    "    \"y\": fold_up\n",
    "}"
   ]
  },
  {
   "cell_type": "code",
   "execution_count": null,
   "id": "f7b44cb7",
   "metadata": {},
   "outputs": [],
   "source": [
    "fold = foldings[0]\n",
    "result = fold_functions[fold[0]](paper, fold[1])"
   ]
  },
  {
   "cell_type": "code",
   "execution_count": null,
   "id": "6e1f373b",
   "metadata": {},
   "outputs": [],
   "source": [
    "sum(result.values())"
   ]
  },
  {
   "cell_type": "markdown",
   "id": "37c1cb60",
   "metadata": {},
   "source": [
    "# Part 2"
   ]
  },
  {
   "cell_type": "code",
   "execution_count": null,
   "id": "e4f84227",
   "metadata": {},
   "outputs": [],
   "source": [
    "paper, foldings = read_problem(\"day13.input\")\n",
    "\n",
    "for fold_direction, fold_at in foldings:\n",
    "    paper = fold_functions[fold_direction](paper, fold_at)\n",
    "\n",
    "print_paper(paper, false_char=\" \")"
   ]
  },
  {
   "cell_type": "code",
   "execution_count": null,
   "id": "59b59fb3",
   "metadata": {},
   "outputs": [],
   "source": []
  }
 ],
 "metadata": {
  "kernelspec": {
   "display_name": "Advent_of_Code",
   "language": "python",
   "name": "advent_of_code"
  },
  "language_info": {
   "codemirror_mode": {
    "name": "ipython",
    "version": 3
   },
   "file_extension": ".py",
   "mimetype": "text/x-python",
   "name": "python",
   "nbconvert_exporter": "python",
   "pygments_lexer": "ipython3",
   "version": "3.10.0"
  },
  "toc": {
   "base_numbering": 1,
   "nav_menu": {},
   "number_sections": true,
   "sideBar": true,
   "skip_h1_title": false,
   "title_cell": "Table of Contents",
   "title_sidebar": "Contents",
   "toc_cell": false,
   "toc_position": {},
   "toc_section_display": true,
   "toc_window_display": false
  }
 },
 "nbformat": 4,
 "nbformat_minor": 5
}
