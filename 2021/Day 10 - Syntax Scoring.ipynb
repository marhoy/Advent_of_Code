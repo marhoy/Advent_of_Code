{
 "cells": [
  {
   "cell_type": "code",
   "execution_count": null,
   "id": "e8b1f6d7",
   "metadata": {},
   "outputs": [],
   "source": [
    "def get_lines(filename):\n",
    "    lines = []\n",
    "    with open(filename) as file:\n",
    "        for line in file:\n",
    "            lines.append(line.strip())\n",
    "    return lines"
   ]
  },
  {
   "cell_type": "code",
   "execution_count": null,
   "id": "01a307a8",
   "metadata": {},
   "outputs": [],
   "source": [
    "lines = get_lines(\"day10.input\")"
   ]
  },
  {
   "cell_type": "code",
   "execution_count": null,
   "id": "51d837ef",
   "metadata": {},
   "outputs": [],
   "source": [
    "chunk_pairs = {\n",
    "    \"(\": \")\",\n",
    "    \"[\": \"]\",\n",
    "    \"{\": \"}\",\n",
    "    \"<\": \">\"\n",
    "}"
   ]
  },
  {
   "cell_type": "code",
   "execution_count": null,
   "id": "3a3c0e6d",
   "metadata": {},
   "outputs": [],
   "source": [
    "def check_line(line):\n",
    "    stack = []\n",
    "    for char in line:\n",
    "        if char in chunk_pairs:\n",
    "            # This is an opening chunk\n",
    "            stack.append(char)\n",
    "        else:\n",
    "            # This is a closing chunk\n",
    "            last = stack.pop()\n",
    "            if chunk_pairs[last] != char:\n",
    "                # print(f\"Error: Got {char}, expected {chunk_pairs[last]}\")\n",
    "                # Return the offending character\n",
    "                return 1, char\n",
    "\n",
    "    # Return None if the stack is empty, otherwise return the stack.\n",
    "    if stack:\n",
    "        return 2, stack\n",
    "    return 0, None"
   ]
  },
  {
   "cell_type": "markdown",
   "id": "be979908",
   "metadata": {},
   "source": [
    "# Part 1"
   ]
  },
  {
   "cell_type": "code",
   "execution_count": null,
   "id": "b1843a29",
   "metadata": {},
   "outputs": [],
   "source": [
    "scores1 = {\n",
    "    \")\": 3,\n",
    "    \"]\": 57,\n",
    "    \"}\": 1197,\n",
    "    \">\": 25137,\n",
    "}"
   ]
  },
  {
   "cell_type": "code",
   "execution_count": null,
   "id": "ca5ebfd6",
   "metadata": {},
   "outputs": [],
   "source": [
    "total_score = 0\n",
    "for line in lines:\n",
    "    error_code, result = check_line(line)\n",
    "    if error_code == 1:\n",
    "        total_score += scores1[result]\n",
    "total_score"
   ]
  },
  {
   "cell_type": "markdown",
   "id": "1a018cff",
   "metadata": {},
   "source": [
    "# Part 2"
   ]
  },
  {
   "cell_type": "code",
   "execution_count": null,
   "id": "9775cd07",
   "metadata": {},
   "outputs": [],
   "source": [
    "scores2 = {\n",
    "    \")\": 1,\n",
    "    \"]\": 2,\n",
    "    \"}\": 3,\n",
    "    \">\": 4,\n",
    "}"
   ]
  },
  {
   "cell_type": "code",
   "execution_count": null,
   "id": "19ee56b0",
   "metadata": {},
   "outputs": [],
   "source": [
    "all_scores = []\n",
    "for line in lines:\n",
    "    line_score = 0\n",
    "    error_code, result = check_line(line)\n",
    "    if error_code != 2:\n",
    "        continue\n",
    "    for char in reversed(result):\n",
    "        line_score *= 5\n",
    "        line_score += scores2[chunk_pairs[char]]\n",
    "    all_scores.append(line_score)"
   ]
  },
  {
   "cell_type": "code",
   "execution_count": null,
   "id": "24ef0fdc",
   "metadata": {},
   "outputs": [],
   "source": [
    "import statistics\n",
    "\n",
    "statistics.median(all_scores)"
   ]
  },
  {
   "cell_type": "code",
   "execution_count": null,
   "id": "56138732",
   "metadata": {},
   "outputs": [],
   "source": []
  }
 ],
 "metadata": {
  "kernelspec": {
   "display_name": "Advent_of_Code",
   "language": "python",
   "name": "advent_of_code"
  },
  "language_info": {
   "codemirror_mode": {
    "name": "ipython",
    "version": 3
   },
   "file_extension": ".py",
   "mimetype": "text/x-python",
   "name": "python",
   "nbconvert_exporter": "python",
   "pygments_lexer": "ipython3",
   "version": "3.9.1"
  },
  "toc": {
   "base_numbering": 1,
   "nav_menu": {},
   "number_sections": true,
   "sideBar": true,
   "skip_h1_title": false,
   "title_cell": "Table of Contents",
   "title_sidebar": "Contents",
   "toc_cell": false,
   "toc_position": {},
   "toc_section_display": true,
   "toc_window_display": false
  }
 },
 "nbformat": 4,
 "nbformat_minor": 5
}
