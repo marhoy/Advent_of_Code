{
 "cells": [
  {
   "cell_type": "code",
   "execution_count": null,
   "id": "3b9f5192",
   "metadata": {},
   "outputs": [],
   "source": [
    "import re"
   ]
  },
  {
   "cell_type": "markdown",
   "id": "f348da04",
   "metadata": {},
   "source": [
    "# Part 1"
   ]
  },
  {
   "cell_type": "code",
   "execution_count": null,
   "id": "c1b3c948",
   "metadata": {},
   "outputs": [],
   "source": [
    "def get_sequence(filename):\n",
    "    sequence = []\n",
    "    with open(filename) as file:\n",
    "        for line in file:\n",
    "            coordinates = re.findall(r\"(-?\\d+)\", line)\n",
    "            state = line.startswith(\"on\")\n",
    "            sequence.append((state, *map(int, coordinates)))\n",
    "    return sequence"
   ]
  },
  {
   "cell_type": "code",
   "execution_count": null,
   "id": "52a0ec3d",
   "metadata": {},
   "outputs": [],
   "source": [
    "sequence = get_sequence(\"day22.input\")"
   ]
  },
  {
   "cell_type": "code",
   "execution_count": null,
   "id": "518cdba1",
   "metadata": {},
   "outputs": [],
   "source": [
    "import itertools\n",
    "\n",
    "grid = dict()\n",
    "for state, x_min, x_max, y_min, y_max, z_min, z_max in sequence:\n",
    "    if min(x_min, y_min, z_min) < -50 or max(x_max, y_max, z_max) > 50:\n",
    "        continue\n",
    "    for x, y, z in itertools.product(\n",
    "                         range(x_min, x_max + 1),\n",
    "                         range(y_min, y_max + 1),\n",
    "                         range(z_min, z_max + 1)):\n",
    "        grid[(x, y, z)] = state"
   ]
  },
  {
   "cell_type": "code",
   "execution_count": null,
   "id": "bc959aec",
   "metadata": {},
   "outputs": [],
   "source": [
    "sum(grid.values())"
   ]
  },
  {
   "cell_type": "markdown",
   "id": "1cb6b928",
   "metadata": {},
   "source": [
    "# Part 2\n",
    "\n",
    "We cannot loop over all those cubes, it would take too long... We need to somehow use just the intervals, and keep track of the overlapping cuboids.\n",
    "\n",
    "Pseudo-code for solution:\n",
    "- Start with an empty list `L` of cuboids\n",
    "- For each new cuboid `N` in the boot sequence:\n",
    "    - For each already existing cuboid `C` in `L`:\n",
    "        - If there is an intersection `I` (also a cuboid) between `N` and `C`:\n",
    "            - Add the intersecton `I` to `L` with value = opposite sign of `C`, after finished processing all `C`. \n",
    "    - If the value of `N` is `on`, add it to `L` with a value of `+1`\n",
    "- Calculate the `sum(C.volume*C.value for C in L)`\n",
    "\n",
    "For every `N` in the sequence, we loop over an increasingly longer `L`, so the best case (no intersections), the algorithm is $O(n^2)$. In practice, it will be slower..."
   ]
  },
  {
   "cell_type": "code",
   "execution_count": null,
   "id": "0099b41f",
   "metadata": {},
   "outputs": [],
   "source": [
    "from dataclasses import dataclass\n",
    "import math"
   ]
  },
  {
   "cell_type": "code",
   "execution_count": null,
   "id": "3194d927",
   "metadata": {},
   "outputs": [],
   "source": [
    "@dataclass\n",
    "class Cuboid:\n",
    "    ranges: tuple[int]  # x1, x2, y1, y2, z1, z2\n",
    "    value: int = None\n",
    "\n",
    "    @property\n",
    "    def volume(self):\n",
    "        return math.prod((b - a + 1) for a, b in self._pairwise(self.ranges))\n",
    "    \n",
    "    @property\n",
    "    def count(self):\n",
    "        return self.value*self.volume\n",
    "    \n",
    "    def _pairwise(self, seq):\n",
    "        return zip(seq[::2], seq[1::2])\n",
    "\n",
    "    def intersection(self, other):\n",
    "        ranges = []\n",
    "        for s, o in zip(self._pairwise(self.ranges), self._pairwise(other.ranges)):\n",
    "            left, right = max(s[0], o[0]), min(s[1], o[1])\n",
    "            if left > right:\n",
    "                return\n",
    "            ranges.extend((left, right))\n",
    "        return Cuboid(tuple(ranges), -1)"
   ]
  },
  {
   "cell_type": "code",
   "execution_count": null,
   "id": "bef635d2",
   "metadata": {},
   "outputs": [],
   "source": [
    "def get_cuboids(filename):\n",
    "    cuboids = []\n",
    "    with open(filename) as file:\n",
    "        for line in file:\n",
    "            coordinates = re.findall(r\"(-?\\d+)\", line)\n",
    "            action = line.split()[0]\n",
    "            cuboids.append(Cuboid(tuple(map(int, coordinates)), action))\n",
    "    return cuboids"
   ]
  },
  {
   "cell_type": "code",
   "execution_count": null,
   "id": "ecf42629",
   "metadata": {},
   "outputs": [],
   "source": [
    "def solve_part2(filename):\n",
    "    cuboids = []\n",
    "    for new in get_cuboids(filename):\n",
    "        intersections = []\n",
    "        for cuboid in cuboids:\n",
    "            if intersection := cuboid.intersection(new):\n",
    "                intersection.value = -cuboid.value\n",
    "                intersections.append(intersection)\n",
    "        cuboids.extend(intersections)\n",
    "        if new.value == \"on\":\n",
    "            new.value = 1\n",
    "            cuboids.append(new)\n",
    "            \n",
    "    return sum(cuboid.count for cuboid in cuboids)"
   ]
  },
  {
   "cell_type": "code",
   "execution_count": null,
   "id": "a4a5c749",
   "metadata": {},
   "outputs": [],
   "source": [
    "assert solve_part2(\"day22_example2.input\") == 2758514936282235"
   ]
  },
  {
   "cell_type": "code",
   "execution_count": null,
   "id": "b9823c7a",
   "metadata": {},
   "outputs": [],
   "source": [
    "# This takes approx. 50s on my 2016 MacBook Pro\n",
    "\n",
    "solve_part2(\"day22.input\")"
   ]
  }
 ],
 "metadata": {
  "kernelspec": {
   "display_name": "Advent_of_Code",
   "language": "python",
   "name": "advent_of_code"
  },
  "language_info": {
   "codemirror_mode": {
    "name": "ipython",
    "version": 3
   },
   "file_extension": ".py",
   "mimetype": "text/x-python",
   "name": "python",
   "nbconvert_exporter": "python",
   "pygments_lexer": "ipython3",
   "version": "3.10.1"
  },
  "toc": {
   "base_numbering": 1,
   "nav_menu": {},
   "number_sections": true,
   "sideBar": true,
   "skip_h1_title": false,
   "title_cell": "Table of Contents",
   "title_sidebar": "Contents",
   "toc_cell": false,
   "toc_position": {},
   "toc_section_display": true,
   "toc_window_display": false
  }
 },
 "nbformat": 4,
 "nbformat_minor": 5
}
