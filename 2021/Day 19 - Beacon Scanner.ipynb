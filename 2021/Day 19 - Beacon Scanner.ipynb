{
 "cells": [
  {
   "cell_type": "code",
   "execution_count": null,
   "id": "571bad68",
   "metadata": {},
   "outputs": [],
   "source": [
    "import collections\n",
    "import itertools\n",
    "from dataclasses import dataclass\n",
    "import re\n",
    "\n",
    "from typing import Tuple, List"
   ]
  },
  {
   "cell_type": "code",
   "execution_count": null,
   "id": "5301bb89",
   "metadata": {},
   "outputs": [],
   "source": [
    "def get_scanners(filename):\n",
    "    scanners = []\n",
    "    with open(filename) as file:\n",
    "        for line in file:\n",
    "            if match := re.search(r\"scanner (\\d+)\", line):\n",
    "                scanner = Scanner(number=int(match.group(1)), beacons=[])\n",
    "            elif match := re.match(r\"(-?\\d+),(-?\\d+),(-?\\d+)\", line):\n",
    "                pos = Point(tuple(map(int, match.groups())))\n",
    "                scanner.beacons.append(pos)\n",
    "            else:\n",
    "                scanners.append(scanner)\n",
    "        scanners.append(scanner)\n",
    "\n",
    "    return scanners"
   ]
  },
  {
   "cell_type": "code",
   "execution_count": null,
   "id": "29d31b3d",
   "metadata": {},
   "outputs": [],
   "source": [
    "def make_rotations():\n",
    "    rotations = []\n",
    "    pp = [(0, 1, 2), (1, 2, 0), (2, 0, 1)]\n",
    "    sp = [(1, 1, 1), (-1, -1, 1), (-1, 1, -1), (1, -1, -1)]\n",
    "    pn = [(0, 2, 1), (1, 0, 2), (2, 1, 0)]\n",
    "    sn = [(-1, 1, 1), (1, -1, 1), (1, 1, -1), (-1, -1, -1)]\n",
    "    for perm, sign in itertools.chain(itertools.product(pp, sp), itertools.product(pn,sn)):\n",
    "        rotations.append((perm, sign))\n",
    "    return rotations"
   ]
  },
  {
   "cell_type": "code",
   "execution_count": null,
   "id": "25a916b0",
   "metadata": {},
   "outputs": [],
   "source": [
    "@dataclass(frozen=True)\n",
    "class Point:\n",
    "    pos: Tuple[int, int, int]\n",
    "    \n",
    "    def __sub__(self, other):\n",
    "        return Point(tuple(self.pos[i] - other.pos[i] for i in range(3)))\n",
    "        \n",
    "    def rotate(self, rotation):\n",
    "        perm, sign = rotation\n",
    "        return Point(tuple(self.pos[perm[i]]*sign[i] for i in range(3)))\n",
    "    \n",
    "    def distance(self, other):\n",
    "        return sum(abs(self.pos[i] - other.pos[i]) for i in range(3))\n",
    "\n",
    "@dataclass\n",
    "class Scanner:\n",
    "    number: int\n",
    "    beacons: List[Point]\n",
    "    pos: Tuple[int, int, int] = None\n"
   ]
  },
  {
   "cell_type": "code",
   "execution_count": null,
   "id": "a05a05f3",
   "metadata": {},
   "outputs": [],
   "source": [
    "def solve_scanner(ref_scanner, new_scanner):\n",
    "    for rotation in make_rotations():\n",
    "        diffs = collections.Counter()\n",
    "        for ref_beacon in ref_scanner.beacons:\n",
    "            for new_beacon in new_scanner.beacons:\n",
    "                new_beacon_rot = new_beacon.rotate(rotation)\n",
    "                diffs.update([new_beacon_rot - ref_beacon])\n",
    "        most_common = diffs.most_common(1)\n",
    "        if most_common[0][1] >= 12:\n",
    "            translation = most_common[0][0]\n",
    "            # print(f\"Using rotation {rotation} and translation {translation.pos}\")\n",
    "            return rot_trans_scanner(new_scanner, rotation, translation)\n",
    "        \n",
    "    return False"
   ]
  },
  {
   "cell_type": "code",
   "execution_count": null,
   "id": "640145b3",
   "metadata": {},
   "outputs": [],
   "source": [
    "def rot_trans_scanner(scanner, rotation, translation):\n",
    "    for i, beacon in enumerate(scanner.beacons):\n",
    "        scanner.beacons[i] = beacon.rotate(rotation) - translation\n",
    "    scanner.pos = Point((0,0,0)) - translation\n",
    "    return scanner"
   ]
  },
  {
   "cell_type": "markdown",
   "id": "0fdcc3a3",
   "metadata": {},
   "source": [
    "# Part 1"
   ]
  },
  {
   "cell_type": "code",
   "execution_count": null,
   "id": "6b90e9c9",
   "metadata": {},
   "outputs": [],
   "source": [
    "unsolved_scanners = get_scanners(\"day19.input\")\n",
    "\n",
    "solved_scanners = [unsolved_scanners.pop(0)]\n",
    "solved_scanners[0].pos = Point((0,0,0))"
   ]
  },
  {
   "cell_type": "code",
   "execution_count": null,
   "id": "6e929479",
   "metadata": {},
   "outputs": [],
   "source": [
    "while unsolved_scanners:\n",
    "    to_solve = unsolved_scanners.pop()\n",
    "    for ref in solved_scanners:\n",
    "        if solved := solve_scanner(ref, to_solve):\n",
    "            solved_scanners.append(solved)\n",
    "            print(f\"Solved {solved.number} from {ref.number}\")\n",
    "            break\n",
    "    else:\n",
    "        unsolved_scanners.insert(0, to_solve)"
   ]
  },
  {
   "cell_type": "code",
   "execution_count": null,
   "id": "bdd668e2",
   "metadata": {},
   "outputs": [],
   "source": [
    "beacons = set()\n",
    "for scanner in solved_scanners:\n",
    "    for beacon in scanner.beacons:\n",
    "        beacons.add(beacon)\n",
    "len(beacons)  "
   ]
  },
  {
   "cell_type": "markdown",
   "id": "9e5147c9",
   "metadata": {},
   "source": [
    "# Part 2"
   ]
  },
  {
   "cell_type": "code",
   "execution_count": null,
   "id": "cf619416",
   "metadata": {},
   "outputs": [],
   "source": [
    "distances = []\n",
    "for scanner in solved_scanners:\n",
    "    for other in solved_scanners:\n",
    "        distances.append(scanner.pos.distance(other.pos))"
   ]
  },
  {
   "cell_type": "code",
   "execution_count": null,
   "id": "05f8754f",
   "metadata": {},
   "outputs": [],
   "source": [
    "max(distances)"
   ]
  },
  {
   "cell_type": "code",
   "execution_count": null,
   "id": "f1fa7f69",
   "metadata": {},
   "outputs": [],
   "source": []
  }
 ],
 "metadata": {
  "kernelspec": {
   "display_name": "Advent_of_Code",
   "language": "python",
   "name": "advent_of_code"
  },
  "language_info": {
   "codemirror_mode": {
    "name": "ipython",
    "version": 3
   },
   "file_extension": ".py",
   "mimetype": "text/x-python",
   "name": "python",
   "nbconvert_exporter": "python",
   "pygments_lexer": "ipython3",
   "version": "3.10.1"
  },
  "toc": {
   "base_numbering": 1,
   "nav_menu": {},
   "number_sections": true,
   "sideBar": true,
   "skip_h1_title": false,
   "title_cell": "Table of Contents",
   "title_sidebar": "Contents",
   "toc_cell": false,
   "toc_position": {},
   "toc_section_display": true,
   "toc_window_display": false
  }
 },
 "nbformat": 4,
 "nbformat_minor": 5
}
