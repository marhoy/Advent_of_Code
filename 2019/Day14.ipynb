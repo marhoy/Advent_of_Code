{
 "cells": [
  {
   "cell_type": "code",
   "execution_count": null,
   "metadata": {},
   "outputs": [],
   "source": [
    "from collections import defaultdict\n",
    "import re\n",
    "import fractions\n",
    "import math"
   ]
  },
  {
   "cell_type": "code",
   "execution_count": null,
   "metadata": {},
   "outputs": [],
   "source": [
    "def parse_input(filename):    \n",
    "    def parse_chem(chars):\n",
    "        amount, kind = chars.split(' ')\n",
    "        return int(amount), kind\n",
    "\n",
    "    reactions = defaultdict(list)\n",
    "    pattern = re.compile(r\"(\\d+ \\w+)\")\n",
    "    with open(filename) as file:\n",
    "        for line in file:\n",
    "            chemicals = pattern.findall(line)\n",
    "            amount, product = parse_chem(chemicals.pop())\n",
    "            reactions[product] = amount, [parse_chem(chem) for chem in chemicals]\n",
    "    \n",
    "    return reactions"
   ]
  },
  {
   "cell_type": "code",
   "execution_count": null,
   "metadata": {},
   "outputs": [],
   "source": [
    "def ore_needed(fuel_amount, filename):\n",
    "\n",
    "    reactions = parse_input(filename)\n",
    "\n",
    "    required = dict()\n",
    "    required['FUEL'] = fuel_amount\n",
    "\n",
    "    def satisy_need(product, amount_needed):\n",
    "        amount_produced = reactions[product][0]\n",
    "        multiplicator = math.ceil(amount_needed / amount_produced)\n",
    "        for reactant in reactions[product][1]:\n",
    "            required[reactant[1]] = required.get(reactant[1], 0) + reactant[0]*multiplicator\n",
    "        required[product] -= amount_produced*multiplicator\n",
    "    \n",
    "    while True:\n",
    "        missing = [key for key, value in required.items() if (key != 'ORE') and (value > 0)]\n",
    "        if not missing:\n",
    "            return required['ORE']\n",
    "        for item in missing:\n",
    "            satisy_need(item, required[item])"
   ]
  },
  {
   "cell_type": "code",
   "execution_count": null,
   "metadata": {},
   "outputs": [],
   "source": [
    "# Tests\n",
    "assert ore_needed(1, \"day14-test1.input\") == 31\n",
    "assert ore_needed(1, \"day14-test2.input\") == 13312\n",
    "assert ore_needed(1, \"day14-test3.input\") == 180697\n",
    "assert ore_needed(1, \"day14-test4.input\") == 2210736"
   ]
  },
  {
   "cell_type": "markdown",
   "metadata": {},
   "source": [
    "# Part 1"
   ]
  },
  {
   "cell_type": "code",
   "execution_count": null,
   "metadata": {},
   "outputs": [],
   "source": [
    "ore_needed(fuel_amount=1, filename=\"day14.input\")"
   ]
  },
  {
   "cell_type": "markdown",
   "metadata": {},
   "source": [
    "# Part 2"
   ]
  },
  {
   "cell_type": "code",
   "execution_count": null,
   "metadata": {},
   "outputs": [],
   "source": [
    "# For the smallest example, we know it takes 31 ORE to produce 1 FUEL\n",
    "# But after producing that 1 FUEL, we will have some reactants left in the inventory.\n",
    "# Specifically for that case, we will have \"2 A\" left.\n",
    "# Thus, producing 10 FUEL will require LESS than 310 ORE (it takes only 290).\n",
    "#\n",
    "# The fuel / ore ratio will be >= for larger amounts of ore\n",
    "# if n_ore > m_ore:\n",
    "#\n",
    "# m_fuel / m_ore <= n_fuel / n_ore\n",
    "# \n",
    "# So: n_fuel <= m_fuel * n_ore / m_ore \n",
    "#\n",
    "# Everytime we make a new calculation, we can update the guess"
   ]
  },
  {
   "cell_type": "code",
   "execution_count": null,
   "metadata": {},
   "outputs": [],
   "source": [
    "ore_available = 1_000_000_000_000"
   ]
  },
  {
   "cell_type": "code",
   "execution_count": null,
   "metadata": {},
   "outputs": [],
   "source": [
    "filename = \"day14.input\"\n",
    "\n",
    "fuel_guess = ore_available // ore_needed(1, filename)\n",
    "while True:\n",
    "    ore_needed_for_guess = ore_needed(fuel_guess, filename)\n",
    "    print(\"FUEL guess: {}, ORE needed: {}\".format(fuel_guess, ore_needed_for_guess))\n",
    "\n",
    "    if ore_needed_for_guess > ore_available:\n",
    "        break\n",
    "    else:\n",
    "        fuel_guess = max(fuel_guess + 1, fuel_guess * ore_available // ore_needed_for_guess)\n",
    "\n",
    "fuel_guess - 1"
   ]
  },
  {
   "cell_type": "code",
   "execution_count": null,
   "metadata": {},
   "outputs": [],
   "source": []
  }
 ],
 "metadata": {
  "kernelspec": {
   "display_name": "Python 3",
   "language": "python",
   "name": "python3"
  },
  "language_info": {
   "codemirror_mode": {
    "name": "ipython",
    "version": 3
   },
   "file_extension": ".py",
   "mimetype": "text/x-python",
   "name": "python",
   "nbconvert_exporter": "python",
   "pygments_lexer": "ipython3",
   "version": "3.7.4"
  }
 },
 "nbformat": 4,
 "nbformat_minor": 2
}
