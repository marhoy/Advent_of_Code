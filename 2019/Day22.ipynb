{
 "cells": [
  {
   "cell_type": "code",
   "execution_count": null,
   "metadata": {},
   "outputs": [],
   "source": [
    "from collections import deque\n",
    "import re"
   ]
  },
  {
   "cell_type": "code",
   "execution_count": null,
   "metadata": {},
   "outputs": [],
   "source": [
    "def deal_into_new(deck):\n",
    "    deck.reverse()\n",
    "    return deck"
   ]
  },
  {
   "cell_type": "code",
   "execution_count": null,
   "metadata": {},
   "outputs": [],
   "source": [
    "def cut_n(deck, n):\n",
    "    deck.rotate(-n)\n",
    "    return deck"
   ]
  },
  {
   "cell_type": "code",
   "execution_count": null,
   "metadata": {},
   "outputs": [],
   "source": [
    "def deal_with_incr_nw(deck, n):\n",
    "    new = deque([deck[0]])\n",
    "    for i in range(n, 0, -1):\n",
    "        new.extend((range(len(deck)-i, 0, -n)))\n",
    "    return new"
   ]
  },
  {
   "cell_type": "code",
   "execution_count": null,
   "metadata": {},
   "outputs": [],
   "source": [
    "def deal_with_incr(deck, n):\n",
    "    new = [None]*len(deck)\n",
    "    new[0] = deck[0]\n",
    "    i = 1\n",
    "    while i < len(deck):\n",
    "        new[i*n % len(deck)] = deck[i]\n",
    "        i += 1\n",
    "    return deque(new)"
   ]
  },
  {
   "cell_type": "code",
   "execution_count": null,
   "metadata": {},
   "outputs": [],
   "source": [
    "def part1(filename, N=10_007):\n",
    "    cut_re = re.compile(\"^cut (-?\\d+)\")\n",
    "    deal_new = re.compile(\"^deal into new\")\n",
    "    deal_incr = re.compile(\"^deal with increment (\\d+)\")\n",
    "\n",
    "    deck = deque(range(N))\n",
    "    with open(filename) as file:\n",
    "        for line in file:\n",
    "            cut_m = cut_re.match(line)\n",
    "            deal_new_m = deal_new.match(line)\n",
    "            deal_incr_m = deal_incr.match(line)\n",
    "            if cut_m:\n",
    "                deck = cut_n(deck, int(cut_m.group(1)))\n",
    "            elif deal_new_m:\n",
    "                deck = deal_into_new(deck)\n",
    "            elif deal_incr_m:\n",
    "                deck = deal_with_incr(deck, int(deal_incr_m.group(1)))\n",
    "\n",
    "    return deck"
   ]
  },
  {
   "cell_type": "markdown",
   "metadata": {},
   "source": [
    "# Part 1"
   ]
  },
  {
   "cell_type": "code",
   "execution_count": null,
   "metadata": {},
   "outputs": [],
   "source": [
    "# Tests\n",
    "assert ' '.join(map(str, part1(\"day22-test1.input\", 10))) == \"0 3 6 9 2 5 8 1 4 7\"\n",
    "assert ' '.join(map(str, part1(\"day22-test2.input\", 10))) == \"3 0 7 4 1 8 5 2 9 6\"\n",
    "assert ' '.join(map(str, part1(\"day22-test3.input\", 10))) == \"6 3 0 7 4 1 8 5 2 9\"\n",
    "assert ' '.join(map(str, part1(\"day22-test4.input\", 10))) == \"9 2 5 8 1 4 7 0 3 6\""
   ]
  },
  {
   "cell_type": "code",
   "execution_count": null,
   "metadata": {},
   "outputs": [],
   "source": [
    "deck = part1(\"day22.input\")\n",
    "deck.index(2019)"
   ]
  },
  {
   "cell_type": "markdown",
   "metadata": {},
   "source": [
    "# Part 2"
   ]
  },
  {
   "cell_type": "markdown",
   "metadata": {},
   "source": [
    "Very nice explanation here: https://www.reddit.com/r/adventofcode/comments/ee0rqi/2019_day_22_solutions/fbnkaju/"
   ]
  },
  {
   "cell_type": "code",
   "execution_count": null,
   "metadata": {},
   "outputs": [],
   "source": []
  }
 ],
 "metadata": {
  "kernelspec": {
   "display_name": "Python 3",
   "language": "python",
   "name": "python3"
  },
  "language_info": {
   "codemirror_mode": {
    "name": "ipython",
    "version": 3
   },
   "file_extension": ".py",
   "mimetype": "text/x-python",
   "name": "python",
   "nbconvert_exporter": "python",
   "pygments_lexer": "ipython3",
   "version": "3.7.4"
  }
 },
 "nbformat": 4,
 "nbformat_minor": 2
}
