{
 "cells": [
  {
   "cell_type": "code",
   "execution_count": 1,
   "metadata": {
    "ExecuteTime": {
     "end_time": "2019-12-17T20:36:07.779212Z",
     "start_time": "2019-12-17T20:36:07.773043Z"
    }
   },
   "outputs": [],
   "source": [
    "import itertools\n",
    "import operator"
   ]
  },
  {
   "cell_type": "code",
   "execution_count": 2,
   "metadata": {
    "ExecuteTime": {
     "end_time": "2019-12-17T20:36:07.805447Z",
     "start_time": "2019-12-17T20:36:07.782313Z"
    }
   },
   "outputs": [],
   "source": [
    "def get_pattern(n):\n",
    "    n += 1\n",
    "    base_pattern = [0, 1, 0, -1]\n",
    "    pattern = itertools.chain(*zip(*itertools.repeat(base_pattern, n)))\n",
    "    pattern = itertools.cycle(pattern)\n",
    "    _ = next(pattern)\n",
    "    return pattern"
   ]
  },
  {
   "cell_type": "code",
   "execution_count": 3,
   "metadata": {
    "ExecuteTime": {
     "end_time": "2019-12-17T20:36:07.821464Z",
     "start_time": "2019-12-17T20:36:07.810055Z"
    }
   },
   "outputs": [],
   "source": [
    "def run_one_phase(input_list):\n",
    "    out = []\n",
    "    for i in range(len(input_list)):\n",
    "        p = get_pattern(i)\n",
    "        value = abs(sum(itertools.starmap(operator.mul, zip(input_list, p)))) % 10\n",
    "        out.append(value)\n",
    "    return out"
   ]
  },
  {
   "cell_type": "code",
   "execution_count": 4,
   "metadata": {
    "ExecuteTime": {
     "end_time": "2019-12-17T20:36:07.841321Z",
     "start_time": "2019-12-17T20:36:07.824456Z"
    }
   },
   "outputs": [],
   "source": [
    "def part1(inp, phases):\n",
    "    inp = list(map(int, inp))\n",
    "    for i in range(phases):\n",
    "        inp = run_one_phase(inp)\n",
    "    return inp[:8]"
   ]
  },
  {
   "cell_type": "code",
   "execution_count": 5,
   "metadata": {
    "ExecuteTime": {
     "end_time": "2019-12-17T20:36:08.023673Z",
     "start_time": "2019-12-17T20:36:07.844298Z"
    }
   },
   "outputs": [],
   "source": [
    "# Tests\n",
    "assert \"\".join(map(str, part1(\"12345678\", 4))) == \"01029498\"\n",
    "assert \"\".join(map(str, part1(\"80871224585914546619083218645595\", 100))) == \"24176176\"\n",
    "assert \"\".join(map(str, part1(\"19617804207202209144916044189917\", 100))) == \"73745418\"\n",
    "assert \"\".join(map(str, part1(\"69317163492948606335995924319873\", 100))) == \"52432133\""
   ]
  },
  {
   "cell_type": "markdown",
   "metadata": {},
   "source": [
    "# Part 1"
   ]
  },
  {
   "cell_type": "code",
   "execution_count": 6,
   "metadata": {
    "ExecuteTime": {
     "end_time": "2019-12-17T20:36:08.033245Z",
     "start_time": "2019-12-17T20:36:08.026895Z"
    }
   },
   "outputs": [],
   "source": [
    "with open(\"day16.input\") as file:\n",
    "    input_string = file.readline().strip()"
   ]
  },
  {
   "cell_type": "code",
   "execution_count": 7,
   "metadata": {
    "ExecuteTime": {
     "end_time": "2019-12-17T20:36:22.766076Z",
     "start_time": "2019-12-17T20:36:08.037936Z"
    }
   },
   "outputs": [
    {
     "data": {
      "text/plain": [
       "'27831665'"
      ]
     },
     "execution_count": 7,
     "metadata": {},
     "output_type": "execute_result"
    }
   ],
   "source": [
    "\"\".join(map(str, part1(list(map(int, input_string)), 100)))"
   ]
  },
  {
   "cell_type": "markdown",
   "metadata": {},
   "source": [
    "# Part 2"
   ]
  },
  {
   "cell_type": "markdown",
   "metadata": {},
   "source": [
    "Nice explanation here:\n",
    "https://github.com/mebeim/aoc/blob/master/2019/README.md#day-16---flawed-frequency-transmission\n",
    "\n",
    "The following function is even faster by avoiding to copy the list 10_000 times:"
   ]
  },
  {
   "cell_type": "code",
   "execution_count": 8,
   "metadata": {
    "ExecuteTime": {
     "end_time": "2019-12-17T20:36:22.783790Z",
     "start_time": "2019-12-17T20:36:22.769251Z"
    }
   },
   "outputs": [],
   "source": [
    "def part2(input_string, phases=100):\n",
    "\n",
    "    # Find the start index and convert input to list of ints\n",
    "    start_index = int(input_string[:7])\n",
    "    numbers = list(map(int, input_string))\n",
    "\n",
    "    # Make sure that start index is indeed in the second half,\n",
    "    # otherwise the trick won't work\n",
    "    assert start_index > len(input_string)*10_000 / 2\n",
    "    \n",
    "    # We are only going to compute the numbers from just before start_index\n",
    "    # to the end (in reverse). So we don't need to copy the input 10_000 times.\n",
    "    n_repeats = (len(input_string)*10_000 - start_index ) // len(input_string) + 1\n",
    "    \n",
    "    # Compute new start index for this shorter list:\n",
    "    start_index -= (10_000 - n_repeats)*len(input_string)\n",
    "    \n",
    "    numbers = numbers*n_repeats\n",
    "    for _ in range(phases):\n",
    "        cumsum = 0\n",
    "        for i in range(len(numbers) - 1, start_index - 1, -1):\n",
    "            cumsum += numbers[i]\n",
    "            numbers[i] = cumsum % 10\n",
    "            \n",
    "    return \"\".join(map(str, numbers[start_index:start_index + 8]))"
   ]
  },
  {
   "cell_type": "code",
   "execution_count": 9,
   "metadata": {
    "ExecuteTime": {
     "end_time": "2019-12-17T20:36:25.753419Z",
     "start_time": "2019-12-17T20:36:22.787266Z"
    }
   },
   "outputs": [],
   "source": [
    "# Tests\n",
    "assert part2(\"03036732577212944063491565474664\") == \"84462026\"\n",
    "assert part2(\"02935109699940807407585447034323\") == \"78725270\"\n",
    "assert part2(\"03081770884921959731165446850517\") == \"53553731\""
   ]
  },
  {
   "cell_type": "markdown",
   "metadata": {},
   "source": [
    "# Part 2"
   ]
  },
  {
   "cell_type": "code",
   "execution_count": 10,
   "metadata": {
    "ExecuteTime": {
     "end_time": "2019-12-17T20:36:25.766752Z",
     "start_time": "2019-12-17T20:36:25.757580Z"
    }
   },
   "outputs": [],
   "source": [
    "with open(\"day16.input\") as file:\n",
    "    input_string = file.readline().strip()"
   ]
  },
  {
   "cell_type": "code",
   "execution_count": 11,
   "metadata": {
    "ExecuteTime": {
     "end_time": "2019-12-17T20:36:47.079852Z",
     "start_time": "2019-12-17T20:36:25.771741Z"
    }
   },
   "outputs": [
    {
     "data": {
      "text/plain": [
       "'36265589'"
      ]
     },
     "execution_count": 11,
     "metadata": {},
     "output_type": "execute_result"
    }
   ],
   "source": [
    "part2(input_string)"
   ]
  },
  {
   "cell_type": "code",
   "execution_count": null,
   "metadata": {},
   "outputs": [],
   "source": []
  }
 ],
 "metadata": {
  "kernelspec": {
   "display_name": "Python 3",
   "language": "python",
   "name": "python3"
  },
  "language_info": {
   "codemirror_mode": {
    "name": "ipython",
    "version": 3
   },
   "file_extension": ".py",
   "mimetype": "text/x-python",
   "name": "python",
   "nbconvert_exporter": "python",
   "pygments_lexer": "ipython3",
   "version": "3.7.4"
  },
  "toc": {
   "base_numbering": 1,
   "nav_menu": {},
   "number_sections": true,
   "sideBar": true,
   "skip_h1_title": false,
   "title_cell": "Table of Contents",
   "title_sidebar": "Contents",
   "toc_cell": false,
   "toc_position": {},
   "toc_section_display": true,
   "toc_window_display": false
  }
 },
 "nbformat": 4,
 "nbformat_minor": 2
}
