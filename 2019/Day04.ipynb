{
 "cells": [
  {
   "cell_type": "code",
   "execution_count": 1,
   "metadata": {
    "ExecuteTime": {
     "end_time": "2019-12-04T11:38:44.498107Z",
     "start_time": "2019-12-04T11:38:44.495199Z"
    }
   },
   "outputs": [],
   "source": [
    "def valid_password1(digits):\n",
    "    has_pair = False\n",
    "    for d1, d2 in zip(digits, digits[1:]):\n",
    "        if d1 == d2:\n",
    "            has_pair = True\n",
    "        if d1 > d2:\n",
    "            return False\n",
    "    return has_pair"
   ]
  },
  {
   "cell_type": "code",
   "execution_count": 2,
   "metadata": {
    "ExecuteTime": {
     "end_time": "2019-12-04T11:38:44.503855Z",
     "start_time": "2019-12-04T11:38:44.500177Z"
    }
   },
   "outputs": [],
   "source": [
    "def valid_password2(digits):\n",
    "    import itertools\n",
    "\n",
    "    # Check for at least one strict pair\n",
    "    has_pair = False\n",
    "    for k, g in itertools.groupby(digits):\n",
    "        if len(list(g)) == 2:\n",
    "            has_pair = True\n",
    "\n",
    "    # Check for monotonic increase of digits\n",
    "    for d1, d2 in zip(digits, digits[1:]):\n",
    "        if d2 < d1:\n",
    "            return False\n",
    "\n",
    "    return has_pair"
   ]
  },
  {
   "cell_type": "code",
   "execution_count": 3,
   "metadata": {
    "ExecuteTime": {
     "end_time": "2019-12-04T11:38:44.508268Z",
     "start_time": "2019-12-04T11:38:44.505203Z"
    }
   },
   "outputs": [],
   "source": [
    "def find_passwords(range_start, range_end, valid_func):\n",
    "    passwords = []\n",
    "    for number in range(range_start, range_end):\n",
    "        digits = [int(d) for d in str(number)]\n",
    "        if valid_func(digits):\n",
    "            passwords.append(number)\n",
    "    return passwords"
   ]
  },
  {
   "cell_type": "markdown",
   "metadata": {},
   "source": [
    "# Part 1"
   ]
  },
  {
   "cell_type": "code",
   "execution_count": 4,
   "metadata": {
    "ExecuteTime": {
     "end_time": "2019-12-04T11:38:45.436221Z",
     "start_time": "2019-12-04T11:38:44.509480Z"
    }
   },
   "outputs": [
    {
     "data": {
      "text/plain": [
       "1246"
      ]
     },
     "execution_count": 4,
     "metadata": {},
     "output_type": "execute_result"
    }
   ],
   "source": [
    "len(find_passwords(234208, 765869, valid_password1))"
   ]
  },
  {
   "cell_type": "markdown",
   "metadata": {},
   "source": [
    "# Part 2"
   ]
  },
  {
   "cell_type": "code",
   "execution_count": 5,
   "metadata": {
    "ExecuteTime": {
     "end_time": "2019-12-04T11:38:47.423701Z",
     "start_time": "2019-12-04T11:38:45.437859Z"
    }
   },
   "outputs": [
    {
     "data": {
      "text/plain": [
       "814"
      ]
     },
     "execution_count": 5,
     "metadata": {},
     "output_type": "execute_result"
    }
   ],
   "source": [
    "len(find_passwords(234208, 765869, valid_password2))"
   ]
  },
  {
   "cell_type": "markdown",
   "metadata": {},
   "source": [
    "# For the specially interested"
   ]
  },
  {
   "cell_type": "markdown",
   "metadata": {},
   "source": [
    "By using range(start, end), we are looping over a lot of numbers that do not have monotonically increasing digits. One way to speed up the process would be to instead make a generator that yields numbers with monotonically increasing digits. That would e.g. allow us to skip directly from 899999 to 999999, saving 100.000 iterations.\n",
    "\n",
    "One idea is to start from the end if the number: Increase that by one. But if you flip to 0, continue with the next number. Set the last digit equal to the previous."
   ]
  },
  {
   "cell_type": "code",
   "execution_count": 6,
   "metadata": {
    "ExecuteTime": {
     "end_time": "2019-12-04T11:38:47.426916Z",
     "start_time": "2019-12-04T11:38:47.424899Z"
    }
   },
   "outputs": [],
   "source": [
    "number = [1, 1, 1]"
   ]
  }
 ],
 "metadata": {
  "kernelspec": {
   "display_name": "Anaconda 2019.10",
   "language": "python",
   "name": "anac_2019.10"
  },
  "language_info": {
   "codemirror_mode": {
    "name": "ipython",
    "version": 3
   },
   "file_extension": ".py",
   "mimetype": "text/x-python",
   "name": "python",
   "nbconvert_exporter": "python",
   "pygments_lexer": "ipython3",
   "version": "3.7.4"
  },
  "toc": {
   "base_numbering": 1,
   "nav_menu": {},
   "number_sections": true,
   "sideBar": true,
   "skip_h1_title": false,
   "title_cell": "Table of Contents",
   "title_sidebar": "Contents",
   "toc_cell": false,
   "toc_position": {},
   "toc_section_display": true,
   "toc_window_display": false
  }
 },
 "nbformat": 4,
 "nbformat_minor": 2
}
