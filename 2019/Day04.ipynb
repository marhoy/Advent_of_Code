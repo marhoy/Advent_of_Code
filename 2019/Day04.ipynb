{
 "cells": [
  {
   "cell_type": "code",
   "execution_count": 1,
   "metadata": {
    "ExecuteTime": {
     "end_time": "2019-12-04T14:52:19.617851Z",
     "start_time": "2019-12-04T14:52:19.614870Z"
    }
   },
   "outputs": [],
   "source": [
    "def valid_password1(digits):\n",
    "    has_pair = False\n",
    "    for d1, d2 in zip(digits, digits[1:]):\n",
    "        if d1 == d2:\n",
    "            has_pair = True\n",
    "        if d1 > d2:\n",
    "            return False\n",
    "    return has_pair"
   ]
  },
  {
   "cell_type": "code",
   "execution_count": 2,
   "metadata": {},
   "outputs": [],
   "source": [
    "def valid_password2(digits):\n",
    "    multiples = dict()\n",
    "    for d1, d2 in zip(digits, digits[1:]):\n",
    "        if d1 == d2:\n",
    "            # Store multiples in a dictionary\n",
    "            multiples[d1] = multiples.get(d1, 1) + 1\n",
    "        if d1 > d2:\n",
    "            return False\n",
    "\n",
    "    # There must be at least one strict pair\n",
    "    return 2 in multiples.values()"
   ]
  },
  {
   "cell_type": "code",
   "execution_count": 3,
   "metadata": {
    "ExecuteTime": {
     "end_time": "2019-12-04T14:52:19.628546Z",
     "start_time": "2019-12-04T14:52:19.625526Z"
    }
   },
   "outputs": [],
   "source": [
    "def find_passwords(range_start, range_end, valid_func):\n",
    "    passwords = 0\n",
    "    for number in range(range_start, range_end):\n",
    "        digits = str(number)\n",
    "        if valid_func(digits):\n",
    "            passwords += 1\n",
    "    return passwords"
   ]
  },
  {
   "cell_type": "code",
   "execution_count": 4,
   "metadata": {},
   "outputs": [],
   "source": [
    "# Tests\n",
    "assert valid_password1(str(111111)) == True\n",
    "assert valid_password1(str(223450)) == False\n",
    "assert valid_password1(str(123789)) == False\n",
    "\n",
    "assert valid_password1(str(112233)) == True\n",
    "assert valid_password1(str(123444)) == True\n",
    "assert valid_password1(str(111122)) == True\n",
    "\n",
    "assert valid_password2(str(112233)) == True\n",
    "assert valid_password2(str(123444)) == False\n",
    "assert valid_password2(str(111122)) == True"
   ]
  },
  {
   "cell_type": "markdown",
   "metadata": {},
   "source": [
    "# Part 1"
   ]
  },
  {
   "cell_type": "code",
   "execution_count": 5,
   "metadata": {
    "ExecuteTime": {
     "end_time": "2019-12-04T14:52:19.631860Z",
     "start_time": "2019-12-04T14:52:19.629892Z"
    }
   },
   "outputs": [],
   "source": [
    "range_start, range_end = 234208, 765869"
   ]
  },
  {
   "cell_type": "code",
   "execution_count": 6,
   "metadata": {
    "ExecuteTime": {
     "end_time": "2019-12-04T14:52:20.607767Z",
     "start_time": "2019-12-04T14:52:19.633036Z"
    }
   },
   "outputs": [
    {
     "data": {
      "text/plain": [
       "1246"
      ]
     },
     "execution_count": 6,
     "metadata": {},
     "output_type": "execute_result"
    }
   ],
   "source": [
    "find_passwords(range_start, range_end, valid_password1)"
   ]
  },
  {
   "cell_type": "markdown",
   "metadata": {},
   "source": [
    "# Part 2"
   ]
  },
  {
   "cell_type": "code",
   "execution_count": 7,
   "metadata": {
    "ExecuteTime": {
     "end_time": "2019-12-04T14:52:22.786522Z",
     "start_time": "2019-12-04T14:52:20.609216Z"
    }
   },
   "outputs": [
    {
     "data": {
      "text/plain": [
       "814"
      ]
     },
     "execution_count": 7,
     "metadata": {},
     "output_type": "execute_result"
    }
   ],
   "source": [
    "find_passwords(range_start, range_end, valid_password2)"
   ]
  },
  {
   "cell_type": "markdown",
   "metadata": {},
   "source": [
    "# For the specially interested"
   ]
  },
  {
   "cell_type": "markdown",
   "metadata": {},
   "source": [
    "By using range(start, end), we are looping over a lot of numbers that do not have monotonically increasing digits. One way to speed up the process would be to instead make a generator that yields numbers with monotonically increasing digits. That would e.g. allow us to skip directly from 899999 to 999999, saving 100.000 iterations.\n",
    "\n",
    "One idea is to start from the end if the number: Increase that by one. But if you flip to 0, continue with the next number. Set the last digit equal to the previous."
   ]
  },
  {
   "cell_type": "code",
   "execution_count": 8,
   "metadata": {
    "ExecuteTime": {
     "end_time": "2019-12-04T14:52:22.791480Z",
     "start_time": "2019-12-04T14:52:22.787989Z"
    }
   },
   "outputs": [],
   "source": [
    "def increment(number, i=None):\n",
    "    if i is None:\n",
    "        i = len(number) - 1\n",
    "    if i < 0:\n",
    "        return number\n",
    "    if number[i] < 9:\n",
    "        number[i] += 1\n",
    "    else:\n",
    "        number = increment(number, i - 1)\n",
    "        number[i] = number[i - 1]\n",
    "    return number"
   ]
  },
  {
   "cell_type": "code",
   "execution_count": 9,
   "metadata": {
    "ExecuteTime": {
     "end_time": "2019-12-04T14:52:22.796956Z",
     "start_time": "2019-12-04T14:52:22.792655Z"
    }
   },
   "outputs": [
    {
     "name": "stdout",
     "output_type": "stream",
     "text": [
      "[7, 7, 8]\n",
      "[7, 7, 9]\n",
      "[7, 8, 8]\n",
      "[7, 8, 9]\n",
      "[7, 9, 9]\n",
      "[8, 8, 8]\n",
      "[8, 8, 9]\n",
      "[8, 9, 9]\n",
      "[9, 9, 9]\n"
     ]
    }
   ],
   "source": [
    "range_start = 777\n",
    "range_stop = 999\n",
    "\n",
    "number = [int(d) for d in str(range_start)]\n",
    "while int(\"\".join([str(d) for d in number])) < range_stop:\n",
    "    number = increment(number)\n",
    "    print(number)"
   ]
  },
  {
   "cell_type": "code",
   "execution_count": null,
   "metadata": {},
   "outputs": [],
   "source": []
  }
 ],
 "metadata": {
  "kernelspec": {
   "display_name": "Python 3",
   "language": "python",
   "name": "python3"
  },
  "language_info": {
   "codemirror_mode": {
    "name": "ipython",
    "version": 3
   },
   "file_extension": ".py",
   "mimetype": "text/x-python",
   "name": "python",
   "nbconvert_exporter": "python",
   "pygments_lexer": "ipython3",
   "version": "3.7.4"
  },
  "toc": {
   "base_numbering": 1,
   "nav_menu": {},
   "number_sections": true,
   "sideBar": true,
   "skip_h1_title": false,
   "title_cell": "Table of Contents",
   "title_sidebar": "Contents",
   "toc_cell": false,
   "toc_position": {},
   "toc_section_display": true,
   "toc_window_display": false
  }
 },
 "nbformat": 4,
 "nbformat_minor": 2
}
