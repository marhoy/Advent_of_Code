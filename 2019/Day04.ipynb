{
 "cells": [
  {
   "cell_type": "code",
   "execution_count": 18,
   "metadata": {
    "ExecuteTime": {
     "end_time": "2019-12-04T07:34:30.227884Z",
     "start_time": "2019-12-04T07:34:30.224813Z"
    }
   },
   "outputs": [],
   "source": [
    "from typing import Iterable"
   ]
  },
  {
   "cell_type": "code",
   "execution_count": 10,
   "metadata": {
    "ExecuteTime": {
     "end_time": "2019-12-04T07:32:04.048223Z",
     "start_time": "2019-12-04T07:32:04.045185Z"
    }
   },
   "outputs": [],
   "source": [
    "digits = [1, 1, 1]"
   ]
  },
  {
   "cell_type": "code",
   "execution_count": 19,
   "metadata": {
    "ExecuteTime": {
     "end_time": "2019-12-04T07:34:33.860978Z",
     "start_time": "2019-12-04T07:34:33.857506Z"
    }
   },
   "outputs": [],
   "source": [
    "def has_pair(digits: Iterable) -> bool:\n",
    "    for d1, d2 in zip(digits, digits[1:]):\n",
    "        if d1 == d2:\n",
    "            return True\n",
    "    return False"
   ]
  },
  {
   "cell_type": "code",
   "execution_count": 31,
   "metadata": {
    "ExecuteTime": {
     "end_time": "2019-12-04T07:38:32.038206Z",
     "start_time": "2019-12-04T07:38:32.035023Z"
    }
   },
   "outputs": [],
   "source": [
    "def monotonic_increase(digits: Iterable) -> bool:\n",
    "    return all([d1 <= d2 for d1, d2 in zip(digits, digits[1:])])"
   ]
  },
  {
   "cell_type": "code",
   "execution_count": 36,
   "metadata": {
    "ExecuteTime": {
     "end_time": "2019-12-04T07:42:50.037591Z",
     "start_time": "2019-12-04T07:42:50.034692Z"
    }
   },
   "outputs": [],
   "source": [
    "def valid_password(digits: Iterable) -> bool:\n",
    "    return has_pair(digits) and monotonic_increase(digits)"
   ]
  },
  {
   "cell_type": "markdown",
   "metadata": {},
   "source": [
    "# Part 1"
   ]
  },
  {
   "cell_type": "code",
   "execution_count": 37,
   "metadata": {
    "ExecuteTime": {
     "end_time": "2019-12-04T07:43:23.187103Z",
     "start_time": "2019-12-04T07:43:21.972450Z"
    }
   },
   "outputs": [],
   "source": [
    "passwords = []\n",
    "for number in range(234208, 765869):\n",
    "    digits = [int(d) for d in str(number)]\n",
    "    if valid_password(digits):\n",
    "        passwords.append(number)"
   ]
  },
  {
   "cell_type": "code",
   "execution_count": 39,
   "metadata": {
    "ExecuteTime": {
     "end_time": "2019-12-04T07:43:36.712674Z",
     "start_time": "2019-12-04T07:43:36.708860Z"
    }
   },
   "outputs": [
    {
     "data": {
      "text/plain": [
       "1246"
      ]
     },
     "execution_count": 39,
     "metadata": {},
     "output_type": "execute_result"
    }
   ],
   "source": [
    "len(passwords)"
   ]
  },
  {
   "cell_type": "markdown",
   "metadata": {},
   "source": [
    "# Part 2"
   ]
  },
  {
   "cell_type": "code",
   "execution_count": 40,
   "metadata": {
    "ExecuteTime": {
     "end_time": "2019-12-04T07:45:50.489141Z",
     "start_time": "2019-12-04T07:45:50.485680Z"
    }
   },
   "outputs": [],
   "source": [
    "import itertools"
   ]
  },
  {
   "cell_type": "code",
   "execution_count": 41,
   "metadata": {
    "ExecuteTime": {
     "end_time": "2019-12-04T07:47:11.610063Z",
     "start_time": "2019-12-04T07:47:11.605989Z"
    }
   },
   "outputs": [],
   "source": [
    "def has_pair_strict(digits: Iterable) -> bool:\n",
    "    for k, g in itertools.groupby(digits):\n",
    "        if len(list(g)) == 2:\n",
    "            return True\n",
    "    return False"
   ]
  },
  {
   "cell_type": "code",
   "execution_count": 43,
   "metadata": {
    "ExecuteTime": {
     "end_time": "2019-12-04T07:47:31.657950Z",
     "start_time": "2019-12-04T07:47:31.653729Z"
    }
   },
   "outputs": [
    {
     "data": {
      "text/plain": [
       "False"
      ]
     },
     "execution_count": 43,
     "metadata": {},
     "output_type": "execute_result"
    }
   ],
   "source": [
    "has_pair_strict([1,1,1,2])"
   ]
  },
  {
   "cell_type": "code",
   "execution_count": null,
   "metadata": {},
   "outputs": [],
   "source": []
  }
 ],
 "metadata": {
  "kernelspec": {
   "display_name": "Anaconda 2019.10",
   "language": "python",
   "name": "anac_2019.10"
  },
  "language_info": {
   "codemirror_mode": {
    "name": "ipython",
    "version": 3
   },
   "file_extension": ".py",
   "mimetype": "text/x-python",
   "name": "python",
   "nbconvert_exporter": "python",
   "pygments_lexer": "ipython3",
   "version": "3.7.4"
  },
  "toc": {
   "base_numbering": 1,
   "nav_menu": {},
   "number_sections": true,
   "sideBar": true,
   "skip_h1_title": false,
   "title_cell": "Table of Contents",
   "title_sidebar": "Contents",
   "toc_cell": false,
   "toc_position": {},
   "toc_section_display": true,
   "toc_window_display": false
  }
 },
 "nbformat": 4,
 "nbformat_minor": 2
}
