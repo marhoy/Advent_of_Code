{
 "cells": [
  {
   "cell_type": "code",
   "execution_count": 1,
   "metadata": {},
   "outputs": [],
   "source": [
    "def str2mem(line):\n",
    "    return [int(i) for i in line.split(\",\")]"
   ]
  },
  {
   "cell_type": "code",
   "execution_count": 2,
   "metadata": {},
   "outputs": [],
   "source": [
    "def intcode(memory):\n",
    "    ptr = 0\n",
    "    while True:\n",
    "        opcode = memory[ptr]\n",
    "        if opcode == 1:\n",
    "            p1, p2, p3 = memory[ptr + 1: ptr + 4]\n",
    "            memory[p3] = memory[p1] + memory[p2]\n",
    "            ptr += 4\n",
    "        elif opcode == 2:\n",
    "            p1, p2, p3 = memory[ptr + 1: ptr + 4]\n",
    "            memory[p3] = memory[p1] * memory[p2]\n",
    "            ptr += 4\n",
    "        elif opcode == 99:\n",
    "            break\n",
    "\n",
    "    return memory"
   ]
  },
  {
   "cell_type": "code",
   "execution_count": 3,
   "metadata": {},
   "outputs": [],
   "source": [
    "def init_mem(memory, noun=12, verb=2):\n",
    "    memory[1] = noun\n",
    "    memory[2] = verb\n",
    "    return memory"
   ]
  },
  {
   "cell_type": "code",
   "execution_count": 4,
   "metadata": {},
   "outputs": [],
   "source": [
    "# Tests\n",
    "assert intcode(str2mem(\"1,9,10,3,2,3,11,0,99,30,40,50\")) == str2mem(\"3500,9,10,70,2,3,11,0,99,30,40,50\")\n",
    "assert intcode(str2mem(\"1,0,0,0,99\")) == str2mem(\"2,0,0,0,99\")\n",
    "assert intcode(str2mem(\"1,1,1,4,99,5,6,0,99\")) == str2mem(\"30,1,1,4,2,5,6,0,99\")"
   ]
  },
  {
   "cell_type": "markdown",
   "metadata": {},
   "source": [
    "# Part 1"
   ]
  },
  {
   "cell_type": "code",
   "execution_count": 5,
   "metadata": {},
   "outputs": [
    {
     "data": {
      "text/plain": [
       "9581917"
      ]
     },
     "execution_count": 5,
     "metadata": {},
     "output_type": "execute_result"
    }
   ],
   "source": [
    "with open(\"day02.input\") as file:\n",
    "    memory = str2mem(file.readline().strip())\n",
    "\n",
    "memory = init_mem(memory)\n",
    "memory = intcode(memory)\n",
    "\n",
    "memory[0]"
   ]
  },
  {
   "cell_type": "markdown",
   "metadata": {},
   "source": [
    "# Part 2"
   ]
  },
  {
   "cell_type": "code",
   "execution_count": 6,
   "metadata": {},
   "outputs": [
    {
     "name": "stdout",
     "output_type": "stream",
     "text": [
      "2505\n"
     ]
    }
   ],
   "source": [
    "with open(\"day02.input\") as file:\n",
    "    first_state = str2mem(file.readline().strip())\n",
    "\n",
    "for noun in range(100):\n",
    "    for verb in range(100):\n",
    "        memory = first_state.copy()\n",
    "        memory = init_mem(memory, noun, verb)\n",
    "        memory = intcode(memory)\n",
    "\n",
    "        if memory[0] == 19690720:\n",
    "            print(100 * noun + verb)\n",
    "            break"
   ]
  },
  {
   "cell_type": "code",
   "execution_count": null,
   "metadata": {},
   "outputs": [],
   "source": []
  }
 ],
 "metadata": {
  "kernelspec": {
   "display_name": "Python 3",
   "language": "python",
   "name": "python3"
  },
  "language_info": {
   "codemirror_mode": {
    "name": "ipython",
    "version": 3
   },
   "file_extension": ".py",
   "mimetype": "text/x-python",
   "name": "python",
   "nbconvert_exporter": "python",
   "pygments_lexer": "ipython3",
   "version": "3.7.4"
  }
 },
 "nbformat": 4,
 "nbformat_minor": 2
}
