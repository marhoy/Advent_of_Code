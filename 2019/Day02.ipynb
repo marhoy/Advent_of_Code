{
 "cells": [
  {
   "cell_type": "code",
   "execution_count": 1,
   "metadata": {
    "ExecuteTime": {
     "end_time": "2019-12-09T14:37:36.947242Z",
     "start_time": "2019-12-09T14:37:36.939262Z"
    }
   },
   "outputs": [],
   "source": [
    "def intcode_run(prog, noun=None, verb=None):\n",
    "    import logging\n",
    "    from intcode import Machine\n",
    "    \n",
    "    m = Machine(prog, loglevel=logging.WARNING)\n",
    "    if noun is not None:\n",
    "        m.memory[1] = noun\n",
    "    if verb is not None:\n",
    "        m.memory[2] = verb\n",
    "    \n",
    "    m.run()\n",
    "    return m"
   ]
  },
  {
   "cell_type": "code",
   "execution_count": 2,
   "metadata": {
    "ExecuteTime": {
     "end_time": "2019-12-09T14:37:36.970184Z",
     "start_time": "2019-12-09T14:37:36.950236Z"
    }
   },
   "outputs": [],
   "source": [
    "# Tests\n",
    "prog = \"1,9,10,3,2,3,11,0,99,30,40,50\"\n",
    "assert \",\".join(map(str, intcode_run(prog).memory)) == \"3500,9,10,70,2,3,11,0,99,30,40,50\"\n",
    "\n",
    "prog = \"1,0,0,0,99\"\n",
    "assert \",\".join(map(str, intcode_run(prog).memory)) == \"2,0,0,0,99\"\n",
    "\n",
    "prog = \"1,1,1,4,99,5,6,0,99\"\n",
    "assert \",\".join(map(str, intcode_run(prog).memory)) == \"30,1,1,4,2,5,6,0,99\""
   ]
  },
  {
   "cell_type": "markdown",
   "metadata": {},
   "source": [
    "# Part 1"
   ]
  },
  {
   "cell_type": "code",
   "execution_count": 3,
   "metadata": {
    "ExecuteTime": {
     "end_time": "2019-12-09T14:37:36.996110Z",
     "start_time": "2019-12-09T14:37:36.974170Z"
    }
   },
   "outputs": [
    {
     "data": {
      "text/plain": [
       "9581917"
      ]
     },
     "execution_count": 3,
     "metadata": {},
     "output_type": "execute_result"
    }
   ],
   "source": [
    "with open(\"day02.input\") as file:\n",
    "    prog = file.readline().strip()\n",
    "\n",
    "machine = intcode_run(prog, noun=12, verb=2)\n",
    "machine.memory[0]"
   ]
  },
  {
   "cell_type": "markdown",
   "metadata": {},
   "source": [
    "# Part 2"
   ]
  },
  {
   "cell_type": "code",
   "execution_count": 4,
   "metadata": {
    "ExecuteTime": {
     "end_time": "2019-12-09T14:37:37.012068Z",
     "start_time": "2019-12-09T14:37:37.001097Z"
    }
   },
   "outputs": [],
   "source": [
    "def input_search(program, target=19690720):\n",
    "    for noun in range(100):\n",
    "        for verb in range(100):\n",
    "            machine = intcode_run(program, noun, verb)\n",
    "            if machine.memory[0] == 19690720:\n",
    "                return 100*noun + verb"
   ]
  },
  {
   "cell_type": "code",
   "execution_count": 5,
   "metadata": {
    "ExecuteTime": {
     "end_time": "2019-12-09T14:37:37.836957Z",
     "start_time": "2019-12-09T14:37:37.016057Z"
    }
   },
   "outputs": [
    {
     "data": {
      "text/plain": [
       "2505"
      ]
     },
     "execution_count": 5,
     "metadata": {},
     "output_type": "execute_result"
    }
   ],
   "source": [
    "with open(\"day02.input\") as file:\n",
    "    prog = file.readline().strip()\n",
    "\n",
    "input_search(prog)"
   ]
  },
  {
   "cell_type": "code",
   "execution_count": null,
   "metadata": {},
   "outputs": [],
   "source": []
  }
 ],
 "metadata": {
  "kernelspec": {
   "display_name": "Python 3",
   "language": "python",
   "name": "python3"
  },
  "language_info": {
   "codemirror_mode": {
    "name": "ipython",
    "version": 3
   },
   "file_extension": ".py",
   "mimetype": "text/x-python",
   "name": "python",
   "nbconvert_exporter": "python",
   "pygments_lexer": "ipython3",
   "version": "3.7.4"
  },
  "toc": {
   "base_numbering": 1,
   "nav_menu": {},
   "number_sections": true,
   "sideBar": true,
   "skip_h1_title": false,
   "title_cell": "Table of Contents",
   "title_sidebar": "Contents",
   "toc_cell": false,
   "toc_position": {},
   "toc_section_display": true,
   "toc_window_display": false
  }
 },
 "nbformat": 4,
 "nbformat_minor": 2
}
