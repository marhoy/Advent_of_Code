{
 "cells": [
  {
   "cell_type": "code",
   "execution_count": 1,
   "metadata": {
    "ExecuteTime": {
     "end_time": "2019-12-24T22:08:59.579446Z",
     "start_time": "2019-12-24T22:08:59.572234Z"
    }
   },
   "outputs": [],
   "source": [
    "from string import ascii_lowercase, ascii_uppercase\n",
    "import collections\n",
    "import heapq"
   ]
  },
  {
   "cell_type": "code",
   "execution_count": 2,
   "metadata": {
    "ExecuteTime": {
     "end_time": "2019-12-24T22:08:59.598680Z",
     "start_time": "2019-12-24T22:08:59.583328Z"
    }
   },
   "outputs": [],
   "source": [
    "def get_grid(filename, part=1):\n",
    "    grid, keys = dict(), dict()\n",
    "    starts = 0\n",
    "    with open(filename) as file:\n",
    "        for row, line in enumerate(file):\n",
    "            for col, char in enumerate(line.strip()):\n",
    "                grid[row, col] = char\n",
    "                if char == '@':\n",
    "                    if part == 1:\n",
    "                        keys[char] = (row, col)\n",
    "                    if part == 2:\n",
    "                        keys[str(starts)] = (row, col)\n",
    "                        grid[row, col] = str(starts)\n",
    "                        starts += 1\n",
    "                if char in ascii_lowercase:\n",
    "                    keys[char] = (row, col)\n",
    "\n",
    "    return grid, keys"
   ]
  },
  {
   "cell_type": "code",
   "execution_count": 3,
   "metadata": {
    "ExecuteTime": {
     "end_time": "2019-12-24T22:08:59.612145Z",
     "start_time": "2019-12-24T22:08:59.603092Z"
    }
   },
   "outputs": [],
   "source": [
    "def find_neighbours(pos):\n",
    "    \"\"\"Find neighbours in the two first dimensions.\n",
    "    Remaining dimensions are unchanged\"\"\"\n",
    "    x, y, *rest = pos\n",
    "    return [(x + dx, y + dy, *rest)\n",
    "            for dx, dy in zip((0, 0, 1, -1), (1, -1, 0, 0))]"
   ]
  },
  {
   "cell_type": "code",
   "execution_count": 4,
   "metadata": {
    "ExecuteTime": {
     "end_time": "2019-12-24T22:08:59.644172Z",
     "start_time": "2019-12-24T22:08:59.616116Z"
    }
   },
   "outputs": [],
   "source": [
    "def find_distances_bfs(start_pos):\n",
    "    \"\"\"Starting from one key, find distance to all other keys, using BFS.\n",
    "    Take note of the doors we have to pass, so we know what keys we need\"\"\"\n",
    "    \n",
    "    visited = set()\n",
    "    dist = dict()\n",
    "    dist[start_pos] = 0\n",
    "    distances = dict()\n",
    "    queue = collections.deque([(start_pos, frozenset(grid[start_pos]))])\n",
    "\n",
    "    while queue:\n",
    "        pos, keys_needed = queue.pop()\n",
    "        visited.add(pos)\n",
    "        char = grid[pos]\n",
    "        \n",
    "        # We found a key!\n",
    "        if char in keys:\n",
    "            distances[char] = (dist[pos], keys_needed)\n",
    "            keys_needed = keys_needed.union(char)\n",
    "            \n",
    "        # Need a key to pass this door\n",
    "        if char in ascii_uppercase:\n",
    "            keys_needed = keys_needed.union(char.lower())\n",
    "\n",
    "        # Enqueue the unvisited neighbours of this point\n",
    "        neighbours = [n for n in find_neighbours(pos) if grid.get(pos) != '#']\n",
    "        for n_pos in neighbours:\n",
    "            dist[n_pos] = dist[pos] + 1\n",
    "            if n_pos not in visited:\n",
    "                queue.appendleft((n_pos, keys_needed))\n",
    "\n",
    "    return distances"
   ]
  },
  {
   "cell_type": "code",
   "execution_count": 5,
   "metadata": {
    "ExecuteTime": {
     "end_time": "2019-12-24T22:08:59.664448Z",
     "start_time": "2019-12-24T22:08:59.650100Z"
    }
   },
   "outputs": [],
   "source": [
    "def all_distances():\n",
    "    \"\"\"Compute all key-to-key distances and the keys needed to reach each key\"\"\"\n",
    "    distances = dict()\n",
    "    for key, pos in keys.items():\n",
    "        distances[key] = find_distances_bfs(pos)\n",
    "    return distances"
   ]
  },
  {
   "cell_type": "code",
   "execution_count": 6,
   "metadata": {
    "ExecuteTime": {
     "end_time": "2019-12-24T22:08:59.681759Z",
     "start_time": "2019-12-24T22:08:59.668324Z"
    }
   },
   "outputs": [],
   "source": [
    "def find_reachable(from_key, have_keys):\n",
    "    \"\"\"Find all keys you can reach from 'key', with 'have_keys' keys\"\"\"\n",
    "    reachable = []\n",
    "    for dest, (dist, need_keys) in distances[from_key].items():\n",
    "        if dest in have_keys:\n",
    "            continue\n",
    "        if need_keys.issubset(have_keys):\n",
    "            reachable.append((dest, dist))\n",
    "    return reachable"
   ]
  },
  {
   "cell_type": "code",
   "execution_count": 7,
   "metadata": {
    "ExecuteTime": {
     "end_time": "2019-12-24T22:08:59.696409Z",
     "start_time": "2019-12-24T22:08:59.685485Z"
    }
   },
   "outputs": [],
   "source": [
    "def dist_all_keys(start):\n",
    "    \"\"\"Use Dijkstra to find the shortest route to all the keys.\n",
    "    Nodes are represented by the key (position) and the set of collected keys\"\"\"\n",
    "    \n",
    "    visited = set()\n",
    "    dist = dict()\n",
    "    have_keys = frozenset(start)\n",
    "    start_node = (start, have_keys)\n",
    "    dist[start_node] = 0\n",
    "    queue = [(dist[start_node], start_node)]\n",
    "\n",
    "    while queue:\n",
    "        dist_node, node = heapq.heappop(queue)\n",
    "\n",
    "        if node in visited:\n",
    "            # This node has already been visited via a shorter route\n",
    "            continue\n",
    "\n",
    "        visited.add(node)      \n",
    "        from_key, have_keys = node\n",
    "\n",
    "        if len(have_keys) == len(keys):\n",
    "            # We have all the keys, return the distance\n",
    "            return dist_node\n",
    "\n",
    "        reachable = find_reachable(from_key, have_keys)\n",
    "        for to_key, dist_to_key in reachable:\n",
    "            new_node = (to_key, have_keys.union(to_key))\n",
    "            if new_node in visited:\n",
    "                # That node has already been visited via a shorter route\n",
    "                continue       \n",
    "            dist_new_node = dist_node + dist_to_key\n",
    "            if dist_new_node < dist.get(new_node, float('inf')):\n",
    "                # This is either the first time we can reach new_node,\n",
    "                # or we just found a shorter route to it\n",
    "                dist[new_node] = dist_new_node\n",
    "                heapq.heappush(queue, (dist_new_node, new_node))"
   ]
  },
  {
   "cell_type": "markdown",
   "metadata": {},
   "source": [
    "## Tests "
   ]
  },
  {
   "cell_type": "code",
   "execution_count": 8,
   "metadata": {
    "ExecuteTime": {
     "end_time": "2019-12-24T22:08:59.872877Z",
     "start_time": "2019-12-24T22:08:59.700815Z"
    }
   },
   "outputs": [],
   "source": [
    "grid, keys = get_grid(\"day18-test1.input\")\n",
    "distances = all_distances()\n",
    "assert dist_all_keys('@') == 86\n",
    "\n",
    "grid, keys = get_grid(\"day18-test2.input\")\n",
    "distances = all_distances()\n",
    "assert dist_all_keys('@') == 132\n",
    "\n",
    "grid, keys = get_grid(\"day18-test3.input\")\n",
    "distances = all_distances()\n",
    "assert dist_all_keys('@') == 136\n",
    "\n",
    "grid, keys = get_grid(\"day18-test4.input\")\n",
    "distances = all_distances()\n",
    "assert dist_all_keys('@') == 81"
   ]
  },
  {
   "cell_type": "markdown",
   "metadata": {},
   "source": [
    "# Part 1"
   ]
  },
  {
   "cell_type": "code",
   "execution_count": 9,
   "metadata": {
    "ExecuteTime": {
     "end_time": "2019-12-24T22:09:01.312278Z",
     "start_time": "2019-12-24T22:08:59.875634Z"
    }
   },
   "outputs": [
    {
     "data": {
      "text/plain": [
       "5808"
      ]
     },
     "execution_count": 9,
     "metadata": {},
     "output_type": "execute_result"
    }
   ],
   "source": [
    "grid, keys = get_grid(\"day18.input\")\n",
    "distances = all_distances()\n",
    "dist_all_keys('@')"
   ]
  },
  {
   "cell_type": "markdown",
   "metadata": {},
   "source": [
    "# Part 2"
   ]
  },
  {
   "cell_type": "code",
   "execution_count": 10,
   "metadata": {
    "ExecuteTime": {
     "end_time": "2019-12-24T22:09:01.323075Z",
     "start_time": "2019-12-24T22:09:01.315617Z"
    }
   },
   "outputs": [],
   "source": [
    "def patch_grid_part2(grid, keys):\n",
    "    replace = iter('0#1###2#3')\n",
    "    start = keys['@']\n",
    "    for row in range(start[0] - 1, start[0] + 2):\n",
    "        for col in range(start[1] - 1, start[1] + 2):\n",
    "            grid[row, col] = next(replace)\n",
    "    del keys['@']\n",
    "    for i, (dr, dc) in enumerate(zip([-1, -1, 1, 1], [-1, 1, -1, 1])):\n",
    "        keys[str(i)] = (start[0] + dr, start[1] + dc)\n",
    "        \n",
    "    return grid, keys"
   ]
  },
  {
   "cell_type": "code",
   "execution_count": 11,
   "metadata": {
    "ExecuteTime": {
     "end_time": "2019-12-24T22:09:01.347640Z",
     "start_time": "2019-12-24T22:09:01.331958Z"
    }
   },
   "outputs": [],
   "source": [
    "def dist_all_keys_pt2(start_points):\n",
    "    \"\"\"Use Dijkstra to find the shortest route to all the keys.\n",
    "    Nodes are represented by the position all four robots,\n",
    "    plus the full set of collected keys from all robots\"\"\"\n",
    "    \n",
    "    visited = set()\n",
    "    dist = dict()\n",
    "    have_keys = frozenset(start_points)\n",
    "    start_node = (have_keys, have_keys)\n",
    "    dist[start_node] = 0\n",
    "    queue = [(dist[start_node], start_node)]\n",
    "\n",
    "    while queue:\n",
    "        dist_node, node = heapq.heappop(queue)\n",
    "        if node in visited:\n",
    "            continue\n",
    "            \n",
    "        visited.add(node)      \n",
    "        on_keys, have_keys = node\n",
    "        \n",
    "        if len(have_keys) == len(keys):\n",
    "            return dist_node\n",
    "\n",
    "        for on_key in on_keys:\n",
    "            reachable = find_reachable(on_key, have_keys)\n",
    "            for to_key, dist_to_key in reachable:\n",
    "                new_on_keys = on_keys ^ set((on_key, to_key))\n",
    "                new_node = (new_on_keys, have_keys.union(to_key))\n",
    "                \n",
    "                if new_node in visited:\n",
    "                    continue\n",
    "                \n",
    "                tot_dist = dist_node + dist_to_key\n",
    "                if tot_dist < dist.get(new_node, float('inf')):\n",
    "                    dist[new_node] = tot_dist\n",
    "                    heapq.heappush(queue, (tot_dist, new_node))"
   ]
  },
  {
   "cell_type": "code",
   "execution_count": 12,
   "metadata": {
    "ExecuteTime": {
     "end_time": "2019-12-24T22:09:01.370370Z",
     "start_time": "2019-12-24T22:09:01.351845Z"
    }
   },
   "outputs": [],
   "source": [
    "# Tests\n",
    "grid, keys = get_grid(\"day18-part2-test1.input\", part=2)\n",
    "distances = all_distances()\n",
    "assert dist_all_keys_pt2(('0', '1', '2', '3')) == 32\n",
    "\n",
    "grid, keys = get_grid(\"day18-part2-test2.input\", part=2)\n",
    "distances = all_distances()\n",
    "assert dist_all_keys_pt2(('0', '1', '2', '3')) == 72"
   ]
  },
  {
   "cell_type": "code",
   "execution_count": 13,
   "metadata": {
    "ExecuteTime": {
     "end_time": "2019-12-24T22:09:01.622602Z",
     "start_time": "2019-12-24T22:09:01.373707Z"
    }
   },
   "outputs": [
    {
     "data": {
      "text/plain": [
       "1992"
      ]
     },
     "execution_count": 13,
     "metadata": {},
     "output_type": "execute_result"
    }
   ],
   "source": [
    "grid, keys = patch_grid_part2(*get_grid(\"day18.input\"))\n",
    "distances = all_distances()\n",
    "dist_all_keys_pt2(('0', '1', '2', '3'))"
   ]
  },
  {
   "cell_type": "code",
   "execution_count": null,
   "metadata": {},
   "outputs": [],
   "source": []
  }
 ],
 "metadata": {
  "kernelspec": {
   "display_name": "Python 3",
   "language": "python",
   "name": "python3"
  },
  "language_info": {
   "codemirror_mode": {
    "name": "ipython",
    "version": 3
   },
   "file_extension": ".py",
   "mimetype": "text/x-python",
   "name": "python",
   "nbconvert_exporter": "python",
   "pygments_lexer": "ipython3",
   "version": "3.7.4"
  }
 },
 "nbformat": 4,
 "nbformat_minor": 2
}
