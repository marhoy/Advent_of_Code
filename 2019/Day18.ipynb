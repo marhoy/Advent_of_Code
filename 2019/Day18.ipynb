{
 "cells": [
  {
   "cell_type": "code",
   "execution_count": 1,
   "metadata": {
    "ExecuteTime": {
     "end_time": "2019-12-21T22:39:05.771094Z",
     "start_time": "2019-12-21T22:39:05.764697Z"
    }
   },
   "outputs": [],
   "source": [
    "from string import ascii_lowercase, ascii_uppercase\n",
    "import collections\n",
    "import functools\n",
    "import heapq"
   ]
  },
  {
   "cell_type": "code",
   "execution_count": 2,
   "metadata": {
    "ExecuteTime": {
     "end_time": "2019-12-21T22:39:05.785273Z",
     "start_time": "2019-12-21T22:39:05.775868Z"
    }
   },
   "outputs": [],
   "source": [
    "def get_grid(filename):\n",
    "    grid, keys, start = dict(), dict(), None\n",
    "    with open(filename) as file:\n",
    "        for row, line in enumerate(file):\n",
    "            for col, char in enumerate(line.strip()):\n",
    "                grid[row, col] = char\n",
    "                if char == '@':\n",
    "                    start = (row, col)\n",
    "                if char in ascii_lowercase + '@':\n",
    "                    keys[char] = (row, col)\n",
    "\n",
    "    return grid, keys, start"
   ]
  },
  {
   "cell_type": "code",
   "execution_count": 3,
   "metadata": {
    "ExecuteTime": {
     "end_time": "2019-12-21T22:39:05.797910Z",
     "start_time": "2019-12-21T22:39:05.790797Z"
    }
   },
   "outputs": [],
   "source": [
    "def find_neighbours(pos):\n",
    "    \"\"\"Find neighbours in the two first dimensions.\n",
    "    Remaining dimensions are unchanged\"\"\"\n",
    "    x, y, *rest = pos\n",
    "    return [(x + dx, y + dy, *rest)\n",
    "            for dx, dy in zip((0, 0, 1, -1), (1, -1, 0, 0))]"
   ]
  },
  {
   "cell_type": "code",
   "execution_count": 4,
   "metadata": {
    "ExecuteTime": {
     "end_time": "2019-12-21T22:39:05.839119Z",
     "start_time": "2019-12-21T22:39:05.813971Z"
    }
   },
   "outputs": [],
   "source": [
    "def find_distances_bfs(start):\n",
    "    \"\"\"Starting from one key, find distance to all other keys, using BFS.\n",
    "    Take note of the doors we have to pass, so we know what keys we need\"\"\"\n",
    "    \n",
    "    visited = set()\n",
    "    dist = dict()\n",
    "    dist[start] = 0\n",
    "    distances = dict()\n",
    "    queue = collections.deque([(start, frozenset(grid[start]))])\n",
    "\n",
    "    while queue:\n",
    "        pos, keys_needed = queue.pop()\n",
    "        visited.add(pos)\n",
    "        char = grid[pos]\n",
    "        \n",
    "        # We found a key!\n",
    "        if char in keys and pos != start:\n",
    "            distances[char] = dist[pos], keys_needed\n",
    "            keys_needed = keys_needed.union(char)\n",
    "            \n",
    "        # Need a key to pass this door\n",
    "        if char in ascii_uppercase:\n",
    "            keys_needed = keys_needed.union(char.lower())\n",
    "\n",
    "        # Enqueue the unvisited neighbours of this point\n",
    "        neighbours = [n for n in find_neighbours(pos) if grid.get(pos) != '#']\n",
    "        for n in neighbours:\n",
    "            dist[n] = dist[pos] + 1\n",
    "            if n not in visited:\n",
    "                queue.appendleft((n, keys_needed))\n",
    "\n",
    "    return distances"
   ]
  },
  {
   "cell_type": "code",
   "execution_count": 5,
   "metadata": {
    "ExecuteTime": {
     "end_time": "2019-12-21T22:39:05.861653Z",
     "start_time": "2019-12-21T22:39:05.844771Z"
    }
   },
   "outputs": [],
   "source": [
    "def all_distances():\n",
    "    \"\"\"Compute all key-to-key distances and the keys needed to reach each key\"\"\"\n",
    "    distances = dict()\n",
    "    for key, pos in keys.items():\n",
    "        distances[key] = find_distances_bfs(pos)\n",
    "    return distances"
   ]
  },
  {
   "cell_type": "code",
   "execution_count": 6,
   "metadata": {
    "ExecuteTime": {
     "end_time": "2019-12-21T22:39:05.877467Z",
     "start_time": "2019-12-21T22:39:05.869574Z"
    }
   },
   "outputs": [],
   "source": [
    "def find_reachable(from_key, have_keys):\n",
    "    \"\"\"Find all keys you can reach from 'key', with 'have_keys' keys\"\"\"\n",
    "    reachable = []\n",
    "    for dest, (dist, need_keys) in distances[from_key].items():\n",
    "        if dest in have_keys:\n",
    "            continue\n",
    "        if need_keys.issubset(have_keys):\n",
    "            reachable.append((dest, dist))\n",
    "    return reachable"
   ]
  },
  {
   "cell_type": "code",
   "execution_count": 7,
   "metadata": {
    "ExecuteTime": {
     "end_time": "2019-12-21T22:39:05.910918Z",
     "start_time": "2019-12-21T22:39:05.890871Z"
    }
   },
   "outputs": [],
   "source": [
    "def dist_all_keys(start):\n",
    "    \"\"\"A Dijkstra-ish solution.\n",
    "    Since all edge weights are 1, there is no need to check for a shorter way.\n",
    "    The first time we reach a node, we reached there along the shortest route.\n",
    "    A node is represented by the key (position) and the set of collected keys\"\"\"\n",
    "    \n",
    "    have_keys = frozenset(start)\n",
    "    dist = dict()\n",
    "    queue = [(0, (start, have_keys))]\n",
    "\n",
    "    while queue:\n",
    "        dist_node, node = heapq.heappop(queue)\n",
    "\n",
    "        if node in dist:\n",
    "            # We have been here with these keys (and then with a shorter dist,\n",
    "            # since we visit nodes in increasing distance).\n",
    "            continue\n",
    "        dist[node] = dist_node\n",
    "\n",
    "        pos, have_keys = node\n",
    "        if len(have_keys) == len(keys):\n",
    "            return dist[node]\n",
    "\n",
    "        reachable = find_reachable(pos, have_keys)\n",
    "        for key, dist_to_key in reachable:\n",
    "            tot_dist = dist_node + dist_to_key\n",
    "\n",
    "            # If we don't have this key, add to queue\n",
    "            if key not in have_keys:\n",
    "                heapq.heappush(queue, (tot_dist, (key, have_keys.union(key))))"
   ]
  },
  {
   "cell_type": "markdown",
   "metadata": {},
   "source": [
    "## Tests "
   ]
  },
  {
   "cell_type": "code",
   "execution_count": 8,
   "metadata": {
    "ExecuteTime": {
     "end_time": "2019-12-21T22:39:06.210291Z",
     "start_time": "2019-12-21T22:39:05.926279Z"
    }
   },
   "outputs": [],
   "source": [
    "grid, keys, start = get_grid(\"day18-test1.input\")\n",
    "distances = all_distances()\n",
    "assert dist_all_keys('@') == 86\n",
    "\n",
    "grid, keys, start = get_grid(\"day18-test2.input\")\n",
    "distances = all_distances()\n",
    "assert dist_all_keys('@') == 132\n",
    "\n",
    "grid, keys, start = get_grid(\"day18-test3.input\")\n",
    "distances = all_distances()\n",
    "assert dist_all_keys('@') == 136\n",
    "\n",
    "grid, keys, start = get_grid(\"day18-test4.input\")\n",
    "distances = all_distances()\n",
    "assert dist_all_keys('@') == 81"
   ]
  },
  {
   "cell_type": "markdown",
   "metadata": {},
   "source": [
    "# Part 1"
   ]
  },
  {
   "cell_type": "code",
   "execution_count": 9,
   "metadata": {
    "ExecuteTime": {
     "end_time": "2019-12-21T22:39:07.721523Z",
     "start_time": "2019-12-21T22:39:06.213392Z"
    }
   },
   "outputs": [
    {
     "data": {
      "text/plain": [
       "5808"
      ]
     },
     "execution_count": 9,
     "metadata": {},
     "output_type": "execute_result"
    }
   ],
   "source": [
    "grid, keys, start = get_grid(\"day18.input\")\n",
    "distances = all_distances()\n",
    "dist_all_keys('@')"
   ]
  },
  {
   "cell_type": "code",
   "execution_count": null,
   "metadata": {},
   "outputs": [],
   "source": []
  }
 ],
 "metadata": {
  "kernelspec": {
   "display_name": "Python 3",
   "language": "python",
   "name": "python3"
  },
  "language_info": {
   "codemirror_mode": {
    "name": "ipython",
    "version": 3
   },
   "file_extension": ".py",
   "mimetype": "text/x-python",
   "name": "python",
   "nbconvert_exporter": "python",
   "pygments_lexer": "ipython3",
   "version": "3.7.4"
  }
 },
 "nbformat": 4,
 "nbformat_minor": 2
}
