{
 "cells": [
  {
   "cell_type": "markdown",
   "metadata": {},
   "source": [
    "Nice explanation here:\n",
    "https://github.com/mebeim/aoc/blob/master/2019/README.md#day-16---flawed-frequency-transmission\n",
    "\n",
    "The following function is even faster by avoiding to copy the list 10_000 times:"
   ]
  },
  {
   "cell_type": "code",
   "execution_count": 1,
   "metadata": {
    "ExecuteTime": {
     "end_time": "2019-12-16T21:00:51.012734Z",
     "start_time": "2019-12-16T21:00:51.003399Z"
    }
   },
   "outputs": [],
   "source": [
    "def part2(input_string, phases=100):\n",
    "\n",
    "    # Find the start index and convert input to list of ints\n",
    "    start_index = int(input_string[:7])\n",
    "    numbers = list(map(int, input_string))\n",
    "\n",
    "    # Make sure that start index is indeed in the second half,\n",
    "    # otherwise the trick won't work\n",
    "    assert start_index > len(input_string)*10_000 / 2\n",
    "    \n",
    "    # We are only going to compute the numbers from just before start_index\n",
    "    # to the end (in reverse). So we don't need to copy the input 10_000 times.\n",
    "    n_repeats = (len(input_string)*10_000 - start_index ) // len(input_string) + 1\n",
    "    \n",
    "    # Compute new start index for this shorter list:\n",
    "    start_index -= (10_000 - n_repeats)*len(input_string)\n",
    "    \n",
    "    numbers = numbers*n_repeats\n",
    "    for _ in range(phases):\n",
    "        cumsum = 0\n",
    "        for i in range(len(numbers) - 1, start_index - 1, -1):\n",
    "            cumsum += numbers[i]\n",
    "            numbers[i] = cumsum % 10\n",
    "            \n",
    "    return \"\".join(map(str, numbers[start_index:start_index + 8]))"
   ]
  },
  {
   "cell_type": "code",
   "execution_count": 2,
   "metadata": {
    "ExecuteTime": {
     "end_time": "2019-12-16T21:00:52.074759Z",
     "start_time": "2019-12-16T21:00:51.026109Z"
    }
   },
   "outputs": [],
   "source": [
    "# Tests\n",
    "assert part2(\"03036732577212944063491565474664\") == \"84462026\"\n",
    "assert part2(\"02935109699940807407585447034323\") == \"78725270\"\n",
    "assert part2(\"03081770884921959731165446850517\") == \"53553731\""
   ]
  },
  {
   "cell_type": "markdown",
   "metadata": {},
   "source": [
    "# Part 2"
   ]
  },
  {
   "cell_type": "code",
   "execution_count": 3,
   "metadata": {
    "ExecuteTime": {
     "end_time": "2019-12-16T21:00:52.090612Z",
     "start_time": "2019-12-16T21:00:52.084842Z"
    }
   },
   "outputs": [],
   "source": [
    "with open(\"day16.input\") as file:\n",
    "    input_string = file.readline().strip()"
   ]
  },
  {
   "cell_type": "code",
   "execution_count": 4,
   "metadata": {
    "ExecuteTime": {
     "end_time": "2019-12-16T21:01:00.681583Z",
     "start_time": "2019-12-16T21:00:52.093758Z"
    }
   },
   "outputs": [
    {
     "data": {
      "text/plain": [
       "'36265589'"
      ]
     },
     "execution_count": 4,
     "metadata": {},
     "output_type": "execute_result"
    }
   ],
   "source": [
    "part2(input_string)"
   ]
  },
  {
   "cell_type": "code",
   "execution_count": null,
   "metadata": {},
   "outputs": [],
   "source": []
  }
 ],
 "metadata": {
  "kernelspec": {
   "display_name": "Python 3",
   "language": "python",
   "name": "python3"
  },
  "language_info": {
   "codemirror_mode": {
    "name": "ipython",
    "version": 3
   },
   "file_extension": ".py",
   "mimetype": "text/x-python",
   "name": "python",
   "nbconvert_exporter": "python",
   "pygments_lexer": "ipython3",
   "version": "3.7.4"
  }
 },
 "nbformat": 4,
 "nbformat_minor": 2
}
