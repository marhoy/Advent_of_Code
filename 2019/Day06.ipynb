{
 "cells": [
  {
   "cell_type": "code",
   "execution_count": 1,
   "metadata": {
    "ExecuteTime": {
     "end_time": "2019-12-06T06:37:11.854220Z",
     "start_time": "2019-12-06T06:37:11.849763Z"
    }
   },
   "outputs": [],
   "source": [
    "import collections"
   ]
  },
  {
   "cell_type": "code",
   "execution_count": 2,
   "metadata": {
    "ExecuteTime": {
     "end_time": "2019-12-06T06:37:11.865471Z",
     "start_time": "2019-12-06T06:37:11.858695Z"
    }
   },
   "outputs": [],
   "source": [
    "def parse_input(filename):\n",
    "    graph = collections.defaultdict(list)\n",
    "    leafs = set()\n",
    "    with open(filename) as file:\n",
    "        for line in file:\n",
    "            node, leaf = line.strip().split(')')\n",
    "            graph[node].append(leaf)\n",
    "            leafs.add(leaf)\n",
    "            \n",
    "    return graph, leafs"
   ]
  },
  {
   "cell_type": "code",
   "execution_count": 3,
   "metadata": {
    "ExecuteTime": {
     "end_time": "2019-12-06T06:37:11.884876Z",
     "start_time": "2019-12-06T06:37:11.872862Z"
    }
   },
   "outputs": [],
   "source": [
    "def find_depth(leaf):\n",
    "    dist = 0\n",
    "    while True:\n",
    "        for k, v in graph.items():\n",
    "            if leaf in v:\n",
    "                leaf = k\n",
    "                dist += 1\n",
    "                if k == 'COM':\n",
    "                    return dist"
   ]
  },
  {
   "cell_type": "code",
   "execution_count": 4,
   "metadata": {
    "ExecuteTime": {
     "end_time": "2019-12-06T06:37:11.910870Z",
     "start_time": "2019-12-06T06:37:11.895124Z"
    }
   },
   "outputs": [],
   "source": [
    "graph, leafs = parse_input(\"day06.input\")"
   ]
  },
  {
   "cell_type": "markdown",
   "metadata": {
    "ExecuteTime": {
     "end_time": "2019-12-06T06:36:52.213902Z",
     "start_time": "2019-12-06T06:36:52.210224Z"
    }
   },
   "source": [
    "# Part 1"
   ]
  },
  {
   "cell_type": "code",
   "execution_count": 5,
   "metadata": {
    "ExecuteTime": {
     "end_time": "2019-12-06T06:37:15.859194Z",
     "start_time": "2019-12-06T06:37:11.914891Z"
    }
   },
   "outputs": [
    {
     "data": {
      "text/plain": [
       "142915"
      ]
     },
     "execution_count": 5,
     "metadata": {},
     "output_type": "execute_result"
    }
   ],
   "source": [
    "total_depth = 0\n",
    "for leaf in leafs:\n",
    "    total_depth += find_depth(leaf)\n",
    "total_depth"
   ]
  },
  {
   "cell_type": "code",
   "execution_count": null,
   "metadata": {},
   "outputs": [],
   "source": []
  }
 ],
 "metadata": {
  "kernelspec": {
   "display_name": "Python 3",
   "language": "python",
   "name": "python3"
  },
  "language_info": {
   "codemirror_mode": {
    "name": "ipython",
    "version": 3
   },
   "file_extension": ".py",
   "mimetype": "text/x-python",
   "name": "python",
   "nbconvert_exporter": "python",
   "pygments_lexer": "ipython3",
   "version": "3.7.4"
  }
 },
 "nbformat": 4,
 "nbformat_minor": 2
}
