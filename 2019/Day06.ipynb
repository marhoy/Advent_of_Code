{
 "cells": [
  {
   "cell_type": "code",
   "execution_count": 1,
   "metadata": {
    "ExecuteTime": {
     "end_time": "2019-12-06T11:52:38.832330Z",
     "start_time": "2019-12-06T11:52:38.830158Z"
    }
   },
   "outputs": [],
   "source": [
    "import collections"
   ]
  },
  {
   "cell_type": "code",
   "execution_count": 2,
   "metadata": {
    "ExecuteTime": {
     "end_time": "2019-12-06T11:52:38.838551Z",
     "start_time": "2019-12-06T11:52:38.833792Z"
    }
   },
   "outputs": [],
   "source": [
    "def parse_input(filename):\n",
    "    graph = collections.defaultdict(list)\n",
    "    with open(filename) as file:\n",
    "        for line in file:\n",
    "            node, leaf = line.strip().split(')')\n",
    "            graph[node].append(leaf)\n",
    "\n",
    "    return graph"
   ]
  },
  {
   "cell_type": "code",
   "execution_count": 3,
   "metadata": {
    "ExecuteTime": {
     "end_time": "2019-12-06T11:52:38.844089Z",
     "start_time": "2019-12-06T11:52:38.840138Z"
    }
   },
   "outputs": [],
   "source": [
    "# Use BFS to traverse the graph and find all depths\n",
    "def find_node_depths(graph):\n",
    "    depth, visited = dict(), set()\n",
    "    depth['COM'] = 0\n",
    "    queue = collections.deque(['COM'])\n",
    "    while queue:\n",
    "        node = queue.popleft()\n",
    "        visited.add(node)\n",
    "        for leaf in graph[node]:\n",
    "            depth[leaf] = depth[node] + 1\n",
    "            if not leaf in visited:\n",
    "                queue.append(leaf)\n",
    "\n",
    "    return depth"
   ]
  },
  {
   "cell_type": "code",
   "execution_count": 4,
   "metadata": {
    "ExecuteTime": {
     "end_time": "2019-12-06T11:52:38.848340Z",
     "start_time": "2019-12-06T11:52:38.845534Z"
    }
   },
   "outputs": [],
   "source": [
    "# Test\n",
    "graph = parse_input(\"day06-test.input\")\n",
    "depths = find_node_depths(graph)\n",
    "\n",
    "assert sum(depths.values()) == 42"
   ]
  },
  {
   "cell_type": "markdown",
   "metadata": {
    "ExecuteTime": {
     "end_time": "2019-12-06T06:36:52.213902Z",
     "start_time": "2019-12-06T06:36:52.210224Z"
    }
   },
   "source": [
    "# Part 1"
   ]
  },
  {
   "cell_type": "code",
   "execution_count": 5,
   "metadata": {
    "ExecuteTime": {
     "end_time": "2019-12-06T11:52:38.859372Z",
     "start_time": "2019-12-06T11:52:38.849715Z"
    }
   },
   "outputs": [
    {
     "data": {
      "text/plain": [
       "142915"
      ]
     },
     "execution_count": 5,
     "metadata": {},
     "output_type": "execute_result"
    }
   ],
   "source": [
    "graph = parse_input(\"day06.input\")\n",
    "depths = find_node_depths(graph)\n",
    "\n",
    "sum(depths.values())"
   ]
  },
  {
   "cell_type": "markdown",
   "metadata": {},
   "source": [
    "# Part 2"
   ]
  },
  {
   "cell_type": "code",
   "execution_count": 6,
   "metadata": {
    "ExecuteTime": {
     "end_time": "2019-12-06T11:52:38.863821Z",
     "start_time": "2019-12-06T11:52:38.861146Z"
    }
   },
   "outputs": [],
   "source": [
    "# Make the inverse graph where an edge points towards the parent node\n",
    "def find_parents(graph):\n",
    "    parent = dict()\n",
    "    for node, leafs in graph.items():\n",
    "        for leaf in leafs:\n",
    "            parent[leaf] = node\n",
    "    \n",
    "    return parent"
   ]
  },
  {
   "cell_type": "code",
   "execution_count": 7,
   "metadata": {
    "ExecuteTime": {
     "end_time": "2019-12-06T11:52:38.867984Z",
     "start_time": "2019-12-06T11:52:38.865188Z"
    }
   },
   "outputs": [],
   "source": [
    "# Backtrack the inverse graph to find the path to the root\n",
    "def backtrack_path(node, parents):\n",
    "    path = []\n",
    "    while not node == 'COM':\n",
    "        path.append(parents[node])\n",
    "        node = parents[node]\n",
    "    return path"
   ]
  },
  {
   "cell_type": "code",
   "execution_count": 8,
   "metadata": {
    "ExecuteTime": {
     "end_time": "2019-12-06T11:52:38.873297Z",
     "start_time": "2019-12-06T11:52:38.869280Z"
    }
   },
   "outputs": [],
   "source": [
    "graph = parse_input(\"day06.input\")\n",
    "\n",
    "parent = find_parents(graph)\n",
    "path1 = backtrack_path('YOU', parent)\n",
    "path2 = backtrack_path('SAN', parent)"
   ]
  },
  {
   "cell_type": "code",
   "execution_count": 9,
   "metadata": {
    "ExecuteTime": {
     "end_time": "2019-12-06T11:52:38.878124Z",
     "start_time": "2019-12-06T11:52:38.874750Z"
    }
   },
   "outputs": [
    {
     "name": "stdout",
     "output_type": "stream",
     "text": [
      "283\n"
     ]
    }
   ],
   "source": [
    "# Backtrack path1 until you reach a node that is also on path2\n",
    "# This is the branch-point you have to backtrack to\n",
    "# Return the distance travelled along path1 plus distance to the end of path2\n",
    "for i, node in enumerate(path1):\n",
    "    if node in path2:\n",
    "        print(i + path2.index(node))\n",
    "        break"
   ]
  },
  {
   "cell_type": "code",
   "execution_count": null,
   "metadata": {},
   "outputs": [],
   "source": []
  }
 ],
 "metadata": {
  "kernelspec": {
   "display_name": "Python 3",
   "language": "python",
   "name": "python3"
  },
  "language_info": {
   "codemirror_mode": {
    "name": "ipython",
    "version": 3
   },
   "file_extension": ".py",
   "mimetype": "text/x-python",
   "name": "python",
   "nbconvert_exporter": "python",
   "pygments_lexer": "ipython3",
   "version": "3.7.3"
  },
  "toc": {
   "base_numbering": 1,
   "nav_menu": {},
   "number_sections": true,
   "sideBar": true,
   "skip_h1_title": false,
   "title_cell": "Table of Contents",
   "title_sidebar": "Contents",
   "toc_cell": false,
   "toc_position": {},
   "toc_section_display": true,
   "toc_window_display": false
  }
 },
 "nbformat": 4,
 "nbformat_minor": 2
}
