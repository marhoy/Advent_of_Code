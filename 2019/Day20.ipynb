{
 "cells": [
  {
   "cell_type": "code",
   "execution_count": 1,
   "metadata": {
    "ExecuteTime": {
     "end_time": "2019-12-20T21:57:47.066041Z",
     "start_time": "2019-12-20T21:57:47.061300Z"
    }
   },
   "outputs": [],
   "source": [
    "import collections\n",
    "from string import ascii_uppercase"
   ]
  },
  {
   "cell_type": "code",
   "execution_count": 2,
   "metadata": {
    "ExecuteTime": {
     "end_time": "2019-12-20T21:57:47.077162Z",
     "start_time": "2019-12-20T21:57:47.070174Z"
    }
   },
   "outputs": [],
   "source": [
    "def find_neighbours(pos):\n",
    "    return [(pos[0] + dx, pos[1] + dy)\n",
    "            for dx, dy in zip((0, 0, 1, -1), (1, -1, 0, 0))]"
   ]
  },
  {
   "cell_type": "code",
   "execution_count": 3,
   "metadata": {
    "ExecuteTime": {
     "end_time": "2019-12-20T21:57:47.120303Z",
     "start_time": "2019-12-20T21:57:47.082074Z"
    }
   },
   "outputs": [],
   "source": [
    "def parse_input(filename):\n",
    "\n",
    "    grid = dict()\n",
    "    with open(filename) as file:\n",
    "        for row, line in enumerate(file):\n",
    "            for col, char in enumerate(line.strip('\\n')):\n",
    "                grid[row, col] = char\n",
    "        \n",
    "    max_row, max_col = row, col\n",
    "    portals = collections.defaultdict(list)\n",
    "    for row in range(max_row):\n",
    "        for col in range(max_col):\n",
    "            symbol = grid[row, col]\n",
    "            if symbol in ascii_uppercase:\n",
    "                neighbours = [n for n in find_neighbours((row, col))\n",
    "                              if grid.get(n, ' ') in ascii_uppercase + '.']\n",
    "                if len(neighbours) == 2:\n",
    "                    # We found the middle character in a portal\n",
    "                    for n in neighbours:\n",
    "                        if grid.get(n) == '.':\n",
    "                            entry = n\n",
    "                        else:\n",
    "                            letter = grid.get(n)\n",
    "                    portals[''.join(sorted(symbol + letter))].append(entry)\n",
    "\n",
    "    start = portals['AA'][0]\n",
    "    end = portals['ZZ'][0]\n",
    "\n",
    "    teleport = dict()\n",
    "    for name, points in portals.items():\n",
    "        if name not in ['AA', 'ZZ']:\n",
    "            teleport[points[0]] = points[1]\n",
    "            teleport[points[1]] = points[0]\n",
    "\n",
    "    return grid, portals, teleport, start, end"
   ]
  },
  {
   "cell_type": "code",
   "execution_count": 4,
   "metadata": {
    "ExecuteTime": {
     "end_time": "2019-12-20T21:57:47.149913Z",
     "start_time": "2019-12-20T21:57:47.133144Z"
    }
   },
   "outputs": [],
   "source": [
    "def draw_grid(grid):\n",
    "    max_x = max((k[0] for k in grid))\n",
    "    min_x = min((k[0] for k in grid))\n",
    "    max_y = max((k[1] for k in grid))\n",
    "    min_y = min((k[1] for k in grid))\n",
    "\n",
    "    for x in range(min_x, max_x + 1):\n",
    "        row = ''.join(grid.get((x, y)) for y in range(min_y, max_y + 1))\n",
    "        print(row)"
   ]
  },
  {
   "cell_type": "code",
   "execution_count": 5,
   "metadata": {
    "ExecuteTime": {
     "end_time": "2019-12-20T21:57:47.171022Z",
     "start_time": "2019-12-20T21:57:47.154354Z"
    }
   },
   "outputs": [],
   "source": [
    "def find_dist():\n",
    "    visited = set()\n",
    "    dist = dict()\n",
    "    dist[start] = 0\n",
    "    queue = collections.deque([start])\n",
    "\n",
    "    while queue:\n",
    "        pos = queue.pop()\n",
    "        visited.add(pos)\n",
    "\n",
    "        # Find neighbours, including via teleports\n",
    "        neighbours = [n for n in find_neighbours(pos) if grid.get(n) == '.']\n",
    "        if pos in teleport:\n",
    "            neighbours.append(teleport[pos])\n",
    "\n",
    "        for n in neighbours:\n",
    "            if dist[pos] + 1 < dist.get(n, float('inf')):\n",
    "                dist[n] = dist[pos] + 1\n",
    "            if n not in visited:\n",
    "                queue.appendleft(n)\n",
    "\n",
    "    return dist"
   ]
  },
  {
   "cell_type": "markdown",
   "metadata": {},
   "source": [
    "# Part 1"
   ]
  },
  {
   "cell_type": "code",
   "execution_count": 6,
   "metadata": {
    "ExecuteTime": {
     "end_time": "2019-12-20T21:57:47.187633Z",
     "start_time": "2019-12-20T21:57:47.173606Z"
    }
   },
   "outputs": [],
   "source": [
    "# Tests\n",
    "grid, portals, teleport, start, end = parse_input(\"day20-test1.input\")\n",
    "assert find_dist()[end] == 23\n",
    "\n",
    "grid, portals, teleport, start, end = parse_input(\"day20-test2.input\")\n",
    "assert find_dist()[end] == 58"
   ]
  },
  {
   "cell_type": "code",
   "execution_count": 7,
   "metadata": {
    "ExecuteTime": {
     "end_time": "2019-12-20T21:57:47.236545Z",
     "start_time": "2019-12-20T21:57:47.190006Z"
    }
   },
   "outputs": [
    {
     "data": {
      "text/plain": [
       "600"
      ]
     },
     "execution_count": 7,
     "metadata": {},
     "output_type": "execute_result"
    }
   ],
   "source": [
    "grid, portals, teleport, start, end = parse_input(\"day20.input\")\n",
    "find_dist()[end]"
   ]
  },
  {
   "cell_type": "markdown",
   "metadata": {},
   "source": [
    "# Part 2"
   ]
  },
  {
   "cell_type": "code",
   "execution_count": 8,
   "metadata": {
    "ExecuteTime": {
     "end_time": "2019-12-20T21:57:47.252438Z",
     "start_time": "2019-12-20T21:57:47.240826Z"
    }
   },
   "outputs": [],
   "source": [
    "def part2(grid):\n",
    "    import networkx as nx\n",
    "    \n",
    "    max_row = max(grid, key=lambda x: x[0])[0]\n",
    "    max_col = max(grid, key=lambda x: x[1])[1]\n",
    "    max_levels = 30\n",
    "\n",
    "    # Add all the .'s to the graph\n",
    "    G = nx.Graph()\n",
    "    for pos, symbol in grid.items():\n",
    "        if symbol == '.':\n",
    "            for level in range(max_levels):\n",
    "                G.add_node((*pos, level))\n",
    "            neighbours = [n for n in find_neighbours(pos) if grid.get(n) == '.']\n",
    "            for n in neighbours:\n",
    "                for level in range(max_levels):\n",
    "                    G.add_edge((*pos, level), (*n, level))\n",
    "\n",
    "    # Add all the portals to the graph\n",
    "    for pads in portals.values():\n",
    "        if len(pads) == 2:\n",
    "            if pads[0][0] in [2, max_row - 2] or pads[0][1] in [2, max_col - 2]:\n",
    "                outer, inner = pads\n",
    "            else:\n",
    "                inner, outer = pads\n",
    "            for i in range(max_levels - 1):\n",
    "                # inner portals lead to the outer portals on the next level and outer to inner on the previous level\n",
    "                G.add_edge((*inner, i), (*outer, i + 1))\n",
    "                G.add_edge((*outer, i + 1), (*inner, i))\n",
    "                \n",
    "    return nx.shortest_path_length(G, (*start, 0), (*end, 0))"
   ]
  },
  {
   "cell_type": "code",
   "execution_count": 9,
   "metadata": {
    "ExecuteTime": {
     "end_time": "2019-12-20T21:57:47.984463Z",
     "start_time": "2019-12-20T21:57:47.256457Z"
    }
   },
   "outputs": [],
   "source": [
    "# Tests\n",
    "grid, portals, teleport, start, end = parse_input(\"day20-test1.input\")\n",
    "assert part2(grid) == 26\n",
    "\n",
    "grid, portals, teleport, start, end = parse_input(\"day20-test3.input\")\n",
    "assert part2(grid) == 396"
   ]
  },
  {
   "cell_type": "code",
   "execution_count": 10,
   "metadata": {
    "ExecuteTime": {
     "end_time": "2019-12-20T21:57:49.366561Z",
     "start_time": "2019-12-20T21:57:47.986978Z"
    }
   },
   "outputs": [
    {
     "data": {
      "text/plain": [
       "6666"
      ]
     },
     "execution_count": 10,
     "metadata": {},
     "output_type": "execute_result"
    }
   ],
   "source": [
    "grid, portals, teleport, start, end = parse_input(\"day20.input\")\n",
    "part2(grid)"
   ]
  },
  {
   "cell_type": "code",
   "execution_count": null,
   "metadata": {},
   "outputs": [],
   "source": []
  }
 ],
 "metadata": {
  "kernelspec": {
   "display_name": "Python 3",
   "language": "python",
   "name": "python3"
  },
  "language_info": {
   "codemirror_mode": {
    "name": "ipython",
    "version": 3
   },
   "file_extension": ".py",
   "mimetype": "text/x-python",
   "name": "python",
   "nbconvert_exporter": "python",
   "pygments_lexer": "ipython3",
   "version": "3.7.4"
  }
 },
 "nbformat": 4,
 "nbformat_minor": 2
}
