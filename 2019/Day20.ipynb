{
 "cells": [
  {
   "cell_type": "code",
   "execution_count": null,
   "metadata": {},
   "outputs": [],
   "source": [
    "import collections\n",
    "import heapq\n",
    "\n",
    "from string import ascii_uppercase"
   ]
  },
  {
   "cell_type": "code",
   "execution_count": null,
   "metadata": {},
   "outputs": [],
   "source": [
    "def find_neighbours(pos):\n",
    "    \"\"\"Find neighbours in the two first dimensions.\n",
    "    Remaining dimensions are unchanged\"\"\"\n",
    "    x, y, *rest = pos\n",
    "    return [(x + dx, y + dy, *rest)\n",
    "            for dx, dy in zip((0, 0, 1, -1), (1, -1, 0, 0))]"
   ]
  },
  {
   "cell_type": "code",
   "execution_count": null,
   "metadata": {},
   "outputs": [],
   "source": [
    "def parse_input(filename):\n",
    "\n",
    "    grid = dict()\n",
    "    with open(filename) as file:\n",
    "        for row, line in enumerate(file):\n",
    "            for col, char in enumerate(line.strip('\\n')):\n",
    "                grid[row, col] = char\n",
    "        \n",
    "    max_row, max_col = row, col\n",
    "    portals = collections.defaultdict(list)\n",
    "    for row in range(max_row):\n",
    "        for col in range(max_col):\n",
    "            symbol = grid[row, col]\n",
    "            if symbol in ascii_uppercase:\n",
    "                neighbours = [n for n in find_neighbours((row, col))\n",
    "                              if grid.get(n, ' ') in ascii_uppercase + '.']\n",
    "                if len(neighbours) == 2:\n",
    "                    # We found the middle character in a portal\n",
    "                    for n in neighbours:\n",
    "                        if grid.get(n) == '.':\n",
    "                            entry = n\n",
    "                        else:\n",
    "                            letter = grid.get(n)\n",
    "                    portals[''.join(sorted(symbol + letter))].append(entry)\n",
    "\n",
    "    start = portals['AA'][0]\n",
    "    end = portals['ZZ'][0]\n",
    "\n",
    "    teleport = dict()\n",
    "    for name, points in portals.items():\n",
    "        if name not in ['AA', 'ZZ']:\n",
    "            teleport[points[0]] = points[1]\n",
    "            teleport[points[1]] = points[0]\n",
    "\n",
    "    return grid, portals, teleport, start, end"
   ]
  },
  {
   "cell_type": "code",
   "execution_count": null,
   "metadata": {},
   "outputs": [],
   "source": [
    "def draw_grid(grid):\n",
    "    max_x = max((k[0] for k in grid))\n",
    "    min_x = min((k[0] for k in grid))\n",
    "    max_y = max((k[1] for k in grid))\n",
    "    min_y = min((k[1] for k in grid))\n",
    "\n",
    "    for x in range(min_x, max_x + 1):\n",
    "        row = ''.join(grid.get((x, y)) for y in range(min_y, max_y + 1))\n",
    "        print(row)"
   ]
  },
  {
   "cell_type": "code",
   "execution_count": null,
   "metadata": {},
   "outputs": [],
   "source": [
    "def find_dist():\n",
    "    visited = set()\n",
    "    dist = dict()\n",
    "    dist[start] = 0\n",
    "    queue = collections.deque([start])\n",
    "\n",
    "    while queue:\n",
    "        pos = queue.pop()\n",
    "        visited.add(pos)\n",
    "\n",
    "        # Find neighbours, including via teleports\n",
    "        neighbours = [n for n in find_neighbours(pos) if grid.get(n) == '.']\n",
    "        if pos in teleport:\n",
    "            neighbours.append(teleport[pos])\n",
    "\n",
    "        for n in neighbours:\n",
    "            if dist[pos] + 1 < dist.get(n, float('inf')):\n",
    "                dist[n] = dist[pos] + 1\n",
    "            if n not in visited:\n",
    "                queue.appendleft(n)\n",
    "\n",
    "    return dist"
   ]
  },
  {
   "cell_type": "markdown",
   "metadata": {},
   "source": [
    "# Part 1"
   ]
  },
  {
   "cell_type": "code",
   "execution_count": null,
   "metadata": {},
   "outputs": [],
   "source": [
    "# Tests\n",
    "grid, portals, teleport, start, end = parse_input(\"day20-test1.input\")\n",
    "assert find_dist()[end] == 23\n",
    "\n",
    "grid, portals, teleport, start, end = parse_input(\"day20-test2.input\")\n",
    "assert find_dist()[end] == 58"
   ]
  },
  {
   "cell_type": "code",
   "execution_count": null,
   "metadata": {},
   "outputs": [],
   "source": [
    "grid, portals, teleport, start, end = parse_input(\"day20.input\")\n",
    "find_dist()[end]"
   ]
  },
  {
   "cell_type": "markdown",
   "metadata": {},
   "source": [
    "# Part 2"
   ]
  },
  {
   "cell_type": "code",
   "execution_count": null,
   "metadata": {},
   "outputs": [],
   "source": [
    "# All portals have an inner and outer entry\n",
    "# For each portal, sort the entries in [\"inner\", \"outer\"]\n",
    "# The outer entries will have coordinates either 2 or max - 2\n",
    "def get_teleports():\n",
    "    max_row = max(grid, key=lambda x: x[0])[0]\n",
    "    max_col = max(grid, key=lambda x: x[1])[1]\n",
    "\n",
    "    inner_entries = dict()\n",
    "    outer_entries = dict()\n",
    "    for name, entries in portals.items():\n",
    "        if name not in ['AA', 'ZZ']:\n",
    "            if entries[0][0] in [2, max_row - 2] or entries[0][1] in [2, max_col - 2]:\n",
    "                # The first entry is an outer one, switch places\n",
    "                portals[name].reverse()\n",
    "            inner_entries[portals[name][0]] = portals[name][1]\n",
    "            outer_entries[portals[name][1]] = portals[name][0]\n",
    "    \n",
    "    return inner_entries, outer_entries"
   ]
  },
  {
   "cell_type": "code",
   "execution_count": null,
   "metadata": {},
   "outputs": [],
   "source": [
    "def find_dist_part2(start, end):\n",
    "    \"\"\"Use Dijkstras algorithm. Points are represented by (row, col, level)\"\"\"\n",
    "    \n",
    "    visited = set()\n",
    "    dist = dict()\n",
    "    dist[start] = 0\n",
    "    queue = [(dist[start], start)]\n",
    "    MAX_RECURSION = 25\n",
    "    \n",
    "    while queue:\n",
    "        dist_pos, pos = heapq.heappop(queue)\n",
    "        visited.add(pos)\n",
    "        \n",
    "        # We have found the end, stop exploring\n",
    "        if pos == end:\n",
    "            break\n",
    "            \n",
    "        # Find normal neighbours\n",
    "        rc, level = pos[:2], pos[2]\n",
    "        neighbours = [n for n in find_neighbours(pos) if grid.get(n[:2]) == '.']\n",
    "\n",
    "        # If this is a teleport entry, add the other end as a neighbour\n",
    "        if rc in inner_entries and level <= MAX_RECURSION:\n",
    "            neighbours.append((*inner_entries[rc], level + 1))\n",
    "        elif rc in outer_entries and level > 0:\n",
    "            neighbours.append((*outer_entries[rc], level - 1))\n",
    "        \n",
    "        # Update distances and add unvisited neighbours to the queue\n",
    "        for n in neighbours:\n",
    "            if dist[pos] + 1 < dist.get(n, float('inf')):\n",
    "                dist[n] = dist[pos] + 1\n",
    "            if n not in visited:\n",
    "                heapq.heappush(queue, (dist[n], n))\n",
    "    \n",
    "    if not dist.get(end):\n",
    "        raise RecursionError(\"Not possible to find a way\")\n",
    "        \n",
    "    return dist[end]"
   ]
  },
  {
   "cell_type": "code",
   "execution_count": null,
   "metadata": {},
   "outputs": [],
   "source": [
    "# Tests\n",
    "\n",
    "grid, portals, teleport, start, end = parse_input(\"day20-test1.input\")\n",
    "inner_entries, outer_entries = get_teleports()\n",
    "assert find_dist_part2((*start, 0), (*end, 0)) == 26\n",
    "\n",
    "grid, portals, teleport, start, end = parse_input(\"day20-test1.input\")\n",
    "inner_entries, outer_entries = get_teleports()\n",
    "try:\n",
    "    find_dist_part2((*start, 0), (*end, 0)) == 26\n",
    "except RecursionError:\n",
    "    pass\n",
    "    \n",
    "grid, portals, teleport, start, end = parse_input(\"day20-test3.input\")\n",
    "inner_entries, outer_entries = get_teleports()\n",
    "assert find_dist_part2((*start, 0), (*end, 0)) == 396"
   ]
  },
  {
   "cell_type": "code",
   "execution_count": null,
   "metadata": {},
   "outputs": [],
   "source": [
    "grid, portals, teleport, start, end = parse_input(\"day20.input\")\n",
    "inner_entries, outer_entries = get_teleports()\n",
    "find_dist_part2((*start, 0), (*end, 0))"
   ]
  },
  {
   "cell_type": "code",
   "execution_count": null,
   "metadata": {},
   "outputs": [],
   "source": []
  }
 ],
 "metadata": {
  "kernelspec": {
   "display_name": "Python 3",
   "language": "python",
   "name": "python3"
  },
  "language_info": {
   "codemirror_mode": {
    "name": "ipython",
    "version": 3
   },
   "file_extension": ".py",
   "mimetype": "text/x-python",
   "name": "python",
   "nbconvert_exporter": "python",
   "pygments_lexer": "ipython3",
   "version": "3.7.4"
  }
 },
 "nbformat": 4,
 "nbformat_minor": 2
}
