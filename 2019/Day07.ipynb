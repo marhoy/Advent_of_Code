{
 "cells": [
  {
   "cell_type": "code",
   "execution_count": 1,
   "metadata": {
    "ExecuteTime": {
     "end_time": "2019-12-07T17:34:32.426318Z",
     "start_time": "2019-12-07T17:34:32.391517Z"
    }
   },
   "outputs": [],
   "source": [
    "%load_ext autoreload\n",
    "%autoreload 2"
   ]
  },
  {
   "cell_type": "code",
   "execution_count": 2,
   "metadata": {
    "ExecuteTime": {
     "end_time": "2019-12-07T17:34:32.467013Z",
     "start_time": "2019-12-07T17:34:32.436308Z"
    }
   },
   "outputs": [],
   "source": [
    "import itertools\n",
    "import logging\n",
    "\n",
    "from intcode_machine import Machine"
   ]
  },
  {
   "cell_type": "code",
   "execution_count": 3,
   "metadata": {
    "ExecuteTime": {
     "end_time": "2019-12-07T17:34:32.498940Z",
     "start_time": "2019-12-07T17:34:32.471008Z"
    }
   },
   "outputs": [],
   "source": [
    "def serial_connection(machines):\n",
    "    # Connect outputs and inputs for Part 1\n",
    "    n = len(machines)\n",
    "    for i in range(1, n):\n",
    "         machines[i].inputs = machines[i - 1].outputs\n",
    "    \n",
    "    # Inject an input for the first amp\n",
    "    machines[0].add_input(0)\n",
    " \n",
    "    return machines"
   ]
  },
  {
   "cell_type": "code",
   "execution_count": 4,
   "metadata": {
    "ExecuteTime": {
     "end_time": "2019-12-07T17:34:32.529352Z",
     "start_time": "2019-12-07T17:34:32.502353Z"
    }
   },
   "outputs": [],
   "source": [
    "def network_output(prog, phases, connect_func):\n",
    "    # Create amps with current phase values\n",
    "    machines = []\n",
    "    for i in range(len(phases)):\n",
    "        machines.append(Machine(prog, phases[i], machine_id=i, loglevel=logging.WARNING))\n",
    "\n",
    "    # Connect inputs and outputs\n",
    "    machines = connect_func(machines)\n",
    "\n",
    "    # Run all amps until they're finished\n",
    "    finished = [False]*5\n",
    "    while not all(finished):\n",
    "        for i in range(5):\n",
    "            machines[i].run()\n",
    "            finished[i] = machines[i].finished\n",
    "\n",
    "    # When everything is finished, get the output of the last machine\n",
    "    return machines[-1].outputs.popleft()"
   ]
  },
  {
   "cell_type": "code",
   "execution_count": 5,
   "metadata": {
    "ExecuteTime": {
     "end_time": "2019-12-07T17:34:32.580228Z",
     "start_time": "2019-12-07T17:34:32.532043Z"
    }
   },
   "outputs": [],
   "source": [
    "def find_max_val(prog, connect_func, phase_values):\n",
    "    max_val = 0\n",
    "    best_phases = None\n",
    "    for phases in itertools.permutations(phase_values):\n",
    "        output = network_output(prog, phases, connect_func)\n",
    "        if output > max_val:\n",
    "            max_val = output\n",
    "            best_phases = phases\n",
    "\n",
    "    return max_val, best_phases"
   ]
  },
  {
   "cell_type": "markdown",
   "metadata": {},
   "source": [
    "# Part 1"
   ]
  },
  {
   "cell_type": "code",
   "execution_count": 6,
   "metadata": {
    "ExecuteTime": {
     "end_time": "2019-12-07T17:34:32.721589Z",
     "start_time": "2019-12-07T17:34:32.582819Z"
    }
   },
   "outputs": [],
   "source": [
    "# Tests\n",
    "prog = \"3,15,3,16,1002,16,10,16,1,16,15,15,4,15,99,0,0\"\n",
    "assert find_max_val(prog, serial_connection, range(5)) == (43210, (4,3,2,1,0))\n",
    "\n",
    "prog = \"3,23,3,24,1002,24,10,24,1002,23,-1,23,101,5,23,23,1,24,23,23,4,23,99,0,0\"\n",
    "assert find_max_val(prog, serial_connection, range(5)) == (54321, (0,1,2,3,4))\n",
    " \n",
    "prog = \"3,31,3,32,1002,32,10,32,1001,31,-2,31,1007,31,0,33,1002,33,7,33,1,33,31,31,1,32,31,31,4,31,99,0,0,0\"\n",
    "assert find_max_val(prog, serial_connection, range(5)) == (65210, (1,0,4,3,2))"
   ]
  },
  {
   "cell_type": "code",
   "execution_count": 7,
   "metadata": {
    "ExecuteTime": {
     "end_time": "2019-12-07T17:34:32.867616Z",
     "start_time": "2019-12-07T17:34:32.723704Z"
    }
   },
   "outputs": [
    {
     "data": {
      "text/plain": [
       "(24405, (2, 3, 0, 4, 1))"
      ]
     },
     "execution_count": 7,
     "metadata": {},
     "output_type": "execute_result"
    }
   ],
   "source": [
    "with open(\"day07.input\") as file:\n",
    "    prog = file.readline().strip()\n",
    "\n",
    "find_max_val(prog, serial_connection, range(5))"
   ]
  },
  {
   "cell_type": "markdown",
   "metadata": {},
   "source": [
    "# Part 2"
   ]
  },
  {
   "cell_type": "code",
   "execution_count": 8,
   "metadata": {
    "ExecuteTime": {
     "end_time": "2019-12-07T17:34:32.901016Z",
     "start_time": "2019-12-07T17:34:32.872611Z"
    }
   },
   "outputs": [],
   "source": [
    "def feedback_connection(machines):\n",
    "    # Connect outputs and inputs for Part 2\n",
    "    n = len(machines)\n",
    "    for i in range(n):\n",
    "         machines[(i + 1) % n].inputs = machines[i].outputs\n",
    "\n",
    "    # Inject an input for the first amp\n",
    "    machines[0].add_input(0)\n",
    "\n",
    "    return machines"
   ]
  },
  {
   "cell_type": "code",
   "execution_count": 9,
   "metadata": {
    "ExecuteTime": {
     "end_time": "2019-12-07T17:34:33.602433Z",
     "start_time": "2019-12-07T17:34:32.904263Z"
    }
   },
   "outputs": [],
   "source": [
    "# Tests\n",
    "prog = \"3,26,1001,26,-4,26,3,27,1002,27,2,27,1,27,26,27,4,27,1001,28,-1,28,1005,28,6,99,0,0,5\"\n",
    "assert find_max_val(prog, feedback_connection, range(5, 10)) == (139629729, (9,8,7,6,5))\n",
    "\n",
    "prog = \"3,52,1001,52,-5,52,3,53,1,52,56,54,1007,54,5,55,1005,55,26,1001,54,-5,54,1105,1,12,1,53,54,53,1008,54,0,55,1001,55,1,55,2,53,55,53,4,53,1001,56,-1,56,1005,56,6,99,0,0,0,0,10\"\n",
    "assert find_max_val(prog, feedback_connection, range(5, 10)) == (18216, (9,7,8,5,6))"
   ]
  },
  {
   "cell_type": "code",
   "execution_count": 10,
   "metadata": {
    "ExecuteTime": {
     "end_time": "2019-12-07T17:34:33.879717Z",
     "start_time": "2019-12-07T17:34:33.604767Z"
    }
   },
   "outputs": [
    {
     "data": {
      "text/plain": [
       "(8271623, (5, 7, 9, 8, 6))"
      ]
     },
     "execution_count": 10,
     "metadata": {},
     "output_type": "execute_result"
    }
   ],
   "source": [
    "with open(\"day07.input\") as file:\n",
    "    prog = file.readline().strip()\n",
    "\n",
    "find_max_val(prog, feedback_connection, range(5, 10))"
   ]
  },
  {
   "cell_type": "code",
   "execution_count": null,
   "metadata": {},
   "outputs": [],
   "source": []
  }
 ],
 "metadata": {
  "kernelspec": {
   "display_name": "Python 3",
   "language": "python",
   "name": "python3"
  },
  "language_info": {
   "codemirror_mode": {
    "name": "ipython",
    "version": 3
   },
   "file_extension": ".py",
   "mimetype": "text/x-python",
   "name": "python",
   "nbconvert_exporter": "python",
   "pygments_lexer": "ipython3",
   "version": "3.7.4"
  },
  "toc": {
   "base_numbering": 1,
   "nav_menu": {},
   "number_sections": true,
   "sideBar": true,
   "skip_h1_title": false,
   "title_cell": "Table of Contents",
   "title_sidebar": "Contents",
   "toc_cell": false,
   "toc_position": {},
   "toc_section_display": true,
   "toc_window_display": false
  }
 },
 "nbformat": 4,
 "nbformat_minor": 2
}
