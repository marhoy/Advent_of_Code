{
 "cells": [
  {
   "cell_type": "code",
   "execution_count": null,
   "metadata": {},
   "outputs": [],
   "source": [
    "import math\n",
    "from fractions import Fraction"
   ]
  },
  {
   "cell_type": "code",
   "execution_count": null,
   "metadata": {},
   "outputs": [],
   "source": [
    "asteroids = []\n",
    "with open(\"day10.input\") as file:\n",
    "    for y, row in enumerate(file):\n",
    "        print(row.strip())\n",
    "        for x, point in enumerate(row):\n",
    "            if point == \"#\":\n",
    "                asteroids.append((x, y))"
   ]
  },
  {
   "cell_type": "code",
   "execution_count": null,
   "metadata": {},
   "outputs": [],
   "source": [
    "def seen_from_origin(asteroids, origin):\n",
    "    detected = []\n",
    "    angles = set()\n",
    "    for point in asteroids:\n",
    "        delta_y = point[1] - origin[1]\n",
    "        delta_x = point[0] - origin[0]\n",
    "        angle = math.atan2(delta_y, delta_x)\n",
    "        if angle not in angles:\n",
    "            detected.append((angle, point))\n",
    "            angles.add(angle)\n",
    "    return detected"
   ]
  },
  {
   "cell_type": "markdown",
   "metadata": {},
   "source": [
    "# Part 1"
   ]
  },
  {
   "cell_type": "code",
   "execution_count": null,
   "metadata": {},
   "outputs": [],
   "source": [
    "detected = dict()\n",
    "for origin in asteroids:\n",
    "    seen = seen_from_origin(asteroids, origin)\n",
    "    detected[origin] = len(seen)"
   ]
  },
  {
   "cell_type": "code",
   "execution_count": null,
   "metadata": {},
   "outputs": [],
   "source": [
    "best_point = max(detected, key=detected.get)\n",
    "print(\"Best point is {} with {} detected\".format(best_point, detected[best_point]))"
   ]
  },
  {
   "cell_type": "markdown",
   "metadata": {},
   "source": [
    "# Part 2"
   ]
  },
  {
   "cell_type": "code",
   "execution_count": null,
   "metadata": {},
   "outputs": [],
   "source": [
    "# Since we can already see more than 200 from the best point, we don't need to rotate a full round.\n",
    "# We can sort the points by angle (starting from straight up), and then\n",
    "# get point number 200 from that list.\n",
    "\n",
    "targets = seen_from_origin(asteroids, best_point)\n",
    "\n",
    "# Sort by angle\n",
    "targets = sorted(targets, key=lambda p: p[0])\n",
    "\n",
    "# Find the position of pointing upwards\n",
    "for i, t in enumerate(targets):\n",
    "    if t[0] == math.atan2(-1,0):\n",
    "        break\n",
    "\n",
    "# Use that as the first index (move the start of the list to the end)\n",
    "targets = targets[i:] + targets[:i]"
   ]
  },
  {
   "cell_type": "code",
   "execution_count": null,
   "metadata": {},
   "outputs": [],
   "source": [
    "p = targets[199]\n",
    "p[1][0]*100 + p[1][1]"
   ]
  },
  {
   "cell_type": "code",
   "execution_count": null,
   "metadata": {},
   "outputs": [],
   "source": []
  }
 ],
 "metadata": {
  "kernelspec": {
   "display_name": "Python 3",
   "language": "python",
   "name": "python3"
  },
  "language_info": {
   "codemirror_mode": {
    "name": "ipython",
    "version": 3
   },
   "file_extension": ".py",
   "mimetype": "text/x-python",
   "name": "python",
   "nbconvert_exporter": "python",
   "pygments_lexer": "ipython3",
   "version": "3.7.4"
  },
  "toc": {
   "base_numbering": 1,
   "nav_menu": {},
   "number_sections": true,
   "sideBar": true,
   "skip_h1_title": false,
   "title_cell": "Table of Contents",
   "title_sidebar": "Contents",
   "toc_cell": false,
   "toc_position": {},
   "toc_section_display": true,
   "toc_window_display": false
  }
 },
 "nbformat": 4,
 "nbformat_minor": 2
}
