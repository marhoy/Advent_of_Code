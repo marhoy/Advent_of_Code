{
 "cells": [
  {
   "cell_type": "code",
   "execution_count": 1,
   "metadata": {
    "ExecuteTime": {
     "end_time": "2019-12-10T14:43:34.611884Z",
     "start_time": "2019-12-10T14:43:34.602907Z"
    }
   },
   "outputs": [],
   "source": [
    "import math\n",
    "from fractions import Fraction"
   ]
  },
  {
   "cell_type": "code",
   "execution_count": 2,
   "metadata": {
    "ExecuteTime": {
     "end_time": "2019-12-10T14:43:34.637814Z",
     "start_time": "2019-12-10T14:43:34.615873Z"
    }
   },
   "outputs": [
    {
     "name": "stdout",
     "output_type": "stream",
     "text": [
      ".###.#...#.#.##.#.####..\n",
      ".#....#####...#.######..\n",
      "#.#.###.###.#.....#.####\n",
      "##.###..##..####.#.####.\n",
      "###########.#######.##.#\n",
      "##########.#########.##.\n",
      ".#.##.########.##...###.\n",
      "###.#.##.#####.#.###.###\n",
      "##.#####.##..###.#.##.#.\n",
      ".#.#.#####.####.#..#####\n",
      ".###.#####.#..#..##.#.##\n",
      "########.##.#...########\n",
      ".####..##..#.###.###.#.#\n",
      "....######.##.#.######.#\n",
      "###.####.######.#....###\n",
      "############.#.#.##.####\n",
      "##...##..####.####.#..##\n",
      ".###.#########.###..#.##\n",
      "#.##.#.#...##...#####..#\n",
      "##.#..###############.##\n",
      "##.###.#####.##.######..\n",
      "##.#####.#.#.##..#######\n",
      "...#######.######...####\n",
      "#....#.#.#.####.#.#.#.##\n"
     ]
    }
   ],
   "source": [
    "asteroids = []\n",
    "with open(\"day10.input\") as file:\n",
    "    for y, row in enumerate(file):\n",
    "        print(row.strip())\n",
    "        for x, point in enumerate(row):\n",
    "            if point == \"#\":\n",
    "                asteroids.append((x, y))"
   ]
  },
  {
   "cell_type": "code",
   "execution_count": 3,
   "metadata": {
    "ExecuteTime": {
     "end_time": "2019-12-10T14:43:34.650778Z",
     "start_time": "2019-12-10T14:43:34.641804Z"
    }
   },
   "outputs": [],
   "source": [
    "def seen_from_origin(asteroids, origin):\n",
    "    detected = []\n",
    "    angles = set()\n",
    "    for point in asteroids:\n",
    "        delta_y = point[1] - origin[1]\n",
    "        delta_x = point[0] - origin[0]\n",
    "        angle = math.atan2(delta_y, delta_x)\n",
    "        if angle not in angles:\n",
    "            detected.append((angle, point))\n",
    "            angles.add(angle)\n",
    "    return detected"
   ]
  },
  {
   "cell_type": "markdown",
   "metadata": {},
   "source": [
    "# Part 1"
   ]
  },
  {
   "cell_type": "code",
   "execution_count": 4,
   "metadata": {
    "ExecuteTime": {
     "end_time": "2019-12-10T14:43:34.913637Z",
     "start_time": "2019-12-10T14:43:34.654768Z"
    }
   },
   "outputs": [],
   "source": [
    "detected = dict()\n",
    "for origin in asteroids:\n",
    "    seen = seen_from_origin(asteroids, origin)\n",
    "    detected[origin] = len(seen)"
   ]
  },
  {
   "cell_type": "code",
   "execution_count": 5,
   "metadata": {
    "ExecuteTime": {
     "end_time": "2019-12-10T14:43:34.922611Z",
     "start_time": "2019-12-10T14:43:34.915630Z"
    }
   },
   "outputs": [
    {
     "name": "stdout",
     "output_type": "stream",
     "text": [
      "Best point is (20, 18) with 280 detected\n"
     ]
    }
   ],
   "source": [
    "best_point = max(detected, key=detected.get)\n",
    "print(\"Best point is {} with {} detected\".format(best_point, detected[best_point]))"
   ]
  },
  {
   "cell_type": "markdown",
   "metadata": {},
   "source": [
    "# Part 2"
   ]
  },
  {
   "cell_type": "code",
   "execution_count": 6,
   "metadata": {
    "ExecuteTime": {
     "end_time": "2019-12-10T14:43:34.937573Z",
     "start_time": "2019-12-10T14:43:34.925605Z"
    }
   },
   "outputs": [],
   "source": [
    "# Since we can already see more than 200 from the best point, we don't need to rotate a full round.\n",
    "# We can sort the points by angle (starting from straight up), and then\n",
    "# get point number 200 from that list.\n",
    "\n",
    "targets = seen_from_origin(asteroids, best_point)\n",
    "\n",
    "# Sort by angle\n",
    "targets = sorted(targets, key=lambda p: p[0])\n",
    "\n",
    "# Find the position of pointing upwards\n",
    "for i, t in enumerate(targets):\n",
    "    if t[0] == math.atan2(-1,0):\n",
    "        break\n",
    "\n",
    "# Use that as the first index (move the start of the list to the end)\n",
    "targets = targets[i:] + targets[:i]"
   ]
  },
  {
   "cell_type": "code",
   "execution_count": 7,
   "metadata": {
    "ExecuteTime": {
     "end_time": "2019-12-10T14:43:34.966494Z",
     "start_time": "2019-12-10T14:43:34.940564Z"
    }
   },
   "outputs": [
    {
     "data": {
      "text/plain": [
       "706"
      ]
     },
     "execution_count": 7,
     "metadata": {},
     "output_type": "execute_result"
    }
   ],
   "source": [
    "p = targets[199]\n",
    "p[1][0]*100 + p[1][1]"
   ]
  },
  {
   "cell_type": "code",
   "execution_count": null,
   "metadata": {},
   "outputs": [],
   "source": []
  }
 ],
 "metadata": {
  "kernelspec": {
   "display_name": "Python 3",
   "language": "python",
   "name": "python3"
  },
  "language_info": {
   "codemirror_mode": {
    "name": "ipython",
    "version": 3
   },
   "file_extension": ".py",
   "mimetype": "text/x-python",
   "name": "python",
   "nbconvert_exporter": "python",
   "pygments_lexer": "ipython3",
   "version": "3.7.4"
  },
  "toc": {
   "base_numbering": 1,
   "nav_menu": {},
   "number_sections": true,
   "sideBar": true,
   "skip_h1_title": false,
   "title_cell": "Table of Contents",
   "title_sidebar": "Contents",
   "toc_cell": false,
   "toc_position": {},
   "toc_section_display": true,
   "toc_window_display": false
  }
 },
 "nbformat": 4,
 "nbformat_minor": 2
}
