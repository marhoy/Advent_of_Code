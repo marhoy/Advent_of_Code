{
 "cells": [
  {
   "cell_type": "code",
   "execution_count": 1,
   "metadata": {
    "ExecuteTime": {
     "end_time": "2019-12-15T20:04:02.134157Z",
     "start_time": "2019-12-15T20:04:02.124196Z"
    }
   },
   "outputs": [],
   "source": [
    "import collections\n",
    "import logging\n",
    "from copy import deepcopy\n",
    "\n",
    "from intcode import Machine"
   ]
  },
  {
   "cell_type": "code",
   "execution_count": 2,
   "metadata": {
    "ExecuteTime": {
     "end_time": "2019-12-15T20:04:02.149178Z",
     "start_time": "2019-12-15T20:04:02.139779Z"
    }
   },
   "outputs": [],
   "source": [
    "with open(\"day15.input\") as file:\n",
    "    prog = file.readline().strip()"
   ]
  },
  {
   "cell_type": "code",
   "execution_count": 3,
   "metadata": {
    "ExecuteTime": {
     "end_time": "2019-12-15T20:04:02.183966Z",
     "start_time": "2019-12-15T20:04:02.153551Z"
    }
   },
   "outputs": [],
   "source": [
    "def draw_grid(grid):\n",
    "    max_x = max((k[0] for k in grid))\n",
    "    min_x = min((k[0] for k in grid))\n",
    "    max_y = max((k[1] for k in grid))\n",
    "    min_y = min((k[1] for k in grid))\n",
    "\n",
    "    for x in range(max_x, min_x - 1, -1):\n",
    "        for y in range(min_y, max_y + 1):\n",
    "            if grid.get((x, y)):\n",
    "                print(grid.get((x, y)), end='')\n",
    "            else:\n",
    "                print(' ', end='')\n",
    "        print()"
   ]
  },
  {
   "cell_type": "code",
   "execution_count": 4,
   "metadata": {
    "ExecuteTime": {
     "end_time": "2019-12-15T20:04:02.216133Z",
     "start_time": "2019-12-15T20:04:02.199960Z"
    }
   },
   "outputs": [],
   "source": [
    "def update_pos(pos, move):\n",
    "    #  1\n",
    "    # 3 4\n",
    "    #  2\n",
    "    if move == 1:\n",
    "        return (pos[0] + 1, pos[1])\n",
    "    if move == 2:\n",
    "        return (pos[0] - 1, pos[1])\n",
    "    if move == 3:\n",
    "        return (pos[0], pos[1] - 1)\n",
    "    if move == 4:\n",
    "        return (pos[0], pos[1] + 1)\n",
    "    raise ValueError(\"Illegal move:\".format(move))"
   ]
  },
  {
   "cell_type": "code",
   "execution_count": 5,
   "metadata": {
    "ExecuteTime": {
     "end_time": "2019-12-15T20:04:02.237598Z",
     "start_time": "2019-12-15T20:04:02.221052Z"
    }
   },
   "outputs": [],
   "source": [
    "def find_neighbours(pos, machine):\n",
    "\n",
    "    # How to reverse a move\n",
    "    back = {\n",
    "        1: 2,\n",
    "        2: 1,\n",
    "        3: 4,\n",
    "        4: 3\n",
    "    }\n",
    "\n",
    "    neighbours = []\n",
    "    for move in range(1, 5):\n",
    "\n",
    "        # Have we already visited the candidate?\n",
    "        n_pos = update_pos(pos, move)\n",
    "        if grid.get(n_pos):\n",
    "            continue\n",
    "\n",
    "        # Try to move in a direction\n",
    "        machine.add_input(move)\n",
    "        machine.run()\n",
    "        output = machine.get_output()\n",
    "            \n",
    "        # Check resulting output\n",
    "        if output == 0:\n",
    "            grid[n_pos] = '▒'\n",
    "        elif output == 1:\n",
    "            # It was possible to move in this direction\n",
    "            grid[n_pos] = '·'\n",
    "            neighbours.append((n_pos, deepcopy(machine), False))\n",
    "        elif output == 2:\n",
    "            # It was possible to move in this direction\n",
    "            # And this is the oxygen system\n",
    "            grid[n_pos] = '★'\n",
    "            neighbours.insert(0, (n_pos, deepcopy(machine), True))\n",
    "            \n",
    "        # If we moved: Move back before trying the next move\n",
    "        if output in [1, 2]:\n",
    "            machine.add_input(back[move])\n",
    "            machine.run()\n",
    "            _ = machine.get_output()\n",
    "\n",
    "    return neighbours"
   ]
  },
  {
   "cell_type": "code",
   "execution_count": 6,
   "metadata": {
    "ExecuteTime": {
     "end_time": "2019-12-15T20:04:02.262158Z",
     "start_time": "2019-12-15T20:04:02.246863Z"
    }
   },
   "outputs": [],
   "source": [
    "def bfs(pos, robot):\n",
    "    target_pos = None\n",
    "    m_at_target = None\n",
    "    visited = set()\n",
    "    dist = dict()\n",
    "    dist[start] = 0\n",
    "    backtrack = dict()\n",
    "    backtrack[start] = None\n",
    "    queue = collections.deque([(pos, robot)])\n",
    "\n",
    "    while queue:\n",
    "        pos, robot = queue.pop()\n",
    "        visited.add(pos)\n",
    "        \n",
    "        for n, m, target in find_neighbours(pos, robot):\n",
    "            dist[n] = dist[pos] + 1\n",
    "            backtrack[n] = pos\n",
    "            if target:\n",
    "                print(\"Target found: {} at distance {}\".format(n, dist[n]))\n",
    "                target_pos = n\n",
    "                m_at_target = m\n",
    "            if n not in visited:\n",
    "                queue.appendleft((n, m))\n",
    "\n",
    "    return target_pos, m_at_target, dist, backtrack"
   ]
  },
  {
   "cell_type": "markdown",
   "metadata": {},
   "source": [
    "# Part 1"
   ]
  },
  {
   "cell_type": "code",
   "execution_count": 13,
   "metadata": {
    "ExecuteTime": {
     "end_time": "2019-12-15T20:04:41.404572Z",
     "start_time": "2019-12-15T20:04:40.274439Z"
    }
   },
   "outputs": [
    {
     "name": "stdout",
     "output_type": "stream",
     "text": [
      "Target found: (16, 16) at distance 236\n"
     ]
    }
   ],
   "source": [
    "r = Machine(prog, loglevel=logging.WARNING)\n",
    "\n",
    "start = (0, 0)\n",
    "grid = dict()\n",
    "grid[start] = 'S'\n",
    "\n",
    "target_pos, m_at_target, dist, backtrack = bfs(start, r)"
   ]
  },
  {
   "cell_type": "code",
   "execution_count": 14,
   "metadata": {
    "ExecuteTime": {
     "end_time": "2019-12-15T20:04:43.199130Z",
     "start_time": "2019-12-15T20:04:43.192572Z"
    }
   },
   "outputs": [
    {
     "data": {
      "text/plain": [
       "236"
      ]
     },
     "execution_count": 14,
     "metadata": {},
     "output_type": "execute_result"
    }
   ],
   "source": [
    "dist[target_pos]"
   ]
  },
  {
   "cell_type": "code",
   "execution_count": 15,
   "metadata": {
    "ExecuteTime": {
     "end_time": "2019-12-15T20:04:47.263999Z",
     "start_time": "2019-12-15T20:04:47.259602Z"
    }
   },
   "outputs": [],
   "source": [
    "p = target_pos\n",
    "while backtrack[p]:\n",
    "    grid[p] = 'o'\n",
    "    p = backtrack[p]\n",
    "grid[target_pos] = '☆'"
   ]
  },
  {
   "cell_type": "code",
   "execution_count": 16,
   "metadata": {
    "ExecuteTime": {
     "end_time": "2019-12-15T20:04:51.017237Z",
     "start_time": "2019-12-15T20:04:50.756679Z"
    }
   },
   "outputs": [
    {
     "name": "stdout",
     "output_type": "stream",
     "text": [
      " ▒▒▒▒▒▒▒ ▒▒▒▒▒▒▒▒▒ ▒▒▒▒▒▒▒▒▒ ▒▒▒ ▒▒▒▒▒ ▒ \n",
      "▒·······▒·········▒ooooooooo▒···▒··ooo▒·▒\n",
      "▒·▒▒▒·▒▒▒·▒·▒▒▒▒▒·▒o▒▒▒▒▒▒▒o▒▒▒·▒·▒o▒o▒·▒\n",
      "▒···▒·▒···▒···▒···▒ooo▒···▒ooo▒···▒o▒ooo▒\n",
      " ▒▒·▒·▒·▒▒ ▒▒·▒▒▒·▒▒▒o▒▒▒·▒▒▒o▒▒▒▒▒o▒▒▒o▒\n",
      "▒···▒·▒···▒·▒···▒···▒ooo▒ooooo▒ooooo▒☆oo▒\n",
      "▒·▒▒▒▒ ▒▒·▒·▒▒▒·▒·▒▒▒▒▒o▒o▒▒▒▒▒o▒▒▒▒▒▒▒·▒\n",
      "▒·▒···▒·······▒·▒·▒ooooo▒ooooo▒o▒ooooo▒·▒\n",
      "▒·▒·▒·▒·▒▒▒▒▒▒▒·▒·▒o▒▒▒▒▒▒▒▒▒o▒o▒o▒▒▒o▒·▒\n",
      "▒·▒·▒·····▒·····▒·▒o▒·▒ooooooo▒ooo▒·▒o▒·▒\n",
      "▒·▒·▒▒▒▒▒▒▒·▒▒▒▒▒·▒o▒·▒o▒▒▒▒▒▒▒·▒▒▒·▒o▒·▒\n",
      "▒···▒·····▒·▒·····▒o▒ooo▒·····▒·····▒o▒·▒\n",
      "▒·▒▒▒·▒▒▒·▒·▒·▒▒▒▒▒o▒o▒▒▒·▒·▒▒▒▒▒·▒▒▒o▒·▒\n",
      "▒···▒·▒·▒·▒·▒···▒ooo▒ooo▒·▒·▒·····▒ooo▒·▒\n",
      " ▒▒·▒·▒·▒·▒·▒▒▒·▒o▒▒▒▒▒o▒·▒·▒·▒▒▒▒▒o▒▒▒·▒\n",
      "▒···▒·▒·▒·▒·▒···▒o▒···▒o▒·▒·······▒o▒···▒\n",
      "▒·▒▒▒·▒·▒·▒·▒·▒▒▒o▒·▒▒▒o▒·▒▒▒▒▒▒▒▒▒o▒·▒▒ \n",
      "▒·▒·▒·▒···▒·▒·▒·▒o▒···▒o▒···▒ooooooo▒·▒·▒\n",
      "▒·▒·▒·▒·▒▒▒·▒·▒·▒o▒▒▒·▒o▒▒▒▒▒o▒▒▒▒▒▒▒·▒·▒\n",
      "▒·▒·▒·▒···▒·▒···▒ooo▒··ooo▒ooo▒···▒···▒·▒\n",
      "▒·▒·▒·▒▒▒·▒·▒▒▒▒▒▒▒o▒▒▒▒▒o▒o▒▒▒·▒·▒·▒▒▒·▒\n",
      "▒···▒·▒·▒·▒·······▒o▒S▒ooo▒ooo▒·▒···▒···▒\n",
      " ▒▒·▒·▒·▒·▒▒▒▒▒▒▒·▒o▒o▒o▒▒▒·▒o▒▒▒▒▒·▒·▒·▒\n",
      "▒···▒·▒·········▒·▒o▒o▒o▒···▒ooooo▒···▒·▒\n",
      "▒·▒▒▒·▒▒▒▒▒▒▒▒▒·▒·▒o▒o▒o▒▒▒·▒▒▒▒▒o▒▒▒▒▒·▒\n",
      "▒···▒···▒·▒···▒·▒·▒ooo▒ooo▒·····▒o▒ooo▒·▒\n",
      " ▒▒·▒▒▒·▒·▒·▒·▒·▒·▒▒▒▒▒▒▒o▒▒▒▒▒·▒o▒o▒o▒·▒\n",
      "▒·····▒·▒···▒···········▒ooooo▒·▒ooo▒o▒·▒\n",
      "▒·▒▒▒▒▒·▒▒▒▒▒▒▒▒▒▒▒▒▒▒▒·▒▒▒▒▒o▒▒▒▒▒▒▒o▒·▒\n",
      "▒·▒···▒·········▒···▒·▒·▒···▒o▒ooo▒ooo▒·▒\n",
      " ▒▒·▒·▒▒▒▒▒▒▒▒▒·▒·▒·▒·▒·▒·▒·▒o▒o▒o▒o▒▒▒▒ \n",
      "▒···▒···········▒·▒·▒·▒·▒·▒·▒ooo▒o▒o▒ooo▒\n",
      "▒·▒▒▒·▒▒▒▒▒▒▒▒▒▒▒·▒·▒·▒·▒·▒·▒▒▒▒▒o▒o▒o▒o▒\n",
      "▒·▒···▒···········▒·▒···▒·▒·····▒o▒ooo▒o▒\n",
      "▒·▒▒▒▒▒·▒▒▒▒▒▒▒▒▒▒▒·▒·▒▒▒·▒▒▒▒▒·▒o▒▒▒▒▒o▒\n",
      "▒·▒·····▒·········▒·▒···▒·▒·▒···▒o▒ooo▒o▒\n",
      "▒·▒·▒▒▒▒▒▒▒·▒▒▒▒▒·▒·▒▒▒▒▒·▒·▒·▒▒▒o▒o▒o▒o▒\n",
      "▒···▒·······▒···▒·▒·▒···▒·▒·▒·▒ooo▒o▒ooo▒\n",
      "▒·▒▒▒▒▒▒▒·▒▒▒·▒▒▒·▒·▒·▒·▒·▒·▒·▒o▒▒▒o▒▒▒·▒\n",
      "▒·········▒·······▒···▒·····▒··ooooo▒···▒\n",
      " ▒▒▒▒▒▒▒▒▒ ▒▒▒▒▒▒▒ ▒▒▒ ▒▒▒▒▒ ▒▒▒▒▒▒▒ ▒▒▒ \n"
     ]
    }
   ],
   "source": [
    "draw_grid(grid)"
   ]
  },
  {
   "cell_type": "markdown",
   "metadata": {},
   "source": [
    "# Part 2"
   ]
  },
  {
   "cell_type": "code",
   "execution_count": 26,
   "metadata": {
    "ExecuteTime": {
     "end_time": "2019-12-15T20:07:49.400975Z",
     "start_time": "2019-12-15T20:07:48.333605Z"
    }
   },
   "outputs": [],
   "source": [
    "# Start at the oxygen outlet and do a BFS\n",
    "start = target_pos\n",
    "grid = dict()\n",
    "grid[start] = 'O'\n",
    "_, _, dist, backtrack = bfs(start, m_at_target)"
   ]
  },
  {
   "cell_type": "code",
   "execution_count": 27,
   "metadata": {
    "ExecuteTime": {
     "end_time": "2019-12-15T20:07:49.890962Z",
     "start_time": "2019-12-15T20:07:49.872565Z"
    }
   },
   "outputs": [
    {
     "data": {
      "text/plain": [
       "368"
      ]
     },
     "execution_count": 27,
     "metadata": {},
     "output_type": "execute_result"
    }
   ],
   "source": [
    "max(dist.values())"
   ]
  },
  {
   "cell_type": "code",
   "execution_count": null,
   "metadata": {},
   "outputs": [],
   "source": []
  }
 ],
 "metadata": {
  "kernelspec": {
   "display_name": "Python 3",
   "language": "python",
   "name": "python3"
  },
  "language_info": {
   "codemirror_mode": {
    "name": "ipython",
    "version": 3
   },
   "file_extension": ".py",
   "mimetype": "text/x-python",
   "name": "python",
   "nbconvert_exporter": "python",
   "pygments_lexer": "ipython3",
   "version": "3.7.4"
  }
 },
 "nbformat": 4,
 "nbformat_minor": 2
}
