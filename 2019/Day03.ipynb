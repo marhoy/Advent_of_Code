{
 "cells": [
  {
   "cell_type": "code",
   "execution_count": null,
   "metadata": {},
   "outputs": [],
   "source": [
    "def manhattan(p1, p2=(0, 0)):\n",
    "    return abs(p1[0] - p2[0]) + abs(p1[1] - p2[1])"
   ]
  },
  {
   "cell_type": "code",
   "execution_count": null,
   "metadata": {},
   "outputs": [],
   "source": [
    "def move(point, direction):\n",
    "    if direction == 'R':\n",
    "        return (point[0], point[1] + 1)\n",
    "    if direction == 'L':\n",
    "        return (point[0], point[1] - 1)\n",
    "    if direction == 'U':\n",
    "        return (point[0] + 1, point[1])\n",
    "    if direction == 'D':\n",
    "        return (point[0] - 1, point[1])"
   ]
  },
  {
   "cell_type": "code",
   "execution_count": null,
   "metadata": {},
   "outputs": [],
   "source": [
    "def instr2coor(input_string):\n",
    "    coordinates = []\n",
    "    current = (0, 0)\n",
    "    for instruction in input_string.split(\",\"):\n",
    "        direction, moves = instruction[0], int(instruction[1:])\n",
    "        for _ in range(moves):\n",
    "            current = move(current, direction)\n",
    "            coordinates.append(current)\n",
    "    return coordinates"
   ]
  },
  {
   "cell_type": "code",
   "execution_count": null,
   "metadata": {},
   "outputs": [],
   "source": [
    "def closest_intersection(list1, list2, dist=manhattan):\n",
    "    return min(map(dist, set(list1) & set(list2)))"
   ]
  },
  {
   "cell_type": "code",
   "execution_count": null,
   "metadata": {},
   "outputs": [],
   "source": [
    "def fastest_intersection(list1, list2):\n",
    "    travel_times = [list1.index(p) + list2.index(p) for p in set(list1) & set(list2)]\n",
    "    return min(travel_times) + 2"
   ]
  },
  {
   "cell_type": "code",
   "execution_count": null,
   "metadata": {},
   "outputs": [],
   "source": [
    "# Tests\n",
    "wire1 = instr2coor(\"R8,U5,L5,D3\")\n",
    "wire2 = instr2coor(\"U7,R6,D4,L4\")\n",
    "assert closest_intersection(wire1, wire2) == 6\n",
    "assert fastest_intersection(wire1, wire2) == 30\n",
    "\n",
    "wire1 = instr2coor(\"R75,D30,R83,U83,L12,D49,R71,U7,L72\")\n",
    "wire2 = instr2coor(\"U62,R66,U55,R34,D71,R55,D58,R83\")\n",
    "assert closest_intersection(wire1, wire2) == 159\n",
    "assert fastest_intersection(wire1, wire2) == 610\n",
    "\n",
    "wire1 = instr2coor(\"R98,U47,R26,D63,R33,U87,L62,D20,R33,U53,R51\")\n",
    "wire2 = instr2coor(\"U98,R91,D20,R16,D67,R40,U7,R15,U6,R7\")\n",
    "assert closest_intersection(wire1, wire2) == 135\n",
    "assert fastest_intersection(wire1, wire2) == 410"
   ]
  },
  {
   "cell_type": "markdown",
   "metadata": {},
   "source": [
    "# Part 1"
   ]
  },
  {
   "cell_type": "code",
   "execution_count": null,
   "metadata": {},
   "outputs": [],
   "source": [
    "with open(\"day03.input\") as file:\n",
    "    wire1 = instr2coor(file.readline())\n",
    "    wire2 = instr2coor(file.readline())\n",
    "closest_intersection(wire1, wire2)"
   ]
  },
  {
   "cell_type": "markdown",
   "metadata": {},
   "source": [
    "# Part 2"
   ]
  },
  {
   "cell_type": "code",
   "execution_count": null,
   "metadata": {},
   "outputs": [],
   "source": [
    "with open(\"day03.input\") as file:\n",
    "    wire1 = instr2coor(file.readline())\n",
    "    wire2 = instr2coor(file.readline())\n",
    "fastest_intersection(wire1, wire2)"
   ]
  },
  {
   "cell_type": "code",
   "execution_count": null,
   "metadata": {},
   "outputs": [],
   "source": []
  }
 ],
 "metadata": {
  "kernelspec": {
   "display_name": "Python 3",
   "language": "python",
   "name": "python3"
  },
  "language_info": {
   "codemirror_mode": {
    "name": "ipython",
    "version": 3
   },
   "file_extension": ".py",
   "mimetype": "text/x-python",
   "name": "python",
   "nbconvert_exporter": "python",
   "pygments_lexer": "ipython3",
   "version": "3.7.4"
  },
  "toc": {
   "base_numbering": 1,
   "nav_menu": {},
   "number_sections": true,
   "sideBar": true,
   "skip_h1_title": false,
   "title_cell": "Table of Contents",
   "title_sidebar": "Contents",
   "toc_cell": false,
   "toc_position": {},
   "toc_section_display": true,
   "toc_window_display": false
  }
 },
 "nbformat": 4,
 "nbformat_minor": 2
}
