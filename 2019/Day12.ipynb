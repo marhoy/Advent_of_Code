{
 "cells": [
  {
   "cell_type": "code",
   "execution_count": 1,
   "metadata": {
    "ExecuteTime": {
     "end_time": "2019-12-12T06:28:25.333604Z",
     "start_time": "2019-12-12T06:28:25.323828Z"
    }
   },
   "outputs": [],
   "source": [
    "from dataclasses import dataclass\n",
    "import re"
   ]
  },
  {
   "cell_type": "code",
   "execution_count": 2,
   "metadata": {
    "ExecuteTime": {
     "end_time": "2019-12-12T06:28:25.356674Z",
     "start_time": "2019-12-12T06:28:25.337508Z"
    }
   },
   "outputs": [],
   "source": [
    "@dataclass\n",
    "class Vector:\n",
    "    x: int = 0\n",
    "    y: int = 0\n",
    "    z: int = 0\n",
    "\n",
    "@dataclass\n",
    "class Moon:\n",
    "    pos: Vector\n",
    "    vel: Vector = Vector()\n",
    "        \n",
    "    def energy(self):\n",
    "        pass"
   ]
  },
  {
   "cell_type": "code",
   "execution_count": 3,
   "metadata": {
    "ExecuteTime": {
     "end_time": "2019-12-12T06:28:25.368588Z",
     "start_time": "2019-12-12T06:28:25.360835Z"
    }
   },
   "outputs": [],
   "source": [
    "moons = []\n",
    "with open(\"day12-test1.input\") as file:\n",
    "    for line in file:\n",
    "        moon = Moon(pos=Vector(*map(int, re.findall(r\"=(-?\\d+)\", line))))\n",
    "        moons.append(moon)"
   ]
  },
  {
   "cell_type": "code",
   "execution_count": 4,
   "metadata": {
    "ExecuteTime": {
     "end_time": "2019-12-12T06:28:25.389636Z",
     "start_time": "2019-12-12T06:28:25.372661Z"
    }
   },
   "outputs": [
    {
     "data": {
      "text/plain": [
       "[Moon(pos=Vector(x=-1, y=0, z=2), vel=Vector(x=0, y=0, z=0)),\n",
       " Moon(pos=Vector(x=2, y=-10, z=-7), vel=Vector(x=0, y=0, z=0)),\n",
       " Moon(pos=Vector(x=4, y=-8, z=8), vel=Vector(x=0, y=0, z=0)),\n",
       " Moon(pos=Vector(x=3, y=5, z=-1), vel=Vector(x=0, y=0, z=0))]"
      ]
     },
     "execution_count": 4,
     "metadata": {},
     "output_type": "execute_result"
    }
   ],
   "source": [
    "moons"
   ]
  },
  {
   "cell_type": "code",
   "execution_count": null,
   "metadata": {},
   "outputs": [],
   "source": []
  }
 ],
 "metadata": {
  "kernelspec": {
   "display_name": "Python 3",
   "language": "python",
   "name": "python3"
  },
  "language_info": {
   "codemirror_mode": {
    "name": "ipython",
    "version": 3
   },
   "file_extension": ".py",
   "mimetype": "text/x-python",
   "name": "python",
   "nbconvert_exporter": "python",
   "pygments_lexer": "ipython3",
   "version": "3.7.4"
  }
 },
 "nbformat": 4,
 "nbformat_minor": 2
}
