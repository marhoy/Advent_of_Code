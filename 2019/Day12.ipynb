{
 "cells": [
  {
   "cell_type": "code",
   "execution_count": null,
   "metadata": {},
   "outputs": [],
   "source": [
    "from dataclasses import dataclass\n",
    "import itertools\n",
    "import re"
   ]
  },
  {
   "cell_type": "code",
   "execution_count": null,
   "metadata": {},
   "outputs": [],
   "source": [
    "@dataclass\n",
    "class Vector:\n",
    "    x: int = 0\n",
    "    y: int = 0\n",
    "    z: int = 0\n",
    "\n",
    "@dataclass\n",
    "class Moon:\n",
    "    pos: Vector\n",
    "    vel: Vector\n",
    "    \n",
    "    def __energy(self, attrib):\n",
    "        return sum([abs(getattr(attrib, axis)) for axis in 'xyz'])\n",
    "    \n",
    "    def energy(self):\n",
    "        return self.__energy(self.pos) * self.__energy(self.vel)"
   ]
  },
  {
   "cell_type": "code",
   "execution_count": null,
   "metadata": {},
   "outputs": [],
   "source": [
    "def parse_input(filename):\n",
    "    moons = []\n",
    "    with open(filename) as file:\n",
    "        for line in file:\n",
    "            moon = Moon(pos=Vector(*map(int, re.findall(r\"=(-?\\d+)\", line))),\n",
    "                        vel=Vector())\n",
    "            moons.append(moon)\n",
    "    return moons"
   ]
  },
  {
   "cell_type": "code",
   "execution_count": null,
   "metadata": {},
   "outputs": [],
   "source": [
    "def apply_gravity(moons):\n",
    "    for i, (m1, m2) in enumerate(itertools.combinations(moons, 2)):\n",
    "        for axis in 'xyz':\n",
    "            if getattr(m1.pos, axis) > getattr(m2.pos, axis):\n",
    "                setattr(m1.vel, axis, getattr(m1.vel, axis) - 1)\n",
    "                setattr(m2.vel, axis, getattr(m2.vel, axis) + 1)\n",
    "            elif getattr(m1.pos, axis) < getattr(m2.pos, axis):\n",
    "                setattr(m1.vel, axis, getattr(m1.vel, axis) + 1)\n",
    "                setattr(m2.vel, axis, getattr(m2.vel, axis) - 1)"
   ]
  },
  {
   "cell_type": "code",
   "execution_count": null,
   "metadata": {},
   "outputs": [],
   "source": [
    "def apply_velocity(moons):\n",
    "    for moon in moons:\n",
    "        for axis in 'xyz':\n",
    "            setattr(moon.pos, axis, getattr(moon.pos, axis) + getattr(moon.vel, axis))"
   ]
  },
  {
   "cell_type": "markdown",
   "metadata": {},
   "source": [
    "# Part 1"
   ]
  },
  {
   "cell_type": "code",
   "execution_count": null,
   "metadata": {},
   "outputs": [],
   "source": [
    "def part1(filename, steps=1000):\n",
    "    moons = parse_input(filename)\n",
    "    \n",
    "    for i in range(steps):\n",
    "        apply_gravity(moons)\n",
    "        apply_velocity(moons)\n",
    "        \n",
    "    return sum([moon.energy() for moon in moons])"
   ]
  },
  {
   "cell_type": "code",
   "execution_count": null,
   "metadata": {},
   "outputs": [],
   "source": [
    "# Tests\n",
    "assert part1(\"day12-test1.input\", 10) == 179\n",
    "assert part1(\"day12-test2.input\", 100) == 1940"
   ]
  },
  {
   "cell_type": "code",
   "execution_count": null,
   "metadata": {},
   "outputs": [],
   "source": [
    "part1(\"day12.input\")"
   ]
  },
  {
   "cell_type": "markdown",
   "metadata": {},
   "source": [
    "# Part 2"
   ]
  },
  {
   "cell_type": "markdown",
   "metadata": {},
   "source": [
    "Let S be the set of all states, and F: S -> S be the mapping from one state of the moons to the next (working as described in the problem statement). Notice that F is a bijection since we can easily calculate the inverse (the previous state from a state). Suppose F has a cycle (or the problem would not be solvable). Then the first repeating state must be the initial state, otherwise, F would not be one-to-one. Hence, F is periodic.\n",
    "\n",
    "The key is to notice that we can split F into axis components Fx, Fy, Fz, since a state of an axis is independent of states of all the other axes. Then the period length of F is the lowest common multiple of the period lengths of Fx, Fy, and Fz. So we just have to find independently the periods of Fx, Fy, and Fz which are hopefully much shorter than the period of F, and indeed they are shorter."
   ]
  },
  {
   "cell_type": "code",
   "execution_count": null,
   "metadata": {},
   "outputs": [],
   "source": [
    "from collections import defaultdict\n",
    "import math\n",
    "import functools"
   ]
  },
  {
   "cell_type": "code",
   "execution_count": null,
   "metadata": {},
   "outputs": [],
   "source": [
    "def get_state(moons):\n",
    "    \"\"\"Returns all values for the x-, y- and z-axis separately\"\"\"\n",
    "    state = defaultdict(list)\n",
    "    for axis in 'xyz':\n",
    "        for moon in moons:\n",
    "            state[axis].append(getattr(moon.pos, axis))\n",
    "            state[axis].append(getattr(moon.vel, axis))\n",
    "    return state"
   ]
  },
  {
   "cell_type": "code",
   "execution_count": null,
   "metadata": {},
   "outputs": [],
   "source": [
    "def lcm(a, b):\n",
    "    \"Returns the least common multiple of two numbers\"\n",
    "    return a * b // math.gcd(a, b)"
   ]
  },
  {
   "cell_type": "code",
   "execution_count": null,
   "metadata": {},
   "outputs": [],
   "source": [
    "def part2(filename):\n",
    "    moons = parse_input(filename)\n",
    "    initial_state = get_state(moons)\n",
    "\n",
    "    cycle_size = dict(zip('xyz', [False]*3))\n",
    "    for step in itertools.count(1):\n",
    "        apply_gravity(moons)\n",
    "        apply_velocity(moons)\n",
    "        state = get_state(moons)\n",
    "        for axis in state:\n",
    "            if not cycle_size[axis] and state[axis] == initial_state[axis]:\n",
    "                print(\"{}-axis has cycled: {}\".format(axis, step))\n",
    "                cycle_size[axis] = step\n",
    "        if all(cycle_size.values()):\n",
    "            break\n",
    "\n",
    "    return functools.reduce(lcm, cycle_size.values())"
   ]
  },
  {
   "cell_type": "code",
   "execution_count": null,
   "metadata": {},
   "outputs": [],
   "source": [
    "assert part2(\"day12-test1.input\") == 2772\n",
    "assert part2(\"day12-test2.input\") == 4686774924"
   ]
  },
  {
   "cell_type": "code",
   "execution_count": null,
   "metadata": {},
   "outputs": [],
   "source": [
    "part2(\"day12.input\")"
   ]
  }
 ],
 "metadata": {
  "kernelspec": {
   "display_name": "Python 3",
   "language": "python",
   "name": "python3"
  },
  "language_info": {
   "codemirror_mode": {
    "name": "ipython",
    "version": 3
   },
   "file_extension": ".py",
   "mimetype": "text/x-python",
   "name": "python",
   "nbconvert_exporter": "python",
   "pygments_lexer": "ipython3",
   "version": "3.7.4"
  },
  "toc": {
   "base_numbering": 1,
   "nav_menu": {},
   "number_sections": true,
   "sideBar": true,
   "skip_h1_title": false,
   "title_cell": "Table of Contents",
   "title_sidebar": "Contents",
   "toc_cell": false,
   "toc_position": {},
   "toc_section_display": true,
   "toc_window_display": false
  }
 },
 "nbformat": 4,
 "nbformat_minor": 2
}
