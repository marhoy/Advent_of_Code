{
 "cells": [
  {
   "cell_type": "code",
   "execution_count": 1,
   "metadata": {
    "ExecuteTime": {
     "end_time": "2019-12-12T19:01:55.842283Z",
     "start_time": "2019-12-12T19:01:55.834273Z"
    }
   },
   "outputs": [],
   "source": [
    "from dataclasses import dataclass\n",
    "import itertools\n",
    "import re"
   ]
  },
  {
   "cell_type": "code",
   "execution_count": 2,
   "metadata": {
    "ExecuteTime": {
     "end_time": "2019-12-12T19:01:55.854402Z",
     "start_time": "2019-12-12T19:01:55.846113Z"
    }
   },
   "outputs": [],
   "source": [
    "@dataclass\n",
    "class Vector:\n",
    "    x: int = 0\n",
    "    y: int = 0\n",
    "    z: int = 0\n",
    "\n",
    "@dataclass\n",
    "class Moon:\n",
    "    pos: Vector\n",
    "    vel: Vector\n",
    "    \n",
    "    def __energy(self, attrib):\n",
    "        value = 0\n",
    "        for axis in 'xyz':\n",
    "            value += abs(getattr(attrib, axis))\n",
    "        return value\n",
    "    \n",
    "    def energy(self):\n",
    "        return self.__energy(self.pos) * self.__energy(self.vel)"
   ]
  },
  {
   "cell_type": "code",
   "execution_count": 3,
   "metadata": {
    "ExecuteTime": {
     "end_time": "2019-12-12T19:01:55.868669Z",
     "start_time": "2019-12-12T19:01:55.858470Z"
    }
   },
   "outputs": [],
   "source": [
    "def parse_input(filename):\n",
    "    moons = []\n",
    "    with open(filename) as file:\n",
    "        for line in file:\n",
    "            moon = Moon(pos=Vector(*map(int, re.findall(r\"=(-?\\d+)\", line))),\n",
    "                        vel=Vector())\n",
    "            moons.append(moon)\n",
    "    return moons"
   ]
  },
  {
   "cell_type": "code",
   "execution_count": 4,
   "metadata": {
    "ExecuteTime": {
     "end_time": "2019-12-12T19:01:55.894458Z",
     "start_time": "2019-12-12T19:01:55.872124Z"
    }
   },
   "outputs": [],
   "source": [
    "def apply_gravity(moons):\n",
    "    for i, (m1, m2) in enumerate(itertools.combinations(moons, 2)):\n",
    "        for axis in 'xyz':\n",
    "            if getattr(m1.pos, axis) > getattr(m2.pos, axis):\n",
    "                setattr(m1.vel, axis, getattr(m1.vel, axis) - 1)\n",
    "                setattr(m2.vel, axis, getattr(m2.vel, axis) + 1)\n",
    "            elif getattr(m1.pos, axis) < getattr(m2.pos, axis):\n",
    "                setattr(m1.vel, axis, getattr(m1.vel, axis) + 1)\n",
    "                setattr(m2.vel, axis, getattr(m2.vel, axis) - 1)"
   ]
  },
  {
   "cell_type": "code",
   "execution_count": 5,
   "metadata": {
    "ExecuteTime": {
     "end_time": "2019-12-12T19:01:55.908939Z",
     "start_time": "2019-12-12T19:01:55.901916Z"
    }
   },
   "outputs": [],
   "source": [
    "def apply_velocity(moons):\n",
    "    for moon in moons:\n",
    "        for axis in 'xyz':\n",
    "            setattr(moon.pos, axis, getattr(moon.pos, axis) + getattr(moon.vel, axis))"
   ]
  },
  {
   "cell_type": "markdown",
   "metadata": {},
   "source": [
    "# Part 1"
   ]
  },
  {
   "cell_type": "code",
   "execution_count": 6,
   "metadata": {
    "ExecuteTime": {
     "end_time": "2019-12-12T19:01:55.921699Z",
     "start_time": "2019-12-12T19:01:55.915989Z"
    }
   },
   "outputs": [],
   "source": [
    "moons = parse_input(\"day12.input\")"
   ]
  },
  {
   "cell_type": "code",
   "execution_count": 7,
   "metadata": {
    "ExecuteTime": {
     "end_time": "2019-12-12T19:01:55.983550Z",
     "start_time": "2019-12-12T19:01:55.942497Z"
    }
   },
   "outputs": [],
   "source": [
    "for i in range(1000):\n",
    "    apply_gravity(moons)\n",
    "    apply_velocity(moons)"
   ]
  },
  {
   "cell_type": "code",
   "execution_count": 8,
   "metadata": {
    "ExecuteTime": {
     "end_time": "2019-12-12T19:01:55.998174Z",
     "start_time": "2019-12-12T19:01:55.986680Z"
    }
   },
   "outputs": [
    {
     "data": {
      "text/plain": [
       "10055"
      ]
     },
     "execution_count": 8,
     "metadata": {},
     "output_type": "execute_result"
    }
   ],
   "source": [
    "total_energy = sum([moon.energy() for moon in moons])\n",
    "total_energy"
   ]
  },
  {
   "cell_type": "markdown",
   "metadata": {},
   "source": [
    "# Part 2"
   ]
  },
  {
   "cell_type": "markdown",
   "metadata": {},
   "source": [
    "Let S be the set of all states, and F: S -> S be the mapping from one state of the moons to the next (working as described in the problem statement). Notice that F is a bijection since we can easily calculate the inverse (the previous state from a state). Suppose F has a cycle (or the problem would not be solvable). Then the first repeating state must be the initial state, otherwise, F would not be one-to-one. Hence, F is periodic.\n",
    "\n",
    "The key is to notice that we can split F into axis components Fx, Fy, Fz, since a state of an axis is independent of states of all the other axes. Then the period length of F is the lowest common multiple of the period lengths of Fx, Fy, and Fz. So we just have to find independently the periods of Fx, Fy, and Fz which are hopefully much shorter than the period of F, and indeed they are shorter."
   ]
  },
  {
   "cell_type": "code",
   "execution_count": 9,
   "metadata": {
    "ExecuteTime": {
     "end_time": "2019-12-12T19:01:56.017672Z",
     "start_time": "2019-12-12T19:01:56.013876Z"
    }
   },
   "outputs": [],
   "source": [
    "from copy import copy\n",
    "from collections import defaultdict\n",
    "import math\n",
    "import functools"
   ]
  },
  {
   "cell_type": "code",
   "execution_count": 10,
   "metadata": {
    "ExecuteTime": {
     "end_time": "2019-12-12T19:01:56.036879Z",
     "start_time": "2019-12-12T19:01:56.020379Z"
    }
   },
   "outputs": [],
   "source": [
    "def get_state(moons):\n",
    "    \"\"\"Returns all values for the x-, y- and z-axis separately\"\"\"\n",
    "    state = defaultdict(list)\n",
    "    for axis in 'xyz':\n",
    "        for moon in moons:\n",
    "            state[axis].append(getattr(moon.pos, axis))\n",
    "            state[axis].append(getattr(moon.vel, axis))\n",
    "    return state"
   ]
  },
  {
   "cell_type": "code",
   "execution_count": 11,
   "metadata": {
    "ExecuteTime": {
     "end_time": "2019-12-12T19:01:56.049611Z",
     "start_time": "2019-12-12T19:01:56.042273Z"
    }
   },
   "outputs": [],
   "source": [
    "def lcm(a, b):\n",
    "    \"Returns the least common multiple of two numbers\"\n",
    "    return a * b // math.gcd(a, b)"
   ]
  },
  {
   "cell_type": "code",
   "execution_count": 12,
   "metadata": {
    "ExecuteTime": {
     "end_time": "2019-12-12T19:01:56.072756Z",
     "start_time": "2019-12-12T19:01:56.053344Z"
    }
   },
   "outputs": [
    {
     "data": {
      "text/plain": [
       "defaultdict(list,\n",
       "            {'x': [16, 0, 0, 0, 6, 0, -3, 0],\n",
       "             'y': [-11, 0, -4, 0, 4, 0, -2, 0],\n",
       "             'z': [2, 0, 7, 0, -10, 0, -4, 0]})"
      ]
     },
     "execution_count": 12,
     "metadata": {},
     "output_type": "execute_result"
    }
   ],
   "source": [
    "moons = parse_input(\"day12.input\")\n",
    "initial_state = get_state(moons)\n",
    "initial_state"
   ]
  },
  {
   "cell_type": "code",
   "execution_count": 13,
   "metadata": {
    "ExecuteTime": {
     "end_time": "2019-12-12T19:02:05.189927Z",
     "start_time": "2019-12-12T19:01:56.074906Z"
    }
   },
   "outputs": [
    {
     "name": "stdout",
     "output_type": "stream",
     "text": [
      "y-axis has cycled: 108344\n",
      "z-axis has cycled: 193052\n",
      "x-axis has cycled: 286332\n"
     ]
    }
   ],
   "source": [
    "cycle_size = dict(zip('xyz', [0]*3))\n",
    "\n",
    "for step in itertools.count(1):\n",
    "    apply_gravity(moons)\n",
    "    apply_velocity(moons)\n",
    "    state = get_state(moons)\n",
    "    for axis in state:\n",
    "        if not cycle_size[axis] and state[axis] == initial_state[axis]:\n",
    "            print(\"{}-axis has cycled: {}\".format(axis, step))\n",
    "            cycle_size[axis] = step\n",
    "    if all(cycle_size.values()):\n",
    "        break"
   ]
  },
  {
   "cell_type": "code",
   "execution_count": 14,
   "metadata": {
    "ExecuteTime": {
     "end_time": "2019-12-12T19:02:05.199958Z",
     "start_time": "2019-12-12T19:02:05.193323Z"
    }
   },
   "outputs": [
    {
     "data": {
      "text/plain": [
       "374307970285176"
      ]
     },
     "execution_count": 14,
     "metadata": {},
     "output_type": "execute_result"
    }
   ],
   "source": [
    "functools.reduce(lcm, cycle_size.values())"
   ]
  },
  {
   "cell_type": "code",
   "execution_count": null,
   "metadata": {},
   "outputs": [],
   "source": []
  }
 ],
 "metadata": {
  "kernelspec": {
   "display_name": "Python 3",
   "language": "python",
   "name": "python3"
  },
  "language_info": {
   "codemirror_mode": {
    "name": "ipython",
    "version": 3
   },
   "file_extension": ".py",
   "mimetype": "text/x-python",
   "name": "python",
   "nbconvert_exporter": "python",
   "pygments_lexer": "ipython3",
   "version": "3.7.4"
  },
  "toc": {
   "base_numbering": 1,
   "nav_menu": {},
   "number_sections": true,
   "sideBar": true,
   "skip_h1_title": false,
   "title_cell": "Table of Contents",
   "title_sidebar": "Contents",
   "toc_cell": false,
   "toc_position": {},
   "toc_section_display": true,
   "toc_window_display": false
  }
 },
 "nbformat": 4,
 "nbformat_minor": 2
}
