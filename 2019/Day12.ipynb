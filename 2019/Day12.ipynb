{
 "cells": [
  {
   "cell_type": "code",
   "execution_count": 1,
   "metadata": {
    "ExecuteTime": {
     "end_time": "2019-12-12T08:38:12.800954Z",
     "start_time": "2019-12-12T08:38:12.791979Z"
    }
   },
   "outputs": [],
   "source": [
    "from dataclasses import dataclass\n",
    "import itertools\n",
    "import re"
   ]
  },
  {
   "cell_type": "code",
   "execution_count": 18,
   "metadata": {
    "ExecuteTime": {
     "end_time": "2019-12-12T08:43:11.939917Z",
     "start_time": "2019-12-12T08:43:11.929943Z"
    }
   },
   "outputs": [],
   "source": [
    "@dataclass\n",
    "class Vector:\n",
    "    x: int = 0\n",
    "    y: int = 0\n",
    "    z: int = 0\n",
    "\n",
    "@dataclass\n",
    "class Moon:\n",
    "    pos: Vector\n",
    "    vel: Vector\n",
    "    delta_v: Vector\n",
    "    \n",
    "    def kin(self):\n",
    "        value = 0\n",
    "        for axis in 'xyz':\n",
    "            value += abs(getattr(self.vel, axis))\n",
    "        return value\n",
    "    \n",
    "    def pot(self):\n",
    "        value = 0\n",
    "        for axis in 'xyz':\n",
    "            value += abs(getattr(self.pos, axis))\n",
    "        return value\n",
    "\n",
    "    def energy(self):\n",
    "        return self.pot() * self.kin()"
   ]
  },
  {
   "cell_type": "code",
   "execution_count": 44,
   "metadata": {
    "ExecuteTime": {
     "end_time": "2019-12-12T14:21:29.340301Z",
     "start_time": "2019-12-12T14:21:29.329329Z"
    }
   },
   "outputs": [],
   "source": [
    "def apply_gravity(moons):\n",
    "    for moon in moons:\n",
    "        moon.delta_v = Vector()\n",
    "\n",
    "    for m1, m2 in itertools.combinations(moons, 2):\n",
    "        for axis in 'xyz':\n",
    "            if getattr(m1.pos, axis) > getattr(m2.pos, axis):\n",
    "                setattr(m1.vel, axis, getattr(m1.vel, axis) - 1)\n",
    "                setattr(m2.vel, axis, getattr(m1.vel, axis) + 1)\n",
    "            elif getattr(m1.pos, axis) < getattr(m2.pos, axis):\n",
    "                setattr(m1.vel, axis, getattr(m1.vel, axis) + 1)\n",
    "                setattr(m2.vel, axis, getattr(m1.vel, axis) - 1)"
   ]
  },
  {
   "cell_type": "code",
   "execution_count": 45,
   "metadata": {
    "ExecuteTime": {
     "end_time": "2019-12-12T14:21:30.743647Z",
     "start_time": "2019-12-12T14:21:30.736666Z"
    }
   },
   "outputs": [],
   "source": [
    "def apply_velocity(moons):\n",
    "    for moon in moons:\n",
    "        for axis in 'xyz':\n",
    "            setattr(moon.pos, axis, getattr(moon.pos, axis) + getattr(moon.vel, axis))"
   ]
  },
  {
   "cell_type": "markdown",
   "metadata": {},
   "source": [
    "# Part 1"
   ]
  },
  {
   "cell_type": "code",
   "execution_count": 50,
   "metadata": {
    "ExecuteTime": {
     "end_time": "2019-12-12T14:21:43.721437Z",
     "start_time": "2019-12-12T14:21:43.713454Z"
    }
   },
   "outputs": [],
   "source": [
    "moons = []\n",
    "with open(\"day12.input\") as file:\n",
    "    for line in file:\n",
    "        moon = Moon(pos=Vector(*map(int, re.findall(r\"=(-?\\d+)\", line))),\n",
    "                    vel=Vector(),\n",
    "                    delta_v=Vector())\n",
    "        moons.append(moon)"
   ]
  },
  {
   "cell_type": "code",
   "execution_count": 51,
   "metadata": {
    "ExecuteTime": {
     "end_time": "2019-12-12T14:21:44.131343Z",
     "start_time": "2019-12-12T14:21:44.064520Z"
    }
   },
   "outputs": [],
   "source": [
    "for i in range(1000):\n",
    "    apply_gravity(moons)\n",
    "    apply_velocity(moons)"
   ]
  },
  {
   "cell_type": "code",
   "execution_count": 52,
   "metadata": {
    "ExecuteTime": {
     "end_time": "2019-12-12T14:21:44.953574Z",
     "start_time": "2019-12-12T14:21:44.944599Z"
    }
   },
   "outputs": [
    {
     "data": {
      "text/plain": [
       "[Moon(pos=Vector(x=-118, y=80, z=25), vel=Vector(x=16, y=-2, z=-4), delta_v=Vector(x=3, y=-3, z=-3)),\n",
       " Moon(pos=Vector(x=52, y=-46, z=7), vel=Vector(x=-5, y=-10, z=9), delta_v=Vector(x=-1, y=1, z=-1)),\n",
       " Moon(pos=Vector(x=22, y=2, z=-14), vel=Vector(x=-9, y=10, z=4), delta_v=Vector(x=1, y=-1, z=3)),\n",
       " Moon(pos=Vector(x=63, y=-49, z=-23), vel=Vector(x=-2, y=2, z=-9), delta_v=Vector(x=-3, y=3, z=1))]"
      ]
     },
     "execution_count": 52,
     "metadata": {},
     "output_type": "execute_result"
    }
   ],
   "source": [
    "moons"
   ]
  },
  {
   "cell_type": "code",
   "execution_count": 53,
   "metadata": {
    "ExecuteTime": {
     "end_time": "2019-12-12T14:21:45.240810Z",
     "start_time": "2019-12-12T14:21:45.233828Z"
    }
   },
   "outputs": [
    {
     "data": {
      "text/plain": [
       "10055"
      ]
     },
     "execution_count": 53,
     "metadata": {},
     "output_type": "execute_result"
    }
   ],
   "source": [
    "total_energy = sum([moon.energy() for moon in moons])\n",
    "total_energy"
   ]
  },
  {
   "cell_type": "markdown",
   "metadata": {},
   "source": [
    "# Part 2"
   ]
  },
  {
   "cell_type": "code",
   "execution_count": 159,
   "metadata": {
    "ExecuteTime": {
     "end_time": "2019-12-12T15:01:57.383630Z",
     "start_time": "2019-12-12T15:01:57.379638Z"
    }
   },
   "outputs": [],
   "source": [
    "from copy import copy"
   ]
  },
  {
   "cell_type": "code",
   "execution_count": 160,
   "metadata": {
    "ExecuteTime": {
     "end_time": "2019-12-12T15:01:57.753544Z",
     "start_time": "2019-12-12T15:01:57.748558Z"
    }
   },
   "outputs": [],
   "source": [
    "have_cycled = [None]*len(moons)"
   ]
  },
  {
   "cell_type": "code",
   "execution_count": 161,
   "metadata": {
    "ExecuteTime": {
     "end_time": "2019-12-12T15:01:58.161456Z",
     "start_time": "2019-12-12T15:01:58.150485Z"
    }
   },
   "outputs": [],
   "source": [
    "moons = []\n",
    "with open(\"day12.input\") as file:\n",
    "    for line in file:\n",
    "        moon = Moon(pos=Vector(*map(int, re.findall(r\"=(-?\\d+)\", line))),\n",
    "                    vel=Vector(),\n",
    "                    delta_v=Vector())\n",
    "        moons.append(moon)"
   ]
  },
  {
   "cell_type": "code",
   "execution_count": 162,
   "metadata": {
    "ExecuteTime": {
     "end_time": "2019-12-12T15:01:58.633197Z",
     "start_time": "2019-12-12T15:01:58.628208Z"
    }
   },
   "outputs": [],
   "source": [
    "for moon in moons:\n",
    "    moon.initial_pos = copy(moon.pos)"
   ]
  },
  {
   "cell_type": "code",
   "execution_count": 163,
   "metadata": {
    "ExecuteTime": {
     "end_time": "2019-12-12T15:02:19.352751Z",
     "start_time": "2019-12-12T15:01:59.334136Z"
    }
   },
   "outputs": [
    {
     "name": "stdout",
     "output_type": "stream",
     "text": [
      "At step 0\n",
      "At step 50000\n",
      "At step 100000\n",
      "At step 150000\n",
      "At step 200000\n",
      "At step 250000\n",
      "At step 300000\n",
      "At step 350000\n"
     ]
    },
    {
     "ename": "KeyboardInterrupt",
     "evalue": "",
     "output_type": "error",
     "traceback": [
      "\u001b[1;31m---------------------------------------------------------------------------\u001b[0m",
      "\u001b[1;31mKeyboardInterrupt\u001b[0m                         Traceback (most recent call last)",
      "\u001b[1;32m<ipython-input-163-932d9f8ee5e7>\u001b[0m in \u001b[0;36m<module>\u001b[1;34m\u001b[0m\n\u001b[0;32m      4\u001b[0m         \u001b[0mprint\u001b[0m\u001b[1;33m(\u001b[0m\u001b[1;34m\"At step\"\u001b[0m\u001b[1;33m,\u001b[0m \u001b[0msteps\u001b[0m\u001b[1;33m)\u001b[0m\u001b[1;33m\u001b[0m\u001b[1;33m\u001b[0m\u001b[0m\n\u001b[0;32m      5\u001b[0m     \u001b[0msteps\u001b[0m \u001b[1;33m+=\u001b[0m \u001b[1;36m1\u001b[0m\u001b[1;33m\u001b[0m\u001b[1;33m\u001b[0m\u001b[0m\n\u001b[1;32m----> 6\u001b[1;33m     \u001b[0mapply_gravity\u001b[0m\u001b[1;33m(\u001b[0m\u001b[0mmoons\u001b[0m\u001b[1;33m)\u001b[0m\u001b[1;33m\u001b[0m\u001b[1;33m\u001b[0m\u001b[0m\n\u001b[0m\u001b[0;32m      7\u001b[0m     \u001b[0mapply_velocity\u001b[0m\u001b[1;33m(\u001b[0m\u001b[0mmoons\u001b[0m\u001b[1;33m)\u001b[0m\u001b[1;33m\u001b[0m\u001b[1;33m\u001b[0m\u001b[0m\n\u001b[0;32m      8\u001b[0m     \u001b[1;32mfor\u001b[0m \u001b[0mi\u001b[0m\u001b[1;33m,\u001b[0m \u001b[0mmoon\u001b[0m \u001b[1;32min\u001b[0m \u001b[0menumerate\u001b[0m\u001b[1;33m(\u001b[0m\u001b[0mmoons\u001b[0m\u001b[1;33m)\u001b[0m\u001b[1;33m:\u001b[0m\u001b[1;33m\u001b[0m\u001b[1;33m\u001b[0m\u001b[0m\n",
      "\u001b[1;32m<ipython-input-49-4f2f42a481a9>\u001b[0m in \u001b[0;36mapply_gravity\u001b[1;34m(moons)\u001b[0m\n\u001b[0;32m      9\u001b[0m                 \u001b[0msetattr\u001b[0m\u001b[1;33m(\u001b[0m\u001b[0mm2\u001b[0m\u001b[1;33m.\u001b[0m\u001b[0mdelta_v\u001b[0m\u001b[1;33m,\u001b[0m \u001b[0maxis\u001b[0m\u001b[1;33m,\u001b[0m \u001b[0mgetattr\u001b[0m\u001b[1;33m(\u001b[0m\u001b[0mm2\u001b[0m\u001b[1;33m.\u001b[0m\u001b[0mdelta_v\u001b[0m\u001b[1;33m,\u001b[0m \u001b[0maxis\u001b[0m\u001b[1;33m)\u001b[0m \u001b[1;33m+\u001b[0m \u001b[1;36m1\u001b[0m\u001b[1;33m)\u001b[0m\u001b[1;33m\u001b[0m\u001b[1;33m\u001b[0m\u001b[0m\n\u001b[0;32m     10\u001b[0m             \u001b[1;32melif\u001b[0m \u001b[0mgetattr\u001b[0m\u001b[1;33m(\u001b[0m\u001b[0mm1\u001b[0m\u001b[1;33m.\u001b[0m\u001b[0mpos\u001b[0m\u001b[1;33m,\u001b[0m \u001b[0maxis\u001b[0m\u001b[1;33m)\u001b[0m \u001b[1;33m<\u001b[0m \u001b[0mgetattr\u001b[0m\u001b[1;33m(\u001b[0m\u001b[0mm2\u001b[0m\u001b[1;33m.\u001b[0m\u001b[0mpos\u001b[0m\u001b[1;33m,\u001b[0m \u001b[0maxis\u001b[0m\u001b[1;33m)\u001b[0m\u001b[1;33m:\u001b[0m\u001b[1;33m\u001b[0m\u001b[1;33m\u001b[0m\u001b[0m\n\u001b[1;32m---> 11\u001b[1;33m                 \u001b[0msetattr\u001b[0m\u001b[1;33m(\u001b[0m\u001b[0mm1\u001b[0m\u001b[1;33m.\u001b[0m\u001b[0mdelta_v\u001b[0m\u001b[1;33m,\u001b[0m \u001b[0maxis\u001b[0m\u001b[1;33m,\u001b[0m \u001b[0mgetattr\u001b[0m\u001b[1;33m(\u001b[0m\u001b[0mm1\u001b[0m\u001b[1;33m.\u001b[0m\u001b[0mdelta_v\u001b[0m\u001b[1;33m,\u001b[0m \u001b[0maxis\u001b[0m\u001b[1;33m)\u001b[0m \u001b[1;33m+\u001b[0m \u001b[1;36m1\u001b[0m\u001b[1;33m)\u001b[0m\u001b[1;33m\u001b[0m\u001b[1;33m\u001b[0m\u001b[0m\n\u001b[0m\u001b[0;32m     12\u001b[0m                 \u001b[0msetattr\u001b[0m\u001b[1;33m(\u001b[0m\u001b[0mm2\u001b[0m\u001b[1;33m.\u001b[0m\u001b[0mdelta_v\u001b[0m\u001b[1;33m,\u001b[0m \u001b[0maxis\u001b[0m\u001b[1;33m,\u001b[0m \u001b[0mgetattr\u001b[0m\u001b[1;33m(\u001b[0m\u001b[0mm2\u001b[0m\u001b[1;33m.\u001b[0m\u001b[0mdelta_v\u001b[0m\u001b[1;33m,\u001b[0m \u001b[0maxis\u001b[0m\u001b[1;33m)\u001b[0m \u001b[1;33m-\u001b[0m \u001b[1;36m1\u001b[0m\u001b[1;33m)\u001b[0m\u001b[1;33m\u001b[0m\u001b[1;33m\u001b[0m\u001b[0m\n\u001b[0;32m     13\u001b[0m \u001b[1;33m\u001b[0m\u001b[0m\n",
      "\u001b[1;31mKeyboardInterrupt\u001b[0m: "
     ]
    }
   ],
   "source": [
    "steps = 0\n",
    "while not all(have_cycled):\n",
    "    if (steps % 50000) == 0:\n",
    "        print(\"At step\", steps)\n",
    "    steps += 1\n",
    "    apply_gravity(moons)\n",
    "    apply_velocity(moons)\n",
    "    for i, moon in enumerate(moons):\n",
    "        if have_cycled[i]:\n",
    "            continue\n",
    "        if (moon.pos == moon.initial_pos) and moon.vel == Vector():\n",
    "            print(\"Moon {} has cycled: {}\".format(i, steps))\n",
    "            have_cycled[i] = steps\n"
   ]
  },
  {
   "cell_type": "code",
   "execution_count": 137,
   "metadata": {
    "ExecuteTime": {
     "end_time": "2019-12-12T14:40:59.042738Z",
     "start_time": "2019-12-12T14:40:59.036755Z"
    }
   },
   "outputs": [
    {
     "data": {
      "text/plain": [
       "[924, 2772, 2772, 924]"
      ]
     },
     "execution_count": 137,
     "metadata": {},
     "output_type": "execute_result"
    }
   ],
   "source": [
    "have_cycled"
   ]
  },
  {
   "cell_type": "code",
   "execution_count": null,
   "metadata": {},
   "outputs": [],
   "source": [
    "<x=16, y=-11, z=2>\n",
    "<x=0, y=-4, z=7>\n",
    "<x=6, y=4, z=-10>\n",
    "<x=-3, y=-2, z=-4>"
   ]
  },
  {
   "cell_type": "code",
   "execution_count": 152,
   "metadata": {
    "ExecuteTime": {
     "end_time": "2019-12-12T15:00:45.504754Z",
     "start_time": "2019-12-12T15:00:17.589025Z"
    }
   },
   "outputs": [
    {
     "name": "stdout",
     "output_type": "stream",
     "text": [
      "10055\n",
      "38777942760\n"
     ]
    }
   ],
   "source": [
    "import numpy as np\n",
    "from sympy import lcm\n",
    "moons = np.array([[16, -11, 2],[0, -4, 7],[6, 4, -10],[-3, -2, -4]])\n",
    "velocity = moons*0\n",
    "\n",
    "def calcVel(positions):\n",
    "    vel = []\n",
    "    for moon in positions:\n",
    "        a = moons*0\n",
    "        a += moon-moons < 0\n",
    "        a -= moon-moons > 0\n",
    "        vel.append (np.sum(a,axis=0).tolist())\n",
    "    return vel\n",
    "\n",
    "# part 1\n",
    "for _ in range(1000):\n",
    "    velocity += calcVel(moons)\n",
    "    moons += velocity\n",
    "print (np.sum( np.sum(np.abs(moons),axis=1)*np.sum(np.abs(velocity),axis=1) ))\n",
    "\n",
    "# part 2\n",
    "moons = np.array([[16, -11, 2],[0, -4, 7],[6, 4, 10],[-3, -2, -4]])\n",
    "velocity = moons*0\n",
    "uniqueX, uniqueY, uniqueZ = set(), set(), set()\n",
    "addX, addY, addZ = True, True, True\n",
    "while addX or addY or addZ:\n",
    "    mn = [m.tobytes() for m in moons.T]\n",
    "    x, y, z = [v.tobytes()+m for v,m in zip(velocity.T,mn)]\n",
    "    velocity += calcVel(moons)\n",
    "    moons += velocity\n",
    "    if addX and x not in uniqueX:\n",
    "        uniqueX.add(x)\n",
    "    else:\n",
    "        addX = False\n",
    "    if addY and y not in uniqueY:\n",
    "        uniqueY.add(y)\n",
    "    else:\n",
    "        addY = False\n",
    "    if addZ and z not in uniqueZ:\n",
    "        uniqueZ.add(z)\n",
    "    else:\n",
    "        addZ = False\n",
    "print (lcm([len(uniqueX),len(uniqueY),len(uniqueZ)]))"
   ]
  },
  {
   "cell_type": "code",
   "execution_count": 167,
   "metadata": {
    "ExecuteTime": {
     "end_time": "2019-12-12T15:04:14.536754Z",
     "start_time": "2019-12-12T15:04:14.530770Z"
    }
   },
   "outputs": [
    {
     "data": {
      "text/plain": [
       "286332"
      ]
     },
     "execution_count": 167,
     "metadata": {},
     "output_type": "execute_result"
    }
   ],
   "source": [
    "len(uniqueX)"
   ]
  },
  {
   "cell_type": "code",
   "execution_count": 165,
   "metadata": {
    "ExecuteTime": {
     "end_time": "2019-12-12T15:04:02.508334Z",
     "start_time": "2019-12-12T15:04:02.501352Z"
    }
   },
   "outputs": [
    {
     "data": {
      "text/plain": [
       "108344"
      ]
     },
     "execution_count": 165,
     "metadata": {},
     "output_type": "execute_result"
    }
   ],
   "source": [
    "len(uniqueY)"
   ]
  },
  {
   "cell_type": "code",
   "execution_count": 171,
   "metadata": {
    "ExecuteTime": {
     "end_time": "2019-12-12T15:05:24.681208Z",
     "start_time": "2019-12-12T15:05:24.675223Z"
    }
   },
   "outputs": [
    {
     "data": {
      "text/plain": [
       "120"
      ]
     },
     "execution_count": 171,
     "metadata": {},
     "output_type": "execute_result"
    }
   ],
   "source": [
    "len(uniqueZ)"
   ]
  },
  {
   "cell_type": "code",
   "execution_count": 172,
   "metadata": {
    "ExecuteTime": {
     "end_time": "2019-12-12T15:05:25.453149Z",
     "start_time": "2019-12-12T15:05:25.446168Z"
    }
   },
   "outputs": [
    {
     "data": {
      "text/latex": [
       "$\\displaystyle 6$"
      ],
      "text/plain": [
       "6"
      ]
     },
     "execution_count": 172,
     "metadata": {},
     "output_type": "execute_result"
    }
   ],
   "source": [
    "lcm([2, 3])"
   ]
  },
  {
   "cell_type": "code",
   "execution_count": 168,
   "metadata": {
    "ExecuteTime": {
     "end_time": "2019-12-12T15:04:31.851228Z",
     "start_time": "2019-12-12T15:04:31.845244Z"
    }
   },
   "outputs": [
    {
     "data": {
      "text/plain": [
       "3722682504960"
      ]
     },
     "execution_count": 168,
     "metadata": {},
     "output_type": "execute_result"
    }
   ],
   "source": [
    "286332*108344*120"
   ]
  },
  {
   "cell_type": "code",
   "execution_count": null,
   "metadata": {},
   "outputs": [],
   "source": []
  },
  {
   "cell_type": "code",
   "execution_count": null,
   "metadata": {},
   "outputs": [],
   "source": []
  }
 ],
 "metadata": {
  "kernelspec": {
   "display_name": "Python 3",
   "language": "python",
   "name": "python3"
  },
  "language_info": {
   "codemirror_mode": {
    "name": "ipython",
    "version": 3
   },
   "file_extension": ".py",
   "mimetype": "text/x-python",
   "name": "python",
   "nbconvert_exporter": "python",
   "pygments_lexer": "ipython3",
   "version": "3.7.4"
  },
  "toc": {
   "base_numbering": 1,
   "nav_menu": {},
   "number_sections": true,
   "sideBar": true,
   "skip_h1_title": false,
   "title_cell": "Table of Contents",
   "title_sidebar": "Contents",
   "toc_cell": false,
   "toc_position": {},
   "toc_section_display": true,
   "toc_window_display": false
  }
 },
 "nbformat": 4,
 "nbformat_minor": 2
}
