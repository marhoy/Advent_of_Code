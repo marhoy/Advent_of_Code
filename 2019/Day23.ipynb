{
 "cells": [
  {
   "cell_type": "code",
   "execution_count": null,
   "metadata": {},
   "outputs": [],
   "source": [
    "from intcode import Machine\n",
    "import logging"
   ]
  },
  {
   "cell_type": "code",
   "execution_count": null,
   "metadata": {},
   "outputs": [],
   "source": [
    "with open(\"day23.input\") as file:\n",
    "    prog = file.readline().strip()"
   ]
  },
  {
   "cell_type": "code",
   "execution_count": null,
   "metadata": {},
   "outputs": [],
   "source": [
    "def create_computers(N):\n",
    "    computers = list()\n",
    "    for i in range(N):\n",
    "        m = Machine(prog, machine_id=i, loglevel=logging.WARNING)\n",
    "        m.add_input(i)\n",
    "        m.run()\n",
    "        computers.append(m)\n",
    "    return computers"
   ]
  },
  {
   "cell_type": "markdown",
   "metadata": {},
   "source": [
    "# Part 1 "
   ]
  },
  {
   "cell_type": "code",
   "execution_count": null,
   "metadata": {},
   "outputs": [],
   "source": [
    "def part1(computers):\n",
    "    while True:\n",
    "        for c in computers:\n",
    "            if not c._inputs:\n",
    "                c.add_input(-1)\n",
    "            c.run()\n",
    "            while c._outputs:\n",
    "                address, *values = c.get_outputs(3)\n",
    "                if address == 255:\n",
    "                    print(\"Found packet for address 255!\")\n",
    "                    return values[1]\n",
    "                computers[address].add_inputs(values)"
   ]
  },
  {
   "cell_type": "code",
   "execution_count": null,
   "metadata": {},
   "outputs": [],
   "source": [
    "computers = create_computers(50)\n",
    "part1(computers)"
   ]
  },
  {
   "cell_type": "markdown",
   "metadata": {},
   "source": [
    "# Part 2"
   ]
  },
  {
   "cell_type": "code",
   "execution_count": null,
   "metadata": {},
   "outputs": [],
   "source": [
    "def part2(computers):\n",
    "    last_sent = None\n",
    "    while True:\n",
    "        idle = [False]*len(computers)\n",
    "        for i, c in enumerate(computers):\n",
    "            if not c._inputs:\n",
    "                c.add_input(-1)\n",
    "            c.run()\n",
    "            if not c._outputs:\n",
    "                idle[i] = True\n",
    "            while c._outputs:\n",
    "                address, *values = c.get_outputs(3)\n",
    "                if address == 255:\n",
    "                    nat = values\n",
    "                else:\n",
    "                    computers[address].add_inputs(values)\n",
    "        if all(idle):\n",
    "            if nat[1] == last_sent:\n",
    "                return last_sent\n",
    "            last_sent = nat[1]\n",
    "            computers[0].add_inputs(nat)"
   ]
  },
  {
   "cell_type": "code",
   "execution_count": null,
   "metadata": {},
   "outputs": [],
   "source": [
    "computers = create_computers(50)\n",
    "part2(computers)"
   ]
  },
  {
   "cell_type": "code",
   "execution_count": null,
   "metadata": {},
   "outputs": [],
   "source": []
  }
 ],
 "metadata": {
  "kernelspec": {
   "display_name": "Python 3",
   "language": "python",
   "name": "python3"
  },
  "language_info": {
   "codemirror_mode": {
    "name": "ipython",
    "version": 3
   },
   "file_extension": ".py",
   "mimetype": "text/x-python",
   "name": "python",
   "nbconvert_exporter": "python",
   "pygments_lexer": "ipython3",
   "version": "3.7.4"
  }
 },
 "nbformat": 4,
 "nbformat_minor": 2
}
