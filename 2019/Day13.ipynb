{
 "cells": [
  {
   "cell_type": "code",
   "execution_count": 1,
   "metadata": {
    "ExecuteTime": {
     "end_time": "2019-12-13T06:18:35.274152Z",
     "start_time": "2019-12-13T06:18:35.261174Z"
    }
   },
   "outputs": [],
   "source": [
    "from intcode import Machine"
   ]
  },
  {
   "cell_type": "code",
   "execution_count": 2,
   "metadata": {
    "ExecuteTime": {
     "end_time": "2019-12-13T06:19:01.734778Z",
     "start_time": "2019-12-13T06:19:01.728471Z"
    }
   },
   "outputs": [],
   "source": [
    "with open(\"day13.input\") as file:\n",
    "    prog = file.readline().strip()"
   ]
  },
  {
   "cell_type": "markdown",
   "metadata": {},
   "source": [
    "# Part 1"
   ]
  },
  {
   "cell_type": "code",
   "execution_count": 14,
   "metadata": {
    "ExecuteTime": {
     "end_time": "2019-12-13T06:23:55.193195Z",
     "start_time": "2019-12-13T06:23:55.076094Z"
    }
   },
   "outputs": [
    {
     "name": "stderr",
     "output_type": "stream",
     "text": [
      "[INFO] intcode(156): Machine 0 is halted\n"
     ]
    }
   ],
   "source": [
    "m = Machine(prog)\n",
    "m.run()\n",
    "\n",
    "grid = dict()\n",
    "while m.outputs:\n",
    "    x = m.outputs.popleft()\n",
    "    y = m.outputs.popleft()\n",
    "    t = m.outputs.popleft()\n",
    "    grid[(x, y)] = t"
   ]
  },
  {
   "cell_type": "code",
   "execution_count": 15,
   "metadata": {
    "ExecuteTime": {
     "end_time": "2019-12-13T06:23:56.397819Z",
     "start_time": "2019-12-13T06:23:56.390269Z"
    }
   },
   "outputs": [
    {
     "data": {
      "text/plain": [
       "193"
      ]
     },
     "execution_count": 15,
     "metadata": {},
     "output_type": "execute_result"
    }
   ],
   "source": [
    "list(grid.values()).count(2)"
   ]
  },
  {
   "cell_type": "markdown",
   "metadata": {},
   "source": [
    "# Part 2"
   ]
  },
  {
   "cell_type": "code",
   "execution_count": null,
   "metadata": {},
   "outputs": [],
   "source": []
  },
  {
   "cell_type": "code",
   "execution_count": 21,
   "metadata": {
    "ExecuteTime": {
     "end_time": "2019-12-13T06:30:00.616264Z",
     "start_time": "2019-12-13T06:30:00.605413Z"
    }
   },
   "outputs": [],
   "source": [
    "def draw_screen(outputs):\n",
    "    grid = dict()\n",
    "    while outputs:\n",
    "        x = outputs.popleft()\n",
    "        y = outputs.popleft()\n",
    "        t = outputs.popleft()\n",
    "        grid[(x, y)] = t\n",
    "    \n",
    "    max_x = max((k[0] for k in grid))\n",
    "    min_x = min((k[0] for k in grid))\n",
    "    max_y = max((k[1] for k in grid))\n",
    "    min_y = min((k[1] for k in grid))\n",
    "    print('x:', min_x, max_x)\n",
    "    print('y:', min_y, max_y)\n",
    "\n",
    "    for y in range(max_y, min_y - 1, -1):\n",
    "        for x in range(min_x, max_x + 1):\n",
    "            if grid.get((x, y)):\n",
    "                print(grid.get((x, y)), end='')\n",
    "            else:\n",
    "                print(' ', end='')\n",
    "        print()"
   ]
  },
  {
   "cell_type": "code",
   "execution_count": 22,
   "metadata": {
    "ExecuteTime": {
     "end_time": "2019-12-13T06:30:01.508056Z",
     "start_time": "2019-12-13T06:30:01.388316Z"
    }
   },
   "outputs": [
    {
     "name": "stderr",
     "output_type": "stream",
     "text": [
      "[INFO] intcode(116): Machine 0: Waiting for new input\n"
     ]
    }
   ],
   "source": [
    "m = Machine(prog)\n",
    "m.memory[0] = 2\n",
    "m.run()"
   ]
  },
  {
   "cell_type": "code",
   "execution_count": 23,
   "metadata": {
    "ExecuteTime": {
     "end_time": "2019-12-13T06:30:02.243812Z",
     "start_time": "2019-12-13T06:30:02.132078Z"
    }
   },
   "outputs": [
    {
     "name": "stdout",
     "output_type": "stream",
     "text": [
      "x: -1 43\n",
      "y: 0 19\n",
      " 1                                          1\n",
      " 1                     3                    1\n",
      " 1                                          1\n",
      " 1                                          1\n",
      " 1                   4                      1\n",
      " 1                                          1\n",
      " 1 2       2        2  2      2 2    2      1\n",
      " 1  22 2 2 2  2  2222  2 222 222  2  222 2  1\n",
      " 1      2 2  22 2   22   2  2 22       2222 1\n",
      " 1   2  2 2 2222 2 2      22  2 2   2222    1\n",
      " 1   2   22  22  2 2  2 2   2     222  22 2 1\n",
      " 1 2 2      2 2 2222 2 22 22 22  2  2     2 1\n",
      " 1 2222  2 2  22      22 2       222  222   1\n",
      " 1 22  2    2 2  2 22 22  2      2222   2   1\n",
      " 1 2  2222 22 2  22  2222 2          2 2    1\n",
      " 1   22 22   2 22    2       22  22 2  2    1\n",
      " 1  22 2   22  2 222       2   2    2 222   1\n",
      " 1  2 2      2  2 2 2  22222 2222 2222      1\n",
      " 1                                          1\n",
      " 11111111111111111111111111111111111111111111\n"
     ]
    }
   ],
   "source": [
    "draw_screen(m.outputs)"
   ]
  },
  {
   "cell_type": "code",
   "execution_count": 36,
   "metadata": {
    "ExecuteTime": {
     "end_time": "2019-12-13T06:32:53.753824Z",
     "start_time": "2019-12-13T06:32:53.716158Z"
    }
   },
   "outputs": [
    {
     "name": "stderr",
     "output_type": "stream",
     "text": [
      "[INFO] intcode(156): Machine 0 is halted\n"
     ]
    },
    {
     "ename": "ValueError",
     "evalue": "max() arg is an empty sequence",
     "output_type": "error",
     "traceback": [
      "\u001b[0;31m---------------------------------------------------------------------------\u001b[0m",
      "\u001b[0;31mValueError\u001b[0m                                Traceback (most recent call last)",
      "\u001b[0;32m<ipython-input-36-66237b9242a9>\u001b[0m in \u001b[0;36m<module>\u001b[0;34m\u001b[0m\n\u001b[1;32m      1\u001b[0m \u001b[0mm\u001b[0m\u001b[0;34m.\u001b[0m\u001b[0madd_input\u001b[0m\u001b[0;34m(\u001b[0m\u001b[0;36m0\u001b[0m\u001b[0;34m)\u001b[0m\u001b[0;34m\u001b[0m\u001b[0;34m\u001b[0m\u001b[0m\n\u001b[1;32m      2\u001b[0m \u001b[0mm\u001b[0m\u001b[0;34m.\u001b[0m\u001b[0mrun\u001b[0m\u001b[0;34m(\u001b[0m\u001b[0;34m)\u001b[0m\u001b[0;34m\u001b[0m\u001b[0;34m\u001b[0m\u001b[0m\n\u001b[0;32m----> 3\u001b[0;31m \u001b[0mdraw_screen\u001b[0m\u001b[0;34m(\u001b[0m\u001b[0mm\u001b[0m\u001b[0;34m.\u001b[0m\u001b[0moutputs\u001b[0m\u001b[0;34m)\u001b[0m\u001b[0;34m\u001b[0m\u001b[0;34m\u001b[0m\u001b[0m\n\u001b[0m",
      "\u001b[0;32m<ipython-input-21-0559a6e597dd>\u001b[0m in \u001b[0;36mdraw_screen\u001b[0;34m(outputs)\u001b[0m\n\u001b[1;32m      7\u001b[0m         \u001b[0mgrid\u001b[0m\u001b[0;34m[\u001b[0m\u001b[0;34m(\u001b[0m\u001b[0mx\u001b[0m\u001b[0;34m,\u001b[0m \u001b[0my\u001b[0m\u001b[0;34m)\u001b[0m\u001b[0;34m]\u001b[0m \u001b[0;34m=\u001b[0m \u001b[0mt\u001b[0m\u001b[0;34m\u001b[0m\u001b[0;34m\u001b[0m\u001b[0m\n\u001b[1;32m      8\u001b[0m \u001b[0;34m\u001b[0m\u001b[0m\n\u001b[0;32m----> 9\u001b[0;31m     \u001b[0mmax_x\u001b[0m \u001b[0;34m=\u001b[0m \u001b[0mmax\u001b[0m\u001b[0;34m(\u001b[0m\u001b[0;34m(\u001b[0m\u001b[0mk\u001b[0m\u001b[0;34m[\u001b[0m\u001b[0;36m0\u001b[0m\u001b[0;34m]\u001b[0m \u001b[0;32mfor\u001b[0m \u001b[0mk\u001b[0m \u001b[0;32min\u001b[0m \u001b[0mgrid\u001b[0m\u001b[0;34m)\u001b[0m\u001b[0;34m)\u001b[0m\u001b[0;34m\u001b[0m\u001b[0;34m\u001b[0m\u001b[0m\n\u001b[0m\u001b[1;32m     10\u001b[0m     \u001b[0mmin_x\u001b[0m \u001b[0;34m=\u001b[0m \u001b[0mmin\u001b[0m\u001b[0;34m(\u001b[0m\u001b[0;34m(\u001b[0m\u001b[0mk\u001b[0m\u001b[0;34m[\u001b[0m\u001b[0;36m0\u001b[0m\u001b[0;34m]\u001b[0m \u001b[0;32mfor\u001b[0m \u001b[0mk\u001b[0m \u001b[0;32min\u001b[0m \u001b[0mgrid\u001b[0m\u001b[0;34m)\u001b[0m\u001b[0;34m)\u001b[0m\u001b[0;34m\u001b[0m\u001b[0;34m\u001b[0m\u001b[0m\n\u001b[1;32m     11\u001b[0m     \u001b[0mmax_y\u001b[0m \u001b[0;34m=\u001b[0m \u001b[0mmax\u001b[0m\u001b[0;34m(\u001b[0m\u001b[0;34m(\u001b[0m\u001b[0mk\u001b[0m\u001b[0;34m[\u001b[0m\u001b[0;36m1\u001b[0m\u001b[0;34m]\u001b[0m \u001b[0;32mfor\u001b[0m \u001b[0mk\u001b[0m \u001b[0;32min\u001b[0m \u001b[0mgrid\u001b[0m\u001b[0;34m)\u001b[0m\u001b[0;34m)\u001b[0m\u001b[0;34m\u001b[0m\u001b[0;34m\u001b[0m\u001b[0m\n",
      "\u001b[0;31mValueError\u001b[0m: max() arg is an empty sequence"
     ]
    }
   ],
   "source": [
    "m.add_input(0)\n",
    "m.run()\n",
    "draw_screen(m.outputs)"
   ]
  },
  {
   "cell_type": "code",
   "execution_count": null,
   "metadata": {},
   "outputs": [],
   "source": []
  }
 ],
 "metadata": {
  "kernelspec": {
   "display_name": "Python 3",
   "language": "python",
   "name": "python3"
  },
  "language_info": {
   "codemirror_mode": {
    "name": "ipython",
    "version": 3
   },
   "file_extension": ".py",
   "mimetype": "text/x-python",
   "name": "python",
   "nbconvert_exporter": "python",
   "pygments_lexer": "ipython3",
   "version": "3.7.4"
  }
 },
 "nbformat": 4,
 "nbformat_minor": 2
}
