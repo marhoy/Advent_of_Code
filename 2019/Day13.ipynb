{
 "cells": [
  {
   "cell_type": "code",
   "execution_count": 1,
   "metadata": {
    "ExecuteTime": {
     "end_time": "2019-12-13T19:10:48.680974Z",
     "start_time": "2019-12-13T19:10:48.619969Z"
    }
   },
   "outputs": [],
   "source": [
    "%load_ext autoreload\n",
    "%autoreload 2"
   ]
  },
  {
   "cell_type": "code",
   "execution_count": 2,
   "metadata": {
    "ExecuteTime": {
     "end_time": "2019-12-13T19:10:48.721458Z",
     "start_time": "2019-12-13T19:10:48.685280Z"
    }
   },
   "outputs": [],
   "source": [
    "from intcode import Machine\n",
    "import logging"
   ]
  },
  {
   "cell_type": "code",
   "execution_count": 3,
   "metadata": {
    "ExecuteTime": {
     "end_time": "2019-12-13T19:10:48.754962Z",
     "start_time": "2019-12-13T19:10:48.727451Z"
    }
   },
   "outputs": [],
   "source": [
    "with open(\"day13.input\") as file:\n",
    "    prog = file.readline().strip()"
   ]
  },
  {
   "cell_type": "markdown",
   "metadata": {},
   "source": [
    "# Part 1"
   ]
  },
  {
   "cell_type": "code",
   "execution_count": 4,
   "metadata": {
    "ExecuteTime": {
     "end_time": "2019-12-13T19:10:48.873180Z",
     "start_time": "2019-12-13T19:10:48.758091Z"
    }
   },
   "outputs": [
    {
     "name": "stderr",
     "output_type": "stream",
     "text": [
      "[INFO] intcode(170): Machine 0 is halted\n"
     ]
    }
   ],
   "source": [
    "m = Machine(prog)\n",
    "m.run()\n",
    "\n",
    "grid = dict()\n",
    "while m.has_output:\n",
    "    x = m.get_output()\n",
    "    y = m.get_output()\n",
    "    t = m.get_output()\n",
    "    grid[(x, y)] = t"
   ]
  },
  {
   "cell_type": "code",
   "execution_count": 5,
   "metadata": {
    "ExecuteTime": {
     "end_time": "2019-12-13T19:10:48.909282Z",
     "start_time": "2019-12-13T19:10:48.876324Z"
    }
   },
   "outputs": [
    {
     "data": {
      "text/plain": [
       "193"
      ]
     },
     "execution_count": 5,
     "metadata": {},
     "output_type": "execute_result"
    }
   ],
   "source": [
    "list(grid.values()).count(2)"
   ]
  },
  {
   "cell_type": "markdown",
   "metadata": {},
   "source": [
    "# Part 2"
   ]
  },
  {
   "cell_type": "markdown",
   "metadata": {},
   "source": [
    "Naive approach: Move the paddle to minimize the x-distance between the paddle and the ball."
   ]
  },
  {
   "cell_type": "code",
   "execution_count": 6,
   "metadata": {
    "ExecuteTime": {
     "end_time": "2019-12-13T19:10:48.952714Z",
     "start_time": "2019-12-13T19:10:48.913542Z"
    }
   },
   "outputs": [],
   "source": [
    "def draw_screen(grid):\n",
    "    style = {\n",
    "        1: '█',\n",
    "        2: '▒',\n",
    "        3: '■',\n",
    "        4: '●'\n",
    "    }\n",
    "    \n",
    "    max_x = max((k[0] for k in grid))\n",
    "    min_x = min((k[0] for k in grid))\n",
    "    max_y = max((k[1] for k in grid))\n",
    "    min_y = min((k[1] for k in grid))\n",
    "\n",
    "    for y in range(min_y, max_y):\n",
    "        for x in range(min_x, max_x + 1):\n",
    "            if grid.get((x, y)):\n",
    "                print(style[grid.get((x, y))], end='')\n",
    "            else:\n",
    "                print(' ', end='')\n",
    "        print()"
   ]
  },
  {
   "cell_type": "code",
   "execution_count": 7,
   "metadata": {
    "ExecuteTime": {
     "end_time": "2019-12-13T19:10:49.075824Z",
     "start_time": "2019-12-13T19:10:48.956285Z"
    }
   },
   "outputs": [],
   "source": [
    "screen = dict()\n",
    "score = 0\n",
    "m = Machine(prog, loglevel=logging.WARNING)\n",
    "m.set_mem_value(0, 2)\n",
    "m.run()"
   ]
  },
  {
   "cell_type": "code",
   "execution_count": 8,
   "metadata": {
    "ExecuteTime": {
     "end_time": "2019-12-13T19:10:52.782772Z",
     "start_time": "2019-12-13T19:10:49.079895Z"
    }
   },
   "outputs": [],
   "source": [
    "while True:\n",
    "    # Parse outputs from game machine\n",
    "    while m.has_output:\n",
    "        x = m.get_output()\n",
    "        y = m.get_output()\n",
    "        t = m.get_output()\n",
    "\n",
    "        # Update position of ball and paddle\n",
    "        if t == 3:\n",
    "            paddle = (x, y)\n",
    "        elif t == 4:\n",
    "            ball = (x, y)\n",
    "\n",
    "        # Update score or screen\n",
    "        if (x, y) == (-1, 0):\n",
    "            score = t\n",
    "        else:\n",
    "            screen[(x, y)] = t\n",
    "\n",
    "    # Count number of blocks left\n",
    "    blocks = list(screen.values()).count(2)\n",
    "    # print(\"Blocks: {}, Score: {}\".format(blocks, score))\n",
    "    # print(\"Ball: {}\\nPaddle: {}\".format(ball, paddle))\n",
    "\n",
    "    # Are we finished?\n",
    "    if blocks == 0:\n",
    "        break\n",
    "\n",
    "    # Move joystick\n",
    "    joystick = (paddle[0] < ball[0]) - (paddle[0] > ball[0])\n",
    "\n",
    "    # Run game\n",
    "    m.add_input(joystick)\n",
    "    m.run()"
   ]
  },
  {
   "cell_type": "code",
   "execution_count": 9,
   "metadata": {
    "ExecuteTime": {
     "end_time": "2019-12-13T19:10:52.855067Z",
     "start_time": "2019-12-13T19:10:52.786441Z"
    }
   },
   "outputs": [
    {
     "name": "stdout",
     "output_type": "stream",
     "text": [
      "Final position\n",
      "████████████████████████████████████████████\n",
      "█                                          █\n",
      "█                                          █\n",
      "█                                          █\n",
      "█                                          █\n",
      "█                                          █\n",
      "█                                          █\n",
      "█                                 ●        █\n",
      "█                                          █\n",
      "█                                          █\n",
      "█                                          █\n",
      "█                                          █\n",
      "█                                          █\n",
      "█                                          █\n",
      "█                                          █\n",
      "█                                          █\n",
      "█                                          █\n",
      "█                                          █\n",
      "█                                 ■        █\n"
     ]
    }
   ],
   "source": [
    "print(\"Final position\")\n",
    "draw_screen(screen)"
   ]
  },
  {
   "cell_type": "code",
   "execution_count": 10,
   "metadata": {
    "ExecuteTime": {
     "end_time": "2019-12-13T19:10:52.966558Z",
     "start_time": "2019-12-13T19:10:52.868945Z"
    }
   },
   "outputs": [
    {
     "data": {
      "text/plain": [
       "10547"
      ]
     },
     "execution_count": 10,
     "metadata": {},
     "output_type": "execute_result"
    }
   ],
   "source": [
    "score"
   ]
  },
  {
   "cell_type": "code",
   "execution_count": null,
   "metadata": {},
   "outputs": [],
   "source": []
  }
 ],
 "metadata": {
  "kernelspec": {
   "display_name": "Python 3",
   "language": "python",
   "name": "python3"
  },
  "language_info": {
   "codemirror_mode": {
    "name": "ipython",
    "version": 3
   },
   "file_extension": ".py",
   "mimetype": "text/x-python",
   "name": "python",
   "nbconvert_exporter": "python",
   "pygments_lexer": "ipython3",
   "version": "3.7.4"
  },
  "toc": {
   "base_numbering": 1,
   "nav_menu": {},
   "number_sections": true,
   "sideBar": true,
   "skip_h1_title": false,
   "title_cell": "Table of Contents",
   "title_sidebar": "Contents",
   "toc_cell": false,
   "toc_position": {},
   "toc_section_display": true,
   "toc_window_display": false
  }
 },
 "nbformat": 4,
 "nbformat_minor": 2
}
