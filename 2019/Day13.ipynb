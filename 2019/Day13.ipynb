{
 "cells": [
  {
   "cell_type": "code",
   "execution_count": 1,
   "metadata": {
    "ExecuteTime": {
     "end_time": "2019-12-13T12:40:38.826473Z",
     "start_time": "2019-12-13T12:40:38.816500Z"
    }
   },
   "outputs": [],
   "source": [
    "from intcode import Machine\n",
    "import logging"
   ]
  },
  {
   "cell_type": "code",
   "execution_count": 2,
   "metadata": {
    "ExecuteTime": {
     "end_time": "2019-12-13T12:40:38.845421Z",
     "start_time": "2019-12-13T12:40:38.838442Z"
    }
   },
   "outputs": [],
   "source": [
    "with open(\"day13.input\") as file:\n",
    "    prog = file.readline().strip()"
   ]
  },
  {
   "cell_type": "markdown",
   "metadata": {},
   "source": [
    "# Part 1"
   ]
  },
  {
   "cell_type": "code",
   "execution_count": 3,
   "metadata": {
    "ExecuteTime": {
     "end_time": "2019-12-13T12:40:39.108718Z",
     "start_time": "2019-12-13T12:40:38.861380Z"
    }
   },
   "outputs": [
    {
     "name": "stderr",
     "output_type": "stream",
     "text": [
      "[INFO] intcode(156): Machine 0 is halted\n"
     ]
    }
   ],
   "source": [
    "m = Machine(prog)\n",
    "m.run()\n",
    "\n",
    "grid = dict()\n",
    "while m.outputs:\n",
    "    x = m.outputs.popleft()\n",
    "    y = m.outputs.popleft()\n",
    "    t = m.outputs.popleft()\n",
    "    grid[(x, y)] = t"
   ]
  },
  {
   "cell_type": "code",
   "execution_count": 4,
   "metadata": {
    "ExecuteTime": {
     "end_time": "2019-12-13T12:40:39.132654Z",
     "start_time": "2019-12-13T12:40:39.113705Z"
    }
   },
   "outputs": [
    {
     "data": {
      "text/plain": [
       "193"
      ]
     },
     "execution_count": 4,
     "metadata": {},
     "output_type": "execute_result"
    }
   ],
   "source": [
    "list(grid.values()).count(2)"
   ]
  },
  {
   "cell_type": "markdown",
   "metadata": {},
   "source": [
    "# Part 2"
   ]
  },
  {
   "cell_type": "markdown",
   "metadata": {},
   "source": [
    "Naive approach: Move the paddle to minimize the x-distance between the paddle and the ball."
   ]
  },
  {
   "cell_type": "code",
   "execution_count": 5,
   "metadata": {
    "ExecuteTime": {
     "end_time": "2019-12-13T12:40:39.151603Z",
     "start_time": "2019-12-13T12:40:39.136644Z"
    }
   },
   "outputs": [],
   "source": [
    "def draw_screen(grid):\n",
    "    style = {\n",
    "        1: '█',\n",
    "        2: '▒',\n",
    "        3: '■',\n",
    "        4: '●'\n",
    "    }\n",
    "    \n",
    "    max_x = max((k[0] for k in grid))\n",
    "    min_x = min((k[0] for k in grid))\n",
    "    max_y = max((k[1] for k in grid))\n",
    "    min_y = min((k[1] for k in grid))\n",
    "\n",
    "    for y in range(min_y, max_y):\n",
    "        for x in range(min_x, max_x + 1):\n",
    "            if grid.get((x, y)):\n",
    "                print(style[grid.get((x, y))], end='')\n",
    "            else:\n",
    "                print(' ', end='')\n",
    "        print()"
   ]
  },
  {
   "cell_type": "code",
   "execution_count": 6,
   "metadata": {
    "ExecuteTime": {
     "end_time": "2019-12-13T12:40:39.337105Z",
     "start_time": "2019-12-13T12:40:39.155593Z"
    }
   },
   "outputs": [],
   "source": [
    "screen = dict()\n",
    "score = 0\n",
    "m = Machine(prog, loglevel=logging.WARNING)\n",
    "m.memory[0] = 2\n",
    "m.run()"
   ]
  },
  {
   "cell_type": "code",
   "execution_count": 7,
   "metadata": {
    "ExecuteTime": {
     "end_time": "2019-12-13T12:40:43.993894Z",
     "start_time": "2019-12-13T12:40:39.340099Z"
    }
   },
   "outputs": [],
   "source": [
    "while True:\n",
    "    # Parse outputs from game machine\n",
    "    while m.outputs:\n",
    "        x = m.outputs.popleft()\n",
    "        y = m.outputs.popleft()\n",
    "        t = m.outputs.popleft()\n",
    "\n",
    "        # Update position of ball and paddle\n",
    "        if t == 3:\n",
    "            paddle = (x, y)\n",
    "        elif t == 4:\n",
    "            ball = (x, y)\n",
    "\n",
    "        # Update score or screen\n",
    "        if (x, y) == (-1, 0):\n",
    "            score = t\n",
    "        else:\n",
    "            screen[(x, y)] = t\n",
    "\n",
    "    # Count number of blocks left\n",
    "    blocks = list(screen.values()).count(2)\n",
    "    # print(\"Blocks: {}, Score: {}\".format(blocks, score))\n",
    "    # print(\"Ball: {}\\nPaddle: {}\".format(ball, paddle))\n",
    "\n",
    "    # Are we finished?\n",
    "    if blocks == 0:\n",
    "        break\n",
    "\n",
    "    # Move joystick\n",
    "    joystick = (paddle[0] < ball[0]) - (paddle[0] > ball[0])\n",
    "\n",
    "    # Run game\n",
    "    m.add_input(joystick)\n",
    "    m.run()"
   ]
  },
  {
   "cell_type": "code",
   "execution_count": 8,
   "metadata": {
    "ExecuteTime": {
     "end_time": "2019-12-13T12:40:44.072927Z",
     "start_time": "2019-12-13T12:40:43.995889Z"
    }
   },
   "outputs": [
    {
     "name": "stdout",
     "output_type": "stream",
     "text": [
      "Final position\n",
      "████████████████████████████████████████████\n",
      "█                                          █\n",
      "█                                          █\n",
      "█                                          █\n",
      "█                                          █\n",
      "█                                          █\n",
      "█                                          █\n",
      "█                                 ●        █\n",
      "█                                          █\n",
      "█                                          █\n",
      "█                                          █\n",
      "█                                          █\n",
      "█                                          █\n",
      "█                                          █\n",
      "█                                          █\n",
      "█                                          █\n",
      "█                                          █\n",
      "█                                          █\n",
      "█                                 ■        █\n"
     ]
    }
   ],
   "source": [
    "print(\"Final position\")\n",
    "draw_screen(screen)"
   ]
  },
  {
   "cell_type": "code",
   "execution_count": 9,
   "metadata": {
    "ExecuteTime": {
     "end_time": "2019-12-13T12:40:44.084897Z",
     "start_time": "2019-12-13T12:40:44.074921Z"
    }
   },
   "outputs": [
    {
     "data": {
      "text/plain": [
       "10547"
      ]
     },
     "execution_count": 9,
     "metadata": {},
     "output_type": "execute_result"
    }
   ],
   "source": [
    "score"
   ]
  },
  {
   "cell_type": "code",
   "execution_count": null,
   "metadata": {},
   "outputs": [],
   "source": []
  }
 ],
 "metadata": {
  "kernelspec": {
   "display_name": "Python 3",
   "language": "python",
   "name": "python3"
  },
  "language_info": {
   "codemirror_mode": {
    "name": "ipython",
    "version": 3
   },
   "file_extension": ".py",
   "mimetype": "text/x-python",
   "name": "python",
   "nbconvert_exporter": "python",
   "pygments_lexer": "ipython3",
   "version": "3.7.4"
  },
  "toc": {
   "base_numbering": 1,
   "nav_menu": {},
   "number_sections": true,
   "sideBar": true,
   "skip_h1_title": false,
   "title_cell": "Table of Contents",
   "title_sidebar": "Contents",
   "toc_cell": false,
   "toc_position": {},
   "toc_section_display": true,
   "toc_window_display": false
  }
 },
 "nbformat": 4,
 "nbformat_minor": 2
}
