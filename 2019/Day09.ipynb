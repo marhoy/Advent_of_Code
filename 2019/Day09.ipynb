{
 "cells": [
  {
   "cell_type": "code",
   "execution_count": 1,
   "metadata": {
    "ExecuteTime": {
     "end_time": "2019-12-13T19:14:29.892276Z",
     "start_time": "2019-12-13T19:14:29.837114Z"
    }
   },
   "outputs": [],
   "source": [
    "%load_ext autoreload\n",
    "%autoreload 2"
   ]
  },
  {
   "cell_type": "code",
   "execution_count": 2,
   "metadata": {
    "ExecuteTime": {
     "end_time": "2019-12-13T19:14:29.924949Z",
     "start_time": "2019-12-13T19:14:29.895923Z"
    }
   },
   "outputs": [],
   "source": [
    "import logging\n",
    "from intcode import Machine"
   ]
  },
  {
   "cell_type": "code",
   "execution_count": 3,
   "metadata": {
    "ExecuteTime": {
     "end_time": "2019-12-13T19:14:29.972058Z",
     "start_time": "2019-12-13T19:14:29.931932Z"
    }
   },
   "outputs": [
    {
     "name": "stderr",
     "output_type": "stream",
     "text": [
      "[INFO] intcode(170): Machine 0 is halted\n",
      "[INFO] intcode(170): Machine 0 is halted\n",
      "[INFO] intcode(170): Machine 0 is halted\n"
     ]
    }
   ],
   "source": [
    "# Tests\n",
    "prog = \"109,1,204,-1,1001,100,1,100,1008,100,16,101,1006,101,0,99\"\n",
    "m = Machine(prog)\n",
    "m.run()\n",
    "assert \",\".join(map(str, m._outputs)) == prog\n",
    "\n",
    "prog = \"1102,34915192,34915192,7,4,7,99,0\"\n",
    "m = Machine(prog)\n",
    "m.run()\n",
    "mem = m.str2mem(prog)\n",
    "assert m.get_output() == mem[1]*mem[2]\n",
    "\n",
    "prog = \"104,1125899906842624,99\"\n",
    "m = Machine(prog)\n",
    "m.run()\n",
    "mem = m.str2mem(prog)\n",
    "assert m.get_output() == mem[1]"
   ]
  },
  {
   "cell_type": "markdown",
   "metadata": {},
   "source": [
    "# Part 1"
   ]
  },
  {
   "cell_type": "code",
   "execution_count": 4,
   "metadata": {
    "ExecuteTime": {
     "end_time": "2019-12-13T19:14:30.030281Z",
     "start_time": "2019-12-13T19:14:29.981439Z"
    }
   },
   "outputs": [
    {
     "name": "stderr",
     "output_type": "stream",
     "text": [
      "[INFO] intcode(170): Machine 0 is halted\n"
     ]
    },
    {
     "data": {
      "text/plain": [
       "2594708277"
      ]
     },
     "execution_count": 4,
     "metadata": {},
     "output_type": "execute_result"
    }
   ],
   "source": [
    "with open(\"day09.input\") as file:\n",
    "    prog = file.readline().strip()\n",
    "\n",
    "m = Machine(prog)\n",
    "m.add_input(1)\n",
    "m.run()\n",
    "m.get_output()"
   ]
  },
  {
   "cell_type": "markdown",
   "metadata": {},
   "source": [
    "# Part 2"
   ]
  },
  {
   "cell_type": "code",
   "execution_count": 5,
   "metadata": {
    "ExecuteTime": {
     "end_time": "2019-12-13T19:14:32.049117Z",
     "start_time": "2019-12-13T19:14:30.033662Z"
    }
   },
   "outputs": [
    {
     "name": "stderr",
     "output_type": "stream",
     "text": [
      "[INFO] intcode(170): Machine 0 is halted\n"
     ]
    },
    {
     "data": {
      "text/plain": [
       "87721"
      ]
     },
     "execution_count": 5,
     "metadata": {},
     "output_type": "execute_result"
    }
   ],
   "source": [
    "with open(\"day09.input\") as file:\n",
    "    prog = file.readline().strip()\n",
    "\n",
    "m = Machine(prog)\n",
    "m.add_input(2)\n",
    "m.run()\n",
    "m.get_output()"
   ]
  },
  {
   "cell_type": "code",
   "execution_count": null,
   "metadata": {},
   "outputs": [],
   "source": []
  }
 ],
 "metadata": {
  "kernelspec": {
   "display_name": "Python 3",
   "language": "python",
   "name": "python3"
  },
  "language_info": {
   "codemirror_mode": {
    "name": "ipython",
    "version": 3
   },
   "file_extension": ".py",
   "mimetype": "text/x-python",
   "name": "python",
   "nbconvert_exporter": "python",
   "pygments_lexer": "ipython3",
   "version": "3.7.4"
  },
  "toc": {
   "base_numbering": 1,
   "nav_menu": {},
   "number_sections": true,
   "sideBar": true,
   "skip_h1_title": false,
   "title_cell": "Table of Contents",
   "title_sidebar": "Contents",
   "toc_cell": false,
   "toc_position": {},
   "toc_section_display": true,
   "toc_window_display": false
  }
 },
 "nbformat": 4,
 "nbformat_minor": 2
}
