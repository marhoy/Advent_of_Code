{
 "cells": [
  {
   "cell_type": "code",
   "execution_count": 1,
   "metadata": {
    "ExecuteTime": {
     "end_time": "2019-12-09T13:06:30.160535Z",
     "start_time": "2019-12-09T13:06:29.703250Z"
    }
   },
   "outputs": [],
   "source": [
    "%load_ext autoreload\n",
    "%autoreload 2"
   ]
  },
  {
   "cell_type": "code",
   "execution_count": 2,
   "metadata": {
    "ExecuteTime": {
     "end_time": "2019-12-09T13:06:30.445773Z",
     "start_time": "2019-12-09T13:06:30.163529Z"
    }
   },
   "outputs": [],
   "source": [
    "import logging\n",
    "from intcode import Machine"
   ]
  },
  {
   "cell_type": "code",
   "execution_count": 3,
   "metadata": {
    "ExecuteTime": {
     "end_time": "2019-12-09T13:06:30.739084Z",
     "start_time": "2019-12-09T13:06:30.450762Z"
    }
   },
   "outputs": [
    {
     "name": "stderr",
     "output_type": "stream",
     "text": [
      "[INFO] intcode(155): Machine 0 is halted\n",
      "[INFO] intcode(155): Machine 0 is halted\n",
      "[INFO] intcode(155): Machine 0 is halted\n"
     ]
    }
   ],
   "source": [
    "# Tests\n",
    "prog = \"109,1,204,-1,1001,100,1,100,1008,100,16,101,1006,101,0,99\"\n",
    "m = Machine(prog)\n",
    "m.run()\n",
    "assert \",\".join(map(str, m.outputs)) == prog\n",
    "\n",
    "prog = \"1102,34915192,34915192,7,4,7,99,0\"\n",
    "m = Machine(prog)\n",
    "m.run()\n",
    "mem = m.str2mem(prog)\n",
    "assert m.outputs[0] == mem[1]*mem[2]\n",
    "\n",
    "prog = \"104,1125899906842624,99\"\n",
    "m = Machine(prog)\n",
    "m.run()\n",
    "mem = m.str2mem(prog)\n",
    "assert m.outputs[0] == mem[1]"
   ]
  },
  {
   "cell_type": "markdown",
   "metadata": {},
   "source": [
    "# Part 1"
   ]
  },
  {
   "cell_type": "code",
   "execution_count": 4,
   "metadata": {
    "ExecuteTime": {
     "end_time": "2019-12-09T13:06:31.045408Z",
     "start_time": "2019-12-09T13:06:30.742075Z"
    }
   },
   "outputs": [
    {
     "name": "stderr",
     "output_type": "stream",
     "text": [
      "[INFO] intcode(155): Machine 0 is halted\n"
     ]
    },
    {
     "data": {
      "text/plain": [
       "deque([2594708277])"
      ]
     },
     "execution_count": 4,
     "metadata": {},
     "output_type": "execute_result"
    }
   ],
   "source": [
    "with open(\"day09.input\") as file:\n",
    "    prog = file.readline().strip()\n",
    "\n",
    "m = Machine(prog)\n",
    "m.add_input(1)\n",
    "m.run()\n",
    "m.outputs"
   ]
  },
  {
   "cell_type": "markdown",
   "metadata": {},
   "source": [
    "# Part 2"
   ]
  },
  {
   "cell_type": "code",
   "execution_count": 5,
   "metadata": {
    "ExecuteTime": {
     "end_time": "2019-12-09T13:06:34.903588Z",
     "start_time": "2019-12-09T13:06:31.052389Z"
    }
   },
   "outputs": [
    {
     "name": "stderr",
     "output_type": "stream",
     "text": [
      "[INFO] intcode(155): Machine 0 is halted\n"
     ]
    },
    {
     "data": {
      "text/plain": [
       "deque([87721])"
      ]
     },
     "execution_count": 5,
     "metadata": {},
     "output_type": "execute_result"
    }
   ],
   "source": [
    "with open(\"day09.input\") as file:\n",
    "    prog = file.readline().strip()\n",
    "\n",
    "m = Machine(prog)\n",
    "m.add_input(2)\n",
    "m.run()\n",
    "m.outputs"
   ]
  },
  {
   "cell_type": "code",
   "execution_count": null,
   "metadata": {},
   "outputs": [],
   "source": []
  }
 ],
 "metadata": {
  "kernelspec": {
   "display_name": "Python 3",
   "language": "python",
   "name": "python3"
  },
  "language_info": {
   "codemirror_mode": {
    "name": "ipython",
    "version": 3
   },
   "file_extension": ".py",
   "mimetype": "text/x-python",
   "name": "python",
   "nbconvert_exporter": "python",
   "pygments_lexer": "ipython3",
   "version": "3.7.4"
  },
  "toc": {
   "base_numbering": 1,
   "nav_menu": {},
   "number_sections": true,
   "sideBar": true,
   "skip_h1_title": false,
   "title_cell": "Table of Contents",
   "title_sidebar": "Contents",
   "toc_cell": false,
   "toc_position": {},
   "toc_section_display": true,
   "toc_window_display": false
  }
 },
 "nbformat": 4,
 "nbformat_minor": 2
}
