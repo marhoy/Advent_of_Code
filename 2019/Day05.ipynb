{
 "cells": [
  {
   "cell_type": "code",
   "execution_count": 1,
   "metadata": {
    "ExecuteTime": {
     "end_time": "2019-12-13T19:20:13.190547Z",
     "start_time": "2019-12-13T19:20:13.182226Z"
    }
   },
   "outputs": [],
   "source": [
    "def intcode_run(prog, input_value=None):\n",
    "    import logging\n",
    "    from intcode import Machine\n",
    "    \n",
    "    m = Machine(prog, loglevel=logging.WARNING)\n",
    "    if input_value is not None:\n",
    "        m.add_input(input_value)\n",
    "    m.run()\n",
    "    return m"
   ]
  },
  {
   "cell_type": "code",
   "execution_count": 2,
   "metadata": {
    "ExecuteTime": {
     "end_time": "2019-12-13T19:20:13.221761Z",
     "start_time": "2019-12-13T19:20:13.207541Z"
    }
   },
   "outputs": [],
   "source": [
    "# Tests\n",
    "m = intcode_run(\"1,9,10,3,2,3,11,0,99,30,40,50\")\n",
    "assert m._memory == m.str2mem(\"3500,9,10,70,2,3,11,0,99,30,40,50\")\n",
    "\n",
    "m = intcode_run(\"1,0,0,0,99\")\n",
    "assert m._memory == m.str2mem(\"2,0,0,0,99\")\n",
    "\n",
    "m = intcode_run(\"1,1,1,4,99,5,6,0,99\")\n",
    "assert m._memory == m.str2mem(\"30,1,1,4,2,5,6,0,99\")\n",
    "\n",
    "m = intcode_run(\"1002,4,3,4,33\")\n",
    "assert m._memory == m.str2mem(\"1002,4,3,4,99\")"
   ]
  },
  {
   "cell_type": "code",
   "execution_count": 3,
   "metadata": {
    "ExecuteTime": {
     "end_time": "2019-12-13T19:20:13.243089Z",
     "start_time": "2019-12-13T19:20:13.227249Z"
    }
   },
   "outputs": [],
   "source": [
    "prog = \"3,9,8,9,10,9,4,9,99,-1,8\"\n",
    "assert intcode_run(prog, 8).get_output() == 1\n",
    "assert intcode_run(prog, 7).get_output() == 0\n",
    "assert intcode_run(prog, 9).get_output() == 0"
   ]
  },
  {
   "cell_type": "code",
   "execution_count": 4,
   "metadata": {
    "ExecuteTime": {
     "end_time": "2019-12-13T19:20:13.259401Z",
     "start_time": "2019-12-13T19:20:13.247879Z"
    },
    "scrolled": true
   },
   "outputs": [],
   "source": [
    "# Output 0 if input is 0, otherwise output 1\n",
    "prog = \"3,12,6,12,15,1,13,14,13,4,13,99,-1,0,1,9\"\n",
    "assert intcode_run(prog, 0).get_output() == 0\n",
    "assert intcode_run(prog, -1).get_output() == 1\n",
    "assert intcode_run(prog, 1).get_output() == 1\n",
    "\n",
    "# Equal to 0?\n",
    "prog = \"3,3,1105,-1,9,1101,0,0,12,4,12,99,1\"\n",
    "assert intcode_run(prog, 0).get_output() == 0\n",
    "assert intcode_run(prog, -1).get_output() == 1\n",
    "assert intcode_run(prog, 1).get_output() == 1"
   ]
  },
  {
   "cell_type": "markdown",
   "metadata": {},
   "source": [
    "# Part 1"
   ]
  },
  {
   "cell_type": "code",
   "execution_count": 5,
   "metadata": {
    "ExecuteTime": {
     "end_time": "2019-12-13T19:20:13.281454Z",
     "start_time": "2019-12-13T19:20:13.262470Z"
    }
   },
   "outputs": [
    {
     "data": {
      "text/plain": [
       "deque([0, 0, 0, 0, 0, 0, 0, 0, 0, 5577461])"
      ]
     },
     "execution_count": 5,
     "metadata": {},
     "output_type": "execute_result"
    }
   ],
   "source": [
    "with open(\"day05.input\") as file:\n",
    "    prog = file.readline().strip()\n",
    "\n",
    "intcode_run(prog, 1)._outputs"
   ]
  },
  {
   "cell_type": "markdown",
   "metadata": {},
   "source": [
    "# Part 2"
   ]
  },
  {
   "cell_type": "code",
   "execution_count": 6,
   "metadata": {
    "ExecuteTime": {
     "end_time": "2019-12-13T19:20:13.293813Z",
     "start_time": "2019-12-13T19:20:13.288639Z"
    }
   },
   "outputs": [],
   "source": [
    "# Tests\n",
    "prog = \"3,21,1008,21,8,20,1005,20,22,107,8,21,20,1006,20,31,1106,0,36,98,0,0,1002,21,125,20,4\"\\\n",
    "       \",20,1105,1,46,104,999,1105,1,46,1101,1000,1,20,4,20,1105,1,46,98,99\"\n",
    "\n",
    "assert intcode_run(prog, 7).get_output() == 999\n",
    "assert intcode_run(prog, 8).get_output() == 1000\n",
    "assert intcode_run(prog, 9).get_output() == 1001"
   ]
  },
  {
   "cell_type": "code",
   "execution_count": 7,
   "metadata": {
    "ExecuteTime": {
     "end_time": "2019-12-13T19:20:13.305465Z",
     "start_time": "2019-12-13T19:20:13.296090Z"
    }
   },
   "outputs": [
    {
     "data": {
      "text/plain": [
       "7161591"
      ]
     },
     "execution_count": 7,
     "metadata": {},
     "output_type": "execute_result"
    }
   ],
   "source": [
    "with open(\"day05.input\") as file:\n",
    "    prog = file.readline().strip()\n",
    "    \n",
    "intcode_run(prog, 5).get_output()"
   ]
  },
  {
   "cell_type": "code",
   "execution_count": null,
   "metadata": {},
   "outputs": [],
   "source": []
  }
 ],
 "metadata": {
  "kernelspec": {
   "display_name": "Python 3",
   "language": "python",
   "name": "python3"
  },
  "language_info": {
   "codemirror_mode": {
    "name": "ipython",
    "version": 3
   },
   "file_extension": ".py",
   "mimetype": "text/x-python",
   "name": "python",
   "nbconvert_exporter": "python",
   "pygments_lexer": "ipython3",
   "version": "3.7.4"
  },
  "toc": {
   "base_numbering": 1,
   "nav_menu": {},
   "number_sections": true,
   "sideBar": true,
   "skip_h1_title": false,
   "title_cell": "Table of Contents",
   "title_sidebar": "Contents",
   "toc_cell": false,
   "toc_position": {},
   "toc_section_display": true,
   "toc_window_display": false
  }
 },
 "nbformat": 4,
 "nbformat_minor": 2
}
