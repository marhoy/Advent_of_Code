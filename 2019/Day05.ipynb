{
 "cells": [
  {
   "cell_type": "code",
   "execution_count": 1,
   "metadata": {
    "ExecuteTime": {
     "end_time": "2019-12-05T17:26:34.690687Z",
     "start_time": "2019-12-05T17:26:34.682333Z"
    }
   },
   "outputs": [],
   "source": [
    "def str2mem(line):\n",
    "    return [int(i) for i in line.split(\",\")]"
   ]
  },
  {
   "cell_type": "code",
   "execution_count": 2,
   "metadata": {
    "ExecuteTime": {
     "end_time": "2019-12-05T17:26:34.701196Z",
     "start_time": "2019-12-05T17:26:34.694322Z"
    }
   },
   "outputs": [],
   "source": [
    "def get_opcode_and_modes(number):\n",
    "    s = \"{:05d}\".format(number)\n",
    "    opcode = int(s[-2:])\n",
    "    modes = list(map(int, s[:3]))\n",
    "    modes.reverse()\n",
    "    if modes[2] == 1:\n",
    "        raise ValueError(\"Mode of parameter 3 cannot not be 1\")\n",
    "    return opcode, modes"
   ]
  },
  {
   "cell_type": "code",
   "execution_count": 3,
   "metadata": {
    "ExecuteTime": {
     "end_time": "2019-12-05T17:26:34.713674Z",
     "start_time": "2019-12-05T17:26:34.706004Z"
    }
   },
   "outputs": [],
   "source": [
    "def get_params(memory, ptr, modes, ptypes):\n",
    "    values = []\n",
    "    params = memory[ptr + 1: ptr + len(modes) + 1]\n",
    "    for param, mode, ptype in zip(params, modes, ptypes):\n",
    "        if mode == 1 or ptype == 'w':\n",
    "            values.append(param)\n",
    "        elif mode == 0:\n",
    "            values.append(memory[param])\n",
    "    return values"
   ]
  },
  {
   "cell_type": "code",
   "execution_count": 4,
   "metadata": {
    "ExecuteTime": {
     "end_time": "2019-12-05T17:26:34.751141Z",
     "start_time": "2019-12-05T17:26:34.717583Z"
    }
   },
   "outputs": [],
   "source": [
    "def intcode(memory, input_value=None):\n",
    "    output = ''\n",
    "    ptr = 0\n",
    "    while True:\n",
    "        opcode, modes = get_opcode_and_modes(memory[ptr])\n",
    "        if opcode == 1:\n",
    "            p1, p2, p3 = get_params(memory, ptr, modes, 'rrw')\n",
    "            memory[p3] = p1 + p2\n",
    "            ptr += 4\n",
    "        elif opcode == 2:\n",
    "            p1, p2, p3 = get_params(memory, ptr, modes, 'rrw')\n",
    "            memory[p3] = p1 * p2\n",
    "            ptr += 4\n",
    "        elif opcode == 3:\n",
    "            p1, *_ = get_params(memory, ptr, modes, 'w')\n",
    "            memory[p1] = input_value\n",
    "            ptr += 2\n",
    "        elif opcode == 4:\n",
    "            output, *_ = get_params(memory, ptr, modes, 'r')\n",
    "            print(\"Output:\", output)\n",
    "            ptr += 2\n",
    "        elif opcode == 5:\n",
    "            p1, p2 = get_params(memory, ptr, modes, 'rr')\n",
    "            if p1:\n",
    "                ptr = p2\n",
    "            else:\n",
    "                ptr += 3\n",
    "        elif opcode == 6:\n",
    "            p1, p2 = get_params(memory, ptr, modes, 'rr')\n",
    "            if not p1:\n",
    "                ptr = p2\n",
    "            else:\n",
    "                ptr += 3\n",
    "        elif opcode == 7:\n",
    "            p1, p2, p3 = get_params(memory, ptr, modes, 'rrw')\n",
    "            memory[p3] = int(p1 < p2)\n",
    "            ptr += 4\n",
    "        elif opcode == 8:\n",
    "            p1, p2, p3 = get_params(memory, ptr, modes, 'rrw')\n",
    "            memory[p3] = int(p1 == p2)\n",
    "            ptr += 4\n",
    "        elif opcode == 99:\n",
    "            break\n",
    "        else:\n",
    "            raise ValueError(\"Unknown opcode: {}\".format(opcode))\n",
    "            \n",
    "    return memory, output"
   ]
  },
  {
   "cell_type": "code",
   "execution_count": 5,
   "metadata": {
    "ExecuteTime": {
     "end_time": "2019-12-05T17:26:34.767966Z",
     "start_time": "2019-12-05T17:26:34.762399Z"
    }
   },
   "outputs": [],
   "source": [
    "# Tests\n",
    "assert intcode(str2mem(\"1,9,10,3,2,3,11,0,99,30,40,50\"))[0] == str2mem(\"3500,9,10,70,2,3,11,0,99,30,40,50\")\n",
    "assert intcode(str2mem(\"1,0,0,0,99\"))[0] == str2mem(\"2,0,0,0,99\")\n",
    "assert intcode(str2mem(\"1,1,1,4,99,5,6,0,99\"))[0] == str2mem(\"30,1,1,4,2,5,6,0,99\")\n",
    "\n",
    "assert intcode(str2mem(\"1002,4,3,4,33\"))[0] == str2mem(\"1002,4,3,4,99\")"
   ]
  },
  {
   "cell_type": "code",
   "execution_count": 6,
   "metadata": {
    "ExecuteTime": {
     "end_time": "2019-12-05T17:26:34.778547Z",
     "start_time": "2019-12-05T17:26:34.770925Z"
    },
    "scrolled": true
   },
   "outputs": [
    {
     "name": "stdout",
     "output_type": "stream",
     "text": [
      "Output: 1\n",
      "Output: 0\n",
      "Output: 0\n"
     ]
    }
   ],
   "source": [
    "# Is input equal to 8?\n",
    "assert intcode(str2mem(\"3,9,8,9,10,9,4,9,99,-1,8\"), input_value=8)[1] == 1\n",
    "assert intcode(str2mem(\"3,9,8,9,10,9,4,9,99,-1,8\"), input_value=7)[1] == 0\n",
    "assert intcode(str2mem(\"3,9,8,9,10,9,4,9,99,-1,8\"), input_value=9)[1] == 0"
   ]
  },
  {
   "cell_type": "code",
   "execution_count": 7,
   "metadata": {
    "ExecuteTime": {
     "end_time": "2019-12-05T17:26:34.799062Z",
     "start_time": "2019-12-05T17:26:34.782882Z"
    },
    "scrolled": true
   },
   "outputs": [
    {
     "name": "stdout",
     "output_type": "stream",
     "text": [
      "Output: 0\n",
      "Output: 1\n",
      "Output: 1\n",
      "Output: 0\n",
      "Output: 1\n",
      "Output: 1\n"
     ]
    }
   ],
   "source": [
    "# Output 0 if input is 0, otherwise output 1\n",
    "assert intcode(str2mem(\"3,12,6,12,15,1,13,14,13,4,13,99,-1,0,1,9\"), input_value=0)[1] == 0\n",
    "assert intcode(str2mem(\"3,12,6,12,15,1,13,14,13,4,13,99,-1,0,1,9\"), input_value=-1)[1] == 1\n",
    "assert intcode(str2mem(\"3,12,6,12,15,1,13,14,13,4,13,99,-1,0,1,9\"), input_value=1)[1] == 1\n",
    "\n",
    "assert intcode(str2mem(\"3,3,1105,-1,9,1101,0,0,12,4,12,99,1\"), input_value=0)[1] == 0\n",
    "assert intcode(str2mem(\"3,3,1105,-1,9,1101,0,0,12,4,12,99,1\"), input_value=-1)[1] == 1\n",
    "assert intcode(str2mem(\"3,3,1105,-1,9,1101,0,0,12,4,12,99,1\"), input_value=1)[1] == 1"
   ]
  },
  {
   "cell_type": "markdown",
   "metadata": {},
   "source": [
    "# Part 1"
   ]
  },
  {
   "cell_type": "code",
   "execution_count": 8,
   "metadata": {
    "ExecuteTime": {
     "end_time": "2019-12-05T17:26:34.827179Z",
     "start_time": "2019-12-05T17:26:34.806188Z"
    }
   },
   "outputs": [
    {
     "name": "stdout",
     "output_type": "stream",
     "text": [
      "Output: 0\n",
      "Output: 0\n",
      "Output: 0\n",
      "Output: 0\n",
      "Output: 0\n",
      "Output: 0\n",
      "Output: 0\n",
      "Output: 0\n",
      "Output: 0\n",
      "Output: 5577461\n"
     ]
    },
    {
     "data": {
      "text/plain": [
       "5577461"
      ]
     },
     "execution_count": 8,
     "metadata": {},
     "output_type": "execute_result"
    }
   ],
   "source": [
    "with open(\"day05.input\") as file:\n",
    "    memory = str2mem(file.readline().strip())\n",
    "\n",
    "memory, output = intcode(memory, input_value=1)\n",
    "output"
   ]
  },
  {
   "cell_type": "markdown",
   "metadata": {},
   "source": [
    "# Part 2"
   ]
  },
  {
   "cell_type": "code",
   "execution_count": 9,
   "metadata": {
    "ExecuteTime": {
     "end_time": "2019-12-05T17:26:34.837920Z",
     "start_time": "2019-12-05T17:26:34.830284Z"
    }
   },
   "outputs": [
    {
     "name": "stdout",
     "output_type": "stream",
     "text": [
      "Output: 999\n",
      "Output: 1000\n",
      "Output: 1001\n"
     ]
    }
   ],
   "source": [
    "prog = \"3,21,1008,21,8,20,1005,20,22,107,8,21,20,1006,20,31,1106,0,36,98,0,0,1002,21,125,20,4\"\\\n",
    "       \",20,1105,1,46,104,999,1105,1,46,1101,1000,1,20,4,20,1105,1,46,98,99\"\n",
    "\n",
    "assert intcode(str2mem(prog), input_value=7)[1] == 999\n",
    "assert intcode(str2mem(prog), input_value=8)[1] == 1000\n",
    "assert intcode(str2mem(prog), input_value=9)[1] == 1001"
   ]
  },
  {
   "cell_type": "code",
   "execution_count": 10,
   "metadata": {
    "ExecuteTime": {
     "end_time": "2019-12-05T17:26:34.850817Z",
     "start_time": "2019-12-05T17:26:34.841392Z"
    }
   },
   "outputs": [
    {
     "name": "stdout",
     "output_type": "stream",
     "text": [
      "Output: 7161591\n"
     ]
    },
    {
     "data": {
      "text/plain": [
       "7161591"
      ]
     },
     "execution_count": 10,
     "metadata": {},
     "output_type": "execute_result"
    }
   ],
   "source": [
    "with open(\"day05.input\") as file:\n",
    "    memory = str2mem(file.readline().strip())\n",
    "\n",
    "memory, output = intcode(memory, input_value=5)\n",
    "output"
   ]
  },
  {
   "cell_type": "code",
   "execution_count": null,
   "metadata": {},
   "outputs": [],
   "source": []
  }
 ],
 "metadata": {
  "kernelspec": {
   "display_name": "Python 3",
   "language": "python",
   "name": "python3"
  },
  "language_info": {
   "codemirror_mode": {
    "name": "ipython",
    "version": 3
   },
   "file_extension": ".py",
   "mimetype": "text/x-python",
   "name": "python",
   "nbconvert_exporter": "python",
   "pygments_lexer": "ipython3",
   "version": "3.7.4"
  },
  "toc": {
   "base_numbering": 1,
   "nav_menu": {},
   "number_sections": true,
   "sideBar": true,
   "skip_h1_title": false,
   "title_cell": "Table of Contents",
   "title_sidebar": "Contents",
   "toc_cell": false,
   "toc_position": {},
   "toc_section_display": true,
   "toc_window_display": false
  }
 },
 "nbformat": 4,
 "nbformat_minor": 2
}
