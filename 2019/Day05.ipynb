{
 "cells": [
  {
   "cell_type": "code",
   "execution_count": 1,
   "metadata": {
    "ExecuteTime": {
     "end_time": "2019-12-09T13:57:05.494008Z",
     "start_time": "2019-12-09T13:57:05.485032Z"
    }
   },
   "outputs": [],
   "source": [
    "def intcode_run(prog, input_value=None):\n",
    "    import logging\n",
    "    from intcode import Machine\n",
    "    \n",
    "    m = Machine(prog, loglevel=logging.WARNING)\n",
    "    if input_value is not None:\n",
    "        m.add_input(input_value)\n",
    "    m.run()\n",
    "    return m"
   ]
  },
  {
   "cell_type": "code",
   "execution_count": 2,
   "metadata": {
    "ExecuteTime": {
     "end_time": "2019-12-09T13:57:05.514955Z",
     "start_time": "2019-12-09T13:57:05.497000Z"
    }
   },
   "outputs": [],
   "source": [
    "# Tests\n",
    "m = intcode_run(\"1,9,10,3,2,3,11,0,99,30,40,50\")\n",
    "assert m.memory == m.str2mem(\"3500,9,10,70,2,3,11,0,99,30,40,50\")\n",
    "\n",
    "m = intcode_run(\"1,0,0,0,99\")\n",
    "assert m.memory == m.str2mem(\"2,0,0,0,99\")\n",
    "\n",
    "m = intcode_run(\"1,1,1,4,99,5,6,0,99\")\n",
    "assert m.memory == m.str2mem(\"30,1,1,4,2,5,6,0,99\")\n",
    "\n",
    "m = intcode_run(\"1002,4,3,4,33\")\n",
    "assert m.memory == m.str2mem(\"1002,4,3,4,99\")"
   ]
  },
  {
   "cell_type": "code",
   "execution_count": 3,
   "metadata": {
    "ExecuteTime": {
     "end_time": "2019-12-09T13:57:05.524925Z",
     "start_time": "2019-12-09T13:57:05.518941Z"
    }
   },
   "outputs": [],
   "source": [
    "prog = \"3,9,8,9,10,9,4,9,99,-1,8\"\n",
    "assert intcode_run(prog, 8).outputs[0] == 1\n",
    "assert intcode_run(prog, 7).outputs[0] == 0\n",
    "assert intcode_run(prog, 9).outputs[0] == 0"
   ]
  },
  {
   "cell_type": "code",
   "execution_count": 4,
   "metadata": {
    "ExecuteTime": {
     "end_time": "2019-12-09T13:57:05.540883Z",
     "start_time": "2019-12-09T13:57:05.528914Z"
    },
    "scrolled": true
   },
   "outputs": [],
   "source": [
    "# Output 0 if input is 0, otherwise output 1\n",
    "prog = \"3,12,6,12,15,1,13,14,13,4,13,99,-1,0,1,9\"\n",
    "assert list(intcode_run(prog, 0).outputs) == [0]\n",
    "assert list(intcode_run(prog, -1).outputs) == [1]\n",
    "assert list(intcode_run(prog, 1).outputs) == [1]\n",
    "\n",
    "# Equal to 0?\n",
    "prog = \"3,3,1105,-1,9,1101,0,0,12,4,12,99,1\"\n",
    "assert list(intcode_run(prog, 0).outputs) == [0]\n",
    "assert list(intcode_run(prog, -1).outputs) == [1]\n",
    "assert list(intcode_run(prog, 1).outputs) == [1]"
   ]
  },
  {
   "cell_type": "markdown",
   "metadata": {},
   "source": [
    "# Part 1"
   ]
  },
  {
   "cell_type": "code",
   "execution_count": 5,
   "metadata": {
    "ExecuteTime": {
     "end_time": "2019-12-09T13:57:05.575790Z",
     "start_time": "2019-12-09T13:57:05.544871Z"
    }
   },
   "outputs": [
    {
     "data": {
      "text/plain": [
       "deque([0, 0, 0, 0, 0, 0, 0, 0, 0, 5577461])"
      ]
     },
     "execution_count": 5,
     "metadata": {},
     "output_type": "execute_result"
    }
   ],
   "source": [
    "with open(\"day05.input\") as file:\n",
    "    prog = file.readline().strip()\n",
    "\n",
    "intcode_run(prog, 1).outputs"
   ]
  },
  {
   "cell_type": "markdown",
   "metadata": {},
   "source": [
    "# Part 2"
   ]
  },
  {
   "cell_type": "code",
   "execution_count": 6,
   "metadata": {
    "ExecuteTime": {
     "end_time": "2019-12-09T13:57:05.589753Z",
     "start_time": "2019-12-09T13:57:05.578781Z"
    }
   },
   "outputs": [],
   "source": [
    "# Tests\n",
    "prog = \"3,21,1008,21,8,20,1005,20,22,107,8,21,20,1006,20,31,1106,0,36,98,0,0,1002,21,125,20,4\"\\\n",
    "       \",20,1105,1,46,104,999,1105,1,46,1101,1000,1,20,4,20,1105,1,46,98,99\"\n",
    "\n",
    "assert list(intcode_run(prog, 7).outputs) == [999]\n",
    "assert list(intcode_run(prog, 8).outputs) == [1000]\n",
    "assert list(intcode_run(prog, 9).outputs) == [1001]"
   ]
  },
  {
   "cell_type": "code",
   "execution_count": 7,
   "metadata": {
    "ExecuteTime": {
     "end_time": "2019-12-09T13:57:05.607705Z",
     "start_time": "2019-12-09T13:57:05.593743Z"
    }
   },
   "outputs": [
    {
     "data": {
      "text/plain": [
       "deque([7161591])"
      ]
     },
     "execution_count": 7,
     "metadata": {},
     "output_type": "execute_result"
    }
   ],
   "source": [
    "with open(\"day05.input\") as file:\n",
    "    prog = file.readline().strip()\n",
    "    \n",
    "intcode_run(prog, 5).outputs"
   ]
  },
  {
   "cell_type": "code",
   "execution_count": null,
   "metadata": {},
   "outputs": [],
   "source": []
  }
 ],
 "metadata": {
  "kernelspec": {
   "display_name": "Python 3",
   "language": "python",
   "name": "python3"
  },
  "language_info": {
   "codemirror_mode": {
    "name": "ipython",
    "version": 3
   },
   "file_extension": ".py",
   "mimetype": "text/x-python",
   "name": "python",
   "nbconvert_exporter": "python",
   "pygments_lexer": "ipython3",
   "version": "3.7.4"
  },
  "toc": {
   "base_numbering": 1,
   "nav_menu": {},
   "number_sections": true,
   "sideBar": true,
   "skip_h1_title": false,
   "title_cell": "Table of Contents",
   "title_sidebar": "Contents",
   "toc_cell": false,
   "toc_position": {},
   "toc_section_display": true,
   "toc_window_display": false
  }
 },
 "nbformat": 4,
 "nbformat_minor": 2
}
