{
 "cells": [
  {
   "cell_type": "code",
   "execution_count": 1,
   "metadata": {
    "ExecuteTime": {
     "end_time": "2019-12-11T08:04:44.187731Z",
     "start_time": "2019-12-11T08:04:44.174767Z"
    }
   },
   "outputs": [],
   "source": [
    "from intcode import Machine\n",
    "import logging"
   ]
  },
  {
   "cell_type": "code",
   "execution_count": 2,
   "metadata": {
    "ExecuteTime": {
     "end_time": "2019-12-11T08:04:44.236115Z",
     "start_time": "2019-12-11T08:04:44.190723Z"
    }
   },
   "outputs": [],
   "source": [
    "def move(pos, pointing, turn):\n",
    "    increment = {\n",
    "        # pointing: 0 = N, 1 = E, 2 = S, 3 = W\n",
    "        0: (0, 1),\n",
    "        1: (1, 0),\n",
    "        2: (0, -1),\n",
    "        3: (-1, 0)\n",
    "    }\n",
    "    turns = {\n",
    "        0: -1,\n",
    "        1: 1,\n",
    "    }\n",
    "    new_pos = list(pos)\n",
    "    pointing = (pointing + turns[turn]) % 4\n",
    "    for i in range(2):\n",
    "        new_pos[i] += increment[pointing][i]\n",
    "   \n",
    "    return tuple(new_pos), pointing"
   ]
  },
  {
   "cell_type": "code",
   "execution_count": 3,
   "metadata": {
    "ExecuteTime": {
     "end_time": "2019-12-11T08:04:44.279996Z",
     "start_time": "2019-12-11T08:04:44.240103Z"
    }
   },
   "outputs": [],
   "source": [
    "def run_robot(prog, start_value=None):\n",
    "    panels = dict()\n",
    "    pos = (0, 0)\n",
    "    pointing = 0\n",
    "    robot = Machine(prog, loglevel=logging.WARNING)\n",
    "\n",
    "    if start_value is not None:\n",
    "        panels[pos] = start_value\n",
    "    \n",
    "    while not robot.finished:\n",
    "        robot.add_input(panels.get(pos, 0))\n",
    "        robot.run()\n",
    "        turn = robot.outputs.pop()\n",
    "        color = robot.outputs.pop()\n",
    "        panels[pos] = color\n",
    "        pos, pointing = move(pos, pointing, turn)\n",
    "    \n",
    "    return panels"
   ]
  },
  {
   "cell_type": "markdown",
   "metadata": {},
   "source": [
    "# Part 1"
   ]
  },
  {
   "cell_type": "code",
   "execution_count": 4,
   "metadata": {
    "ExecuteTime": {
     "end_time": "2019-12-11T08:04:44.330861Z",
     "start_time": "2019-12-11T08:04:44.282989Z"
    }
   },
   "outputs": [],
   "source": [
    "with open(\"day11.input\") as file:\n",
    "    prog = file.readline().strip()"
   ]
  },
  {
   "cell_type": "code",
   "execution_count": 5,
   "metadata": {
    "ExecuteTime": {
     "end_time": "2019-12-11T08:04:45.542257Z",
     "start_time": "2019-12-11T08:04:44.333855Z"
    }
   },
   "outputs": [
    {
     "data": {
      "text/plain": [
       "2082"
      ]
     },
     "execution_count": 5,
     "metadata": {},
     "output_type": "execute_result"
    }
   ],
   "source": [
    "panels = run_robot(prog)\n",
    "len(panels)"
   ]
  },
  {
   "cell_type": "markdown",
   "metadata": {},
   "source": [
    "# Part 2"
   ]
  },
  {
   "cell_type": "code",
   "execution_count": 6,
   "metadata": {
    "ExecuteTime": {
     "end_time": "2019-12-11T08:04:45.639504Z",
     "start_time": "2019-12-11T08:04:45.545250Z"
    }
   },
   "outputs": [],
   "source": [
    "panels = run_robot(prog, start_value=1)"
   ]
  },
  {
   "cell_type": "code",
   "execution_count": 7,
   "metadata": {
    "ExecuteTime": {
     "end_time": "2019-12-11T08:04:45.658457Z",
     "start_time": "2019-12-11T08:04:45.641498Z"
    }
   },
   "outputs": [
    {
     "name": "stdout",
     "output_type": "stream",
     "text": [
      "x: 0 42\n",
      "y: -5 0\n"
     ]
    }
   ],
   "source": [
    "max_x = max((k[0] for k in panels))\n",
    "min_x = min((k[0] for k in panels))\n",
    "max_y = max((k[1] for k in panels))\n",
    "min_y = min((k[1] for k in panels))\n",
    "print('x:', min_x, max_x)\n",
    "print('y:', min_y, max_y)"
   ]
  },
  {
   "cell_type": "code",
   "execution_count": 8,
   "metadata": {
    "ExecuteTime": {
     "end_time": "2019-12-11T08:04:45.688374Z",
     "start_time": "2019-12-11T08:04:45.663441Z"
    }
   },
   "outputs": [],
   "source": [
    "grid = [[0]*(max_x - min_x + 1) for y in range(max_y - min_y + 1)]"
   ]
  },
  {
   "cell_type": "code",
   "execution_count": 9,
   "metadata": {
    "ExecuteTime": {
     "end_time": "2019-12-11T08:04:45.757194Z",
     "start_time": "2019-12-11T08:04:45.691370Z"
    }
   },
   "outputs": [],
   "source": [
    "for k, v in panels.items():\n",
    "    grid[max_y - (k[1] - min_y) - 1][k[0] - min_x] = v"
   ]
  },
  {
   "cell_type": "code",
   "execution_count": 10,
   "metadata": {
    "ExecuteTime": {
     "end_time": "2019-12-11T08:04:45.799078Z",
     "start_time": "2019-12-11T08:04:45.760190Z"
    }
   },
   "outputs": [
    {
     "name": "stdout",
     "output_type": "stream",
     "text": [
      " ████  ██  ███  ███   ██  ████   ██ █  █   \n",
      " █    █  █ █  █ █  █ █  █ █       █ █ █    \n",
      " ███  █  █ █  █ ███  █    ███     █ ██     \n",
      " █    ████ ███  █  █ █    █       █ █ █    \n",
      " █    █  █ █ █  █  █ █  █ █    █  █ █ █    \n",
      " █    █  █ █  █ ███   ██  █     ██  █  █   \n"
     ]
    }
   ],
   "source": [
    "for row in grid:\n",
    "    print(''.join(map(str, row)).replace('0', ' ').replace('1', '█'))"
   ]
  },
  {
   "cell_type": "code",
   "execution_count": null,
   "metadata": {},
   "outputs": [],
   "source": []
  }
 ],
 "metadata": {
  "kernelspec": {
   "display_name": "Python 3",
   "language": "python",
   "name": "python3"
  },
  "language_info": {
   "codemirror_mode": {
    "name": "ipython",
    "version": 3
   },
   "file_extension": ".py",
   "mimetype": "text/x-python",
   "name": "python",
   "nbconvert_exporter": "python",
   "pygments_lexer": "ipython3",
   "version": "3.7.4"
  },
  "toc": {
   "base_numbering": 1,
   "nav_menu": {},
   "number_sections": true,
   "sideBar": true,
   "skip_h1_title": false,
   "title_cell": "Table of Contents",
   "title_sidebar": "Contents",
   "toc_cell": false,
   "toc_position": {},
   "toc_section_display": true,
   "toc_window_display": false
  }
 },
 "nbformat": 4,
 "nbformat_minor": 2
}
