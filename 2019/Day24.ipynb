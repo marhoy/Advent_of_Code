{
 "cells": [
  {
   "cell_type": "code",
   "execution_count": 1,
   "metadata": {
    "ExecuteTime": {
     "end_time": "2019-12-25T08:14:24.927861Z",
     "start_time": "2019-12-25T08:14:24.920486Z"
    }
   },
   "outputs": [],
   "source": [
    "def get_grid(filename):\n",
    "    grid = dict()\n",
    "    with open(filename) as file:\n",
    "        for row, line in enumerate(file):\n",
    "            for col, char in enumerate(line.strip()):\n",
    "                grid[row, col] = char\n",
    "    return grid"
   ]
  },
  {
   "cell_type": "code",
   "execution_count": 66,
   "metadata": {
    "ExecuteTime": {
     "end_time": "2019-12-25T09:19:07.669314Z",
     "start_time": "2019-12-25T09:19:07.662540Z"
    }
   },
   "outputs": [],
   "source": [
    "def print_grid(grid):\n",
    "    for row in range(5):\n",
    "        print(''.join([grid.get((row, col), '.') for col in range(5)]))"
   ]
  },
  {
   "cell_type": "code",
   "execution_count": 67,
   "metadata": {
    "ExecuteTime": {
     "end_time": "2019-12-25T09:19:08.308641Z",
     "start_time": "2019-12-25T09:19:08.302121Z"
    }
   },
   "outputs": [],
   "source": [
    "def adjacent_bugs(pos, grid):\n",
    "    count = 0\n",
    "    x, y = pos\n",
    "    for dx, dy in zip((0, 0, 1, -1), (1, -1, 0, 0)):\n",
    "        if grid.get((x + dx, y + dy)) == '#':\n",
    "            count += 1\n",
    "    return count"
   ]
  },
  {
   "cell_type": "code",
   "execution_count": 68,
   "metadata": {
    "ExecuteTime": {
     "end_time": "2019-12-25T09:19:08.619633Z",
     "start_time": "2019-12-25T09:19:08.614893Z"
    }
   },
   "outputs": [],
   "source": [
    "def biodiversity(grid):\n",
    "    result = 0\n",
    "    multiplier = 1\n",
    "    for char in grid.values():\n",
    "        if char == '#':\n",
    "            result += multiplier\n",
    "        multiplier *= 2\n",
    "    return result"
   ]
  },
  {
   "cell_type": "code",
   "execution_count": 69,
   "metadata": {
    "ExecuteTime": {
     "end_time": "2019-12-25T09:19:08.831818Z",
     "start_time": "2019-12-25T09:19:08.821787Z"
    }
   },
   "outputs": [],
   "source": [
    "def evolve(old):\n",
    "    new = dict()\n",
    "    for row in range(5):\n",
    "        for col in range(5):\n",
    "            count = adjacent_bugs((row, col), old)\n",
    "            if (old[row, col] == '#') and not (count == 1):\n",
    "                new[row, col] = '.'\n",
    "            elif (old[row, col] == '.') and (count in (1, 2)):\n",
    "                new[row, col] = '#'\n",
    "            else:\n",
    "                new[row, col] = old[row, col]\n",
    "    return new"
   ]
  },
  {
   "cell_type": "markdown",
   "metadata": {},
   "source": [
    "# Part 1"
   ]
  },
  {
   "cell_type": "code",
   "execution_count": 70,
   "metadata": {
    "ExecuteTime": {
     "end_time": "2019-12-25T09:19:09.315768Z",
     "start_time": "2019-12-25T09:19:09.310294Z"
    }
   },
   "outputs": [],
   "source": [
    "def part1(filename):\n",
    "    state = get_grid(filename)\n",
    "    seen = set()\n",
    "    while True:\n",
    "        state = evolve(state)\n",
    "        bio = biodiversity(state)\n",
    "        if bio in seen:\n",
    "            break\n",
    "        seen.add(bio)\n",
    "    return bio"
   ]
  },
  {
   "cell_type": "code",
   "execution_count": 71,
   "metadata": {
    "ExecuteTime": {
     "end_time": "2019-12-25T09:19:09.753685Z",
     "start_time": "2019-12-25T09:19:09.733781Z"
    }
   },
   "outputs": [],
   "source": [
    "# Test\n",
    "assert part1(\"day24-test1.input\") == 2129920"
   ]
  },
  {
   "cell_type": "code",
   "execution_count": 72,
   "metadata": {
    "ExecuteTime": {
     "end_time": "2019-12-25T09:19:10.267285Z",
     "start_time": "2019-12-25T09:19:10.253950Z"
    }
   },
   "outputs": [
    {
     "data": {
      "text/plain": [
       "26840049"
      ]
     },
     "execution_count": 72,
     "metadata": {},
     "output_type": "execute_result"
    }
   ],
   "source": [
    "part1(\"day24.input\")"
   ]
  },
  {
   "cell_type": "markdown",
   "metadata": {},
   "source": [
    "# Part 2"
   ]
  },
  {
   "cell_type": "code",
   "execution_count": 104,
   "metadata": {
    "ExecuteTime": {
     "end_time": "2019-12-25T09:28:31.135132Z",
     "start_time": "2019-12-25T09:28:31.121885Z"
    }
   },
   "outputs": [],
   "source": [
    "def adjacent_bugs_part2(pos, grids, level):\n",
    "    count = 0\n",
    "    row, col = pos\n",
    "    for drow, dcol in zip((0, 0, 1, -1), (1, -1, 0, 0)):\n",
    "        n = (row + drow, col + dcol)\n",
    "        if n == (2, 2):\n",
    "            # Recurse into center grid\n",
    "            if pos == (2, 1):\n",
    "                # Sum of inner left edge \n",
    "                count += sum(grids[level + 1].get((r, 0)) == '#' for r in range(5))\n",
    "            if pos == (2, 3):\n",
    "                # Sum of inner right edge\n",
    "                count += sum(grids[level + 1].get((r, 4)) == '#' for r in range(5))\n",
    "            if pos == (1, 2):\n",
    "                # Sum of inner top edge\n",
    "                count += sum(grids[level + 1].get((0, c)) == '#' for c in range(5))\n",
    "            if pos == (3, 2):\n",
    "                # Sum of inner bottom edge\n",
    "                count += sum(grids[level + 1].get((4, c)) == '#' for c in range(5))\n",
    "\n",
    "        # Recurse into grid outside\n",
    "        elif (n[0] == -1) and (grids[level - 1].get((1, 2)) == '#'):\n",
    "            # Outer cell above\n",
    "            count += 1\n",
    "        elif (n[0] == 5) and (grids[level - 1].get((3, 2)) == '#'):\n",
    "            # Outer cell below\n",
    "            count += 1\n",
    "        elif (n[1] == -1) and (grids[level - 1].get((2, 1)) == '#'):\n",
    "            # Outer cell left\n",
    "            count += 1\n",
    "        elif (n[1] == 5) and (grids[level - 1].get((2, 3)) == '#'):\n",
    "            # Outer cell right\n",
    "            count += 1\n",
    "        \n",
    "        # Normal neighbours\n",
    "        elif grids[level].get(n) == '#':\n",
    "            count += 1 \n",
    "                \n",
    "    return count"
   ]
  },
  {
   "cell_type": "code",
   "execution_count": 146,
   "metadata": {
    "ExecuteTime": {
     "end_time": "2019-12-25T09:36:09.953587Z",
     "start_time": "2019-12-25T09:36:09.943036Z"
    }
   },
   "outputs": [],
   "source": [
    "def evolve_part2(old):\n",
    "    max_level = generation // 2 + 1\n",
    "    new = collections.defaultdict(dict)\n",
    "    for level in range(-max_level, max_level + 1):\n",
    "        for row in range(5):\n",
    "            for col in range(5):\n",
    "                if (row, col) == (2, 2):\n",
    "                    # Don't assign a value to the center tile\n",
    "                    continue\n",
    "                count = adjacent_bugs_part2((row, col), old, level)\n",
    "                if (old[level].get((row, col)) == '#') and not (count == 1):\n",
    "                    new[level][row, col] = '.'\n",
    "                elif (old[level].get((row, col)) == '.') and (count in (1, 2)):\n",
    "                    new[level][row, col] = '#'\n",
    "                else:\n",
    "                    new[level][row, col] = old[level].get((row, col), '.')\n",
    "    return new"
   ]
  },
  {
   "cell_type": "code",
   "execution_count": 153,
   "metadata": {
    "ExecuteTime": {
     "end_time": "2019-12-25T09:36:48.490230Z",
     "start_time": "2019-12-25T09:36:48.480584Z"
    }
   },
   "outputs": [
    {
     "name": "stdout",
     "output_type": "stream",
     "text": [
      "....#\n",
      "#..#.\n",
      "#..##\n",
      "..#..\n",
      "#....\n"
     ]
    }
   ],
   "source": [
    "import collections\n",
    "grids = collections.defaultdict(dict)\n",
    "grids[0] = get_grid(\"day24-test1.input\")\n",
    "print_grid(grids[0])"
   ]
  },
  {
   "cell_type": "code",
   "execution_count": 148,
   "metadata": {
    "ExecuteTime": {
     "end_time": "2019-12-25T09:36:10.821788Z",
     "start_time": "2019-12-25T09:36:10.810395Z"
    }
   },
   "outputs": [],
   "source": [
    "for generation in range(10):\n",
    "    grids = evolve_part2(grids)"
   ]
  },
  {
   "cell_type": "code",
   "execution_count": 149,
   "metadata": {
    "ExecuteTime": {
     "end_time": "2019-12-25T09:36:11.288047Z",
     "start_time": "2019-12-25T09:36:11.280641Z"
    }
   },
   "outputs": [
    {
     "data": {
      "text/plain": [
       "[-5, -4, -3, -2, -1, 0, 1, 2, 3, 4, 5]"
      ]
     },
     "execution_count": 149,
     "metadata": {},
     "output_type": "execute_result"
    }
   ],
   "source": [
    "sorted(grids.keys())"
   ]
  },
  {
   "cell_type": "code",
   "execution_count": 151,
   "metadata": {
    "ExecuteTime": {
     "end_time": "2019-12-25T09:36:16.896036Z",
     "start_time": "2019-12-25T09:36:16.888761Z"
    }
   },
   "outputs": [
    {
     "name": "stdout",
     "output_type": "stream",
     "text": [
      ".....\n",
      "..#..\n",
      "...#.\n",
      "..#..\n",
      ".....\n"
     ]
    }
   ],
   "source": [
    "print_grid(grids[-5])"
   ]
  },
  {
   "cell_type": "code",
   "execution_count": null,
   "metadata": {},
   "outputs": [],
   "source": []
  }
 ],
 "metadata": {
  "kernelspec": {
   "display_name": "Python 3",
   "language": "python",
   "name": "python3"
  },
  "language_info": {
   "codemirror_mode": {
    "name": "ipython",
    "version": 3
   },
   "file_extension": ".py",
   "mimetype": "text/x-python",
   "name": "python",
   "nbconvert_exporter": "python",
   "pygments_lexer": "ipython3",
   "version": "3.7.4"
  }
 },
 "nbformat": 4,
 "nbformat_minor": 2
}
