{
 "cells": [
  {
   "cell_type": "code",
   "execution_count": null,
   "metadata": {},
   "outputs": [],
   "source": [
    "def get_grid(filename):\n",
    "    grid = dict()\n",
    "    with open(filename) as file:\n",
    "        for row, line in enumerate(file):\n",
    "            for col, char in enumerate(line.strip()):\n",
    "                grid[row, col] = char\n",
    "    return grid"
   ]
  },
  {
   "cell_type": "code",
   "execution_count": null,
   "metadata": {},
   "outputs": [],
   "source": [
    "def print_grid(grid):\n",
    "    for row in range(5):\n",
    "        print(''.join([grid.get((row, col), '.') for col in range(5)]))"
   ]
  },
  {
   "cell_type": "code",
   "execution_count": null,
   "metadata": {},
   "outputs": [],
   "source": [
    "def adjacent_bugs(pos, grid):\n",
    "    count = 0\n",
    "    x, y = pos\n",
    "    for dx, dy in zip((0, 0, 1, -1), (1, -1, 0, 0)):\n",
    "        if grid.get((x + dx, y + dy)) == '#':\n",
    "            count += 1\n",
    "    return count"
   ]
  },
  {
   "cell_type": "code",
   "execution_count": null,
   "metadata": {},
   "outputs": [],
   "source": [
    "def biodiversity(grid):\n",
    "    result = 0\n",
    "    multiplier = 1\n",
    "    for char in grid.values():\n",
    "        if char == '#':\n",
    "            result += multiplier\n",
    "        multiplier *= 2\n",
    "    return result"
   ]
  },
  {
   "cell_type": "code",
   "execution_count": null,
   "metadata": {},
   "outputs": [],
   "source": [
    "def evolve(old):\n",
    "    new = dict()\n",
    "    for row in range(5):\n",
    "        for col in range(5):\n",
    "            count = adjacent_bugs((row, col), old)\n",
    "            if (old[row, col] == '#') and not (count == 1):\n",
    "                new[row, col] = '.'\n",
    "            elif (old[row, col] == '.') and (count in (1, 2)):\n",
    "                new[row, col] = '#'\n",
    "            else:\n",
    "                new[row, col] = old[row, col]\n",
    "    return new"
   ]
  },
  {
   "cell_type": "markdown",
   "metadata": {},
   "source": [
    "# Part 1"
   ]
  },
  {
   "cell_type": "code",
   "execution_count": null,
   "metadata": {},
   "outputs": [],
   "source": [
    "def part1(filename):\n",
    "    state = get_grid(filename)\n",
    "    seen = set()\n",
    "    while True:\n",
    "        state = evolve(state)\n",
    "        bio = biodiversity(state)\n",
    "        if bio in seen:\n",
    "            break\n",
    "        seen.add(bio)\n",
    "    return bio"
   ]
  },
  {
   "cell_type": "code",
   "execution_count": null,
   "metadata": {},
   "outputs": [],
   "source": [
    "# Test\n",
    "assert part1(\"day24-test1.input\") == 2129920"
   ]
  },
  {
   "cell_type": "code",
   "execution_count": null,
   "metadata": {},
   "outputs": [],
   "source": [
    "part1(\"day24.input\")"
   ]
  },
  {
   "cell_type": "markdown",
   "metadata": {},
   "source": [
    "# Part 2"
   ]
  },
  {
   "cell_type": "code",
   "execution_count": null,
   "metadata": {},
   "outputs": [],
   "source": [
    "def adjacent_bugs_part2(pos, grids, level):\n",
    "    count = 0\n",
    "    row, col = pos\n",
    "    for drow, dcol in zip((0, 0, 1, -1), (1, -1, 0, 0)):\n",
    "        n = (row + drow, col + dcol)\n",
    "        if n == (2, 2):\n",
    "            # Recurse into center grid\n",
    "            if pos == (2, 1):\n",
    "                # Sum of inner left edge \n",
    "                count += sum(grids[level + 1].get((r, 0)) == '#' for r in range(5))\n",
    "            if pos == (2, 3):\n",
    "                # Sum of inner right edge\n",
    "                count += sum(grids[level + 1].get((r, 4)) == '#' for r in range(5))\n",
    "            if pos == (1, 2):\n",
    "                # Sum of inner top edge\n",
    "                count += sum(grids[level + 1].get((0, c)) == '#' for c in range(5))\n",
    "            if pos == (3, 2):\n",
    "                # Sum of inner bottom edge\n",
    "                count += sum(grids[level + 1].get((4, c)) == '#' for c in range(5))\n",
    "\n",
    "        # Recurse into grid outside\n",
    "        elif (n[0] == -1) and (grids[level - 1].get((1, 2)) == '#'):\n",
    "            # Outer cell above\n",
    "            count += 1\n",
    "        elif (n[0] == 5) and (grids[level - 1].get((3, 2)) == '#'):\n",
    "            # Outer cell below\n",
    "            count += 1\n",
    "        elif (n[1] == -1) and (grids[level - 1].get((2, 1)) == '#'):\n",
    "            # Outer cell left\n",
    "            count += 1\n",
    "        elif (n[1] == 5) and (grids[level - 1].get((2, 3)) == '#'):\n",
    "            # Outer cell right\n",
    "            count += 1\n",
    "        \n",
    "        # Normal neighbours\n",
    "        elif grids[level].get(n) == '#':\n",
    "            count += 1 \n",
    "                \n",
    "    return count"
   ]
  },
  {
   "cell_type": "code",
   "execution_count": null,
   "metadata": {},
   "outputs": [],
   "source": [
    "def evolve_part2(old):\n",
    "    max_level = generation // 2 + 1\n",
    "    new = collections.defaultdict(dict)\n",
    "    for level in range(-max_level, max_level + 1):\n",
    "        for row in range(5):\n",
    "            for col in range(5):\n",
    "                if (row, col) == (2, 2):\n",
    "                    # Don't assign a value to the center tile\n",
    "                    continue\n",
    "                count = adjacent_bugs_part2((row, col), old, level)\n",
    "                if (old[level].get((row, col)) == '#') and not (count == 1):\n",
    "                    new[level][row, col] = '.'\n",
    "                elif (old[level].get((row, col)) == '.') and (count in (1, 2)):\n",
    "                    new[level][row, col] = '#'\n",
    "                else:\n",
    "                    new[level][row, col] = old[level].get((row, col), '.')\n",
    "    return new"
   ]
  },
  {
   "cell_type": "code",
   "execution_count": null,
   "metadata": {},
   "outputs": [],
   "source": [
    "import collections\n",
    "grids = collections.defaultdict(dict)\n",
    "grids[0] = get_grid(\"day24-test1.input\")\n",
    "print_grid(grids[0])"
   ]
  },
  {
   "cell_type": "code",
   "execution_count": null,
   "metadata": {},
   "outputs": [],
   "source": [
    "for generation in range(10):\n",
    "    grids = evolve_part2(grids)"
   ]
  },
  {
   "cell_type": "code",
   "execution_count": null,
   "metadata": {},
   "outputs": [],
   "source": [
    "sorted(grids.keys())"
   ]
  },
  {
   "cell_type": "code",
   "execution_count": null,
   "metadata": {},
   "outputs": [],
   "source": [
    "print_grid(grids[-5])"
   ]
  },
  {
   "cell_type": "code",
   "execution_count": null,
   "metadata": {},
   "outputs": [],
   "source": []
  }
 ],
 "metadata": {
  "kernelspec": {
   "display_name": "Python 3",
   "language": "python",
   "name": "python3"
  },
  "language_info": {
   "codemirror_mode": {
    "name": "ipython",
    "version": 3
   },
   "file_extension": ".py",
   "mimetype": "text/x-python",
   "name": "python",
   "nbconvert_exporter": "python",
   "pygments_lexer": "ipython3",
   "version": "3.7.4"
  }
 },
 "nbformat": 4,
 "nbformat_minor": 2
}
