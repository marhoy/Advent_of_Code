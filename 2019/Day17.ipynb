{
 "cells": [
  {
   "cell_type": "code",
   "execution_count": null,
   "metadata": {},
   "outputs": [],
   "source": [
    "import collections\n",
    "\n",
    "from intcode import Machine"
   ]
  },
  {
   "cell_type": "code",
   "execution_count": null,
   "metadata": {},
   "outputs": [],
   "source": [
    "with open(\"day17.input\") as file:\n",
    "    prog = file.readline().strip()"
   ]
  },
  {
   "cell_type": "code",
   "execution_count": null,
   "metadata": {},
   "outputs": [],
   "source": [
    "def find_neighbours(pos):\n",
    "    neighbours = []\n",
    "    for candidate in [\n",
    "        (pos[0], pos[1] + 1),\n",
    "        (pos[0], pos[1] - 1),\n",
    "        (pos[0] + 1, pos[1]),\n",
    "        (pos[0] - 1, pos[1])]:\n",
    "        if grid.get(candidate) == '#':\n",
    "            neighbours.append(candidate)\n",
    "    return neighbours"
   ]
  },
  {
   "cell_type": "code",
   "execution_count": null,
   "metadata": {},
   "outputs": [],
   "source": [
    "def get_picture(robot):\n",
    "    row, col = 0, 0\n",
    "    grid = dict()\n",
    "    for char in robot._outputs:\n",
    "        if chr(char) in ['^', 'v', '>', '<']:\n",
    "            robot_pos = (row, col)\n",
    "        if char == 10:\n",
    "            row += 1\n",
    "            col = 0\n",
    "        else:\n",
    "            grid[(row, col)] = chr(char)\n",
    "            col += 1\n",
    "    return grid, robot_pos"
   ]
  },
  {
   "cell_type": "code",
   "execution_count": null,
   "metadata": {},
   "outputs": [],
   "source": [
    "def draw_grid(grid):\n",
    "    max_x = max((k[0] for k in grid))\n",
    "    min_x = min((k[0] for k in grid))\n",
    "    max_y = max((k[1] for k in grid))\n",
    "    min_y = min((k[1] for k in grid))\n",
    "\n",
    "    for x in range(min_x, max_x + 1):\n",
    "        row = ''.join(grid.get((x, y)) for y in range(min_y, max_y + 1))\n",
    "        print(row)"
   ]
  },
  {
   "cell_type": "markdown",
   "metadata": {},
   "source": [
    "# Part 1"
   ]
  },
  {
   "cell_type": "code",
   "execution_count": null,
   "metadata": {},
   "outputs": [],
   "source": [
    "m = Machine(prog)\n",
    "m.run()"
   ]
  },
  {
   "cell_type": "code",
   "execution_count": null,
   "metadata": {},
   "outputs": [],
   "source": [
    "grid, start = get_picture(m)"
   ]
  },
  {
   "cell_type": "code",
   "execution_count": null,
   "metadata": {},
   "outputs": [],
   "source": [
    "queue = collections.deque([start])\n",
    "visited = set()\n",
    "intersect = set()\n",
    "\n",
    "while queue:\n",
    "    pos = queue.pop()\n",
    "    visited.add(pos)\n",
    "    \n",
    "    neighbours = find_neighbours(pos)\n",
    "    if len(neighbours) == 4:\n",
    "        intersect.add(pos)\n",
    "        \n",
    "    for n in neighbours:\n",
    "        if not n in visited:\n",
    "            queue.appendleft(n)"
   ]
  },
  {
   "cell_type": "code",
   "execution_count": null,
   "metadata": {},
   "outputs": [],
   "source": [
    "sum([x*y for x, y in intersect])"
   ]
  },
  {
   "cell_type": "code",
   "execution_count": null,
   "metadata": {},
   "outputs": [],
   "source": [
    "draw_grid(grid)"
   ]
  },
  {
   "cell_type": "markdown",
   "metadata": {},
   "source": [
    "# Part 2"
   ]
  },
  {
   "cell_type": "code",
   "execution_count": null,
   "metadata": {},
   "outputs": [],
   "source": [
    "#  0\n",
    "# 3 1\n",
    "#  2\n",
    "heading_to_int = {\n",
    "    '^': 0,\n",
    "    'v': 2,\n",
    "    '>': 1,\n",
    "    '<': 3,\n",
    "}\n",
    "\n",
    "int_to_heading = {v: k for k, v in heading_to_int.items()}"
   ]
  },
  {
   "cell_type": "code",
   "execution_count": null,
   "metadata": {},
   "outputs": [],
   "source": [
    "def find_turn(pos, heading):\n",
    "    candidate = int_to_heading[(heading_to_int[heading] + 1) % 4]\n",
    "    if can_move_forward(pos, candidate):\n",
    "        return 'R', candidate\n",
    "    candidate = int_to_heading[(heading_to_int[heading] - 1) % 4]\n",
    "    if can_move_forward(pos, candidate):\n",
    "        return 'L', candidate\n",
    "    raise StopIteration(\"Cannot turn either L or R\")"
   ]
  },
  {
   "cell_type": "code",
   "execution_count": null,
   "metadata": {},
   "outputs": [],
   "source": [
    "def in_front_of(pos, heading):\n",
    "    if heading == '^':\n",
    "        return (pos[0] - 1, pos[1])\n",
    "    if heading == 'v':\n",
    "        return (pos[0] + 1, pos[1])\n",
    "    if heading == '>':\n",
    "        return (pos[0], pos[1] + 1)\n",
    "    if heading == '<':\n",
    "        return (pos[0], pos[1] - 1)"
   ]
  },
  {
   "cell_type": "code",
   "execution_count": null,
   "metadata": {},
   "outputs": [],
   "source": [
    "def can_move_forward(pos, heading):\n",
    "    if grid.get(in_front_of(pos, heading)) == '#':\n",
    "        return True\n",
    "    return False"
   ]
  },
  {
   "cell_type": "code",
   "execution_count": null,
   "metadata": {},
   "outputs": [],
   "source": [
    "def find_track(pos, heading):\n",
    "    track = []\n",
    "    while grid[pos]:\n",
    "        counter = 0\n",
    "        while can_move_forward(pos, heading):\n",
    "            counter += 1\n",
    "            pos = in_front_of(pos, heading)\n",
    "        if counter > 0:\n",
    "            track.append(str(counter))   \n",
    "\n",
    "        try:\n",
    "            turn, heading = find_turn(pos, heading)\n",
    "        except StopIteration:\n",
    "            return track\n",
    "        track.append(turn)"
   ]
  },
  {
   "cell_type": "code",
   "execution_count": null,
   "metadata": {},
   "outputs": [],
   "source": [
    "def get_all_outputs(machine):\n",
    "    output = []\n",
    "    while machine._outputs:\n",
    "        output.append(machine.get_output())\n",
    "    return output"
   ]
  },
  {
   "cell_type": "code",
   "execution_count": null,
   "metadata": {},
   "outputs": [],
   "source": [
    "def send_input(sequence, machine):\n",
    "    for c in sequence:\n",
    "        m.add_input(ord(c))\n",
    "    m.add_input(10)"
   ]
  },
  {
   "cell_type": "code",
   "execution_count": null,
   "metadata": {},
   "outputs": [],
   "source": [
    "track = find_track(start, grid[start])\n",
    "path = ','.join(map(str, track))\n",
    "path"
   ]
  },
  {
   "cell_type": "code",
   "execution_count": null,
   "metadata": {},
   "outputs": [],
   "source": [
    "A = \"R,10,L,12,R,6\"\n",
    "B = \"R,6,R,10,R,12,R,6\"\n",
    "C = \"R,10,L,12,L,12\"\n",
    "main = path.replace(A, 'A').replace(B, \"B\").replace(C, \"C\")\n",
    "main"
   ]
  },
  {
   "cell_type": "code",
   "execution_count": null,
   "metadata": {},
   "outputs": [],
   "source": [
    "m = Machine(prog)\n",
    "m.set_mem_value(address=0, value=2)\n",
    "\n",
    "m.run()\n",
    "print(''.join([chr(i) for i in get_all_outputs(m)]))"
   ]
  },
  {
   "cell_type": "code",
   "execution_count": null,
   "metadata": {},
   "outputs": [],
   "source": [
    "# Send main routine\n",
    "send_input(main, m)\n",
    "\n",
    "# Send functions A, B and C\n",
    "send_input(A, m)\n",
    "send_input(B, m)\n",
    "send_input(C, m)\n",
    "\n",
    "# Send No\n",
    "send_input(\"n\", m)\n",
    "\n",
    "m.run()\n",
    "print(''.join([chr(i) for i in m._outputs]))"
   ]
  },
  {
   "cell_type": "code",
   "execution_count": null,
   "metadata": {},
   "outputs": [],
   "source": [
    "m._outputs.pop()"
   ]
  },
  {
   "cell_type": "code",
   "execution_count": null,
   "metadata": {},
   "outputs": [],
   "source": []
  }
 ],
 "metadata": {
  "kernelspec": {
   "display_name": "Python 3",
   "language": "python",
   "name": "python3"
  },
  "language_info": {
   "codemirror_mode": {
    "name": "ipython",
    "version": 3
   },
   "file_extension": ".py",
   "mimetype": "text/x-python",
   "name": "python",
   "nbconvert_exporter": "python",
   "pygments_lexer": "ipython3",
   "version": "3.7.4"
  },
  "toc": {
   "base_numbering": 1,
   "nav_menu": {},
   "number_sections": true,
   "sideBar": true,
   "skip_h1_title": false,
   "title_cell": "Table of Contents",
   "title_sidebar": "Contents",
   "toc_cell": false,
   "toc_position": {},
   "toc_section_display": true,
   "toc_window_display": false
  }
 },
 "nbformat": 4,
 "nbformat_minor": 2
}
