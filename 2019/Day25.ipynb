{
 "cells": [
  {
   "cell_type": "code",
   "execution_count": null,
   "metadata": {},
   "outputs": [],
   "source": [
    "from intcode import Machine\n",
    "import logging\n",
    "import re"
   ]
  },
  {
   "cell_type": "code",
   "execution_count": null,
   "metadata": {},
   "outputs": [],
   "source": [
    "with open(\"day25.input\") as file:\n",
    "    prog = file.readline().strip()"
   ]
  },
  {
   "cell_type": "code",
   "execution_count": null,
   "metadata": {},
   "outputs": [],
   "source": [
    "shortcuts = {\n",
    "    'n': 'north',\n",
    "    's': 'south',\n",
    "    'w': 'west',\n",
    "    'e': 'east'\n",
    "}\n",
    "\n"
   ]
  },
  {
   "cell_type": "code",
   "execution_count": null,
   "metadata": {},
   "outputs": [],
   "source": [
    "items_here = re.compile(\"Items here:\\n(?:- ([\\w ]+)\\n)\")\n",
    "dont_take = [\"molten lava\", \"giant electromagnet\", \"escape pod\", \"photons\", \"infinite loop\"]"
   ]
  },
  {
   "cell_type": "code",
   "execution_count": null,
   "metadata": {},
   "outputs": [],
   "source": [
    "m = Machine(prog, loglevel=logging.WARNING)"
   ]
  },
  {
   "cell_type": "code",
   "execution_count": null,
   "metadata": {},
   "outputs": [],
   "source": [
    "while True:\n",
    "    m.run()\n",
    "    output = \"\".join(map(chr, m.get_outputs()))\n",
    "    print(output)\n",
    "    item = items_here.findall(output)\n",
    "    if item and (item[0] not in dont_take):\n",
    "        command = \"take {}\".format(item[0])\n",
    "    else:\n",
    "        command = input()\n",
    "    if command in shortcuts:\n",
    "        command = shortcuts[command]\n",
    "    command = [ord(c) for c in command]\n",
    "    command.append(10)\n",
    "    m.add_inputs(command)"
   ]
  },
  {
   "cell_type": "code",
   "execution_count": null,
   "metadata": {},
   "outputs": [],
   "source": [
    "item"
   ]
  },
  {
   "cell_type": "code",
   "execution_count": null,
   "metadata": {},
   "outputs": [],
   "source": [
    "output = \"\\n\\n\\n== Passages ==\\nThey're a little twisty and starting to look all alike.\\n\\nDoors here lead:\\n- north\\n- east\\n- west\\n\\nItems here:\\n- spool of cat6\\n- spool of cat7\\n\\nCommand?\\n\""
   ]
  },
  {
   "cell_type": "code",
   "execution_count": null,
   "metadata": {},
   "outputs": [],
   "source": [
    "print(output)"
   ]
  },
  {
   "cell_type": "code",
   "execution_count": null,
   "metadata": {},
   "outputs": [],
   "source": []
  },
  {
   "cell_type": "code",
   "execution_count": null,
   "metadata": {},
   "outputs": [],
   "source": [
    "# dont take:\n",
    "# "
   ]
  },
  {
   "cell_type": "code",
   "execution_count": null,
   "metadata": {},
   "outputs": [],
   "source": [
    "print(output)"
   ]
  },
  {
   "cell_type": "code",
   "execution_count": null,
   "metadata": {},
   "outputs": [],
   "source": []
  }
 ],
 "metadata": {
  "kernelspec": {
   "display_name": "Python 3",
   "language": "python",
   "name": "python3"
  },
  "language_info": {
   "codemirror_mode": {
    "name": "ipython",
    "version": 3
   },
   "file_extension": ".py",
   "mimetype": "text/x-python",
   "name": "python",
   "nbconvert_exporter": "python",
   "pygments_lexer": "ipython3",
   "version": "3.7.4"
  }
 },
 "nbformat": 4,
 "nbformat_minor": 2
}
