{
 "cells": [
  {
   "cell_type": "code",
   "execution_count": 1,
   "metadata": {
    "ExecuteTime": {
     "end_time": "2019-12-08T07:15:18.986248Z",
     "start_time": "2019-12-08T07:15:18.733336Z"
    }
   },
   "outputs": [],
   "source": [
    "import numpy as np"
   ]
  },
  {
   "cell_type": "code",
   "execution_count": 2,
   "metadata": {
    "ExecuteTime": {
     "end_time": "2019-12-08T07:15:18.996951Z",
     "start_time": "2019-12-08T07:15:18.989037Z"
    }
   },
   "outputs": [],
   "source": [
    "# For testing\n",
    "cols, rows = 3, 2\n",
    "data = \"123456789012\"\n",
    "layers = int(len(data) / (cols*rows))"
   ]
  },
  {
   "cell_type": "code",
   "execution_count": 3,
   "metadata": {
    "ExecuteTime": {
     "end_time": "2019-12-08T07:15:19.007799Z",
     "start_time": "2019-12-08T07:15:19.003841Z"
    }
   },
   "outputs": [],
   "source": [
    "# For testing\n",
    "cols, rows = 2, 2\n",
    "data = \"0222112222120000\"\n",
    "layers = int(len(data) / (cols*rows))"
   ]
  },
  {
   "cell_type": "code",
   "execution_count": 4,
   "metadata": {
    "ExecuteTime": {
     "end_time": "2019-12-08T07:15:19.023458Z",
     "start_time": "2019-12-08T07:15:19.010546Z"
    }
   },
   "outputs": [],
   "source": [
    "cols, rows = 25, 6\n",
    "\n",
    "with open(\"day08.input\") as file:\n",
    "    data = file.readline().strip()\n",
    "\n",
    "layers = int(len(data) / (cols*rows))"
   ]
  },
  {
   "cell_type": "code",
   "execution_count": 5,
   "metadata": {
    "ExecuteTime": {
     "end_time": "2019-12-08T07:15:19.038562Z",
     "start_time": "2019-12-08T07:15:19.026676Z"
    }
   },
   "outputs": [],
   "source": [
    "# Wrap string into a 3-dimensional numpy array\n",
    "image = np.zeros(len(data), dtype=np.uint8)\n",
    "image[:] = list(data)\n",
    "image = image.reshape((layers, rows, cols))"
   ]
  },
  {
   "cell_type": "markdown",
   "metadata": {},
   "source": [
    "# Part 1"
   ]
  },
  {
   "cell_type": "code",
   "execution_count": 6,
   "metadata": {
    "ExecuteTime": {
     "end_time": "2019-12-08T07:15:19.050520Z",
     "start_time": "2019-12-08T07:15:19.040836Z"
    }
   },
   "outputs": [],
   "source": [
    "# Count number of 0, 1 and 2\n",
    "counts = np.zeros((layers, 3), dtype=np.int)\n",
    "for layer in range(layers):\n",
    "    for digit in range(3):\n",
    "        counts[layer, digit] = (image[layer] == digit).sum()"
   ]
  },
  {
   "cell_type": "code",
   "execution_count": 7,
   "metadata": {
    "ExecuteTime": {
     "end_time": "2019-12-08T07:15:19.071370Z",
     "start_time": "2019-12-08T07:15:19.056211Z"
    }
   },
   "outputs": [
    {
     "data": {
      "text/plain": [
       "2684"
      ]
     },
     "execution_count": 7,
     "metadata": {},
     "output_type": "execute_result"
    }
   ],
   "source": [
    "idx = np.argmin(counts[:, 0])\n",
    "counts[idx, 1]*counts[idx, 2]"
   ]
  },
  {
   "cell_type": "markdown",
   "metadata": {},
   "source": [
    "# Part 2"
   ]
  },
  {
   "cell_type": "code",
   "execution_count": 8,
   "metadata": {
    "ExecuteTime": {
     "end_time": "2019-12-08T07:15:19.083374Z",
     "start_time": "2019-12-08T07:15:19.077949Z"
    }
   },
   "outputs": [],
   "source": [
    "# 0: black\n",
    "# 1: white\n",
    "# 2: transparent\n",
    "\n",
    "def first_non_transparent(array):\n",
    "    idx = np.min(np.where(array < 2))\n",
    "    return array[idx]"
   ]
  },
  {
   "cell_type": "code",
   "execution_count": 9,
   "metadata": {
    "ExecuteTime": {
     "end_time": "2019-12-08T07:15:19.102316Z",
     "start_time": "2019-12-08T07:15:19.087351Z"
    }
   },
   "outputs": [],
   "source": [
    "bw_img = np.apply_along_axis(first_non_transparent, axis=0, arr=image)"
   ]
  },
  {
   "cell_type": "code",
   "execution_count": 10,
   "metadata": {
    "ExecuteTime": {
     "end_time": "2019-12-08T07:15:19.117603Z",
     "start_time": "2019-12-08T07:15:19.105568Z"
    }
   },
   "outputs": [],
   "source": [
    "def formatter(digit):\n",
    "    return ' █'[digit]"
   ]
  },
  {
   "cell_type": "code",
   "execution_count": 11,
   "metadata": {
    "ExecuteTime": {
     "end_time": "2019-12-08T07:15:19.134204Z",
     "start_time": "2019-12-08T07:15:19.121325Z"
    }
   },
   "outputs": [
    {
     "name": "stdout",
     "output_type": "stream",
     "text": [
      "[[█   █ ██  ███  █   █████ ]\n",
      " [█   ██  █ █  █ █   █   █ ]\n",
      " [ █ █ █    █  █  █ █   █  ]\n",
      " [  █  █ ██ ███    █   █   ]\n",
      " [  █  █  █ █ █    █  █    ]\n",
      " [  █   ███ █  █   █  ████ ]]\n"
     ]
    }
   ],
   "source": [
    "print(np.array2string(bw_img, separator='', formatter={'int': formatter}))"
   ]
  },
  {
   "cell_type": "code",
   "execution_count": null,
   "metadata": {},
   "outputs": [],
   "source": []
  }
 ],
 "metadata": {
  "kernelspec": {
   "display_name": "Python 3",
   "language": "python",
   "name": "python3"
  },
  "language_info": {
   "codemirror_mode": {
    "name": "ipython",
    "version": 3
   },
   "file_extension": ".py",
   "mimetype": "text/x-python",
   "name": "python",
   "nbconvert_exporter": "python",
   "pygments_lexer": "ipython3",
   "version": "3.7.4"
  }
 },
 "nbformat": 4,
 "nbformat_minor": 2
}
