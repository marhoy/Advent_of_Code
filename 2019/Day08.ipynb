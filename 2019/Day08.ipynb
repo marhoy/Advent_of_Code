{
 "cells": [
  {
   "cell_type": "code",
   "execution_count": null,
   "metadata": {},
   "outputs": [],
   "source": [
    "import numpy as np"
   ]
  },
  {
   "cell_type": "code",
   "execution_count": null,
   "metadata": {},
   "outputs": [],
   "source": [
    "# For testing\n",
    "cols, rows = 3, 2\n",
    "data = \"123456789012\"\n",
    "layers = int(len(data) / (cols*rows))"
   ]
  },
  {
   "cell_type": "code",
   "execution_count": null,
   "metadata": {},
   "outputs": [],
   "source": [
    "# For testing\n",
    "cols, rows = 2, 2\n",
    "data = \"0222112222120000\"\n",
    "layers = int(len(data) / (cols*rows))"
   ]
  },
  {
   "cell_type": "code",
   "execution_count": null,
   "metadata": {},
   "outputs": [],
   "source": [
    "cols, rows = 25, 6\n",
    "\n",
    "with open(\"day08.input\") as file:\n",
    "    data = file.readline().strip()\n",
    "\n",
    "layers = int(len(data) / (cols*rows))"
   ]
  },
  {
   "cell_type": "code",
   "execution_count": null,
   "metadata": {},
   "outputs": [],
   "source": [
    "# Wrap string into a 3-dimensional numpy array\n",
    "image = np.zeros(len(data), dtype=np.uint8)\n",
    "image[:] = list(data)\n",
    "image = image.reshape((layers, rows, cols))"
   ]
  },
  {
   "cell_type": "markdown",
   "metadata": {},
   "source": [
    "# Part 1"
   ]
  },
  {
   "cell_type": "code",
   "execution_count": null,
   "metadata": {},
   "outputs": [],
   "source": [
    "# Count number of 0, 1 and 2\n",
    "counts = np.zeros((layers, 3), dtype=np.int)\n",
    "for layer in range(layers):\n",
    "    for digit in range(3):\n",
    "        counts[layer, digit] = (image[layer] == digit).sum()"
   ]
  },
  {
   "cell_type": "code",
   "execution_count": null,
   "metadata": {},
   "outputs": [],
   "source": [
    "idx = np.argmin(counts[:, 0])\n",
    "counts[idx, 1]*counts[idx, 2]"
   ]
  },
  {
   "cell_type": "markdown",
   "metadata": {},
   "source": [
    "# Part 2"
   ]
  },
  {
   "cell_type": "code",
   "execution_count": null,
   "metadata": {},
   "outputs": [],
   "source": [
    "# 0: black\n",
    "# 1: white\n",
    "# 2: transparent\n",
    "\n",
    "def first_non_transparent(array):\n",
    "    idx = np.min(np.where(array < 2))\n",
    "    return array[idx]"
   ]
  },
  {
   "cell_type": "code",
   "execution_count": null,
   "metadata": {},
   "outputs": [],
   "source": [
    "bw_img = np.apply_along_axis(first_non_transparent, axis=0, arr=image)"
   ]
  },
  {
   "cell_type": "code",
   "execution_count": null,
   "metadata": {},
   "outputs": [],
   "source": [
    "def formatter(digit):\n",
    "    return ' █'[digit]"
   ]
  },
  {
   "cell_type": "code",
   "execution_count": null,
   "metadata": {},
   "outputs": [],
   "source": [
    "print(np.array2string(bw_img, separator='', formatter={'int': formatter}))"
   ]
  },
  {
   "cell_type": "markdown",
   "metadata": {},
   "source": [
    "## Solution without numpy"
   ]
  },
  {
   "cell_type": "code",
   "execution_count": null,
   "metadata": {},
   "outputs": [],
   "source": [
    "#\n",
    "# Thanks to Øystein Bjørke for this solution\n",
    "#\n",
    "\n",
    "image = [[\"2\"]*cols for _ in range(rows)]\n",
    "i = 0\n",
    "for _ in range(layers):\n",
    "    for r in range(rows):\n",
    "        for c in range(cols):\n",
    "            if image[r][c] == \"2\":\n",
    "                image[r][c] = data[i]\n",
    "            i += 1\n",
    "\n",
    "for row in image:\n",
    "    print(\"\".join(row).replace(\"0\",\" \").replace(\"1\",\"█\"))"
   ]
  },
  {
   "cell_type": "code",
   "execution_count": null,
   "metadata": {},
   "outputs": [],
   "source": [
    "#\n",
    "# ...or flip it around, looping over data and calculating location in image\n",
    "#\n",
    "\n",
    "image = [\"2\"]*rows*cols\n",
    "for i, d in enumerate(data):\n",
    "    rc = i % (rows*cols)\n",
    "    if image[rc] == \"2\":\n",
    "        image[rc] = d\n",
    "        \n",
    "for r in range(rows):\n",
    "    print(\"\".join(image[r*cols:(r+1)*cols]).replace(\"0\",\" \").replace(\"1\",\"█\"))"
   ]
  },
  {
   "cell_type": "code",
   "execution_count": null,
   "metadata": {},
   "outputs": [],
   "source": []
  }
 ],
 "metadata": {
  "kernelspec": {
   "display_name": "Python 3",
   "language": "python",
   "name": "python3"
  },
  "language_info": {
   "codemirror_mode": {
    "name": "ipython",
    "version": 3
   },
   "file_extension": ".py",
   "mimetype": "text/x-python",
   "name": "python",
   "nbconvert_exporter": "python",
   "pygments_lexer": "ipython3",
   "version": "3.7.4"
  }
 },
 "nbformat": 4,
 "nbformat_minor": 2
}
