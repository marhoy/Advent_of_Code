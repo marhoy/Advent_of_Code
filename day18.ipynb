{
 "cells": [
  {
   "cell_type": "code",
   "execution_count": null,
   "metadata": {},
   "outputs": [],
   "source": [
    "from collections import deque\n",
    "from collections.abc import Generator\n",
    "from pathlib import Path\n",
    "\n",
    "GRID_MAX = 70\n",
    "\n",
    "type Pos = tuple[int, int]"
   ]
  },
  {
   "cell_type": "code",
   "execution_count": null,
   "metadata": {},
   "outputs": [],
   "source": [
    "byte_list = []\n",
    "with Path(\"day18_input.txt\").open() as file:\n",
    "    for line in file:\n",
    "        x, y = map(int, line.strip().split(\",\"))\n",
    "        byte_list.append((x, y))"
   ]
  },
  {
   "cell_type": "code",
   "execution_count": null,
   "metadata": {},
   "outputs": [],
   "source": [
    "def find_neighbours(pos: Pos, corrupted: set[Pos]) -> Generator[Pos]:\n",
    "    \"\"\"Find the neighbours of a given position.\"\"\"\n",
    "    x, y = pos\n",
    "    for dx, dy in ((1, 0), (-1, 0), (0, 1), (0, -1)):\n",
    "        nx, ny = x + dx, y + dy\n",
    "        if 0 <= nx <= GRID_MAX and 0 <= ny <= GRID_MAX and (nx, ny) not in corrupted:\n",
    "            yield (nx, ny)"
   ]
  },
  {
   "cell_type": "code",
   "execution_count": null,
   "metadata": {},
   "outputs": [],
   "source": [
    "def shortest_path(start: Pos, end: Pos, corrupted: set[Pos]) -> int:\n",
    "    \"\"\"Use BFS to find the shortest path between two points.\"\"\"\n",
    "    explored = {start}\n",
    "    queue = deque([(start, 0)])\n",
    "    while queue:\n",
    "        pos, steps = queue.popleft()\n",
    "        if pos == end:\n",
    "            return steps\n",
    "        for new_pos in find_neighbours(pos, corrupted):\n",
    "            if new_pos not in explored:\n",
    "                explored.add(new_pos)\n",
    "                queue.append((new_pos, steps + 1))\n",
    "    return -1"
   ]
  },
  {
   "cell_type": "markdown",
   "metadata": {},
   "source": [
    "# Part 1\n"
   ]
  },
  {
   "cell_type": "code",
   "execution_count": null,
   "metadata": {},
   "outputs": [],
   "source": [
    "START, END = (0, 0), (GRID_MAX, GRID_MAX)\n",
    "\n",
    "corrupted = set(byte_list[:1024])\n",
    "shortest_path(START, END, corrupted)"
   ]
  },
  {
   "cell_type": "markdown",
   "metadata": {},
   "source": [
    "# Part 2\n"
   ]
  },
  {
   "cell_type": "code",
   "execution_count": null,
   "metadata": {},
   "outputs": [],
   "source": [
    "START, END = (0, 0), (GRID_MAX, GRID_MAX)\n",
    "\n",
    "# Use binary search to find the number of corrupted bytes\n",
    "left, right = 1024, len(byte_list)\n",
    "while left <= right:\n",
    "    mid = (left + right) // 2\n",
    "    corrupted = set(byte_list[:mid])\n",
    "    if shortest_path(START, END, corrupted) > 0:\n",
    "        left = mid + 1\n",
    "    else:\n",
    "        right = mid - 1\n",
    "\n",
    "mid, byte_list[mid]"
   ]
  },
  {
   "cell_type": "code",
   "execution_count": null,
   "metadata": {},
   "outputs": [],
   "source": []
  }
 ],
 "metadata": {
  "kernelspec": {
   "display_name": ".venv",
   "language": "python",
   "name": "python3"
  },
  "language_info": {
   "codemirror_mode": {
    "name": "ipython",
    "version": 3
   },
   "file_extension": ".py",
   "mimetype": "text/x-python",
   "name": "python",
   "nbconvert_exporter": "python",
   "pygments_lexer": "ipython3",
   "version": "3.13.1"
  }
 },
 "nbformat": 4,
 "nbformat_minor": 2
}
