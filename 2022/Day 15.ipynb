{
 "cells": [
  {
   "cell_type": "code",
   "execution_count": 1,
   "id": "6dbcfc7b-4595-4e2f-a65f-580e63af5ed1",
   "metadata": {
    "execution": {
     "iopub.execute_input": "2022-12-30T19:20:49.240078Z",
     "iopub.status.busy": "2022-12-30T19:20:49.239812Z",
     "iopub.status.idle": "2022-12-30T19:20:49.250013Z",
     "shell.execute_reply": "2022-12-30T19:20:49.248871Z",
     "shell.execute_reply.started": "2022-12-30T19:20:49.239994Z"
    }
   },
   "outputs": [],
   "source": [
    "import re"
   ]
  },
  {
   "cell_type": "code",
   "execution_count": 2,
   "id": "25ff0fce-84c1-49f0-9faa-68c8e661f57c",
   "metadata": {
    "execution": {
     "iopub.execute_input": "2022-12-30T19:20:49.252795Z",
     "iopub.status.busy": "2022-12-30T19:20:49.252321Z",
     "iopub.status.idle": "2022-12-30T19:20:49.257901Z",
     "shell.execute_reply": "2022-12-30T19:20:49.257486Z",
     "shell.execute_reply.started": "2022-12-30T19:20:49.252773Z"
    },
    "tags": []
   },
   "outputs": [],
   "source": [
    "sensors, beacons = [], []\n",
    "with open(\"day15_example.txt\") as file:\n",
    "    for line in file:\n",
    "        matches = re.findall(\"x=(-?\\d+), y=(-?\\d+)\", line)\n",
    "        sensors.append(tuple(map(int, matches[0])))\n",
    "        beacons.append(tuple(map(int, matches[1])))"
   ]
  },
  {
   "cell_type": "code",
   "execution_count": null,
   "id": "56a0089b-9322-4594-929a-8f3c0b734193",
   "metadata": {},
   "outputs": [],
   "source": []
  }
 ],
 "metadata": {
  "kernelspec": {
   "display_name": "AoC",
   "language": "python",
   "name": "aoc"
  },
  "language_info": {
   "codemirror_mode": {
    "name": "ipython",
    "version": 3
   },
   "file_extension": ".py",
   "mimetype": "text/x-python",
   "name": "python",
   "nbconvert_exporter": "python",
   "pygments_lexer": "ipython3",
   "version": "3.11.0"
  }
 },
 "nbformat": 4,
 "nbformat_minor": 5
}
