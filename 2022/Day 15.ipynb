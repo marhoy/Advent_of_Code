{
 "cells": [
  {
   "cell_type": "code",
   "execution_count": null,
   "id": "6dbcfc7b-4595-4e2f-a65f-580e63af5ed1",
   "metadata": {
    "tags": []
   },
   "outputs": [],
   "source": [
    "import re"
   ]
  },
  {
   "cell_type": "code",
   "execution_count": null,
   "id": "25ff0fce-84c1-49f0-9faa-68c8e661f57c",
   "metadata": {
    "tags": []
   },
   "outputs": [],
   "source": [
    "sensors, beacons = [], []\n",
    "with open(\"day15_input.txt\") as file:\n",
    "    for line in file:\n",
    "        matches = re.findall(\"x=(-?\\d+), y=(-?\\d+)\", line)\n",
    "        sensors.append(tuple(map(int, matches[0])))\n",
    "        beacons.append(tuple(map(int, matches[1])))"
   ]
  },
  {
   "cell_type": "markdown",
   "id": "5107660b-be63-458c-9f44-f0228ceb577b",
   "metadata": {},
   "source": [
    "# Part 1"
   ]
  },
  {
   "cell_type": "code",
   "execution_count": null,
   "id": "9753a4b4-c081-4bc5-90af-982d3d0fdfd1",
   "metadata": {
    "tags": []
   },
   "outputs": [],
   "source": [
    "y = 2_000_000\n",
    "impossible = set()\n",
    "for sensor, beacon in zip(sensors, beacons):\n",
    "    sx, sy = sensor\n",
    "    bx, by = beacon\n",
    "    dist = abs(sx - bx) + abs(sy - by)\n",
    "    rest = dist - abs(y - sy)\n",
    "    if rest > 0:\n",
    "        impossible.update(range(sx - rest, sx + rest + 1))\n",
    "        if by == y:\n",
    "            impossible.remove(bx)\n",
    "\n",
    "len(impossible)"
   ]
  },
  {
   "cell_type": "markdown",
   "id": "44cce7e7-af37-49f0-a202-6ccd28fff12e",
   "metadata": {
    "tags": []
   },
   "source": [
    "# Part 2"
   ]
  },
  {
   "cell_type": "code",
   "execution_count": null,
   "id": "d089106e-e075-4a24-8d30-8b7051dc7479",
   "metadata": {
    "tags": []
   },
   "outputs": [],
   "source": [
    "from itertools import combinations"
   ]
  },
  {
   "cell_type": "code",
   "execution_count": null,
   "id": "84533524-162a-43db-b7af-517faed05503",
   "metadata": {
    "tags": []
   },
   "outputs": [],
   "source": [
    "def get_outside_lines(sensor, beacon):\n",
    "    sx, sy = sensor\n",
    "    bx, by = beacon\n",
    "    dist = abs(sx - bx) + abs(sy - by)\n",
    "    top = (sx, sy - dist - 1)\n",
    "    bot = (sx, sy + dist + 1)\n",
    "    lft = (sx - dist - 1, sy)\n",
    "    rgt = (sx + dist + 1, sy)\n",
    "    return [(lft, top), (lft, bot), (top, rgt), (bot, rgt)]"
   ]
  },
  {
   "cell_type": "code",
   "execution_count": null,
   "id": "be6c0b3c-9cf2-4dd1-a59e-fd98f32fcb6e",
   "metadata": {
    "tags": []
   },
   "outputs": [],
   "source": [
    "def intersect_between(line1, line2):\n",
    "    (x1, y1), (x2, y2) = line1\n",
    "    (x3, y3), (x4, y4) = line2\n",
    "    denom = (y4 - y3) * (x2 - x1) - (x4 - x3) * (y2 - y1)\n",
    "    if denom == 0:  # parallel\n",
    "        return None\n",
    "    ua = ((x4 - x3) * (y1 - y3) - (y4 - y3) * (x1 - x3)) / denom\n",
    "    if ua < 0 or ua > 1:  # out of range\n",
    "        return None\n",
    "    ub = ((x2 - x1) * (y1 - y3) - (y2 - y1) * (x1 - x3)) / denom\n",
    "    if ub < 0 or ub > 1:  # out of range\n",
    "        return None\n",
    "    x = x1 + ua * (x2 - x1)\n",
    "    y = y1 + ua * (y2 - y1)\n",
    "    return (x, y)"
   ]
  },
  {
   "cell_type": "code",
   "execution_count": null,
   "id": "592922b0-0639-43b1-b013-6fb0b51e0b02",
   "metadata": {
    "tags": []
   },
   "outputs": [],
   "source": [
    "def point_outside(sensor, beacon, point):\n",
    "    sx, sy = sensor\n",
    "    bx, by = beacon\n",
    "    px, py = point\n",
    "    dist_b = abs(sx - bx) + abs(sy - by)\n",
    "    dist_p = abs(sx - px) + abs(sy - py)\n",
    "    return dist_p > dist_b"
   ]
  },
  {
   "cell_type": "code",
   "execution_count": null,
   "id": "bd0f5406-2e58-4f5a-b84e-e86ff2f56ccc",
   "metadata": {
    "tags": []
   },
   "outputs": [],
   "source": [
    "bb_max = 4_000_000\n",
    "bb = [\n",
    "    [(0, 0), (0, bb_max)],\n",
    "    [(0, 0), (bb_max, 0)],\n",
    "    [(bb_max, 0), (bb_max, bb_max)],\n",
    "    [(0, bb_max), (bb_max, bb_max)],\n",
    "]\n",
    "lines = bb + [\n",
    "    line\n",
    "    for sensor, beacon in zip(sensors, beacons)\n",
    "    for line in get_outside_lines(sensor, beacon)\n",
    "]\n",
    "\n",
    "print(f\"There's {len(lines)} lines to check, with possibly {len(list(combinations(lines, 2)))} intersections\")"
   ]
  },
  {
   "cell_type": "code",
   "execution_count": null,
   "id": "e3221592-5e0d-4d6b-ac66-2ca6dc30f986",
   "metadata": {
    "tags": []
   },
   "outputs": [],
   "source": [
    "intersections = set()\n",
    "for line1, line2 in combinations(lines, 2):\n",
    "    if intersect := intersect_between(line1, line2):\n",
    "        x, y = map(int, intersect)\n",
    "        if (0 <= x <= bb_max) and (0 <= y <= bb_max):\n",
    "            intersections.add((x, y))\n",
    "\n",
    "print(f\"There's only {len(intersections)} intersections of interest\")"
   ]
  },
  {
   "cell_type": "code",
   "execution_count": null,
   "id": "c1f58bfd-63ef-44f2-a963-457c536b1ca1",
   "metadata": {
    "tags": []
   },
   "outputs": [],
   "source": [
    "for intersect in intersections:\n",
    "    if all(\n",
    "        point_outside(sensor, beacon, intersect)\n",
    "        for sensor, beacon in zip(sensors, beacons)\n",
    "    ):\n",
    "        print(intersect, \"is outside all ranges\")"
   ]
  },
  {
   "cell_type": "code",
   "execution_count": null,
   "id": "85980757-90d6-4c81-95bf-9149cdd836b7",
   "metadata": {},
   "outputs": [],
   "source": []
  }
 ],
 "metadata": {
  "kernelspec": {
   "display_name": "AoC",
   "language": "python",
   "name": "aoc"
  },
  "language_info": {
   "codemirror_mode": {
    "name": "ipython",
    "version": 3
   },
   "file_extension": ".py",
   "mimetype": "text/x-python",
   "name": "python",
   "nbconvert_exporter": "python",
   "pygments_lexer": "ipython3",
   "version": "3.11.0"
  }
 },
 "nbformat": 4,
 "nbformat_minor": 5
}
