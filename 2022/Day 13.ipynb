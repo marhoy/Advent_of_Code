{
 "cells": [
  {
   "cell_type": "code",
   "execution_count": null,
   "id": "5d812645-8a6b-4d44-a3c2-79cd3a0fa2da",
   "metadata": {
    "tags": []
   },
   "outputs": [],
   "source": [
    "import sys\n",
    "from loguru import logger\n",
    "logger.remove()\n",
    "logger.add(sys.stdout, format=\"{message}\", level=\"INFO\")"
   ]
  },
  {
   "cell_type": "code",
   "execution_count": null,
   "id": "b3fb7afb-11b2-4a7e-a92d-2b24f46711bf",
   "metadata": {
    "tags": []
   },
   "outputs": [],
   "source": [
    "pairs = []\n",
    "with open(\"day13_input.txt\") as file:\n",
    "    for pair in file.read().split(\"\\n\\n\"):\n",
    "        pairs.append(list(map(eval, pair.strip().split(\"\\n\"))))"
   ]
  },
  {
   "cell_type": "code",
   "execution_count": null,
   "id": "e90efbbf-4fcd-4cd6-9021-376183742b43",
   "metadata": {
    "tags": []
   },
   "outputs": [],
   "source": [
    "def compare_values(val1, val2):\n",
    "    \"\"\"Returns -1, 0 or 1\"\"\"\n",
    "    logger.debug(f\"Comparing {val1=} and {val2=}\")\n",
    "\n",
    "    if isinstance(val1, int) and isinstance(val2, int):\n",
    "        return (val1 > val2) - (val1 < val2)\n",
    "\n",
    "    if isinstance(val1, int):\n",
    "        val1 = [val1]\n",
    "\n",
    "    if isinstance(val2, int):\n",
    "        val2 = [val2]\n",
    "\n",
    "    for v1, v2 in zip(val1, val2):\n",
    "        if result := compare_values(v1, v2):\n",
    "            return result\n",
    "    return compare_values(len(val1), len(val2))"
   ]
  },
  {
   "cell_type": "markdown",
   "id": "f017dc90-3512-4eb8-9a22-4bed79db092e",
   "metadata": {},
   "source": [
    "# Part 1"
   ]
  },
  {
   "cell_type": "code",
   "execution_count": null,
   "id": "db15f8a2-95e9-4d13-893f-754abe4b4ca1",
   "metadata": {
    "tags": []
   },
   "outputs": [],
   "source": [
    "answer = 0\n",
    "for idx, (packet1, packet2) in enumerate(pairs, start=1):\n",
    "    logger.debug(f\"\\nProcessing pair {idx}\")\n",
    "    result = compare_values(packet1, packet2)\n",
    "    if result == -1:\n",
    "        logger.debug(f\"{packet1} and {packet2} are in right order\")\n",
    "        answer += idx\n",
    "\n",
    "answer"
   ]
  },
  {
   "cell_type": "markdown",
   "id": "41623bd7-60a4-444e-a9d2-e51bb05a85af",
   "metadata": {},
   "source": [
    "# Part 2"
   ]
  },
  {
   "cell_type": "code",
   "execution_count": null,
   "id": "9c5d4707-afeb-4f78-84bf-194c2dfdae75",
   "metadata": {
    "tags": []
   },
   "outputs": [],
   "source": [
    "import functools\n",
    "import itertools\n",
    "import math"
   ]
  },
  {
   "cell_type": "code",
   "execution_count": null,
   "id": "2bfda641-509c-4666-9092-4ae7c77c9483",
   "metadata": {
    "tags": []
   },
   "outputs": [],
   "source": [
    "dividers = [[[2]], [[6]]]\n",
    "packets = sorted(itertools.chain(*pairs, dividers), key=functools.cmp_to_key(compare_values))"
   ]
  },
  {
   "cell_type": "code",
   "execution_count": null,
   "id": "25746d4f-12a9-4755-83cc-8f7933db109b",
   "metadata": {
    "tags": []
   },
   "outputs": [],
   "source": [
    "math.prod(packets.index(divider) + 1 for divider in dividers)"
   ]
  },
  {
   "cell_type": "code",
   "execution_count": null,
   "id": "8415aa62-1392-41ce-9234-051b374dc1a3",
   "metadata": {},
   "outputs": [],
   "source": []
  }
 ],
 "metadata": {
  "kernelspec": {
   "display_name": "AoC",
   "language": "python",
   "name": "aoc"
  },
  "language_info": {
   "codemirror_mode": {
    "name": "ipython",
    "version": 3
   },
   "file_extension": ".py",
   "mimetype": "text/x-python",
   "name": "python",
   "nbconvert_exporter": "python",
   "pygments_lexer": "ipython3",
   "version": "3.11.0"
  }
 },
 "nbformat": 4,
 "nbformat_minor": 5
}
