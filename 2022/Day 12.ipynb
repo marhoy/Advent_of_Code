{
 "cells": [
  {
   "cell_type": "code",
   "execution_count": 30,
   "id": "b65fe5db-de0b-4d51-adf6-948ef8bd18a4",
   "metadata": {
    "execution": {
     "iopub.execute_input": "2022-12-26T20:11:29.044715Z",
     "iopub.status.busy": "2022-12-26T20:11:29.044003Z",
     "iopub.status.idle": "2022-12-26T20:11:29.049082Z",
     "shell.execute_reply": "2022-12-26T20:11:29.048376Z",
     "shell.execute_reply.started": "2022-12-26T20:11:29.044669Z"
    },
    "tags": []
   },
   "outputs": [],
   "source": [
    "from collections import deque\n",
    "import math\n",
    "from string import ascii_lowercase"
   ]
  },
  {
   "cell_type": "code",
   "execution_count": 2,
   "id": "04c86024-dfcd-46f6-81e0-5e09895f32ba",
   "metadata": {
    "execution": {
     "iopub.execute_input": "2022-12-26T19:56:56.935451Z",
     "iopub.status.busy": "2022-12-26T19:56:56.935267Z",
     "iopub.status.idle": "2022-12-26T19:56:56.939013Z",
     "shell.execute_reply": "2022-12-26T19:56:56.938097Z",
     "shell.execute_reply.started": "2022-12-26T19:56:56.935432Z"
    },
    "tags": []
   },
   "outputs": [],
   "source": [
    "char_to_int = {c: i for i, c in enumerate(ascii_lowercase)}"
   ]
  },
  {
   "cell_type": "code",
   "execution_count": 8,
   "id": "05d0dace-9ab0-4c93-940b-c39619abdec2",
   "metadata": {
    "execution": {
     "iopub.execute_input": "2022-12-26T20:00:37.254839Z",
     "iopub.status.busy": "2022-12-26T20:00:37.254081Z",
     "iopub.status.idle": "2022-12-26T20:00:37.265997Z",
     "shell.execute_reply": "2022-12-26T20:00:37.265246Z",
     "shell.execute_reply.started": "2022-12-26T20:00:37.254783Z"
    },
    "tags": []
   },
   "outputs": [],
   "source": [
    "heights = dict()\n",
    "\n",
    "with open(\"day12_input.txt\") as file:\n",
    "    for row, line in enumerate(file):\n",
    "        for col, char in enumerate(line.strip()):\n",
    "            if char == \"S\":\n",
    "                start = (row, col)\n",
    "                heights[(row, col)] = char_to_int[\"a\"]\n",
    "            elif char == \"E\":\n",
    "                end = (row, col)\n",
    "                heights[(row, col)] = char_to_int[\"z\"]\n",
    "            else:\n",
    "                heights[(row, col)] = char_to_int[char]"
   ]
  },
  {
   "cell_type": "code",
   "execution_count": 13,
   "id": "dcd51fcd-f0bf-49b6-83e6-2a84109da5ad",
   "metadata": {
    "execution": {
     "iopub.execute_input": "2022-12-26T20:03:52.008907Z",
     "iopub.status.busy": "2022-12-26T20:03:52.008185Z",
     "iopub.status.idle": "2022-12-26T20:03:52.016154Z",
     "shell.execute_reply": "2022-12-26T20:03:52.015497Z",
     "shell.execute_reply.started": "2022-12-26T20:03:52.008860Z"
    },
    "tags": []
   },
   "outputs": [],
   "source": [
    "def find_neighbours(pos, heights):\n",
    "    x, y = pos\n",
    "    candidates = [(x + dx, y + dy) for dx, dy in zip((0, 0, 1, -1), (1, -1, 0, 0))]\n",
    "    return [\n",
    "        cand\n",
    "        for cand in candidates\n",
    "        if (cand in heights) and (heights[cand] <= heights[pos] + 1)\n",
    "    ]"
   ]
  },
  {
   "cell_type": "markdown",
   "id": "f129ad94-1dee-42e1-8d87-86f2a620bf89",
   "metadata": {},
   "source": [
    "# Part 1"
   ]
  },
  {
   "cell_type": "code",
   "execution_count": 39,
   "id": "c493f8d7-45e5-4497-9bb9-65133294ba73",
   "metadata": {
    "execution": {
     "iopub.execute_input": "2022-12-26T20:13:38.733016Z",
     "iopub.status.busy": "2022-12-26T20:13:38.732292Z",
     "iopub.status.idle": "2022-12-26T20:13:38.742212Z",
     "shell.execute_reply": "2022-12-26T20:13:38.741550Z",
     "shell.execute_reply.started": "2022-12-26T20:13:38.732965Z"
    },
    "tags": []
   },
   "outputs": [],
   "source": [
    "def find_dist(start, end, heights):\n",
    "    queue = deque([start])\n",
    "    visited = set([start])\n",
    "    prev = dict()\n",
    "\n",
    "    while queue:\n",
    "        pos = queue.popleft()\n",
    "        if pos == end:\n",
    "            break\n",
    "        for new in find_neighbours(pos, heights):\n",
    "            if new not in visited:\n",
    "                visited.add(new)\n",
    "                queue.append(new)\n",
    "                prev[new] = pos\n",
    "    \n",
    "    # If we didn't find the target\n",
    "    if end not in prev:\n",
    "        return math.inf\n",
    "    \n",
    "    # Backtrack from end to start\n",
    "    pos, count = end, 0\n",
    "    while pos != start:\n",
    "        pos = prev[pos]\n",
    "        count += 1\n",
    "\n",
    "    return count"
   ]
  },
  {
   "cell_type": "code",
   "execution_count": 40,
   "id": "5d6d14a4-d651-4e19-bf5e-a68c2481118f",
   "metadata": {
    "execution": {
     "iopub.execute_input": "2022-12-26T20:13:46.845553Z",
     "iopub.status.busy": "2022-12-26T20:13:46.845085Z",
     "iopub.status.idle": "2022-12-26T20:13:46.864741Z",
     "shell.execute_reply": "2022-12-26T20:13:46.864173Z",
     "shell.execute_reply.started": "2022-12-26T20:13:46.845526Z"
    },
    "tags": []
   },
   "outputs": [
    {
     "data": {
      "text/plain": [
       "330"
      ]
     },
     "execution_count": 40,
     "metadata": {},
     "output_type": "execute_result"
    }
   ],
   "source": [
    "find_dist(start, end, heights)"
   ]
  },
  {
   "cell_type": "markdown",
   "id": "5468f4b2-d203-435a-a703-4707121a7f5d",
   "metadata": {},
   "source": [
    "# Part 2"
   ]
  },
  {
   "cell_type": "code",
   "execution_count": 41,
   "id": "8f90ef49-d70f-4a77-a193-bb49699152bf",
   "metadata": {
    "execution": {
     "iopub.execute_input": "2022-12-26T20:13:48.641068Z",
     "iopub.status.busy": "2022-12-26T20:13:48.640359Z",
     "iopub.status.idle": "2022-12-26T20:13:48.647295Z",
     "shell.execute_reply": "2022-12-26T20:13:48.646373Z",
     "shell.execute_reply.started": "2022-12-26T20:13:48.641020Z"
    },
    "tags": []
   },
   "outputs": [],
   "source": [
    "start_candicates = [pos for pos in heights if heights[pos] == 0]"
   ]
  },
  {
   "cell_type": "code",
   "execution_count": 42,
   "id": "5b30cafe-5bd6-457c-8c8b-f8c0bb9df13c",
   "metadata": {
    "execution": {
     "iopub.execute_input": "2022-12-26T20:13:49.382801Z",
     "iopub.status.busy": "2022-12-26T20:13:49.382286Z",
     "iopub.status.idle": "2022-12-26T20:13:50.186174Z",
     "shell.execute_reply": "2022-12-26T20:13:50.185884Z",
     "shell.execute_reply.started": "2022-12-26T20:13:49.382754Z"
    },
    "tags": []
   },
   "outputs": [
    {
     "data": {
      "text/plain": [
       "321"
      ]
     },
     "execution_count": 42,
     "metadata": {},
     "output_type": "execute_result"
    }
   ],
   "source": [
    "min(find_dist(start, end, heights) for start in start_candicates)"
   ]
  },
  {
   "cell_type": "code",
   "execution_count": null,
   "id": "f969a5e2-b266-474e-8a6a-7254b01e76b5",
   "metadata": {},
   "outputs": [],
   "source": []
  }
 ],
 "metadata": {
  "kernelspec": {
   "display_name": "AoC",
   "language": "python",
   "name": "aoc"
  },
  "language_info": {
   "codemirror_mode": {
    "name": "ipython",
    "version": 3
   },
   "file_extension": ".py",
   "mimetype": "text/x-python",
   "name": "python",
   "nbconvert_exporter": "python",
   "pygments_lexer": "ipython3",
   "version": "3.11.0"
  }
 },
 "nbformat": 4,
 "nbformat_minor": 5
}
