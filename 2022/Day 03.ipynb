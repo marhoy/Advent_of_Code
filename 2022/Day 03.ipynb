{
 "cells": [
  {
   "cell_type": "code",
   "execution_count": null,
   "id": "8b0ec926",
   "metadata": {},
   "outputs": [],
   "source": [
    "from string import ascii_letters\n",
    "\n",
    "priority = dict(zip(ascii_letters, range(1, 53)))"
   ]
  },
  {
   "cell_type": "markdown",
   "id": "e1176d31",
   "metadata": {},
   "source": [
    "# Part 1"
   ]
  },
  {
   "cell_type": "code",
   "execution_count": null,
   "id": "b8bb235b",
   "metadata": {},
   "outputs": [],
   "source": [
    "total = 0\n",
    "with open(\"day03_input.txt\") as file:\n",
    "    for line in file:\n",
    "        line = line.strip()\n",
    "        middle = len(line) // 2\n",
    "        item = set(line[:middle]).intersection(set(line[middle:]))\n",
    "        total += priority[item.pop()]\n",
    "        \n",
    "total"
   ]
  },
  {
   "cell_type": "markdown",
   "id": "2a91c7f5",
   "metadata": {},
   "source": [
    "# Part 2"
   ]
  },
  {
   "cell_type": "code",
   "execution_count": null,
   "id": "8252cdb8",
   "metadata": {},
   "outputs": [],
   "source": [
    "with open(\"day03_input.txt\") as file:\n",
    "    lines = file.read().splitlines()\n",
    "\n",
    "total = 0\n",
    "for start in range(0, len(lines), 3):\n",
    "    elfs = lines[start: start + 3]\n",
    "    common = set(elfs[0]).intersection(set(elfs[1]), set(elfs[2]))\n",
    "    total += priority[common.pop()]\n",
    "    \n",
    "total"
   ]
  },
  {
   "cell_type": "code",
   "execution_count": null,
   "id": "7b49a6e6",
   "metadata": {},
   "outputs": [],
   "source": []
  }
 ],
 "metadata": {
  "kernelspec": {
   "display_name": "AoC",
   "language": "python",
   "name": "aoc"
  },
  "language_info": {
   "codemirror_mode": {
    "name": "ipython",
    "version": 3
   },
   "file_extension": ".py",
   "mimetype": "text/x-python",
   "name": "python",
   "nbconvert_exporter": "python",
   "pygments_lexer": "ipython3",
   "version": "3.11.0"
  },
  "toc": {
   "base_numbering": 1,
   "nav_menu": {},
   "number_sections": true,
   "sideBar": true,
   "skip_h1_title": false,
   "title_cell": "Table of Contents",
   "title_sidebar": "Contents",
   "toc_cell": false,
   "toc_position": {},
   "toc_section_display": true,
   "toc_window_display": false
  }
 },
 "nbformat": 4,
 "nbformat_minor": 5
}
