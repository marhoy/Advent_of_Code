{
 "cells": [
  {
   "cell_type": "code",
   "execution_count": null,
   "id": "b2e5e1b8-de17-42ac-9942-d58ee32cde8c",
   "metadata": {
    "tags": []
   },
   "outputs": [],
   "source": [
    "import re\n",
    "from dataclasses import dataclass\n",
    "from typing import List"
   ]
  },
  {
   "cell_type": "code",
   "execution_count": null,
   "id": "9ca36078-d8be-4c5d-ba3d-6ff75bfaf7d0",
   "metadata": {},
   "outputs": [],
   "source": [
    "@dataclass\n",
    "class Valve:\n",
    "    name: str\n",
    "    rate: int\n",
    "    tunnels: List[str]"
   ]
  },
  {
   "cell_type": "code",
   "execution_count": null,
   "id": "89962fd2-1f97-4268-9cb0-ce6094c5b636",
   "metadata": {
    "tags": []
   },
   "outputs": [],
   "source": [
    "valves = dict()\n",
    "\n",
    "with open(\"day16_example.txt\") as file:\n",
    "    for line in file:\n",
    "        if match := re.search(\n",
    "            r\"Valve (\\w+) .+ rate=(\\d+).+ valve[s]* ([\\w\\, ]+)\", line\n",
    "        ):\n",
    "            name, rate, tunnels = match.groups()\n",
    "            valves[name] = Valve(name, int(rate), tunnels.split(\", \"))"
   ]
  },
  {
   "cell_type": "code",
   "execution_count": null,
   "id": "a6dce908-13c5-4aa9-a577-9f64edf2bc68",
   "metadata": {
    "tags": []
   },
   "outputs": [],
   "source": [
    "valves[\"AA\"]"
   ]
  },
  {
   "cell_type": "code",
   "execution_count": null,
   "id": "69ce4cf4-81fc-48fa-88f3-8d0c9b3d8c4d",
   "metadata": {},
   "outputs": [],
   "source": []
  }
 ],
 "metadata": {
  "kernelspec": {
   "display_name": "AoC",
   "language": "python",
   "name": "aoc"
  },
  "language_info": {
   "codemirror_mode": {
    "name": "ipython",
    "version": 3
   },
   "file_extension": ".py",
   "mimetype": "text/x-python",
   "name": "python",
   "nbconvert_exporter": "python",
   "pygments_lexer": "ipython3",
   "version": "3.11.0"
  }
 },
 "nbformat": 4,
 "nbformat_minor": 5
}
