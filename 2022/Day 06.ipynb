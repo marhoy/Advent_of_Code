{
 "cells": [
  {
   "cell_type": "code",
   "execution_count": null,
   "id": "85176dac-3457-42cb-8988-e3fe7e2eb0c6",
   "metadata": {},
   "outputs": [],
   "source": [
    "with open(\"day06_input.txt\") as file:\n",
    "    buffer = file.read().strip()"
   ]
  },
  {
   "cell_type": "markdown",
   "id": "33f5c1b0-4ae4-4b62-b406-72341045f69c",
   "metadata": {},
   "source": [
    "# Part 1"
   ]
  },
  {
   "cell_type": "code",
   "execution_count": null,
   "id": "48adbb0b-5c58-4c26-8914-6a0457199665",
   "metadata": {
    "tags": []
   },
   "outputs": [],
   "source": [
    "for end in range(4, len(buffer) + 1):\n",
    "    four = buffer[end - 4 : end]\n",
    "    if len(set(four)) == 4:\n",
    "        break"
   ]
  },
  {
   "cell_type": "code",
   "execution_count": null,
   "id": "022970db-2de1-4ca6-b83f-393122243e89",
   "metadata": {
    "tags": []
   },
   "outputs": [],
   "source": [
    "end"
   ]
  },
  {
   "cell_type": "markdown",
   "id": "585b51a5-b113-4505-8101-3120d2968453",
   "metadata": {},
   "source": [
    "# Part 2"
   ]
  },
  {
   "cell_type": "code",
   "execution_count": null,
   "id": "84ea3116-6c0b-4e5b-9095-2928b8e30fab",
   "metadata": {},
   "outputs": [],
   "source": [
    "for end in range(14, len(buffer) + 1):\n",
    "    four = buffer[end - 14 : end]\n",
    "    if len(set(four)) == 14:\n",
    "        break"
   ]
  },
  {
   "cell_type": "code",
   "execution_count": null,
   "id": "1e9f5db0-4511-4f2a-8b57-da8f297ede82",
   "metadata": {},
   "outputs": [],
   "source": [
    "end"
   ]
  },
  {
   "cell_type": "code",
   "execution_count": null,
   "id": "125dd4b2-7631-485d-a23a-5aefbb95727a",
   "metadata": {},
   "outputs": [],
   "source": []
  }
 ],
 "metadata": {
  "kernelspec": {
   "display_name": "AoC",
   "language": "python",
   "name": "aoc"
  },
  "language_info": {
   "codemirror_mode": {
    "name": "ipython",
    "version": 3
   },
   "file_extension": ".py",
   "mimetype": "text/x-python",
   "name": "python",
   "nbconvert_exporter": "python",
   "pygments_lexer": "ipython3",
   "version": "3.11.0"
  }
 },
 "nbformat": 4,
 "nbformat_minor": 5
}
