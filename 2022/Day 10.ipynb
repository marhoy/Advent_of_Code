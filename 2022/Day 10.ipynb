{
 "cells": [
  {
   "cell_type": "code",
   "execution_count": null,
   "id": "32ffe1ed-29b8-40c0-bb8f-7de2e0ebbc0d",
   "metadata": {
    "tags": []
   },
   "outputs": [],
   "source": [
    "instructions = []\n",
    "with open(\"day10_input.txt\") as file:\n",
    "    for line in file:\n",
    "        if line.startswith(\"noop\"):\n",
    "            instructions.append((\"noop\", 0))\n",
    "        else:\n",
    "            instr, change = line.split()\n",
    "            instructions.append((instr, int(change)))\n",
    "\n",
    "instructions[:3]"
   ]
  },
  {
   "cell_type": "markdown",
   "id": "2ea4a215-6f67-44ba-854a-d1b0609f352b",
   "metadata": {},
   "source": [
    "# Part 1"
   ]
  },
  {
   "cell_type": "code",
   "execution_count": null,
   "id": "3b3101a0-cefc-495d-9b08-2d7712ec1b09",
   "metadata": {
    "tags": []
   },
   "outputs": [],
   "source": [
    "cycle, X = 0, 1\n",
    "values = [X]\n",
    "\n",
    "for instr, change in instructions:\n",
    "    values.append(X)\n",
    "    if instr == \"addx\":\n",
    "        X += change\n",
    "        values.append(X)"
   ]
  },
  {
   "cell_type": "code",
   "execution_count": null,
   "id": "6911f50e-5096-4cd6-9170-b5d8ec36e8e6",
   "metadata": {
    "tags": []
   },
   "outputs": [],
   "source": [
    "sum([cycle*values[cycle - 1] for cycle in range(20, len(values), 40)])"
   ]
  },
  {
   "cell_type": "markdown",
   "id": "cca481e8-4942-4c9d-831e-5d59fb711fa1",
   "metadata": {},
   "source": [
    "# Part 2"
   ]
  },
  {
   "cell_type": "code",
   "execution_count": null,
   "id": "68291371-bdb6-4092-8e3e-de97e64317c8",
   "metadata": {
    "tags": []
   },
   "outputs": [],
   "source": [
    "start = 0\n",
    "while start + 40 < len(values):\n",
    "    line = values[start:start + 40]\n",
    "    pixels = []\n",
    "    for cycle, sprite in enumerate(line):\n",
    "        if sprite - 1 <= cycle <= sprite + 1:\n",
    "            pixels.append(\"#\")\n",
    "        else:\n",
    "            pixels.append(\".\")\n",
    "    print(\"\".join(pixels))\n",
    "    start += 40"
   ]
  },
  {
   "cell_type": "code",
   "execution_count": null,
   "id": "c16299a7-7380-479f-b8bf-400c93ac665d",
   "metadata": {},
   "outputs": [],
   "source": []
  },
  {
   "cell_type": "code",
   "execution_count": null,
   "id": "a9b2adec-ede7-454a-b44c-cf882cac82a6",
   "metadata": {},
   "outputs": [],
   "source": []
  }
 ],
 "metadata": {
  "kernelspec": {
   "display_name": "AoC",
   "language": "python",
   "name": "aoc"
  },
  "language_info": {
   "codemirror_mode": {
    "name": "ipython",
    "version": 3
   },
   "file_extension": ".py",
   "mimetype": "text/x-python",
   "name": "python",
   "nbconvert_exporter": "python",
   "pygments_lexer": "ipython3",
   "version": "3.11.0"
  }
 },
 "nbformat": 4,
 "nbformat_minor": 5
}
