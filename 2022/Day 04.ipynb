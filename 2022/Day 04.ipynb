{
 "cells": [
  {
   "cell_type": "code",
   "execution_count": null,
   "id": "5e805bf4",
   "metadata": {},
   "outputs": [],
   "source": [
    "with open(\"day04_input.txt\") as file:\n",
    "    lines = file.read().splitlines()"
   ]
  },
  {
   "cell_type": "markdown",
   "id": "faa0b643",
   "metadata": {},
   "source": [
    "# Part 1"
   ]
  },
  {
   "cell_type": "code",
   "execution_count": null,
   "id": "4498dcdb",
   "metadata": {},
   "outputs": [],
   "source": [
    "num_contained = 0\n",
    "for line in lines:\n",
    "    ranges = [int(value) for values in line.split(\",\") for value in values.split(\"-\")]\n",
    "    elf1_start, elf1_end, elf2_start, elf2_end = ranges\n",
    "    if (\n",
    "        (elf1_start >= elf2_start and elf1_end <= elf2_end) or\n",
    "        (elf2_start >= elf1_start and elf2_end <= elf1_end)\n",
    "    ):\n",
    "        num_contained += 1\n",
    "        \n",
    "num_contained"
   ]
  },
  {
   "cell_type": "markdown",
   "id": "4a4706d2",
   "metadata": {},
   "source": [
    "# Part 2"
   ]
  },
  {
   "cell_type": "code",
   "execution_count": null,
   "id": "9b84ad9c",
   "metadata": {},
   "outputs": [],
   "source": [
    "num_overlaps = 0\n",
    "for line in lines:\n",
    "    ranges = [int(value) for values in line.split(\",\") for value in values.split(\"-\")]\n",
    "    elf1_start, elf1_end, elf2_start, elf2_end = ranges\n",
    "    if (\n",
    "        (elf2_start <= elf1_end <= elf2_end) or\n",
    "        (elf1_start <= elf2_end <= elf1_end)\n",
    "    ):\n",
    "        num_overlaps += 1\n",
    "        \n",
    "num_overlaps"
   ]
  },
  {
   "cell_type": "code",
   "execution_count": null,
   "id": "cc731481",
   "metadata": {},
   "outputs": [],
   "source": []
  }
 ],
 "metadata": {
  "kernelspec": {
   "display_name": "AoC",
   "language": "python",
   "name": "aoc"
  },
  "language_info": {
   "codemirror_mode": {
    "name": "ipython",
    "version": 3
   },
   "file_extension": ".py",
   "mimetype": "text/x-python",
   "name": "python",
   "nbconvert_exporter": "python",
   "pygments_lexer": "ipython3",
   "version": "3.11.0"
  },
  "toc": {
   "base_numbering": 1,
   "nav_menu": {},
   "number_sections": false,
   "sideBar": true,
   "skip_h1_title": false,
   "title_cell": "Table of Contents",
   "title_sidebar": "Contents",
   "toc_cell": false,
   "toc_position": {},
   "toc_section_display": true,
   "toc_window_display": false
  }
 },
 "nbformat": 4,
 "nbformat_minor": 5
}
