{
 "cells": [
  {
   "cell_type": "code",
   "execution_count": 1,
   "id": "5e805bf4",
   "metadata": {
    "ExecuteTime": {
     "end_time": "2022-12-04T06:59:39.612785Z",
     "start_time": "2022-12-04T06:59:39.605309Z"
    }
   },
   "outputs": [],
   "source": [
    "with open(\"day04_input.txt\") as file:\n",
    "    lines = file.read().splitlines()"
   ]
  },
  {
   "cell_type": "markdown",
   "id": "faa0b643",
   "metadata": {},
   "source": [
    "# Part 1"
   ]
  },
  {
   "cell_type": "code",
   "execution_count": 2,
   "id": "4498dcdb",
   "metadata": {
    "ExecuteTime": {
     "end_time": "2022-12-04T06:59:39.626630Z",
     "start_time": "2022-12-04T06:59:39.615165Z"
    }
   },
   "outputs": [
    {
     "data": {
      "text/plain": [
       "450"
      ]
     },
     "execution_count": 2,
     "metadata": {},
     "output_type": "execute_result"
    }
   ],
   "source": [
    "num_contained = 0\n",
    "for line in lines:\n",
    "    ranges = [int(value) for values in line.split(\",\") for value in values.split(\"-\")]\n",
    "    elf1_start, elf1_end, elf2_start, elf2_end = ranges\n",
    "    if (\n",
    "        (elf1_start >= elf2_start and elf1_end <= elf2_end) or\n",
    "        (elf2_start >= elf1_start and elf2_end <= elf1_end)\n",
    "    ):\n",
    "        num_contained += 1\n",
    "        \n",
    "num_contained"
   ]
  },
  {
   "cell_type": "markdown",
   "id": "4a4706d2",
   "metadata": {},
   "source": [
    "# Part 2"
   ]
  },
  {
   "cell_type": "code",
   "execution_count": 3,
   "id": "9b84ad9c",
   "metadata": {
    "ExecuteTime": {
     "end_time": "2022-12-04T06:59:39.633225Z",
     "start_time": "2022-12-04T06:59:39.628314Z"
    }
   },
   "outputs": [
    {
     "data": {
      "text/plain": [
       "837"
      ]
     },
     "execution_count": 3,
     "metadata": {},
     "output_type": "execute_result"
    }
   ],
   "source": [
    "num_overlaps = 0\n",
    "for line in lines:\n",
    "    ranges = [int(value) for values in line.split(\",\") for value in values.split(\"-\")]\n",
    "    elf1_start, elf1_end, elf2_start, elf2_end = ranges\n",
    "    if (\n",
    "        (elf2_start <= elf1_end <= elf2_end) or\n",
    "        (elf1_start <= elf2_end <= elf1_end)\n",
    "    ):\n",
    "        num_overlaps += 1\n",
    "        \n",
    "num_overlaps"
   ]
  },
  {
   "cell_type": "code",
   "execution_count": null,
   "id": "cc731481",
   "metadata": {},
   "outputs": [],
   "source": []
  }
 ],
 "metadata": {
  "kernelspec": {
   "display_name": "AoC",
   "language": "python",
   "name": "aoc"
  },
  "language_info": {
   "codemirror_mode": {
    "name": "ipython",
    "version": 3
   },
   "file_extension": ".py",
   "mimetype": "text/x-python",
   "name": "python",
   "nbconvert_exporter": "python",
   "pygments_lexer": "ipython3",
   "version": "3.11.0"
  },
  "toc": {
   "base_numbering": 1,
   "nav_menu": {},
   "number_sections": false,
   "sideBar": true,
   "skip_h1_title": false,
   "title_cell": "Table of Contents",
   "title_sidebar": "Contents",
   "toc_cell": false,
   "toc_position": {},
   "toc_section_display": true,
   "toc_window_display": false
  }
 },
 "nbformat": 4,
 "nbformat_minor": 5
}
