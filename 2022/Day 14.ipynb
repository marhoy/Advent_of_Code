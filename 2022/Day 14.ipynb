{
 "cells": [
  {
   "cell_type": "code",
   "execution_count": null,
   "id": "6192bf6c-c1e9-4eec-bf3e-783d2defb524",
   "metadata": {
    "tags": []
   },
   "outputs": [],
   "source": [
    "import re"
   ]
  },
  {
   "cell_type": "code",
   "execution_count": null,
   "id": "b021b9cb-c208-4e29-a9f6-5868795a233b",
   "metadata": {
    "tags": []
   },
   "outputs": [],
   "source": [
    "def range_inc(start, stop):\n",
    "    return range(start, stop + 1)"
   ]
  },
  {
   "cell_type": "code",
   "execution_count": null,
   "id": "89334bfa-313c-4a71-bb3f-6543efd99095",
   "metadata": {
    "tags": []
   },
   "outputs": [],
   "source": [
    "def get_cave():\n",
    "    cave = dict()\n",
    "\n",
    "    with open(\"day14_example.txt\") as file:\n",
    "        for line in file:\n",
    "            points = [\n",
    "                tuple(map(int, point.split(\",\"))) for point in re.findall(\"(\\d+,\\d+)\", line)\n",
    "            ]\n",
    "            for p1, p2 in zip(points, points[1:]):\n",
    "                for x in range_inc(*sorted([p1[0], p2[0]])):\n",
    "                    for y in range_inc(*sorted([p1[1], p2[1]])):\n",
    "                        cave[(x, y)] = \"#\"\n",
    "\n",
    "    cave[(500, 0)] = \"+\"\n",
    "\n",
    "    return cave"
   ]
  },
  {
   "cell_type": "code",
   "execution_count": null,
   "id": "d02f8529-4e11-48df-986e-204daae94fe7",
   "metadata": {
    "tags": []
   },
   "outputs": [],
   "source": [
    "def print_cave(cave):\n",
    "    x_vals = [k[0] for k in cave]\n",
    "    y_vals = [k[1] for k in cave]\n",
    "    min_x, max_x = min(x_vals), max(x_vals)\n",
    "    min_y, max_y = min(y_vals), max(y_vals)\n",
    "\n",
    "    for y in range_inc(min_y, max_y):\n",
    "        print(\"\".join(cave.get((x, y), \".\") for x in range_inc(min_x, max_x)))"
   ]
  },
  {
   "cell_type": "markdown",
   "id": "d7bca80b-7700-487b-b2c4-a66ea40b0359",
   "metadata": {},
   "source": [
    "# Part 1"
   ]
  },
  {
   "cell_type": "code",
   "execution_count": null,
   "id": "35d70602-4208-407f-b88c-31ee35938b14",
   "metadata": {
    "tags": []
   },
   "outputs": [],
   "source": [
    "def move_sand(pos):\n",
    "    x, y = pos\n",
    "    if cave.get((x, y + 1)) is None:\n",
    "        move_sand((x, y + 1))\n",
    "    elif cave.get((x - 1, y + 1)) is None:\n",
    "        move_sand((x - 1, y + 1))\n",
    "    elif cave.get((x + 1, y + 1)) is None:\n",
    "        move_sand((x + 1, y + 1))\n",
    "    else:\n",
    "        cave[pos] = \"o\""
   ]
  },
  {
   "cell_type": "code",
   "execution_count": null,
   "id": "a5f20711-1146-4bc3-9373-f8fb4dbf5657",
   "metadata": {
    "tags": []
   },
   "outputs": [],
   "source": [
    "cave = get_cave()\n",
    "i = 0\n",
    "while True:\n",
    "    try:\n",
    "        move_sand((500, 0))\n",
    "        i += 1\n",
    "    except RecursionError:\n",
    "        break\n",
    "\n",
    "i"
   ]
  },
  {
   "cell_type": "code",
   "execution_count": null,
   "id": "92660367-ae48-4e40-a3c3-09be355bfea4",
   "metadata": {
    "tags": []
   },
   "outputs": [],
   "source": [
    "print_cave(cave)"
   ]
  },
  {
   "cell_type": "markdown",
   "id": "35d97e0a-4659-47c8-8d9d-268a093008fc",
   "metadata": {},
   "source": [
    "# Part 2"
   ]
  },
  {
   "cell_type": "code",
   "execution_count": null,
   "id": "861d0647-827d-4d94-9595-f91382be5855",
   "metadata": {
    "tags": []
   },
   "outputs": [],
   "source": [
    "floor = 2 + max(y for x, y in cave)\n",
    "floor"
   ]
  },
  {
   "cell_type": "code",
   "execution_count": null,
   "id": "ce0e0657-06a8-44c2-9887-db1df162ac5f",
   "metadata": {
    "tags": []
   },
   "outputs": [],
   "source": [
    "def move_sand_2(pos):\n",
    "    x, y = pos\n",
    "    if y == floor - 1:\n",
    "        cave[pos] = \"o\"\n",
    "    elif cave.get((x, y + 1)) is None:\n",
    "        move_sand_2((x, y + 1))\n",
    "    elif cave.get((x - 1, y + 1)) is None:\n",
    "        move_sand_2((x - 1, y + 1))\n",
    "    elif cave.get((x + 1, y + 1)) is None:\n",
    "        move_sand_2((x + 1, y + 1))\n",
    "    else:\n",
    "        cave[pos] = \"o\""
   ]
  },
  {
   "cell_type": "code",
   "execution_count": null,
   "id": "8bf86510-40b9-4607-ad07-0be2e6c2b5c9",
   "metadata": {
    "tags": []
   },
   "outputs": [],
   "source": [
    "cave = get_cave()\n",
    "i = 0\n",
    "while cave[(500, 0)] == \"+\":\n",
    "    move_sand_2((500, 0))\n",
    "    i += 1\n",
    "\n",
    "i"
   ]
  },
  {
   "cell_type": "code",
   "execution_count": null,
   "id": "e87ef5cb-01f9-491e-b52c-f0d3203a5292",
   "metadata": {
    "tags": []
   },
   "outputs": [],
   "source": [
    "print_cave(cave)"
   ]
  },
  {
   "cell_type": "code",
   "execution_count": null,
   "id": "a545fd9d-e31e-4206-9c33-4cb250aff734",
   "metadata": {},
   "outputs": [],
   "source": []
  }
 ],
 "metadata": {
  "kernelspec": {
   "display_name": "AoC",
   "language": "python",
   "name": "aoc"
  },
  "language_info": {
   "codemirror_mode": {
    "name": "ipython",
    "version": 3
   },
   "file_extension": ".py",
   "mimetype": "text/x-python",
   "name": "python",
   "nbconvert_exporter": "python",
   "pygments_lexer": "ipython3",
   "version": "3.11.0"
  }
 },
 "nbformat": 4,
 "nbformat_minor": 5
}
