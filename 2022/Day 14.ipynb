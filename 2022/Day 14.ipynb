{
 "cells": [
  {
   "cell_type": "code",
   "execution_count": 1,
   "id": "6192bf6c-c1e9-4eec-bf3e-783d2defb524",
   "metadata": {
    "execution": {
     "iopub.execute_input": "2022-12-30T17:21:14.427006Z",
     "iopub.status.busy": "2022-12-30T17:21:14.426582Z",
     "iopub.status.idle": "2022-12-30T17:21:14.437198Z",
     "shell.execute_reply": "2022-12-30T17:21:14.435032Z",
     "shell.execute_reply.started": "2022-12-30T17:21:14.426907Z"
    },
    "tags": []
   },
   "outputs": [],
   "source": [
    "import re"
   ]
  },
  {
   "cell_type": "code",
   "execution_count": 2,
   "id": "b021b9cb-c208-4e29-a9f6-5868795a233b",
   "metadata": {
    "execution": {
     "iopub.execute_input": "2022-12-30T17:21:14.440318Z",
     "iopub.status.busy": "2022-12-30T17:21:14.439809Z",
     "iopub.status.idle": "2022-12-30T17:21:14.443306Z",
     "shell.execute_reply": "2022-12-30T17:21:14.442997Z",
     "shell.execute_reply.started": "2022-12-30T17:21:14.440297Z"
    },
    "tags": []
   },
   "outputs": [],
   "source": [
    "def range_inc(start, stop):\n",
    "    return range(start, stop + 1)"
   ]
  },
  {
   "cell_type": "code",
   "execution_count": 3,
   "id": "89334bfa-313c-4a71-bb3f-6543efd99095",
   "metadata": {
    "execution": {
     "iopub.execute_input": "2022-12-30T17:21:14.444096Z",
     "iopub.status.busy": "2022-12-30T17:21:14.443897Z",
     "iopub.status.idle": "2022-12-30T17:21:14.448683Z",
     "shell.execute_reply": "2022-12-30T17:21:14.448299Z",
     "shell.execute_reply.started": "2022-12-30T17:21:14.444080Z"
    },
    "tags": []
   },
   "outputs": [],
   "source": [
    "def get_cave():\n",
    "    cave = dict()\n",
    "\n",
    "    with open(\"day14_example.txt\") as file:\n",
    "        for line in file:\n",
    "            points = [\n",
    "                tuple(map(int, point.split(\",\"))) for point in re.findall(\"(\\d+,\\d+)\", line)\n",
    "            ]\n",
    "            for p1, p2 in zip(points, points[1:]):\n",
    "                for x in range_inc(*sorted([p1[0], p2[0]])):\n",
    "                    for y in range_inc(*sorted([p1[1], p2[1]])):\n",
    "                        cave[(x, y)] = \"#\"\n",
    "\n",
    "    cave[(500, 0)] = \"+\"\n",
    "\n",
    "    return cave"
   ]
  },
  {
   "cell_type": "code",
   "execution_count": 4,
   "id": "d02f8529-4e11-48df-986e-204daae94fe7",
   "metadata": {
    "execution": {
     "iopub.execute_input": "2022-12-30T17:21:14.449498Z",
     "iopub.status.busy": "2022-12-30T17:21:14.449365Z",
     "iopub.status.idle": "2022-12-30T17:21:14.452596Z",
     "shell.execute_reply": "2022-12-30T17:21:14.452266Z",
     "shell.execute_reply.started": "2022-12-30T17:21:14.449485Z"
    },
    "tags": []
   },
   "outputs": [],
   "source": [
    "def print_cave(cave):\n",
    "    x_vals = [k[0] for k in cave]\n",
    "    y_vals = [k[1] for k in cave]\n",
    "    min_x, max_x = min(x_vals), max(x_vals)\n",
    "    min_y, max_y = min(y_vals), max(y_vals)\n",
    "\n",
    "    for y in range_inc(min_y, max_y):\n",
    "        print(\"\".join(cave.get((x, y), \".\") for x in range_inc(min_x, max_x)))"
   ]
  },
  {
   "cell_type": "markdown",
   "id": "d7bca80b-7700-487b-b2c4-a66ea40b0359",
   "metadata": {},
   "source": [
    "# Part 1"
   ]
  },
  {
   "cell_type": "code",
   "execution_count": 5,
   "id": "35d70602-4208-407f-b88c-31ee35938b14",
   "metadata": {
    "execution": {
     "iopub.execute_input": "2022-12-30T17:21:14.453377Z",
     "iopub.status.busy": "2022-12-30T17:21:14.453242Z",
     "iopub.status.idle": "2022-12-30T17:21:14.456258Z",
     "shell.execute_reply": "2022-12-30T17:21:14.455964Z",
     "shell.execute_reply.started": "2022-12-30T17:21:14.453365Z"
    },
    "tags": []
   },
   "outputs": [],
   "source": [
    "def move_sand(pos):\n",
    "    x, y = pos\n",
    "    if cave.get((x, y + 1)) is None:\n",
    "        move_sand((x, y + 1))\n",
    "    elif cave.get((x - 1, y + 1)) is None:\n",
    "        move_sand((x - 1, y + 1))\n",
    "    elif cave.get((x + 1, y + 1)) is None:\n",
    "        move_sand((x + 1, y + 1))\n",
    "    else:\n",
    "        cave[pos] = \"o\""
   ]
  },
  {
   "cell_type": "code",
   "execution_count": 6,
   "id": "a5f20711-1146-4bc3-9373-f8fb4dbf5657",
   "metadata": {
    "execution": {
     "iopub.execute_input": "2022-12-30T17:21:14.456925Z",
     "iopub.status.busy": "2022-12-30T17:21:14.456808Z",
     "iopub.status.idle": "2022-12-30T17:21:14.467445Z",
     "shell.execute_reply": "2022-12-30T17:21:14.467006Z",
     "shell.execute_reply.started": "2022-12-30T17:21:14.456915Z"
    },
    "tags": []
   },
   "outputs": [
    {
     "data": {
      "text/plain": [
       "24"
      ]
     },
     "execution_count": 6,
     "metadata": {},
     "output_type": "execute_result"
    }
   ],
   "source": [
    "cave = get_cave()\n",
    "i = 0\n",
    "while True:\n",
    "    try:\n",
    "        move_sand((500, 0))\n",
    "        i += 1\n",
    "    except RecursionError:\n",
    "        break\n",
    "\n",
    "i"
   ]
  },
  {
   "cell_type": "code",
   "execution_count": 7,
   "id": "92660367-ae48-4e40-a3c3-09be355bfea4",
   "metadata": {
    "execution": {
     "iopub.execute_input": "2022-12-30T17:21:14.470154Z",
     "iopub.status.busy": "2022-12-30T17:21:14.470010Z",
     "iopub.status.idle": "2022-12-30T17:21:14.473040Z",
     "shell.execute_reply": "2022-12-30T17:21:14.472583Z",
     "shell.execute_reply.started": "2022-12-30T17:21:14.470143Z"
    },
    "tags": []
   },
   "outputs": [
    {
     "name": "stdout",
     "output_type": "stream",
     "text": [
      "......+...\n",
      "..........\n",
      "......o...\n",
      ".....ooo..\n",
      "....#ooo##\n",
      "...o#ooo#.\n",
      "..###ooo#.\n",
      "....oooo#.\n",
      ".o.ooooo#.\n",
      "#########.\n"
     ]
    }
   ],
   "source": [
    "print_cave(cave)"
   ]
  },
  {
   "cell_type": "markdown",
   "id": "35d97e0a-4659-47c8-8d9d-268a093008fc",
   "metadata": {},
   "source": [
    "# Part 2"
   ]
  },
  {
   "cell_type": "code",
   "execution_count": 8,
   "id": "861d0647-827d-4d94-9595-f91382be5855",
   "metadata": {
    "execution": {
     "iopub.execute_input": "2022-12-30T17:21:14.473617Z",
     "iopub.status.busy": "2022-12-30T17:21:14.473460Z",
     "iopub.status.idle": "2022-12-30T17:21:14.476863Z",
     "shell.execute_reply": "2022-12-30T17:21:14.476471Z",
     "shell.execute_reply.started": "2022-12-30T17:21:14.473607Z"
    },
    "tags": []
   },
   "outputs": [
    {
     "data": {
      "text/plain": [
       "11"
      ]
     },
     "execution_count": 8,
     "metadata": {},
     "output_type": "execute_result"
    }
   ],
   "source": [
    "floor = 2 + max(y for x, y in cave)\n",
    "floor"
   ]
  },
  {
   "cell_type": "code",
   "execution_count": 9,
   "id": "ce0e0657-06a8-44c2-9887-db1df162ac5f",
   "metadata": {
    "execution": {
     "iopub.execute_input": "2022-12-30T17:21:14.477509Z",
     "iopub.status.busy": "2022-12-30T17:21:14.477400Z",
     "iopub.status.idle": "2022-12-30T17:21:14.480287Z",
     "shell.execute_reply": "2022-12-30T17:21:14.480002Z",
     "shell.execute_reply.started": "2022-12-30T17:21:14.477501Z"
    },
    "tags": []
   },
   "outputs": [],
   "source": [
    "def move_sand_2(pos):\n",
    "    x, y = pos\n",
    "    if y == floor - 1:\n",
    "        cave[pos] = \"o\"\n",
    "    elif cave.get((x, y + 1)) is None:\n",
    "        move_sand_2((x, y + 1))\n",
    "    elif cave.get((x - 1, y + 1)) is None:\n",
    "        move_sand_2((x - 1, y + 1))\n",
    "    elif cave.get((x + 1, y + 1)) is None:\n",
    "        move_sand_2((x + 1, y + 1))\n",
    "    else:\n",
    "        cave[pos] = \"o\""
   ]
  },
  {
   "cell_type": "code",
   "execution_count": 10,
   "id": "8bf86510-40b9-4607-ad07-0be2e6c2b5c9",
   "metadata": {
    "execution": {
     "iopub.execute_input": "2022-12-30T17:21:14.480694Z",
     "iopub.status.busy": "2022-12-30T17:21:14.480620Z",
     "iopub.status.idle": "2022-12-30T17:21:14.483537Z",
     "shell.execute_reply": "2022-12-30T17:21:14.483254Z",
     "shell.execute_reply.started": "2022-12-30T17:21:14.480686Z"
    },
    "tags": []
   },
   "outputs": [
    {
     "data": {
      "text/plain": [
       "93"
      ]
     },
     "execution_count": 10,
     "metadata": {},
     "output_type": "execute_result"
    }
   ],
   "source": [
    "cave = get_cave()\n",
    "i = 0\n",
    "while cave[(500, 0)] == \"+\":\n",
    "    move_sand_2((500, 0))\n",
    "    i += 1\n",
    "\n",
    "i"
   ]
  },
  {
   "cell_type": "code",
   "execution_count": 11,
   "id": "e87ef5cb-01f9-491e-b52c-f0d3203a5292",
   "metadata": {
    "execution": {
     "iopub.execute_input": "2022-12-30T17:21:14.483955Z",
     "iopub.status.busy": "2022-12-30T17:21:14.483879Z",
     "iopub.status.idle": "2022-12-30T17:21:14.485800Z",
     "shell.execute_reply": "2022-12-30T17:21:14.485573Z",
     "shell.execute_reply.started": "2022-12-30T17:21:14.483947Z"
    },
    "tags": []
   },
   "outputs": [
    {
     "name": "stdout",
     "output_type": "stream",
     "text": [
      "..........o..........\n",
      ".........ooo.........\n",
      "........ooooo........\n",
      ".......ooooooo.......\n",
      "......oo#ooo##o......\n",
      ".....ooo#ooo#ooo.....\n",
      "....oo###ooo#oooo....\n",
      "...oooo.oooo#ooooo...\n",
      "..oooooooooo#oooooo..\n",
      ".ooo#########ooooooo.\n",
      "ooooo.......ooooooooo\n"
     ]
    }
   ],
   "source": [
    "print_cave(cave)"
   ]
  },
  {
   "cell_type": "code",
   "execution_count": null,
   "id": "a545fd9d-e31e-4206-9c33-4cb250aff734",
   "metadata": {},
   "outputs": [],
   "source": []
  }
 ],
 "metadata": {
  "kernelspec": {
   "display_name": "AoC",
   "language": "python",
   "name": "aoc"
  },
  "language_info": {
   "codemirror_mode": {
    "name": "ipython",
    "version": 3
   },
   "file_extension": ".py",
   "mimetype": "text/x-python",
   "name": "python",
   "nbconvert_exporter": "python",
   "pygments_lexer": "ipython3",
   "version": "3.11.0"
  }
 },
 "nbformat": 4,
 "nbformat_minor": 5
}
