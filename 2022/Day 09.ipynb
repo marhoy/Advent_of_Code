{
 "cells": [
  {
   "cell_type": "code",
   "execution_count": null,
   "id": "23744261-7a87-44e2-bfac-a122523232f7",
   "metadata": {
    "tags": []
   },
   "outputs": [],
   "source": [
    "from dataclasses import dataclass\n",
    "import math"
   ]
  },
  {
   "cell_type": "code",
   "execution_count": null,
   "id": "c5e3686f-226b-4880-9e5c-0d08c4f51176",
   "metadata": {
    "tags": []
   },
   "outputs": [],
   "source": [
    "instructions = []\n",
    "with open(\"day09_input.txt\") as file:\n",
    "    for line in file:\n",
    "        direction, count = line.split()\n",
    "        instructions.append((direction, int(count)))\n",
    "\n",
    "instructions[:3]"
   ]
  },
  {
   "cell_type": "code",
   "execution_count": null,
   "id": "e43c7c2f-a086-4e98-a277-99f16d2dfbdb",
   "metadata": {
    "tags": []
   },
   "outputs": [],
   "source": [
    "@dataclass\n",
    "class Position:\n",
    "    hor: int = 0\n",
    "    ver: int = 0\n",
    "    \n",
    "    def move_in_direction(self, direction):\n",
    "        match direction:\n",
    "            case \"R\":\n",
    "                self.hor += 1\n",
    "            case \"L\":\n",
    "                self.hor -= 1\n",
    "            case \"U\":\n",
    "                self.ver -= 1\n",
    "            case \"D\":\n",
    "                self.ver += 1\n",
    "    \n",
    "    def move_towards(self, pos):\n",
    "        hor_diff, ver_diff = self._diff(pos)\n",
    "        # print(\"Diff: \", hor_diff, ver_diff)\n",
    "        if abs(hor_diff) + abs(ver_diff) >= 3:\n",
    "            # Move diagonally\n",
    "            self.hor += int(math.copysign(1, hor_diff))\n",
    "            self.ver += int(math.copysign(1, ver_diff))\n",
    "        elif abs(hor_diff) == 2:\n",
    "            # Move horizontally\n",
    "            self.hor += int(math.copysign(1, hor_diff))\n",
    "        elif abs(ver_diff) == 2:\n",
    "            # Move vertically\n",
    "            self.ver += int(math.copysign(1, ver_diff))\n",
    "\n",
    "    def _diff(self, pos):\n",
    "        hor = pos.hor - self.hor\n",
    "        ver = pos.ver - self.ver\n",
    "        return hor, ver"
   ]
  },
  {
   "cell_type": "markdown",
   "id": "1ca0ae37-3659-4aa3-b4e9-204ed885614e",
   "metadata": {},
   "source": [
    "# Part 1"
   ]
  },
  {
   "cell_type": "code",
   "execution_count": null,
   "id": "f4dbf9f1-b831-4bc2-b7ed-0ebcd8e39f30",
   "metadata": {
    "tags": []
   },
   "outputs": [],
   "source": [
    "head, tail = Position(), Position()\n",
    "visited = set([(tail.hor, tail.ver)])"
   ]
  },
  {
   "cell_type": "code",
   "execution_count": null,
   "id": "2b856056-e49e-4de1-bbde-913f8ab074fd",
   "metadata": {
    "tags": []
   },
   "outputs": [],
   "source": [
    "for direction, count in instructions:\n",
    "    for _ in range(count):\n",
    "        head.move_in_direction(direction)\n",
    "        tail.move_towards(head)\n",
    "        visited.add((tail.hor, tail.ver))"
   ]
  },
  {
   "cell_type": "code",
   "execution_count": null,
   "id": "f75cc627-f8f0-4110-bf03-ea4b35020daf",
   "metadata": {
    "tags": []
   },
   "outputs": [],
   "source": [
    "len(visited)"
   ]
  },
  {
   "cell_type": "markdown",
   "id": "86179c40-d201-459d-8b1d-0c0879bdb108",
   "metadata": {},
   "source": [
    "# Part 2"
   ]
  },
  {
   "cell_type": "code",
   "execution_count": null,
   "id": "554bd5b1-131c-42d6-a808-87997be32fa9",
   "metadata": {
    "tags": []
   },
   "outputs": [],
   "source": [
    "def print_rope(rope):\n",
    "    hor = [p.hor for p in rope] + [0]\n",
    "    ver = [p.ver for p in rope] + [0]\n",
    "    min_hor, max_hor = min(hor), max(hor)\n",
    "    min_ver, max_ver = min(ver), max(ver)\n",
    "    val = dict()\n",
    "    val[(0, 0)] = \"s\"\n",
    "    for i, p in enumerate(reversed(rope), -len(rope) + 1):\n",
    "        val[(p.hor, p.ver)] = str(abs(i))\n",
    "\n",
    "    for v in range(min_ver, max_ver + 1):\n",
    "        print(\"\".join([val.get((h, v), \".\") for h in range(min_hor, max_hor + 1)]))\n",
    "    print()"
   ]
  },
  {
   "cell_type": "code",
   "execution_count": null,
   "id": "9f771edb-ea5b-4ac4-85ad-654aaa2e632d",
   "metadata": {
    "tags": []
   },
   "outputs": [],
   "source": [
    "rope = [Position() for _ in range(10)]\n",
    "visited = set([(0, 0)])"
   ]
  },
  {
   "cell_type": "code",
   "execution_count": null,
   "id": "3739e7e0-4ae2-4833-9064-8e4affa55ff0",
   "metadata": {
    "tags": []
   },
   "outputs": [],
   "source": [
    "for direction, count in instructions:\n",
    "    for _ in range(count):\n",
    "        rope[0].move_in_direction(direction)\n",
    "        for i in range(1,10):\n",
    "            rope[i].move_towards(rope[i-1])\n",
    "        tail = rope[-1]\n",
    "        visited.add((tail.hor, tail.ver))\n",
    "    # print_rope(rope)"
   ]
  },
  {
   "cell_type": "code",
   "execution_count": null,
   "id": "6bd3f0b1-8504-42a8-8466-e17be84fa3eb",
   "metadata": {
    "tags": []
   },
   "outputs": [],
   "source": [
    "len(visited)"
   ]
  },
  {
   "cell_type": "code",
   "execution_count": null,
   "id": "e742bdcf-fb2a-4293-bdac-262f505cdf16",
   "metadata": {},
   "outputs": [],
   "source": []
  }
 ],
 "metadata": {
  "kernelspec": {
   "display_name": "AoC",
   "language": "python",
   "name": "aoc"
  },
  "language_info": {
   "codemirror_mode": {
    "name": "ipython",
    "version": 3
   },
   "file_extension": ".py",
   "mimetype": "text/x-python",
   "name": "python",
   "nbconvert_exporter": "python",
   "pygments_lexer": "ipython3",
   "version": "3.11.0"
  }
 },
 "nbformat": 4,
 "nbformat_minor": 5
}
