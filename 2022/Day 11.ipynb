{
 "cells": [
  {
   "cell_type": "code",
   "execution_count": null,
   "id": "5adb9de6-68a8-43f7-9060-3cb1e797c9bc",
   "metadata": {},
   "outputs": [],
   "source": [
    "import math\n",
    "import re"
   ]
  },
  {
   "cell_type": "code",
   "execution_count": null,
   "id": "77b66737-8a2c-49dc-af00-aa94e61f4550",
   "metadata": {
    "tags": []
   },
   "outputs": [],
   "source": [
    "with open(\"day11_input.txt\") as file:\n",
    "    monkey_blocks = file.read().split(\"\\n\\n\")"
   ]
  },
  {
   "cell_type": "code",
   "execution_count": null,
   "id": "f30d345f-3aee-4c1b-962c-2ea4ab8a6148",
   "metadata": {
    "tags": []
   },
   "outputs": [],
   "source": [
    "class Monkey:\n",
    "    \n",
    "    def __init__(self, monkey_id, items, operation, test_divisor, monkey_true, monkey_false, part):\n",
    "        self.id = monkey_id\n",
    "        self.items = items\n",
    "        self.operation = operation\n",
    "        self.test_divisor = test_divisor\n",
    "        self.monkey_true = monkey_true\n",
    "        self.monkey_false = monkey_false\n",
    "        self.inspected = 0\n",
    "        self.part = part\n",
    "        \n",
    "    def __repr__(self):\n",
    "        return f\"Monkey {self.id}: {', '.join(map(str, self.items))}\\n\"\n",
    "    \n",
    "    def process_items(self):\n",
    "        while self.items:\n",
    "            self.inspected += 1\n",
    "            old = self.items.pop(0)\n",
    "            new = eval(self.operation)\n",
    "            if self.part == 1:\n",
    "                new = new // 3\n",
    "            else:\n",
    "                new = new % common_prod\n",
    "                \n",
    "            if new % self.test_divisor == 0:\n",
    "                monkeys[self.monkey_true].receive(new)\n",
    "            else:\n",
    "                monkeys[self.monkey_false].receive(new)\n",
    "\n",
    "    def receive(self, item):\n",
    "        self.items.append(item)\n",
    "    \n",
    "    @classmethod\n",
    "    def from_block(cls, block, part):\n",
    "        for line in block.split(\"\\n\"):\n",
    "            if match := re.search(\"Monkey (\\d+):\", line):\n",
    "                monkey_id = int(match.group(1))\n",
    "            if match := re.search(\"Starting items: (.+)\", line):\n",
    "                items = [int(d) for d in re.findall(\"\\d+\", match.group(1))]\n",
    "            if match := re.search(\"Operation: new = (.+)\", line):\n",
    "                operation = match.group(1)\n",
    "            if match := re.search(\"Test: divisible by (\\d+)\", line):\n",
    "                test_divisor = int(match.group(1))\n",
    "            if match := re.search(\"If true: throw to monkey (\\d+)\", line):\n",
    "                monkey_true = int(match.group(1))\n",
    "            if match := re.search(\"If false: throw to monkey (\\d+)\", line):\n",
    "                monkey_false = int(match.group(1))\n",
    "            \n",
    "        return cls(monkey_id, items, operation, test_divisor, monkey_true, monkey_false, part)"
   ]
  },
  {
   "cell_type": "markdown",
   "id": "dc9be9de-38ec-40a5-85a7-c3fa34c8e714",
   "metadata": {},
   "source": [
    "# Part 1"
   ]
  },
  {
   "cell_type": "code",
   "execution_count": null,
   "id": "b5093cc3-0032-40e6-b7ed-a1848607e047",
   "metadata": {
    "tags": []
   },
   "outputs": [],
   "source": [
    "monkeys = [Monkey.from_block(block, part=1) for block in monkey_blocks]\n",
    "\n",
    "for round in range(20):\n",
    "    for monkey in monkeys:\n",
    "        monkey.process_items()"
   ]
  },
  {
   "cell_type": "code",
   "execution_count": null,
   "id": "ee07caae-cc96-495b-a619-07cfa993cfff",
   "metadata": {
    "tags": []
   },
   "outputs": [],
   "source": [
    "math.prod(sorted([monkey.inspected for monkey in monkeys])[-2:])"
   ]
  },
  {
   "cell_type": "markdown",
   "id": "f33a0d05-127c-4e94-b3af-4962019c903f",
   "metadata": {},
   "source": [
    "# Part 2"
   ]
  },
  {
   "cell_type": "code",
   "execution_count": null,
   "id": "fa595cb2-5268-4554-980e-fa47d906788a",
   "metadata": {
    "tags": []
   },
   "outputs": [],
   "source": [
    "monkeys = [Monkey.from_block(block, part=2) for block in monkey_blocks]\n",
    "common_prod = math.prod(monkey.test_divisor for monkey in monkeys)\n",
    "\n",
    "for round in range(10_000):\n",
    "    for monkey in monkeys:\n",
    "        monkey.process_items()"
   ]
  },
  {
   "cell_type": "code",
   "execution_count": null,
   "id": "c2403805-2803-425b-9133-2120acffa851",
   "metadata": {
    "tags": []
   },
   "outputs": [],
   "source": [
    "math.prod(sorted([monkey.inspected for monkey in monkeys])[-2:])"
   ]
  },
  {
   "cell_type": "code",
   "execution_count": null,
   "id": "133affe3-4910-49c1-85a3-513ca25d6665",
   "metadata": {},
   "outputs": [],
   "source": []
  }
 ],
 "metadata": {
  "kernelspec": {
   "display_name": "AoC",
   "language": "python",
   "name": "aoc"
  },
  "language_info": {
   "codemirror_mode": {
    "name": "ipython",
    "version": 3
   },
   "file_extension": ".py",
   "mimetype": "text/x-python",
   "name": "python",
   "nbconvert_exporter": "python",
   "pygments_lexer": "ipython3",
   "version": "3.11.0"
  }
 },
 "nbformat": 4,
 "nbformat_minor": 5
}
