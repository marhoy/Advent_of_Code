{
 "cells": [
  {
   "cell_type": "code",
   "execution_count": null,
   "id": "d83f70e8-ff5b-4b70-b834-a65acb51318d",
   "metadata": {},
   "outputs": [],
   "source": [
    "import re"
   ]
  },
  {
   "cell_type": "code",
   "execution_count": null,
   "id": "f8256e8b-b301-4e83-8938-9d9ea05e9a80",
   "metadata": {},
   "outputs": [],
   "source": [
    "with open(\"day05_input.txt\") as fh:\n",
    "    file = fh.read().splitlines()\n",
    "\n",
    "file[:10]"
   ]
  },
  {
   "cell_type": "markdown",
   "id": "9e456e06-7bc7-4df8-9d8b-bafc74c583cd",
   "metadata": {},
   "source": [
    "# Part 1"
   ]
  },
  {
   "cell_type": "code",
   "execution_count": null,
   "id": "450fb1c6-6005-41f7-8426-ba6a83b04a07",
   "metadata": {},
   "outputs": [],
   "source": [
    "stacks = [\n",
    "    [],\n",
    "    list(\"DLJRVGF\"),\n",
    "    list(\"TPMBVHJS\"),\n",
    "    list(\"VHMFDGPC\"),\n",
    "    list(\"MDPNGQ\"),\n",
    "    list(\"JLHNF\"),\n",
    "    list(\"NFVQDGTZ\"),\n",
    "    list(\"FDBL\"),\n",
    "    list(\"MJBSVDN\"),\n",
    "    list(\"GLD\")\n",
    "]"
   ]
  },
  {
   "cell_type": "code",
   "execution_count": null,
   "id": "5c01f29d-ae3b-4049-8e96-5f42651398d8",
   "metadata": {},
   "outputs": [],
   "source": [
    "for line in file:\n",
    "    if match := re.match(r\"move (\\d+) from (\\d+) to (\\d+)\", line):\n",
    "        num, s_from, s_to = map(int, match.groups())\n",
    "        for _ in range(num):\n",
    "            stacks[s_to].append(stacks[s_from].pop())"
   ]
  },
  {
   "cell_type": "code",
   "execution_count": null,
   "id": "17a432c1-77f2-43c4-afa8-bbaad1ae017b",
   "metadata": {},
   "outputs": [],
   "source": [
    "\"\".join(s[-1] for s in stacks if s)"
   ]
  },
  {
   "cell_type": "markdown",
   "id": "fced99c1-e76c-48e1-91c7-5e6ba9eeafe2",
   "metadata": {},
   "source": [
    "# Part 2"
   ]
  },
  {
   "cell_type": "code",
   "execution_count": null,
   "id": "7a2f6a28-e7b9-4a12-8238-c962ee9bcfa7",
   "metadata": {},
   "outputs": [],
   "source": [
    "stacks = [\n",
    "    [],\n",
    "    list(\"DLJRVGF\"),\n",
    "    list(\"TPMBVHJS\"),\n",
    "    list(\"VHMFDGPC\"),\n",
    "    list(\"MDPNGQ\"),\n",
    "    list(\"JLHNF\"),\n",
    "    list(\"NFVQDGTZ\"),\n",
    "    list(\"FDBL\"),\n",
    "    list(\"MJBSVDN\"),\n",
    "    list(\"GLD\")\n",
    "]"
   ]
  },
  {
   "cell_type": "code",
   "execution_count": null,
   "id": "56fa96ad-788b-4765-824f-814550973ac9",
   "metadata": {},
   "outputs": [],
   "source": [
    "for line in file:\n",
    "    if match := re.match(r\"move (\\d+) from (\\d+) to (\\d+)\", line):\n",
    "        num, s_from, s_to = map(int, match.groups())\n",
    "        for _ in range(num):\n",
    "            stacks[s_to].append(stacks[s_from].pop())\n",
    "        stacks[s_to][-num:] = reversed(stacks[s_to][-num:])"
   ]
  },
  {
   "cell_type": "code",
   "execution_count": null,
   "id": "6fdbf7f1-d78a-40e1-9b91-ded9d4b6e77c",
   "metadata": {},
   "outputs": [],
   "source": [
    "\"\".join(s[-1] for s in stacks if s)"
   ]
  }
 ],
 "metadata": {
  "kernelspec": {
   "display_name": "AdventOfCode",
   "language": "python",
   "name": "adventofcode"
  },
  "language_info": {
   "codemirror_mode": {
    "name": "ipython",
    "version": 3
   },
   "file_extension": ".py",
   "mimetype": "text/x-python",
   "name": "python",
   "nbconvert_exporter": "python",
   "pygments_lexer": "ipython3",
   "version": "3.11.0"
  }
 },
 "nbformat": 4,
 "nbformat_minor": 5
}
