{
 "cells": [
  {
   "cell_type": "markdown",
   "id": "b5b1532d",
   "metadata": {},
   "source": [
    "# Part 1"
   ]
  },
  {
   "cell_type": "code",
   "execution_count": null,
   "id": "72813511",
   "metadata": {},
   "outputs": [],
   "source": [
    "def round_score(p1, p2):\n",
    "    # Represent Rock, Papier, Scissors as 0, 1, 2\n",
    "    p1 = ord(p1) - 65\n",
    "    p2 = ord(p2) - 88\n",
    "    \n",
    "    score = p2 + 1\n",
    "    \n",
    "    if (p1 + 1) % 3 == p2:\n",
    "        # Player 2 wins\n",
    "        return score + 6\n",
    "    elif p1 == p2:\n",
    "        return score + 3\n",
    "    else:\n",
    "        return score"
   ]
  },
  {
   "cell_type": "code",
   "execution_count": null,
   "id": "ab4ac2dc",
   "metadata": {},
   "outputs": [],
   "source": [
    "score = 0\n",
    "with open(\"day02_input.txt\") as file:\n",
    "    for line in file:\n",
    "        p1, p2 = line.split()\n",
    "        score += round_score(p1, p2)\n",
    "\n",
    "score"
   ]
  },
  {
   "cell_type": "markdown",
   "id": "45425161",
   "metadata": {},
   "source": [
    "# Part 2"
   ]
  },
  {
   "cell_type": "code",
   "execution_count": null,
   "id": "07a37d5e",
   "metadata": {},
   "outputs": [],
   "source": [
    "# X means you need to lose\n",
    "# Y means you need to end the round in a draw\n",
    "# Z means you need to win"
   ]
  },
  {
   "cell_type": "code",
   "execution_count": null,
   "id": "c4114970",
   "metadata": {},
   "outputs": [],
   "source": [
    "result_score = {\n",
    "    \"X\": 0,  # Player 2 loses\n",
    "    \"Y\": 3,  # Draw\n",
    "    \"Z\": 6   # Player 2 wins\n",
    "}"
   ]
  },
  {
   "cell_type": "code",
   "execution_count": null,
   "id": "cafd71d4",
   "metadata": {},
   "outputs": [],
   "source": [
    "def p2_shape(p1, result):\n",
    "    if result == \"Y\":\n",
    "        # Draw\n",
    "        return p1\n",
    "    if result == \"Z\":\n",
    "        # Player 2 wins\n",
    "        return (p1 + 1) % 3\n",
    "    else:\n",
    "        # Player 1 wins\n",
    "        return (p1 - 1) % 3"
   ]
  },
  {
   "cell_type": "code",
   "execution_count": null,
   "id": "83c6c607",
   "metadata": {},
   "outputs": [],
   "source": [
    "total_score = 0\n",
    "with open(\"day02_input.txt\") as file:\n",
    "    for line in file:\n",
    "        p1, result = line.split()\n",
    "\n",
    "        # Represent Rock, Papir, Scissors as 0, 1, 2\n",
    "        p1 = ord(p1) - 65\n",
    "\n",
    "        total_score += result_score[result]\n",
    "        total_score += p2_shape(p1, result) + 1\n",
    "\n",
    "total_score"
   ]
  },
  {
   "cell_type": "code",
   "execution_count": null,
   "id": "7a76bdfe",
   "metadata": {},
   "outputs": [],
   "source": []
  }
 ],
 "metadata": {
  "kernelspec": {
   "display_name": "AoC",
   "language": "python",
   "name": "aoc"
  },
  "language_info": {
   "codemirror_mode": {
    "name": "ipython",
    "version": 3
   },
   "file_extension": ".py",
   "mimetype": "text/x-python",
   "name": "python",
   "nbconvert_exporter": "python",
   "pygments_lexer": "ipython3",
   "version": "3.11.0"
  },
  "toc": {
   "base_numbering": 1,
   "nav_menu": {},
   "number_sections": true,
   "sideBar": true,
   "skip_h1_title": false,
   "title_cell": "Table of Contents",
   "title_sidebar": "Contents",
   "toc_cell": false,
   "toc_position": {},
   "toc_section_display": true,
   "toc_window_display": false
  }
 },
 "nbformat": 4,
 "nbformat_minor": 5
}
