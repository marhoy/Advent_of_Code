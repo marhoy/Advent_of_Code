{
 "cells": [
  {
   "cell_type": "code",
   "execution_count": null,
   "id": "5818d409-0fae-4650-8e44-26c057daf46f",
   "metadata": {
    "tags": []
   },
   "outputs": [],
   "source": [
    "from itertools import cycle"
   ]
  },
  {
   "cell_type": "code",
   "execution_count": null,
   "id": "08144414-e321-4514-8ee2-60990b476f78",
   "metadata": {
    "tags": []
   },
   "outputs": [],
   "source": [
    "with open(\"day17_example.txt\") as file:\n",
    "    jet_moves = file.read().strip()"
   ]
  },
  {
   "cell_type": "code",
   "execution_count": null,
   "id": "37c77cb2-d426-408d-b86c-cb061f4797e0",
   "metadata": {
    "tags": []
   },
   "outputs": [],
   "source": [
    "rock_shapes = [\n",
    "    [\"####\"],\n",
    "    [\".#.\", \"###\", \".#.\"],\n",
    "    [\"..#\", \"..#\", \"###\"],\n",
    "    [\"#\", \"#\", \"#\", \"#\"],\n",
    "    [\"##\", \"##\"],\n",
    "]"
   ]
  },
  {
   "cell_type": "code",
   "execution_count": null,
   "id": "408d3403-3efa-4be6-83d6-c3acea25c812",
   "metadata": {
    "tags": []
   },
   "outputs": [],
   "source": [
    "class Rock:\n",
    "    def __init__(self, pos, shape):\n",
    "        self.pos = pos\n",
    "        self.shape = shape\n",
    "        self.height = len(shape)\n",
    "\n",
    "    def _left_edge(self):\n",
    "        x, y = self.pos[0], self.pos[1] + self.height - 1\n",
    "        return [(row.find(\"#\") + x, -y) for y, row in enumerate(self.shape, start=-y)]\n",
    "\n",
    "    def _right_edge(self):\n",
    "        x, y = self.pos[0], self.pos[1] + self.height - 1\n",
    "        return [(row.rfind(\"#\") + x, -y) for y, row in enumerate(self.shape, start=-y)]\n",
    "\n",
    "    def _bottom_edge(self):\n",
    "        x, y = self.pos\n",
    "        return [\n",
    "            (x + self.pos[0], y) if char == \"#\" else (x + self.pos[0], y + 1)\n",
    "            for x, char in enumerate(self.shape[-1])\n",
    "        ]\n",
    "\n",
    "    def can_move_right(self, cave):\n",
    "        return all(\n",
    "            (x < 6) and (cave.get((x + 1, y)) is None) for x, y in self._right_edge()\n",
    "        )\n",
    "\n",
    "    def can_move_left(self, cave):\n",
    "        return all(\n",
    "            (x > 0) and (cave.get((x - 1, y)) is None) for x, y in self._left_edge()\n",
    "        )\n",
    "\n",
    "    def can_move_down(self, cave):\n",
    "        return all(\n",
    "            (y > 0) and (cave.get((x, y - 1)) is None) for x, y in self._bottom_edge()\n",
    "        )\n",
    "\n",
    "    def move_right(self, cave):\n",
    "        if self.can_move_right(cave):\n",
    "            self.pos = (self.pos[0] + 1, self.pos[1])\n",
    "\n",
    "    def move_left(self, cave):\n",
    "        if self.can_move_left(cave):\n",
    "            self.pos = (self.pos[0] - 1, self.pos[1])\n",
    "\n",
    "    def move_down(self, cave):\n",
    "        if not self.can_move_down(cave):\n",
    "            return False\n",
    "        self.pos = (self.pos[0], self.pos[1] - 1)\n",
    "        return True\n",
    "\n",
    "    def settle(self, cave):\n",
    "        x_left, y_top = self.pos[0], self.pos[1] + self.height - 1\n",
    "        for y, row in enumerate(self.shape, start=-y_top):\n",
    "            for x, char in enumerate(row, start=x_left):\n",
    "                if char == \"#\":\n",
    "                    cave[(x, -y)] = \"#\""
   ]
  },
  {
   "cell_type": "code",
   "execution_count": null,
   "id": "1a46d017-345f-45f1-88e1-b1e22ef96394",
   "metadata": {
    "tags": []
   },
   "outputs": [],
   "source": [
    "def highest_rock(cave):\n",
    "    if not cave:\n",
    "        return -1\n",
    "    return max(y for x, y in cave)"
   ]
  },
  {
   "cell_type": "code",
   "execution_count": null,
   "id": "780c1087-f280-48bf-93cd-fa9af6a88533",
   "metadata": {
    "tags": []
   },
   "outputs": [],
   "source": [
    "def print_cave(cave):\n",
    "    for y in range(highest_rock(cave), -1, -1):\n",
    "        print(\"\".join(cave.get((x, y), \".\") for x in range(7)))"
   ]
  },
  {
   "cell_type": "markdown",
   "id": "3ec2113f-393a-49f4-9efe-8be0cad7e319",
   "metadata": {},
   "source": [
    "# Part 1"
   ]
  },
  {
   "cell_type": "code",
   "execution_count": null,
   "id": "4ef70c49-b0d7-4e84-9042-90dcf821ff9d",
   "metadata": {
    "tags": []
   },
   "outputs": [],
   "source": [
    "cave = dict()\n",
    "jets = iter(cycle(jet_moves))\n",
    "shapes = iter(cycle(rock_shapes))\n",
    "\n",
    "for num_rocks in range(2022):\n",
    "    rock = Rock((2, highest_rock(cave) + 4), next(shapes))\n",
    "    while True:\n",
    "        jet = next(jets)\n",
    "        match jet:\n",
    "            case \">\":\n",
    "                rock.move_right(cave)\n",
    "            case \"<\":\n",
    "                rock.move_left(cave)\n",
    "        if not rock.move_down(cave):\n",
    "            rock.settle(cave)\n",
    "            break"
   ]
  },
  {
   "cell_type": "code",
   "execution_count": null,
   "id": "b0a8a08a-fff9-4e31-841e-8f2c4a40dccf",
   "metadata": {
    "tags": []
   },
   "outputs": [],
   "source": [
    "highest_rock(cave) + 1"
   ]
  },
  {
   "cell_type": "markdown",
   "id": "7fd7fe03-39c0-4f22-9964-367f60c37daf",
   "metadata": {},
   "source": [
    "# Part 2"
   ]
  },
  {
   "cell_type": "code",
   "execution_count": null,
   "id": "4d2fc111-9008-4f46-9447-2b4d8feeef3e",
   "metadata": {
    "tags": []
   },
   "outputs": [],
   "source": [
    "cave = dict()\n",
    "jets = iter(cycle(enumerate(jet_moves)))\n",
    "shapes = iter(cycle(enumerate(rock_shapes)))\n",
    "\n",
    "states = set()\n",
    "heights = []\n",
    "for num_rocks in range(100):\n",
    "    shape_num, shape = next(shapes)\n",
    "    rock = Rock((2, highest_rock(cave) + 4), shape)\n",
    "    while True:\n",
    "        jet_num, jet = next(jets)\n",
    "        match jet:\n",
    "            case \">\":\n",
    "                rock.move_right(cave)\n",
    "            case \"<\":\n",
    "                rock.move_left(cave)\n",
    "        if not rock.move_down(cave):\n",
    "            rock.settle(cave)\n",
    "            break\n",
    "    heights.append(highest_rock(cave) + 1)\n",
    "    top_rows = \"\".join(\n",
    "        cave.get((x, y), \".\")\n",
    "        for x in range(7)\n",
    "        for y in range(highest_rock(cave), highest_rock(cave) - 20, -1)\n",
    "    )\n",
    "    state = (shape_num, jet_num)\n",
    "    if state in states:\n",
    "        print(f\"Repeated state after {len(heights)} rocks, at height {heights[-1]}\")\n",
    "        states.remove(state)\n",
    "    else:\n",
    "        states.add(state)"
   ]
  },
  {
   "cell_type": "code",
   "execution_count": null,
   "id": "4995ee40-ed93-4937-997c-0f1acbfaa78a",
   "metadata": {
    "tags": []
   },
   "outputs": [],
   "source": [
    "len(heights)"
   ]
  },
  {
   "cell_type": "code",
   "execution_count": null,
   "id": "14fba711-2f4b-4f21-8f05-58a7cc20cc61",
   "metadata": {
    "tags": []
   },
   "outputs": [],
   "source": [
    "cycle_length = 49\n",
    "total_rocks = 1_000_000_000_000\n",
    "num_cycles = total_rocks // cycle_length\n",
    "remaining_rocks = 1_000_000_000_000 % cycle_length\n",
    "heights[cycle_length] * num_cycles + heights[remaining_rocks]"
   ]
  },
  {
   "cell_type": "code",
   "execution_count": null,
   "id": "9d67aaa8-f557-4548-b336-fb366c9bece1",
   "metadata": {},
   "outputs": [],
   "source": [
    "remaining_rocks"
   ]
  },
  {
   "cell_type": "code",
   "execution_count": null,
   "id": "90198ae8-c4f2-485c-bd0b-57ba7bd74afc",
   "metadata": {
    "tags": []
   },
   "outputs": [],
   "source": [
    "num_cycles"
   ]
  },
  {
   "cell_type": "code",
   "execution_count": null,
   "id": "a3933909-bde7-4ab2-b8f1-ee7605225a7d",
   "metadata": {},
   "outputs": [],
   "source": [
    "1514285714288"
   ]
  },
  {
   "cell_type": "code",
   "execution_count": null,
   "id": "9a2b8c25-227b-4ceb-8600-69df0582bbb5",
   "metadata": {},
   "outputs": [],
   "source": [
    "remaining_rocks"
   ]
  },
  {
   "cell_type": "code",
   "execution_count": null,
   "id": "2955c115-cc9d-42e0-b509-d00ad5a99404",
   "metadata": {},
   "outputs": [],
   "source": [
    "len(heights)"
   ]
  },
  {
   "cell_type": "code",
   "execution_count": null,
   "id": "c89fcbeb-6cdb-4646-8d15-9bff7b4b875a",
   "metadata": {
    "tags": []
   },
   "outputs": [],
   "source": [
    "(1000000000000 // 61)"
   ]
  },
  {
   "cell_type": "code",
   "execution_count": null,
   "id": "8844c795-3d91-4135-9be0-ac1d27e6d5a1",
   "metadata": {
    "tags": []
   },
   "outputs": [],
   "source": [
    "heights[-1] * (1000000000000 // len(heights))"
   ]
  },
  {
   "cell_type": "code",
   "execution_count": null,
   "id": "96c09809-0baa-4967-8166-88af9ae440fa",
   "metadata": {
    "tags": []
   },
   "outputs": [],
   "source": [
    "1514285714288"
   ]
  },
  {
   "cell_type": "code",
   "execution_count": null,
   "id": "b81abc7b-f71a-43ee-b8b1-c47a1642f0c3",
   "metadata": {},
   "outputs": [],
   "source": []
  },
  {
   "cell_type": "code",
   "execution_count": null,
   "id": "5c4d75e2-bfe6-4995-b555-c54ceb41087a",
   "metadata": {},
   "outputs": [],
   "source": []
  }
 ],
 "metadata": {
  "kernelspec": {
   "display_name": "AoC",
   "language": "python",
   "name": "aoc"
  },
  "language_info": {
   "codemirror_mode": {
    "name": "ipython",
    "version": 3
   },
   "file_extension": ".py",
   "mimetype": "text/x-python",
   "name": "python",
   "nbconvert_exporter": "python",
   "pygments_lexer": "ipython3",
   "version": "3.11.0"
  }
 },
 "nbformat": 4,
 "nbformat_minor": 5
}
