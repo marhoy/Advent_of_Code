{
 "cells": [
  {
   "cell_type": "code",
   "execution_count": null,
   "id": "560d7099",
   "metadata": {},
   "outputs": [],
   "source": [
    "with open(\"day01_input.txt\") as fh:\n",
    "    file = fh.read()"
   ]
  },
  {
   "cell_type": "markdown",
   "id": "2bee02d9",
   "metadata": {},
   "source": [
    "# Part 1"
   ]
  },
  {
   "cell_type": "code",
   "execution_count": null,
   "id": "28622912",
   "metadata": {},
   "outputs": [],
   "source": [
    "max([sum(map(int, inv.split())) for inv in file.split(\"\\n\\n\")])"
   ]
  },
  {
   "cell_type": "markdown",
   "id": "dfd58936",
   "metadata": {},
   "source": [
    "# Part 2"
   ]
  },
  {
   "cell_type": "code",
   "execution_count": null,
   "id": "5d9fb2d2",
   "metadata": {},
   "outputs": [],
   "source": [
    "values = sorted([sum(map(int, inv.split())) for inv in file.split(\"\\n\\n\")])"
   ]
  },
  {
   "cell_type": "code",
   "execution_count": null,
   "id": "95704160",
   "metadata": {},
   "outputs": [],
   "source": [
    "sum(values[-3:])"
   ]
  },
  {
   "cell_type": "code",
   "execution_count": null,
   "id": "09cb3a3e",
   "metadata": {},
   "outputs": [],
   "source": []
  }
 ],
 "metadata": {
  "kernelspec": {
   "display_name": "AoC",
   "language": "python",
   "name": "aoc"
  },
  "language_info": {
   "codemirror_mode": {
    "name": "ipython",
    "version": 3
   },
   "file_extension": ".py",
   "mimetype": "text/x-python",
   "name": "python",
   "nbconvert_exporter": "python",
   "pygments_lexer": "ipython3",
   "version": "3.11.0"
  },
  "toc": {
   "base_numbering": 1,
   "nav_menu": {},
   "number_sections": true,
   "sideBar": true,
   "skip_h1_title": false,
   "title_cell": "Table of Contents",
   "title_sidebar": "Contents",
   "toc_cell": false,
   "toc_position": {},
   "toc_section_display": true,
   "toc_window_display": false
  }
 },
 "nbformat": 4,
 "nbformat_minor": 5
}
