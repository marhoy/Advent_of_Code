{
 "cells": [
  {
   "cell_type": "code",
   "execution_count": null,
   "id": "52a9ef3d-2414-4a1a-afed-cfcdc9a5e45e",
   "metadata": {},
   "outputs": [],
   "source": [
    "import numpy as np"
   ]
  },
  {
   "cell_type": "code",
   "execution_count": null,
   "id": "ca5a228a-ed8c-49c1-889d-3e43aeb50ed4",
   "metadata": {
    "tags": []
   },
   "outputs": [],
   "source": [
    "data = []\n",
    "with open(\"day08_input.txt\") as file:\n",
    "    for line in file:\n",
    "        data.append([int(tree) for tree in line.strip()])\n",
    "\n",
    "forest = np.array(data, dtype=np.int8)\n",
    "nrows, ncols = forest.shape"
   ]
  },
  {
   "cell_type": "markdown",
   "id": "263753b3-31ea-4148-ad2c-e907a74b350d",
   "metadata": {},
   "source": [
    "# Part 1"
   ]
  },
  {
   "cell_type": "code",
   "execution_count": null,
   "id": "44962f2a-c71d-4428-af4e-829db2e386c4",
   "metadata": {
    "tags": []
   },
   "outputs": [],
   "source": [
    "visible = 0\n",
    "for row in range(nrows):\n",
    "    for col in range(ncols):\n",
    "        tree = forest[row, col]\n",
    "        if (\n",
    "            all(forest[:row, col] < tree) # up\n",
    "            or all(forest[row + 1:, col] < tree) # down\n",
    "            or all(forest[row, :col] < tree) # left\n",
    "            or all(forest[row, col + 1:] < tree) # right\n",
    "        ):\n",
    "            visible += 1\n",
    "\n",
    "visible"
   ]
  },
  {
   "cell_type": "markdown",
   "id": "08cf2012-4bbe-459f-ac25-bb9da5e98290",
   "metadata": {
    "tags": []
   },
   "source": [
    "# Part 2"
   ]
  },
  {
   "cell_type": "code",
   "execution_count": null,
   "id": "e0c7550a-07a7-42eb-8ec2-3ccbbd86c9c3",
   "metadata": {
    "tags": []
   },
   "outputs": [],
   "source": [
    "def viewdist(arr):\n",
    "    if len(arr) == 0:\n",
    "        return 0\n",
    "    if not any(arr):\n",
    "        return len(arr)\n",
    "    return np.argmax(arr) + 1"
   ]
  },
  {
   "cell_type": "code",
   "execution_count": null,
   "id": "18a9cbbc-7f69-4599-9c44-5216925e8a52",
   "metadata": {
    "tags": []
   },
   "outputs": [],
   "source": [
    "views = []\n",
    "for row in range(nrows):\n",
    "    for col in range(ncols):\n",
    "        tree = forest[row, col]\n",
    "        left = viewdist(np.flip(forest[row, :col] >= tree))\n",
    "        right = viewdist(forest[row, col + 1:] >= tree)\n",
    "        up = viewdist(np.flip(forest[:row, col] >= tree))\n",
    "        down = viewdist(forest[row + 1:, col] >= tree)\n",
    "        views.append(left * right * up * down)\n",
    "\n",
    "max(views)"
   ]
  },
  {
   "cell_type": "code",
   "execution_count": null,
   "id": "8a4b08a2-ab1f-4251-828d-93c2e79751ab",
   "metadata": {},
   "outputs": [],
   "source": []
  }
 ],
 "metadata": {
  "kernelspec": {
   "display_name": "AoC",
   "language": "python",
   "name": "aoc"
  },
  "language_info": {
   "codemirror_mode": {
    "name": "ipython",
    "version": 3
   },
   "file_extension": ".py",
   "mimetype": "text/x-python",
   "name": "python",
   "nbconvert_exporter": "python",
   "pygments_lexer": "ipython3",
   "version": "3.11.0"
  }
 },
 "nbformat": 4,
 "nbformat_minor": 5
}
