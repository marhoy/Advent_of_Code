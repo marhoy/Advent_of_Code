{
 "cells": [
  {
   "cell_type": "code",
   "execution_count": 1,
   "id": "0bb715bb-847e-4645-b247-5bbbd0327e39",
   "metadata": {
    "execution": {
     "iopub.execute_input": "2022-12-08T22:32:08.178866Z",
     "iopub.status.busy": "2022-12-08T22:32:08.178073Z",
     "iopub.status.idle": "2022-12-08T22:32:08.189407Z",
     "shell.execute_reply": "2022-12-08T22:32:08.188351Z",
     "shell.execute_reply.started": "2022-12-08T22:32:08.178772Z"
    },
    "tags": []
   },
   "outputs": [],
   "source": [
    "from collections import Counter\n",
    "from pathlib import Path"
   ]
  },
  {
   "cell_type": "code",
   "execution_count": 2,
   "id": "b1087516-3928-45de-a64d-0f15df398d1f",
   "metadata": {
    "execution": {
     "iopub.execute_input": "2022-12-08T22:32:08.193393Z",
     "iopub.status.busy": "2022-12-08T22:32:08.193079Z",
     "iopub.status.idle": "2022-12-08T22:32:08.222360Z",
     "shell.execute_reply": "2022-12-08T22:32:08.221994Z",
     "shell.execute_reply.started": "2022-12-08T22:32:08.193373Z"
    },
    "tags": []
   },
   "outputs": [],
   "source": [
    "cwd = Path()\n",
    "dir_size = Counter()\n",
    "\n",
    "with open(\"day07_input.txt\") as file:\n",
    "    for line in file:\n",
    "        match line.split():\n",
    "            case [\"$\", \"cd\", name]:\n",
    "                cwd = cwd.joinpath(name).resolve()\n",
    "            case [size, name] if size.isdigit():\n",
    "                for path in [cwd, *cwd.parents]:\n",
    "                    dir_size[path] += int(size)"
   ]
  },
  {
   "cell_type": "markdown",
   "id": "23bf9c5f-16d5-49ce-aff1-0f0f7a542378",
   "metadata": {},
   "source": [
    "# Part 1"
   ]
  },
  {
   "cell_type": "code",
   "execution_count": 3,
   "id": "ad584f0d-f989-4b50-b494-6d94ee7076c4",
   "metadata": {
    "execution": {
     "iopub.execute_input": "2022-12-08T22:32:08.223104Z",
     "iopub.status.busy": "2022-12-08T22:32:08.222957Z",
     "iopub.status.idle": "2022-12-08T22:32:08.228384Z",
     "shell.execute_reply": "2022-12-08T22:32:08.228014Z",
     "shell.execute_reply.started": "2022-12-08T22:32:08.223093Z"
    },
    "tags": []
   },
   "outputs": [
    {
     "data": {
      "text/plain": [
       "1084134"
      ]
     },
     "execution_count": 3,
     "metadata": {},
     "output_type": "execute_result"
    }
   ],
   "source": [
    "sum(v for v in dir_size.values() if v <= 100_000)"
   ]
  },
  {
   "cell_type": "markdown",
   "id": "7ad5727e-14f8-4811-b156-3a53943afacb",
   "metadata": {},
   "source": [
    "# Part 2 "
   ]
  },
  {
   "cell_type": "code",
   "execution_count": 14,
   "id": "a3b5843f-739e-474e-b5be-aca6c824dd7b",
   "metadata": {
    "execution": {
     "iopub.execute_input": "2022-12-08T22:36:27.109195Z",
     "iopub.status.busy": "2022-12-08T22:36:27.108629Z",
     "iopub.status.idle": "2022-12-08T22:36:27.113865Z",
     "shell.execute_reply": "2022-12-08T22:36:27.113054Z",
     "shell.execute_reply.started": "2022-12-08T22:36:27.109149Z"
    },
    "tags": []
   },
   "outputs": [],
   "source": [
    "available_space = 70_000_000 - dir_size[Path(\"/\")]\n",
    "delete_size = 30_000_000 - available_space"
   ]
  },
  {
   "cell_type": "code",
   "execution_count": 15,
   "id": "a5f560ee-e6bd-4330-8a59-6954c4ce3fff",
   "metadata": {
    "execution": {
     "iopub.execute_input": "2022-12-08T22:36:28.043707Z",
     "iopub.status.busy": "2022-12-08T22:36:28.042966Z",
     "iopub.status.idle": "2022-12-08T22:36:28.052081Z",
     "shell.execute_reply": "2022-12-08T22:36:28.051066Z",
     "shell.execute_reply.started": "2022-12-08T22:36:28.043653Z"
    },
    "tags": []
   },
   "outputs": [
    {
     "data": {
      "text/plain": [
       "6183184"
      ]
     },
     "execution_count": 15,
     "metadata": {},
     "output_type": "execute_result"
    }
   ],
   "source": [
    "min(v for v in dir_size.values() if v >= delete_size)"
   ]
  },
  {
   "cell_type": "code",
   "execution_count": null,
   "id": "a6bb2338-8ddb-483d-a27f-6b39d88b21b9",
   "metadata": {},
   "outputs": [],
   "source": []
  }
 ],
 "metadata": {
  "kernelspec": {
   "display_name": "AoC",
   "language": "python",
   "name": "aoc"
  },
  "language_info": {
   "codemirror_mode": {
    "name": "ipython",
    "version": 3
   },
   "file_extension": ".py",
   "mimetype": "text/x-python",
   "name": "python",
   "nbconvert_exporter": "python",
   "pygments_lexer": "ipython3",
   "version": "3.11.0"
  }
 },
 "nbformat": 4,
 "nbformat_minor": 5
}
