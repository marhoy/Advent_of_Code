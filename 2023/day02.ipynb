{
 "cells": [
  {
   "cell_type": "code",
   "execution_count": null,
   "metadata": {},
   "outputs": [],
   "source": [
    "import re\n"
   ]
  },
  {
   "cell_type": "markdown",
   "metadata": {},
   "source": [
    "# Part 1\n"
   ]
  },
  {
   "cell_type": "code",
   "execution_count": null,
   "metadata": {},
   "outputs": [],
   "source": [
    "MAX_VALID = {\n",
    "    \"red\": 12,\n",
    "    \"green\": 13,\n",
    "    \"blue\": 14,\n",
    "}\n"
   ]
  },
  {
   "cell_type": "code",
   "execution_count": null,
   "metadata": {},
   "outputs": [],
   "source": [
    "with open(\"day02_input.txt\") as file:\n",
    "    valid_games = []\n",
    "    for line in file:\n",
    "        if match := re.match(r\"Game (\\d+): (.+)\", line):\n",
    "            game_id = int(match.group(1))\n",
    "            rounds = match.group(2).split(\";\")\n",
    "\n",
    "            round_valid = []\n",
    "            for round in rounds:\n",
    "                color_counts = re.findall(r\"(\\d+) (\\w+)\", round)\n",
    "                round_valid.append(\n",
    "                    all(int(count) <= MAX_VALID[color] for count, color in color_counts)\n",
    "                )\n",
    "\n",
    "            if all(round_valid):\n",
    "                valid_games.append(game_id)\n",
    "\n",
    "print(\"Answer:\", sum(valid_games))\n"
   ]
  },
  {
   "cell_type": "markdown",
   "metadata": {},
   "source": [
    "# Part 2\n"
   ]
  },
  {
   "cell_type": "code",
   "execution_count": null,
   "metadata": {},
   "outputs": [],
   "source": [
    "from collections import defaultdict\n",
    "import math\n"
   ]
  },
  {
   "cell_type": "code",
   "execution_count": null,
   "metadata": {},
   "outputs": [],
   "source": [
    "with open(\"day02_input.txt\") as file:\n",
    "    game_powers = []\n",
    "    for line in file:\n",
    "        if match := re.match(r\"Game (\\d+): (.+)\", line):\n",
    "            game_id = int(match.group(1))\n",
    "            rounds = match.group(2).split(\";\")\n",
    "\n",
    "            colors_seen_this_game = defaultdict(list[int])\n",
    "            for round in rounds:\n",
    "                color_counts = re.findall(r\"(\\d+) (\\w+)\", round)\n",
    "                for count, color in color_counts:\n",
    "                    colors_seen_this_game[color].append(int(count))\n",
    "\n",
    "            game_powers.append(\n",
    "                math.prod(max(counts) for counts in colors_seen_this_game.values())\n",
    "            )\n",
    "\n",
    "print(\"Answer:\", sum(game_powers))\n"
   ]
  },
  {
   "cell_type": "code",
   "execution_count": null,
   "metadata": {},
   "outputs": [],
   "source": []
  }
 ],
 "metadata": {
  "kernelspec": {
   "display_name": "AoC",
   "language": "python",
   "name": "python3"
  },
  "language_info": {
   "codemirror_mode": {
    "name": "ipython",
    "version": 3
   },
   "file_extension": ".py",
   "mimetype": "text/x-python",
   "name": "python",
   "nbconvert_exporter": "python",
   "pygments_lexer": "ipython3",
   "version": "3.11.6"
  }
 },
 "nbformat": 4,
 "nbformat_minor": 2
}
