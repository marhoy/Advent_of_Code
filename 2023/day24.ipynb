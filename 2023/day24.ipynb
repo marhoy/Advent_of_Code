{
 "cells": [
  {
   "cell_type": "code",
   "execution_count": null,
   "metadata": {},
   "outputs": [],
   "source": [
    "import numpy as np\n",
    "from pydantic import BaseModel, ConfigDict\n",
    "from typing import Sequence\n",
    "from typing import Annotated, Literal, TypeVar\n",
    "import numpy as np\n",
    "import numpy.typing as npt\n",
    "\n",
    "\n",
    "DType = TypeVar(\"DType\", bound=np.generic)\n",
    "Vector3D = Annotated[npt.NDArray[DType], Literal[3]]\n",
    "\n",
    "\n",
    "class Stone(BaseModel):\n",
    "    model_config = ConfigDict(arbitrary_types_allowed=True)\n",
    "    id: int\n",
    "    pos: Vector3D[np.int64]\n",
    "    speed: Vector3D[np.int64]\n",
    "\n",
    "    def at(self, t: float) -> Vector3D[np.float64]:\n",
    "        return self.pos + self.speed * t"
   ]
  },
  {
   "cell_type": "code",
   "execution_count": null,
   "metadata": {},
   "outputs": [],
   "source": [
    "stones = []\n",
    "with open(\"day24_input.txt\") as file:\n",
    "    for i, line in enumerate(file):\n",
    "        pos, speed = line.strip().split(\" @ \")\n",
    "        pos = np.array([int(num) for num in pos.split(\",\")])\n",
    "        speed = np.array([int(num) for num in speed.split(\",\")])\n",
    "        stones.append(Stone(id=i, pos=pos, speed=speed))"
   ]
  },
  {
   "cell_type": "markdown",
   "metadata": {},
   "source": [
    "# Part 1\n"
   ]
  },
  {
   "cell_type": "code",
   "execution_count": null,
   "metadata": {},
   "outputs": [],
   "source": [
    "def intersects_2d(stone1: Stone, stone2: Stone) -> tuple[float, float] | None:\n",
    "    \"\"\"a + b*t = c + d*s can be rewritten as A * [t, s] = b\"\"\"\n",
    "    A = np.stack([stone1.speed[:2], -stone2.speed[:2]], axis=1)\n",
    "    b = stone2.pos[:2] - stone1.pos[:2]\n",
    "    try:\n",
    "        t, s = np.linalg.solve(A, b)\n",
    "    except np.linalg.LinAlgError:\n",
    "        print(f\"Stone {stone1.id} and {stone2.id} do not intersect.\")\n",
    "        return None\n",
    "\n",
    "    if s < 0 or t < 0:\n",
    "        return None\n",
    "\n",
    "    intersect = stone1.pos + stone1.speed * t\n",
    "    return intersect[:2]"
   ]
  },
  {
   "cell_type": "code",
   "execution_count": null,
   "metadata": {},
   "outputs": [],
   "source": [
    "import itertools\n",
    "\n",
    "low = 200000000000000\n",
    "high = 400000000000000\n",
    "\n",
    "num_inside = 0\n",
    "for stone1, stone2 in itertools.combinations(stones, 2):\n",
    "    intersect = intersects_2d(stone1, stone2)\n",
    "    if intersect is None:\n",
    "        continue\n",
    "    if ((low <= intersect) & (intersect <= high)).all():\n",
    "        num_inside += 1\n",
    "\n",
    "print(\"Answer:\", num_inside)"
   ]
  },
  {
   "cell_type": "markdown",
   "metadata": {},
   "source": [
    "# Part 2\n"
   ]
  },
  {
   "cell_type": "markdown",
   "metadata": {},
   "source": [
    "The rock needs to hit three stones at times 1, 2, and 3:\n",
    "\n",
    "$$\n",
    "x_0 + v_0 t_1 = x_1 + v_1 t_1 \\\\\n",
    "x_0 + v_0 t_2 = x_2 + v_2 t_2 \\\\\n",
    "x_0 + v_0 t_3 = x_3 + v_3 t_3\n",
    "$$\n",
    "\n",
    "This is a system of nine equations and nine unknowns. They can be rewritten as:\n",
    "\n",
    "$$\n",
    "x_0 = x_1 + (v_1 - v_0) t_1 \\\\\n",
    "x_0 = x_2 + (v_2 - v_0) t_2 \\\\\n",
    "x_0 = x_3 + (v_3 - v_0) t_3 \\\\\n",
    "$$\n",
    "\n",
    "which means that if we subtract $v_0$ from each stone-speed, all stones will pass\n",
    "through the same coordinate at some time. By guessing values for $v_0$, we can reuse the\n",
    "code from part 1 to find the times when the stones hit $x_0$.\n",
    "\n",
    "Another approach could be to rewrite the equations as:\n",
    "\n",
    "$$\n",
    "x_0 - x_1 = (v_1 - v_0) t_1 \\\\\n",
    "x_0 - x_2 = (v_2 - v_0) t_2 \\\\\n",
    "x_0 - x_3 = (v_3 - v_0) t_3 \\\\\n",
    "$$\n",
    "\n",
    "which means that for any stone $i$, $x_0 - x_i$ is parallel to $v_i - v_0$. We can then\n",
    "use properties of parallel lines (e.g. cross-product is zero) to find $x_0$ and $v_0$.\n",
    "Since there is now only 6 unknowns, it shold be sufficient to use 2 stones to\n",
    "algebraically find the solution.\n"
   ]
  },
  {
   "cell_type": "code",
   "execution_count": null,
   "metadata": {},
   "outputs": [],
   "source": [
    "def intersects_3d(stone1: Stone, stone2: Stone) -> np.ndarray | None:\n",
    "    \"\"\"a + b*t = c + d*s can be rewritten as A * [t, s] = b\"\"\"\n",
    "    A = np.stack([stone1.speed, -stone2.speed], axis=1)\n",
    "    b = stone2.pos - stone1.pos\n",
    "    # The system is over-determined, with 3 equations and 2 unknowns.\n",
    "    (t, s), _, rank, _ = np.linalg.lstsq(A, b, rcond=None)\n",
    "\n",
    "    if s < 0 or t < 0:\n",
    "        return None\n",
    "\n",
    "    intersect = stone1.pos + stone1.speed * t\n",
    "    return intersect"
   ]
  },
  {
   "cell_type": "markdown",
   "metadata": {},
   "source": [
    "Idea from [here](https://www.reddit.com/r/adventofcode/comments/18pnycy/comment/keqf8uq/?utm_source=share&utm_medium=web2x&context=3) to reduce the search space for possible $v_0$ values.\n",
    "\n",
    "Consider the x-direction first: If two hailstones have the same x-speed `v`, the\n",
    "x-distance `dist` between them will always remain the same. Assume the rock has just hit\n",
    "the first stone at `t1`. It now needs to move `x2 - x1` to hit the second rock at `t2`.\n",
    "But the second rock is moving at a speed of `v`.\n",
    "\n",
    "`(rock_speed - v) * (t2 - t1) = x2 - x1`\n",
    "\n",
    "Assuming the rock hits the stones at integer times, `t1 - t2` is always an integer, the\n",
    "following equation must be true:\n",
    "\n",
    "`(x2 - x1) % (rock_speed - v) = 0`\n"
   ]
  },
  {
   "cell_type": "code",
   "execution_count": null,
   "metadata": {},
   "outputs": [],
   "source": [
    "from collections import Counter\n",
    "\n",
    "\n",
    "def find_valid_speeds(dim: int) -> set[int]:\n",
    "    rock_speed_range = range(-1000, 1000)\n",
    "\n",
    "    # Find a collection of stones with the same speed in the given dimension\n",
    "    counter = Counter([stone.speed[dim] for stone in stones])\n",
    "    common_speed = counter.most_common(1)[0][0]\n",
    "    useful_stones = [stone for stone in stones if stone.speed[dim] == common_speed]\n",
    "\n",
    "    # For all stones with this speed, find the possible rock speeds that are valid for\n",
    "    # all of the stones.\n",
    "    all_possible_speeds = []\n",
    "    for stone1, stone2 in zip(useful_stones, useful_stones[1:]):\n",
    "        possible_speeds = set()\n",
    "        posdiff = stone2.pos[dim] - stone1.pos[dim]\n",
    "        stone_speed = stone1.speed[dim]\n",
    "        for rock_speed in rock_speed_range:\n",
    "            if rock_speed == stone_speed:\n",
    "                continue\n",
    "            if (posdiff % (rock_speed - stone_speed)) == 0:\n",
    "                possible_speeds.add(rock_speed)\n",
    "        all_possible_speeds.append(possible_speeds)\n",
    "\n",
    "    return set.intersection(*all_possible_speeds)"
   ]
  },
  {
   "cell_type": "code",
   "execution_count": null,
   "metadata": {},
   "outputs": [],
   "source": [
    "import random\n",
    "\n",
    "for rock_speed in itertools.product(*(find_valid_speeds(dim) for dim in range(3))):\n",
    "    # Pick 3 random stones\n",
    "    samples = [sample.model_copy(deep=True) for sample in random.sample(stones, 3)]\n",
    "\n",
    "    # Adjust the speed of the stones, so they are relative to the rock\n",
    "    for sample in samples:\n",
    "        sample.speed -= rock_speed\n",
    "\n",
    "    # See if the 3 stones intersect at the same point\n",
    "    intersect1 = intersects_3d(samples[0], samples[1])\n",
    "    intersect2 = intersects_3d(samples[0], samples[2])\n",
    "    if intersect1 is None or intersect2 is None:\n",
    "        continue\n",
    "\n",
    "    # If they do, we have a solution\n",
    "    if np.allclose(intersect1, intersect2):\n",
    "        intersect = intersect1.round().astype(int)\n",
    "        break\n",
    "else:\n",
    "    raise RuntimeError(\"No solution found\")\n",
    "\n",
    "print(intersect, rock_speed)\n",
    "print(\"Answer:\", sum(intersect))"
   ]
  },
  {
   "cell_type": "code",
   "execution_count": null,
   "metadata": {},
   "outputs": [],
   "source": []
  }
 ],
 "metadata": {
  "kernelspec": {
   "display_name": "AoC",
   "language": "python",
   "name": "python3"
  },
  "language_info": {
   "codemirror_mode": {
    "name": "ipython",
    "version": 3
   },
   "file_extension": ".py",
   "mimetype": "text/x-python",
   "name": "python",
   "nbconvert_exporter": "python",
   "pygments_lexer": "ipython3",
   "version": "3.12.1"
  }
 },
 "nbformat": 4,
 "nbformat_minor": 2
}
