{
 "cells": [
  {
   "cell_type": "code",
   "execution_count": null,
   "metadata": {},
   "outputs": [],
   "source": [
    "with open(\"day15_input.txt\") as file:\n",
    "    strings = file.read().strip().split(\",\")"
   ]
  },
  {
   "cell_type": "code",
   "execution_count": null,
   "metadata": {},
   "outputs": [],
   "source": [
    "def hash_algoritm(string):\n",
    "    current = 0\n",
    "    for char in string:\n",
    "        current = (current + ord(char)) * 17 % 256\n",
    "    return current"
   ]
  },
  {
   "cell_type": "markdown",
   "metadata": {},
   "source": [
    "# Part 1\n"
   ]
  },
  {
   "cell_type": "code",
   "execution_count": null,
   "metadata": {},
   "outputs": [],
   "source": [
    "print(\"Answer:\", sum(hash_algoritm(string) for string in strings))"
   ]
  },
  {
   "cell_type": "markdown",
   "metadata": {},
   "source": [
    "# Part 2\n"
   ]
  },
  {
   "cell_type": "code",
   "execution_count": null,
   "metadata": {},
   "outputs": [],
   "source": [
    "import re\n",
    "from collections import defaultdict\n",
    "\n",
    "from pydantic import BaseModel"
   ]
  },
  {
   "cell_type": "code",
   "execution_count": null,
   "metadata": {},
   "outputs": [],
   "source": [
    "class Lens(BaseModel):\n",
    "    label: str\n",
    "    focal_length: int\n",
    "\n",
    "    def __repr__(self):\n",
    "        return f\"{self.label} {self.focal_length}\""
   ]
  },
  {
   "cell_type": "code",
   "execution_count": null,
   "metadata": {},
   "outputs": [],
   "source": [
    "def remove_lens(box: list[Lens], label: str):\n",
    "    for lens in box:\n",
    "        if lens.label == label:\n",
    "            box.remove(lens)\n",
    "\n",
    "\n",
    "def add_lens(box: list[Lens], new_lens: Lens):\n",
    "    for pos, lens in enumerate(box):\n",
    "        if new_lens.label == lens.label:\n",
    "            box[pos] = new_lens\n",
    "            return\n",
    "    box.append(new_lens)"
   ]
  },
  {
   "cell_type": "code",
   "execution_count": null,
   "metadata": {},
   "outputs": [],
   "source": [
    "def print_boxes(boxes):\n",
    "    for box_no, box_content in boxes.items():\n",
    "        if box_content:\n",
    "            print(f\"Box {box_no}: {box_content}\")"
   ]
  },
  {
   "cell_type": "code",
   "execution_count": null,
   "metadata": {},
   "outputs": [],
   "source": [
    "boxes = defaultdict(list[Lens])\n",
    "\n",
    "for string in strings:\n",
    "    if match := re.match(r\"(\\w+)[-=](\\d*)\", string):\n",
    "        label, focal_length = match.groups()\n",
    "        box_number = hash_algoritm(label)\n",
    "        if not focal_length:\n",
    "            remove_lens(boxes[box_number], label)\n",
    "        else:\n",
    "            lens = Lens(label=label, focal_length=int(focal_length))\n",
    "            add_lens(boxes[box_number], lens)\n",
    "\n",
    "#    print(\"After\", string)\n",
    "#    print_boxes(boxes)\n",
    "#    print()"
   ]
  },
  {
   "cell_type": "code",
   "execution_count": null,
   "metadata": {},
   "outputs": [],
   "source": [
    "focusing_power = 0\n",
    "for box_number, lenses in boxes.items():\n",
    "    for slot, lens in enumerate(lenses, start=1):\n",
    "        focusing_power += (box_number + 1) * slot * lens.focal_length\n",
    "\n",
    "print(\"Answer:\", focusing_power)"
   ]
  },
  {
   "cell_type": "code",
   "execution_count": null,
   "metadata": {},
   "outputs": [],
   "source": []
  }
 ],
 "metadata": {
  "kernelspec": {
   "display_name": "AoC",
   "language": "python",
   "name": "python3"
  },
  "language_info": {
   "codemirror_mode": {
    "name": "ipython",
    "version": 3
   },
   "file_extension": ".py",
   "mimetype": "text/x-python",
   "name": "python",
   "nbconvert_exporter": "python",
   "pygments_lexer": "ipython3",
   "version": "3.11.6"
  }
 },
 "nbformat": 4,
 "nbformat_minor": 2
}
