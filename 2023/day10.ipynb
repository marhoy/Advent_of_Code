{
 "cells": [
  {
   "cell_type": "code",
   "execution_count": null,
   "metadata": {},
   "outputs": [],
   "source": [
    "GRID = []\n",
    "with open(\"day10_input.txt\") as file:\n",
    "    for row, line in enumerate(file):\n",
    "        GRID.append(line.strip())\n",
    "        if (col := line.find(\"S\")) != -1:\n",
    "            START = (row, col)"
   ]
  },
  {
   "cell_type": "code",
   "execution_count": null,
   "metadata": {},
   "outputs": [],
   "source": [
    "def find_neighbours(pos):\n",
    "    row, col = pos\n",
    "    if not (0 <= row < len(GRID) and 0 <= col < len(GRID[0])):\n",
    "        return []\n",
    "\n",
    "    match GRID[row][col]:\n",
    "        case \"|\":\n",
    "            return [(row - 1, col), (row + 1, col)]\n",
    "        case \"-\":\n",
    "            return [(row, col - 1), (row, col + 1)]\n",
    "        case \"L\":\n",
    "            return [(row - 1, col), (row, col + 1)]\n",
    "        case \"J\":\n",
    "            return [(row - 1, col), (row, col - 1)]\n",
    "        case \"7\":\n",
    "            return [(row + 1, col), (row, col - 1)]\n",
    "        case \"F\":\n",
    "            return [(row + 1, col), (row, col + 1)]\n",
    "        case \"S\":\n",
    "            candidates = []\n",
    "            neighbours = [\n",
    "                (row + dx, col + dy) for dx, dy in zip((0, 0, 1, -1), (1, -1, 0, 0))\n",
    "            ]\n",
    "            for neighbour in neighbours:\n",
    "                if pos in find_neighbours(neighbour):\n",
    "                    candidates.append(neighbour)\n",
    "            return candidates\n",
    "        case _:\n",
    "            return []"
   ]
  },
  {
   "cell_type": "markdown",
   "metadata": {},
   "source": [
    "# Part 1\n"
   ]
  },
  {
   "cell_type": "code",
   "execution_count": null,
   "metadata": {},
   "outputs": [],
   "source": [
    "def find_distances(start):\n",
    "    \"\"\"Use BFS to find the distance to all nodes from start.\"\"\"\n",
    "    visited = {start: 0}\n",
    "    queue = [start]\n",
    "    while queue:\n",
    "        node = queue.pop(0)\n",
    "        for neighbour in find_neighbours(node):\n",
    "            if neighbour not in visited:\n",
    "                visited[neighbour] = visited[node] + 1\n",
    "                queue.append(neighbour)\n",
    "\n",
    "    return visited\n",
    "\n",
    "\n",
    "print(\"Answer:\", max(find_distances(START).values()))"
   ]
  },
  {
   "cell_type": "markdown",
   "metadata": {},
   "source": [
    "# Part 2\n"
   ]
  },
  {
   "cell_type": "markdown",
   "metadata": {},
   "source": [
    "Use Dan Sundays winding number algoritm:\n",
    "https://en.wikipedia.org/wiki/Point_in_polygon#Winding_number_algorithm\n",
    "\n",
    "1. We need to follow along the loop in one direction until we're back at the start.\n",
    "2. For each point, we need to know whether we're moving \"up\" or \"down\" relative to the previous point.\n"
   ]
  },
  {
   "cell_type": "code",
   "execution_count": null,
   "metadata": {},
   "outputs": [],
   "source": [
    "def create_polygon(pos):\n",
    "    \"\"\"Use DFS to follow the polygon and create a list of nodes.\"\"\"\n",
    "    # Nudge the search in one direction around the loop\n",
    "    first_neighbour = find_neighbours(pos)[0]\n",
    "    # Use a dict for O(1) lookup\n",
    "    visited = {pos: None, first_neighbour: None}\n",
    "    queue = [pos, first_neighbour]\n",
    "    while queue:\n",
    "        node = queue.pop()\n",
    "        for neighbour in find_neighbours(node):\n",
    "            if neighbour not in visited:\n",
    "                visited[neighbour] = None\n",
    "                queue.append(neighbour)\n",
    "\n",
    "    polygon = list(visited.keys())\n",
    "    polygon.append(pos)  # Close the polygon\n",
    "    return polygon\n",
    "\n",
    "\n",
    "polygon = create_polygon(START)"
   ]
  },
  {
   "cell_type": "code",
   "execution_count": null,
   "metadata": {},
   "outputs": [],
   "source": [
    "def edge_function(point, edge: tuple[tuple[int, int], tuple[int, int]]):\n",
    "    \"\"\"Juan Pineda's edge function.\n",
    "\n",
    "    Returns negative if point is on the left side of edge, positive if on the right\n",
    "    side, and 0 if on the edge.\"\"\"\n",
    "    y, x = point\n",
    "    (y0, x0), (y1, x1) = edge\n",
    "    return (x - x0) * (y1 - y0) - (y - y0) * (x1 - x0)"
   ]
  },
  {
   "cell_type": "code",
   "execution_count": null,
   "metadata": {},
   "outputs": [],
   "source": [
    "def point_inside_polygon(point, polygon) -> bool:\n",
    "    \"\"\"Dan Sundays' winding number algorithm.\"\"\"\n",
    "    winding_number = 0\n",
    "    for edge in zip(polygon, polygon[1:]):\n",
    "        # if edge crosses ray upwards and point is strictly left of edge\n",
    "        if (edge[0][1] <= point[1] < edge[1][1]) and edge_function(point, edge) < 0:\n",
    "            winding_number += 1\n",
    "\n",
    "        # if edge crosses ray downwards and point is strictly right of edge\n",
    "        elif (edge[0][1] > point[1] >= edge[1][1]) and edge_function(point, edge) > 0:\n",
    "            winding_number -= 1\n",
    "\n",
    "    # If winding number is 0, then point is outside the polygon\n",
    "    return winding_number != 0"
   ]
  },
  {
   "cell_type": "code",
   "execution_count": null,
   "metadata": {},
   "outputs": [],
   "source": [
    "num_inside = 0\n",
    "for row in range(len(GRID)):\n",
    "    for col in range(len(GRID[0])):\n",
    "        if (row, col) in polygon:\n",
    "            continue\n",
    "        if point_inside_polygon((row, col), polygon):\n",
    "            num_inside += 1\n",
    "\n",
    "print(\"Answer:\", num_inside)"
   ]
  },
  {
   "cell_type": "markdown",
   "metadata": {},
   "source": [
    "# Part 2: Alternative solution\n"
   ]
  },
  {
   "cell_type": "markdown",
   "metadata": {},
   "source": [
    "1. Use the sholelace formula to calculate the area of the polygon. https://en.wikipedia.org/wiki/Shoelace_formula\n",
    "2. Use Picks theorem to calculate the number of points inside the polygon. https://en.wikipedia.org/wiki/Pick%27s_theorem\n"
   ]
  },
  {
   "cell_type": "code",
   "execution_count": null,
   "metadata": {},
   "outputs": [],
   "source": [
    "total = 0\n",
    "for p1, p2 in zip(polygon, polygon[1:] + [polygon[0]]):\n",
    "    total += p1[0] * p2[1] - p1[1] * p2[0]\n",
    "\n",
    "# If the polygon order is clockwise, the total will be negative\n",
    "area = abs(total) / 2\n",
    "area"
   ]
  },
  {
   "cell_type": "code",
   "execution_count": null,
   "metadata": {},
   "outputs": [],
   "source": [
    "# Pick's theorem:\n",
    "# Area = num_points_inside + len(polygon)/2 - 1\n",
    "\n",
    "print(\"Answer:\", area - (len(polygon) - 1) / 2 + 1)"
   ]
  },
  {
   "cell_type": "code",
   "execution_count": null,
   "metadata": {},
   "outputs": [],
   "source": []
  }
 ],
 "metadata": {
  "kernelspec": {
   "display_name": "AoC",
   "language": "python",
   "name": "python3"
  },
  "language_info": {
   "codemirror_mode": {
    "name": "ipython",
    "version": 3
   },
   "file_extension": ".py",
   "mimetype": "text/x-python",
   "name": "python",
   "nbconvert_exporter": "python",
   "pygments_lexer": "ipython3",
   "version": "3.11.6"
  }
 },
 "nbformat": 4,
 "nbformat_minor": 2
}
