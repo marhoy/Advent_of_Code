{
 "cells": [
  {
   "cell_type": "code",
   "execution_count": null,
   "metadata": {},
   "outputs": [],
   "source": [
    "import re\n"
   ]
  },
  {
   "cell_type": "markdown",
   "metadata": {},
   "source": [
    "# Part 1\n"
   ]
  },
  {
   "cell_type": "code",
   "execution_count": null,
   "metadata": {},
   "outputs": [],
   "source": [
    "with open(\"day04_input.txt\") as file:\n",
    "    score = 0\n",
    "    for line in file:\n",
    "        if match := re.match(r\"Card\\s+(\\d+): (.+) \\| (.+)$\", line):\n",
    "            winning = set(re.split(r\"\\s+\", match.group(2).strip()))\n",
    "            numbers = set(re.split(r\"\\s+\", match.group(3).strip()))\n",
    "            num_matches = len(winning.intersection(numbers))\n",
    "            if num_matches > 0:\n",
    "                points = 2 ** (len(winning.intersection(numbers)) - 1)\n",
    "                score += points\n",
    "\n",
    "print(\"Answer:\", int(score))\n"
   ]
  },
  {
   "cell_type": "markdown",
   "metadata": {},
   "source": [
    "# Part 2\n"
   ]
  },
  {
   "cell_type": "code",
   "execution_count": null,
   "metadata": {},
   "outputs": [],
   "source": [
    "from typing import Sequence\n"
   ]
  },
  {
   "cell_type": "code",
   "execution_count": null,
   "metadata": {},
   "outputs": [],
   "source": [
    "# For each card, find the number of matching numbers\n",
    "\n",
    "with open(\"day04_input.txt\") as file:\n",
    "    MATCHES_PER_CARD = dict()\n",
    "    for line in file:\n",
    "        if match := re.match(r\"Card\\s+(\\d+): (.+) \\| (.+)$\", line):\n",
    "            card_id = int(match.group(1))\n",
    "            winning = set(re.split(r\"\\s+\", match.group(2).strip()))\n",
    "            numbers = set(re.split(r\"\\s+\", match.group(3).strip()))\n",
    "            num_matches = len(winning.intersection(numbers))\n",
    "            MATCHES_PER_CARD[card_id] = num_matches\n"
   ]
  },
  {
   "cell_type": "code",
   "execution_count": null,
   "metadata": {},
   "outputs": [],
   "source": [
    "def add_instance(card_ids: Sequence[int], instances: dict[int, int]) -> None:\n",
    "    \"\"\"Recursively add instances of cards to the instances dict.\"\"\"\n",
    "    for card_id in card_ids:\n",
    "        instances[card_id] += 1\n",
    "        if matches := MATCHES_PER_CARD[card_id]:\n",
    "            add_instance(range(card_id + 1, card_id + 1 + matches), instances)\n"
   ]
  },
  {
   "cell_type": "code",
   "execution_count": null,
   "metadata": {},
   "outputs": [],
   "source": [
    "#  We start with one copy of each card\n",
    "instances = {card_id + 1: 1 for card_id in range(len(MATCHES_PER_CARD))}\n"
   ]
  },
  {
   "cell_type": "code",
   "execution_count": null,
   "metadata": {},
   "outputs": [],
   "source": [
    "# Loop over each card, and recursively add instances of cards\n",
    "for card, matches in MATCHES_PER_CARD.items():\n",
    "    if matches:\n",
    "        add_instance(range(card + 1, card + 1 + matches), instances)\n"
   ]
  },
  {
   "cell_type": "code",
   "execution_count": null,
   "metadata": {},
   "outputs": [],
   "source": [
    "print(\"Answer:\", sum(instances.values()))\n"
   ]
  },
  {
   "cell_type": "code",
   "execution_count": null,
   "metadata": {},
   "outputs": [],
   "source": []
  }
 ],
 "metadata": {
  "kernelspec": {
   "display_name": "AoC",
   "language": "python",
   "name": "python3"
  },
  "language_info": {
   "codemirror_mode": {
    "name": "ipython",
    "version": 3
   },
   "file_extension": ".py",
   "mimetype": "text/x-python",
   "name": "python",
   "nbconvert_exporter": "python",
   "pygments_lexer": "ipython3",
   "version": "3.11.6"
  }
 },
 "nbformat": 4,
 "nbformat_minor": 2
}
