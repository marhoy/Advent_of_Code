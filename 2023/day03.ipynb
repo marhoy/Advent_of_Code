{
 "cells": [
  {
   "cell_type": "code",
   "execution_count": null,
   "metadata": {},
   "outputs": [],
   "source": [
    "import math\n",
    "import re\n",
    "from collections import defaultdict\n"
   ]
  },
  {
   "cell_type": "code",
   "execution_count": null,
   "metadata": {},
   "outputs": [],
   "source": [
    "with open(\"day03_input.txt\") as file:\n",
    "    DATA = file.read().splitlines()\n",
    "\n",
    "MAX_ROWS = len(DATA)\n",
    "MAX_COLS = len(DATA[0])\n"
   ]
  },
  {
   "cell_type": "code",
   "execution_count": null,
   "metadata": {},
   "outputs": [],
   "source": [
    "def is_symbol(row: int, col: int, valid_symbols: str = r\"[^\\d\\.]\") -> bool:\n",
    "    \"\"\"Is there a symbol at the given position?\"\"\"\n",
    "    if row < 0 or row >= MAX_ROWS or col < 0 or col >= MAX_COLS:\n",
    "        return False\n",
    "    if re.match(valid_symbols, DATA[row][col]):\n",
    "        return True\n",
    "    return False\n"
   ]
  },
  {
   "cell_type": "code",
   "execution_count": null,
   "metadata": {},
   "outputs": [],
   "source": [
    "def find_border(row: int, span: tuple[int, int]) -> list[tuple[int, int]]:\n",
    "    \"\"\"Find the border surrounding a given span on a row.\n",
    "\n",
    "    Note: The border positions might be outside the grid.\"\"\"\n",
    "    positions = []\n",
    "    # Left and right\n",
    "    positions.append((row, span[0] - 1))\n",
    "    positions.append((row, span[1]))\n",
    "    # Top and bottom\n",
    "    for col in range(span[0] - 1, span[1] + 1):\n",
    "        positions.append((row - 1, col))\n",
    "        positions.append((row + 1, col))\n",
    "    return positions\n"
   ]
  },
  {
   "cell_type": "markdown",
   "metadata": {},
   "source": [
    "# Part 1\n"
   ]
  },
  {
   "cell_type": "code",
   "execution_count": null,
   "metadata": {},
   "outputs": [],
   "source": [
    "valid_numbers = []\n",
    "for row, line in enumerate(DATA):\n",
    "    for match in re.finditer(r\"\\d+\", line):\n",
    "        border = find_border(row, match.span())\n",
    "        if any(is_symbol(*pos) for pos in border):\n",
    "            valid_numbers.append(int(match.group()))\n",
    "\n",
    "print(\"Answer:\", sum(valid_numbers))\n"
   ]
  },
  {
   "cell_type": "markdown",
   "metadata": {},
   "source": [
    "# Part 2\n"
   ]
  },
  {
   "cell_type": "code",
   "execution_count": null,
   "metadata": {},
   "outputs": [],
   "source": [
    "# Find all numbers adjacent to a gear symbol\n",
    "gear_numbers = defaultdict(list)\n",
    "for row, line in enumerate(DATA):\n",
    "    for match in re.finditer(r\"\\d+\", line):\n",
    "        border = find_border(row, match.span())\n",
    "        for pos in border:\n",
    "            if is_symbol(*pos, valid_symbols=r\"\\*\"):\n",
    "                # Store the position of the gear symbol and the number\n",
    "                gear_numbers[pos].append(int(match.group()))\n",
    "\n",
    "answer = 0\n",
    "for pos, numbers in gear_numbers.items():\n",
    "    # Is there exactly two numbers adjacent to this gear symbol?\n",
    "    if len(numbers) == 2:\n",
    "        answer += math.prod(numbers)\n",
    "\n",
    "print(\"Answer:\", answer)\n"
   ]
  },
  {
   "cell_type": "code",
   "execution_count": null,
   "metadata": {},
   "outputs": [],
   "source": []
  }
 ],
 "metadata": {
  "kernelspec": {
   "display_name": "AoC",
   "language": "python",
   "name": "python3"
  },
  "language_info": {
   "codemirror_mode": {
    "name": "ipython",
    "version": 3
   },
   "file_extension": ".py",
   "mimetype": "text/x-python",
   "name": "python",
   "nbconvert_exporter": "python",
   "pygments_lexer": "ipython3",
   "version": "3.11.6"
  }
 },
 "nbformat": 4,
 "nbformat_minor": 2
}
