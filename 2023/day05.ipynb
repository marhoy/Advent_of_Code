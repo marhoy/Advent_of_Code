{
 "cells": [
  {
   "cell_type": "code",
   "execution_count": null,
   "metadata": {},
   "outputs": [],
   "source": [
    "import re\n"
   ]
  },
  {
   "cell_type": "code",
   "execution_count": null,
   "metadata": {},
   "outputs": [],
   "source": [
    "class Map:\n",
    "    \"\"\"Mapping from one type to another\"\"\"\n",
    "    def __init__(self, mappings: dict, output: str):\n",
    "        self.mappings = mappings\n",
    "        self.output = output\n",
    "\n",
    "    def convert(self, value):\n",
    "        for source_range, diff in self.mappings.items():\n",
    "            if value in source_range:\n",
    "                return value + diff, self.output\n",
    "        return value, self.output\n",
    "    \n",
    "    @classmethod\n",
    "    def from_rules(cls, rules: list[str], output: str):\n",
    "        mappings = dict()\n",
    "        for rule in rules:\n",
    "            d, s, r = map(int, rule.split(\" \"))\n",
    "            mappings[range(s, s + r)] = d - s\n",
    "        return cls(mappings, output)\n"
   ]
  },
  {
   "cell_type": "code",
   "execution_count": null,
   "metadata": {},
   "outputs": [],
   "source": [
    "from collections import defaultdict\n",
    "\n",
    "data = defaultdict(list)\n",
    "with open(\"day05_example.txt\") as file:\n",
    "    for line in file:\n",
    "        if match := re.match(\"seeds: (.+)\", line):\n",
    "            seeds = [int(s) for s in match.group(1).split(\" \")]\n",
    "        elif match := re.match(\"(\\w+)-to-(\\w+)\", line):\n",
    "            source, dest = match.groups()\n",
    "        elif match := re.match(\"(\\d+) (\\d+) (\\d+)\", line):\n",
    "            data[(source, dest)].append(line.strip())\n"
   ]
  },
  {
   "cell_type": "code",
   "execution_count": null,
   "metadata": {},
   "outputs": [],
   "source": [
    "maps = dict()\n",
    "for (source, dest), rules in data.items():\n",
    "    maps[source] = Map.from_rules(rules, dest)\n"
   ]
  },
  {
   "cell_type": "markdown",
   "metadata": {},
   "source": [
    "# Part 1\n"
   ]
  },
  {
   "cell_type": "code",
   "execution_count": null,
   "metadata": {},
   "outputs": [],
   "source": [
    "locations = list()\n",
    "\n",
    "for value in seeds:\n",
    "    output = \"seed\"\n",
    "    while True:\n",
    "        value, output = maps[output].convert(value)\n",
    "        # print(output, value)\n",
    "        if not output in maps:\n",
    "            locations.append(value)\n",
    "            break\n",
    "\n",
    "print(\"Answer:\", min(locations))\n"
   ]
  },
  {
   "cell_type": "markdown",
   "metadata": {},
   "source": [
    "# Part 2\n"
   ]
  },
  {
   "cell_type": "code",
   "execution_count": null,
   "metadata": {},
   "outputs": [],
   "source": [
    "locations = []\n",
    "\n",
    "for start, length in zip(seeds[::2], seeds[1::2]):\n",
    "    print(\"Range:\", start, length)\n",
    "    for value in range(start, start + length):\n",
    "        output = \"seed\"\n",
    "        while True:\n",
    "            value, output = maps[output].convert(value)\n",
    "            # print(output, value)\n",
    "            if not output in maps:\n",
    "                locations.append(value)\n",
    "                break\n",
    "\n",
    "print(\"Answer:\", min(locations))\n",
    "\n"
   ]
  },
  {
   "cell_type": "code",
   "execution_count": null,
   "metadata": {},
   "outputs": [],
   "source": []
  },
  {
   "cell_type": "code",
   "execution_count": null,
   "metadata": {},
   "outputs": [],
   "source": []
  }
 ],
 "metadata": {
  "kernelspec": {
   "display_name": "AoC",
   "language": "python",
   "name": "python3"
  },
  "language_info": {
   "codemirror_mode": {
    "name": "ipython",
    "version": 3
   },
   "file_extension": ".py",
   "mimetype": "text/x-python",
   "name": "python",
   "nbconvert_exporter": "python",
   "pygments_lexer": "ipython3",
   "version": "3.11.6"
  }
 },
 "nbformat": 4,
 "nbformat_minor": 2
}
