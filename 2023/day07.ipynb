{
 "cells": [
  {
   "cell_type": "code",
   "execution_count": null,
   "metadata": {},
   "outputs": [],
   "source": [
    "from collections import Counter\n",
    "from enum import Enum"
   ]
  },
  {
   "cell_type": "code",
   "execution_count": null,
   "metadata": {},
   "outputs": [],
   "source": [
    "class HandType(Enum):\n",
    "    FIVE_OF_A_KIND = 7\n",
    "    FOUR_OF_A_KIND = 6\n",
    "    FULL_HOUSE = 5\n",
    "    THREE_OF_A_KIND = 4\n",
    "    TWO_PAIR = 3\n",
    "    PAIR = 2\n",
    "    HIGH_CARD = 1\n",
    "\n",
    "    def __lt__(self, other):\n",
    "        if self.__class__ is other.__class__:\n",
    "            return self.value < other.value\n",
    "        return NotImplemented"
   ]
  },
  {
   "cell_type": "code",
   "execution_count": null,
   "metadata": {},
   "outputs": [],
   "source": [
    "class Hand:\n",
    "    def __init__(self, cards: str, bid: int, jokers: bool = False) -> None:\n",
    "        self.cards = cards\n",
    "        self.bid = bid\n",
    "        self.jokers = jokers\n",
    "\n",
    "    @property\n",
    "    def hand_type(self) -> HandType:\n",
    "        counts = Counter(self.cards)\n",
    "        if self.jokers:\n",
    "            # Add number of jokers to the most common card\n",
    "            most_common = counts.most_common(1)[0][0]\n",
    "            if most_common == \"J\":\n",
    "                if len(counts) == 1:\n",
    "                    # Special case: 5 jokers\n",
    "                    return HandType.FIVE_OF_A_KIND\n",
    "                most_common = counts.most_common(2)[1][0]\n",
    "            counts[most_common] += counts[\"J\"]\n",
    "            del counts[\"J\"]\n",
    "        if len(counts) == 1:\n",
    "            return HandType.FIVE_OF_A_KIND\n",
    "        if len(counts) == 2:\n",
    "            if 4 in counts.values():\n",
    "                return HandType.FOUR_OF_A_KIND\n",
    "            return HandType.FULL_HOUSE\n",
    "        if len(counts) == 3:\n",
    "            if 3 in counts.values():\n",
    "                return HandType.THREE_OF_A_KIND\n",
    "            return HandType.TWO_PAIR\n",
    "        if len(counts) == 4:\n",
    "            return HandType.PAIR\n",
    "        return HandType.HIGH_CARD\n",
    "\n",
    "    def __lt__(self, other: \"Hand\") -> bool:\n",
    "        if self.hand_type == other.hand_type:\n",
    "            for card1, card2 in zip(self.cards, other.cards):\n",
    "                if self.card_value(card1) != other.card_value(card2):\n",
    "                    return self.card_value(card1) < other.card_value(card2)\n",
    "        return self.hand_type < other.hand_type\n",
    "\n",
    "    def card_value(self, card: str) -> int:\n",
    "        match card:\n",
    "            case \"A\":\n",
    "                return 14\n",
    "            case \"K\":\n",
    "                return 13\n",
    "            case \"Q\":\n",
    "                return 12\n",
    "            case \"J\":\n",
    "                if not self.jokers:\n",
    "                    return 11\n",
    "                return 1\n",
    "            case \"T\":\n",
    "                return 10\n",
    "            case _:\n",
    "                return int(card)\n",
    "\n",
    "    @classmethod\n",
    "    def from_string(cls, string: str, jokers: bool = False) -> \"Hand\":\n",
    "        cards, bid = string.split()\n",
    "        return cls(cards=cards, bid=int(bid), jokers=jokers)\n",
    "\n",
    "    def __repr__(self) -> str:\n",
    "        return f\"Hand(cards={self.cards}, bid={self.bid}, jokers={self.jokers})\""
   ]
  },
  {
   "cell_type": "markdown",
   "metadata": {},
   "source": [
    "# Part 1\n"
   ]
  },
  {
   "cell_type": "code",
   "execution_count": null,
   "metadata": {},
   "outputs": [],
   "source": [
    "hands = []\n",
    "with open(\"day07_input.txt\") as file:\n",
    "    for line in file:\n",
    "        hands.append(Hand.from_string(line.strip()))\n",
    "\n",
    "print(\n",
    "    \"Answer:\", sum(rank * card.bid for rank, card in enumerate(sorted(hands), start=1))\n",
    ")"
   ]
  },
  {
   "cell_type": "markdown",
   "metadata": {},
   "source": [
    "# Part 2\n"
   ]
  },
  {
   "cell_type": "code",
   "execution_count": null,
   "metadata": {},
   "outputs": [],
   "source": [
    "hands = []\n",
    "with open(\"day07_input.txt\") as file:\n",
    "    for line in file:\n",
    "        hands.append(Hand.from_string(line.strip(), jokers=True))\n",
    "\n",
    "print(\n",
    "    \"Answer:\", sum(rank * card.bid for rank, card in enumerate(sorted(hands), start=1))\n",
    ")"
   ]
  },
  {
   "cell_type": "code",
   "execution_count": null,
   "metadata": {},
   "outputs": [],
   "source": []
  }
 ],
 "metadata": {
  "kernelspec": {
   "display_name": "AoC",
   "language": "python",
   "name": "python3"
  },
  "language_info": {
   "codemirror_mode": {
    "name": "ipython",
    "version": 3
   },
   "file_extension": ".py",
   "mimetype": "text/x-python",
   "name": "python",
   "nbconvert_exporter": "python",
   "pygments_lexer": "ipython3",
   "version": "3.11.6"
  }
 },
 "nbformat": 4,
 "nbformat_minor": 2
}
