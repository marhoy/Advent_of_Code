{
 "cells": [
  {
   "cell_type": "code",
   "execution_count": null,
   "metadata": {},
   "outputs": [],
   "source": [
    "import re"
   ]
  },
  {
   "cell_type": "code",
   "execution_count": null,
   "metadata": {},
   "outputs": [],
   "source": [
    "workflows = dict()\n",
    "parts = []\n",
    "\n",
    "with open(\"day19_input.txt\") as file:\n",
    "    for line in file:\n",
    "        if match := re.match(r\"(\\w+)\\{(.+)\\}\", line):\n",
    "            name = match.group(1)\n",
    "            rules = match.group(2).split(\",\")\n",
    "            workflows[name] = rules\n",
    "        elif match := re.match(r\"\\{(.+)\\}\", line):\n",
    "            parts.append(match.group(1))"
   ]
  },
  {
   "cell_type": "code",
   "execution_count": null,
   "metadata": {},
   "outputs": [],
   "source": [
    "def eval_rules(rules, part):\n",
    "    for category in part.split(\",\"):\n",
    "        exec(category)\n",
    "    for rule in rules:\n",
    "        *condition, result = rule.split(\":\")\n",
    "        if (not condition) or eval(condition[0]):\n",
    "            break\n",
    "    return result"
   ]
  },
  {
   "cell_type": "markdown",
   "metadata": {},
   "source": [
    "# Part 1\n"
   ]
  },
  {
   "cell_type": "code",
   "execution_count": null,
   "metadata": {},
   "outputs": [],
   "source": [
    "total = 0\n",
    "for part in parts:\n",
    "    name = \"in\"\n",
    "    while True:\n",
    "        name = eval_rules(workflows[name], part)\n",
    "        if name == \"R\":\n",
    "            break\n",
    "        elif name == \"A\":\n",
    "            for number in re.findall(r\"\\d+\", part):\n",
    "                total += int(number)\n",
    "            break\n",
    "\n",
    "print(\"Answer:\", total)"
   ]
  },
  {
   "cell_type": "markdown",
   "metadata": {},
   "source": [
    "# Part 2\n"
   ]
  },
  {
   "cell_type": "code",
   "execution_count": null,
   "metadata": {},
   "outputs": [],
   "source": []
  }
 ],
 "metadata": {
  "kernelspec": {
   "display_name": "AoC",
   "language": "python",
   "name": "python3"
  },
  "language_info": {
   "codemirror_mode": {
    "name": "ipython",
    "version": 3
   },
   "file_extension": ".py",
   "mimetype": "text/x-python",
   "name": "python",
   "nbconvert_exporter": "python",
   "pygments_lexer": "ipython3",
   "version": "3.11.6"
  }
 },
 "nbformat": 4,
 "nbformat_minor": 2
}
