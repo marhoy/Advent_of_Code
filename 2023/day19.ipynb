{
 "cells": [
  {
   "cell_type": "code",
   "execution_count": null,
   "metadata": {},
   "outputs": [],
   "source": [
    "import re"
   ]
  },
  {
   "cell_type": "code",
   "execution_count": null,
   "metadata": {},
   "outputs": [],
   "source": [
    "workflows = dict()\n",
    "parts = []\n",
    "\n",
    "with open(\"day19_input.txt\") as file:\n",
    "    for line in file:\n",
    "        if match := re.match(r\"(\\w+)\\{(.+)\\}\", line):\n",
    "            name = match.group(1)\n",
    "            rules = match.group(2).split(\",\")\n",
    "            workflows[name] = rules\n",
    "        elif match := re.match(r\"\\{(.+)\\}\", line):\n",
    "            parts.append(match.group(1))"
   ]
  },
  {
   "cell_type": "code",
   "execution_count": null,
   "metadata": {},
   "outputs": [],
   "source": [
    "def eval_rules(rules, part):\n",
    "    for category in part.split(\",\"):\n",
    "        exec(category)\n",
    "    for rule in rules:\n",
    "        *condition, result = rule.split(\":\")\n",
    "        if condition and eval(condition[0]):\n",
    "            break\n",
    "    return result"
   ]
  },
  {
   "cell_type": "markdown",
   "metadata": {},
   "source": [
    "# Part 1\n"
   ]
  },
  {
   "cell_type": "code",
   "execution_count": null,
   "metadata": {},
   "outputs": [],
   "source": [
    "total = 0\n",
    "for part in parts:\n",
    "    name = \"in\"\n",
    "    while True:\n",
    "        name = eval_rules(workflows[name], part)\n",
    "        if name == \"R\":\n",
    "            break\n",
    "        elif name == \"A\":\n",
    "            for number in re.findall(r\"\\d+\", part):\n",
    "                total += int(number)\n",
    "            break\n",
    "\n",
    "print(\"Answer:\", total)"
   ]
  },
  {
   "cell_type": "markdown",
   "metadata": {},
   "source": [
    "# Part 2\n"
   ]
  },
  {
   "cell_type": "code",
   "execution_count": null,
   "metadata": {},
   "outputs": [],
   "source": [
    "import math\n",
    "\n",
    "import portion as P\n",
    "\n",
    "MIN, MAX = 1, 4000"
   ]
  },
  {
   "cell_type": "code",
   "execution_count": null,
   "metadata": {},
   "outputs": [],
   "source": [
    "def string_to_interval(s: str) -> P.Interval:\n",
    "    \"\"\"Create an interval from a string.\"\"\"\n",
    "    if s.startswith(\"<\"):\n",
    "        return P.closedopen(MIN, int(s[1:]))\n",
    "    return P.openclosed(int(s[1:]), MAX)"
   ]
  },
  {
   "cell_type": "code",
   "execution_count": null,
   "metadata": {},
   "outputs": [],
   "source": [
    "def interval_length(interval: P.Interval) -> int:\n",
    "    \"\"\"Calculate the length of an interval.\"\"\"\n",
    "    return sum(1 for _ in P.iterate(interval, step=1))"
   ]
  },
  {
   "cell_type": "code",
   "execution_count": null,
   "metadata": {},
   "outputs": [],
   "source": [
    "def possible_intervals(\n",
    "    name: str, intervals: dict[str, P.Interval], solutions: list[dict[str, P.Interval]]\n",
    ") -> list[dict[str, P.Interval]]:\n",
    "    if name == \"A\":\n",
    "        # We have reached a possible solution\n",
    "        solutions.append(intervals)\n",
    "    elif name == \"R\":\n",
    "        pass\n",
    "    else:\n",
    "        for rule in workflows[name]:\n",
    "            *condition, result = rule.split(\":\")\n",
    "            if condition:\n",
    "                # Which category and range is the condition about?\n",
    "                category = condition[0][0]\n",
    "                category_range = string_to_interval(condition[0][1:])\n",
    "\n",
    "                # If the condition is satisfied: Branch off to another workflow\n",
    "                int_copy = intervals.copy()\n",
    "                int_copy[category] = int_copy[category].intersection(category_range)\n",
    "                possible_intervals(result, int_copy, solutions)\n",
    "\n",
    "                # If the condition is NOT satisfied: Check the next rule\n",
    "                intervals[category] = intervals[category].difference(category_range)\n",
    "            else:\n",
    "                # There was no condition, continue to the fallback workflow\n",
    "                possible_intervals(result, intervals, solutions)\n",
    "\n",
    "    # Return all possible solutions\n",
    "    return solutions"
   ]
  },
  {
   "cell_type": "code",
   "execution_count": null,
   "metadata": {},
   "outputs": [],
   "source": [
    "intervals = {\n",
    "    \"x\": P.closed(MIN, MAX),\n",
    "    \"m\": P.closed(MIN, MAX),\n",
    "    \"a\": P.closed(MIN, MAX),\n",
    "    \"s\": P.closed(MIN, MAX),\n",
    "}\n",
    "\n",
    "solutions = 0\n",
    "for solution in possible_intervals(\"in\", intervals, []):\n",
    "    solutions += math.prod(interval_length(interval) for interval in solution.values())\n",
    "\n",
    "print(\"Answer:\", solutions)"
   ]
  },
  {
   "cell_type": "code",
   "execution_count": null,
   "metadata": {},
   "outputs": [],
   "source": []
  }
 ],
 "metadata": {
  "kernelspec": {
   "display_name": "AoC",
   "language": "python",
   "name": "python3"
  },
  "language_info": {
   "codemirror_mode": {
    "name": "ipython",
    "version": 3
   },
   "file_extension": ".py",
   "mimetype": "text/x-python",
   "name": "python",
   "nbconvert_exporter": "python",
   "pygments_lexer": "ipython3",
   "version": "3.11.6"
  }
 },
 "nbformat": 4,
 "nbformat_minor": 2
}
