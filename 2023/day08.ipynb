{
 "cells": [
  {
   "cell_type": "code",
   "execution_count": null,
   "metadata": {},
   "outputs": [],
   "source": [
    "import re\n",
    "import itertools\n"
   ]
  },
  {
   "cell_type": "code",
   "execution_count": null,
   "metadata": {},
   "outputs": [],
   "source": [
    "graph = dict()\n",
    "with open(\"day08_input.txt\") as file:\n",
    "    instructions = file.readline().strip()\n",
    "    for line in file:\n",
    "        if match := re.match(r\"(\\w+) = \\((\\w+), (\\w+)\\)\", line.strip()):\n",
    "            graph[match.group(1)] = (match.group(2), match.group(3))\n"
   ]
  },
  {
   "cell_type": "markdown",
   "metadata": {},
   "source": [
    "# Part 1\n"
   ]
  },
  {
   "cell_type": "code",
   "execution_count": null,
   "metadata": {},
   "outputs": [],
   "source": [
    "pos = \"AAA\"\n",
    "for steps, turn in enumerate(itertools.cycle(instructions), start=1):\n",
    "    if turn == \"L\":\n",
    "        pos = graph[pos][0]\n",
    "    else:\n",
    "        pos = graph[pos][1]\n",
    "    if pos == \"ZZZ\":\n",
    "        break\n",
    "\n",
    "print(\"Answer:\", steps)\n"
   ]
  },
  {
   "cell_type": "markdown",
   "metadata": {},
   "source": [
    "# Part 2\n"
   ]
  },
  {
   "cell_type": "code",
   "execution_count": null,
   "metadata": {},
   "outputs": [],
   "source": [
    "pos = [node for node in graph if node.endswith(\"A\")]\n",
    "for steps, turn in enumerate(itertools.cycle(instructions), start=1):\n",
    "    if turn == \"L\":\n",
    "        pos = [graph[node][0] for node in pos]\n",
    "    else:\n",
    "        pos = [graph[node][1] for node in pos]\n",
    "    if all(node.endswith(\"Z\") for node in pos):\n",
    "        break\n",
    "\n",
    "print(\"Answer:\", steps)\n"
   ]
  },
  {
   "cell_type": "code",
   "execution_count": null,
   "metadata": {},
   "outputs": [],
   "source": []
  }
 ],
 "metadata": {
  "kernelspec": {
   "display_name": "AoC",
   "language": "python",
   "name": "python3"
  },
  "language_info": {
   "codemirror_mode": {
    "name": "ipython",
    "version": 3
   },
   "file_extension": ".py",
   "mimetype": "text/x-python",
   "name": "python",
   "nbconvert_exporter": "python",
   "pygments_lexer": "ipython3",
   "version": "3.11.6"
  }
 },
 "nbformat": 4,
 "nbformat_minor": 2
}
