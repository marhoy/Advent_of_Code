{
 "cells": [
  {
   "cell_type": "code",
   "execution_count": null,
   "metadata": {},
   "outputs": [],
   "source": [
    "import re\n",
    "import itertools"
   ]
  },
  {
   "cell_type": "code",
   "execution_count": null,
   "metadata": {},
   "outputs": [],
   "source": [
    "graph = dict()\n",
    "with open(\"day08_input.txt\") as file:\n",
    "    instructions = file.readline().strip()\n",
    "    for line in file:\n",
    "        if match := re.match(r\"(\\w+) = \\((\\w+), (\\w+)\\)\", line.strip()):\n",
    "            graph[match.group(1)] = (match.group(2), match.group(3))"
   ]
  },
  {
   "cell_type": "markdown",
   "metadata": {},
   "source": [
    "# Part 1\n"
   ]
  },
  {
   "cell_type": "code",
   "execution_count": null,
   "metadata": {},
   "outputs": [],
   "source": [
    "pos = \"AAA\"\n",
    "for steps, turn in enumerate(itertools.cycle(instructions), start=1):\n",
    "    pos = graph[pos][0 if turn == \"L\" else 1]\n",
    "    if pos == \"ZZZ\":\n",
    "        break\n",
    "\n",
    "print(\"Answer:\", steps)"
   ]
  },
  {
   "cell_type": "markdown",
   "metadata": {},
   "source": [
    "# Part 2\n"
   ]
  },
  {
   "cell_type": "code",
   "execution_count": null,
   "metadata": {},
   "outputs": [],
   "source": [
    "import math"
   ]
  },
  {
   "cell_type": "code",
   "execution_count": null,
   "metadata": {},
   "outputs": [],
   "source": [
    "def numsteps(pos: str) -> tuple[int, str]:\n",
    "    for steps, turn in enumerate(itertools.cycle(instructions), start=1):\n",
    "        pos = graph[pos][0 if turn == \"L\" else 1]\n",
    "        if pos.endswith(\"Z\"):\n",
    "            return steps, pos\n",
    "\n",
    "\n",
    "starts = [node for node in graph if node.endswith(\"A\")]\n",
    "steps = [numsteps(start) for start in starts]\n",
    "\n",
    "for start, (step, end) in zip(starts, steps):\n",
    "    print(f\"Starting at {start} takes {step} steps until you reach {end}.\")\n",
    "\n",
    "# It turns out that the next node after the node that end with Z, is the start node\n",
    "# again (try starting from all xxZ-nodes instead of all xxA-nodes, and observe that you\n",
    "# get the same pairs/steps).\n",
    "#\n",
    "# So from each starting position, there is a cycle of a certain length. The final answer\n",
    "# is when all of these sequences are in sync, such that each cycle reaches its endpoint\n",
    "# at the same time.\n",
    "print(\"\\nAnswer:\", math.lcm(*[step for step, end in steps]))"
   ]
  },
  {
   "cell_type": "code",
   "execution_count": null,
   "metadata": {},
   "outputs": [],
   "source": []
  }
 ],
 "metadata": {
  "kernelspec": {
   "display_name": "AoC",
   "language": "python",
   "name": "python3"
  },
  "language_info": {
   "codemirror_mode": {
    "name": "ipython",
    "version": 3
   },
   "file_extension": ".py",
   "mimetype": "text/x-python",
   "name": "python",
   "nbconvert_exporter": "python",
   "pygments_lexer": "ipython3",
   "version": "3.11.6"
  }
 },
 "nbformat": 4,
 "nbformat_minor": 2
}
