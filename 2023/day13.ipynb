{
 "cells": [
  {
   "cell_type": "code",
   "execution_count": null,
   "metadata": {},
   "outputs": [],
   "source": [
    "import numpy as np"
   ]
  },
  {
   "cell_type": "code",
   "execution_count": null,
   "metadata": {},
   "outputs": [],
   "source": [
    "with open(\"day13_input.txt\") as file:\n",
    "    data = file.read().split(\"\\n\\n\")\n",
    "    arrays = [\n",
    "        np.array([list(line) for line in group.strip().split(\"\\n\")]) for group in data\n",
    "    ]"
   ]
  },
  {
   "cell_type": "markdown",
   "metadata": {},
   "source": [
    "# Part 1\n"
   ]
  },
  {
   "cell_type": "code",
   "execution_count": null,
   "metadata": {},
   "outputs": [],
   "source": [
    "def find_mirror_cols(array):\n",
    "    mirror_cols = []\n",
    "    for i in range(1, array.shape[1]):\n",
    "        num = min(i, array.shape[1] - i)\n",
    "        left = array[:, i - num : i]\n",
    "        right = array[:, i : i + num]\n",
    "        if np.array_equal(np.fliplr(left), right):\n",
    "            mirror_cols.append(i)\n",
    "    return mirror_cols"
   ]
  },
  {
   "cell_type": "code",
   "execution_count": null,
   "metadata": {},
   "outputs": [],
   "source": [
    "answer = 0\n",
    "for array in arrays:\n",
    "    answer += sum(find_mirror_cols(array)) + 100 * sum(find_mirror_cols(array.T))\n",
    "\n",
    "print(\"Answer:\", answer)"
   ]
  },
  {
   "cell_type": "markdown",
   "metadata": {},
   "source": [
    "# Part 2\n"
   ]
  },
  {
   "cell_type": "code",
   "execution_count": null,
   "metadata": {},
   "outputs": [],
   "source": [
    "def find_smudge_cols(array):\n",
    "    smudge_cols = []\n",
    "    for i in range(1, array.shape[1]):\n",
    "        num = min(i, array.shape[1] - i)\n",
    "        left = array[:, i - num : i]\n",
    "        right = array[:, i : i + num]\n",
    "        if (np.fliplr(left) != right).sum() == 1:\n",
    "            smudge_cols.append(i)\n",
    "    return smudge_cols"
   ]
  },
  {
   "cell_type": "code",
   "execution_count": null,
   "metadata": {},
   "outputs": [],
   "source": [
    "answer = 0\n",
    "for array in arrays:\n",
    "    answer += sum(find_smudge_cols(array)) + 100 * sum(find_smudge_cols(array.T))\n",
    "\n",
    "print(\"Answer:\", answer)"
   ]
  },
  {
   "cell_type": "code",
   "execution_count": null,
   "metadata": {},
   "outputs": [],
   "source": []
  }
 ],
 "metadata": {
  "kernelspec": {
   "display_name": "AoC",
   "language": "python",
   "name": "python3"
  },
  "language_info": {
   "codemirror_mode": {
    "name": "ipython",
    "version": 3
   },
   "file_extension": ".py",
   "mimetype": "text/x-python",
   "name": "python",
   "nbconvert_exporter": "python",
   "pygments_lexer": "ipython3",
   "version": "3.11.6"
  }
 },
 "nbformat": 4,
 "nbformat_minor": 2
}
