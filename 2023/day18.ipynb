{
 "cells": [
  {
   "cell_type": "code",
   "execution_count": null,
   "metadata": {},
   "outputs": [],
   "source": [
    "pos = [0, 0]\n",
    "polygon = [pos]\n",
    "edge_length = 0\n",
    "\n",
    "with open(\"day18_input.txt\") as file:\n",
    "    for line in file:\n",
    "        direction, length, _ = line.split(\" \")\n",
    "        length = int(length)\n",
    "        match direction:\n",
    "            case \"U\":\n",
    "                pos[0] -= length\n",
    "            case \"D\":\n",
    "                pos[0] += length\n",
    "            case \"R\":\n",
    "                pos[1] += length\n",
    "            case \"L\":\n",
    "                pos[1] -= length\n",
    "\n",
    "        edge_length += length\n",
    "        polygon.append(pos.copy())"
   ]
  },
  {
   "cell_type": "code",
   "execution_count": null,
   "metadata": {},
   "outputs": [],
   "source": [
    "def shoelace_area(polygon) -> float:\n",
    "    total = 0\n",
    "    for p1, p2 in zip(polygon, polygon[1:] + [polygon[0]]):\n",
    "        total += p1[0] * p2[1] - p1[1] * p2[0]\n",
    "\n",
    "    # If the polygon order is clockwise, the total will be negative\n",
    "    area = abs(total) / 2\n",
    "    return area"
   ]
  },
  {
   "cell_type": "markdown",
   "metadata": {},
   "source": [
    "# Part 1\n"
   ]
  },
  {
   "cell_type": "code",
   "execution_count": null,
   "metadata": {},
   "outputs": [],
   "source": [
    "shoelace_area(polygon) + edge_length / 2 + 1"
   ]
  },
  {
   "cell_type": "markdown",
   "metadata": {},
   "source": [
    "# Part 2\n"
   ]
  },
  {
   "cell_type": "code",
   "execution_count": null,
   "metadata": {},
   "outputs": [],
   "source": [
    "pos = [0, 0]\n",
    "polygon = [pos]\n",
    "edge_length = 0\n",
    "\n",
    "with open(\"day18_input.txt\") as file:\n",
    "    for line in file:\n",
    "        _, _, color = line.strip().split(\" \")\n",
    "        length = int(color[2:-2], 16)\n",
    "        direction = color[-2]\n",
    "        match direction:\n",
    "            case \"3\":\n",
    "                pos[0] -= length\n",
    "            case \"1\":\n",
    "                pos[0] += length\n",
    "            case \"0\":\n",
    "                pos[1] += length\n",
    "            case \"2\":\n",
    "                pos[1] -= length\n",
    "\n",
    "        edge_length += length\n",
    "        polygon.append(pos.copy())"
   ]
  },
  {
   "cell_type": "code",
   "execution_count": null,
   "metadata": {},
   "outputs": [],
   "source": [
    "shoelace_area(polygon) + edge_length / 2 + 1"
   ]
  },
  {
   "cell_type": "code",
   "execution_count": null,
   "metadata": {},
   "outputs": [],
   "source": []
  }
 ],
 "metadata": {
  "kernelspec": {
   "display_name": "AoC",
   "language": "python",
   "name": "python3"
  },
  "language_info": {
   "codemirror_mode": {
    "name": "ipython",
    "version": 3
   },
   "file_extension": ".py",
   "mimetype": "text/x-python",
   "name": "python",
   "nbconvert_exporter": "python",
   "pygments_lexer": "ipython3",
   "version": "3.11.6"
  }
 },
 "nbformat": 4,
 "nbformat_minor": 2
}
