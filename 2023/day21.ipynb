{
 "cells": [
  {
   "cell_type": "code",
   "execution_count": null,
   "metadata": {},
   "outputs": [],
   "source": [
    "grid = dict()\n",
    "start = ()\n",
    "with open(\"day21_input.txt\") as file:\n",
    "    for row, line in enumerate(file):\n",
    "        for col, char in enumerate(line.strip()):\n",
    "            if char == \"#\":\n",
    "                grid[(row, col)] = char\n",
    "            if char == \"S\":\n",
    "                start = (row, col)\n",
    "\n",
    "MAX_COL = col\n",
    "MAX_ROW = row"
   ]
  },
  {
   "cell_type": "code",
   "execution_count": null,
   "metadata": {},
   "outputs": [],
   "source": [
    "def neighbours(pos):\n",
    "    row, col = pos\n",
    "    for nrow, ncol in [(row - 1, col), (row + 1, col), (row, col - 1), (row, col + 1)]:\n",
    "        if (\n",
    "            (0 <= nrow <= MAX_ROW)\n",
    "            and (0 <= ncol <= MAX_COL)\n",
    "            and ((nrow, ncol) not in grid)\n",
    "        ):\n",
    "            yield (nrow, ncol)"
   ]
  },
  {
   "cell_type": "markdown",
   "metadata": {},
   "source": [
    "# Part 1\n"
   ]
  },
  {
   "cell_type": "code",
   "execution_count": null,
   "metadata": {},
   "outputs": [],
   "source": [
    "from collections import deque, Counter\n",
    "\n",
    "\n",
    "def num_reachable(max_steps, neighbour_func=neighbours):\n",
    "    \"\"\"Use BFS to find the distance from `start` to all nodes we can reach with a\n",
    "    certain number of steps.\"\"\"\n",
    "    distances = {start: 0}\n",
    "    queue = deque([start])\n",
    "    while queue:\n",
    "        node = queue.popleft()\n",
    "        if distances[node] > max_steps:\n",
    "            break\n",
    "        for neighbour in neighbour_func(node):\n",
    "            if neighbour not in distances:\n",
    "                distances[neighbour] = distances[node] + 1\n",
    "                queue.append(neighbour)\n",
    "\n",
    "    # The elf can also revisit nodes he has already visited. So we need to count the number\n",
    "    # of nodes at each distance. At step N, we can reach all nodes at distance N, N-2, N-4, ...\n",
    "    return sum(Counter(distances.values())[d] for d in range(max_steps, -1, -2))\n",
    "\n",
    "\n",
    "print(f\"Answer: {num_reachable(64)}\")"
   ]
  },
  {
   "cell_type": "markdown",
   "metadata": {},
   "source": [
    "# Part 2\n"
   ]
  },
  {
   "cell_type": "code",
   "execution_count": null,
   "metadata": {},
   "outputs": [],
   "source": [
    "def neighbours_part2(pos):\n",
    "    \"\"\"Neighbours for part 2. The grid is infinite, so we need to wrap around.\"\"\"\n",
    "    row, col = pos\n",
    "    for nrow, ncol in [(row - 1, col), (row + 1, col), (row, col - 1), (row, col + 1)]:\n",
    "        if (nrow % (MAX_ROW + 1), ncol % (MAX_COL + 1)) not in grid:\n",
    "            yield (nrow, ncol)"
   ]
  },
  {
   "cell_type": "markdown",
   "metadata": {},
   "source": [
    "The input grid is 131 x 131. From the `S` in the middle, there are 65 steps in a\n",
    "straight, unblocked line to the edge of the grid in all four directions. Thus, it takes\n",
    "65 steps to fill the first center-grid.\n",
    "\n",
    "After filling the first grid in 65 steps, each repetition of the grid will take\n",
    "additional 131 steps to fill. For each new \"layer\" of grids filled, the number of\n",
    "reachable steps will increase quadratically.\n",
    "\n",
    "Luckily for us, the number of steps in the question is _exactly_ after filling a certain\n",
    "number of grids, after the initial center grid.:\n",
    "\n",
    "$$ (26501365 - 65) / 131 = 202300 $$\n",
    "\n",
    "I guess it is also not a coincidence that $ 202300 = 2023 \\times 100 $...\n",
    "\n",
    "Since we are interested in the number of reachable nodes after `202300` additional grids\n",
    "are filled, lets see how the number of reachable nodes increase as we fill more grids:\n"
   ]
  },
  {
   "cell_type": "code",
   "execution_count": null,
   "metadata": {},
   "outputs": [],
   "source": [
    "import matplotlib.pyplot as plt\n",
    "import numpy as np\n",
    "\n",
    "x = np.arange(1, 5)  # Number of grids filled\n",
    "y = [num_reachable(i, neighbours_part2) for i in x * 131 + 65]\n",
    "coefs = np.polyfit(x, y, 2)\n",
    "error = np.round(y - np.poly1d(coefs)(x), 5)\n",
    "# Note that the fit is perfect, so the error is 0\n",
    "print(f\"{error=}\")\n",
    "\n",
    "# Plot the data and the fitted curve\n",
    "xpred = np.linspace(1, 4, 100)\n",
    "yhat = np.poly1d(coefs)(xpred)\n",
    "plt.plot(x, y, \"o\", xpred, yhat, \"-\")\n",
    "plt.xticks(x)\n",
    "plt.xlabel(\"Number of surrounding grids filled\")\n",
    "plt.ylabel(\"Number of reachable nodes\")"
   ]
  },
  {
   "cell_type": "markdown",
   "metadata": {},
   "source": [
    "We get a perfect fit with $$ f(x) = 14860 \\, x^2 + 14925 \\, x + 14925 $$ where $x$ is\n",
    "the number of additional 131-grids filled after the initial 65-step center grid.\n"
   ]
  },
  {
   "cell_type": "code",
   "execution_count": null,
   "metadata": {},
   "outputs": [],
   "source": [
    "# Since we are able to perfectly predict the number of reachable nodes for mulitples of\n",
    "# 131, we can now use the fitted polynomial to predict the number of reachable nodes:\n",
    "answer = np.poly1d(coefs)((26501365 - 65) / 131)\n",
    "print(\"Answer:\", answer)"
   ]
  },
  {
   "cell_type": "code",
   "execution_count": null,
   "metadata": {},
   "outputs": [],
   "source": []
  }
 ],
 "metadata": {
  "kernelspec": {
   "display_name": "AoC",
   "language": "python",
   "name": "python3"
  },
  "language_info": {
   "codemirror_mode": {
    "name": "ipython",
    "version": 3
   },
   "file_extension": ".py",
   "mimetype": "text/x-python",
   "name": "python",
   "nbconvert_exporter": "python",
   "pygments_lexer": "ipython3",
   "version": "3.12.1"
  }
 },
 "nbformat": 4,
 "nbformat_minor": 2
}
