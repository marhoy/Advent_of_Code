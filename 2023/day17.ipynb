{
 "cells": [
  {
   "cell_type": "code",
   "execution_count": null,
   "metadata": {},
   "outputs": [],
   "source": [
    "import math\n",
    "from queue import PriorityQueue\n",
    "from typing import Generator, Callable"
   ]
  },
  {
   "cell_type": "code",
   "execution_count": null,
   "metadata": {},
   "outputs": [],
   "source": [
    "grid = dict()\n",
    "with open(\"day17_input.txt\") as file:\n",
    "    for row, line in enumerate(file):\n",
    "        for col, char in enumerate(line.strip()):\n",
    "            grid[(row, col)] = int(char)\n",
    "\n",
    "END_POS = (row, col)"
   ]
  },
  {
   "cell_type": "code",
   "execution_count": null,
   "metadata": {},
   "outputs": [],
   "source": [
    "def find_path_to(state, path_dict):\n",
    "    \"\"\"Backtrack from a state to the start state to find the path taken.\"\"\"\n",
    "    path = []\n",
    "    while state in path_dict:\n",
    "        path.append(state[0])\n",
    "        state = path_dict[state]\n",
    "    path.append(state[0])\n",
    "    return path\n",
    "\n",
    "\n",
    "def print_path(state, path_dict):\n",
    "    \"\"\"Print the grid with the path taken highlighted.\"\"\"\n",
    "    path = set(find_path_to(state, path_dict))\n",
    "\n",
    "    RED = \"\\033[91m\"\n",
    "    END = \"\\033[0m\"\n",
    "\n",
    "    for row in range(END_POS[0] + 1):\n",
    "        for col in range(END_POS[1] + 1):\n",
    "            if (row, col) in path:\n",
    "                print(RED + str(grid[(row, col)]) + END, end=\"\")\n",
    "            else:\n",
    "                print(grid[(row, col)], end=\"\")\n",
    "        print()"
   ]
  },
  {
   "cell_type": "code",
   "execution_count": null,
   "metadata": {},
   "outputs": [],
   "source": [
    "def find_solution(neighbour_func: Callable, grid: dict):\n",
    "    start = (0, 0)\n",
    "    heatloss = dict()\n",
    "    prev_path = dict()\n",
    "    queue = PriorityQueue()\n",
    "\n",
    "    # State: (pos, prev, num_moves)\n",
    "    start_state = (start, start, 0)\n",
    "    queue.put((0, start_state))\n",
    "    heatloss[start_state] = 0\n",
    "\n",
    "    # Dijkstra with a state of (pos, prev_pos, num_moves)\n",
    "    while not queue.empty():\n",
    "        loss, state = queue.get()\n",
    "        pos, _, _ = state\n",
    "        for new_pos, new_moves in neighbour_func(state, grid):\n",
    "            new_state = (new_pos, pos, new_moves)\n",
    "            new_loss = loss + grid[new_pos]\n",
    "            if new_loss < heatloss.get(new_state, math.inf):\n",
    "                heatloss[new_state] = new_loss\n",
    "                prev_path[new_state] = state\n",
    "                queue.put((new_loss, new_state))\n",
    "\n",
    "    return heatloss, prev_path"
   ]
  },
  {
   "cell_type": "markdown",
   "metadata": {},
   "source": [
    "# Part 1\n"
   ]
  },
  {
   "cell_type": "code",
   "execution_count": null,
   "metadata": {},
   "outputs": [],
   "source": [
    "def valid_neighbours_part_1(\n",
    "    state, grid\n",
    ") -> Generator[tuple[tuple[int, int], int], None, None]:\n",
    "    (row, col), (prev_row, prev_col), num_moves = state\n",
    "    row_diff = row - prev_row\n",
    "    col_diff = col - prev_col\n",
    "    if num_moves == 3:\n",
    "        # We must change direction\n",
    "        if row_diff == 0:\n",
    "            diffs = [(1, 0), (-1, 0)]  # Can only move up or down\n",
    "        else:\n",
    "            diffs = [(0, 1), (0, -1)]  # Can only move left or right\n",
    "        for d in diffs:\n",
    "            new_pos = (row + d[0], col + d[1])\n",
    "            if new_pos in grid:\n",
    "                yield new_pos, 1\n",
    "    else:\n",
    "        # Try moving in any direction\n",
    "        for d in [(0, 1), (0, -1), (1, 0), (-1, 0)]:\n",
    "            new_pos = (row + d[0], col + d[1])\n",
    "            if (new_pos not in grid) or (new_pos == (prev_row, prev_col)):\n",
    "                # Can't go outside the grid or back to the previous position\n",
    "                continue\n",
    "            new_row, new_col = new_pos\n",
    "            if (prev_row == new_row) or (prev_col == new_col):\n",
    "                new_moves = num_moves + 1\n",
    "            else:\n",
    "                new_moves = 1\n",
    "            yield new_pos, new_moves"
   ]
  },
  {
   "cell_type": "code",
   "execution_count": null,
   "metadata": {},
   "outputs": [],
   "source": [
    "heatloss, prev_path = find_solution(valid_neighbours_part_1, grid)\n",
    "answer = min(value for key, value in heatloss.items() if key[0] == END_POS)\n",
    "print(\"Answer:\", answer)"
   ]
  },
  {
   "cell_type": "code",
   "execution_count": null,
   "metadata": {},
   "outputs": [],
   "source": [
    "# All possible solutions\n",
    "solutions = sorted(\n",
    "    ((key, value) for key, value in heatloss.items() if key[0] == END_POS),\n",
    "    key=lambda x: x[1],\n",
    ")\n",
    "solutions"
   ]
  },
  {
   "cell_type": "code",
   "execution_count": null,
   "metadata": {},
   "outputs": [],
   "source": [
    "# Print the optimal path\n",
    "print_path(solutions[0][0], prev_path)"
   ]
  },
  {
   "cell_type": "markdown",
   "metadata": {},
   "source": [
    "# Part 2\n"
   ]
  },
  {
   "cell_type": "code",
   "execution_count": null,
   "metadata": {},
   "outputs": [],
   "source": [
    "def valid_neighbours_part_2(\n",
    "    state, grid\n",
    ") -> Generator[tuple[tuple[int, int], int], None, None]:\n",
    "    (row, col), (prev_row, prev_col), num_moves = state\n",
    "    row_diff = row - prev_row\n",
    "    col_diff = col - prev_col\n",
    "    if 0 < num_moves < 4:\n",
    "        # We must continue in this direction\n",
    "        new_pos = (row + row_diff, col + col_diff)\n",
    "        if new_pos in grid:\n",
    "            yield new_pos, num_moves + 1\n",
    "    elif num_moves == 10:\n",
    "        # We must turn left of right\n",
    "        if row_diff == 0:\n",
    "            # We must turn vertically\n",
    "            for d in [1, -1]:\n",
    "                new_pos = (row + d, col)\n",
    "                if new_pos in grid:\n",
    "                    yield new_pos, 1\n",
    "        elif col_diff == 0:\n",
    "            # We must turn horizontally\n",
    "            for d in [1, -1]:\n",
    "                new_pos = (row, col + d)\n",
    "                if new_pos in grid:\n",
    "                    yield new_pos, 1\n",
    "    else:\n",
    "        # We can move in any direction\n",
    "        for d in [(0, 1), (0, -1), (1, 0), (-1, 0)]:\n",
    "            new_pos = (row + d[0], col + d[1])\n",
    "            new_row, new_col = new_pos\n",
    "            if (new_pos not in grid) or (new_pos == (prev_row, prev_col)):\n",
    "                # Outside the grid or back to the previous position\n",
    "                continue\n",
    "            if (prev_row == row == new_row) or (prev_col == col == new_col):\n",
    "                new_moves = num_moves + 1\n",
    "            else:\n",
    "                new_moves = 1\n",
    "            yield new_pos, new_moves"
   ]
  },
  {
   "cell_type": "code",
   "execution_count": null,
   "metadata": {},
   "outputs": [],
   "source": [
    "heatloss, prev_path = find_solution(valid_neighbours_part_2, grid)\n",
    "answer = min(\n",
    "    value\n",
    "    for key, value in heatloss.items()\n",
    "    if (key[0] == END_POS) and (4 <= key[2] <= 10)\n",
    ")\n",
    "print(\"Answer:\", answer)"
   ]
  },
  {
   "cell_type": "code",
   "execution_count": null,
   "metadata": {},
   "outputs": [],
   "source": [
    "# All possible solutions\n",
    "solutions = sorted(\n",
    "    (\n",
    "        (key, value)\n",
    "        for key, value in heatloss.items()\n",
    "        if (key[0] == END_POS) and (4 <= key[2] <= 10)\n",
    "    ),\n",
    "    key=lambda x: x[1],\n",
    ")\n",
    "solutions"
   ]
  },
  {
   "cell_type": "code",
   "execution_count": null,
   "metadata": {},
   "outputs": [],
   "source": [
    "# Print the optimal path\n",
    "print_path(solutions[0][0], prev_path)"
   ]
  },
  {
   "cell_type": "code",
   "execution_count": null,
   "metadata": {},
   "outputs": [],
   "source": []
  }
 ],
 "metadata": {
  "kernelspec": {
   "display_name": "AoC",
   "language": "python",
   "name": "python3"
  },
  "language_info": {
   "codemirror_mode": {
    "name": "ipython",
    "version": 3
   },
   "file_extension": ".py",
   "mimetype": "text/x-python",
   "name": "python",
   "nbconvert_exporter": "python",
   "pygments_lexer": "ipython3",
   "version": "3.11.6"
  }
 },
 "nbformat": 4,
 "nbformat_minor": 2
}
