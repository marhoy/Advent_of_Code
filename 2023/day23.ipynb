{
 "cells": [
  {
   "cell_type": "code",
   "execution_count": null,
   "metadata": {},
   "outputs": [],
   "source": [
    "Pos = tuple[int, int]\n",
    "\n",
    "grid = dict()\n",
    "with open(\"day23_input.txt\") as file:\n",
    "    for row, line in enumerate(file):\n",
    "        for col, char in enumerate(line.strip()):\n",
    "            grid[(row, col)] = char\n",
    "\n",
    "START: Pos = (0, 1)\n",
    "END: Pos = (row, col - 1)"
   ]
  },
  {
   "cell_type": "code",
   "execution_count": null,
   "metadata": {},
   "outputs": [],
   "source": [
    "from typing import Generator\n",
    "\n",
    "\n",
    "def get_neighbours_part1(\n",
    "    pos: tuple[int, int]\n",
    ") -> Generator[tuple[int, int], None, None]:\n",
    "    row, col = pos\n",
    "    match grid[pos]:\n",
    "        case \">\":\n",
    "            d = [(0, 1)]\n",
    "        case \"<\":\n",
    "            d = [(0, -1)]\n",
    "        case \"^\":\n",
    "            d = [(-1, 0)]\n",
    "        case \"v\":\n",
    "            d = [(1, 0)]\n",
    "        case _:\n",
    "            d = [(0, 1), (0, -1), (-1, 0), (1, 0)]\n",
    "    for dr, dc in d:\n",
    "        nrow, ncol = row + dr, col + dc\n",
    "        if ((nrow, ncol) not in grid) or (grid[(nrow, ncol)] == \"#\"):\n",
    "            continue\n",
    "        yield row + dr, col + dc"
   ]
  },
  {
   "cell_type": "markdown",
   "metadata": {},
   "source": [
    "# Part 1\n"
   ]
  },
  {
   "cell_type": "code",
   "execution_count": null,
   "metadata": {},
   "outputs": [],
   "source": [
    "def find_solutions(\n",
    "    pos: tuple[int, int], end: tuple[int, int], visited: set, solutions: list[int]\n",
    ") -> list[int]:\n",
    "    if pos == end:\n",
    "        solutions.append(len(visited))\n",
    "    else:\n",
    "        visited.add(pos)\n",
    "        for npos in get_neighbours_part1(pos):\n",
    "            if npos in visited:\n",
    "                continue\n",
    "            find_solutions(npos, end, visited, solutions)\n",
    "        # Instead of giving each recursive call a copy of the visited-set, we just undo\n",
    "        # the changes here. This saves a lot of memory and is faster.\n",
    "        visited.remove(pos)\n",
    "\n",
    "    return solutions"
   ]
  },
  {
   "cell_type": "code",
   "execution_count": null,
   "metadata": {},
   "outputs": [],
   "source": [
    "print(\"Answer:\", max(find_solutions(START, END, visited=set(), solutions=[])))"
   ]
  },
  {
   "cell_type": "markdown",
   "metadata": {},
   "source": [
    "# Part 2\n"
   ]
  },
  {
   "cell_type": "code",
   "execution_count": null,
   "metadata": {},
   "outputs": [],
   "source": [
    "def get_neighbours_part2(pos: tuple[int, int]) -> set[tuple[int, int]]:\n",
    "    \"\"\"We no longer care about the icy slopes. All neighbours are valid.\"\"\"\n",
    "    row, col = pos\n",
    "    d = [(0, 1), (0, -1), (-1, 0), (1, 0)]\n",
    "    neighbours = set()\n",
    "    for dr, dc in d:\n",
    "        nrow, ncol = row + dr, col + dc\n",
    "        if ((nrow, ncol) not in grid) or (grid[(nrow, ncol)] == \"#\"):\n",
    "            continue\n",
    "        neighbours.add((nrow, ncol))\n",
    "    return neighbours"
   ]
  },
  {
   "cell_type": "markdown",
   "metadata": {},
   "source": [
    "Recursion is blowing up. On the paths in my input, you can walk for a long time before\n",
    "reaching an intersection. Thus, to reduce the number of recursive calls, we can create a\n",
    "graph of the maze and use DFS to test all possible ways to traverse the graph.\n"
   ]
  },
  {
   "cell_type": "code",
   "execution_count": null,
   "metadata": {},
   "outputs": [],
   "source": [
    "from collections import defaultdict\n",
    "\n",
    "# Queue: edge_start, current_pos, distance, visited\n",
    "queue = [(START, START, 0, {START})]\n",
    "graph = defaultdict(list[tuple[Pos, int]])\n",
    "\n",
    "# Find all the junctions in the maze, and create a graph with edges between junctions.\n",
    "while queue:\n",
    "    edge_start, pos, distance, visited = queue.pop()\n",
    "    neighbours = get_neighbours_part2(pos) - visited\n",
    "\n",
    "    if len(neighbours) == 1:\n",
    "        # We're on a path, not a junction.\n",
    "        queue.append((edge_start, neighbours.pop(), distance + 1, visited | {pos}))\n",
    "    else:\n",
    "        # We have reached a junction or the end of the maze.\n",
    "        if (pos, distance) in graph[edge_start]:\n",
    "            # We have already found this edge, so we can skip it.\n",
    "            continue\n",
    "\n",
    "        # Add edge to the graph, in both directions.\n",
    "        graph[edge_start].append((pos, distance))\n",
    "        graph[pos].append((edge_start, distance))\n",
    "\n",
    "        # Add all outgoing edges from the junction to the queue.\n",
    "        for neighbour in neighbours:\n",
    "            queue.append((pos, neighbour, 1, {pos}))"
   ]
  },
  {
   "cell_type": "code",
   "execution_count": null,
   "metadata": {},
   "outputs": [],
   "source": [
    "def find_longest_path(pos, visited=set(), distance=0, longest_path=0):\n",
    "    if pos == END:\n",
    "        return max(longest_path, distance)\n",
    "    else:\n",
    "        visited.add(pos)\n",
    "        for npos, ndistance in graph[pos]:\n",
    "            if npos in visited:\n",
    "                continue\n",
    "            longest_path = find_longest_path(\n",
    "                npos, visited, distance + ndistance, longest_path\n",
    "            )\n",
    "        visited.remove(pos)\n",
    "\n",
    "    return longest_path"
   ]
  },
  {
   "cell_type": "code",
   "execution_count": null,
   "metadata": {},
   "outputs": [],
   "source": [
    "print(\"Answer:\", find_longest_path(START))"
   ]
  },
  {
   "cell_type": "code",
   "execution_count": null,
   "metadata": {},
   "outputs": [],
   "source": []
  }
 ],
 "metadata": {
  "kernelspec": {
   "display_name": "AoC",
   "language": "python",
   "name": "python3"
  },
  "language_info": {
   "codemirror_mode": {
    "name": "ipython",
    "version": 3
   },
   "file_extension": ".py",
   "mimetype": "text/x-python",
   "name": "python",
   "nbconvert_exporter": "python",
   "pygments_lexer": "ipython3",
   "version": "3.12.1"
  }
 },
 "nbformat": 4,
 "nbformat_minor": 2
}
