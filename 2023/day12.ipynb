{
 "cells": [
  {
   "cell_type": "markdown",
   "metadata": {},
   "source": [
    "# Part 1\n"
   ]
  },
  {
   "cell_type": "code",
   "execution_count": null,
   "metadata": {},
   "outputs": [],
   "source": [
    "import itertools\n",
    "\n",
    "\n",
    "def find_num_alternatives(row, lengths):\n",
    "    num_alternatives = 0\n",
    "    qmark_positions = [i for i, char in enumerate(row) if char == \"?\"]\n",
    "    num_missing = sum(lengths) - row.count(\"#\")\n",
    "    for qmark_replace in itertools.combinations(qmark_positions, num_missing):\n",
    "        new_row = list(row)\n",
    "        for pos in qmark_replace:\n",
    "            new_row[pos] = \"#\"\n",
    "        alternative = \"\".join(new_row).replace(\"?\", \".\")\n",
    "        new_lenghts = [len(chars) for chars in alternative.split(\".\") if chars]\n",
    "        if new_lenghts == lengths:\n",
    "            num_alternatives += 1\n",
    "    return num_alternatives"
   ]
  },
  {
   "cell_type": "code",
   "execution_count": null,
   "metadata": {},
   "outputs": [],
   "source": [
    "with open(\"day12_input.txt\") as file:\n",
    "    alternatives = []\n",
    "    for i, line in enumerate(file):\n",
    "        row, digits = line.strip().split(\" \")\n",
    "        lengths = [int(d) for d in digits.split(\",\")]\n",
    "        alternatives.append(find_num_alternatives(row, lengths))\n",
    "\n",
    "print(\"Answer:\", sum(alternatives))"
   ]
  },
  {
   "cell_type": "markdown",
   "metadata": {},
   "source": [
    "# Part 2\n"
   ]
  },
  {
   "cell_type": "code",
   "execution_count": null,
   "metadata": {},
   "outputs": [],
   "source": [
    "from functools import cache\n",
    "\n",
    "\n",
    "@cache\n",
    "def dp_num_alternatives(chars: str, groups: tuple[int, ...]) -> int:\n",
    "    # Handle base cases, at the end of the recursion:\n",
    "    if not groups:\n",
    "        # We have consumed all groups: If there are no `#`s left, this is a valid\n",
    "        # solution.\n",
    "        if \"#\" not in chars:\n",
    "            return 1\n",
    "        # Otherwise, this is not a valid solution\n",
    "        return 0\n",
    "\n",
    "    if not chars:\n",
    "        # We have consumed all chars, but we still have groups left: This is not a valid\n",
    "        # solution\n",
    "        return 0\n",
    "\n",
    "    def consume_this_group() -> int:\n",
    "        # We are at the start of a group.\n",
    "        # 1. The number of available characters must be at least `group_length`\n",
    "        # 2. There can be no `.` in the first `group_length` characters.\n",
    "        # 3. The next character after the group cannot be a `#`:\n",
    "        group_length = groups[0]\n",
    "        if (\n",
    "            (len(chars) < group_length)\n",
    "            or (\".\" in chars[:group_length])\n",
    "            or (chars[group_length : group_length + 1] == \"#\")\n",
    "        ):\n",
    "            return 0\n",
    "        # Otherwise, consume the group and continue\n",
    "        return dp_num_alternatives(chars[group_length + 1 :], groups[1:])\n",
    "\n",
    "    # Depending on the first character, we have different options:\n",
    "    match chars[0]:\n",
    "        case \"#\":\n",
    "            # Try to consume the group\n",
    "            return consume_this_group()\n",
    "\n",
    "        case \".\":\n",
    "            # Skip this character, and keep the groups\n",
    "            return dp_num_alternatives(chars[1:], groups)\n",
    "\n",
    "        case \"?\":\n",
    "            # We can either treat this as a `.` and skip it, or handle it as a `#`:\n",
    "            return dp_num_alternatives(chars[1:], groups) + consume_this_group()"
   ]
  },
  {
   "cell_type": "code",
   "execution_count": null,
   "metadata": {},
   "outputs": [],
   "source": [
    "with open(\"day12_input.txt\") as file:\n",
    "    alternatives = []\n",
    "    for i, line in enumerate(file):\n",
    "        row, digits = line.strip().split(\" \")\n",
    "        row = \"?\".join([row] * 5)\n",
    "        lengths = tuple(int(d) for d in digits.split(\",\")) * 5\n",
    "        alternatives.append(dp_num_alternatives(row, lengths))\n",
    "\n",
    "print(\"Answer:\", sum(alternatives))"
   ]
  },
  {
   "cell_type": "code",
   "execution_count": null,
   "metadata": {},
   "outputs": [],
   "source": []
  }
 ],
 "metadata": {
  "kernelspec": {
   "display_name": "AoC",
   "language": "python",
   "name": "python3"
  },
  "language_info": {
   "codemirror_mode": {
    "name": "ipython",
    "version": 3
   },
   "file_extension": ".py",
   "mimetype": "text/x-python",
   "name": "python",
   "nbconvert_exporter": "python",
   "pygments_lexer": "ipython3",
   "version": "3.11.6"
  }
 },
 "nbformat": 4,
 "nbformat_minor": 2
}
