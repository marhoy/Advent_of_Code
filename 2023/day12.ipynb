{
 "cells": [
  {
   "cell_type": "code",
   "execution_count": null,
   "metadata": {},
   "outputs": [],
   "source": [
    "import itertools"
   ]
  },
  {
   "cell_type": "markdown",
   "metadata": {},
   "source": [
    "# Part 1\n"
   ]
  },
  {
   "cell_type": "code",
   "execution_count": null,
   "metadata": {},
   "outputs": [],
   "source": [
    "def find_num_alternatives(row, lengths):\n",
    "    num_alternatives = 0\n",
    "    qmark_positions = [i for i, char in enumerate(row) if char == \"?\"]\n",
    "    num_missing = sum(lengths) - row.count(\"#\")\n",
    "    for qmark_replace in itertools.combinations(qmark_positions, num_missing):\n",
    "        new_row = list(row)\n",
    "        for pos in qmark_replace:\n",
    "            new_row[pos] = \"#\"\n",
    "        alternative = \"\".join(new_row).replace(\"?\", \".\")\n",
    "        new_lenghts = [len(chars) for chars in alternative.split(\".\") if chars]\n",
    "        if new_lenghts == lengths:\n",
    "            num_alternatives += 1\n",
    "    return num_alternatives"
   ]
  },
  {
   "cell_type": "code",
   "execution_count": null,
   "metadata": {},
   "outputs": [],
   "source": [
    "with open(\"day12_input.txt\") as file:\n",
    "    alternatives = []\n",
    "    for i, line in enumerate(file):\n",
    "        row, digits = line.strip().split(\" \")\n",
    "        lengths = [int(d) for d in digits.split(\",\")]\n",
    "        alternatives.append(find_num_alternatives(row, lengths))\n",
    "\n",
    "print(\"Answer:\", sum(alternatives))"
   ]
  },
  {
   "cell_type": "code",
   "execution_count": null,
   "metadata": {},
   "outputs": [],
   "source": []
  }
 ],
 "metadata": {
  "kernelspec": {
   "display_name": "AoC",
   "language": "python",
   "name": "python3"
  },
  "language_info": {
   "codemirror_mode": {
    "name": "ipython",
    "version": 3
   },
   "file_extension": ".py",
   "mimetype": "text/x-python",
   "name": "python",
   "nbconvert_exporter": "python",
   "pygments_lexer": "ipython3",
   "version": "3.11.6"
  }
 },
 "nbformat": 4,
 "nbformat_minor": 2
}
