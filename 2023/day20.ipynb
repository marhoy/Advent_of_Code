{
 "cells": [
  {
   "cell_type": "code",
   "execution_count": null,
   "metadata": {},
   "outputs": [],
   "source": [
    "from day20 import parse_input"
   ]
  },
  {
   "cell_type": "markdown",
   "metadata": {},
   "source": [
    "# Part 1\n"
   ]
  },
  {
   "cell_type": "code",
   "execution_count": null,
   "metadata": {},
   "outputs": [],
   "source": [
    "system = parse_input(\"day20_input.txt\")\n",
    "\n",
    "for _ in range(1000):\n",
    "    result = system.push_button()\n",
    "\n",
    "print(\"Answer:\", result)"
   ]
  },
  {
   "cell_type": "markdown",
   "metadata": {},
   "source": [
    "# Part 2\n"
   ]
  },
  {
   "cell_type": "markdown",
   "metadata": {},
   "source": [
    "Signal `rx` is the output from module `&zg`, which has the following inputs: `vm`, `lm`,\n",
    "`jd` and `fv`.\n",
    "\n",
    "For `&zg` to send a `low` pulse, all of the inputs must be true at the\n",
    "same time.\n",
    "\n",
    "We can monitor the cycle-time for each of these inputs, and compute the LCM of the cycle-times.\n"
   ]
  },
  {
   "cell_type": "code",
   "execution_count": null,
   "metadata": {},
   "outputs": [],
   "source": [
    "import math"
   ]
  },
  {
   "cell_type": "code",
   "execution_count": null,
   "metadata": {},
   "outputs": [],
   "source": [
    "system = parse_input(\"day20_input.txt\")\n",
    "\n",
    "for i in range(10_000):\n",
    "    system.push_button()\n",
    "\n",
    "for name, cycle_time in system.cycle_times.items():\n",
    "    print(f\"Module {name} has a cycle time of {cycle_time} button presses.\")\n",
    "\n",
    "print(\"\\nAnswer:\", math.lcm(*system.cycle_times.values()))"
   ]
  },
  {
   "cell_type": "code",
   "execution_count": null,
   "metadata": {},
   "outputs": [],
   "source": []
  }
 ],
 "metadata": {
  "kernelspec": {
   "display_name": "AoC",
   "language": "python",
   "name": "python3"
  },
  "language_info": {
   "codemirror_mode": {
    "name": "ipython",
    "version": 3
   },
   "file_extension": ".py",
   "mimetype": "text/x-python",
   "name": "python",
   "nbconvert_exporter": "python",
   "pygments_lexer": "ipython3",
   "version": "3.11.6"
  }
 },
 "nbformat": 4,
 "nbformat_minor": 2
}
