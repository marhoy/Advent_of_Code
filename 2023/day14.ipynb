{
 "cells": [
  {
   "cell_type": "code",
   "execution_count": null,
   "metadata": {},
   "outputs": [],
   "source": [
    "grid = dict()\n",
    "with open(\"day14_input.txt\") as file:\n",
    "    for row, line in enumerate(file):\n",
    "        for col, char in enumerate(line.strip()):\n",
    "            if char in \"#O\":\n",
    "                grid[(row, col)] = char\n",
    "\n",
    "N_ROWS = row + 1\n",
    "N_COLS = col + 1"
   ]
  },
  {
   "cell_type": "code",
   "execution_count": null,
   "metadata": {},
   "outputs": [],
   "source": [
    "def print_grid(grid):\n",
    "    for row in range(N_ROWS):\n",
    "        for col in range(N_COLS):\n",
    "            print(grid.get((row, col), \".\"), end=\"\")\n",
    "        print()"
   ]
  },
  {
   "cell_type": "markdown",
   "metadata": {},
   "source": [
    "# Part 1\n"
   ]
  },
  {
   "cell_type": "code",
   "execution_count": null,
   "metadata": {},
   "outputs": [],
   "source": [
    "stones = sorted(\n",
    "    [pos for pos, char in grid.items() if char == \"O\"], key=lambda pos: pos[0]\n",
    ")\n",
    "for stone in stones:\n",
    "    row, col = stone\n",
    "    while (row > 0) and (not grid.get((row - 1, col))):\n",
    "        row -= 1\n",
    "    # Move this stone to its new position\n",
    "    del grid[stone]\n",
    "    grid[(row, col)] = \"O\""
   ]
  },
  {
   "cell_type": "code",
   "execution_count": null,
   "metadata": {},
   "outputs": [],
   "source": [
    "load = sum(N_ROWS - row for (row, col), char in grid.items() if char == \"O\")\n",
    "print(\"Answer:\", load)"
   ]
  },
  {
   "cell_type": "code",
   "execution_count": null,
   "metadata": {},
   "outputs": [],
   "source": []
  }
 ],
 "metadata": {
  "kernelspec": {
   "display_name": "AoC",
   "language": "python",
   "name": "python3"
  },
  "language_info": {
   "codemirror_mode": {
    "name": "ipython",
    "version": 3
   },
   "file_extension": ".py",
   "mimetype": "text/x-python",
   "name": "python",
   "nbconvert_exporter": "python",
   "pygments_lexer": "ipython3",
   "version": "3.11.6"
  }
 },
 "nbformat": 4,
 "nbformat_minor": 2
}
