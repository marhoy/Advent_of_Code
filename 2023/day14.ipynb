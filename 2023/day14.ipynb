{
 "cells": [
  {
   "cell_type": "code",
   "execution_count": null,
   "metadata": {},
   "outputs": [],
   "source": [
    "grid = dict()\n",
    "with open(\"day14_input.txt\") as file:\n",
    "    for row, line in enumerate(file):\n",
    "        for col, char in enumerate(line.strip()):\n",
    "            if char in \"#O\":\n",
    "                grid[(row, col)] = char\n",
    "\n",
    "N_ROWS = row + 1\n",
    "N_COLS = col + 1"
   ]
  },
  {
   "cell_type": "code",
   "execution_count": null,
   "metadata": {},
   "outputs": [],
   "source": [
    "def print_grid(grid, n_rows=None, n_cols=None):\n",
    "    if n_rows is None:\n",
    "        n_rows = N_ROWS\n",
    "    if n_cols is None:\n",
    "        n_cols = N_COLS\n",
    "    for row in range(n_rows):\n",
    "        for col in range(n_cols):\n",
    "            print(grid.get((row, col), \".\"), end=\"\")\n",
    "        print()"
   ]
  },
  {
   "cell_type": "markdown",
   "metadata": {},
   "source": [
    "# Part 1\n"
   ]
  },
  {
   "cell_type": "code",
   "execution_count": null,
   "metadata": {},
   "outputs": [],
   "source": [
    "def tilt_north(grid):\n",
    "    stones = sorted(\n",
    "        [pos for pos, char in grid.items() if char == \"O\"], key=lambda pos: pos[0]\n",
    "    )\n",
    "    for stone in stones:\n",
    "        row, col = stone\n",
    "        while (row > 0) and (not grid.get((row - 1, col))):\n",
    "            row -= 1\n",
    "        # Move this stone to its new position\n",
    "        del grid[stone]\n",
    "        grid[(row, col)] = \"O\"\n",
    "    return grid"
   ]
  },
  {
   "cell_type": "code",
   "execution_count": null,
   "metadata": {},
   "outputs": [],
   "source": [
    "grid = tilt_north(grid)\n",
    "load = sum(N_ROWS - row for (row, col), char in grid.items() if char == \"O\")\n",
    "print(\"Answer:\", load)"
   ]
  },
  {
   "cell_type": "markdown",
   "metadata": {},
   "source": [
    "# Part 2\n"
   ]
  },
  {
   "cell_type": "code",
   "execution_count": null,
   "metadata": {},
   "outputs": [],
   "source": [
    "def rotate_clockwise(old_grid):\n",
    "    new_grid = dict()\n",
    "    for (row, col), char in old_grid.items():\n",
    "        # Rotate all positions 90 degrees clockwise\n",
    "        new_grid[(col, N_ROWS - row - 1)] = char\n",
    "    return new_grid"
   ]
  },
  {
   "cell_type": "code",
   "execution_count": null,
   "metadata": {},
   "outputs": [],
   "source": [
    "def spin_cycle(grid):\n",
    "    grid = rotate_clockwise(tilt_north(grid))\n",
    "    grid = rotate_clockwise(tilt_north(grid))\n",
    "    grid = rotate_clockwise(tilt_north(grid))\n",
    "    grid = rotate_clockwise(tilt_north(grid))\n",
    "    return grid"
   ]
  },
  {
   "cell_type": "code",
   "execution_count": null,
   "metadata": {},
   "outputs": [],
   "source": [
    "grid = dict()\n",
    "with open(\"day14_input.txt\") as file:\n",
    "    for row, line in enumerate(file):\n",
    "        for col, char in enumerate(line.strip()):\n",
    "            if char in \"#ONSE\":\n",
    "                grid[(row, col)] = char\n",
    "\n",
    "N_ROWS = row + 1\n",
    "N_COLS = col + 1"
   ]
  },
  {
   "cell_type": "code",
   "execution_count": null,
   "metadata": {},
   "outputs": [],
   "source": [
    "configs_seen = dict()\n",
    "run_in_length, cycle_length = 0, 0\n",
    "i = 0\n",
    "while i < 1_000_000_000:\n",
    "    grid = spin_cycle(grid)\n",
    "    config = frozenset(grid.keys())\n",
    "\n",
    "    if (config in configs_seen) and (cycle_length == 0):\n",
    "        run_in_length = configs_seen[config]\n",
    "        cycle_length = i - run_in_length\n",
    "        print(\"Run-in length is\", run_in_length)\n",
    "        print(\"Cycle at iteration\", i, \"with length\", cycle_length)\n",
    "        i += (1_000_000_000 - i) // cycle_length * cycle_length\n",
    "        print(f\"Jumping to iteration {i:,}\")\n",
    "\n",
    "    configs_seen[config] = i\n",
    "    i += 1"
   ]
  },
  {
   "cell_type": "code",
   "execution_count": null,
   "metadata": {},
   "outputs": [],
   "source": [
    "load = sum(N_ROWS - row for (row, col), char in grid.items() if char == \"O\")\n",
    "print(\"Answer:\", load)"
   ]
  },
  {
   "cell_type": "code",
   "execution_count": null,
   "metadata": {},
   "outputs": [],
   "source": []
  }
 ],
 "metadata": {
  "kernelspec": {
   "display_name": "AoC",
   "language": "python",
   "name": "python3"
  },
  "language_info": {
   "codemirror_mode": {
    "name": "ipython",
    "version": 3
   },
   "file_extension": ".py",
   "mimetype": "text/x-python",
   "name": "python",
   "nbconvert_exporter": "python",
   "pygments_lexer": "ipython3",
   "version": "3.11.6"
  }
 },
 "nbformat": 4,
 "nbformat_minor": 2
}
