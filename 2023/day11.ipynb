{
 "cells": [
  {
   "cell_type": "code",
   "execution_count": null,
   "metadata": {},
   "outputs": [],
   "source": [
    "import itertools"
   ]
  },
  {
   "cell_type": "code",
   "execution_count": null,
   "metadata": {},
   "outputs": [],
   "source": [
    "def expand_rows(grid):\n",
    "    new_grid = []\n",
    "    for row in grid:\n",
    "        new_grid.append(row)\n",
    "        if not \"#\" in row:\n",
    "            new_grid.append(row)\n",
    "    return new_grid"
   ]
  },
  {
   "cell_type": "code",
   "execution_count": null,
   "metadata": {},
   "outputs": [],
   "source": [
    "def transpose(grid):\n",
    "    return [\"\".join(x) for x in zip(*grid)]"
   ]
  },
  {
   "cell_type": "code",
   "execution_count": null,
   "metadata": {},
   "outputs": [],
   "source": [
    "with open(\"day11_input.txt\") as file:\n",
    "    grid = file.read().splitlines()\n",
    "\n",
    "# Create a new and expanded grid\n",
    "GRID = transpose(expand_rows(transpose(expand_rows(grid))))"
   ]
  },
  {
   "cell_type": "markdown",
   "metadata": {},
   "source": [
    "# Part 1\n"
   ]
  },
  {
   "cell_type": "code",
   "execution_count": null,
   "metadata": {},
   "outputs": [],
   "source": [
    "galaxies = []\n",
    "for row, line in enumerate(GRID):\n",
    "    for col, char in enumerate(line):\n",
    "        if char == \"#\":\n",
    "            galaxies.append((row, col))"
   ]
  },
  {
   "cell_type": "code",
   "execution_count": null,
   "metadata": {},
   "outputs": [],
   "source": [
    "def distance(g1, g2):\n",
    "    \"\"\"Manhattan distance between two galaxies.\"\"\"\n",
    "    return abs(g1[0] - g2[0]) + abs(g1[1] - g2[1])"
   ]
  },
  {
   "cell_type": "code",
   "execution_count": null,
   "metadata": {},
   "outputs": [],
   "source": [
    "print(\n",
    "    \"Answer:\",\n",
    "    sum([distance(g1, g2) for g1, g2 in itertools.combinations(galaxies, 2)]),\n",
    ")"
   ]
  },
  {
   "cell_type": "markdown",
   "metadata": {},
   "source": [
    "# Part 2\n"
   ]
  },
  {
   "cell_type": "code",
   "execution_count": null,
   "metadata": {},
   "outputs": [],
   "source": [
    "galaxies_small = []\n",
    "for row, line in enumerate(grid):\n",
    "    for col, char in enumerate(line):\n",
    "        if char == \"#\":\n",
    "            galaxies_small.append((row, col))"
   ]
  },
  {
   "cell_type": "code",
   "execution_count": null,
   "metadata": {},
   "outputs": [],
   "source": [
    "empty_rows, empty_cols = [], []\n",
    "for row, line in enumerate(grid):\n",
    "    if not \"#\" in line:\n",
    "        empty_rows.append(row)\n",
    "for col, line in enumerate(transpose(grid)):\n",
    "    if not \"#\" in line:\n",
    "        empty_cols.append(col)"
   ]
  },
  {
   "cell_type": "code",
   "execution_count": null,
   "metadata": {},
   "outputs": [],
   "source": [
    "exp_factor = 1_000_000 - 1\n",
    "galaxies_big = []\n",
    "for galaxy in galaxies_small:\n",
    "    row = galaxy[0] + exp_factor * sum(erow < galaxy[0] for erow in empty_rows)\n",
    "    col = galaxy[1] + exp_factor * sum(ecol < galaxy[1] for ecol in empty_cols)\n",
    "    galaxies_big.append((row, col))"
   ]
  },
  {
   "cell_type": "code",
   "execution_count": null,
   "metadata": {},
   "outputs": [],
   "source": [
    "print(\n",
    "    \"Answer:\",\n",
    "    sum([distance(g1, g2) for g1, g2 in itertools.combinations(galaxies_big, 2)]),\n",
    ")"
   ]
  },
  {
   "cell_type": "code",
   "execution_count": null,
   "metadata": {},
   "outputs": [],
   "source": []
  }
 ],
 "metadata": {
  "kernelspec": {
   "display_name": "AoC",
   "language": "python",
   "name": "python3"
  },
  "language_info": {
   "codemirror_mode": {
    "name": "ipython",
    "version": 3
   },
   "file_extension": ".py",
   "mimetype": "text/x-python",
   "name": "python",
   "nbconvert_exporter": "python",
   "pygments_lexer": "ipython3",
   "version": "3.11.6"
  }
 },
 "nbformat": 4,
 "nbformat_minor": 2
}
