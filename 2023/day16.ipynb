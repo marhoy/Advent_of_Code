{
 "cells": [
  {
   "cell_type": "code",
   "execution_count": null,
   "metadata": {},
   "outputs": [],
   "source": [
    "from collections import defaultdict\n",
    "from typing import Literal\n",
    "\n",
    "from pydantic import BaseModel"
   ]
  },
  {
   "cell_type": "code",
   "execution_count": null,
   "metadata": {},
   "outputs": [],
   "source": [
    "MAZE = dict()\n",
    "with open(\"day16_input.txt\") as file:\n",
    "    for row, line in enumerate(file):\n",
    "        for col, char in enumerate(line.strip()):\n",
    "            if char in \"/\\\\|-\":\n",
    "                MAZE[(row, col)] = char\n",
    "\n",
    "MAX_ROWS = row\n",
    "MAX_COLS = col"
   ]
  },
  {
   "cell_type": "code",
   "execution_count": null,
   "metadata": {},
   "outputs": [],
   "source": [
    "class Beam(BaseModel):\n",
    "    pos: tuple[int, int]\n",
    "    dir: Literal[\"up\", \"down\", \"left\", \"right\"]\n",
    "\n",
    "    def next_pos(self, max_rows, max_cols) -> tuple[int, int] | None:\n",
    "        row, col = self.pos\n",
    "        match self.dir:\n",
    "            case \"up\":\n",
    "                pos = (row - 1, col)\n",
    "            case \"down\":\n",
    "                pos = (row + 1, col)\n",
    "            case \"left\":\n",
    "                pos = (row, col - 1)\n",
    "            case \"right\":\n",
    "                pos = (row, col + 1)\n",
    "\n",
    "        row, col = pos\n",
    "        if (0 <= row <= max_rows) and (0 <= col <= max_cols):\n",
    "            return pos\n",
    "\n",
    "    def __repr__(self):\n",
    "        return f\"Beam({self.pos}, {self.dir})\""
   ]
  },
  {
   "cell_type": "code",
   "execution_count": null,
   "metadata": {},
   "outputs": [],
   "source": [
    "def find_num_energized(start: Beam) -> int:\n",
    "    energized = defaultdict(set[str])\n",
    "    beams = [start]\n",
    "\n",
    "    while beams:\n",
    "        beam = beams.pop()\n",
    "        while True:\n",
    "            if beam.dir in energized[beam.pos]:\n",
    "                # A beam has already been here, moving in this direction.\n",
    "                # This beam is done.\n",
    "                break\n",
    "\n",
    "            # Mark this position as visited in this direction.\n",
    "            energized[beam.pos].add(beam.dir)\n",
    "\n",
    "            # What is the next position?\n",
    "            next_pos = beam.next_pos(MAX_ROWS, MAX_COLS)\n",
    "            if next_pos is None:\n",
    "                # This beam has left the maze, and is done.\n",
    "                break\n",
    "\n",
    "            # What to do next?\n",
    "            char = MAZE.get(next_pos)\n",
    "\n",
    "            # The beam is being split\n",
    "            if (char == \"|\") and (beam.dir in (\"left\", \"right\")):\n",
    "                # Add two new beams\n",
    "                beams.append(Beam(pos=next_pos, dir=\"up\"))\n",
    "                beams.append(Beam(pos=next_pos, dir=\"down\"))\n",
    "                # This beam is done\n",
    "                break\n",
    "            elif (char == \"-\") and (beam.dir in (\"up\", \"down\")):\n",
    "                # Add two new beams\n",
    "                beams.append(Beam(pos=next_pos, dir=\"left\"))\n",
    "                beams.append(Beam(pos=next_pos, dir=\"right\"))\n",
    "                # This beam is done\n",
    "                break\n",
    "\n",
    "            # The beam is changing direction\n",
    "            elif char == \"/\":\n",
    "                if beam.dir == \"right\":\n",
    "                    beam.dir = \"up\"\n",
    "                elif beam.dir == \"left\":\n",
    "                    beam.dir = \"down\"\n",
    "                elif beam.dir == \"up\":\n",
    "                    beam.dir = \"right\"\n",
    "                elif beam.dir == \"down\":\n",
    "                    beam.dir = \"left\"\n",
    "            elif char == \"\\\\\":\n",
    "                if beam.dir == \"right\":\n",
    "                    beam.dir = \"down\"\n",
    "                elif beam.dir == \"left\":\n",
    "                    beam.dir = \"up\"\n",
    "                elif beam.dir == \"up\":\n",
    "                    beam.dir = \"left\"\n",
    "                elif beam.dir == \"down\":\n",
    "                    beam.dir = \"right\"\n",
    "\n",
    "            # Move the beam to the new position, and continue.\n",
    "            beam.pos = next_pos\n",
    "\n",
    "    # Subtract 1 because the starting position is outside the grid.\n",
    "    return len(energized) - 1"
   ]
  },
  {
   "cell_type": "markdown",
   "metadata": {},
   "source": [
    "# Part 1\n"
   ]
  },
  {
   "cell_type": "code",
   "execution_count": null,
   "metadata": {},
   "outputs": [],
   "source": [
    "print(\"Answer:\", find_num_energized(Beam(pos=(0, -1), dir=\"right\")))"
   ]
  },
  {
   "cell_type": "markdown",
   "metadata": {},
   "source": [
    "# Part 2\n"
   ]
  },
  {
   "cell_type": "code",
   "execution_count": null,
   "metadata": {},
   "outputs": [],
   "source": [
    "# Brute force solution\n",
    "energized = []\n",
    "for row in range(MAX_ROWS + 1):\n",
    "    start = Beam(pos=(row, -1), dir=\"right\")\n",
    "    energized.append(find_num_energized(start))\n",
    "    start = Beam(pos=(row, MAX_COLS + 1), dir=\"left\")\n",
    "    energized.append(find_num_energized(start))\n",
    "\n",
    "for col in range(MAX_COLS + 1):\n",
    "    start = Beam(pos=(-1, col), dir=\"down\")\n",
    "    energized.append(find_num_energized(start))\n",
    "    start = Beam(pos=(MAX_ROWS + 1, col), dir=\"up\")\n",
    "    energized.append(find_num_energized(start))\n",
    "\n",
    "print(\"Answer:\", max(energized))"
   ]
  },
  {
   "cell_type": "code",
   "execution_count": null,
   "metadata": {},
   "outputs": [],
   "source": []
  }
 ],
 "metadata": {
  "kernelspec": {
   "display_name": "AoC",
   "language": "python",
   "name": "python3"
  },
  "language_info": {
   "codemirror_mode": {
    "name": "ipython",
    "version": 3
   },
   "file_extension": ".py",
   "mimetype": "text/x-python",
   "name": "python",
   "nbconvert_exporter": "python",
   "pygments_lexer": "ipython3",
   "version": "3.11.6"
  }
 },
 "nbformat": 4,
 "nbformat_minor": 2
}
