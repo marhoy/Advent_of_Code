{
 "cells": [
  {
   "cell_type": "code",
   "execution_count": null,
   "metadata": {},
   "outputs": [],
   "source": [
    "from pydantic import BaseModel\n",
    "\n",
    "\n",
    "class Cube(BaseModel):\n",
    "    x: int\n",
    "    y: int\n",
    "    z: int\n",
    "\n",
    "    def __repr__(self) -> str:\n",
    "        return f\"({self.x},{self.y},{self.z})\"\n",
    "\n",
    "\n",
    "class Brick(BaseModel):\n",
    "    cubes: list[Cube]\n",
    "    id: int\n",
    "\n",
    "    def lowest_z_value(self) -> int:\n",
    "        return min(c.z for c in self.cubes)\n",
    "\n",
    "    def drop_to_z_value(self, z: int) -> None:\n",
    "        fall_height = self.lowest_z_value() - z\n",
    "        for cube in self.cubes:\n",
    "            cube.z = cube.z - fall_height\n",
    "\n",
    "    @classmethod\n",
    "    def from_string(cls, string: str, id: int) -> \"Brick\":\n",
    "        start, end = string.split(\"~\")\n",
    "        start = tuple(map(int, start.split(\",\")))\n",
    "        end = tuple(map(int, end.split(\",\")))\n",
    "        cubes = []\n",
    "        for x in range(start[0], end[0] + 1):\n",
    "            for y in range(start[1], end[1] + 1):\n",
    "                for z in range(start[2], end[2] + 1):\n",
    "                    cubes.append(Cube(x=x, y=y, z=z))\n",
    "        return cls(cubes=cubes, id=id)"
   ]
  },
  {
   "cell_type": "code",
   "execution_count": null,
   "metadata": {},
   "outputs": [],
   "source": [
    "# Read initial positions from file\n",
    "\n",
    "bricks: list[Brick] = []\n",
    "with open(\"day22_input.txt\") as file:\n",
    "    for i, line in enumerate(file):\n",
    "        bricks.append(Brick.from_string(line.strip(), i))"
   ]
  },
  {
   "cell_type": "code",
   "execution_count": null,
   "metadata": {},
   "outputs": [],
   "source": [
    "# Let all the bricks settle in their lowest possible position\n",
    "\n",
    "grid = dict()\n",
    "for brick in sorted(bricks, key=lambda b: b.lowest_z_value()):\n",
    "    # Can we lower the brick?\n",
    "    current_level = brick.lowest_z_value()\n",
    "    drop_to_level = [1 for _ in brick.cubes]\n",
    "    for i, cube in enumerate(brick.cubes):\n",
    "        for z in range(current_level, 0, -1):\n",
    "            if (cube.x, cube.y, z) in grid:\n",
    "                drop_to_level[i] = z + 1\n",
    "                break\n",
    "\n",
    "    # Drop this brick to its lowest possible level\n",
    "    brick.drop_to_z_value(max(drop_to_level))\n",
    "\n",
    "    # Put the brick cubes into common grid\n",
    "    for cube in brick.cubes:\n",
    "        grid[(cube.x, cube.y, cube.z)] = brick.id"
   ]
  },
  {
   "cell_type": "code",
   "execution_count": null,
   "metadata": {},
   "outputs": [],
   "source": [
    "# Figure out which bricks are supported by which other bricks\n",
    "\n",
    "from collections import defaultdict\n",
    "\n",
    "supported_by = defaultdict(set)\n",
    "is_supporting = defaultdict(set)\n",
    "for brick in bricks:\n",
    "    for cube in brick.cubes:\n",
    "        above = (cube.x, cube.y, cube.z + 1)\n",
    "        if (above in grid) and (grid[above] != brick.id):\n",
    "            is_supporting[brick.id].add(grid[above])\n",
    "            supported_by[grid[above]].add(brick.id)"
   ]
  },
  {
   "cell_type": "markdown",
   "metadata": {},
   "source": [
    "# Part 1\n"
   ]
  },
  {
   "cell_type": "code",
   "execution_count": null,
   "metadata": {},
   "outputs": [],
   "source": [
    "safe_to_remove = 0\n",
    "\n",
    "# For each brick\n",
    "for brick in bricks:\n",
    "    # For each other brick being supported by this brick\n",
    "    for supported in is_supporting[brick.id]:\n",
    "        # Are we the only brick supporting that brick?\n",
    "        if supported_by[supported] == set([brick.id]):\n",
    "            break\n",
    "    else:\n",
    "        safe_to_remove += 1\n",
    "\n",
    "print(\"Answer:\", safe_to_remove)"
   ]
  },
  {
   "cell_type": "markdown",
   "metadata": {},
   "source": [
    "# Part 2\n"
   ]
  },
  {
   "cell_type": "code",
   "execution_count": null,
   "metadata": {},
   "outputs": [],
   "source": [
    "from collections import deque\n",
    "\n",
    "would_fall = 0\n",
    "\n",
    "# For each brick\n",
    "for brick in bricks:\n",
    "    fallen = set()\n",
    "    queue = deque([brick.id])\n",
    "    while queue:\n",
    "        removing = queue.popleft()\n",
    "        # What other bricks are supported by this brick?\n",
    "        for supported in is_supporting[removing]:\n",
    "            # Have all supporting bricks fallen?\n",
    "            if len(supported_by[supported] - {brick.id} - fallen) == 0:\n",
    "                if supported not in fallen:\n",
    "                    fallen.add(supported)\n",
    "                    queue.append(supported)\n",
    "\n",
    "    # We're done with the chain reaction for `brick`. How many bricks fell?\n",
    "    would_fall += len(fallen)\n",
    "\n",
    "print(\"Answer:\", would_fall)"
   ]
  },
  {
   "cell_type": "code",
   "execution_count": null,
   "metadata": {},
   "outputs": [],
   "source": []
  }
 ],
 "metadata": {
  "kernelspec": {
   "display_name": "AoC",
   "language": "python",
   "name": "python3"
  },
  "language_info": {
   "codemirror_mode": {
    "name": "ipython",
    "version": 3
   },
   "file_extension": ".py",
   "mimetype": "text/x-python",
   "name": "python",
   "nbconvert_exporter": "python",
   "pygments_lexer": "ipython3",
   "version": "3.12.1"
  }
 },
 "nbformat": 4,
 "nbformat_minor": 2
}
