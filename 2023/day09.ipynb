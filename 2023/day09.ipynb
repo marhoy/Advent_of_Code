{
 "cells": [
  {
   "cell_type": "code",
   "execution_count": null,
   "metadata": {},
   "outputs": [],
   "source": [
    "import numpy as np"
   ]
  },
  {
   "cell_type": "code",
   "execution_count": null,
   "metadata": {},
   "outputs": [],
   "source": [
    "def find_number(numbers: list[int] | np.ndarray, backwards: bool = False) -> int:\n",
    "    \"\"\"Find the next or previous number in a sequence.\n",
    "\n",
    "    We differentitate the sequence until the difference is constant. The next number is\n",
    "    the last/first number plus/minus the extrapolated difference.\n",
    "    \"\"\"\n",
    "    if all(number == 0 for number in numbers):\n",
    "        return 0\n",
    "    if backwards:\n",
    "        return numbers[0] - find_number(np.diff(numbers), backwards=True)\n",
    "    return numbers[-1] + find_number(np.diff(numbers))"
   ]
  },
  {
   "cell_type": "markdown",
   "metadata": {},
   "source": [
    "# Part 1\n"
   ]
  },
  {
   "cell_type": "code",
   "execution_count": null,
   "metadata": {},
   "outputs": [],
   "source": [
    "total = 0\n",
    "with open(\"day09_input.txt\") as file:\n",
    "    for line in file:\n",
    "        numbers = [int(x) for x in line.split(\" \")]\n",
    "        total += find_number(numbers)\n",
    "\n",
    "print(\"Answer:\", total)"
   ]
  },
  {
   "cell_type": "markdown",
   "metadata": {},
   "source": [
    "# Part 2\n"
   ]
  },
  {
   "cell_type": "code",
   "execution_count": null,
   "metadata": {},
   "outputs": [],
   "source": [
    "total = 0\n",
    "with open(\"day09_input.txt\") as file:\n",
    "    for line in file:\n",
    "        numbers = [int(x) for x in line.split(\" \")]\n",
    "        total += find_number(numbers, backwards=True)\n",
    "\n",
    "print(\"Answer:\", total)"
   ]
  },
  {
   "cell_type": "code",
   "execution_count": null,
   "metadata": {},
   "outputs": [],
   "source": []
  }
 ],
 "metadata": {
  "kernelspec": {
   "display_name": "AoC",
   "language": "python",
   "name": "python3"
  },
  "language_info": {
   "codemirror_mode": {
    "name": "ipython",
    "version": 3
   },
   "file_extension": ".py",
   "mimetype": "text/x-python",
   "name": "python",
   "nbconvert_exporter": "python",
   "pygments_lexer": "ipython3",
   "version": "3.11.6"
  }
 },
 "nbformat": 4,
 "nbformat_minor": 2
}
