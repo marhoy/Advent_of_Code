{
 "cells": [
  {
   "cell_type": "code",
   "execution_count": null,
   "metadata": {},
   "outputs": [],
   "source": [
    "from pathlib import Path\n",
    "\n",
    "type Position = tuple[int, int]"
   ]
  },
  {
   "cell_type": "code",
   "execution_count": null,
   "metadata": {},
   "outputs": [],
   "source": [
    "WALLS = set()\n",
    "\n",
    "with Path(\"day20_input.txt\").open() as file:\n",
    "    for row, line in enumerate(file):\n",
    "        for col, char in enumerate(line.strip()):\n",
    "            if char == \"S\":\n",
    "                START = (row, col)\n",
    "            elif char == \"E\":\n",
    "                END = (row, col)\n",
    "            elif char == \"#\":\n",
    "                WALLS.add((row, col))"
   ]
  },
  {
   "cell_type": "code",
   "execution_count": null,
   "metadata": {},
   "outputs": [],
   "source": [
    "def neighbors(pos, cheat=False):\n",
    "    \"\"\"Find all neighbors of a position that are not walls.\"\"\"\n",
    "    row, col = pos\n",
    "    for dr, dc in ((0, 1), (1, 0), (0, -1), (-1, 0)):\n",
    "        new_pos = (row + dr, col + dc)\n",
    "        if cheat:\n",
    "            yield new_pos\n",
    "        if new_pos not in WALLS:\n",
    "            yield new_pos"
   ]
  },
  {
   "cell_type": "code",
   "execution_count": null,
   "metadata": {},
   "outputs": [],
   "source": [
    "def find_path(pos: Position, end: Position) -> dict[Position, int]:\n",
    "    \"\"\"Traverse the single track path from start to end.\"\"\"\n",
    "    dist, path = 0, {}\n",
    "    while pos != end:\n",
    "        path[pos] = dist\n",
    "        for neighbor in neighbors(pos):\n",
    "            if neighbor not in path:\n",
    "                dist += 1\n",
    "                pos = neighbor\n",
    "    path[end] = dist\n",
    "    return path"
   ]
  },
  {
   "cell_type": "markdown",
   "metadata": {},
   "source": [
    "# Part 1\n",
    "\n",
    "For every step along the path: Can we, by moving one or two steps in any direction\n",
    "(ignoring walls), get to a point that is further along the path than the current point?\n",
    "If so, we have found a shortcut.\n"
   ]
  },
  {
   "cell_type": "code",
   "execution_count": null,
   "metadata": {},
   "outputs": [],
   "source": [
    "def explore(pos: Position, dist: int, steps: int = 2):\n",
    "    \"\"\"Find all positions that could be reached in a given number of steps.\"\"\"\n",
    "    options = {pos: dist}\n",
    "    for _ in range(steps):\n",
    "        for pos, dist in list(options.items()):\n",
    "            for neighbor in neighbors(pos, cheat=True):\n",
    "                if neighbor not in options:\n",
    "                    options[neighbor] = dist + 1\n",
    "    return options"
   ]
  },
  {
   "cell_type": "code",
   "execution_count": null,
   "metadata": {},
   "outputs": [],
   "source": [
    "from collections import defaultdict\n",
    "\n",
    "path = find_path(START, END)\n",
    "\n",
    "shortcuts = defaultdict(int)\n",
    "for pos in path:\n",
    "    options = explore(pos, path[pos])\n",
    "    for option, dist in options.items():\n",
    "        if option in path and path[option] > dist:\n",
    "            saved = path[option] - dist\n",
    "            shortcuts[saved] += 1"
   ]
  },
  {
   "cell_type": "code",
   "execution_count": null,
   "metadata": {},
   "outputs": [],
   "source": [
    "sum(value for key, value in shortcuts.items() if key >= 100)"
   ]
  },
  {
   "cell_type": "markdown",
   "metadata": {},
   "source": [
    "# Part 2\n",
    "\n",
    "Same as in part 1, just increasing the radius of the cheat-exploring to 20 steps.\n"
   ]
  },
  {
   "cell_type": "code",
   "execution_count": null,
   "metadata": {},
   "outputs": [],
   "source": [
    "from collections import defaultdict\n",
    "\n",
    "path = find_path(START, END)\n",
    "\n",
    "shortcuts = defaultdict(int)\n",
    "for pos in path:\n",
    "    options = explore(pos, path[pos], steps=20)\n",
    "    for option, dist in options.items():\n",
    "        if option in path and path[option] > dist:\n",
    "            saved = path[option] - dist\n",
    "            shortcuts[saved] += 1"
   ]
  },
  {
   "cell_type": "code",
   "execution_count": null,
   "metadata": {},
   "outputs": [],
   "source": [
    "sum(value for key, value in shortcuts.items() if key >= 100)"
   ]
  },
  {
   "cell_type": "code",
   "execution_count": null,
   "metadata": {},
   "outputs": [],
   "source": []
  }
 ],
 "metadata": {
  "kernelspec": {
   "display_name": ".venv",
   "language": "python",
   "name": "python3"
  },
  "language_info": {
   "codemirror_mode": {
    "name": "ipython",
    "version": 3
   },
   "file_extension": ".py",
   "mimetype": "text/x-python",
   "name": "python",
   "nbconvert_exporter": "python",
   "pygments_lexer": "ipython3",
   "version": "3.13.1"
  }
 },
 "nbformat": 4,
 "nbformat_minor": 2
}
