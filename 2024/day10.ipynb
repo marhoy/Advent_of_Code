{
 "cells": [
  {
   "cell_type": "code",
   "execution_count": null,
   "metadata": {},
   "outputs": [],
   "source": [
    "from __future__ import annotations\n",
    "\n",
    "from collections.abc import Iterable\n",
    "from pathlib import Path\n",
    "\n",
    "type Position = tuple[int, int]"
   ]
  },
  {
   "cell_type": "code",
   "execution_count": null,
   "metadata": {},
   "outputs": [],
   "source": [
    "MAP: dict[Position, int] = {}\n",
    "with Path(\"day10_input.txt\").open() as f:\n",
    "    for row, line in enumerate(f):\n",
    "        for col, char in enumerate(line.strip()):\n",
    "            height = -1 if char == \".\" else int(char)\n",
    "            MAP[(row, col)] = height"
   ]
  },
  {
   "cell_type": "code",
   "execution_count": null,
   "metadata": {},
   "outputs": [],
   "source": [
    "def valid_neighbors(pos: Position) -> Iterable[Position]:\n",
    "    \"\"\"Find the up/down left/right neighbors of a position.\"\"\"\n",
    "    row, col = pos\n",
    "    candidates = [(row, col - 1), (row, col + 1), (row - 1, col), (row + 1, col)]\n",
    "    for candidate in candidates:\n",
    "        if (candidate in MAP) and (MAP[candidate] == MAP[pos] + 1):\n",
    "            yield candidate"
   ]
  },
  {
   "cell_type": "markdown",
   "metadata": {},
   "source": [
    "# Part 1\n"
   ]
  },
  {
   "cell_type": "code",
   "execution_count": null,
   "metadata": {},
   "outputs": [],
   "source": [
    "def trailhead_score(pos: Position, peaks: set[Position] | None = None) -> int:\n",
    "    \"\"\"Find the number of hiking trails that starts at this position.\"\"\"\n",
    "    if peaks is None:\n",
    "        peaks = set()\n",
    "    if MAP[pos] == 9:\n",
    "        peaks.add(pos)\n",
    "    for neighbor in valid_neighbors(pos):\n",
    "        trailhead_score(neighbor, peaks)\n",
    "    return len(peaks)"
   ]
  },
  {
   "cell_type": "code",
   "execution_count": null,
   "metadata": {},
   "outputs": [],
   "source": [
    "trailhead_scores = {pos: trailhead_score(pos) for pos in MAP if MAP[pos] == 0}\n",
    "sum(trailhead_scores.values())"
   ]
  },
  {
   "cell_type": "markdown",
   "metadata": {},
   "source": [
    "# Part 2\n"
   ]
  },
  {
   "cell_type": "code",
   "execution_count": null,
   "metadata": {},
   "outputs": [],
   "source": [
    "def trailhead_rating(pos: Position) -> int:\n",
    "    \"\"\"Find the number of distinct hiking trails that starts at this position.\"\"\"\n",
    "    rating = 0\n",
    "    if MAP[pos] == 9:\n",
    "        return 1\n",
    "    for neighbor in valid_neighbors(pos):\n",
    "        rating += trailhead_rating(neighbor)\n",
    "    return rating"
   ]
  },
  {
   "cell_type": "code",
   "execution_count": null,
   "metadata": {},
   "outputs": [],
   "source": [
    "trailhead_ratings = {pos: trailhead_rating(pos) for pos in MAP if MAP[pos] == 0}\n",
    "sum(trailhead_ratings.values())"
   ]
  },
  {
   "cell_type": "code",
   "execution_count": null,
   "metadata": {},
   "outputs": [],
   "source": []
  }
 ],
 "metadata": {
  "kernelspec": {
   "display_name": "AoC",
   "language": "python",
   "name": "python3"
  },
  "language_info": {
   "codemirror_mode": {
    "name": "ipython",
    "version": 3
   },
   "file_extension": ".py",
   "mimetype": "text/x-python",
   "name": "python",
   "nbconvert_exporter": "python",
   "pygments_lexer": "ipython3",
   "version": "3.12.6"
  }
 },
 "nbformat": 4,
 "nbformat_minor": 2
}
