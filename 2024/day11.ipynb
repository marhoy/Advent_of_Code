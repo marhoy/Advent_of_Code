{
 "cells": [
  {
   "cell_type": "code",
   "execution_count": null,
   "metadata": {},
   "outputs": [],
   "source": [
    "from __future__ import annotations\n",
    "\n",
    "from collections import Counter\n",
    "from pathlib import Path"
   ]
  },
  {
   "cell_type": "code",
   "execution_count": null,
   "metadata": {},
   "outputs": [],
   "source": [
    "stones = [int(stone) for stone in Path(\"day11_input.txt\").read_text().split(\" \")]\n",
    "stones"
   ]
  },
  {
   "cell_type": "code",
   "execution_count": null,
   "metadata": {},
   "outputs": [],
   "source": [
    "def evolve_part1(stones: list[int]) -> list[int]:\n",
    "    \"\"\"Evolve part 1.\"\"\"\n",
    "    new_stones = []\n",
    "    for stone in stones:\n",
    "        stone_str = str(stone)\n",
    "        if stone == 0:\n",
    "            # Replace 0 with 1\n",
    "            new_stones.append(1)\n",
    "        elif len(stone_str) % 2 == 0:\n",
    "            # Split stone in two\n",
    "            new_stones.extend(\n",
    "                [\n",
    "                    int(stone_str[: len(stone_str) // 2]),\n",
    "                    int(stone_str[len(stone_str) // 2 :]),\n",
    "                ]\n",
    "            )\n",
    "        else:\n",
    "            # Multiply stone by 2024\n",
    "            new_stones.append(stone * 2024)\n",
    "    return new_stones"
   ]
  },
  {
   "cell_type": "markdown",
   "metadata": {},
   "source": [
    "# Part 1\n"
   ]
  },
  {
   "cell_type": "code",
   "execution_count": null,
   "metadata": {},
   "outputs": [],
   "source": [
    "part1_stones = stones[:]\n",
    "for _ in range(25):\n",
    "    part1_stones = evolve_part1(part1_stones)\n",
    "print(len(part1_stones))"
   ]
  },
  {
   "cell_type": "markdown",
   "metadata": {},
   "source": [
    "# Part 2\n",
    "\n",
    "As the number of stones increases, the approach from part 1 doesn't work. But the stone\n",
    "values are repeated a lot: After 25 blinks, I have 200.000 stones, but only 400 unique\n",
    "values. And since the order of the stones doesn't matter, I can just count the number of\n",
    "stones with each value, and then evolve all of them at once.\n"
   ]
  },
  {
   "cell_type": "code",
   "execution_count": null,
   "metadata": {},
   "outputs": [],
   "source": [
    "def evolve_part2(counter: Counter) -> Counter:\n",
    "    \"\"\"Evolve part 2.\"\"\"\n",
    "    new_counter = Counter()\n",
    "    for value, count in counter.items():\n",
    "        str_value = str(value)\n",
    "        div, mod = divmod(len(str_value), 2)\n",
    "        if value == 0:\n",
    "            # Replace 0 with 1. Note: The splitting below could have produced some 1s\n",
    "            # already. So we need to increment, not set the count.\n",
    "            new_counter[1] += count\n",
    "        elif mod == 0:\n",
    "            new_counter[int(str_value[:div])] += count\n",
    "            new_counter[int(str_value[div:])] += count\n",
    "        else:\n",
    "            new_counter[value * 2024] += count\n",
    "    return new_counter"
   ]
  },
  {
   "cell_type": "code",
   "execution_count": null,
   "metadata": {},
   "outputs": [],
   "source": [
    "counter = Counter(stones)\n",
    "for _ in range(75):\n",
    "    counter = evolve_part2(counter)\n",
    "\n",
    "print(sum(counter.values()))"
   ]
  },
  {
   "cell_type": "code",
   "execution_count": null,
   "metadata": {},
   "outputs": [],
   "source": []
  }
 ],
 "metadata": {
  "kernelspec": {
   "display_name": "AoC",
   "language": "python",
   "name": "python3"
  },
  "language_info": {
   "codemirror_mode": {
    "name": "ipython",
    "version": 3
   },
   "file_extension": ".py",
   "mimetype": "text/x-python",
   "name": "python",
   "nbconvert_exporter": "python",
   "pygments_lexer": "ipython3",
   "version": "3.12.1"
  }
 },
 "nbformat": 4,
 "nbformat_minor": 2
}
