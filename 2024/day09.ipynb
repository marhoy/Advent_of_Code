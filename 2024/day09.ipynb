{
 "cells": [
  {
   "cell_type": "code",
   "execution_count": null,
   "metadata": {},
   "outputs": [],
   "source": [
    "from __future__ import annotations\n",
    "\n",
    "from pathlib import Path"
   ]
  },
  {
   "cell_type": "code",
   "execution_count": null,
   "metadata": {},
   "outputs": [],
   "source": [
    "# Read the input file into an iterator\n",
    "disk_map = Path(\"day09_input.txt\").read_text().strip()"
   ]
  },
  {
   "cell_type": "markdown",
   "metadata": {},
   "source": [
    "# Part 1\n",
    "\n",
    "Represent the data as follows:\n",
    "\n",
    "- `blocks`: A list of file block ids, without any spacing. The number of blocks for each\n",
    "  file is given by the size of that file.\n",
    "- `free_space`: A dictionary with key = position and value = space available at that position.\n",
    "\n",
    "When compacting the data, we will just rearrange the blocks in the list and update the\n",
    "`free_space` dictionary.\n"
   ]
  },
  {
   "cell_type": "code",
   "execution_count": null,
   "metadata": {},
   "outputs": [],
   "source": [
    "# Find the blocks and free space on the disk\n",
    "def disk_layout_part1(disk_map: str) -> tuple[list[int], dict[int, int]]:\n",
    "    \"\"\"Get the disk layout from the disk map.\"\"\"\n",
    "    blocks, free_space = [], {}\n",
    "    pos, file_id = 0, 0\n",
    "    for char_num, char in enumerate(disk_map):\n",
    "        size = int(char)\n",
    "        if char_num % 2 == 0:\n",
    "            blocks.extend([file_id] * size)\n",
    "            file_id += 1\n",
    "        else:\n",
    "            free_space[pos] = size\n",
    "        pos += size\n",
    "\n",
    "    return blocks, free_space"
   ]
  },
  {
   "cell_type": "code",
   "execution_count": null,
   "metadata": {},
   "outputs": [],
   "source": [
    "# Compact the disk\n",
    "def compact_part1(blocks: list[int], free_space: dict[int, int]) -> list[int]:\n",
    "    \"\"\"Compact the disk.\"\"\"\n",
    "    for pos, num in free_space.items():\n",
    "        if num == 0:\n",
    "            continue\n",
    "        # print(f\"Moving {num} blocks to {pos}\")\n",
    "        tail = blocks[-num:]\n",
    "        tail.reverse()\n",
    "        # Delete the chunk from the end\n",
    "        del blocks[-num:]\n",
    "        # Insert the reversed chunk at the position\n",
    "        blocks[pos:pos] = tail\n",
    "\n",
    "    return blocks"
   ]
  },
  {
   "cell_type": "code",
   "execution_count": null,
   "metadata": {},
   "outputs": [],
   "source": [
    "def checksum_part1(blocks: list[int]) -> int:\n",
    "    \"\"\"Calculate the checksum of a disk map.\"\"\"\n",
    "    return sum(file_id * pos for pos, file_id in enumerate(blocks))"
   ]
  },
  {
   "cell_type": "code",
   "execution_count": null,
   "metadata": {},
   "outputs": [],
   "source": [
    "blocks, free_space = disk_layout_part1(disk_map)\n",
    "compacted_blocks = compact_part1(blocks, free_space)\n",
    "checksum_part1(compacted_blocks)"
   ]
  },
  {
   "cell_type": "markdown",
   "metadata": {},
   "source": [
    "# Part 2\n",
    "\n",
    "Making new data structures for part 2: Since we're moving whole files: Lets make objects\n",
    "for each file, and for each segment of free space. When moving a file, we can just\n",
    "update its starting position and reduce the amount of free space at that location.\n"
   ]
  },
  {
   "cell_type": "code",
   "execution_count": null,
   "metadata": {},
   "outputs": [],
   "source": [
    "from pydantic import BaseModel\n",
    "\n",
    "\n",
    "class Space(BaseModel):\n",
    "    \"\"\"Free space on the disk.\"\"\"\n",
    "\n",
    "    start_pos: int\n",
    "    size: int\n",
    "\n",
    "    def __lt__(self, other: Space) -> bool:\n",
    "        \"\"\"Sort free space by start position.\"\"\"\n",
    "        return self.start_pos < other.start_pos\n",
    "\n",
    "\n",
    "class File(Space):\n",
    "    \"\"\"A file on the disk.\"\"\"\n",
    "\n",
    "    id: int\n",
    "\n",
    "\n",
    "# Find the blocks and free space on the disk\n",
    "def disk_layout_part2(disk_map: str) -> tuple[list[File], list[Space]]:\n",
    "    \"\"\"Get the disk layout from the disk map.\"\"\"\n",
    "    spaces, files = [], []\n",
    "    pos, file_id = 0, 0\n",
    "    for char_num, char in enumerate(disk_map):\n",
    "        size = int(char)\n",
    "        if char_num % 2 == 0:\n",
    "            files.append(File(id=file_id, start_pos=pos, size=size))\n",
    "            file_id += 1\n",
    "        else:\n",
    "            spaces.append(Space(start_pos=pos, size=size))\n",
    "        pos += size\n",
    "\n",
    "    return files, spaces"
   ]
  },
  {
   "cell_type": "code",
   "execution_count": null,
   "metadata": {},
   "outputs": [],
   "source": [
    "def compact_part2(files: list[File], spaces: list[Space]):\n",
    "    \"\"\"Compact the disk, Part 2.\"\"\"\n",
    "    for file in sorted(files, key=lambda f: f.id, reverse=True):\n",
    "        for space in sorted(spaces):\n",
    "            if space.start_pos > file.start_pos:\n",
    "                # No free space to the left of file\n",
    "                break\n",
    "            if space.size >= file.size:\n",
    "                # print(f\"Moving file {file.id} to {space.start_pos}\")\n",
    "                file.start_pos = space.start_pos\n",
    "                space.start_pos += file.size\n",
    "                space.size -= file.size\n",
    "                # Done moving this file\n",
    "                break"
   ]
  },
  {
   "cell_type": "code",
   "execution_count": null,
   "metadata": {},
   "outputs": [],
   "source": [
    "files, spaces = disk_layout_part2(disk_map)\n",
    "print(f\"There is a total of {len(files):,} files and {len(spaces):,} spaces.\")\n",
    "compact_part2(files, spaces)"
   ]
  },
  {
   "cell_type": "code",
   "execution_count": null,
   "metadata": {},
   "outputs": [],
   "source": [
    "checksum = 0\n",
    "for file in files:\n",
    "    for i in range(file.size):\n",
    "        checksum += file.id * (file.start_pos + i)\n",
    "\n",
    "checksum"
   ]
  },
  {
   "cell_type": "code",
   "execution_count": null,
   "metadata": {},
   "outputs": [],
   "source": []
  }
 ],
 "metadata": {
  "kernelspec": {
   "display_name": "AoC",
   "language": "python",
   "name": "python3"
  },
  "language_info": {
   "codemirror_mode": {
    "name": "ipython",
    "version": 3
   },
   "file_extension": ".py",
   "mimetype": "text/x-python",
   "name": "python",
   "nbconvert_exporter": "python",
   "pygments_lexer": "ipython3",
   "version": "3.12.1"
  }
 },
 "nbformat": 4,
 "nbformat_minor": 2
}
