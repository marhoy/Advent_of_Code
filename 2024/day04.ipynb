{
 "cells": [
  {
   "cell_type": "code",
   "execution_count": null,
   "metadata": {},
   "outputs": [],
   "source": [
    "import re\n",
    "from pathlib import Path"
   ]
  },
  {
   "cell_type": "code",
   "execution_count": null,
   "metadata": {},
   "outputs": [],
   "source": [
    "puzzle_input = Path(\"day04_input.txt\").read_text().strip().split(\"\\n\")\n",
    "\n",
    "puzzle = {}\n",
    "for row, line in enumerate(puzzle_input):\n",
    "    for col, char in enumerate(line):\n",
    "        puzzle[(row, col)] = char\n",
    "MAX_ROW, MAX_COL = row, col\n",
    "MAX_ROW, MAX_COL"
   ]
  },
  {
   "cell_type": "markdown",
   "metadata": {},
   "source": [
    "# Part 1\n"
   ]
  },
  {
   "cell_type": "code",
   "execution_count": null,
   "metadata": {},
   "outputs": [],
   "source": [
    "xmas_count = 0\n",
    "\n",
    "# Horizontal\n",
    "for line in puzzle_input:\n",
    "    xmas_count += len(re.findall(r\"(XMAS)\", line))\n",
    "    xmas_count += len(re.findall(r\"(SAMX)\", line))\n",
    "\n",
    "# Vertical\n",
    "for col in range(MAX_COL + 1):\n",
    "    line = \"\".join(puzzle[(row, col)] for row in range(MAX_ROW + 1))\n",
    "    xmas_count += len(re.findall(r\"(XMAS)\", line))\n",
    "    xmas_count += len(re.findall(r\"(SAMX)\", line))\n",
    "\n",
    "# Diagonals\n",
    "start_row = list(range(MAX_ROW, 0, -1)) + [0] * (MAX_COL + 1)\n",
    "start_col = reversed(start_row)\n",
    "for row, col in zip(start_row, start_col):\n",
    "    points = [(row + i, col + i) for i in range(min(MAX_ROW - row, MAX_COL - col) + 1)]\n",
    "    # print(points)\n",
    "    line = \"\".join(puzzle[point] for point in points)\n",
    "    xmas_count += len(re.findall(r\"(XMAS)\", line))\n",
    "    xmas_count += len(re.findall(r\"(SAMX)\", line))\n",
    "\n",
    "# Anti-diagonals\n",
    "start_row = [0] * (MAX_COL) + list(range(MAX_ROW + 1))\n",
    "start_col = list(range(MAX_ROW + 1)) + [9] * MAX_COL\n",
    "for row, col in zip(start_row, start_col):\n",
    "    points = [(row + i, col - i) for i in range(min(MAX_ROW - row, col) + 1)]\n",
    "    # print(points)\n",
    "    line = \"\".join(puzzle[point] for point in points)\n",
    "    xmas_count += len(re.findall(r\"(XMAS)\", line))\n",
    "    xmas_count += len(re.findall(r\"(SAMX)\", line))\n",
    "\n",
    "xmas_count"
   ]
  },
  {
   "cell_type": "code",
   "execution_count": null,
   "metadata": {},
   "outputs": [],
   "source": []
  }
 ],
 "metadata": {
  "kernelspec": {
   "display_name": "AoC",
   "language": "python",
   "name": "python3"
  },
  "language_info": {
   "codemirror_mode": {
    "name": "ipython",
    "version": 3
   },
   "file_extension": ".py",
   "mimetype": "text/x-python",
   "name": "python",
   "nbconvert_exporter": "python",
   "pygments_lexer": "ipython3",
   "version": "3.12.1"
  }
 },
 "nbformat": 4,
 "nbformat_minor": 2
}
