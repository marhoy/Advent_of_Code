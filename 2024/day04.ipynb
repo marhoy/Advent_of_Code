{
 "cells": [
  {
   "cell_type": "code",
   "execution_count": null,
   "metadata": {},
   "outputs": [],
   "source": [
    "from pathlib import Path\n",
    "\n",
    "import numpy as np"
   ]
  },
  {
   "cell_type": "code",
   "execution_count": null,
   "metadata": {},
   "outputs": [],
   "source": [
    "puzzle_input = Path(\"day04_input.txt\").read_text().strip().split(\"\\n\")\n",
    "\n",
    "array = np.array([list(line) for line in puzzle_input])\n",
    "NUM_ROWS, NUM_COLS = array.shape"
   ]
  },
  {
   "cell_type": "markdown",
   "metadata": {},
   "source": [
    "# Part 1\n"
   ]
  },
  {
   "cell_type": "code",
   "execution_count": null,
   "metadata": {},
   "outputs": [],
   "source": [
    "xmas_count = 0\n",
    "\n",
    "# Horizontal\n",
    "for row in range(NUM_ROWS):\n",
    "    line = \"\".join(array[row, :])\n",
    "    xmas_count += line.count(\"XMAS\")\n",
    "    xmas_count += line.count(\"SAMX\")\n",
    "\n",
    "# Vertical\n",
    "for col in range(NUM_COLS):\n",
    "    line = \"\".join(array[:, col])\n",
    "    xmas_count += line.count(\"XMAS\")\n",
    "    xmas_count += line.count(\"SAMX\")\n",
    "\n",
    "# Diagonal\n",
    "for offset in range(-NUM_ROWS + 1, NUM_COLS - 1):\n",
    "    line = \"\".join(np.diagonal(array, offset=offset))\n",
    "    xmas_count += line.count(\"XMAS\")\n",
    "    xmas_count += line.count(\"SAMX\")\n",
    "\n",
    "# Anti-diagonal\n",
    "for offset in range(-NUM_ROWS + 1, NUM_COLS - 1):\n",
    "    line = \"\".join(np.diagonal(np.fliplr(array), offset=offset))\n",
    "    xmas_count += line.count(\"XMAS\")\n",
    "    xmas_count += line.count(\"SAMX\")\n",
    "\n",
    "xmas_count"
   ]
  },
  {
   "cell_type": "markdown",
   "metadata": {},
   "source": [
    "# Part 2\n"
   ]
  },
  {
   "cell_type": "code",
   "execution_count": null,
   "metadata": {},
   "outputs": [],
   "source": [
    "coordinates_diag = []\n",
    "# Find possible crossing points on the diagonals\n",
    "for offset in range(-NUM_ROWS + 1, NUM_COLS - 1):\n",
    "    line = \"\".join(np.diagonal(array, offset=offset))\n",
    "    possible_indices = [\n",
    "        i + 1  # The A is at index 1\n",
    "        for i in range(len(line))\n",
    "        if line.startswith(\"MAS\", i) or line.startswith(\"SAM\", i)\n",
    "    ]\n",
    "    row_start = max(0, -offset)\n",
    "    coordinates_diag.extend(\n",
    "        [(row_start + i, row_start + offset + i) for i in possible_indices]\n",
    "    )"
   ]
  },
  {
   "cell_type": "code",
   "execution_count": null,
   "metadata": {},
   "outputs": [],
   "source": [
    "coordinates_anti_diag = []\n",
    "# Find possible crossing points on the anti-diagonals\n",
    "for offset in range(-NUM_ROWS + 1, NUM_COLS - 1):\n",
    "    line = \"\".join(np.diagonal(np.fliplr(array), offset=offset))\n",
    "    possible_indices = [\n",
    "        i + 1  # The A is at index 1\n",
    "        for i in range(len(line))\n",
    "        if line.startswith(\"MAS\", i) or line.startswith(\"SAM\", i)\n",
    "    ]\n",
    "    row_start = max(0, -offset)\n",
    "    coordinates_anti_diag.extend(\n",
    "        [\n",
    "            (row_start + i, NUM_COLS - 1 - (row_start + offset + i))\n",
    "            for i in possible_indices\n",
    "        ]\n",
    "    )"
   ]
  },
  {
   "cell_type": "code",
   "execution_count": null,
   "metadata": {},
   "outputs": [],
   "source": [
    "# The crossing points are the intersection of the two sets\n",
    "len(set(coordinates_diag) & set(coordinates_anti_diag))"
   ]
  },
  {
   "cell_type": "code",
   "execution_count": null,
   "metadata": {},
   "outputs": [],
   "source": []
  }
 ],
 "metadata": {
  "kernelspec": {
   "display_name": "AoC",
   "language": "python",
   "name": "python3"
  },
  "language_info": {
   "codemirror_mode": {
    "name": "ipython",
    "version": 3
   },
   "file_extension": ".py",
   "mimetype": "text/x-python",
   "name": "python",
   "nbconvert_exporter": "python",
   "pygments_lexer": "ipython3",
   "version": "3.12.6"
  }
 },
 "nbformat": 4,
 "nbformat_minor": 2
}
