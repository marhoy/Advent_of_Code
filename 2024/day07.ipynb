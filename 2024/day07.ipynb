{
 "cells": [
  {
   "cell_type": "code",
   "execution_count": null,
   "metadata": {},
   "outputs": [],
   "source": [
    "from __future__ import annotations\n",
    "\n",
    "import re\n",
    "from pathlib import Path"
   ]
  },
  {
   "cell_type": "code",
   "execution_count": null,
   "metadata": {},
   "outputs": [],
   "source": [
    "equations = []\n",
    "\n",
    "with Path(\"day07_input.txt\").open() as file:\n",
    "    for line in file:\n",
    "        if numbers := re.findall(r\"(\\d+)\", line):\n",
    "            equations.append(list(map(int, numbers)))"
   ]
  },
  {
   "cell_type": "markdown",
   "metadata": {},
   "source": [
    "I initially tried a brute force combinatorial approach, trying all possible combinations\n",
    "of operators. But it is a bit slow, especially for the second part.\n",
    "\n",
    "A more elegant idea is to start from the right end of the numbers:\n",
    "\n",
    "- If the expected value is divisible by the last number, we guess that the last operator\n",
    "  is multiplication. We divide the expected value by the last number and continue\n",
    "  recursively with the rest of the numbers.\n",
    "- If we can subtract the last number from the expected value, we guess that the last\n",
    "  operator is addition. We subtract the last number from the expected value and continue\n",
    "  with the rest of the numbers.\n",
    "\n",
    "...and for Part 2:\n",
    "\n",
    "- If the expected value ends with the last number, we guess that the last operator is\n",
    "  concatenation. We remove the last number from the expected value and continue with the\n",
    "  rest of the numbers.\n"
   ]
  },
  {
   "cell_type": "code",
   "execution_count": null,
   "metadata": {},
   "outputs": [],
   "source": [
    "def is_solvable(expected: int, numbers: list[int], is_part2: bool) -> bool:\n",
    "    \"\"\"Check if the equation is solvable.\"\"\"\n",
    "    # Base recursive case: If there is only one number left in the list, it must be\n",
    "    # equal to the expected value. Otherwise, this branch failed.\n",
    "    if len(numbers) == 1:\n",
    "        return numbers[0] == expected\n",
    "\n",
    "    # Pop the last number from the list.\n",
    "    last = numbers.pop()\n",
    "\n",
    "    # Division / multiplication\n",
    "    if (\n",
    "        (last != 0)\n",
    "        and (expected % last == 0)\n",
    "        and is_solvable(expected // last, numbers[:], is_part2)\n",
    "    ):\n",
    "        return True\n",
    "\n",
    "    # Subtraction / addition\n",
    "    if (expected - last >= 0) and is_solvable(expected - last, numbers[:], is_part2):\n",
    "        return True\n",
    "\n",
    "    # Chopping / concatenation\n",
    "    str_expected = str(expected)\n",
    "    str_last = str(last)\n",
    "    if (  # noqa: SIM103\n",
    "        is_part2\n",
    "        and len(str_expected) - len(str_last) > 0  # There must be something left.\n",
    "        and str_expected.endswith(str_last)\n",
    "        and is_solvable(int(str_expected.removesuffix(str_last)), numbers[:], is_part2)\n",
    "    ):\n",
    "        return True\n",
    "\n",
    "    # None of the above worked, this equation is not solvable.\n",
    "    return False"
   ]
  },
  {
   "cell_type": "markdown",
   "metadata": {},
   "source": [
    "# Part 1\n"
   ]
  },
  {
   "cell_type": "code",
   "execution_count": null,
   "metadata": {},
   "outputs": [],
   "source": [
    "%%time\n",
    "\n",
    "solution = 0\n",
    "for equation in equations:\n",
    "    expected, *numbers = equation\n",
    "    if is_solvable(expected, numbers, is_part2=False):\n",
    "        solution += expected\n",
    "\n",
    "solution"
   ]
  },
  {
   "cell_type": "markdown",
   "metadata": {},
   "source": [
    "# Part 2\n"
   ]
  },
  {
   "cell_type": "code",
   "execution_count": null,
   "metadata": {},
   "outputs": [],
   "source": [
    "%%time\n",
    "\n",
    "solution = 0\n",
    "for equation in equations:\n",
    "    expected, *numbers = equation\n",
    "    if is_solvable(expected, numbers, is_part2=True):\n",
    "        solution += expected\n",
    "solution"
   ]
  },
  {
   "cell_type": "code",
   "execution_count": null,
   "metadata": {},
   "outputs": [],
   "source": []
  }
 ],
 "metadata": {
  "kernelspec": {
   "display_name": "AoC",
   "language": "python",
   "name": "python3"
  },
  "language_info": {
   "codemirror_mode": {
    "name": "ipython",
    "version": 3
   },
   "file_extension": ".py",
   "mimetype": "text/x-python",
   "name": "python",
   "nbconvert_exporter": "python",
   "pygments_lexer": "ipython3",
   "version": "3.12.6"
  }
 },
 "nbformat": 4,
 "nbformat_minor": 2
}
