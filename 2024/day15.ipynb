{
 "cells": [
  {
   "cell_type": "code",
   "execution_count": null,
   "metadata": {},
   "outputs": [],
   "source": [
    "from __future__ import annotations\n",
    "\n",
    "from pathlib import Path\n",
    "from typing import Literal, cast\n",
    "\n",
    "type Position = tuple[int, int]\n",
    "type Direction = Literal[\"<\", \">\", \"^\", \"v\"]"
   ]
  },
  {
   "cell_type": "code",
   "execution_count": null,
   "metadata": {},
   "outputs": [],
   "source": [
    "def position_in_direction(position: Position, direction: Direction) -> Position:\n",
    "    \"\"\"Return the position in the given direction from the given position.\"\"\"\n",
    "    row, col = position\n",
    "    dirmap = {\"<\": (0, -1), \">\": (0, 1), \"^\": (-1, 0), \"v\": (1, 0)}\n",
    "    drow, dcol = dirmap[direction]\n",
    "    return (row + drow, col + dcol)"
   ]
  },
  {
   "cell_type": "code",
   "execution_count": null,
   "metadata": {},
   "outputs": [],
   "source": [
    "class Box:\n",
    "    \"\"\"A box in the warehouse.\"\"\"\n",
    "\n",
    "    def __init__(self, position: Position, part2: bool = False) -> None:\n",
    "        \"\"\"Initialize a box at the given position.\"\"\"\n",
    "        self.position = position\n",
    "        self.part2 = part2\n",
    "\n",
    "    def move(self, direction: Direction) -> None:\n",
    "        \"\"\"Move the box in the given direction.\"\"\"\n",
    "        self.position = position_in_direction(self.position, direction)\n",
    "\n",
    "    def is_blocked(self, direction: Direction, walls: set[Position]) -> bool:\n",
    "        \"\"\"Check if the box is blocked in the given direction by walls.\"\"\"\n",
    "        return any(\n",
    "            position_in_direction(point, direction) in walls\n",
    "            for point in self.coordinates\n",
    "        )\n",
    "\n",
    "    def touching_other_boxes(\n",
    "        self, direction: Direction, others: list[Box]\n",
    "    ) -> list[Box]:\n",
    "        \"\"\"Return the boxes touching this box in the given direction.\"\"\"\n",
    "        touching = set()\n",
    "        for other in others:\n",
    "            for point in self.coordinates:\n",
    "                if position_in_direction(point, direction) in other.coordinates:\n",
    "                    touching.add(other)\n",
    "        return list(touching)\n",
    "\n",
    "    @property\n",
    "    def gps_coordinates(self) -> int:\n",
    "        \"\"\"Return the GPS coordinates of the box.\"\"\"\n",
    "        row, col = self.position\n",
    "        return 100 * row + col\n",
    "\n",
    "    @property\n",
    "    def coordinates(self) -> set[Position]:\n",
    "        \"\"\"Return all the coordinates of the box.\"\"\"\n",
    "        if not self.part2:\n",
    "            return {self.position}\n",
    "        row, col = self.position\n",
    "        return {(row, col), (row, col + 1)}"
   ]
  },
  {
   "cell_type": "code",
   "execution_count": null,
   "metadata": {},
   "outputs": [],
   "source": [
    "class Robot:\n",
    "    \"\"\"A robot that can move around the map and push boxes.\"\"\"\n",
    "\n",
    "    def __init__(\n",
    "        self, position: Position, walls: set[Position], boxes: list[Box]\n",
    "    ) -> None:\n",
    "        \"\"\"Initialize the robot at the given position.\"\"\"\n",
    "        self.position = position\n",
    "        self.walls = walls\n",
    "        self.boxes = boxes\n",
    "\n",
    "    def move(self, direction: Direction) -> None:\n",
    "        \"\"\"Move the robot in the given direction.\"\"\"\n",
    "        move_boxes = self.can_move_in_direction(direction)\n",
    "        if move_boxes is not None:\n",
    "            for box in reversed(move_boxes):\n",
    "                box.move(direction)\n",
    "            self.position = position_in_direction(self.position, direction)\n",
    "\n",
    "    def can_move_in_direction(self, direction: Direction) -> None | list[Box]:\n",
    "        \"\"\"Can we move in this direction? What boxes would be pushed?\"\"\"\n",
    "        # If it is possible to move in the given direction, return the positions of the\n",
    "        # boxes that would be pushed. Otherwise return None.\"\"\"\n",
    "        new_position = position_in_direction(self.position, direction)\n",
    "        move_boxes = self.find_colliding_boxes(direction)\n",
    "        if new_position in self.walls:\n",
    "            return None\n",
    "        if any(box.is_blocked(direction, self.walls) for box in move_boxes):\n",
    "            return None\n",
    "        return move_boxes\n",
    "\n",
    "    def find_colliding_boxes(self, direction: Direction) -> list[Box]:\n",
    "        \"\"\"Find all boxes that would collide if we moved in the given direction.\"\"\"\n",
    "        colliding: list[Box] = []\n",
    "        queue: list[Box] = []\n",
    "        new_position = position_in_direction(self.position, direction)\n",
    "        for box in self.boxes:\n",
    "            if new_position in box.coordinates:\n",
    "                colliding.append(box)\n",
    "                queue.append(box)\n",
    "        while queue:\n",
    "            box = queue.pop()\n",
    "            if others := box.touching_other_boxes(direction, self.boxes):\n",
    "                for other in others:\n",
    "                    if other in colliding:\n",
    "                        continue\n",
    "                    colliding.append(other)\n",
    "                    queue.append(other)\n",
    "        return colliding"
   ]
  },
  {
   "cell_type": "code",
   "execution_count": null,
   "metadata": {},
   "outputs": [],
   "source": [
    "def read_input() -> tuple[Robot, list[Direction]]:\n",
    "    \"\"\"Read the input for part 1.\"\"\"\n",
    "    with Path(\"day15_input.txt\").open() as file:\n",
    "        walls: set[Position] = set()\n",
    "        boxes: list[Box] = []\n",
    "        directions: list[Direction] = []\n",
    "        for row, line in enumerate(file):\n",
    "            if line.startswith(\"#\"):\n",
    "                for col, char in enumerate(line):\n",
    "                    if char == \"#\":\n",
    "                        walls.add((row, col))\n",
    "                    elif char == \"O\":\n",
    "                        boxes.append(Box((row, col)))\n",
    "                    elif char == \"@\":\n",
    "                        robot_pos = (row, col)\n",
    "            elif line[0] in \"<>^v\":\n",
    "                directions.extend(cast(list[Direction], list(line.strip())))\n",
    "\n",
    "    return Robot(robot_pos, walls, boxes), directions"
   ]
  },
  {
   "cell_type": "markdown",
   "metadata": {},
   "source": [
    "# Part 1\n"
   ]
  },
  {
   "cell_type": "code",
   "execution_count": null,
   "metadata": {},
   "outputs": [],
   "source": [
    "robot, directions = read_input()\n",
    "\n",
    "for direction in directions:\n",
    "    robot.move(direction)\n",
    "\n",
    "sum(box.gps_coordinates for box in robot.boxes)"
   ]
  },
  {
   "cell_type": "markdown",
   "metadata": {},
   "source": [
    "# Part 2\n"
   ]
  },
  {
   "cell_type": "code",
   "execution_count": null,
   "metadata": {},
   "outputs": [],
   "source": [
    "def read_input_part2() -> tuple[Robot, list[Direction]]:\n",
    "    \"\"\"Read the input for part 2.\"\"\"\n",
    "    walls: set[Position] = set()\n",
    "    boxes: list[Box] = []\n",
    "    directions: list[Direction] = []\n",
    "    with Path(\"day15_input.txt\").open() as file:\n",
    "        for row, line in enumerate(file):\n",
    "            if line.startswith(\"#\"):\n",
    "                for col, char in enumerate(line):\n",
    "                    if char == \"#\":\n",
    "                        walls.add((row, col * 2))\n",
    "                        walls.add((row, col * 2 + 1))\n",
    "                    elif char == \"O\":\n",
    "                        boxes.append(Box((row, col * 2), part2=True))\n",
    "                    elif char == \"@\":\n",
    "                        robot_pos = (row, col * 2)\n",
    "            elif line[0] in \"<>^v\":\n",
    "                directions.extend(cast(list[Direction], list(line.strip())))\n",
    "\n",
    "    return Robot(robot_pos, walls, boxes), directions"
   ]
  },
  {
   "cell_type": "code",
   "execution_count": null,
   "metadata": {},
   "outputs": [],
   "source": [
    "robot, directions = read_input_part2()\n",
    "\n",
    "for direction in directions:\n",
    "    robot.move(direction)\n",
    "\n",
    "sum(box.gps_coordinates for box in robot.boxes)"
   ]
  },
  {
   "cell_type": "markdown",
   "metadata": {},
   "source": [
    "# Debugging\n"
   ]
  },
  {
   "cell_type": "code",
   "execution_count": null,
   "metadata": {},
   "outputs": [],
   "source": [
    "def print_grid(robot: Robot) -> None:\n",
    "    \"\"\"Print the grid with the robot and boxes.\"\"\"\n",
    "    for row in range(10):\n",
    "        for col in range(20):\n",
    "            if (row, col) in robot.walls:\n",
    "                print(\"#\", end=\"\")\n",
    "            elif (row, col) == robot.position:\n",
    "                print(\"@\", end=\"\")\n",
    "            elif any((row, col) in box.coordinates for box in robot.boxes):\n",
    "                print(\"O\", end=\"\")\n",
    "            else:\n",
    "                print(\".\", end=\"\")\n",
    "        print(\"\")\n",
    "    print(\"\")"
   ]
  },
  {
   "cell_type": "code",
   "execution_count": null,
   "metadata": {},
   "outputs": [],
   "source": [
    "robot, directions = read_input_part2()\n",
    "print_grid(robot)"
   ]
  },
  {
   "cell_type": "code",
   "execution_count": null,
   "metadata": {},
   "outputs": [],
   "source": [
    "robot, directions = read_input_part2()\n",
    "print_grid(robot)\n",
    "for direction in directions:\n",
    "    print(\"Move in direction\", direction)\n",
    "    robot.move(direction)\n",
    "    print_grid(robot)"
   ]
  },
  {
   "cell_type": "code",
   "execution_count": null,
   "metadata": {},
   "outputs": [],
   "source": []
  },
  {
   "cell_type": "code",
   "execution_count": null,
   "metadata": {},
   "outputs": [],
   "source": []
  }
 ],
 "metadata": {
  "kernelspec": {
   "display_name": ".venv",
   "language": "python",
   "name": "python3"
  },
  "language_info": {
   "codemirror_mode": {
    "name": "ipython",
    "version": 3
   },
   "file_extension": ".py",
   "mimetype": "text/x-python",
   "name": "python",
   "nbconvert_exporter": "python",
   "pygments_lexer": "ipython3",
   "version": "3.13.1"
  }
 },
 "nbformat": 4,
 "nbformat_minor": 2
}
