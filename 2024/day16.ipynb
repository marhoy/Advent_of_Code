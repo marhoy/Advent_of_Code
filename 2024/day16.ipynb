{
 "cells": [
  {
   "cell_type": "code",
   "execution_count": null,
   "metadata": {},
   "outputs": [],
   "source": [
    "import heapq\n",
    "from pathlib import Path\n",
    "from typing import Literal\n",
    "\n",
    "type Position = tuple[int, int]\n",
    "type Direction = Literal[\"N\", \"E\", \"W\", \"S\"]\n",
    "type State = tuple[Position, Direction]\n",
    "\n",
    "DIRECTIONS: list[Direction] = [\"N\", \"E\", \"W\", \"S\"]"
   ]
  },
  {
   "cell_type": "code",
   "execution_count": null,
   "metadata": {},
   "outputs": [],
   "source": [
    "WALLS: set[Position] = set()\n",
    "facing: Direction = \"E\"\n",
    "\n",
    "with Path(\"day16_input.txt\").open() as file:\n",
    "    for row, line in enumerate(file):\n",
    "        for col, char in enumerate(line.strip()):\n",
    "            if char == \"S\":\n",
    "                START = (row, col)\n",
    "            elif char == \"E\":\n",
    "                END = (row, col)\n",
    "            elif char == \"#\":\n",
    "                WALLS.add((row, col))"
   ]
  },
  {
   "cell_type": "code",
   "execution_count": null,
   "metadata": {},
   "outputs": [],
   "source": [
    "def neighbors_with_cost(state: State) -> list[tuple[State, int]]:\n",
    "    \"\"\"Find possible neighbors with corresponding scores.\n",
    "\n",
    "    Returns: list of (neighbor, facing, score) tuples.\n",
    "    \"\"\"\n",
    "    (row, col), facing = state\n",
    "    possible = []\n",
    "    for direction in DIRECTIONS:\n",
    "        score = 1 if direction == facing else 1001\n",
    "        if direction == \"N\":\n",
    "            neighbor = (row - 1, col)\n",
    "        elif direction == \"E\":\n",
    "            neighbor = (row, col + 1)\n",
    "        elif direction == \"S\":\n",
    "            neighbor = (row + 1, col)\n",
    "        elif direction == \"W\":\n",
    "            neighbor = (row, col - 1)\n",
    "        if neighbor not in WALLS:\n",
    "            possible.append(((neighbor, direction), score))\n",
    "    return possible"
   ]
  },
  {
   "cell_type": "markdown",
   "metadata": {},
   "source": [
    "# Part 1\n"
   ]
  },
  {
   "cell_type": "code",
   "execution_count": null,
   "metadata": {},
   "outputs": [],
   "source": [
    "def find_cost_dijkstra(\n",
    "    start_state: State, end: Position\n",
    ") -> tuple[State, int, dict[State, set[State]]]:\n",
    "    \"\"\"Use Dijkstras algorithm to find the path with the lowest cost.\"\"\"\n",
    "    visited = set()\n",
    "    previous: dict[State, set[State]] = {start_state: set()}\n",
    "    scores = {start_state: 0}\n",
    "    queue = [(0, start_state)]\n",
    "\n",
    "    while queue:\n",
    "        # Get the position with the lowest score\n",
    "        score, state = heapq.heappop(queue)\n",
    "        if state in visited:\n",
    "            continue\n",
    "        visited.add(state)\n",
    "        # Check if it is better to go through this state\n",
    "        for new_state, added_score in neighbors_with_cost(state):\n",
    "            if new_state not in visited:\n",
    "                new_score = score + added_score\n",
    "                if new_score < scores.get(new_state, float(\"inf\")):\n",
    "                    scores[new_state] = new_score\n",
    "                    previous[new_state] = {state}\n",
    "                    heapq.heappush(queue, (new_score, new_state))\n",
    "                if new_score == scores.get(new_state, float(\"inf\")):\n",
    "                    # Also store equally good path alternatives (part 2)\n",
    "                    previous[new_state].add(state)\n",
    "\n",
    "    # The end can be reached from multiple directions, find the best one\n",
    "    end_scores: dict[State, int] = {\n",
    "        (end, direction): scores[(end, direction)]\n",
    "        for direction in DIRECTIONS\n",
    "        if scores.get((end, direction)) is not None\n",
    "    }\n",
    "    solution_state = min(end_scores, key=end_scores.get)\n",
    "\n",
    "    return solution_state, scores[solution_state], previous"
   ]
  },
  {
   "cell_type": "code",
   "execution_count": null,
   "metadata": {},
   "outputs": [],
   "source": [
    "end_state, score, previous = find_cost_dijkstra((START, facing), END)\n",
    "end_state, score"
   ]
  },
  {
   "cell_type": "markdown",
   "metadata": {},
   "source": [
    "# Part 2\n"
   ]
  },
  {
   "cell_type": "code",
   "execution_count": null,
   "metadata": {},
   "outputs": [],
   "source": [
    "# Backtrack all the previous states from the solution\n",
    "queue = [end_state]\n",
    "on_a_best_path = set()\n",
    "while queue:\n",
    "    tail = queue.pop()\n",
    "    on_a_best_path.add(tail[0])\n",
    "    for prev in previous[tail]:\n",
    "        queue.append(prev)"
   ]
  },
  {
   "cell_type": "code",
   "execution_count": null,
   "metadata": {},
   "outputs": [],
   "source": [
    "len(on_a_best_path)"
   ]
  },
  {
   "cell_type": "code",
   "execution_count": null,
   "metadata": {},
   "outputs": [],
   "source": []
  }
 ],
 "metadata": {
  "kernelspec": {
   "display_name": ".venv",
   "language": "python",
   "name": "python3"
  },
  "language_info": {
   "codemirror_mode": {
    "name": "ipython",
    "version": 3
   },
   "file_extension": ".py",
   "mimetype": "text/x-python",
   "name": "python",
   "nbconvert_exporter": "python",
   "pygments_lexer": "ipython3",
   "version": "3.13.1"
  }
 },
 "nbformat": 4,
 "nbformat_minor": 2
}
