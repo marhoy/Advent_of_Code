{
 "cells": [
  {
   "cell_type": "code",
   "execution_count": null,
   "metadata": {},
   "outputs": [],
   "source": [
    "import re\n",
    "from pathlib import Path\n",
    "\n",
    "from sympy import Matrix, ones"
   ]
  },
  {
   "cell_type": "code",
   "execution_count": null,
   "metadata": {},
   "outputs": [],
   "source": [
    "# Parse input into linear equations of the for Ax = b\n",
    "equations = []\n",
    "for line in Path(\"day13_input.txt\").read_text().splitlines():\n",
    "    if line.startswith(\"Button A\"):\n",
    "        A11, A21 = map(int, re.findall(r\"\\d+\", line))\n",
    "    elif line.startswith(\"Button B\"):\n",
    "        A12, A22 = map(int, re.findall(r\"\\d+\", line))\n",
    "    elif line.startswith(\"Prize\"):\n",
    "        b1, b2 = map(int, re.findall(r\"\\d+\", line))\n",
    "        equations.append((Matrix([[A11, A12], [A21, A22]]), Matrix([b1, b2])))\n",
    "\n",
    "cost = Matrix([3, 1])"
   ]
  },
  {
   "cell_type": "markdown",
   "metadata": {},
   "source": [
    "# Part 1\n",
    "\n",
    "This is just a linear equation system that either has a unique solution, no solution or\n",
    "infinite solutions. In the cases where it has a unique solution, we just want to know\n",
    "whether the solution is an integer or not.\n",
    "\n",
    "All of my inputs have a unique solution, and none of them requires more than 100 pushes\n",
    "of a button. So there's a lot of information that I don't need to use(?).\n"
   ]
  },
  {
   "cell_type": "code",
   "execution_count": null,
   "metadata": {},
   "outputs": [],
   "source": [
    "tokens = 0\n",
    "for A, b in equations:\n",
    "    x = A.solve(b)\n",
    "    if (x % 1).is_zero_matrix:\n",
    "        tokens += x.dot(cost)\n",
    "\n",
    "print(tokens)"
   ]
  },
  {
   "cell_type": "markdown",
   "metadata": {},
   "source": [
    "# Part 2\n",
    "\n",
    "...still just a linear equation system.\n"
   ]
  },
  {
   "cell_type": "code",
   "execution_count": null,
   "metadata": {},
   "outputs": [],
   "source": [
    "tokens = 0\n",
    "for A, b in equations:\n",
    "    b = b + 10000000000000 * ones(*b.shape)\n",
    "    x = A.solve(b)\n",
    "    if (x % 1).is_zero_matrix:\n",
    "        tokens += x.dot(cost)\n",
    "\n",
    "print(tokens)"
   ]
  },
  {
   "cell_type": "code",
   "execution_count": null,
   "metadata": {},
   "outputs": [],
   "source": []
  }
 ],
 "metadata": {
  "kernelspec": {
   "display_name": ".venv",
   "language": "python",
   "name": "python3"
  },
  "language_info": {
   "codemirror_mode": {
    "name": "ipython",
    "version": 3
   },
   "file_extension": ".py",
   "mimetype": "text/x-python",
   "name": "python",
   "nbconvert_exporter": "python",
   "pygments_lexer": "ipython3",
   "version": "3.13.1"
  }
 },
 "nbformat": 4,
 "nbformat_minor": 2
}
