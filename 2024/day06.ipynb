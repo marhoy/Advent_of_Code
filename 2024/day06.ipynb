{
 "cells": [
  {
   "cell_type": "code",
   "execution_count": null,
   "metadata": {},
   "outputs": [],
   "source": [
    "from __future__ import annotations\n",
    "\n",
    "import itertools\n",
    "from pathlib import Path"
   ]
  },
  {
   "cell_type": "code",
   "execution_count": null,
   "metadata": {},
   "outputs": [],
   "source": [
    "type Position = tuple[int, int]\n",
    "type Grid = dict[Position, str]\n",
    "\n",
    "\n",
    "class Guard:\n",
    "    \"\"\"A guard that moves around a grid, turning right when blocked.\"\"\"\n",
    "\n",
    "    def __init__(self, pos: Position, extra_obstruction: Position | None = None):\n",
    "        \"\"\"Create a guard at the given position, with a given heading.\"\"\"\n",
    "        self.pos = pos\n",
    "        self.headings = itertools.cycle([\"^\", \">\", \"v\", \"<\"])\n",
    "        self.heading = next(self.headings)\n",
    "        self.visited: set[tuple[Position, str]] = set()\n",
    "        self.extra_obstruction = extra_obstruction\n",
    "\n",
    "    def on_map(self, grid: Grid) -> bool:\n",
    "        \"\"\"Return True if the guard is on the grid.\"\"\"\n",
    "        return self.pos in grid\n",
    "\n",
    "    def next_pos(self) -> Position:\n",
    "        \"\"\"Return the position the guard will move to next.\"\"\"\n",
    "        row, col = self.pos\n",
    "        if self.heading == \"^\":\n",
    "            return row - 1, col\n",
    "        if self.heading == \">\":\n",
    "            return row, col + 1\n",
    "        if self.heading == \"v\":\n",
    "            return row + 1, col\n",
    "        if self.heading == \"<\":\n",
    "            return row, col - 1\n",
    "        raise ValueError(f\"Invalid heading: {self.heading}\")\n",
    "\n",
    "    def is_blocked(self, grid: Grid) -> bool:\n",
    "        \"\"\"Return True if the guard is blocked from moving forward.\"\"\"\n",
    "        next_pos = self.next_pos()\n",
    "        return grid.get(next_pos) == \"#\" or next_pos == self.extra_obstruction\n",
    "\n",
    "    def move_or_turn(self, grid: Grid):\n",
    "        \"\"\"If blocked, turn right. Otherwise, move one step forward.\"\"\"\n",
    "        if (self.pos, self.heading) in self.visited:\n",
    "            # For part 2\n",
    "            raise RecursionError(\"Guard is stuck in a loop\")\n",
    "        self.visited.add((self.pos, self.heading))\n",
    "        if self.is_blocked(grid):\n",
    "            self.heading = next(self.headings)\n",
    "        else:\n",
    "            self.pos = self.next_pos()"
   ]
  },
  {
   "cell_type": "code",
   "execution_count": null,
   "metadata": {},
   "outputs": [],
   "source": [
    "# Read the input\n",
    "grid: Grid = {}\n",
    "\n",
    "with Path(\"day06_input.txt\").open() as file:\n",
    "    for row, line in enumerate(file):\n",
    "        for col, char in enumerate(line.strip()):\n",
    "            pos = row, col\n",
    "            grid[pos] = char\n",
    "            if char not in \".#\":\n",
    "                guard_start_pos = row, col"
   ]
  },
  {
   "cell_type": "markdown",
   "metadata": {},
   "source": [
    "# Part 1\n"
   ]
  },
  {
   "cell_type": "code",
   "execution_count": null,
   "metadata": {},
   "outputs": [],
   "source": [
    "# Move the guard until it walks off the grid.\n",
    "guard = Guard(guard_start_pos)\n",
    "while guard.on_map(grid):\n",
    "    guard.move_or_turn(grid)\n",
    "\n",
    "# Number of unique positions visited by the guard.\n",
    "visited_positions = {pos for pos, _heading in guard.visited}\n",
    "\n",
    "len(visited_positions)"
   ]
  },
  {
   "cell_type": "markdown",
   "metadata": {},
   "source": [
    "# Part 2\n"
   ]
  },
  {
   "cell_type": "code",
   "execution_count": null,
   "metadata": {},
   "outputs": [],
   "source": [
    "obstruction_positions = []\n",
    "for extra_obstruction in visited_positions:\n",
    "    # Try placing an obstruction at each visited position from the original run, and\n",
    "    # then re-run the guard from its starting position. See if that causes the guard to\n",
    "    # get stuck in a loop.\n",
    "    try:\n",
    "        guard = Guard(guard_start_pos, extra_obstruction)\n",
    "        while guard.on_map(grid):\n",
    "            guard.move_or_turn(grid)\n",
    "    except RecursionError:\n",
    "        obstruction_positions.append(extra_obstruction)\n",
    "\n",
    "len(obstruction_positions)"
   ]
  },
  {
   "cell_type": "code",
   "execution_count": null,
   "metadata": {},
   "outputs": [],
   "source": []
  }
 ],
 "metadata": {
  "kernelspec": {
   "display_name": "AoC",
   "language": "python",
   "name": "python3"
  },
  "language_info": {
   "codemirror_mode": {
    "name": "ipython",
    "version": 3
   },
   "file_extension": ".py",
   "mimetype": "text/x-python",
   "name": "python",
   "nbconvert_exporter": "python",
   "pygments_lexer": "ipython3",
   "version": "3.12.6"
  }
 },
 "nbformat": 4,
 "nbformat_minor": 2
}
