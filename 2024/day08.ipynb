{
 "cells": [
  {
   "cell_type": "code",
   "execution_count": null,
   "metadata": {},
   "outputs": [],
   "source": [
    "from __future__ import annotations\n",
    "\n",
    "import itertools\n",
    "from collections import defaultdict\n",
    "from pathlib import Path"
   ]
  },
  {
   "cell_type": "code",
   "execution_count": null,
   "metadata": {},
   "outputs": [],
   "source": [
    "# Read input into a dictionary of lists of coordinates\n",
    "antennas = defaultdict(list)\n",
    "\n",
    "with Path(\"day08_input.txt\").open() as file:\n",
    "    for row, line in enumerate(file):\n",
    "        for col, char in enumerate(line.strip()):\n",
    "            if char != \".\":\n",
    "                antennas[char].append((row, col))\n",
    "\n",
    "MAX_ROW, MAX_COL = row, col"
   ]
  },
  {
   "cell_type": "markdown",
   "metadata": {},
   "source": [
    "# Part 1\n",
    "\n",
    "For two antennas $a_1$ and $a_2$: First calcluate the distance $d_{12}$ between them.\n",
    "Starting from $a_1$, move as many rows and cols as the distance $d_{12}$, but in the\n",
    "opposite direction. The new location is an antinode if it is on the map.\n",
    "\n",
    "We're using `itertools.permutations()` to get all the antenna pairs, which means we only\n",
    "need to calculate the antinode \"behind\" $a_1$, as we will later get the pair $a_2$ and\n",
    "$a_1$.\n"
   ]
  },
  {
   "cell_type": "code",
   "execution_count": null,
   "metadata": {},
   "outputs": [],
   "source": [
    "def on_map(point: tuple[int, int]) -> bool:\n",
    "    \"\"\"Check if a point is on the map.\"\"\"\n",
    "    row, col = point\n",
    "    return 0 <= row <= MAX_ROW and 0 <= col <= MAX_COL"
   ]
  },
  {
   "cell_type": "code",
   "execution_count": null,
   "metadata": {},
   "outputs": [],
   "source": [
    "antinodes = set()\n",
    "\n",
    "for frequency in antennas:\n",
    "    for a1, a2 in itertools.permutations(antennas[frequency], 2):\n",
    "        row_dist = a2[0] - a1[0]\n",
    "        col_dist = a2[1] - a1[1]\n",
    "        antinode = (a1[0] - row_dist, a1[1] - col_dist)\n",
    "        if on_map(antinode):\n",
    "            antinodes.add(antinode)\n",
    "\n",
    "print(f\"There are {len(antinodes)} antinodes.\")"
   ]
  },
  {
   "cell_type": "markdown",
   "metadata": {},
   "source": [
    "# Part 2\n",
    "\n",
    "Same idea as for part 1, but we now multiply the distance $d_{12}$ with $\\text{mul} = 0,\n",
    "1, 2, 3, ...$ until we are outside the map.\n"
   ]
  },
  {
   "cell_type": "code",
   "execution_count": null,
   "metadata": {},
   "outputs": [],
   "source": [
    "antinodes = set()\n",
    "\n",
    "for frequency in antennas:\n",
    "    for a1, a2 in itertools.permutations(antennas[frequency], 2):\n",
    "        row_dist = a2[0] - a1[0]\n",
    "        col_dist = a2[1] - a1[1]\n",
    "        mul = 0\n",
    "        while True:\n",
    "            antinode = (a1[0] - mul * row_dist, a1[1] - mul * col_dist)\n",
    "            if on_map(antinode):\n",
    "                antinodes.add(antinode)\n",
    "                mul += 1\n",
    "            else:\n",
    "                break\n",
    "\n",
    "print(f\"There are {len(antinodes)} antinodes.\")"
   ]
  },
  {
   "cell_type": "code",
   "execution_count": null,
   "metadata": {},
   "outputs": [],
   "source": []
  }
 ],
 "metadata": {
  "kernelspec": {
   "display_name": "AoC",
   "language": "python",
   "name": "python3"
  },
  "language_info": {
   "codemirror_mode": {
    "name": "ipython",
    "version": 3
   },
   "file_extension": ".py",
   "mimetype": "text/x-python",
   "name": "python",
   "nbconvert_exporter": "python",
   "pygments_lexer": "ipython3",
   "version": "3.12.1"
  }
 },
 "nbformat": 4,
 "nbformat_minor": 2
}
