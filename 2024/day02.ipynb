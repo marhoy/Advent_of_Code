{
 "cells": [
  {
   "cell_type": "code",
   "execution_count": null,
   "metadata": {},
   "outputs": [],
   "source": [
    "from pathlib import Path\n",
    "\n",
    "import numpy as np"
   ]
  },
  {
   "cell_type": "code",
   "execution_count": null,
   "metadata": {},
   "outputs": [],
   "source": [
    "# Read the input file\n",
    "reports = []\n",
    "for row in Path(\"day02_input.txt\").open():\n",
    "    reports.append(list(map(int, row.strip().split())))"
   ]
  },
  {
   "cell_type": "markdown",
   "metadata": {},
   "source": [
    "# Part 1\n"
   ]
  },
  {
   "cell_type": "code",
   "execution_count": null,
   "metadata": {},
   "outputs": [],
   "source": [
    "def is_safe(report: list[int]) -> bool:\n",
    "    \"\"\"Checks whether a report is defined as safe.\"\"\"\n",
    "    diffs = np.diff(report)\n",
    "    signs = np.sign(diffs)\n",
    "    if all(sign == signs[0] for sign in signs) and all(\n",
    "        1 <= abs(diff) <= 3 for diff in diffs\n",
    "    ):\n",
    "        return True\n",
    "    return False\n",
    "\n",
    "\n",
    "safe_reports = sum(is_safe(report) for report in reports)\n",
    "safe_reports"
   ]
  },
  {
   "cell_type": "markdown",
   "metadata": {},
   "source": [
    "# Part 2\n"
   ]
  },
  {
   "cell_type": "code",
   "execution_count": null,
   "metadata": {},
   "outputs": [],
   "source": [
    "# The lists are quite short, so let's just brute force it ;)\n",
    "safe_reports = 0\n",
    "for report in reports:\n",
    "    if is_safe(report):\n",
    "        safe_reports += 1\n",
    "        continue\n",
    "    # Remove one element from list and check again\n",
    "    for i in range(len(report)):\n",
    "        if is_safe(report[:i] + report[i + 1 :]):\n",
    "            safe_reports += 1\n",
    "            break\n",
    "\n",
    "safe_reports"
   ]
  }
 ],
 "metadata": {
  "kernelspec": {
   "display_name": "AoC",
   "language": "python",
   "name": "python3"
  },
  "language_info": {
   "codemirror_mode": {
    "name": "ipython",
    "version": 3
   },
   "file_extension": ".py",
   "mimetype": "text/x-python",
   "name": "python",
   "nbconvert_exporter": "python",
   "pygments_lexer": "ipython3",
   "version": "3.12.1"
  }
 },
 "nbformat": 4,
 "nbformat_minor": 2
}
