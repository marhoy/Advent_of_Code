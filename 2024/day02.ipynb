{
 "cells": [
  {
   "cell_type": "code",
   "execution_count": null,
   "metadata": {},
   "outputs": [],
   "source": [
    "from __future__ import annotations\n",
    "\n",
    "import itertools\n",
    "import math\n",
    "from pathlib import Path"
   ]
  },
  {
   "cell_type": "code",
   "execution_count": null,
   "metadata": {},
   "outputs": [],
   "source": [
    "# Read the input file\n",
    "reports = []\n",
    "\n",
    "with Path(\"day02_input.txt\").open() as fp:\n",
    "    for line in fp:\n",
    "        reports.append(list(map(int, line.strip().split())))"
   ]
  },
  {
   "cell_type": "markdown",
   "metadata": {},
   "source": [
    "# Part 1\n"
   ]
  },
  {
   "cell_type": "code",
   "execution_count": null,
   "metadata": {},
   "outputs": [],
   "source": [
    "def is_safe(report: list[int]) -> bool:\n",
    "    \"\"\"Checks whether a report is defined as safe.\"\"\"\n",
    "    diffs = [b - a for a, b in itertools.pairwise(report)]\n",
    "    signs = [math.copysign(1, diff) for diff in diffs]\n",
    "    return bool(\n",
    "        all(sign == signs[0] for sign in signs)\n",
    "        and all(1 <= abs(diff) <= 3 for diff in diffs)\n",
    "    )\n",
    "\n",
    "\n",
    "safe_reports = sum(is_safe(report) for report in reports)\n",
    "safe_reports"
   ]
  },
  {
   "cell_type": "markdown",
   "metadata": {},
   "source": [
    "# Part 2\n"
   ]
  },
  {
   "cell_type": "code",
   "execution_count": null,
   "metadata": {},
   "outputs": [],
   "source": [
    "# The lists are quite short, so let's just brute force it ;)\n",
    "safe_reports = 0\n",
    "for report in reports:\n",
    "    # Is the report already safe?\n",
    "    if is_safe(report):\n",
    "        safe_reports += 1\n",
    "        continue\n",
    "    # If not: Remove one element and check if the report again\n",
    "    for i in range(len(report)):\n",
    "        if is_safe(report[:i] + report[i + 1 :]):\n",
    "            safe_reports += 1\n",
    "            break  # No need to check the other elements\n",
    "\n",
    "safe_reports"
   ]
  }
 ],
 "metadata": {
  "kernelspec": {
   "display_name": "AoC",
   "language": "python",
   "name": "python3"
  },
  "language_info": {
   "codemirror_mode": {
    "name": "ipython",
    "version": 3
   },
   "file_extension": ".py",
   "mimetype": "text/x-python",
   "name": "python",
   "nbconvert_exporter": "python",
   "pygments_lexer": "ipython3",
   "version": "3.12.6"
  }
 },
 "nbformat": 4,
 "nbformat_minor": 2
}
