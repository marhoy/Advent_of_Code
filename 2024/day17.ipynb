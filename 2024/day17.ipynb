{
 "cells": [
  {
   "cell_type": "code",
   "execution_count": null,
   "metadata": {},
   "outputs": [],
   "source": [
    "import re\n",
    "from pathlib import Path"
   ]
  },
  {
   "cell_type": "code",
   "execution_count": null,
   "metadata": {},
   "outputs": [],
   "source": [
    "# Read the input data\n",
    "data = Path(\"day17_input.txt\").read_text().strip()\n",
    "registers = {\n",
    "    key: int(value) for key, value in re.findall(r\"Register (\\w+): (\\d+)\", data)\n",
    "}\n",
    "if match := re.search(r\"Program: ([\\w,]+)\", data):\n",
    "    program = match.group(1)"
   ]
  },
  {
   "cell_type": "code",
   "execution_count": null,
   "metadata": {},
   "outputs": [],
   "source": [
    "class Computer:\n",
    "    \"\"\"The computer that runs the program.\"\"\"\n",
    "\n",
    "    def __init__(self, registers: dict[str, int], program: str):\n",
    "        \"\"\"Initialize the computer.\"\"\"\n",
    "        self.registers = registers.copy()\n",
    "        self.program = [int(num) for num in program.split(\",\")]\n",
    "        self.ptr = 0\n",
    "        self._output = []\n",
    "\n",
    "    @property\n",
    "    def output(self):\n",
    "        \"\"\"Return the output of the program.\"\"\"\n",
    "        return \",\".join(str(val) for val in self._output)\n",
    "\n",
    "    def combo_operand(self, operand: int) -> int:\n",
    "        \"\"\"Calculate the combo operand.\"\"\"\n",
    "        operand2register = {\n",
    "            4: \"A\",\n",
    "            5: \"B\",\n",
    "            6: \"C\",\n",
    "        }\n",
    "        if operand <= 3:\n",
    "            return operand\n",
    "        return self.registers[operand2register[operand]]\n",
    "\n",
    "    def run(self):\n",
    "        \"\"\"Run the program.\"\"\"\n",
    "        while 0 <= self.ptr < len(self.program):\n",
    "            opcode = self.program[self.ptr]\n",
    "            literal_operand = self.program[self.ptr + 1]\n",
    "            combo_operand = self.combo_operand(literal_operand)\n",
    "\n",
    "            advance_pointer = True\n",
    "            if opcode == 0:\n",
    "                # adv\n",
    "                self.registers[\"A\"] = self.registers[\"A\"] // 2**combo_operand\n",
    "            elif opcode == 1:\n",
    "                # bxl\n",
    "                self.registers[\"B\"] = self.registers[\"B\"] ^ literal_operand\n",
    "            elif opcode == 2:\n",
    "                # bst\n",
    "                self.registers[\"B\"] = combo_operand % 8\n",
    "            elif opcode == 3:\n",
    "                # jnz\n",
    "                if self.registers[\"A\"] != 0:\n",
    "                    self.ptr = literal_operand\n",
    "                    advance_pointer = False\n",
    "            elif opcode == 4:\n",
    "                # bxc\n",
    "                self.registers[\"B\"] = self.registers[\"B\"] ^ self.registers[\"C\"]\n",
    "            elif opcode == 5:\n",
    "                # out\n",
    "                self._output.append(combo_operand % 8)\n",
    "            elif opcode == 6:\n",
    "                # bdv\n",
    "                self.registers[\"B\"] = self.registers[\"A\"] // 2**combo_operand\n",
    "            elif opcode == 7:\n",
    "                # cdv\n",
    "                self.registers[\"C\"] = self.registers[\"A\"] // 2**combo_operand\n",
    "\n",
    "            if advance_pointer:\n",
    "                self.ptr += 2"
   ]
  },
  {
   "cell_type": "markdown",
   "metadata": {},
   "source": [
    "# Part 1\n"
   ]
  },
  {
   "cell_type": "code",
   "execution_count": null,
   "metadata": {},
   "outputs": [],
   "source": [
    "computer = Computer(registers, program)\n",
    "computer.run()\n",
    "computer.output"
   ]
  },
  {
   "cell_type": "markdown",
   "metadata": {},
   "source": [
    "# Part 2\n",
    "\n",
    "Every 3 bits of A produces a number to be output. And only the last 3 bits determines\n",
    "the first number to be output. The next 3 bits (from the right) determines the second\n",
    "number to be output. And so on...\n",
    "\n",
    "Thus: Starting from the right end of A, and the left end of the desired output, we can\n",
    "search for one output-digit at the time.\n"
   ]
  },
  {
   "cell_type": "code",
   "execution_count": null,
   "metadata": {},
   "outputs": [],
   "source": [
    "# For the example, inspect how the output is generated\n",
    "# For the example, the solution is oct(117440) = 0o345300\n",
    "for a in range(0, 8**6):\n",
    "    registers[\"A\"] = a\n",
    "    computer = Computer(registers, program)\n",
    "    computer.run()\n",
    "    if program.endswith(computer.output):\n",
    "        print(f\"{oct(a)}: {computer.output}\")"
   ]
  },
  {
   "cell_type": "code",
   "execution_count": null,
   "metadata": {},
   "outputs": [],
   "source": [
    "print(\"Desired output:\", program)\n",
    "\n",
    "octals = []\n",
    "while True:\n",
    "    # Loop over all 2-digit octal numbers\n",
    "    for a in range(8**2):\n",
    "        # Prepend any previously found octals\n",
    "        found_already = sum(\n",
    "            octal * 8**i for i, octal in enumerate(reversed(octals), start=2)\n",
    "        )\n",
    "        registers[\"A\"] = found_already + a\n",
    "        computer = Computer(registers, program)\n",
    "        computer.run()\n",
    "        if (\n",
    "            program.endswith(computer.output)\n",
    "            and len(computer.output.split(\",\")) == len(octals) + 2\n",
    "        ):\n",
    "            # The two last digits in the output is matching\n",
    "            break\n",
    "\n",
    "    octal = a // 8  # Get the first octal of the two-digit number\n",
    "    octals.append(octal)\n",
    "    print(f\"Found octals {octals}, output is now: {computer.output}\")\n",
    "\n",
    "    if computer.output == program:\n",
    "        print(\"DONE!\")\n",
    "        solution = found_already + a\n",
    "        print(f\"A: {solution} (in oct: {oct(solution)})\")\n",
    "        break"
   ]
  },
  {
   "cell_type": "code",
   "execution_count": null,
   "metadata": {},
   "outputs": [],
   "source": []
  }
 ],
 "metadata": {
  "kernelspec": {
   "display_name": ".venv",
   "language": "python",
   "name": "python3"
  },
  "language_info": {
   "codemirror_mode": {
    "name": "ipython",
    "version": 3
   },
   "file_extension": ".py",
   "mimetype": "text/x-python",
   "name": "python",
   "nbconvert_exporter": "python",
   "pygments_lexer": "ipython3",
   "version": "3.13.1"
  }
 },
 "nbformat": 4,
 "nbformat_minor": 2
}
