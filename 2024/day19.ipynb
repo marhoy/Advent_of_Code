{
 "cells": [
  {
   "cell_type": "code",
   "execution_count": null,
   "metadata": {},
   "outputs": [],
   "source": [
    "from pathlib import Path"
   ]
  },
  {
   "cell_type": "code",
   "execution_count": null,
   "metadata": {},
   "outputs": [],
   "source": [
    "DESIGNS = []\n",
    "\n",
    "with Path(\"day19_input.txt\").open() as file:\n",
    "    line = file.readline().strip()\n",
    "    TOWELS = set(line.split(\", \"))\n",
    "    for line in file:\n",
    "        line = line.strip()\n",
    "        if line:\n",
    "            DESIGNS.append(line)"
   ]
  },
  {
   "cell_type": "markdown",
   "metadata": {},
   "source": [
    "# Part 1\n"
   ]
  },
  {
   "cell_type": "code",
   "execution_count": null,
   "metadata": {},
   "outputs": [],
   "source": [
    "def design_is_possible(design: str) -> bool:\n",
    "    \"\"\"Check if a design can be made from the TOWELS.\"\"\"\n",
    "    if design in TOWELS:\n",
    "        return True\n",
    "    for i in range(len(design)):\n",
    "        if design[:i] in TOWELS and design_is_possible(design[i:]):\n",
    "            return True\n",
    "    return False"
   ]
  },
  {
   "cell_type": "code",
   "execution_count": null,
   "metadata": {},
   "outputs": [],
   "source": [
    "sum(design_is_possible(design) for design in DESIGNS)"
   ]
  },
  {
   "cell_type": "markdown",
   "metadata": {},
   "source": [
    "# Part 2\n"
   ]
  },
  {
   "cell_type": "code",
   "execution_count": null,
   "metadata": {},
   "outputs": [],
   "source": [
    "from functools import cache"
   ]
  },
  {
   "cell_type": "code",
   "execution_count": null,
   "metadata": {},
   "outputs": [],
   "source": [
    "@cache\n",
    "def design_possibilities(design: str) -> int:\n",
    "    \"\"\"In how many ways can a design be made from the TOWELS.\"\"\"\n",
    "    solutions = 0\n",
    "    if len(design) == 0:\n",
    "        return 1\n",
    "    for i in range(len(design) + 1):\n",
    "        if design[:i] in TOWELS:\n",
    "            solutions += design_possibilities(design[i:])\n",
    "    return solutions"
   ]
  },
  {
   "cell_type": "code",
   "execution_count": null,
   "metadata": {},
   "outputs": [],
   "source": [
    "%%time\n",
    "\n",
    "sum(design_possibilities(design) for design in DESIGNS)"
   ]
  },
  {
   "cell_type": "code",
   "execution_count": null,
   "metadata": {},
   "outputs": [],
   "source": []
  }
 ],
 "metadata": {
  "kernelspec": {
   "display_name": ".venv",
   "language": "python",
   "name": "python3"
  },
  "language_info": {
   "codemirror_mode": {
    "name": "ipython",
    "version": 3
   },
   "file_extension": ".py",
   "mimetype": "text/x-python",
   "name": "python",
   "nbconvert_exporter": "python",
   "pygments_lexer": "ipython3",
   "version": "3.13.1"
  }
 },
 "nbformat": 4,
 "nbformat_minor": 2
}
