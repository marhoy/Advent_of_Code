{
 "cells": [
  {
   "cell_type": "code",
   "execution_count": null,
   "metadata": {},
   "outputs": [],
   "source": [
    "from __future__ import annotations\n",
    "\n",
    "import re\n",
    "from collections import defaultdict\n",
    "from pathlib import Path\n",
    "from typing import Self, TypeVar"
   ]
  },
  {
   "cell_type": "code",
   "execution_count": null,
   "metadata": {},
   "outputs": [],
   "source": [
    "sort_after = defaultdict(set[int])\n",
    "sort_before = defaultdict(set[int])\n",
    "updates: list[list[int]] = []\n",
    "\n",
    "with Path(\"day05_input.txt\").open() as f:\n",
    "    for line in f:\n",
    "        if match := re.match(r\"(\\d+)\\|(\\d+)\", line):\n",
    "            a, b = map(int, match.groups())\n",
    "            sort_after[a].add(b)\n",
    "            sort_before[b].add(a)\n",
    "        elif re.match(r\"\\d+,\", line):\n",
    "            updates.append(list(map(int, line.split(\",\"))))"
   ]
  },
  {
   "cell_type": "code",
   "execution_count": null,
   "metadata": {},
   "outputs": [],
   "source": [
    "class PageNumber:\n",
    "    \"\"\"A page number that can be compared to other page numbers.\"\"\"\n",
    "\n",
    "    def __init__(self, number: int) -> None:\n",
    "        \"\"\"Create a new page number.\"\"\"\n",
    "        self.number = number\n",
    "\n",
    "    def __lt__(self, other: Self) -> bool:\n",
    "        \"\"\"Check if this page number is less than another page number.\"\"\"\n",
    "        if other.number in sort_after[self.number]:\n",
    "            return True\n",
    "        if other.number in sort_before[self.number]:\n",
    "            return False\n",
    "        raise ValueError(\n",
    "            f\"Cannot compare page numbers {self.number} and {other.number}\"\n",
    "        )"
   ]
  },
  {
   "cell_type": "markdown",
   "metadata": {},
   "source": [
    "# Part 1\n"
   ]
  },
  {
   "cell_type": "code",
   "execution_count": null,
   "metadata": {},
   "outputs": [],
   "source": [
    "T = TypeVar(\"T\")\n",
    "\n",
    "\n",
    "def middle_item(lst: list[T]) -> T:\n",
    "    \"\"\"Return the middle item of a list.\"\"\"\n",
    "    length = len(lst)\n",
    "    if length % 2 != 0:  # Check if the length is odd\n",
    "        return lst[length // 2]\n",
    "    raise ValueError(\"List must have an odd length\")"
   ]
  },
  {
   "cell_type": "code",
   "execution_count": null,
   "metadata": {},
   "outputs": [],
   "source": [
    "answer = 0\n",
    "for update in updates:\n",
    "    page_update = [PageNumber(page) for page in update]\n",
    "    if sorted(page_update) == page_update:\n",
    "        answer += middle_item(update)\n",
    "answer"
   ]
  },
  {
   "cell_type": "markdown",
   "metadata": {},
   "source": [
    "# Part 2\n"
   ]
  },
  {
   "cell_type": "code",
   "execution_count": null,
   "metadata": {},
   "outputs": [],
   "source": [
    "answer = 0\n",
    "for update in updates:\n",
    "    page_update = [PageNumber(page) for page in update]\n",
    "    sorted_page_update = sorted(page_update)\n",
    "    if sorted_page_update != page_update:\n",
    "        answer += middle_item(sorted_page_update).number\n",
    "answer"
   ]
  },
  {
   "cell_type": "code",
   "execution_count": null,
   "metadata": {},
   "outputs": [],
   "source": []
  }
 ],
 "metadata": {
  "kernelspec": {
   "display_name": "AoC",
   "language": "python",
   "name": "python3"
  },
  "language_info": {
   "codemirror_mode": {
    "name": "ipython",
    "version": 3
   },
   "file_extension": ".py",
   "mimetype": "text/x-python",
   "name": "python",
   "nbconvert_exporter": "python",
   "pygments_lexer": "ipython3",
   "version": "3.12.6"
  }
 },
 "nbformat": 4,
 "nbformat_minor": 2
}
