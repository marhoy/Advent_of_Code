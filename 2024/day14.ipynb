{
 "cells": [
  {
   "cell_type": "code",
   "execution_count": null,
   "metadata": {},
   "outputs": [],
   "source": [
    "import functools\n",
    "import re\n",
    "from collections import Counter\n",
    "from operator import mul\n",
    "from pathlib import Path"
   ]
  },
  {
   "cell_type": "code",
   "execution_count": null,
   "metadata": {},
   "outputs": [],
   "source": [
    "# MAX_X, MAX_Y = 11, 7\n",
    "MAX_X, MAX_Y = 101, 103"
   ]
  },
  {
   "cell_type": "code",
   "execution_count": null,
   "metadata": {},
   "outputs": [],
   "source": [
    "type Vector = tuple[int, int]\n",
    "\n",
    "\n",
    "class Robot:\n",
    "    \"\"\"A robot that can move on the tiles.\"\"\"\n",
    "\n",
    "    def __init__(self, pos: Vector, speed: Vector):\n",
    "        \"\"\"Initialize the robot.\"\"\"\n",
    "        self._inital_pos = pos\n",
    "        self.pos = pos\n",
    "        self.speed = speed\n",
    "\n",
    "    def reset(self) -> None:\n",
    "        \"\"\"Reset the robot to its initial position.\"\"\"\n",
    "        self.pos = self._inital_pos\n",
    "\n",
    "    def move(self) -> None:\n",
    "        \"\"\"Move the robot, wrapping around the board.\"\"\"\n",
    "        x, y = self.pos\n",
    "        dx, dy = self.speed\n",
    "        self.pos = (x + dx) % MAX_X, (y + dy) % MAX_Y\n",
    "\n",
    "    def in_quadrant(self) -> int | None:\n",
    "        \"\"\"Return the quadrant the robot is in.\"\"\"\n",
    "        x, y = self.pos\n",
    "        left = x < MAX_X // 2\n",
    "        right = x > MAX_X // 2\n",
    "        upper = y < MAX_Y // 2\n",
    "        lower = y > MAX_Y // 2\n",
    "        if left and upper:\n",
    "            return 1\n",
    "        if right and upper:\n",
    "            return 2\n",
    "        if left and lower:\n",
    "            return 3\n",
    "        if right and lower:\n",
    "            return 4\n",
    "        return None"
   ]
  },
  {
   "cell_type": "code",
   "execution_count": null,
   "metadata": {},
   "outputs": [],
   "source": [
    "robots = []\n",
    "for line in Path(\"day14_input.txt\").read_text().splitlines():\n",
    "    if numbers := re.findall(r\"(-?\\d+)\", line):\n",
    "        x, y, vx, vy = map(int, numbers)\n",
    "        robots.append(Robot((x, y), (vx, vy)))"
   ]
  },
  {
   "cell_type": "markdown",
   "metadata": {},
   "source": [
    "# Part 1\n"
   ]
  },
  {
   "cell_type": "code",
   "execution_count": null,
   "metadata": {},
   "outputs": [],
   "source": [
    "for _ in range(100):\n",
    "    for robot in robots:\n",
    "        robot.move()\n",
    "\n",
    "quadrants = Counter(robot.in_quadrant() for robot in robots)\n",
    "answer = functools.reduce(\n",
    "    mul, (count for q, count in quadrants.items() if q is not None)\n",
    ")\n",
    "answer"
   ]
  },
  {
   "cell_type": "markdown",
   "metadata": {},
   "source": [
    "# Part 2\n",
    "\n",
    "Let's not worry too much about the shape or position of the tree. But for a christmas\n",
    "tree to appear, a lot of robots must have neighbors. For each step, we can count the\n",
    "number of robots with neighbors and look for a peak in the count.\n"
   ]
  },
  {
   "cell_type": "code",
   "execution_count": null,
   "metadata": {},
   "outputs": [],
   "source": [
    "def has_neighbors(pos: Vector, positions: set[Vector]) -> bool:\n",
    "    \"\"\"Return True if the position has a neighbor.\"\"\"\n",
    "    for dx in (-1, 0, 1):\n",
    "        for dy in (-1, 0, 1):\n",
    "            if dx == dy == 0:\n",
    "                continue\n",
    "            neighbor = (pos[0] + dx, pos[1] + dy)\n",
    "            if neighbor in positions:\n",
    "                return True\n",
    "    return False"
   ]
  },
  {
   "cell_type": "code",
   "execution_count": null,
   "metadata": {},
   "outputs": [],
   "source": [
    "def print_positions(positions: list[Vector]):\n",
    "    \"\"\"Print the positions.\"\"\"\n",
    "    for y in range(MAX_Y):\n",
    "        for x in range(MAX_X):\n",
    "            print(\"#\" if (x, y) in positions else \".\", end=\"\")\n",
    "        print()"
   ]
  },
  {
   "cell_type": "code",
   "execution_count": null,
   "metadata": {},
   "outputs": [],
   "source": [
    "for robot in robots:\n",
    "    robot.reset()\n",
    "\n",
    "for i in range(10_000):\n",
    "    positions = {robot.pos for robot in robots}\n",
    "    count = sum(has_neighbors(pos, positions) for pos in positions)\n",
    "    if count > 0.6 * len(robots):\n",
    "        print(i, count)\n",
    "        break\n",
    "    for robot in robots:\n",
    "        robot.move()"
   ]
  },
  {
   "cell_type": "code",
   "execution_count": null,
   "metadata": {},
   "outputs": [],
   "source": []
  }
 ],
 "metadata": {
  "kernelspec": {
   "display_name": ".venv",
   "language": "python",
   "name": "python3"
  },
  "language_info": {
   "codemirror_mode": {
    "name": "ipython",
    "version": 3
   },
   "file_extension": ".py",
   "mimetype": "text/x-python",
   "name": "python",
   "nbconvert_exporter": "python",
   "pygments_lexer": "ipython3",
   "version": "3.13.1"
  }
 },
 "nbformat": 4,
 "nbformat_minor": 2
}
