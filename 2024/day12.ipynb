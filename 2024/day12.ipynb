{
 "cells": [
  {
   "cell_type": "code",
   "execution_count": null,
   "metadata": {},
   "outputs": [],
   "source": [
    "from __future__ import annotations\n",
    "\n",
    "from collections.abc import Iterable\n",
    "from pathlib import Path"
   ]
  },
  {
   "cell_type": "code",
   "execution_count": null,
   "metadata": {},
   "outputs": [],
   "source": [
    "type Position = tuple[int, int]\n",
    "\n",
    "MAP: dict[Position, str] = {}\n",
    "\n",
    "with Path(\"day12_input.txt\").open() as file:\n",
    "    for row, line in enumerate(file):\n",
    "        for col, char in enumerate(line.strip()):\n",
    "            MAP[(row, col)] = char"
   ]
  },
  {
   "cell_type": "code",
   "execution_count": null,
   "metadata": {},
   "outputs": [],
   "source": [
    "def same_neighbors(pos: Position) -> Iterable[Position]:\n",
    "    \"\"\"Find the up/down left/right neighbors of a position.\"\"\"\n",
    "    row, col = pos\n",
    "    candidates = [(row, col - 1), (row, col + 1), (row - 1, col), (row + 1, col)]\n",
    "    for candidate in candidates:\n",
    "        if (candidate in MAP) and (MAP[candidate] == MAP[pos]):\n",
    "            yield candidate"
   ]
  },
  {
   "cell_type": "markdown",
   "metadata": {},
   "source": [
    "# Part 1\n"
   ]
  },
  {
   "cell_type": "code",
   "execution_count": null,
   "metadata": {},
   "outputs": [],
   "source": [
    "def find_region(\n",
    "    start_pos: Position, region: set[Position] | None = None\n",
    ") -> set[Position]:\n",
    "    \"\"\"Find all positions in the same region as start_pos.\"\"\"\n",
    "    if region is None:\n",
    "        region = set()\n",
    "    region.add(start_pos)\n",
    "    for neighbor in same_neighbors(start_pos):\n",
    "        if neighbor not in region:\n",
    "            find_region(neighbor, region)\n",
    "    return region"
   ]
  },
  {
   "cell_type": "code",
   "execution_count": null,
   "metadata": {},
   "outputs": [],
   "source": [
    "regions = set()\n",
    "answer = 0\n",
    "\n",
    "for start_pos in MAP:\n",
    "    if start_pos not in regions:\n",
    "        region = find_region(start_pos)\n",
    "        regions.update(region)\n",
    "        perimeter = sum(4 - len(list(same_neighbors(pos))) for pos in region)\n",
    "        # print(\n",
    "        #     f\"Region of {MAP[start_pos]} with size {len(region)} \"\n",
    "        #     f\"and perimeter {perimeter}.\"\n",
    "        # )\n",
    "        answer += len(region) * perimeter\n",
    "\n",
    "answer"
   ]
  },
  {
   "cell_type": "markdown",
   "metadata": {},
   "source": [
    "# Part 2\n",
    "\n",
    "The number of sides is also the same as the number of corners. A corner can be an\n",
    "outside corner, or an inside corner.\n",
    "\n",
    "Considering the upper-left corner, it can be a corner in two ways:\n",
    "\n",
    "- Outside corner: If the cell does NOT have a neighbour to the left OR above it.\n",
    "- Inside corner: If the cell DOES have neighbours to the left AND above it, AND the\n",
    "  diagonal cell to the up-left is NOT a neighbour.\n",
    "\n",
    "Thus: `upper_left = not (left or up) or (left and up and not up_left)`\n",
    "\n",
    "```\n",
    "AAA\n",
    ".A.\n",
    "AAA\n",
    "\n",
    "```\n"
   ]
  },
  {
   "cell_type": "code",
   "execution_count": null,
   "metadata": {},
   "outputs": [],
   "source": [
    "def num_corners(region: set[Position]) -> int:\n",
    "    \"\"\"Count the number of corners in a region.\"\"\"\n",
    "    corners = 0\n",
    "    for pos in region:\n",
    "        # Check for neighbors in all 8 directions\n",
    "        left = (pos[0], pos[1] - 1) in region\n",
    "        right = (pos[0], pos[1] + 1) in region\n",
    "        up = (pos[0] - 1, pos[1]) in region\n",
    "        down = (pos[0] + 1, pos[1]) in region\n",
    "        up_left = (pos[0] - 1, pos[1] - 1) in region\n",
    "        up_right = (pos[0] - 1, pos[1] + 1) in region\n",
    "        down_left = (pos[0] + 1, pos[1] - 1) in region\n",
    "        down_right = (pos[0] + 1, pos[1] + 1) in region\n",
    "\n",
    "        # Check whether each potential corner is actually a corner\n",
    "        upper_left = not (left or up) or (left and up and not up_left)\n",
    "        upper_right = not (right or up) or (right and up and not up_right)\n",
    "        lower_left = not (left or down) or (left and down and not down_left)\n",
    "        lower_right = not (right or down) or (right and down and not down_right)\n",
    "\n",
    "        # Add up the actual corners\n",
    "        corners += upper_left + upper_right + lower_left + lower_right\n",
    "    return corners"
   ]
  },
  {
   "cell_type": "code",
   "execution_count": null,
   "metadata": {},
   "outputs": [],
   "source": [
    "regions = set()\n",
    "answer = 0\n",
    "\n",
    "for start_pos in MAP:\n",
    "    if start_pos not in regions:\n",
    "        region = find_region(start_pos)\n",
    "        regions.update(region)\n",
    "        corners = num_corners(region)\n",
    "        # print(\n",
    "        #     f\"Region of {MAP[start_pos]} with size {len(region)} \"\n",
    "        #     f\"and {corners} sides.\"\n",
    "        # )\n",
    "        answer += len(region) * corners\n",
    "\n",
    "answer"
   ]
  },
  {
   "cell_type": "markdown",
   "metadata": {},
   "source": [
    ".A\n",
    "AA\n",
    "A\n"
   ]
  },
  {
   "cell_type": "code",
   "execution_count": null,
   "metadata": {},
   "outputs": [],
   "source": []
  }
 ],
 "metadata": {
  "kernelspec": {
   "display_name": ".venv",
   "language": "python",
   "name": "python3"
  },
  "language_info": {
   "codemirror_mode": {
    "name": "ipython",
    "version": 3
   },
   "file_extension": ".py",
   "mimetype": "text/x-python",
   "name": "python",
   "nbconvert_exporter": "python",
   "pygments_lexer": "ipython3",
   "version": "3.13.1"
  }
 },
 "nbformat": 4,
 "nbformat_minor": 2
}
