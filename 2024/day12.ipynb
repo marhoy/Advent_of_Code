{
 "cells": [
  {
   "cell_type": "code",
   "execution_count": null,
   "metadata": {},
   "outputs": [],
   "source": [
    "from __future__ import annotations\n",
    "\n",
    "from collections.abc import Iterable\n",
    "from pathlib import Path"
   ]
  },
  {
   "cell_type": "code",
   "execution_count": null,
   "metadata": {},
   "outputs": [],
   "source": [
    "type Position = tuple[int, int]\n",
    "\n",
    "MAP: dict[Position, str] = {}\n",
    "\n",
    "with Path(\"day12_example.txt\").open() as file:\n",
    "    for row, line in enumerate(file):\n",
    "        for col, char in enumerate(line):\n",
    "            MAP[(row, col)] = char"
   ]
  },
  {
   "cell_type": "code",
   "execution_count": null,
   "metadata": {},
   "outputs": [],
   "source": [
    "def same_neighbors(pos: Position) -> Iterable[Position]:\n",
    "    \"\"\"Find the up/down left/right neighbors of a position.\"\"\"\n",
    "    row, col = pos\n",
    "    candidates = [(row, col - 1), (row, col + 1), (row - 1, col), (row + 1, col)]\n",
    "    for candidate in candidates:\n",
    "        if (candidate in MAP) and (MAP[candidate] == MAP[pos]):\n",
    "            yield candidate"
   ]
  },
  {
   "cell_type": "markdown",
   "metadata": {},
   "source": [
    "# Part 1\n"
   ]
  },
  {
   "cell_type": "code",
   "execution_count": null,
   "metadata": {},
   "outputs": [],
   "source": []
  }
 ],
 "metadata": {
  "kernelspec": {
   "display_name": ".venv",
   "language": "python",
   "name": "python3"
  },
  "language_info": {
   "codemirror_mode": {
    "name": "ipython",
    "version": 3
   },
   "file_extension": ".py",
   "mimetype": "text/x-python",
   "name": "python",
   "nbconvert_exporter": "python",
   "pygments_lexer": "ipython3",
   "version": "3.13.1"
  }
 },
 "nbformat": 4,
 "nbformat_minor": 2
}
