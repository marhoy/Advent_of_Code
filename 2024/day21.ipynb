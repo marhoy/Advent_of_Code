{
 "cells": [
  {
   "cell_type": "code",
   "execution_count": null,
   "metadata": {},
   "outputs": [],
   "source": [
    "import itertools\n",
    "from functools import cache\n",
    "from pathlib import Path\n",
    "\n",
    "type Position = tuple[int, int]\n",
    "type Pad = dict[Position, str]"
   ]
  },
  {
   "cell_type": "code",
   "execution_count": null,
   "metadata": {},
   "outputs": [],
   "source": [
    "DOOR_CODES = Path(\"day21_input.txt\").read_text().strip().split(\"\\n\")\n",
    "\n",
    "NUM_PAD = dict(zip(itertools.product(range(4), range(3)), \"789456123 0A\", strict=True))\n",
    "DIR_PAD = dict(zip(itertools.product(range(2), range(3)), \" ^A<v>\", strict=True))"
   ]
  },
  {
   "cell_type": "code",
   "execution_count": null,
   "metadata": {},
   "outputs": [],
   "source": [
    "def find_paths(start: str, end: str, pad: Pad) -> list[str]:\n",
    "    \"\"\"Find the shortest path between start and end on a pad.\n",
    "\n",
    "    We group all the horisontal/vertical moves together, to minimize the number of\n",
    "    turns. The returned list will have either 1 or 2 possible paths.\n",
    "    \"\"\"\n",
    "    start_row, start_col = next(k for k, v in pad.items() if v == start)\n",
    "    end_row, end_col = next(k for k, v in pad.items() if v == end)\n",
    "    blank_pos = next(k for k, v in pad.items() if v == \" \")\n",
    "\n",
    "    # Number of steps to move vertically and horizontally\n",
    "    vert = (\"v\" if end_row > start_row else \"^\") * abs(end_row - start_row)\n",
    "    hori = (\">\" if end_col > start_col else \"<\") * abs(end_col - start_col)\n",
    "\n",
    "    # If we only need to move in one direction, return that path\n",
    "    if not vert:\n",
    "        return [f\"A{hori}A\"]\n",
    "    if not hori:\n",
    "        return [f\"A{vert}A\"]\n",
    "\n",
    "    # Add both \"diagonal\" options, unless they pass over the blank\n",
    "    paths = []\n",
    "    if (end_row, start_col) != blank_pos:\n",
    "        paths.append(f\"A{vert}{hori}A\")\n",
    "    if (start_row, end_col) != blank_pos:\n",
    "        paths.append(f\"A{hori}{vert}A\")\n",
    "\n",
    "    return paths"
   ]
  },
  {
   "cell_type": "code",
   "execution_count": null,
   "metadata": {},
   "outputs": [],
   "source": [
    "@cache\n",
    "def robot_moves(sequence, num_layers=2) -> int:\n",
    "    \"\"\"Find the minimum number of robot moves needed to enter a sequence.\"\"\"\n",
    "    if num_layers == 0:\n",
    "        # Subtract 1, since the sequence has an extra A at the beginning\n",
    "        return len(sequence) - 1\n",
    "    num_moves = 0\n",
    "    for start, end in itertools.pairwise(sequence):\n",
    "        num_moves += min(\n",
    "            robot_moves(subseq, num_layers - 1)\n",
    "            for subseq in find_paths(start, end, DIR_PAD)\n",
    "        )\n",
    "    return num_moves"
   ]
  },
  {
   "cell_type": "code",
   "execution_count": null,
   "metadata": {},
   "outputs": [],
   "source": [
    "def num_moves_for_code(door_code: str, num_layers: int = 2) -> int:\n",
    "    \"\"\"Find the minimum number of robot moves needed to enter a door code.\n",
    "\n",
    "    Since every robot move starts and ends with an \"A\", we can compute every move\n",
    "    individually and add them up. Using short sequences, we can cache the results.\n",
    "    \"\"\"\n",
    "    moves = 0\n",
    "    for start, end in itertools.pairwise(\"A\" + door_code):\n",
    "        moves += min(\n",
    "            robot_moves(subseq, num_layers)\n",
    "            for subseq in find_paths(start, end, NUM_PAD)\n",
    "        )\n",
    "    return moves"
   ]
  },
  {
   "cell_type": "markdown",
   "metadata": {},
   "source": [
    "# Part 1\n"
   ]
  },
  {
   "cell_type": "code",
   "execution_count": null,
   "metadata": {},
   "outputs": [],
   "source": [
    "answer = 0\n",
    "for door_code in DOOR_CODES:\n",
    "    answer += num_moves_for_code(door_code) * int(door_code.rstrip(\"A\"))\n",
    "answer"
   ]
  },
  {
   "cell_type": "code",
   "execution_count": null,
   "metadata": {},
   "outputs": [],
   "source": [
    "robot_moves.cache_info()"
   ]
  },
  {
   "cell_type": "markdown",
   "metadata": {},
   "source": [
    "# Part 2\n"
   ]
  },
  {
   "cell_type": "code",
   "execution_count": null,
   "metadata": {},
   "outputs": [],
   "source": [
    "answer = 0\n",
    "for door_code in DOOR_CODES:\n",
    "    answer += num_moves_for_code(door_code, 25) * int(door_code.rstrip(\"A\"))\n",
    "answer"
   ]
  },
  {
   "cell_type": "code",
   "execution_count": null,
   "metadata": {},
   "outputs": [],
   "source": [
    "robot_moves.cache_info()"
   ]
  },
  {
   "cell_type": "code",
   "execution_count": null,
   "metadata": {},
   "outputs": [],
   "source": []
  }
 ],
 "metadata": {
  "kernelspec": {
   "display_name": ".venv",
   "language": "python",
   "name": "python3"
  },
  "language_info": {
   "codemirror_mode": {
    "name": "ipython",
    "version": 3
   },
   "file_extension": ".py",
   "mimetype": "text/x-python",
   "name": "python",
   "nbconvert_exporter": "python",
   "pygments_lexer": "ipython3",
   "version": "3.13.1"
  }
 },
 "nbformat": 4,
 "nbformat_minor": 2
}
