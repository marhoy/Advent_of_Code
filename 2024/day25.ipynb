{
 "cells": [
  {
   "cell_type": "code",
   "execution_count": null,
   "metadata": {},
   "outputs": [],
   "source": [
    "import itertools\n",
    "from pathlib import Path"
   ]
  },
  {
   "cell_type": "code",
   "execution_count": null,
   "metadata": {},
   "outputs": [],
   "source": [
    "keys, locks = [], []\n",
    "\n",
    "items = Path(\"day25_input.txt\").read_text().strip().split(\"\\n\\n\")\n",
    "for item in items:\n",
    "    heights = [-1] * 5\n",
    "    lines = item.split(\"\\n\")\n",
    "    for line in lines:\n",
    "        for col, char in enumerate(line):\n",
    "            if char == \"#\":\n",
    "                heights[col] += 1\n",
    "    if item.startswith(\"#\"):\n",
    "        locks.append(heights)\n",
    "    else:\n",
    "        keys.append(heights)"
   ]
  },
  {
   "cell_type": "markdown",
   "metadata": {},
   "source": [
    "# Part 1\n"
   ]
  },
  {
   "cell_type": "code",
   "execution_count": null,
   "metadata": {},
   "outputs": [],
   "source": [
    "fits = 0\n",
    "for key, lock in itertools.product(keys, locks):\n",
    "    if all(h1 + h2 <= 5 for h1, h2 in zip(key, lock, strict=True)):\n",
    "        fits += 1\n",
    "fits"
   ]
  },
  {
   "cell_type": "code",
   "execution_count": null,
   "metadata": {},
   "outputs": [],
   "source": []
  }
 ],
 "metadata": {
  "kernelspec": {
   "display_name": ".venv",
   "language": "python",
   "name": "python3"
  },
  "language_info": {
   "codemirror_mode": {
    "name": "ipython",
    "version": 3
   },
   "file_extension": ".py",
   "mimetype": "text/x-python",
   "name": "python",
   "nbconvert_exporter": "python",
   "pygments_lexer": "ipython3",
   "version": "3.13.1"
  }
 },
 "nbformat": 4,
 "nbformat_minor": 2
}
