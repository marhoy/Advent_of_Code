{
 "cells": [
  {
   "cell_type": "code",
   "execution_count": null,
   "metadata": {},
   "outputs": [],
   "source": [
    "import itertools\n",
    "from collections import defaultdict\n",
    "from pathlib import Path"
   ]
  },
  {
   "cell_type": "code",
   "execution_count": null,
   "metadata": {},
   "outputs": [],
   "source": [
    "initial_secrets = list(\n",
    "    map(int, Path(\"day22_input.txt\").read_text().strip().split(\"\\n\"))\n",
    ")"
   ]
  },
  {
   "cell_type": "code",
   "execution_count": null,
   "metadata": {},
   "outputs": [],
   "source": [
    "def mix(secret, value):\n",
    "    \"\"\"Mix a value into a secret.\"\"\"\n",
    "    return secret ^ value\n",
    "\n",
    "\n",
    "def prune(secret):\n",
    "    \"\"\"Prune a secret.\"\"\"\n",
    "    return secret % 16777216\n",
    "\n",
    "\n",
    "def evolve(secret: int) -> int:\n",
    "    \"\"\"Evolve a secret.\"\"\"\n",
    "    value = secret * 64\n",
    "    secret = mix(secret, value)\n",
    "    secret = prune(secret)\n",
    "\n",
    "    value = secret // 32\n",
    "    secret = mix(secret, value)\n",
    "    secret = prune(secret)\n",
    "\n",
    "    value = secret * 2048\n",
    "    secret = mix(secret, value)\n",
    "    secret = prune(secret)\n",
    "\n",
    "    return secret  # noqa: RET504"
   ]
  },
  {
   "cell_type": "markdown",
   "metadata": {},
   "source": [
    "# Part 1\n"
   ]
  },
  {
   "cell_type": "code",
   "execution_count": null,
   "metadata": {},
   "outputs": [],
   "source": [
    "secrets = []\n",
    "for secret in initial_secrets:\n",
    "    for _ in range(2000):\n",
    "        secret = evolve(secret)\n",
    "    secrets.append(secret)\n",
    "\n",
    "sum(secrets)"
   ]
  },
  {
   "cell_type": "markdown",
   "metadata": {},
   "source": [
    "# Part 2\n"
   ]
  },
  {
   "cell_type": "code",
   "execution_count": null,
   "metadata": {},
   "outputs": [],
   "source": [
    "bananas = defaultdict(int)\n",
    "for secret in initial_secrets:\n",
    "    prices = [secret % 10]\n",
    "    for _ in range(1999):\n",
    "        secret = evolve(secret)\n",
    "        prices.append(secret % 10)\n",
    "\n",
    "    diffs = [b - a for a, b in itertools.pairwise(prices)]\n",
    "    seen = set()\n",
    "    for i in range(len(diffs) - 3):\n",
    "        sequence = tuple(diffs[i : i + 4])\n",
    "        if sequence not in seen:\n",
    "            seen.add(sequence)\n",
    "            bananas[sequence] += prices[i + 4]"
   ]
  },
  {
   "cell_type": "code",
   "execution_count": null,
   "metadata": {},
   "outputs": [],
   "source": [
    "max(bananas.values())"
   ]
  },
  {
   "cell_type": "code",
   "execution_count": null,
   "metadata": {},
   "outputs": [],
   "source": []
  }
 ],
 "metadata": {
  "kernelspec": {
   "display_name": ".venv",
   "language": "python",
   "name": "python3"
  },
  "language_info": {
   "codemirror_mode": {
    "name": "ipython",
    "version": 3
   },
   "file_extension": ".py",
   "mimetype": "text/x-python",
   "name": "python",
   "nbconvert_exporter": "python",
   "pygments_lexer": "ipython3",
   "version": "3.13.1"
  }
 },
 "nbformat": 4,
 "nbformat_minor": 2
}
