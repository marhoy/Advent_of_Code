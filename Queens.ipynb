{
 "cells": [
  {
   "cell_type": "code",
   "execution_count": null,
   "id": "3c023fb2",
   "metadata": {},
   "outputs": [],
   "source": [
    "def show_board(queens: list[tuple[int, int]], ss=50):\n",
    "    from PIL import Image, ImageDraw, ImageFont\n",
    "    import itertools\n",
    "    N = len(queens)\n",
    "    \n",
    "    # Create chessboard\n",
    "    board = Image.new(\"RGB\", (N, N), color=(248, 208, 164))\n",
    "    pixels = board.load()\n",
    "    for r, c in itertools.product(range(N), range(N)):\n",
    "        if (r + c) % 2:\n",
    "            pixels[r, c] = (198, 142, 84)\n",
    "    board = board.resize((N*ss, N*ss), Image.NEAREST)\n",
    "\n",
    "    # Draw queens\n",
    "    draw = ImageDraw.Draw(board)\n",
    "    font = ImageFont.truetype(\"Apple Symbols\", int(ss*1.15))\n",
    "    for row, col in queens:\n",
    "        draw.text((row*ss, col*ss), \"♛\", (0, 0, 0), font=font)\n",
    "\n",
    "    return board"
   ]
  },
  {
   "cell_type": "code",
   "execution_count": null,
   "id": "90e01a26",
   "metadata": {},
   "outputs": [],
   "source": [
    "import random\n",
    "\n",
    "def position_open(row, col, queens):\n",
    "    for q_row, q_col in queens:\n",
    "        rdiff, cdiff = abs(q_row - row), abs(q_col - col)\n",
    "        if (rdiff == 0) or (cdiff == 0) or (rdiff == cdiff):\n",
    "            return False\n",
    "    return True\n",
    "\n",
    "def place_queens(row=0, queens=None, N=8):\n",
    "    if queens is None:\n",
    "        queens = []\n",
    "    if len(queens) == N:\n",
    "        return queens\n",
    "\n",
    "    for col in random.sample(range(N), N):\n",
    "        if position_open(row, col, queens):\n",
    "            if solution := place_queens(row + 1, queens + [(row, col)], N):\n",
    "                return solution"
   ]
  },
  {
   "cell_type": "code",
   "execution_count": null,
   "id": "c6bf1f0d",
   "metadata": {},
   "outputs": [],
   "source": [
    "show_board(place_queens(N=8), ss=40)"
   ]
  },
  {
   "cell_type": "code",
   "execution_count": null,
   "id": "17146785",
   "metadata": {},
   "outputs": [],
   "source": []
  }
 ],
 "metadata": {
  "kernelspec": {
   "display_name": "Generic_Env",
   "language": "python",
   "name": "generic_env"
  },
  "language_info": {
   "codemirror_mode": {
    "name": "ipython",
    "version": 3
   },
   "file_extension": ".py",
   "mimetype": "text/x-python",
   "name": "python",
   "nbconvert_exporter": "python",
   "pygments_lexer": "ipython3",
   "version": "3.10.1"
  },
  "toc": {
   "base_numbering": 1,
   "nav_menu": {},
   "number_sections": true,
   "sideBar": true,
   "skip_h1_title": false,
   "title_cell": "Table of Contents",
   "title_sidebar": "Contents",
   "toc_cell": false,
   "toc_position": {},
   "toc_section_display": true,
   "toc_window_display": false
  }
 },
 "nbformat": 4,
 "nbformat_minor": 5
}
